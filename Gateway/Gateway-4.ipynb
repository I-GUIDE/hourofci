{
 "cells": [
  {
   "cell_type": "markdown",
   "metadata": {
    "slideshow": {
     "slide_type": "slide"
    }
   },
   "source": [
    "# My Python In the World of Cyberinfrastructure\n",
    "\n",
    "I wrote a few lines of Python... am I using cyberinfrastructure?\n",
    "\n",
    "**BRIAN WE WANT TO RECORD WHAT THEY ARE CLICKING HERE**\n",
    "\n",
    "<a href=\"#/slide-2-0\">Yes, I am!</a>\n",
    "\n",
    "<a href=\"#/slide-1-0\" class=\"navigate-right\">No way!</a>"
   ]
  },
  {
   "cell_type": "markdown",
   "metadata": {
    "slideshow": {
     "slide_type": "slide"
    }
   },
   "source": [
    "## No? Well, actually ...\n",
    "\n",
    "You are using cyberinfrastrucuture! \n",
    "\n",
    "Let's see why..."
   ]
  },
  {
   "cell_type": "markdown",
   "metadata": {
    "slideshow": {
     "slide_type": "slide"
    }
   },
   "source": [
    "## Yes, I am using Cyberinfrastructure!\n",
    "\n",
    "You are using Cyberinfrastructure this very moment. The Hour of CI lessons are built using **computational notebooks** that enables scientists to combine text, figures, executable code, and visualizations - just like your NDVI code example.\n",
    "\n",
    "Think about what went into your 3 lines of NDVI code.\n",
    "\n",
    "```Python\n",
    "from hourofci import *\n",
    "\n",
    "image = readimage(\"satellite-after.tif\")\n",
    "\n",
    "ndvi(image)\n",
    "```\n"
   ]
  },
  {
   "cell_type": "markdown",
   "metadata": {
    "slideshow": {
     "slide_type": "slide"
    }
   },
   "source": [
    "## CI in your 3 lines of code\n",
    "\n",
    "![CI in 3 lines of code](supplementary/ci-in-three-lines.png)"
   ]
  },
  {
   "cell_type": "markdown",
   "metadata": {
    "slideshow": {
     "slide_type": "slide"
    }
   },
   "source": [
    "## Insert a picture \n",
    "\n",
    "TODO: Add picture.\n",
    "\n",
    "The picture will be a complex one that shows the pipeline from building, launching, maintaining the satellite, to the satellite beaming down images and being hosted on a CI resource to be pulled and hosted.\n",
    "Then we will pull in Python and the hourofci module.\n",
    "Next, we will add Jupyter Notebooks/platforms/CI platform for executing the code.\n",
    "\n",
    "To show a CI ecosystem and where they are.\n",
    "\n",
    "If possible try to put the user in the middle of it all.\n"
   ]
  },
  {
   "cell_type": "markdown",
   "metadata": {
    "slideshow": {
     "slide_type": "slide"
    }
   },
   "source": [
    "## Not convinced? \n",
    "\n",
    "We'll prove it!  \n",
    "\n",
    "Currently, you are in 'Presentation mode.' Let's check out the Jupyter Notebook. It is the field notebook for computational and data scientists around the world.\n",
    "\n",
    "Click on the X in the upper left hand corner to exit RISE Presentation mode and see the regular Jupyter Notebook."
   ]
  },
  {
   "cell_type": "markdown",
   "metadata": {
    "slideshow": {
     "slide_type": "skip"
    }
   },
   "source": [
    "# Welcome to Jupyter Notebooks!\n",
    "\n",
    "As you can see, the content you already went through is part of this computational notebook called a **Jupyter Notebook**. Jupyter Notebooks are used by thousands of data and computational scientists around the world. It is free and open source. You can check it out here ([jupyter.org](http://jupyter.org)).\n",
    "\n",
    "There are two important components in a Jupyter Notebook."
   ]
  },
  {
   "cell_type": "markdown",
   "metadata": {
    "slideshow": {
     "slide_type": "skip"
    }
   },
   "source": [
    "# A Markdown cell like this one.\n",
    "\n",
    "Where _you_ **can** ***insert*** ~~formatted~~ text.\n",
    "\n",
    "* Lists\n",
    "* With\n",
    "* Things\n",
    "\n",
    "> Blocks of text\n",
    "\n",
    "1. Other\n",
    "1. Lists\n",
    "4. Using numbers\n",
    "  \n",
    "\n",
    "  "
   ]
  },
  {
   "cell_type": "code",
   "execution_count": 2,
   "metadata": {
    "slideshow": {
     "slide_type": "skip"
    }
   },
   "outputs": [
    {
     "name": "stdout",
     "output_type": "stream",
     "text": [
      "Or a code cell like this one.\n"
     ]
    }
   ],
   "source": [
    "print(\"Or a code cell like this one.\")"
   ]
  },
  {
   "cell_type": "markdown",
   "metadata": {},
   "source": [
    "### To learn more about how to use Jupyter Notebooks.\n",
    "\n",
    "Click on the \"Help\" menu above.\n",
    "Then click \"User Interface Tour\"."
   ]
  },
  {
   "cell_type": "markdown",
   "metadata": {},
   "source": [
    "Now that you have learned about how to use Jupyter Notebooks you should know:\n",
    "\n",
    "Hour of CI lessons are a series of Jupyter Notebooks designed to engage you explore the world of cyberinfrastructure and help you become cyber literate.\n",
    "\n",
    "What is Cyber Literacy? <a href=\"Gateway-5.ipynb\">Click here to move to the next section to learn more!</a>"
   ]
  }
 ],
 "metadata": {
  "celltoolbar": "Slideshow",
  "kernelspec": {
   "display_name": "Python 3",
   "language": "python",
   "name": "python3"
  },
  "language_info": {
   "codemirror_mode": {
    "name": "ipython",
    "version": 3
   },
   "file_extension": ".py",
   "mimetype": "text/x-python",
   "name": "python",
   "nbconvert_exporter": "python",
   "pygments_lexer": "ipython3",
   "version": "3.7.3"
  },
  "rise": {
   "auto_select": "none",
   "autolaunch": true
  }
 },
 "nbformat": 4,
 "nbformat_minor": 2
}
