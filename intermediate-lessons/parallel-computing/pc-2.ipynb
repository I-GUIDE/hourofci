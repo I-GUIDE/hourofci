{
 "cells": [
  {
   "cell_type": "markdown",
   "metadata": {
    "hide_input": true,
    "slideshow": {
     "slide_type": "slide"
    }
   },
   "source": [
    "## Introduction to Parallel Computing\n",
    "### Segment 1 of 5\n",
    "\n",
    "### Haste Does NOT Always Make Waste, Indeed!!\n",
    "\n",
    "### In this segment we will answer:\n",
    "* Why parallel processing?\n",
    "* What are latency and throughput?\n",
    "* What are some of available tools for parallel computing?"
   ]
  },
  {
   "cell_type": "markdown",
   "metadata": {
    "slideshow": {
     "slide_type": "slide"
    }
   },
   "source": [
    "## Thank you for helping our study\n",
    "\n",
    "\n",
    "<a href=\"#/slide-1-0\" class=\"navigate-right\" style=\"background-color:blue;color:white;padding:8px;margin:2px;font-weight:bold;\">Continue with the lesson</a>\n",
    "\n",
    "Throughout this lesson you will see reminders, like the one below, to ensure that all participants understand that they are in a voluntary research study.\n",
    "\n",
    "### Reminder\n",
    "\n",
    "<font size=\"+1\">\n",
    "\n",
    "By continuing with this lesson you are granting your permission to take part in this research study for the Hour of Cyberinfrastructure: Developing Cyber Literacy for GIScience project. In this study, you will be learning about cyberinfrastructure and related concepts using a web-based platform that will take approximately one hour per lesson. Participation in this study is voluntary.\n",
    "\n",
    "Participants in this research must be 18 years or older. If you are under the age of 18 then please exit this webpage or navigate to another website such as the Hour of Code at https://hourofcode.com, which is designed for K-12 students.\n",
    "\n",
    "If you are not interested in participating please exit the browser or navigate to this website: http://www.umn.edu. Your participation is voluntary and you are free to stop the lesson at any time.\n",
    "\n",
    "For the full description please navigate to this website: <a href=\"../../gateway-lesson/gateway/gateway-1.ipynb\">Gateway Lesson Research Study Permission</a>.\n",
    "\n",
    "</font>"
   ]
  },
  {
   "cell_type": "code",
   "execution_count": null,
   "metadata": {
    "hide_input": false,
    "init_cell": true,
    "slideshow": {
     "slide_type": "skip"
    },
    "tags": [
     "Hide"
    ]
   },
   "outputs": [],
   "source": [
    "# This code cell starts the necessary setup for Hour of CI lesson notebooks.\n",
    "# First, it enables users to hide and unhide code by producing a 'Toggle raw code' button below.\n",
    "# Second, it imports the hourofci package, which is necessary for lessons and interactive Jupyter Widgets.\n",
    "# Third, it helps hide/control other aspects of Jupyter Notebooks to improve the user experience\n",
    "# This is an initialization cell\n",
    "# It is not displayed because the Slide Type is 'Skip'\n",
    "\n",
    "from IPython.display import HTML, IFrame, Javascript, display\n",
    "from ipywidgets import interactive\n",
    "import ipywidgets as widgets\n",
    "from ipywidgets import Layout\n",
    "\n",
    "import getpass # This library allows us to get the username (User agent string)\n",
    "\n",
    "# import package for hourofci project\n",
    "import sys\n",
    "sys.path.append('../../supplementary') # relative path (may change depending on the location of the lesson notebook)\n",
    "import hourofci\n",
    "\n",
    "import warnings\n",
    "warnings.filterwarnings('ignore') # Hide warnings\n",
    "\n",
    "# load javascript to initialize/hide cells, get user agent string, and hide output indicator\n",
    "# hide code by introducing a toggle button \"Toggle raw code\"\n",
    "# HTML(''' \n",
    "#     <script type=\"text/javascript\" src=\\\"../../supplementary/js/custom.js\\\"></script>\n",
    "    \n",
    "#     <input id=\"toggle_code\" type=\"button\" value=\"Toggle raw code\">\n",
    "# ''')\n",
    "\n",
    "HTML(''' \n",
    "    <script type=\"text/javascript\" src=\\\"../../supplementary/js/custom.js\\\"></script>\n",
    "    \n",
    "    <style>\n",
    "        .output_prompt{opacity:0;}\n",
    "    </style>\n",
    "    \n",
    "    <input id=\"toggle_code\" type=\"button\" value=\"Toggle raw code\">\n",
    "''')\n"
   ]
  },
  {
   "cell_type": "markdown",
   "metadata": {
    "slideshow": {
     "slide_type": "slide"
    }
   },
   "source": [
    "# Why Parallel Computing?\n",
    "\n",
    "* **Running out of memory**\n",
    "\n",
    "If you usually work with large datasets or do heavy analyses with your computer, you likely have seen the following error message popping up abruptly:\n",
    "\n",
    "<center><img src=\"supplementary/memoryerror.jpg\" width=300></center>\n",
    "Needless to say how frustrating it is to have your computation cancelled after hours or even weeks of processing!<br/><br/>\n",
    "\n",
    "* **Seeing our results FASTER!**\n",
    "\n",
    "Parallel computing can reduce the time of your (big) computation of your (big) data from weeks to a few hours! \n"
   ]
  },
  {
   "cell_type": "markdown",
   "metadata": {
    "slideshow": {
     "slide_type": "slide"
    }
   },
   "source": [
    "## Recap from the beginners' lesson\n",
    "\n",
    "In the <a href=\"../../beginner-lessons/parallel-computing/pc-1.ipynb\">beginner parallel computing lesson</a> we saw how employing two gardeners instead of one increased the speed of the planting work significantly. \n",
    "\n",
    "Now, in this intermediate lesson we will go through the computation parallelization using multiple cores of the computer's central processing units (CPUs). \n",
    "\n",
    "\n",
    "<!-- <img src = https://i.makeagif.com/media/11-30-2015/qqZDNa.gif> -->\n",
    "\n",
    "\n",
    "<center><img src=https://thumbs.gfycat.com/DependableOldfashionedGibbon-size_restricted.gif></center>"
   ]
  },
  {
   "cell_type": "markdown",
   "metadata": {
    "slideshow": {
     "slide_type": "slide"
    }
   },
   "source": [
    "## What to optimize to get the work done FASTER?\n",
    "\n",
    "There are two major aproaches the hardware designers take to increase the computation speed in computers: \n",
    "1. Producing stronger CPUs with faster clock == shorter processing time for each computation. \n",
    "2. Hiring multiple simpler processors to work in parallel. \n",
    "\n",
    "\n"
   ]
  },
  {
   "cell_type": "markdown",
   "metadata": {
    "slideshow": {
     "slide_type": "slide"
    }
   },
   "source": [
    "## Why the world is getting parallel?! \n",
    "\n",
    "Although the technology has been successfull in reducing the size of the CPUs over time, the clock frequency (processing speed) of the CPUs do not seem optimal to get any faster. It's becase increasing the clock speed of the CPUs will increase the power consumption and consequently the need for much stronger cooling systems. This means more cost, less environmental friendly, and therefore, less favorable! \n",
    "\n",
    "<table>\n",
    "    <tr>\n",
    "        <td>\n",
    "<img src=\"supplementary/cpu_size.png\" width=700>\n",
    "            <center>CPU size over time</center>\n",
    "        </td>\n",
    "        <td>\n",
    "<img src=\"supplementary/clock_freq.png\" width=700>\n",
    "            <center>CPU clock speed over time</center>\n",
    "        </td>\n",
    "    </tr>\n",
    "</table>\n",
    "    \n",
    "\n",
    "Therefore, the technology has been leaning toward making **smaller** and **more power-efficient** processing units, but **more of them** to work in parallel. That's the philasophy of Graphical Processing Units (GPUs)! \n",
    "\n",
    "So, in this lesson we will focus on employing multiple computational cores at the same time! \n",
    "\n",
    "\n",
    "Image source: http://cpudb.stanford.edu/visualize\n"
   ]
  },
  {
   "cell_type": "markdown",
   "metadata": {
    "slideshow": {
     "slide_type": "slide"
    }
   },
   "source": [
    "## What are we optimizing for a faster performance?\n",
    "\n",
    "But there are two approaches of increasing the processing performance:\n",
    "   1. **Latency Optimization**\n",
    "   2. **Throughput Optimization**\n",
    "   <br/>\n",
    "    <br/>\n",
    "    \n",
    "- **Latency Optimization** is minimizing the time it takes for a processor to complete a computation task. \n",
    "- **Throughput Optimization** is maximizing the number of computation tasks per time unit. \n",
    "\n",
    "Although these two seem similar, they are indeed different. Let's see how! "
   ]
  },
  {
   "cell_type": "markdown",
   "metadata": {
    "slideshow": {
     "slide_type": "slide"
    }
   },
   "source": [
    "## What do we mean by latency and throughput?!\n",
    "Imaging you are staying in a line for checkout at a grocery store.\n",
    "\n",
    "It becomes so boring to wait in a long queue to checkout, specially if it's a Saturday! Ugh! \n",
    "<center><img src = \"supplementary/queue.png\" width = 200></center>\n",
    "\n",
    "Unfortunately, this problem might persist because the optimization targets of you (the customer) and the grocery store managers do not align! You try to minimize your waiting time on a checkout line and the grocery store managers try to maximize the number of customers each cashier processes, so, all employees have work to do! In other words, you are optimizing **latency** and the grocery store is optimizing the **throughput**. \n",
    "\n"
   ]
  },
  {
   "cell_type": "markdown",
   "metadata": {
    "slideshow": {
     "slide_type": "slide"
    }
   },
   "source": [
    "## Why do we care about throughput and latency?!\n",
    "\n",
    "Ok, so far we learned that there are two different approach to optimize the processor performances, their speed (latency), and the amount of data they process per time unit (thrughput). \n",
    "\n",
    "But the question is why learning about throughput and latency matters? Well, to answer this question let's make an example! <br/>\n",
    "Assume that Cargill company in Wayzata, MN has 6 boxes to ship to Los Angles Port (~1865 miles). \n",
    "\n",
    "**Senario 1:** Use a fast sport car to do the transportation, it takes 3 time units to get to LA Port, however, it only has capacity to ship 2 boxes per travel.  \n",
    "**Senario 2:** Use a truck that takes 6 time units to get to the destination but can take all 6 boxes in one go.\n",
    "<center><img src = \"supplementary/cargill.gif\" width=600></center>\n",
    "\n",
    "\n"
   ]
  },
  {
   "cell_type": "markdown",
   "metadata": {
    "slideshow": {
     "slide_type": "slide"
    }
   },
   "source": [
    "\n",
    "Now, let's do the math and calculate the latency and the throughput for each senario:\n",
    "\n",
    "Sport car: \n",
    "- Latency: 3 time unit\n",
    "- Throughput: 2/3 = 0.66 box/time unit\n",
    "\n",
    "Truck:\n",
    "- Latency: 6 time unit\n",
    "- Throughput: 6/6 = 1 box/time unit\n",
    "\n",
    "We can see that the first senario has much smaller latency (good!) and also smaller throughput (bad!) and the second senario gives a much larger latency (bad!) but larger throughput (good!). <br/> \n",
    "As obvious from the Cargill example, the second senario wins. But what if we use 3 sport cars at the same time?\n",
    "\n",
    "Using these measures we can design a more efficient processing framework according to our problem. \n"
   ]
  },
  {
   "cell_type": "markdown",
   "metadata": {
    "slideshow": {
     "slide_type": "slide"
    }
   },
   "source": [
    "# Choosing a parallel computing tool\n",
    "\n",
    "Multiple tools have been developed in recent decade that provide a parallel computing framework. In this lesson we name and introduce **Apache Spark**, **Dask**, and **Ray**. \n",
    "<center>\n",
    "    <table>\n",
    "        <tr style=\"background-color:white;border:solid\">\n",
    "            <td style=\"border:solid;width:30%;\">\n",
    "                <img src=\"supplementary/spark_logo.png\" width=200>\n",
    "            </td>\n",
    "            <td style=\"border:solid;width:30%;\">\n",
    "                <img src = \"supplementary/dask_logo.png\" width = 250>\n",
    "            </td>\n",
    "            <td style=\"border:solid;width:30%;\">\n",
    "                <img src = \"supplementary/ray_logo2.png\" width = 250>\n",
    "            </td>\n",
    "        </tr>\n",
    "    </table>\n",
    "</center>\n",
    "   \n",
    "\n",
    "\n",
    "\n"
   ]
  },
  {
   "cell_type": "markdown",
   "metadata": {
    "slideshow": {
     "slide_type": "slide"
    }
   },
   "source": [
    "# Comparing the origin of the three pc tools: \n",
    "\n",
    "### Origin\n",
    "<br/>\n",
    "<center>\n",
    "    <table style=\"background-color:white;border:solid;\">\n",
    "        <tr style=\"background-color:white;border:solid;\">\n",
    "            <td style=\"border:solid;width:30%;text-align:left;\">\n",
    "                <center><img src = \"supplementary/spark_logo.png\" width = 100 height = 100></center>\n",
    "                <ul>\n",
    "                    <li>\n",
    "                        Distributed computing framework based on MapReduce<sup>*</sup>\n",
    "                    </li>\n",
    "                    <li>\n",
    "    Developed by: U.C. Berkeley, 2010\n",
    "                    </li>\n",
    "                    <li>\n",
    "    Created for big data and analytics\n",
    "                    </li>\n",
    "                    <li>\n",
    "    Successor of: Hadoop ecosystem\n",
    "                    </li>\n",
    "                    <li>\n",
    "                        Available in: (initially in) Scala, Java, SQL, Python, R, C#, F#\n",
    "                    </li>\n",
    "                    <li>\n",
    "                        Official Website: <a href=https://spark.apache.org>https://spark.apache.org</a>\n",
    "                    </li>\n",
    "                </ul>\n",
    "            </td>\n",
    "            <td style=\"border:solid;width:30%;text-align:left;\">\n",
    "                <center><img src = \"supplementary/dask_logo.png\" width = 100 height = 100></center>\n",
    "                <ul>\n",
    "                    <li>\n",
    "    Parallel computing platform based on task scheduling\n",
    "                    </li>\n",
    "                    <li>\n",
    "    Anaconda, 2015\n",
    "                    </li>\n",
    "                    <li>\n",
    "    Developed for scaling Python code/packages\n",
    "                    </li>\n",
    "                    <li>\n",
    "                        Available in: Python\n",
    "                    </li>\n",
    "                    <li>\n",
    "                        Official Website: <a href=https://dask.org>https://dask.org</a>\n",
    "                    </li>\n",
    "                </ul>\n",
    "            </td>\n",
    "            <td style=\"border:solid;width:30%;text-align:left;\">\n",
    "                <center><img src = \"supplementary/ray_logo2.png\" width = 100 height = 100></center>\n",
    "                <ul>\n",
    "                    <li>\n",
    "    Distributed computing based on tasks/actors\n",
    "                    </li>\n",
    "                    <li>\n",
    "    U.C. Berkeley, 2016\n",
    "                    </li>\n",
    "                    <li>\n",
    "    Initially focused on deep learning\n",
    "                    </li>\n",
    "                    <li>\n",
    "                        APIs: (initially in) C++/Python, Java, Python\n",
    "                    </li>\n",
    "                    <li>\n",
    "                        Official Website: <a href=https://www.ray.io>https://www.ray.io</a>\n",
    "                    </li>\n",
    "                </ul>\n",
    "            </td>\n",
    "        </tr>\n",
    "    </table>\n",
    "</center>\n",
    "<sup>*</sup><i style=\"font-size:70%;\">Don't worry if you have no idea what MapReduce is! You will learn it in the upcomming segments!</i>\n"
   ]
  },
  {
   "cell_type": "markdown",
   "metadata": {
    "slideshow": {
     "slide_type": "slide"
    }
   },
   "source": [
    "# Comparing the origin of the three pc tools: \n",
    "\n",
    "### Popularity\n",
    "<br/>\n",
    "To get a sense of the popularity of these three packages we will look at the number of times these packages have been installed using pip command (<a href=https://pypistats.org>source</a>). Please note that as mentioned in the previous slide, these frameworks have been implemented in multiple different languages but here we only use the Python version of them to check the popularity. The statistics shown below are as of September 13, 2022. \n",
    "\n",
    "<center>\n",
    "    <table style=\"background-color:white;border:solid;\">\n",
    "        <tr style=\"background-color:white;border:solid;\">\n",
    "            <td style=\"border:solid;width:30%;text-align:left;\">\n",
    "                <center><img src = \"supplementary/spark_logo.png\" width = 100 height = 100></center>\n",
    "                <ul>\n",
    "                    <li>\n",
    "Downloads last day: 893K\n",
    "                    </li>\n",
    "                    <li>\n",
    "Downloads last week: 5.8M\n",
    "                    </li>\n",
    "                    <li>\n",
    "Downloads last month: 24M\n",
    "                    </li>\n",
    "                </ul>\n",
    "            </td>\n",
    "            <td style=\"border:solid;width:30%;text-align:left;\">\n",
    "                <center><img src = \"supplementary/dask_logo.png\" width = 100 height = 100></center>\n",
    "                <ul>\n",
    "                    <li>\n",
    "Downloads last day: 236K\n",
    "                    </li>\n",
    "                    <li>\n",
    "Downloads last week: 1.4M\n",
    "                    </li>\n",
    "                    <li>\n",
    "Downloads last month: 7M\n",
    "                    </li>\n",
    "                </ul>\n",
    "            </td>\n",
    "            <td style=\"border:solid;width:30%;text-align:left;\">\n",
    "                <center><img src = \"supplementary/ray_logo2.png\" width = 100 height = 100></center>\n",
    "                <ul>\n",
    "                    <li>\n",
    "Downloads last day: 66K\n",
    "                    </li>\n",
    "                    <li>\n",
    "Downloads last week: 477K\n",
    "                    </li>\n",
    "                    <li>\n",
    "Downloads last month: 1.8M\n",
    "                    </li>\n",
    "                </ul>\n",
    "            </td>\n",
    "        </tr>\n",
    "    </table>\n",
    "</center>\n",
    "\n"
   ]
  },
  {
   "cell_type": "markdown",
   "metadata": {
    "slideshow": {
     "slide_type": "slide"
    }
   },
   "source": [
    "## Apache Spark\n",
    "\n",
    "As shown in the previous slide, Apache Spark is the most popular parallel computing framework among the three. Therefore, we will be focusing on this package till the end of this lesson. Please note that the popularity is not indeed it's only advantage. There are many pros come with Apache Spark. You can review some of them <a href=https://towardsdatascience.com/the-what-why-and-when-of-apache-spark-6c27abc19527>here</a>.  \n",
    "\n",
    "Great! Now, let's delve into the Apache Spark in the next segment!"
   ]
  },
  {
   "cell_type": "markdown",
   "metadata": {},
   "source": [
    "\n",
    "<font size=\"+1\"><a style=\"background-color:blue;color:white;padding:12px;margin:10px;font-weight:bold;\" href=\"pc-3.ipynb\">Click here to go to the next segment.</a></font>"
   ]
  }
 ],
 "metadata": {
  "celltoolbar": "Slideshow",
  "kernelspec": {
   "display_name": "Python 3",
   "language": "python",
   "name": "python3"
  },
  "language_info": {
   "codemirror_mode": {
    "name": "ipython",
    "version": 3
   },
   "file_extension": ".py",
   "mimetype": "text/x-python",
   "name": "python",
   "nbconvert_exporter": "python",
   "pygments_lexer": "ipython3",
   "version": "3.8.1"
  },
  "rise": {
   "autolaunch": true,
   "overlay": "<div class='hciheader'></div><div class='hcifooter'></div>",
   "scroll": true
  }
 },
 "nbformat": 4,
 "nbformat_minor": 4
}
