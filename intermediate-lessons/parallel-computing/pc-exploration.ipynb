{
 "cells": [
  {
   "cell_type": "markdown",
   "metadata": {},
   "source": [
    "## Intermediate Parallel Computing\n",
    "\n",
    "### Segment 6 of 6\n",
    "\n",
    "# Exploration\n",
    "\n",
    ">### I'm a coffeeholic; where can I drink an Espresso in St. Paul with a Mississippi river view?!\n",
    "\n",
    "\n",
    "*Lesson Developer: Mohsen Ahmadkhani, ahmad178@umn.edu*"
   ]
  },
  {
   "cell_type": "markdown",
   "metadata": {},
   "source": [
    "## Reminder\n",
    "<a href=\"#/slide-2-0\" class=\"navigate-right\" style=\"background-color:blue;color:white;padding:8px;margin:2px;font-weight:bold;\">Continue with the lesson</a>\n",
    "\n",
    "<br>\n",
    "</br>\n",
    "<font size=\"+1\">\n",
    "\n",
    "By continuing with this lesson you are granting your permission to take part in this research study for the Hour of Cyberinfrastructure: Developing Cyber Literacy for GIScience project. In this study, you will be learning about cyberinfrastructure and related concepts using a web-based platform that will take approximately one hour per lesson. Participation in this study is voluntary.\n",
    "\n",
    "Participants in this research must be 18 years or older. If you are under the age of 18 then please exit this webpage or navigate to another website such as the Hour of Code at https://hourofcode.com, which is designed for K-12 students.\n",
    "\n",
    "If you are not interested in participating please exit the browser or navigate to this website: http://www.umn.edu. Your participation is voluntary and you are free to stop the lesson at any time.\n",
    "\n",
    "For the full description please navigate to this website: <a href=\"../../gateway-lesson/gateway/gateway-1.ipynb\">Gateway Lesson Research Study Permission</a>.\n",
    "\n",
    "</font>"
   ]
  },
  {
   "cell_type": "code",
   "execution_count": null,
   "metadata": {
    "hide_input": false,
    "init_cell": true,
    "slideshow": {
     "slide_type": "skip"
    },
    "tags": [
     "Hide"
    ]
   },
   "outputs": [],
   "source": [
    "# This code cell starts the necessary setup for Hour of CI lesson notebooks.\n",
    "# First, it enables users to hide and unhide code by producing a 'Toggle raw code' button below.\n",
    "# Second, it imports the hourofci package, which is necessary for lessons and interactive Jupyter Widgets.\n",
    "# Third, it helps hide/control other aspects of Jupyter Notebooks to improve the user experience\n",
    "# This is an initialization cell\n",
    "# It is not displayed because the Slide Type is 'Skip'\n",
    "\n",
    "from IPython.display import HTML, IFrame, Javascript, display\n",
    "from ipywidgets import interactive\n",
    "import ipywidgets as widgets\n",
    "from ipywidgets import Layout\n",
    "\n",
    "import getpass # This library allows us to get the username (User agent string)\n",
    "\n",
    "# import package for hourofci project\n",
    "import sys\n",
    "sys.path.append('../../supplementary') # relative path (may change depending on the location of the lesson notebook)\n",
    "import hourofci\n",
    "\n",
    "# load javascript to initialize/hide cells, get user agent string, and hide output indicator\n",
    "# hide code by introducing a toggle button \"Toggle raw code\"\n",
    "HTML(''' \n",
    "    <script type=\"text/javascript\" src=\\\"../../supplementary/js/custom.js\\\"></script>\n",
    "    \n",
    "    <style>\n",
    "        .output_prompt{opacity:0;}\n",
    "    </style>\n",
    "    \n",
    "    <input id=\"toggle_code\" type=\"button\" value=\"Toggle raw code\">\n",
    "''')"
   ]
  },
  {
   "cell_type": "markdown",
   "metadata": {},
   "source": [
    "\n",
    "# Demo Problem:\n",
    ">## What cafes in St Paul, MN are in 50-meter neighborhood of Mississippi river?\n",
    "\n",
    "To solve this problem, we will need the following datasets: \n",
    "1. Rivers and lake centerlines\n",
    "2. Cafes in St. Paul\n",
    "\n",
    "\n",
    "To access these datasets we will import the first dataset as we downloaded the previous segment. For the second dataset we will get it from OpenStreetMap liberary. \n",
    "\n",
    "\n",
    "First let's import the required packages and build our spatially enabled Spark Session. "
   ]
  },
  {
   "cell_type": "code",
   "execution_count": null,
   "metadata": {},
   "outputs": [],
   "source": [
    "from pyspark.sql import SparkSession\n",
    "from sedona.register import SedonaRegistrator\n",
    "from sedona.utils import SedonaKryoRegistrator, KryoSerializer\n",
    "import geopandas as gpd\n",
    "from ipyleaflet import Map, GeoData"
   ]
  },
  {
   "cell_type": "code",
   "execution_count": null,
   "metadata": {},
   "outputs": [],
   "source": [
    "spark = SparkSession.\\\n",
    "    builder.\\\n",
    "    master(\"local[*]\").\\\n",
    "    appName(\"Spatial Spark Demo\").\\\n",
    "    config(\"spark.serializer\", KryoSerializer.getName).\\\n",
    "    config(\"spark.kryo.registrator\", SedonaKryoRegistrator.getName) .\\\n",
    "    config(\"spark.jars.packages\", \"org.apache.sedona:sedona-python-adapter-3.0_2.12:1.2.1-incubating,org.datasyslab:geotools-wrapper:1.1.0-25.2\") .\\\n",
    "    getOrCreate()\n",
    "\n",
    "SedonaRegistrator.registerAll(spark)\n",
    "sc = spark.sparkContext\n"
   ]
  },
  {
   "cell_type": "markdown",
   "metadata": {},
   "source": [
    "Let's read in the rivers' shapefile using geopandas."
   ]
  },
  {
   "cell_type": "code",
   "execution_count": null,
   "metadata": {},
   "outputs": [],
   "source": [
    "rivers = gpd.read_file('ne_10m_rivers_lake_centerlines.shp')\n",
    "rivers = rivers[['featurecla', 'name', 'name_alt', 'rivernum', 'geometry']]\n",
    "rivers_layer = GeoData(geo_dataframe = rivers, style={'color':'blue'})"
   ]
  },
  {
   "cell_type": "markdown",
   "metadata": {},
   "source": [
    "Now, we download the point dataset of coffee shops in the city of St. Paul using the `osmnx` package.  "
   ]
  },
  {
   "cell_type": "code",
   "execution_count": null,
   "metadata": {},
   "outputs": [],
   "source": [
    "import osmnx as ox \n",
    "\n",
    "place = 'St Paul, MN'\n",
    "tags = {'amenity':'cafe', 'cuisine':'coffee-shop'}  \n",
    "coffee_shops = ox.geometries_from_place(place, tags) \n",
    "coffee_shops = coffee_shops.to_crs('epsg:4326')[['name', 'geometry']]\n",
    "coffee_shops = coffee_shops[coffee_shops['geometry'].type == 'Point']\n",
    "coffee_shops.head()"
   ]
  },
  {
   "cell_type": "markdown",
   "metadata": {},
   "source": [
    "Let's look at the coffee shops."
   ]
  },
  {
   "cell_type": "code",
   "execution_count": null,
   "metadata": {},
   "outputs": [],
   "source": [
    "coffee_shops_layer = GeoData(geo_dataframe = coffee_shops, point_style={'color': 'black'})\n",
    "mymap3 = Map(center=(44.96,-93.13), zoom = 11)\n",
    "mymap3.add_layer(coffee_shops_layer)\n",
    "mymap3"
   ]
  },
  {
   "cell_type": "markdown",
   "metadata": {},
   "source": [
    "### Converting GeoPandas to Apache Sedona\n"
   ]
  },
  {
   "cell_type": "code",
   "execution_count": null,
   "metadata": {},
   "outputs": [],
   "source": [
    "rivers_spdf = spark.createDataFrame(rivers)\n",
    "rivers_spdf.printSchema()"
   ]
  },
  {
   "cell_type": "code",
   "execution_count": null,
   "metadata": {},
   "outputs": [],
   "source": [
    "coffee_shops_spdf = spark.createDataFrame(coffee_shops)\n",
    "coffee_shops_spdf.printSchema()"
   ]
  },
  {
   "cell_type": "markdown",
   "metadata": {},
   "source": [
    "### Creating SQL Views\n",
    "\n",
    "Next, we create two Views named `rivers` and `Coffee shops`. We will query from these two tables. "
   ]
  },
  {
   "cell_type": "code",
   "execution_count": null,
   "metadata": {},
   "outputs": [],
   "source": [
    "rivers_spdf.createOrReplaceTempView(\"rivers\")\n",
    "coffee_shops_spdf.createOrReplaceTempView(\"cafes\")"
   ]
  },
  {
   "cell_type": "markdown",
   "metadata": {},
   "source": [
    "### Solution\n",
    "One way to answer the question is the following spatial query. We first want to build a budder of 50 meters around each cafe and then see which of them intersect with the Mississippi river. \n",
    "\n",
    ">```sql\n",
    "SELECT c.name cafe, c.geometry as geom\n",
    "FROM cafes c, rivers r\n",
    "WHERE r.name = 'Mississippi' and ST_INTERSECTS(ST_TRANSFORM(r.geometry, 'epsg:4326','epsg:2180'), ST_BUFFER(ST_TRANSFORM(c.geometry, 'epsg:4326','epsg:2180'), 50))\n",
    "\n",
    "\n",
    "In this query we used `ST_TRANSFORM` function to reproject our data to a projection system that uses meters as length unit.  Then we applied `ST_BUFFER` function to build a buffer of 50 meters around each cafe. Finally, we used `ST_INTERSECTS` to see if the Mississipi river intersects with the buffers. Let's execute this query in the next cell. "
   ]
  },
  {
   "cell_type": "code",
   "execution_count": null,
   "metadata": {},
   "outputs": [],
   "source": [
    "riverside_cafes = spark.sql(\"\"\"\n",
    "SELECT c.name cafe, c.geometry as geom\n",
    "FROM cafes c, rivers r\n",
    "WHERE r.name = 'Mississippi' and ST_INTERSECTS(ST_TRANSFORM(r.geometry, 'epsg:4326','epsg:2180'), ST_BUFFER(ST_TRANSFORM(c.geometry, 'epsg:4326','epsg:2180'), 50))\n",
    "\"\"\")\n",
    "\n",
    "riverside_cafes.show()"
   ]
  },
  {
   "cell_type": "markdown",
   "metadata": {},
   "source": [
    "Sounds good! Now, you know which cafe to go when you crave for a triple-shot Espresso with an outlook of Mississippi river in St Paul!!\n",
    "\n",
    "Do you want to see them on the map?! Run the cell below. \n",
    "\n",
    "The queried cafes are colored in red and the others remained black. Also, the Mississippi river is displayed in blue. "
   ]
  },
  {
   "cell_type": "code",
   "execution_count": null,
   "metadata": {},
   "outputs": [],
   "source": [
    "\n",
    "riverside_cafesdf = riverside_cafes.toPandas()\n",
    "riverside_cafesdf = gpd.GeoDataFrame(riverside_cafesdf, geometry=\"geom\")\n",
    "riverside_cafes_layer = GeoData(geo_dataframe = riverside_cafesdf, point_style={'color': 'red'})\n",
    "\n",
    "coffee_shops_layer = GeoData(geo_dataframe = coffee_shops, point_style={'color': 'black'})\n",
    "\n",
    "mymap4 = Map(center=(44.96,-93.13), zoom = 11)\n",
    "mymap4.add_layer(coffee_shops_layer)\n",
    "mymap4.add_layer(rivers_layer)\n",
    "mymap4.add_layer(riverside_cafes_layer)\n",
    "mymap4"
   ]
  },
  {
   "cell_type": "markdown",
   "metadata": {},
   "source": [
    "## What Else?\n",
    "\n",
    "Apache Sedona enables tens of other spatial functions like centroid, distance, transformation, buffer and many more that we cannot cover them all here. \n",
    "\n",
    "You can see a list of all available spatial functions at https://sedona.apache.org/api/sql/Function. "
   ]
  },
  {
   "cell_type": "markdown",
   "metadata": {},
   "source": [
    "# Congratulations!\n",
    "\n",
    "\n",
    "**You have finished an Hour of CI!**\n",
    "\n",
    "\n",
    "But, before you go ... \n",
    "\n",
    "1. Please fill out a very brief questionnaire to provide feedback and help us improve the Hour of CI lessons. It is fast and your feedback is very important to let us know what you learned and how we can improve the lessons in the future.\n",
    "2. If you would like a certificate, then please type your name below and click \"Create Certificate\" and you will be presented with a PDF certificate.\n",
    "\n",
    "<font size=\"+1\"><a style=\"background-color:blue;color:white;padding:12px;margin:10px;font-weight:bold;\" href=\"https://forms.gle/JUUBm76rLB8iYppN7\">Take the questionnaire and provide feedback</a></font>"
   ]
  },
  {
   "cell_type": "code",
   "execution_count": null,
   "metadata": {
    "hide_input": true,
    "slideshow": {
     "slide_type": "-"
    },
    "tags": [
     "Hide",
     "Init"
    ]
   },
   "outputs": [],
   "source": [
    "\n",
    "# This code cell loads the Interact Textbox that will ask users for their name\n",
    "# Once they click \"Create Certificate\" then it will add their name to the certificate template\n",
    "# And present them a PDF certificate\n",
    "from PIL import Image\n",
    "from PIL import ImageFont\n",
    "from PIL import ImageDraw\n",
    "\n",
    "from ipywidgets import interact\n",
    "\n",
    "def make_cert(learner_name, lesson_name):\n",
    "    cert_filename = 'hourofci_certificate.pdf'\n",
    "\n",
    "    img = Image.open(\"../../supplementary/hci-certificate-template.jpg\")\n",
    "    draw = ImageDraw.Draw(img)\n",
    "\n",
    "    cert_font   = ImageFont.truetype('../../supplementary/cruft.ttf', 150)\n",
    "    cert_fontsm = ImageFont.truetype('../../supplementary/cruft.ttf', 80)\n",
    "    \n",
    "    _,_,w,h = cert_font.getbbox(learner_name)  \n",
    "    draw.text( xy = (1650-w/2,1100-h/2), text = learner_name, fill=(0,0,0),font=cert_font)\n",
    "    \n",
    "    _,_,w,h = cert_fontsm.getbbox(lesson_name)\n",
    "    draw.text( xy = (1650-w/2,1100-h/2 + 750), text = lesson_name, fill=(0,0,0),font=cert_fontsm)\n",
    "    \n",
    "    img.save(cert_filename, \"PDF\", resolution=100.0)   \n",
    "    return cert_filename\n",
    "\n",
    "\n",
    "interact_cert=interact.options(manual=True, manual_name=\"Create Certificate\")\n",
    "\n",
    "@interact_cert(name=\"Your Name\")\n",
    "def f(name):\n",
    "    print(\"Congratulations\",name)\n",
    "    filename = make_cert(name, 'Intermediate Parallel Computing')\n",
    "    print(\"Download your certificate by clicking the link below.\")\n"
   ]
  },
  {
   "cell_type": "markdown",
   "metadata": {},
   "source": [
    "<font size=\"+1\"><a style=\"background-color:blue;color:white;padding:12px;margin:10px;font-weight:bold;\" href=\"hourofci_certificate.pdf?download=1\" download=\"hourofci_certificate.pdf\">Download your certificate</a></font>"
   ]
  }
 ],
 "metadata": {
  "celltoolbar": "Edit Metadata",
  "kernelspec": {
   "display_name": "Python 3 (ipykernel)",
   "language": "python",
   "name": "python3"
  },
  "language_info": {
   "codemirror_mode": {
    "name": "ipython",
    "version": 3
   },
   "file_extension": ".py",
   "mimetype": "text/x-python",
   "name": "python",
   "nbconvert_exporter": "python",
   "pygments_lexer": "ipython3",
   "version": "3.8.1"
  }
 },
 "nbformat": 4,
 "nbformat_minor": 2
}
