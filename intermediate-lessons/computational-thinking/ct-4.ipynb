{
 "cells": [
  {
   "cell_type": "markdown",
   "metadata": {
    "slideshow": {
     "slide_type": "slide"
    }
   },
   "source": [
    "### Computational Thinking\n",
    "\n",
    "## Segment 3 of 5\n",
    "# ..."
   ]
  },
  {
   "cell_type": "markdown",
   "metadata": {
    "slideshow": {
     "slide_type": "slide"
    }
   },
   "source": [
    "Using computational thinking to address barriers to accessibility regarding housing and infrastructure is a growing need. Two important, and distinctly different, terms when learning about barriers to accessibility are **equality** and **equity**. <center><img width=500 alt=\"Picture of people reaching for apples on various podeum heights\" src=\"supplementary/equity.jpg\"></center>\n",
    "\n",
    "<font size=\"-2\"> Image courtesy of the __[Minnesota Population Control Agency](http://www.flickr.com/photos/mpcaphotos/31655988501)__.</font>\n",
    "\n",
    "Equality is when everyone is treated the same way.  Equity means everyone is given what they need to reach success.\n",
    "\n",
    "What does this image show us about **equality** and **equity**?"
   ]
  },
  {
   "cell_type": "markdown",
   "metadata": {
    "slideshow": {
     "slide_type": "slide"
    }
   },
   "source": [
    "Using computational thinking to address barriers to accessibility regarding housing and infrastructure is a growing need. Two important, and distinctly different, terms when learning about barriers to accessibility are **equality** and **equity**. <center><img width=500 alt=\"Picture of people reaching for apples on various podeum heights\" src=\"supplementary/equity.jpg\">\n",
    "<font size=\"-2\"> Image courtesy of the __[Minnesota Population Control Agency](http://www.flickr.com/photos/mpcaphotos/31655988501)__.</font></center>\n",
    "\n",
    "Equality is when everyone is treated the same way.  Equity means everyone is given what they need to reach success.\n",
    "\n",
    "What does this image show us about **equality** and **equity**?\n",
    "\n",
    "The image shows that it is **equal** when everyone has access to the same resources and it is **equitable** when people are given support according to their needs. As you can see, sometimes equality isn’t enough. That is why it is important to understand the differences between these terms and their implications."
   ]
  },
  {
   "cell_type": "markdown",
   "metadata": {
    "slideshow": {
     "slide_type": "slide"
    }
   },
   "source": [
    "Why should we care about **equality** and **equity**?"
   ]
  },
  {
   "cell_type": "markdown",
   "metadata": {
    "slideshow": {
     "slide_type": "slide"
    }
   },
   "source": [
    "Why should we care about **equality** and **equity**?\n",
    "\n",
    "There are many situations in our daily lives where we might not even realize issues of equality and equity are at play. Some of these situations include… \n",
    "- Communities having less access to healthcare because of location\n",
    "- People being paid less for the same work because of their gender\n",
    "- Schools not having computers because the taxbase in their district generates less money \n",
    "- Families unable buy fresh fruits and vegetables because the grocery stores are too far away\n",
    "- Workers unable to obtain a job because they cannot afford a car and there is poor public transportation\n",
    "- Students aren’t put in advanced classes because of their race\n"
   ]
  },
  {
   "cell_type": "markdown",
   "metadata": {
    "slideshow": {
     "slide_type": "slide"
    }
   },
   "source": [
    "Differentiating between equality and equity can be difficult. For example, the Centers for Disease Control and Prevention published a report stating that in 2021, the maternal mortality rate for Black women was 2.6 times higher than White women. <center><img width=500 alt=\"A graph comparing the deaths per 100,000 live births between non-hispanic Black, non-hispanic White, and Hispanic women.\" src=\"supplementary/MaternalMortalityRates.png\">\n",
    "<font size=\"-2\">Image courtesy of the __[National Center for Health Statistics](http://www.cdc.gov/nchs/data/hestat/maternal-mortality/2021/maternal-mortality-rates-2021.htm#fig1)__.</font></center>\n",
    "\n",
    "Black women experiencing high mortality rates during childbirth is an issue of equity. Medical racism has prevented women from this demographic from receiving the same life saving care that their White counterparts received during and following Segregation in the United States. Because of this, Black womens needs were not met where they were at. And over time this has resulted in a disproportionate disadvantage when it comes to healthcare for Black women—which ultimately results as an issue of equality.\n",
    "\n",
    "Although issues of equity can result in issues of equality, it is important to remind yourself that these terms and their implications are different."
   ]
  },
  {
   "cell_type": "markdown",
   "metadata": {
    "slideshow": {
     "slide_type": "slide"
    }
   },
   "source": [
    "## Hypothetical Situation\n",
    "\n",
    "**Situation:**\n",
    "Niimi is a parent of two adolescent children in St. Paul, MN. The school district where her children attend school are holding a board meeting to discuss the allocation of funding from a recent donation. Niimi decided to attend but the supplemental materials and meeting itself was only available in English. Additionally, there were no translators present to ask questions to or clarify information with. This is a problem for Niimi, who is currently continuing her journey learning English.\n",
    "\n",
    "**Question:**\n",
    "Given the information above, if the school board were to hire translators or hold the meeting in another language, would this be an example of equality or equity?"
   ]
  },
  {
   "cell_type": "code",
   "execution_count": 40,
   "metadata": {
    "hide_input": true,
    "slideshow": {
     "slide_type": "-"
    },
    "tags": [
     "Hide",
     "Init"
    ]
   },
   "outputs": [],
   "source": [
    "ta = widgets.Textarea(\n",
    "            value='',\n",
    "            placeholder='Your answer here...',\n",
    "            description='',\n",
    "            disabled=False,\n",
    "            layout=Layout( height='100px', min_height='100px', width='750px')\n",
    "            )\n",
    "\n",
    "\n",
    "def acceptance():\n",
    "    print('Submitted!')\n",
    "    \n",
    "display(ta)\n",
    "hourofci.SubmitBtn2(ta, acceptance)"
   ]
  },
  {
   "cell_type": "markdown",
   "metadata": {
    "slideshow": {
     "slide_type": "slide"
    }
   },
   "source": [
    "## Explanation\n",
    "This situation would be an example of **equity**. The school district holding the board meeting in English assumes that everyone is fluent in English. Providing translators and holding meetings in additional languages meets individuals where they are at, allowing for the success for everyone regardless of their native language."
   ]
  },
  {
   "cell_type": "code",
   "execution_count": 39,
   "metadata": {
    "hide_input": true,
    "init_cell": true,
    "slideshow": {
     "slide_type": "skip"
    },
    "tags": [
     "Hide"
    ]
   },
   "outputs": [],
   "source": [
    "# This code cell starts the necessary setup for Hour of CI lesson notebooks.\n",
    "# First, it enables users to hide and unhide code by producing a 'Toggle raw code' button below.\n",
    "# Second, it imports the hourofci package, which is necessary for lessons and interactive Jupyter Widgets.\n",
    "# Third, it helps hide/control other aspects of Jupyter Notebooks to improve the user experience\n",
    "# This is an initialization cell\n",
    "# It is not displayed because the Slide Type is 'Skip'\n",
    "\n",
    "from IPython.display import HTML, IFrame, Javascript, display\n",
    "from ipywidgets import interactive\n",
    "import ipywidgets as widgets\n",
    "from ipywidgets import Layout\n",
    "import warnings\n",
    "import getpass # This library allows us to get the username (User agent string)\n",
    "\n",
    "# import package for hourofci project\n",
    "import sys\n",
    "sys.path.append('../../supplementary') # relative path (may change depending on the location of the lesson notebook)\n",
    "import hourofci\n",
    "\n",
    "\n",
    "# load javascript to initialize/hide cells, get user agent string, and hide output indicator\n",
    "# hide code by introducing a toggle button \"Toggle raw code\"\n",
    "HTML(''' \n",
    "    <script type=\"text/javascript\" src=\\\"../../supplementary/js/custom.js\\\"></script>\n",
    "    \n",
    "    <style>\n",
    "        .output_prompt{opacity:0;}\n",
    "    </style>\n",
    "    \n",
    "    <input id=\"toggle_code\" type=\"button\" value=\"Toggle raw code\">\n",
    "''')"
   ]
  },
  {
   "cell_type": "markdown",
   "metadata": {
    "slideshow": {
     "slide_type": "slide"
    }
   },
   "source": [
    "## Slide 4\n",
    "\n",
    "Please check the following situations where you think equality and equity are at play."
   ]
  },
  {
   "cell_type": "code",
   "execution_count": 41,
   "metadata": {
    "hide_input": true,
    "slideshow": {
     "slide_type": "-"
    },
    "tags": [
     "Hide",
     "Init"
    ]
   },
   "outputs": [],
   "source": [
    "import ipywidgets as widgets\n",
    "from IPython.display import display, clear_output\n",
    "from ipywidgets import VBox\n",
    "\n",
    "options = [\n",
    "    'Poverty',\n",
    "    'Lack of public transportation',\n",
    "    'Restrictions based on gender identity',\n",
    "    'Low educational attainment in certain demographic groups',\n",
    "    'Inadequate public housing',\n",
    "    'Neighborhood deterioration'\n",
    "]\n",
    "\n",
    "checkbox_widgets =VBox([widgets.Checkbox(description=option) for option in options])\n",
    "    \n",
    "def out2():\n",
    "    print(\"Submitted!\")\n",
    "    \n",
    "display(checkbox_widgets)\n",
    "hourofci.SubmitBtn2(checkbox_widgets, out2)"
   ]
  },
  {
   "cell_type": "markdown",
   "metadata": {
    "slideshow": {
     "slide_type": "slide"
    }
   },
   "source": [
    "## Slide 4 Cont.\n",
    "\n",
    "All of these have been identified as situations where equality and equity are at play."
   ]
  },
  {
   "cell_type": "markdown",
   "metadata": {
    "slideshow": {
     "slide_type": "slide"
    }
   },
   "source": [
    "## Slide 5\n",
    "\n",
    "It is also important to realize that it is the weights of every aspect in the decision making process that can result in situations where the standards of equality and equity are not being met.\n",
    "\n",
    "For example, the Harvard Gazette published an article that illustrates a 2019 __[study](https://edbuild.org/content/23-billion)__ that found $23 billion more dollars were allocated to school districts with mostly white families than compared to school districts with mostly non-white families.\n",
    "\n",
    "The main cause of this is the wealth disparity that exists between these demographic groups. If adequate education and resources were *weighted* higher for all children regardless of their families income level, things would be different.\n",
    "\n",
    "Want to read __[more](https://news.harvard.edu/gazette/story/2021/07/how-covid-taught-america-about-inequity-in-education/)__?"
   ]
  },
  {
   "cell_type": "markdown",
   "metadata": {
    "slideshow": {
     "slide_type": "slide"
    }
   },
   "source": [
    "## Slide 6\n",
    "\n",
    "Like many big problems, if we break it down into smaller pieces, we can see patterns and look for solutions! Let’s look closer at some other examples."
   ]
  },
  {
   "cell_type": "markdown",
   "metadata": {
    "slideshow": {
     "slide_type": "slide"
    }
   },
   "source": [
    "## Slide 7\n",
    "\n",
    "This map helps us visualize an issue of equity in health care. The light colored counties have adequate access to healthcare, while the dark counties do not. **Question:** What happens if you live in the counties that have fewer primary care providers?\n",
    "<center><img width=500 alt=\"Map illustrating the shortage of primary care professionals in rural counties of the United States\" src=\"supplementary/prim_care.png\">"
   ]
  },
  {
   "cell_type": "markdown",
   "metadata": {
    "slideshow": {
     "slide_type": "slide"
    }
   },
   "source": [
    "## Equity in Healthcare\n",
    "**Answer:** \n",
    "People have to travel further and it is harder to find care.\n",
    "\n",
    "–\n",
    "\n",
    "Computational thinking requires us to define a computable question, execute it, and reflect upon its effects. Within the execution stage is where the factors in the computational thinking process are given their *weights* or importance. Let's apply this stage to the example on the previous slide!\n",
    "\n",
    "If having adequate healthcare, regardless of location, was *weighted* higher than ensuring the adequacy of healthcare for people living in the city, then there wouldn’t be a large disparity of primary care professionals in rural counties. It is vital to realize that although a decision may seem more important at first (i.e. ensuring the adequate healthcare of individuals living in city areas) that there are often unforeseen circumstances  (i.e. creating a disparity of inadequate healthcare of individuals living in rural areas) that will eventually come to light."
   ]
  },
  {
   "cell_type": "markdown",
   "metadata": {
    "slideshow": {
     "slide_type": "slide"
    }
   },
   "source": [
    "## Slide 9\n",
    "\n",
    "These __[maps](https://www.cdc.gov/dhdsp/maps/atlas/index.htm)__ represent the stroke death rates for people 35+, by county for years 2018-2020. The map on the left is showing total population demographics while the map on the right is showing Black (Non-Hispanic) Adult populations.<img width=655 alt=\"Maps illutrating...\" src=\"supplementary/Rates_StrokeAll.jpg\" align=\"left\"> \n",
    "<img width=655 alt=\"Map illustrating...\" src=\"supplementary/Rates_StrokeBlack.jpg\" align=\"right\">\n",
    "<br>We can see that there is an irregularly high amount of stroke deaths of Black (Non-Hispanic) Adults, Ages 35+ concentrated in the south-eastern area of the country. **Why might this be the case in this demographic? Are you aware of any issues of equality or equity that may contribute to this specific distribution?**"
   ]
  },
  {
   "cell_type": "code",
   "execution_count": 42,
   "metadata": {
    "hide_input": true,
    "slideshow": {
     "slide_type": "-"
    },
    "tags": [
     "Hide",
     "Init"
    ]
   },
   "outputs": [],
   "source": [
    "import ipywidgets as widgets\n",
    "from IPython.display import display\n",
    "\n",
    "# Create the text area widget\n",
    "text_area_widget = widgets.Textarea(\n",
    "    placeholder='Your Answer Here...',  \n",
    "    disabled=False,\n",
    "    rows=6,  \n",
    "    layout=widgets.Layout(width='85%') \n",
    ")\n",
    "\n",
    "\n",
    "def out2():\n",
    "    print(\"Submitted!\")\n",
    "    \n",
    "display(text_area_widget)\n",
    "hourofci.SubmitBtn2(text_area_widget, out2)"
   ]
  },
  {
   "cell_type": "markdown",
   "metadata": {
    "slideshow": {
     "slide_type": "slide"
    }
   },
   "source": [
    "## Equity in Healthcare Hypothetical Scenario\n",
    "\n",
    "You are hired by the Louisiana Department of Health as a Data Science Wizard. Your job is to help Louisiana allocate recent funding aimed to decrease the stroke death rate of Black adults using the data on the previous slide.\n",
    "\n",
    "We should first ask a few questions first, such as:\n",
    "- How many primary care professionals are in Louisiana?\n",
    "- What is the distribution of primary care professionals in Louisiana?\n",
    "- How many Black adults live in Louisiana?\n",
    "- What is the distribution of Black adults in Louisiana?\n",
    "- Where do these distributions overlap? Where do they not overlap?\n",
    "\n",
    "--"
   ]
  },
  {
   "cell_type": "markdown",
   "metadata": {
    "slideshow": {
     "slide_type": "slide"
    }
   },
   "source": [
    "## Computational Thinking and Equity in Healthcare\n",
    "\n",
    "At this point, you may be asking, **What does computational thinking have to do with equity in health care?**\n",
    "\n",
    "Governments, corporations, and nonprofits all aim to make data-informed decisions. For example, the United Nations established the __[17 Sustainable Development Goals](https://www.globalgoals.org)__, with the intent to “provide a shared blueprint for peace and prosperity for all people and the planet, now and into the future.”\n",
    "\n",
    "Achieving all of these goals by making data-informed decisions requires data, data analysis, and data modeling. We use computers to analyze and model the data. Therefore, we must apply computational thinking to restructure these problems into a form that the computer can help us tackle. Here is where we must also apply critical thinking in terms of asking who might be impacted and by whom.\n",
    "\n",
    "--\n",
    "\n",
    "Now that you have a better picture of the issue at hand, it is your job to assign the *weight* or importance of the questions identified in the first step."
   ]
  },
  {
   "cell_type": "code",
   "execution_count": 43,
   "metadata": {
    "hide_input": true,
    "slideshow": {
     "slide_type": "-"
    },
    "tags": [
     "Hide",
     "Init"
    ]
   },
   "outputs": [],
   "source": [
    "import ipywidgets as widgets\n",
    "from IPython.display import display\n",
    "\n",
    "description_options = {\n",
    "    'How many primary care professionals are in Louisiana?': ['Choose...', 'High', 'Medium', 'Low'],\n",
    "    'What is the distribution of primary care professionals in Louisiana?': ['Choose...', 'High', 'Medium', 'Low'],\n",
    "    'How many Black adults live in Louisiana?': ['Choose...', 'High', 'Medium', 'Low'],\n",
    "    'What is the distribution of Black adults in Louisiana?': ['Choose...', 'High', 'Medium', 'Low'],\n",
    "    'Where do these distributions overlap? Where do they not overlap?': ['Choose...', 'High', 'Medium', 'Low']\n",
    "}\n",
    "\n",
    "dropdown_widgets = {}\n",
    "\n",
    "# Set a custom width for the widget description\n",
    "description_width = '400px'\n",
    "\n",
    "for description, options in description_options.items():\n",
    "    dropdown_widget = widgets.Dropdown(\n",
    "        options=options,\n",
    "        value=options[0],  # Set the default value to 'Choose'\n",
    "        description=description,\n",
    "        disabled=False,\n",
    "        layout=widgets.Layout(description_width=description_width)  # Apply the custom width to the description\n",
    "    )\n",
    "    dropdown_widgets[description] = dropdown_widget\n",
    "\n",
    "# Display the dropdown widgets\n",
    "for description, widget in dropdown_widgets.items():\n",
    "    display(widget)\n",
    "    \n",
    "def out2():\n",
    "    clear_output()\n",
    "    for description, widget in dropdown_widgets.items():\n",
    "        display(widget)\n",
    "    hourofci.SubmitBtn2(widget, out2)\n",
    "    print(\"Submitted!\")\n",
    "    \n",
    "\n",
    "hourofci.SubmitBtn2(widget, out2)\n"
   ]
  },
  {
   "cell_type": "markdown",
   "metadata": {
    "slideshow": {
     "slide_type": "slide"
    }
   },
   "source": [
    "## Equity in Healthcare Hypothetical Scenario Explained\n",
    "\n",
    "*Weighting* options are variable. How you weighed the questions provided in the previous slide determines the potential consequences of solving the original question (i.e. How do we allocate recent funding to aid in decreasing the stroke death rate of Black adults in Louisiana?).\n",
    "\n",
    "Overall, it is critical to understand three things…\n",
    "1. People, governments, and/organizations frame the problem.\n",
    "2. People, governments, and/organizations choose the weights.\n",
    "3. There are consequences to different weights and ways to frame a problem.\n",
    "\n",
    "After you create a solution for Louisiana, you could ask yourself, is this something that could be helpful to Data Science Wizards in the health department in Alabama to help them find answers?\n",
    "\n",
    "Yes!\n",
    "\n",
    "--\n",
    "\n",
    "Congratulations! You have successfully worked through a computational thinking scenario!"
   ]
  },
  {
   "cell_type": "markdown",
   "metadata": {
    "slideshow": {
     "slide_type": "slide"
    }
   },
   "source": [
    "## Slide 10\n",
    "\n",
    "Equality and equity are very complicated. In order to understand how to address some of these issues, we need to break down the many factors that are part of the problem. \n",
    "\n",
    "We identified many components of each of the problems discussed in this section. If we continue to use this thinking process, maybe we can see how to break down and solve other big problems in the future. \n",
    "\n",
    "We will now take what was learned in this lesson and apply it! "
   ]
  },
  {
   "cell_type": "markdown",
   "metadata": {
    "slideshow": {
     "slide_type": "slide"
    }
   },
   "source": [
    "\n",
    "\n",
    "<font size=\"+1\"><a style=\"background-color:blue;color:white;padding:12px;margin:10px;font-weight:bold;\" \n",
    "href=\"ct-5.ipynb\">Click here to go to the next notebook.</a></font>\n"
   ]
  }
 ],
 "metadata": {
  "celltoolbar": "Slideshow",
  "kernelspec": {
   "display_name": "I-GUIDE EWD",
   "language": "python",
   "name": "conda-env-iguide-ewd-py"
  },
  "language_info": {
   "codemirror_mode": {
    "name": "ipython",
    "version": 3
   },
   "file_extension": ".py",
   "mimetype": "text/x-python",
   "name": "python",
   "nbconvert_exporter": "python",
   "pygments_lexer": "ipython3",
   "version": "3.7.16"
  },
  "rise": {
   "autolaunch": true,
   "overlay": "<div class='hciheader'></div><div class='hcifooter'></div>",
   "scroll": true
  }
 },
 "nbformat": 4,
 "nbformat_minor": 4
}
