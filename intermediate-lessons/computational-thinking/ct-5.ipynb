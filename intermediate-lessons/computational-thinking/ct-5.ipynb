{
 "cells": [
  {
   "cell_type": "markdown",
   "metadata": {
    "slideshow": {
     "slide_type": "slide"
    }
   },
   "source": [
    "## Computational Thinking\n",
    "\n",
    "### Segment 4 of 4\n",
    "# ..."
   ]
  },
  {
   "cell_type": "markdown",
   "metadata": {
    "slideshow": {
     "slide_type": "slide"
    }
   },
   "source": [
    "## Slide 1\n",
    "\n",
    "We’ve learned that deciding where to put a freeway in our city is more difficult than it seems. There are many factors that go into the decision making process and, in this case, it was up to us to decide which factors carried more weight. \n",
    "\n",
    "Then, we looked at an example of how a freeway (I-94) was built in order to connect the cities of Minneapolis and St. Paul. We learned that the comfortability of the Prospect Park neighborhood was *weighted* higher than the prosperity of the Rondo neighborhood.  \n",
    "\n",
    "Lastly, we learned how to distinguish between equality and equity and why it is important to address issues of equality and equity when solving problems through computational thinking. \n",
    "\n",
    "Now, we are going to take a closer look at the computational thinking process."
   ]
  },
  {
   "cell_type": "markdown",
   "metadata": {
    "slideshow": {
     "slide_type": "slide"
    }
   },
   "source": [
    "## Slide 2\n",
    "\n",
    "Computational thinking is a set of skills used to solve complex computational problems. \n",
    "\n",
    "An illustration of the computational thinking process is found below! We went through each of these steps when finding where to place our freeway in the initial lesson. Let’s review how the computational thinking process related to our initial lesson!\n",
    "\n",
    "<br><center><img width=300 alt=\"A graphic showcasing the steps in the computational thinking process\" src=\"supplementary/poster_five.PNG\"></center>\n",
    "<font size=\"-2\"> Image courtesy of the __[Computer Based Math](https://www.computerbasedmath.org/computational-thinking-process-poster/)__.</font>"
   ]
  },
  {
   "cell_type": "markdown",
   "metadata": {
    "slideshow": {
     "slide_type": "slide"
    }
   },
   "source": [
    "## Slide 3\n",
    "\n",
    "We defined the scope of our problem (What is the best route for our freeway that gets from point S (start) to point P (stop)?) and asked ourselves to rank the following questions from high to low based on importance:\n",
    "1. What signs should be on the freeway?\n",
    "2. What route should the freeway take?\n",
    "3. What are the points at the beginning and end of the freeway?\n",
    "4. How many lanes should it have?\n",
    "\n",
    "<br><center><img width=200 alt=\"A graphic showcasing the first step in the computational thinking process\" src=\"supplementary/poster_one.PNG\"></center>\n",
    "<font size=\"-2\"> Image courtesy of the __[Computer Based Math](https://www.computerbasedmath.org/computational-thinking-process-poster/)__.</font>"
   ]
  },
  {
   "cell_type": "markdown",
   "metadata": {
    "slideshow": {
     "slide_type": "slide"
    }
   },
   "source": [
    "## Slide 4\n",
    "\n",
    "We turned our scope into an abstract question by choosing a route optimization algorithm (__[Dijkstra’s Algorithm](https://youtu.be/bZkzH5x0SKU)__) and code to pick the route that gets us from S to P.\n",
    "1. route(random(S,P))\n",
    "2. avoid_key_buildings(S,P)\n",
    "3. find_best_crossing(S,P)\n",
    "4. minimize(distance(S,P))\n",
    "\n",
    "<br><center><img width=200 alt=\"A graphic showcasing the second step in the computational thinking process\" src=\"supplementary/poster_two.PNG\">\n",
    "<font size=\"-2\"> Image courtesy of the __[Computer Based Math](https://www.computerbasedmath.org/computational-thinking-process-poster/)__.</font></center>"
   ]
  },
  {
   "cell_type": "markdown",
   "metadata": {
    "slideshow": {
     "slide_type": "slide"
    }
   },
   "source": [
    "## Slide 5\n",
    "\n",
    "We executed the route optimization algorithm (__[Dijkstra’s Algorithm](https://youtu.be/bZkzH5x0SKU)__) and the code chosen in the previous step. We additionally identified the weights and determined their values.\n",
    "\n",
    "<br><center><img width=200 alt=\"A graphic showcasing the third step in the computational thinking process\" src=\"supplementary/poster_three.PNG\">\n",
    "<font size=\"-2\"> Image courtesy of the __[Computer Based Math](https://www.computerbasedmath.org/computational-thinking-process-poster/)__.</font></center>"
   ]
  },
  {
   "cell_type": "markdown",
   "metadata": {
    "slideshow": {
     "slide_type": "slide"
    }
   },
   "source": [
    "## Slide 6\n",
    "\n",
    "We looked at the impacts of the weights identified in the last step and determined the potential short/long-term consequences of the weights chosen.\n",
    "\n",
    "<br><center><img width=200 alt=\"A graphic showcasing the fourth step in the computational thinking process\" src=\"supplementary/poster_four.PNG\">\n",
    "<font size=\"-2\"> Image courtesy of the __[Computer Based Math](https://www.computerbasedmath.org/computational-thinking-process-poster/)__.</font></center>"
   ]
  },
  {
   "cell_type": "markdown",
   "metadata": {
    "slideshow": {
     "slide_type": "slide"
    }
   },
   "source": [
    "## Slide 7\n",
    "\n",
    "Now that we have a solid understanding of the computational thinking process, let's take it a step further. \n",
    "\n",
    "When discussing physical infrastructure, urban renewal is a term that inevitably comes up. According to this __[source](https://dsl.richmond.edu/panorama/redlining/#loc=5/39.1/-94.58)__, “urban renewal subsidized local government-run programs designed to solve a variety of crises of postwar urban life: deindustrialization, overcrowding, and land values that were plummeting thanks to suburbanization and commercial and industrial outmigration; The program enabled cities to acquire and clear tens of thousands of acres of “blighted” land—an administrative term of art that, in practice, disproportionately targeted minority neighborhoods for redevelopment.”\n",
    "\n",
    "Local governments called themselves revitalizing their communities and making their cities better places, without giving *weight* to the consequences of their decisions. We will begin to explore some examples and consequences of urban renewal on the next slide."
   ]
  },
  {
   "cell_type": "markdown",
   "metadata": {
    "slideshow": {
     "slide_type": "slide"
    }
   },
   "source": [
    "## Slide 8\n",
    "\n",
    "Take a look at __[this website](https://dsl.richmond.edu/panorama/renewal/)__ and think about the following questions…\n",
    "\n",
    "1. What factors contributed to the displacement of families between 1955 and 1966?\n",
    "2. Intent vs. impact: What did the government policies of urban renewal intend to do? What actually happened?\n",
    "3. Keeping what we learned about equity and equality in mind, how might’ve computational thinking impacted the displacement of families during this time?\n",
    "4. Is there a connection between where redlining occurred and areas that were identified for “urban renewal?” Pick a city near you and look on both Renewing Inequality and Mapping Inequality. What overlap do you see?\n",
    "\n",
    "<br>*Note: To access the Mapping Inequality page click on the triple bar in the upper left corner and click on ‘Mapping Inequality’*"
   ]
  },
  {
   "cell_type": "markdown",
   "metadata": {
    "slideshow": {
     "slide_type": "slide"
    }
   },
   "source": [
    "## Slide 9\n",
    "\n",
    "Learning computational thinking is important! Below are some reasons why. \n",
    "- Helps solve complex problems\n",
    " - Requires a clear breakdown of the problem and identifying a executable solution\n",
    "- Technology is advancing\n",
    " - Computers have the ability to increase the requirements of human understanding\n",
    "- Computers are a tool\n",
    " - The need for humans to guide and utilize these tools will continue to rise\n",
    "- Practice makes better\n",
    " - Results in greater human capability to solve more complex problems in the future"
   ]
  },
  {
   "cell_type": "code",
   "execution_count": 4,
   "metadata": {
    "hide_input": true,
    "init_cell": true,
    "slideshow": {
     "slide_type": "skip"
    },
    "tags": [
     "Hide"
    ]
   },
   "outputs": [],
   "source": [
    "# This code cell starts the necessary setup for Hour of CI lesson notebooks.\n",
    "# First, it enables users to hide and unhide code by producing a 'Toggle raw code' button below.\n",
    "# Second, it imports the hourofci package, which is necessary for lessons and interactive Jupyter Widgets.\n",
    "# Third, it helps hide/control other aspects of Jupyter Notebooks to improve the user experience\n",
    "# This is an initialization cell\n",
    "# It is not displayed because the Slide Type is 'Skip'\n",
    "\n",
    "from IPython.display import HTML, IFrame, Javascript, display\n",
    "from ipywidgets import interactive\n",
    "import ipywidgets as widgets\n",
    "from ipywidgets import Layout\n",
    "\n",
    "import getpass # This library allows us to get the username (User agent string)\n",
    "\n",
    "# import package for hourofci project\n",
    "import sys\n",
    "sys.path.append('../../supplementary') # relative path (may change depending on the location of the lesson notebook)\n",
    "import hourofci\n",
    "\n",
    "# load javascript to initialize/hide cells, get user agent string, and hide output indicator\n",
    "# hide code by introducing a toggle button \"Toggle raw code\"\n",
    "HTML(''' \n",
    "    <script type=\"text/javascript\" src=\\\"../../supplementary/js/custom.js\\\"></script>\n",
    "    \n",
    "    <style>\n",
    "        .output_prompt{opacity:0;}\n",
    "    </style>\n",
    "    \n",
    "    <input id=\"toggle_code\" type=\"button\" value=\"Toggle raw code\">\n",
    "''')"
   ]
  },
  {
   "cell_type": "markdown",
   "metadata": {
    "slideshow": {
     "slide_type": "slide"
    }
   },
   "source": [
    "# Congratulations!\n",
    "\n",
    "**You have finished an Hour of CI!**\n",
    "\n",
    "If you would like a certificate, then please type your name below and click \"Create Certificate\" and you will be presented with a PDF certificate.\n"
   ]
  },
  {
   "cell_type": "code",
   "execution_count": null,
   "metadata": {
    "slideshow": {
     "slide_type": "-"
    }
   },
   "outputs": [],
   "source": [
    "\n",
    "# This code cell loads the Interact Textbox that will ask users for their name\n",
    "# Once they click \"Create Certificate\" then it will add their name to the certificate template\n",
    "# And present them a PDF certificate\n",
    "from PIL import Image\n",
    "from PIL import ImageFont\n",
    "from PIL import ImageDraw\n",
    "\n",
    "from ipywidgets import interact\n",
    "\n",
    "def make_cert(learner_name, lesson_name):\n",
    "    cert_filename = 'hourofci_certificate.pdf'\n",
    "\n",
    "    img = Image.open(\"../../supplementary/hci-certificate-template.jpg\")\n",
    "    draw = ImageDraw.Draw(img)\n",
    "\n",
    "    cert_font   = ImageFont.truetype('../../supplementary/cruft.ttf', 150)\n",
    "    cert_fontsm = ImageFont.truetype('../../supplementary/cruft.ttf', 80)\n",
    "    \n",
    "    _,_,w,h = cert_font.getbbox(learner_name)  \n",
    "    draw.text( xy = (1650-w/2,1100-h/2), text = learner_name, fill=(0,0,0),font=cert_font)\n",
    "    \n",
    "    _,_,w,h = cert_fontsm.getbbox(lesson_name)\n",
    "    draw.text( xy = (1650-w/2,1100-h/2 + 750), text = lesson_name, fill=(0,0,0),font=cert_fontsm)\n",
    "    \n",
    "    img.save(cert_filename, \"PDF\", resolution=100.0)   \n",
    "    return cert_filename\n",
    "\n",
    "\n",
    "interact_cert=interact.options(manual=True, manual_name=\"Create Certificate\")\n",
    "\n",
    "@interact_cert(name=\"Your Name\")\n",
    "def f(name):\n",
    "    print(\"Congratulations\",name)\n",
    "    filename = make_cert(name, 'Intermediate Computational Thinking')\n",
    "    print(\"Download your certificate by clicking the link below.\")\n",
    "    \n",
    "    \n",
    "    "
   ]
  },
  {
   "cell_type": "markdown",
   "metadata": {},
   "source": [
    "<font size=\"+1\"><a style=\"background-color:blue;color:white;padding:12px;margin:10px;font-weight:bold;\" href=\"hourofci_certificate.pdf?download=1\" download=\"hourofci_certificate.pdf\">Download your certificate</a></font>\n",
    "\n"
   ]
  }
 ],
 "metadata": {
  "celltoolbar": "Slideshow",
  "kernelspec": {
   "display_name": "I-GUIDE EWD",
   "language": "python",
   "name": "conda-env-iguide-ewd-py"
  },
  "language_info": {
   "codemirror_mode": {
    "name": "ipython",
    "version": 3
   },
   "file_extension": ".py",
   "mimetype": "text/x-python",
   "name": "python",
   "nbconvert_exporter": "python",
   "pygments_lexer": "ipython3",
   "version": "3.7.16"
  },
  "rise": {
   "autolaunch": true,
   "overlay": "<div class='hciheader'></div><div class='hcifooter'></div>",
   "scroll": true
  }
 },
 "nbformat": 4,
 "nbformat_minor": 4
}
