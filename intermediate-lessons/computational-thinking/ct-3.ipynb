{
 "cells": [
  {
   "cell_type": "markdown",
   "metadata": {
    "slideshow": {
     "slide_type": "slide"
    }
   },
   "source": [
    "## Computational Thinking\n",
    "\n",
    "### Segment 2 of 5\n",
    "# ..."
   ]
  },
  {
   "cell_type": "code",
   "execution_count": null,
   "metadata": {
    "hide_input": true,
    "init_cell": true,
    "scrolled": true,
    "slideshow": {
     "slide_type": "skip"
    },
    "tags": [
     "Hide"
    ]
   },
   "outputs": [],
   "source": [
    "# This code cell starts the necessary setup for Hour of CI lesson notebooks.\n",
    "# First, it enables users to hide and unhide code by producing a 'Toggle raw code' button below.\n",
    "# Second, it imports the hourofci package, which is necessary for lessons and interactive Jupyter Widgets.\n",
    "# Third, it helps hide/control other aspects of Jupyter Notebooks to improve the user experience\n",
    "# This is an initialization cell\n",
    "# It is not displayed because the Slide Type is 'Skip'\n",
    "\n",
    "from IPython.display import HTML, IFrame, Javascript, display, clear_output\n",
    "from ipywidgets import interactive\n",
    "import ipywidgets as widgets\n",
    "from ipywidgets import Layout\n",
    "\n",
    "import getpass # This library allows us to get the username (User agent string)\n",
    "\n",
    "# import package for hourofci project\n",
    "import sys\n",
    "sys.path.append('../../supplementary') # relative path (may change depending on the location of the lesson notebook)\n",
    "import hourofci\n",
    "\n",
    "\n",
    "# load javascript to initialize/hide cells, get user agent string, and hide output indicator\n",
    "# hide code by introducing a toggle button \"Toggle raw code\"\n",
    "HTML(''' \n",
    "    <script type=\"text/javascript\" src=\\\"../../supplementary/js/custom.js\\\"></script>\n",
    "    \n",
    "    <style>\n",
    "        .output_prompt{opacity:0;}\n",
    "    </style>\n",
    "    \n",
    "    <input id=\"toggle_code\" type=\"button\" value=\"Toggle raw code\">\n",
    "''')"
   ]
  },
  {
   "cell_type": "markdown",
   "metadata": {
    "slideshow": {
     "slide_type": "slide"
    }
   },
   "source": [
    "In the first section, we explored computational thinking by breaking down a project (the freeway) into several steps and *weighting* decisions based on different factors, such as terrain, water and populations.\n",
    "\n",
    "In this section, we will see an example of a freeway that was planned in a large metropolitan area in Minnesota."
   ]
  },
  {
   "cell_type": "markdown",
   "metadata": {
    "slideshow": {
     "slide_type": "slide"
    }
   },
   "source": [
    "In the early 1950s, freeways were being built across the country. In Minnesota, there was a desire to create a freeway between downtown Minneapolis and downtown St. Paul that would make it faster to get between the cities. \n",
    "What factors do you think the Department of Transportation had to consider? Let’s look at some specific issues.\n",
    "\n",
    "<center><img width=800 alt=\"Map visualizing the boundaries of Minneapolis and St. Paul\" src=\"supplementary/Basic.jpg\"></center>\n",
    "<font size=\"-2\"> Image courtesy of Mak Stroud.</font>"
   ]
  },
  {
   "cell_type": "markdown",
   "metadata": {
    "slideshow": {
     "slide_type": "slide"
    }
   },
   "source": [
    "This aerial photo is from the early 1940s. Minneapolis is the pink dot. St. Paul is the green dot. \n",
    "\n",
    "<center><img width=800 alt=\"Map visualizing the boundaries of Minneapolis and St. Paul overlaying aerial photography from 1940\" src=\"supplementary/Basic_Aerial.jpg\"></center>\n",
    "<font size=\"-2\"> Image courtesy of Mak Stroud.</font>"
   ]
  },
  {
   "cell_type": "markdown",
   "metadata": {
    "slideshow": {
     "slide_type": "slide"
    }
   },
   "source": [
    "The Mississippi River was a big consideration!\n",
    "\n",
    "<center><img width=800 alt=\"Map visualizing the boundaries of the Mississippi river with respect to the city boundaries and aerial photography\" src=\"supplementary/Basic_River.jpg\"></center>\n",
    "<font size=\"-2\"> Image courtesy of Mak Stroud.</font>"
   ]
  },
  {
   "cell_type": "markdown",
   "metadata": {
    "slideshow": {
     "slide_type": "slide"
    }
   },
   "source": [
    "There was also an existing railroad to consider. The railroad was initially a considered path that was later rejected.\n",
    "\n",
    "<center><img width=800 alt=\"Map visualizing the boundaries of a popular railroad with respect to the city boundaries, aerial photography, and Mississippi river\" src=\"supplementary/Basic_Railroad.jpg\"></center>\n",
    "<font size=\"-2\"> Image courtesy of Mak Stroud.</font>"
   ]
  },
  {
   "cell_type": "markdown",
   "metadata": {
    "slideshow": {
     "slide_type": "slide"
    }
   },
   "source": [
    "The state capitol building was an additional thing to consider.\n",
    "\n",
    "<center><img width=800 alt=\"Map visualizing the location of the state capitol with respect to the city boundaries, aerial photography, Mississippi river, and a popular railroad\" src=\"supplementary/Basic_Buildings.jpg\"></center>\n",
    "<font size=\"-2\"> Image courtesy of Mak Stroud.</font>"
   ]
  },
  {
   "cell_type": "markdown",
   "metadata": {
    "slideshow": {
     "slide_type": "slide"
    }
   },
   "source": [
    "Two neighborhoods in particular were in the path of the proposed freeway. Prospect Park was predominantly white and wealthy while Rondo was predominantly African American and thriving.\n",
    "\n",
    "<center><img width=800 alt=\"Map visualizing the boundaries of the neighborhoods in the path of the proposed freeway with respect to the city boundaries, aerial photography, Mississippi river, a popular railroad, and the state capitol\" src=\"supplementary/Basic_Neighborhoods.jpg\"></center>\n",
    "<font size=\"-2\"> Image courtesy of Mak Stroud.</font>"
   ]
  },
  {
   "cell_type": "markdown",
   "metadata": {
    "slideshow": {
     "slide_type": "slide"
    }
   },
   "source": [
    "What other factors can you think of that needed to be considered in this situation? Rank the following based on importance. \n"
   ]
  },
  {
   "cell_type": "code",
   "execution_count": null,
   "metadata": {
    "hide_input": true,
    "slideshow": {
     "slide_type": "-"
    },
    "tags": [
     "Hide",
     "Init"
    ]
   },
   "outputs": [],
   "source": [
    "import ipywidgets as widgets\n",
    "from IPython.display import clear_output, display\n",
    "description_names = [\n",
    "    'Waterways (Rivers, Lakes, Wetlands)',\n",
    "    'Natural resources',\n",
    "    'Terrain',\n",
    "    'Cost',\n",
    "    'Existing infrastructure like housing, businesses, transportation, historical buildings, etc.',\n",
    "    'Who will be impacted by new freeway expansion',\n",
    "    'Nearest Dairy Queen',\n",
    "    'Airport',\n",
    "    'Distance of the freeway',\n",
    "    'Number of employees needed for the expansion'\n",
    "]\n",
    "\n",
    "options = ['Choose...', 'High', 'Medium', 'Low']\n",
    "\n",
    "dropdown_widgets = {}\n",
    "vbox_widgets = {}\n",
    "description_width = '600px'  \n",
    "\n",
    "for description in description_names:\n",
    "    dropdown_widget = widgets.Dropdown(\n",
    "        options=options,\n",
    "        value=options[0], \n",
    "        disabled=False\n",
    "    )\n",
    "    label_widget = widgets.Label(value=description)\n",
    "    vbox = widgets.VBox([label_widget, dropdown_widget])\n",
    "    \n",
    "    dropdown_widgets[description] = dropdown_widget\n",
    "    vbox_widgets[description] = vbox\n",
    "\n",
    "for description, vbox in vbox_widgets.items():\n",
    "    display(vbox)\n",
    "def out2():\n",
    "    clear_output()\n",
    "    for description, vbox in vbox_widgets.items():\n",
    "        display(vbox)\n",
    "    hourofci.SubmitBtn2(vbox_widgets, out2)\n",
    "    print(\"Submitted!\")\n",
    "    \n",
    "\n",
    "hourofci.SubmitBtn2(vbox_widgets, out2)\n"
   ]
  },
  {
   "cell_type": "markdown",
   "metadata": {
    "slideshow": {
     "slide_type": "slide"
    }
   },
   "source": [
    "Based on the previous information given, where do you think the freeway should go? Why?"
   ]
  },
  {
   "cell_type": "code",
   "execution_count": null,
   "metadata": {
    "hide_input": true,
    "slideshow": {
     "slide_type": "-"
    },
    "tags": [
     "Hide",
     "Init"
    ]
   },
   "outputs": [],
   "source": [
    "import ipywidgets as widgets\n",
    "ta = widgets.Textarea(\n",
    "            value='',\n",
    "            placeholder='Your answer here...',\n",
    "            description='',\n",
    "            disabled=False,\n",
    "            layout=Layout( height='100px', min_height='100px', width='750px')\n",
    "            )\n",
    "\n",
    "def out3():\n",
    "    print('Submitted!')\n",
    "    \n",
    "display(ta)\n",
    "hourofci.SubmitBtn2(ta, out3)\n"
   ]
  },
  {
   "cell_type": "markdown",
   "metadata": {
    "slideshow": {
     "slide_type": "slide"
    }
   },
   "source": [
    "The dotted black line shows where the freeway went. What neighborhood was impacted? Click below to learn more about the Rondo neighborhood and the freeway construction:\n",
    "- __[2892 Miles to Go](https://storymaps.arcgis.com/collections/5d7664bd60464a05a0b726c824bbf4cf?item=1)__\n",
    "- __[MNOpedia](https://www.mnopedia.org/event/neighborhood-resistance-i-94-1953-1965)__\n",
    "- __[3D Rondo](https://remap-rondo-mage.hub.arcgis.com/pages/rondo-remapped)__\n",
    "\n",
    "\n",
    "<center><img width=800 alt=\"Map visualizing the path of the freeway with respect to the city boundaries, aerial photography, Mississippi river, a popular railroad, the state capitol, and the neighborhoods in the path of the proposed freeway\" src=\"supplementary/Basic_I94.jpg\">\n",
    "\n",
    "<font size=\"-2\"> Image courtesy of Mak Stroud.</font>"
   ]
  },
  {
   "cell_type": "markdown",
   "metadata": {
    "slideshow": {
     "slide_type": "slide"
    }
   },
   "source": [
    "This map shows areas in both Minneapolis and St. Paul circa 1937, where the Home Owner Loan Corporation graded neighborhoods on a color coded scale based on desirability, also known as redlining. Notice that Rondo is majorly graded as “hazardous” while Prospect Park is majorly graded as “still desirable.” __[Here](https://www.arcgis.com/home/item.html?id=e9781bffadf64c8b94c4ad15779dd93f)__ is a link to the interactive map on ArcGIS Online.\n",
    "\n",
    "\n",
    "<center><img width=800 alt=\"Map visualizing the grading of neighborhoods by the HOLC in Minneapolis and St. Paul circa 1937\" src=\"supplementary/Basic_HolcGrade.jpg\">\n",
    "\n",
    "<font size=\"-2\"> Image courtesy of Mak Stroud.</font>"
   ]
  },
  {
   "cell_type": "markdown",
   "metadata": {
    "slideshow": {
     "slide_type": "slide"
    }
   },
   "source": [
    "\n",
    "\n",
    "<font size=\"+1\"><a style=\"background-color:blue;color:white;padding:12px;margin:10px;font-weight:bold;\" \n",
    "href=\"ct-4.ipynb\">Click here to go to the next notebook.</a></font>"
   ]
  }
 ],
 "metadata": {
  "celltoolbar": "Edit Metadata",
  "kernelspec": {
   "display_name": "Python 3 (ipykernel)",
   "language": "python",
   "name": "python3"
  },
  "language_info": {
   "codemirror_mode": {
    "name": "ipython",
    "version": 3
   },
   "file_extension": ".py",
   "mimetype": "text/x-python",
   "name": "python",
   "nbconvert_exporter": "python",
   "pygments_lexer": "ipython3",
   "version": "3.10.11"
  },
  "rise": {
   "autolaunch": true,
   "overlay": "<div class='hciheader'></div><div class='hcifooter'></div>",
   "scroll": true
  },
  "varInspector": {
   "cols": {
    "lenName": 16,
    "lenType": 16,
    "lenVar": 40
   },
   "kernels_config": {
    "python": {
     "delete_cmd_postfix": "",
     "delete_cmd_prefix": "del ",
     "library": "var_list.py",
     "varRefreshCmd": "print(var_dic_list())"
    },
    "r": {
     "delete_cmd_postfix": ") ",
     "delete_cmd_prefix": "rm(",
     "library": "var_list.r",
     "varRefreshCmd": "cat(var_dic_list()) "
    }
   },
   "types_to_exclude": [
    "module",
    "function",
    "builtin_function_or_method",
    "instance",
    "_Feature"
   ],
   "window_display": false
  }
 },
 "nbformat": 4,
 "nbformat_minor": 4
}
