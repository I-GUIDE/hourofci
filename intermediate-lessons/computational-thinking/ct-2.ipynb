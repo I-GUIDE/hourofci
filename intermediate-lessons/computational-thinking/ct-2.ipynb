{
 "cells": [
  {
   "cell_type": "markdown",
   "metadata": {
    "hide_input": true,
    "slideshow": {
     "slide_type": "slide"
    }
   },
   "source": [
    "## Introduction to Computational Thinking\n",
    "### Segment 1 of 5\n",
    "# Define the Question"
   ]
  },
  {
   "cell_type": "code",
   "execution_count": 26,
   "metadata": {
    "hide_input": true,
    "init_cell": true,
    "slideshow": {
     "slide_type": "skip"
    },
    "tags": [
     "Hide"
    ]
   },
   "outputs": [
    {
     "data": {
      "text/html": [
       " \n",
       "    <script type=\"text/javascript\" src=\"../../supplementary/js/custom.js\"></script>\n",
       "    \n",
       "    <style>\n",
       "        .output_prompt{opacity:0;}\n",
       "    </style>\n",
       "    \n",
       "    <input id=\"toggle_code\" type=\"button\" value=\"Toggle raw code\">\n"
      ],
      "text/plain": [
       "<IPython.core.display.HTML object>"
      ]
     },
     "execution_count": 26,
     "metadata": {},
     "output_type": "execute_result"
    }
   ],
   "source": [
    "# This code cell starts the necessary setup for Hour of CI lesson notebooks.\n",
    "# First, it enables users to hide and unhide code by producing a 'Toggle raw code' button below.\n",
    "# Second, it imports the hourofci package, which is necessary for lessons and interactive Jupyter Widgets.\n",
    "# Third, it helps hide/control other aspects of Jupyter Notebooks to improve the user experience\n",
    "# This is an initialization cell\n",
    "# It is not displayed because the Slide Type is 'Skip'\n",
    "\n",
    "from IPython.display import HTML, IFrame, Javascript, display, clear_output\n",
    "from ipywidgets import interactive\n",
    "import ipywidgets as widgets\n",
    "from ipywidgets import Layout\n",
    "\n",
    "import getpass # This library allows us to get the username (User agent string)\n",
    "\n",
    "# import package for hourofci project\n",
    "import sys\n",
    "sys.path.append('../../supplementary') # relative path (may change depending on the location of the lesson notebook)\n",
    "import hourofci\n",
    "\n",
    "import warnings\n",
    "warnings.filterwarnings('ignore') # Hide warnings\n",
    "\n",
    "# load javascript to initialize/hide cells, get user agent string, and hide output indicator\n",
    "# hide code by introducing a toggle button \"Toggle raw code\"\n",
    "# HTML(''' \n",
    "#     <script type=\"text/javascript\" src=\\\"../../supplementary/js/custom.js\\\"></script>\n",
    "    \n",
    "#     <input id=\"toggle_code\" type=\"button\" value=\"Toggle raw code\">\n",
    "# ''')\n",
    "\n",
    "HTML(''' \n",
    "    <script type=\"text/javascript\" src=\\\"../../supplementary/js/custom.js\\\"></script>\n",
    "    \n",
    "    <style>\n",
    "        .output_prompt{opacity:0;}\n",
    "    </style>\n",
    "    \n",
    "    <input id=\"toggle_code\" type=\"button\" value=\"Toggle raw code\">\n",
    "''')\n"
   ]
  },
  {
   "cell_type": "markdown",
   "metadata": {
    "slideshow": {
     "slide_type": "slide"
    }
   },
   "source": [
    "## Your Task\n",
    "\n",
    "You need to decide where to put a new freeway in your city. In this segment, we’re going to look at the problem of how you build a new freeway. The overall problem, or goal, is to build a freeway. If we think about this all at once, it gets overwhelming. Let’s break the problem down into smaller pieces!\n",
    "\n",
    "<table style=\"background: #fff; text-align: left; vertical-align: top; border-collapse: collapse; border-spacing: 0;\">\n",
    "    <tr style=\"background: #fff; text-align: left; vertical-align: top;\">\n",
    "        <td style=\"width: 50%; background: #fff; text-align: left; vertical-align: top; padding: 0;\">\n",
    "            <img width=\"525\" alt=\"Picture of highway split into city\" src=\"supplementary/pexels-joey-kyber-highway.jpg\" align=\"left\">\n",
    "        </td>\n",
    "        <td style=\"width: 50%; background: #fff; text-align: left; vertical-align: top; padding: 0;\">\n",
    "            <img width=\"450\" alt=\"Photo that compares an ideal process to reality\" src=\"supplementary/Reality_ct.PNG\" align=\"right\">\n",
    "        </td>\n",
    "    </tr>\n",
    "    <tr style=\"background: #fff; text-align: left; vertical-align: top;\">\n",
    "        <td style=\"padding: 0;\">\n",
    "            <center><font size=\"-2\">Image Courtesy of <a href=\"https://www.pexels.com/photo/time-lapse-photography-of-road-near-town-185662/\">Joey Kyber</a></font></center>\n",
    "        </td>\n",
    "        <td style=\"padding: 0;\">\n",
    "            <center><font size=\"-2\">Image Courtesy of <a href=\"https://blog.seeburger.com/seeburger-goes-process-mining-an-adventure-in-optimization/\">Ramona Becker</a></font></center>\n",
    "        </td>\n",
    "    </tr>\n",
    "</table>\n",
    "\n",
    "\n",
    "\n",
    "\n",
    "\n"
   ]
  },
  {
   "cell_type": "markdown",
   "metadata": {
    "slideshow": {
     "slide_type": "slide"
    }
   },
   "source": [
    "What questions do we need to ask first in order to build our freeway?"
   ]
  },
  {
   "cell_type": "code",
   "execution_count": 27,
   "metadata": {
    "hide_input": true,
    "slideshow": {
     "slide_type": "-"
    },
    "tags": [
     "Hide",
     "Init"
    ]
   },
   "outputs": [
    {
     "data": {
      "application/vnd.jupyter.widget-view+json": {
       "model_id": "432e29246ad140998e344c509fa3c425",
       "version_major": 2,
       "version_minor": 0
      },
      "text/plain": [
       "Dropdown(description='What signs should be on the freeway?', options=('Choose', 'High', 'Medium', 'Low'), valu…"
      ]
     },
     "metadata": {},
     "output_type": "display_data"
    },
    {
     "data": {
      "application/vnd.jupyter.widget-view+json": {
       "model_id": "c52bab0366d54f7aacf44155e8f0f8c9",
       "version_major": 2,
       "version_minor": 0
      },
      "text/plain": [
       "Dropdown(description='What route should the freeway take?', options=('Choose', 'High', 'Medium', 'Low'), value…"
      ]
     },
     "metadata": {},
     "output_type": "display_data"
    },
    {
     "data": {
      "application/vnd.jupyter.widget-view+json": {
       "model_id": "c2554ac8809244029304c8ef4764f449",
       "version_major": 2,
       "version_minor": 0
      },
      "text/plain": [
       "Dropdown(description='What are the points at the beginning and end of the freeway?', options=('Choose', 'High'…"
      ]
     },
     "metadata": {},
     "output_type": "display_data"
    },
    {
     "data": {
      "application/vnd.jupyter.widget-view+json": {
       "model_id": "d701440ba75e43a683533f520ad99254",
       "version_major": 2,
       "version_minor": 0
      },
      "text/plain": [
       "Dropdown(description='How many lanes should it have?', options=('Choose', 'High', 'Medium', 'Low'), value='Cho…"
      ]
     },
     "metadata": {},
     "output_type": "display_data"
    },
    {
     "data": {
      "application/vnd.jupyter.widget-view+json": {
       "model_id": "68427e44340a4cc1abc5fa3ae8b3270c",
       "version_major": 2,
       "version_minor": 0
      },
      "text/plain": [
       "Button(description='Submit', icon='check', layout=Layout(height='auto', width='auto'), style=ButtonStyle())"
      ]
     },
     "metadata": {},
     "output_type": "display_data"
    },
    {
     "data": {
      "application/vnd.jupyter.widget-view+json": {
       "model_id": "8165dd3ef78d4e03a8c5fadbece91efd",
       "version_major": 2,
       "version_minor": 0
      },
      "text/plain": [
       "Output()"
      ]
     },
     "metadata": {},
     "output_type": "display_data"
    }
   ],
   "source": [
    "import ipywidgets as widgets\n",
    "\n",
    "# Questions asked to the audience\n",
    "description_names = {\n",
    "    'a': 'What signs should be on the freeway?',\n",
    "    'b': 'What route should the freeway take?',\n",
    "    'c': 'What are the points at the beginning and end of the freeway?',\n",
    "    'd': 'How many lanes should it have?'\n",
    "}\n",
    "\n",
    "# Audience chooses weight of each question\n",
    "options = ['Choose', 'High', 'Medium', 'Low']\n",
    "\n",
    "dropdown_widgets = {}\n",
    "\n",
    "# Prevents overlap of description and dropdown\n",
    "description_width = '400px'\n",
    "\n",
    "for key, description in description_names.items():\n",
    "    dropdown_widget = widgets.Dropdown(\n",
    "        options=options,\n",
    "        value=options[0],  # Set the default value to 'Choose'\n",
    "        description=description,\n",
    "        disabled=False,\n",
    "        layout=widgets.Layout(description_width=description_width)  # Apply the custom width to the description\n",
    "    )\n",
    "    dropdown_widgets[description] = dropdown_widget\n",
    "\n",
    "# Display the dropdown widgets\n",
    "for description, widget in dropdown_widgets.items():\n",
    "    display(widget)\n",
    "    \n",
    "def out2():\n",
    "    clear_output()\n",
    "    for description, widget in dropdown_widgets.items():\n",
    "        display(widget)\n",
    "    hourofci.SubmitBtn2(widget, out2)\n",
    "    print(\"Submitted!\")\n",
    "    \n",
    "\n",
    "hourofci.SubmitBtn2(widget, out2)\n"
   ]
  },
  {
   "cell_type": "markdown",
   "metadata": {
    "hide_input": true,
    "slideshow": {
     "slide_type": "slide"
    }
   },
   "source": [
    "# Break it down. The first step.\n",
    "Let’s say you know where the freeway needs to start and stop as the first step.  Next, you need to decide what route it is going to take. \n",
    "\n",
    "<center><img width=700 alt=\"Map with start and stop point\" src=\"supplementary/route-map1.png\"></center>"
   ]
  },
  {
   "cell_type": "markdown",
   "metadata": {
    "slideshow": {
     "slide_type": "slide"
    }
   },
   "source": [
    "## Define your route\n",
    "\n",
    "Defining our route is our first step in computational thinking. This is where we define our question. We need to think through the details of the problem and ask a manageable question. For this example, let's ask the following computable question:\n",
    "\n",
    "**What is the best route for our freeway that gets from the Start point to the End point?**"
   ]
  },
  {
   "cell_type": "markdown",
   "metadata": {
    "slideshow": {
     "slide_type": "slide"
    }
   },
   "source": [
    "**What is the best route for our freeway that gets from the Start point to the End point?**\n",
    "\n",
    "\n",
    "Our question now must be transformed into a more precise form so that we can use computation. While the Start and End points are precise, we are faced with the challenge of defining 'best route'. Let's look at a few options.\n",
    "\n",
    "First, we could have the computer pick a random route that gets us from Start to End.\n",
    "<center><img width=700 alt=\"Map with start and end points\" src=\"supplementary/route-map2.png\"></center>"
   ]
  },
  {
   "cell_type": "markdown",
   "metadata": {
    "slideshow": {
     "slide_type": "slide"
    }
   },
   "source": [
    "# Add Precision\n",
    "\n",
    "Clearly, we, as humans, can tell this is not the best route for a freeway. So let's be more precise. We want to minimize the distance of the freeway.\n",
    "\n",
    "<code>minimize(distance(Start,End))</code>\n",
    "\n",
    "<center><img width=700 alt=\"Map with straight line from start to end point\" src=\"supplementary/route-map3.png\"></center>"
   ]
  },
  {
   "cell_type": "markdown",
   "metadata": {
    "slideshow": {
     "slide_type": "slide"
    }
   },
   "source": [
    "# Uh, oh\n",
    "\n",
    "Great. Now we have the shortest distance pathway. But it cuts right through a historic building!\n",
    "\n",
    "<center><img width=700 alt=\"Map with line cutting through building\" src=\"supplementary/route-map4.png\"></center>"
   ]
  },
  {
   "cell_type": "markdown",
   "metadata": {
    "slideshow": {
     "slide_type": "slide"
    }
   },
   "source": [
    "# Redefining our question\n",
    " So we add a new constraint that we must avoid key buildings, but still aim to minimize the distance.\n",
    "\n",
    "<code>minimize(distance(Start,End))\n",
    "avoid_key_buildings()</code>\n",
    "\n",
    "<center><img width=700 alt=\"Map with two routes to avoid building\" src=\"supplementary/route-map7.png\"></center>"
   ]
  },
  {
   "cell_type": "markdown",
   "metadata": {
    "slideshow": {
     "slide_type": "slide"
    }
   },
   "source": [
    "## Cost cutting!\n",
    "We have just learned that our budget is being cut. Now we need to pay attention to the cost of the project!!\n",
    "So now we need to also try to reduce the cost. We can now 'weight' our decision between minimizing distance and minimizing cost. \n",
    "<center>\n",
    "<img width=700 alt=\"Map with two routes to avoid building\" src=\"supplementary/route-map5.png\">\n",
    "    </center>"
   ]
  },
  {
   "cell_type": "code",
   "execution_count": 28,
   "metadata": {
    "hide_input": false,
    "slideshow": {
     "slide_type": "slide"
    },
    "tags": [
     "Hide",
     "Init"
    ]
   },
   "outputs": [
    {
     "data": {
      "application/vnd.jupyter.widget-view+json": {
       "model_id": "079d72dbd9e04f939061c9c91d2397b0",
       "version_major": 2,
       "version_minor": 0
      },
      "text/plain": [
       "RadioButtons(description='If we are optimizing for cost, which do we pick?', layout=Layout(display='flex', jus…"
      ]
     },
     "metadata": {},
     "output_type": "display_data"
    },
    {
     "data": {
      "application/vnd.jupyter.widget-view+json": {
       "model_id": "ec309b46d71046409e8842ed37878f1a",
       "version_major": 2,
       "version_minor": 0
      },
      "text/plain": [
       "Button(description='Submit', icon='check', layout=Layout(height='auto', width='auto'), style=ButtonStyle())"
      ]
     },
     "metadata": {},
     "output_type": "display_data"
    },
    {
     "data": {
      "application/vnd.jupyter.widget-view+json": {
       "model_id": "fcf65c5a0f884b7eb40a244ddc00e3f1",
       "version_major": 2,
       "version_minor": 0
      },
      "text/plain": [
       "Output()"
      ]
     },
     "metadata": {},
     "output_type": "display_data"
    }
   ],
   "source": [
    "widget2 = widgets.RadioButtons(\n",
    "    options = ['Longer Route ($)', 'Shorter Route ($$$)'],\n",
    "    description = 'If we are optimizing for cost, which do we pick?', style={'description_width': 'initial'},\n",
    "    layout = Layout(width='100%',display=\"flex\", justify_content=\"flex-start\"),\n",
    "    value = None\n",
    ")\n",
    "\n",
    "def out2():\n",
    "    print(\"The correct answer is the Longer Route as it's cheaper in this case!\")\n",
    "display(widget2)\n",
    "\n",
    "hourofci.SubmitBtn2(widget2, out2)\n",
    "\n",
    "\n"
   ]
  },
  {
   "cell_type": "code",
   "execution_count": 29,
   "metadata": {
    "hide_input": true,
    "slideshow": {
     "slide_type": "-"
    },
    "tags": [
     "Hide",
     "Init"
    ]
   },
   "outputs": [
    {
     "data": {
      "application/vnd.jupyter.widget-view+json": {
       "model_id": "a7e9308b80d641cf83970fc60d3b2708",
       "version_major": 2,
       "version_minor": 0
      },
      "text/plain": [
       "RadioButtons(description='If we are optimizing for distance, which do we pick?', layout=Layout(display='flex',…"
      ]
     },
     "metadata": {},
     "output_type": "display_data"
    },
    {
     "data": {
      "application/vnd.jupyter.widget-view+json": {
       "model_id": "473b31ebfbab484aaf770518f61e0426",
       "version_major": 2,
       "version_minor": 0
      },
      "text/plain": [
       "Button(description='Submit', icon='check', layout=Layout(height='auto', width='auto'), style=ButtonStyle())"
      ]
     },
     "metadata": {},
     "output_type": "display_data"
    },
    {
     "data": {
      "application/vnd.jupyter.widget-view+json": {
       "model_id": "2695d924aab54d94aadecaa3a2b35110",
       "version_major": 2,
       "version_minor": 0
      },
      "text/plain": [
       "Output()"
      ]
     },
     "metadata": {},
     "output_type": "display_data"
    }
   ],
   "source": [
    "widget1 = widgets.RadioButtons(\n",
    "    options = ['Longer Route ($)', 'Shorter Route ($$$)'],\n",
    "    description = 'If we are optimizing for distance, which do we pick?', style={'description_width': 'initial'},\n",
    "    layout = Layout(width='100%',display=\"flex\", justify_content=\"flex-start\"),\n",
    "    value = None\n",
    ")\n",
    "\n",
    "def out():\n",
    "    print('The correct answer is the Shorter Route!')\n",
    "display(widget1)\n",
    "\n",
    "hourofci.SubmitBtn2(widget1, out)\n",
    "\n"
   ]
  },
  {
   "cell_type": "markdown",
   "metadata": {
    "slideshow": {
     "slide_type": "slide"
    }
   },
   "source": [
    "### Optimum Path Finder Demo\n",
    "Assume that you want to construct a freeway connecting *Point A* to *Point B.* After analyzing the area, you are left with three candidate <font color=\"blue\">blue</font>, <font color='red'>red</font>, and <font color='green'>green</font> paths shown below. Read the description of each candidate path and consider two criteria of **distance** and **construction cost** to choose the optimum candidate. \n",
    "<br>\n",
    "<font color=\"blue\">Blue </font>is the cheapest and the longest,<font color=\"red\"> Red </font>is the shortest but the most expensive candidate, and <font color=\"green\">Green </font>is the path with a medium distance and cost.  <br>\n",
    "Play with the criteria and use the button to find the optimum path, accordingly.\n"
   ]
  },
  {
   "cell_type": "code",
   "execution_count": 30,
   "metadata": {
    "hide_input": false,
    "slideshow": {
     "slide_type": "-"
    },
    "tags": [
     "Hide",
     "Init"
    ]
   },
   "outputs": [
    {
     "data": {
      "text/html": [
       "<iframe src=\"supplementary/optimum_path.html\", width=550, height=500, allowfullscreen></iframe>\n"
      ],
      "text/plain": [
       "<IPython.core.display.HTML object>"
      ]
     },
     "metadata": {},
     "output_type": "display_data"
    }
   ],
   "source": [
    "%%html\n",
    "<iframe src=\"supplementary/optimum_path.html\", width=550, height=500, allowfullscreen></iframe>\n"
   ]
  },
  {
   "cell_type": "markdown",
   "metadata": {
    "slideshow": {
     "slide_type": "slide"
    }
   },
   "source": [
    "What if we are balancing. what factors?"
   ]
  },
  {
   "cell_type": "code",
   "execution_count": 31,
   "metadata": {
    "hide_input": false,
    "slideshow": {
     "slide_type": "-"
    },
    "tags": [
     "Hide",
     "Init"
    ]
   },
   "outputs": [
    {
     "data": {
      "application/vnd.jupyter.widget-view+json": {
       "model_id": "64a8c3c3053348b7b57c0ed7caf0cfdf",
       "version_major": 2,
       "version_minor": 0
      },
      "text/plain": [
       "Textarea(value='', layout=Layout(height='100px', min_height='100px', width='500px'), placeholder='Write your t…"
      ]
     },
     "metadata": {},
     "output_type": "display_data"
    },
    {
     "data": {
      "application/vnd.jupyter.widget-view+json": {
       "model_id": "25ee1edc51674b4ab6ee26790f0bde7e",
       "version_major": 2,
       "version_minor": 0
      },
      "text/plain": [
       "Button(description='Submit', icon='check', layout=Layout(height='auto', width='auto'), style=ButtonStyle())"
      ]
     },
     "metadata": {},
     "output_type": "display_data"
    },
    {
     "data": {
      "application/vnd.jupyter.widget-view+json": {
       "model_id": "8a5cbde91deb4a6a87d39af3b10a1d84",
       "version_major": 2,
       "version_minor": 0
      },
      "text/plain": [
       "Output()"
      ]
     },
     "metadata": {},
     "output_type": "display_data"
    }
   ],
   "source": [
    "w = widgets.Textarea(\n",
    "            value='',\n",
    "            placeholder='Write your thoughts here...',\n",
    "            description='',\n",
    "            disabled=False,\n",
    "            layout=Layout( height='100px', min_height='100px', width='500px')\n",
    "            )\n",
    "\n",
    "\n",
    "def out3():\n",
    "    print('Submitted!')\n",
    "    \n",
    "display(w)\n",
    "hourofci.SubmitBtn2(w, out3)"
   ]
  },
  {
   "cell_type": "markdown",
   "metadata": {
    "slideshow": {
     "slide_type": "slide"
    }
   },
   "source": [
    "## Let's Reflect\n",
    "\n",
    "Which of the following things do you think we need to think about?<br>\n",
    "You need to consider many factors before making your decision. <br>\n",
    "Pick the ones that matter to you:\n"
   ]
  },
  {
   "cell_type": "code",
   "execution_count": 32,
   "metadata": {
    "hide_input": false,
    "slideshow": {
     "slide_type": "-"
    },
    "tags": [
     "Hide",
     "Init"
    ]
   },
   "outputs": [
    {
     "data": {
      "application/vnd.jupyter.widget-view+json": {
       "model_id": "9954232bbfb5422b940f82afb3322540",
       "version_major": 2,
       "version_minor": 0
      },
      "text/plain": [
       "Checkbox(value=False, description='Terrain')"
      ]
     },
     "metadata": {},
     "output_type": "display_data"
    },
    {
     "data": {
      "application/vnd.jupyter.widget-view+json": {
       "model_id": "bcfe3966415346689e6b0ad09ab64a9f",
       "version_major": 2,
       "version_minor": 0
      },
      "text/plain": [
       "Checkbox(value=False, description='existing transportation infrastructure')"
      ]
     },
     "metadata": {},
     "output_type": "display_data"
    },
    {
     "data": {
      "application/vnd.jupyter.widget-view+json": {
       "model_id": "43fb99f6aa2d420d8a886c1650b84b8a",
       "version_major": 2,
       "version_minor": 0
      },
      "text/plain": [
       "Checkbox(value=False, description='cost')"
      ]
     },
     "metadata": {},
     "output_type": "display_data"
    },
    {
     "data": {
      "application/vnd.jupyter.widget-view+json": {
       "model_id": "78d8068d75eb4917b290ab1e7475f6da",
       "version_major": 2,
       "version_minor": 0
      },
      "text/plain": [
       "Checkbox(value=False, description='what is there right now, including housing, businesses, roads, natural reso…"
      ]
     },
     "metadata": {},
     "output_type": "display_data"
    },
    {
     "data": {
      "application/vnd.jupyter.widget-view+json": {
       "model_id": "5738a79212bc4b0d81495154e31a0b36",
       "version_major": 2,
       "version_minor": 0
      },
      "text/plain": [
       "Checkbox(value=False, description='distance of the routes')"
      ]
     },
     "metadata": {},
     "output_type": "display_data"
    },
    {
     "data": {
      "application/vnd.jupyter.widget-view+json": {
       "model_id": "2cc356a7ce864907b1d0c0cd949580a6",
       "version_major": 2,
       "version_minor": 0
      },
      "text/plain": [
       "Button(description='Submit', icon='check', style=ButtonStyle())"
      ]
     },
     "metadata": {},
     "output_type": "display_data"
    },
    {
     "data": {
      "application/vnd.jupyter.widget-view+json": {
       "model_id": "5879884a320043ad93f4ba1a697e6a26",
       "version_major": 2,
       "version_minor": 0
      },
      "text/plain": [
       "Output()"
      ]
     },
     "metadata": {},
     "output_type": "display_data"
    }
   ],
   "source": [
    "check1 = widgets.Checkbox(\n",
    "    value=False,\n",
    "    description='Terrain',\n",
    "    disabled=False\n",
    ")\n",
    "check2 = widgets.Checkbox(\n",
    "    value=False,\n",
    "    description='existing transportation infrastructure',\n",
    "    disabled=False\n",
    ")\n",
    "check3 = widgets.Checkbox(\n",
    "    value=False,\n",
    "    description='cost',\n",
    "    disabled=False\n",
    ")\n",
    "check4 = widgets.Checkbox(\n",
    "    value=False,\n",
    "    description='what is there right now, including housing, businesses, roads, natural resources, communities, etc.',\n",
    "    disabled=False\n",
    ")\n",
    "check5 = widgets.Checkbox(\n",
    "    value=False,\n",
    "    description='distance of the routes',\n",
    "    disabled=False\n",
    ")\n",
    "\n",
    "# Submit button\n",
    "button1 = widgets.Button(\n",
    "    description = 'Submit',\n",
    "    disabled = False,\n",
    "    button_style = '',\n",
    "    icon = 'check'\n",
    ")\n",
    "\n",
    "# Output\n",
    "output1 = widgets.Output()\n",
    "\n",
    "display(check1, check2, check3, check4, check5, button1, output1)\n",
    "\n",
    "# Output function\n",
    "def out(b):\n",
    "    clear_output()\n",
    "    display(check1, check2, check3, check4, check5, button1, output1)\n",
    "    print('Submitted!')\n",
    "\n",
    "# Handle click event\n",
    "button1.on_click(out)"
   ]
  },
  {
   "cell_type": "markdown",
   "metadata": {
    "slideshow": {
     "slide_type": "slide"
    }
   },
   "source": [
    "# What should we consider?\n",
    "Okay,  now ...\n",
    "<center><img width=700 alt=\"Map with start and stop point\" src=\"supplementary/route-map7.png\"></center>"
   ]
  },
  {
   "cell_type": "markdown",
   "metadata": {
    "slideshow": {
     "slide_type": "-"
    }
   },
   "source": [
    "Earlier, we looked at making a freeway and what would be the best path to take from start to end. \n",
    "\n",
    "Dijkstra’s Algorithm allows us to find the shortest path between one fixed location to another. The weighted edges, cost of the paths in our case, allow for deciding if the north or south route is a better decision given our criteria. \n",
    "\n",
    "There are many different algorithms and methods for mathematically weighing things. But ultimately, it is up to people to make the weight choices, which prompts two questions:\n",
    "1. Who makes these choices?\n",
    "2. What are the consequences of these choices?\n"
   ]
  },
  {
   "cell_type": "markdown",
   "metadata": {
    "hide_input": false,
    "slideshow": {
     "slide_type": "slide"
    }
   },
   "source": [
    "\n",
    "\n",
    "<font size=\"+1\"><a style=\"background-color:blue;color:white;padding:12px;margin:10px;font-weight:bold;\" href=\"ct-3.ipynb\">Click here to go to the next notebook.</a></font>"
   ]
  }
 ],
 "metadata": {
  "celltoolbar": "Slideshow",
  "kernelspec": {
   "display_name": "I-GUIDE EWD",
   "language": "python",
   "name": "conda-env-iguide-ewd-py"
  },
  "language_info": {
   "codemirror_mode": {
    "name": "ipython",
    "version": 3
   },
   "file_extension": ".py",
   "mimetype": "text/x-python",
   "name": "python",
   "nbconvert_exporter": "python",
   "pygments_lexer": "ipython3",
   "version": "3.7.16"
  },
  "rise": {
   "autolaunch": true,
   "overlay": "<div class='hciheader'></div><div class='hcifooter'></div>",
   "scroll": true
  }
 },
 "nbformat": 4,
 "nbformat_minor": 4
}
