{
 "cells": [
  {
   "cell_type": "markdown",
   "id": "da713ffe",
   "metadata": {
    "slideshow": {
     "slide_type": "slide"
    }
   },
   "source": [
    "# Intermediate Lesson on Geospatial Data \n",
    "\n",
    "## Spatial Queries\n",
    "\n",
    "<strong>Lesson Developers:</strong> Jayakrishnan Ajayakumar, Shana Crosson, Mohsen Ahmadkhani\n",
    "\n",
    "#### Part 5 of 5"
   ]
  },
  {
   "cell_type": "code",
   "execution_count": null,
   "id": "7a124fb2",
   "metadata": {
    "hide_input": true,
    "init_cell": true,
    "slideshow": {
     "slide_type": "skip"
    },
    "tags": [
     "Hide"
    ]
   },
   "outputs": [],
   "source": [
    "# This code cell starts the necessary setup for Hour of CI lesson notebooks.\n",
    "# First, it enables users to hide and unhide code by producing a 'Toggle raw code' button below.\n",
    "# Second, it imports the hourofci package, which is necessary for lessons and interactive Jupyter Widgets.\n",
    "# Third, it helps hide/control other aspects of Jupyter Notebooks to improve the user experience\n",
    "# This is an initialization cell\n",
    "# It is not displayed because the Slide Type is 'Skip'\n",
    "\n",
    "from IPython.display import HTML, IFrame, Javascript, display\n",
    "from ipywidgets import interactive\n",
    "import ipywidgets as widgets\n",
    "from ipywidgets import Layout\n",
    "\n",
    "import getpass # This library allows us to get the username (User agent string)\n",
    "\n",
    "# import package for hourofci project\n",
    "import sys\n",
    "sys.path.append('../../supplementary') # relative path (may change depending on the location of the lesson notebook)\n",
    "# sys.path.append('supplementary')\n",
    "import hourofci\n",
    "try:\n",
    "    import os\n",
    "    os.chdir('supplementary')\n",
    "except:\n",
    "    pass\n",
    "\n",
    "# load javascript to initialize/hide cells, get user agent string, and hide output indicator\n",
    "# hide code by introducing a toggle button \"Toggle raw code\"\n",
    "HTML(''' \n",
    "    <script type=\"text/javascript\" src=\\\"../../supplementary/js/custom.js\\\"></script>\n",
    "    \n",
    "    <style>\n",
    "        .output_prompt{opacity:0;}\n",
    "    </style>\n",
    "    \n",
    "    <input id=\"toggle_code\" type=\"button\" value=\"Toggle raw code\">\n",
    "''')"
   ]
  },
  {
   "cell_type": "markdown",
   "id": "88bedf5c",
   "metadata": {
    "slideshow": {
     "slide_type": "slide"
    }
   },
   "source": [
    "### Containment Query\n",
    "The function **st_contains(geometry A,geometry B)** returns true if geometry A completely contains geometry B\n",
    "\n",
    "\n",
    "<img src = \"supplementary/images/containment_detail.png\" width = \"600px\">\n",
    "\n",
    "In the figure below, the `st_contains(geometry_circle, geometry_star)` returns the stars that are contained by the circles.\n",
    "\n",
    "<img src = \"supplementary/images/PointInMultiplePolygons.png\" width = \"600px\">"
   ]
  },
  {
   "cell_type": "markdown",
   "id": "4a814393",
   "metadata": {
    "slideshow": {
     "slide_type": "slide"
    }
   },
   "source": [
    "### Query: How many starbucks are there in Minnesota?\n",
    "<br/>\n",
    "<center><img src = \"supplementary/images/137-44505.png\" width = \"200px\"></center>\n",
    "\n",
    "To perform such query, we need two spatial tables, a table that keeps the US states' information (`us_states` table), and another one holding Starbuck stores' inforamtion (`starbucks` table) as shown below:"
   ]
  },
  {
   "cell_type": "code",
   "execution_count": null,
   "id": "a306d360",
   "metadata": {
    "hide_input": false,
    "slideshow": {
     "scrolled": true
    },
    "tags": [
     "Hide",
     "Init"
    ]
   },
   "outputs": [],
   "source": [
    "\n",
    "from ipywidgets import Button, HBox, VBox,widgets,Layout,GridspecLayout,IntSlider,HTML\n",
    "from IPython.display import display\n",
    "import spatialite\n",
    "import pandas as pd\n",
    "db = spatialite.connect('databases/spatialDB.sqlite')\n",
    "table1 = pd.read_sql_query('select statefp,name,geom as geometry from us_states limit 5',db)\n",
    "table2 = pd.read_sql_query('select pk_uid,fid,geom as geometry from starbucks limit 5',db)\n",
    "table1_disp = widgets.Output()\n",
    "table2_disp = widgets.Output()\n",
    "table1_header = widgets.HTML(value = f\"<b><font color='red'><center>US_STATES</center></b>\")\n",
    "table2_header = widgets.HTML(value = f\"<b><font color='red'><center>STARBUCKS</center></b>\")\n",
    "with table1_disp:\n",
    "    display(table1)\n",
    "with table2_disp:\n",
    "    display(table2)\n",
    "out=HBox([VBox([table1_header,table1_disp],layout = Layout(margin='0 100px 0 0')),VBox([table2_header,table2_disp])])\n",
    "out"
   ]
  },
  {
   "cell_type": "markdown",
   "id": "8f46cb3c",
   "metadata": {
    "slideshow": {
     "slide_type": "slide"
    }
   },
   "source": [
    "To count all the STARBUCKS that are **within** the state of 'Minnesota' we can use the following query:\n",
    "\n",
    "```sql\n",
    "select count(*) as total_starbucks \n",
    "from us_states u,starbucks s \n",
    "where u.name = 'Minnesota' and st_contains(u.geom,s.geom)\n",
    "```\n",
    "\n",
    "From the last chapter you might recall that this is a join operation involving multiple tables. But unlike the examples we saw, there is no explicit key-based relationship between the two tables. \n",
    "\n",
    "So instead of using a key-based relationship for the join we are using the relationship between the geometries of the two tables for the join. Such type of joins are called **Spatial Joins**.\n",
    "\n",
    ">**Spatial Join** - **Joins attributes from one table to another based on their spatial relationship**."
   ]
  },
  {
   "cell_type": "markdown",
   "id": "2743f981",
   "metadata": {
    "slideshow": {
     "slide_type": "slide"
    }
   },
   "source": [
    "#### Let's dismantle the query!\n",
    "The clause\n",
    "```sql\n",
    "where u.name = 'Minnesota' \n",
    "```\n",
    "retrieves the row from the `us_states` table with a name 'Minnesota' and the  function\n",
    "```sql\n",
    "st_contains(u.geom,s.geom)\n",
    "```\n",
    "\n",
    "retrieves those rows from `starbucks` and `us_states` tables where the **geometry in `starbucks` table (which is `point` in this case) is contained by the geometry in `us_states` table (which is `polygon`)** (which in this case is Minnesota) and then\n",
    "```sql\n",
    "count(*) as total_starbucks\n",
    "```\n",
    "counts the number of rows returned as a result of the where clause and assign it a name total_starbucks\n",
    "\n",
    "\n",
    "Run this query yourself:\n",
    "\n"
   ]
  },
  {
   "cell_type": "code",
   "execution_count": null,
   "id": "380a12b1",
   "metadata": {
    "hide_input": false,
    "slideshow": {
     "scrolled": true,
     "slide_type": "-"
    },
    "tags": [
     "Hide",
     "Init"
    ]
   },
   "outputs": [],
   "source": [
    "inp6 = Textarea(description='<b>Query:</b>', value=\"select count(*) as total_starbucks \\nfrom us_states u,starbucks s \\nwhere u.name = 'Minnesota' and st_contains(u.geom,s.geom)\" , layout=Layout(width='40%', height='120px'))\n",
    "button6 = Button(description=\"Execute!\")          \n",
    "Box6 = HBox([inp6, button6])\n",
    "\n",
    "db = spatialite.connect('databases/spatialDB.sqlite')\n",
    "\n",
    "\n",
    "def execute_query6(b):\n",
    "    clear_output()\n",
    "    button6.on_click(execute_query6)\n",
    "    display(Box6)\n",
    "    print('Please wait...')\n",
    "    table16 = pd.read_sql_query(inp6.value,db)\n",
    "    clear_output()\n",
    "    button6.on_click(execute_query6)\n",
    "    display(Box6)\n",
    "    return display(table16)\n",
    "\n",
    "button6.on_click(execute_query6)\n",
    "display(Box6)\n",
    "\n"
   ]
  },
  {
   "cell_type": "markdown",
   "id": "b4d19aa7",
   "metadata": {
    "slideshow": {
     "slide_type": "slide"
    }
   },
   "source": [
    "Now, let's modify the question as below:\n",
    "### How many starbucks are there in *each* state?\n",
    "\n",
    "The key difference here is that we are not selecting any particular state and we want our results to be **grouped by** the state names.\n",
    "\n",
    "We can write this query as \n",
    "\n",
    "```sql\n",
    "select u.name,count(*) as total_starbucks \n",
    "from us_states u,starbucks s \n",
    "where st_contains(u.geom,s.geom) \n",
    "group by u.name\n",
    "```\n",
    "\n",
    "If you compare this query to the previous one you can notice that the clause that checks the state name is removed. \n",
    "\n",
    "\n",
    "Run this query yourself below:"
   ]
  },
  {
   "cell_type": "code",
   "execution_count": null,
   "id": "594747a1",
   "metadata": {
    "hide_input": false,
    "slideshow": {
     "scrolled": true,
     "slide_type": "-"
    },
    "tags": [
     "Hide",
     "Init"
    ]
   },
   "outputs": [],
   "source": [
    "\n",
    "inp7 = Textarea(description='<b>Query:</b>', value=\"select u.name,count(*) as total_starbucks \\nfrom us_states u,starbucks s \\nwhere st_contains(u.geom,s.geom) \\ngroup by u.name\", layout=Layout(width='40%', height='120px'))\n",
    "button7 = Button(description=\"Execute!\")\n",
    "Box7 = HBox([inp7, button7])\n",
    "\n",
    "def execute_query7(b):\n",
    "    clear_output()\n",
    "    button7.on_click(execute_query7)\n",
    "    display(Box7)\n",
    "    print('Please wait...')\n",
    "    table17 = pd.read_sql_query(inp7.value,db)\n",
    "    clear_output()\n",
    "    button7.on_click(execute_query7)\n",
    "    display(Box7)\n",
    "    return display(table17)\n",
    "\n",
    "button7.on_click(execute_query7)\n",
    "display(Box7)\n",
    "\n"
   ]
  },
  {
   "cell_type": "markdown",
   "id": "ccfe9520",
   "metadata": {
    "slideshow": {
     "slide_type": "slide"
    }
   },
   "source": [
    "### Let's visualize the result!\n",
    "\n",
    "In the previous slide you were able to return the number of Starbucks branches in each state. Now, let's see those branches on a map! In the map below you can change the state interactively, get the counts, and see them on the map.\n",
    "\n"
   ]
  },
  {
   "cell_type": "code",
   "execution_count": null,
   "id": "2f238a2e",
   "metadata": {
    "hide_input": false,
    "slideshow": {
     "scrolled": true
    },
    "tags": [
     "Hide",
     "Init"
    ]
   },
   "outputs": [],
   "source": [
    "from ipyleaflet import Map, DrawControl,GeoData,LayerGroup,WidgetControl,Rectangle,basemap_to_tiles,basemaps,Polygon,GeoJSON,Choropleth\n",
    "from ipywidgets import Button, HBox, VBox,widgets,Layout,GridspecLayout,IntSlider,HTML\n",
    "from IPython.display import display\n",
    "import spatialite\n",
    "import pandas as pd\n",
    "import geopandas as gpd\n",
    "import json\n",
    "import time\n",
    "db = spatialite.connect('databases/spatialDB.sqlite')\n",
    "def stateChanged(slid):\n",
    "    layer_group.clear_layers()\n",
    "    stateGeomSql = f\"SELECT ST_AsBinary(geom) as geom FROM us_states where name='{states.value}';\"\n",
    "    starbucksSql = f\"\"\"SELECT ST_AsBinary(s.geom) as geom FROM us_states u,starbucks s where u.name='{states.value}'\n",
    "     and st_contains(u.geom,s.geom) and s.rowid in(SELECT ROWID \n",
    "    FROM SpatialIndex\n",
    "    WHERE f_table_name = 'starbucks' \n",
    "        AND search_frame = u.geom)\"\"\"\n",
    "    gdf = gpd.GeoDataFrame.from_postgis(stateGeomSql, db,crs = 'EPSG:4269').to_crs('EPSG:4326')\n",
    "    starbucksgdf = gpd.GeoDataFrame.from_postgis(starbucksSql, db,crs = 'EPSG:4326')\n",
    "    center = [gdf.centroid.y.values[0],gdf.centroid.x.values[0]]\n",
    "    sMap.center = center\n",
    "    sMap.zoom = 6\n",
    "    geo_data = GeoJSON(data = json.loads(gdf.to_json()),style={'opacity': 1, 'dashArray': '9', 'fillOpacity': 0, 'weight': 1})\n",
    "    layer_group.add_layer(geo_data)\n",
    "    geo_data_starbucks = GeoJSON(data = json.loads(starbucksgdf.to_json()))\n",
    "    layer_group.add_layer(geo_data_starbucks)\n",
    "    counts.value = str(len(starbucksgdf))\n",
    "    \n",
    "sql = \"SELECT name FROM us_states order by name;\"\n",
    "statedf = pd.read_sql_query(sql,db)\n",
    "sMap= Map(center=(41.482222, -81.669722), zoom=15,prefer_canvas =True)\n",
    "layer_group = LayerGroup()\n",
    "sMap.add_layer(layer_group)\n",
    "states = widgets.Dropdown(\n",
    "    options=statedf.name.values,\n",
    "    value=statedf.name.values[0],\n",
    "    description='State:',\n",
    "    disabled=False,\n",
    ")\n",
    "counts=widgets.Text(\n",
    "    value='',\n",
    "    placeholder='',\n",
    "    description='Total:',\n",
    "    disabled=True,\n",
    ")\n",
    "states.observe(stateChanged, 'value')\n",
    "filterParams=HBox([sMap,VBox([states,counts])])\n",
    "stateChanged(None)\n",
    "filterParams"
   ]
  },
  {
   "cell_type": "markdown",
   "id": "63815a2e",
   "metadata": {
    "slideshow": {
     "slide_type": "slide"
    }
   },
   "source": [
    "Now when we look at the results we might not see any spatial patterns as such. But this is where spatial data and spatial database shines.\n",
    "\n",
    "To show the spatial distribution we use a particular type of map called **Choropleth map**. \n",
    "\n",
    "**Below is a choropleth map showing the spatial distribution of earthquakes**"
   ]
  },
  {
   "cell_type": "code",
   "execution_count": null,
   "id": "b18af532",
   "metadata": {
    "hide_input": true,
    "tags": [
     "Hide",
     "Init"
    ]
   },
   "outputs": [],
   "source": [
    "from ipyleaflet import Map,DrawControl,GeoJSON,LayerGroup\n",
    "import spatialite\n",
    "import pandas as pd\n",
    "import geopandas as gpd\n",
    "import json\n",
    "import time\n",
    "from branca.colormap import linear\n",
    "import matplotlib.pyplot as plt\n",
    "from ipyleaflet import Choropleth\n",
    "disp = widgets.Output()\n",
    "db = spatialite.connect('databases/spatialDB.sqlite')\n",
    "stateDataSql = f\"\"\"SELECT u.stusps,count(*) as total_earthquakes from us_states u,earthquakes s\n",
    " where st_contains(u.geom,s.geometry) and s.rowid in(SELECT ROWID \n",
    "    FROM SpatialIndex\n",
    "    WHERE f_table_name = 'earthquakes' \n",
    "        AND search_frame = u.geom) group by u.stusps\"\"\"\n",
    "dat = pd.read_sql_query(stateDataSql,db)\n",
    "stateSql = \"\"\"SELECT stusps,st_asbinary(geom) as geom FROM us_states\"\"\"\n",
    "#df=pd.read_sql_query(sql,db)\n",
    "df = gpd.read_postgis(stateSql,db)\n",
    "dat = df[['stusps']].merge(dat,on='stusps',how='left').fillna(0)\n",
    "dat =  dict(zip(dat['stusps'].tolist(), dat['total_earthquakes'].tolist()))\n",
    "jsondata = json.loads(df.to_json())\n",
    "for feature in jsondata['features']:\n",
    "    feature['id'] = feature['properties']['stusps']\n",
    "layer = Choropleth(\n",
    "    geo_data=jsondata,\n",
    "    choro_data=dat,\n",
    "    colormap=linear.OrRd_03,\n",
    "    border_color='black',\n",
    "    style={'fillOpacity': 0.8, 'dashArray': '5, 5'})\n",
    "sMap= Map(center=(41.482222, -81.669722), zoom=3,prefer_canvas =True)\n",
    "sMap.add_layer(layer)\n",
    "sMap"
   ]
  },
  {
   "cell_type": "markdown",
   "id": "c309d011",
   "metadata": {
    "slideshow": {
     "slide_type": "slide"
    }
   },
   "source": [
    "### Intersection Query"
   ]
  },
  {
   "cell_type": "markdown",
   "id": "0b26a16c",
   "metadata": {},
   "source": [
    "### Intersects\n",
    "First we look at how to use intersect function to check whether two geometries intersect.\n",
    "\n",
    "The function **st_intersects(geometry A,geometry B)** returns true if geometry A and geometry B intersect or touch at atleast a single point\n",
    "\n",
    "<img src = \"supplementary/images/intersect.png\" width = \"400px\">\n",
    "\n"
   ]
  },
  {
   "cell_type": "markdown",
   "id": "16fb62a8",
   "metadata": {
    "slideshow": {
     "slide_type": "slide"
    }
   },
   "source": [
    "A real world example of `st_intersects()` would be to identify the houses that fall within a hazard zone. We would not only want the houses that are fall in the hazard zone but also those that has some portion of it inside.\n",
    "\n",
    "<img src = \"supplementary/images/hazard_zones.png\" width = \"400px\">\n",
    "\n",
    "Let's look at an interactive example. In the next slide, you can use either the line or the rectangle tool to draw your own geometry. The geometries (in this cases us_states) that intersects with the geometry you have drawn will be highlighted in green color. "
   ]
  },
  {
   "cell_type": "code",
   "execution_count": null,
   "id": "7af4c0ad",
   "metadata": {
    "hide_input": true,
    "slideshow": {
     "slide_type": "slide"
    },
    "tags": [
     "Hide",
     "Init"
    ]
   },
   "outputs": [],
   "source": [
    "from ipyleaflet import Map,DrawControl,GeoJSON,LayerGroup\n",
    "import geojson\n",
    "import json\n",
    "from shapely.geometry import shape\n",
    "import geopandas as gpd\n",
    "import numpy as np\n",
    "import time\n",
    "import spatialite\n",
    "matching=[]\n",
    "def handle_draw(target, action, geo_json):\n",
    "    global matching\n",
    "    draw_group.clear_layers()\n",
    "    geo_dat = GeoJSON(data = geo_json)\n",
    "    draw_group.add_layer(geo_dat)\n",
    "    dc.clear()\n",
    "    g1 = geojson.loads(json.dumps(geo_json['geometry']))\n",
    "    g2 = shape(g1)\n",
    "    sql = f\"SELECT stusps from us_states u where st_intersects(u.geom,ST_TRANSFORM(ST_GeomFromText('{g2.wkt}',4326),4269))\"\n",
    "    pdf = pd.read_sql_query(sql, db)\n",
    "    matching = pdf.values\n",
    "    for layer in stateGroup.layers:\n",
    "        layer.style={'weight':2+np.random.random_sample()}\n",
    "    \n",
    "def styleChange(feature):\n",
    "    props=feature['properties']\n",
    "    if props['stusps'] in matching:\n",
    "        return {'opacity': 1, 'fillOpacity': 0, 'weight': 1,'color':'green'}\n",
    "    else:\n",
    "        return {'opacity': 0.3, 'fillOpacity': 0, 'weight': 1,'color':'red'}\n",
    "\n",
    "sMap= Map(center=(44.967243, -103.771556), zoom=8,prefer_canvas =True)\n",
    "sMap.fit_bounds(((24.1, -126.1), (49.9, -64.4)))\n",
    "dc = DrawControl(\n",
    "    marker={},\n",
    "    rectangle={\"shapeOptions\": {\"color\": \"#0000FF\",'fillOpacity':0}},\n",
    "    circle={},\n",
    "    circlemarker={},\n",
    "    polygon={}\n",
    ")\n",
    "dc.on_draw(handle_draw)\n",
    "sMap.add_control(dc)\n",
    "draw_group = LayerGroup()\n",
    "sMap.add_layer(draw_group)\n",
    "stateGroup = LayerGroup()\n",
    "sMap.add_layer(stateGroup)\n",
    "db = spatialite.connect('databases/spatialDB.sqlite')\n",
    "stateGeomSql = f\"SELECT stusps,ST_AsBinary(geom) as geom FROM us_states;\"\n",
    "gdf = gpd.GeoDataFrame.from_postgis(stateGeomSql, db,crs = 'EPSG:4269').to_crs('EPSG:4326')\n",
    "sMap.zoom = 6\n",
    "geo_data = GeoJSON(data = json.loads(gdf.to_json()),style={'opacity': 0.3, 'fillOpacity': 0, 'weight': 1,'color':'red'},style_callback=styleChange)\n",
    "stateGroup.add_layer(geo_data)\n",
    "sMap"
   ]
  },
  {
   "cell_type": "markdown",
   "id": "4a9fecab",
   "metadata": {
    "slideshow": {
     "slide_type": "slide"
    }
   },
   "source": [
    "### Intersection\n",
    "While intersects check whether two geometries intersect, intersection returns the geometry shared by the two geometries.\n",
    "\n",
    "The function **st_intersection(geometry A,geometry B)** returns the geometry shared by geometry A and geometry B\n",
    "\n",
    "<img src = \"supplementary/images/intersection.png\" width = \"500px\">"
   ]
  },
  {
   "cell_type": "markdown",
   "id": "0a7b8e3f",
   "metadata": {
    "slideshow": {
     "slide_type": "slide"
    }
   },
   "source": [
    "Now we will look at a concrete example of using st_intersection\n",
    "\n",
    "**Find total length of subway lines in each neighborhood**\n",
    "\n",
    "<img src = \"supplementary/images/intersection_example.png\" width = \"400px\">"
   ]
  },
  {
   "cell_type": "markdown",
   "id": "5dfcf469",
   "metadata": {
    "slideshow": {
     "slide_type": "slide"
    }
   },
   "source": [
    "To make this query, we will need one more function named **st_length(geometry)** for calculating the length of a geometry. \n",
    "\n",
    "Following are the tables involved in this query:"
   ]
  },
  {
   "cell_type": "code",
   "execution_count": null,
   "id": "69e2a3b8",
   "metadata": {
    "hide_input": true,
    "tags": [
     "Hide",
     "Init"
    ]
   },
   "outputs": [],
   "source": [
    "from ipywidgets import HBox, VBox,widgets,Layout,HTML\n",
    "from IPython.display import display\n",
    "db = spatialite.connect('databases/spatialDB.sqlite')\n",
    "table1 = pd.read_sql_query('select boroname,name,geom as geometry from nyc_neighborhoods limit 5',db)\n",
    "table2 = pd.read_sql_query('select pk_uid,geometry from nyc_subway_lines limit 5',db)\n",
    "table1_disp = widgets.Output()\n",
    "table2_disp = widgets.Output()\n",
    "table1_header = widgets.HTML(value = f\"<b><font color='red'><center>NYC_NEIGHBORHOODS</center></b>\")\n",
    "table2_header = widgets.HTML(value = f\"<b><font color='red'><center>NYC_SUBWAY_LINES</center></b>\")\n",
    "with table1_disp:\n",
    "    display(table1)\n",
    "with table2_disp:\n",
    "    display(table2)\n",
    "out=HBox([VBox([table1_header,table1_disp],layout = Layout(margin='0 100px 0 0')),VBox([table2_header,table2_disp])])\n",
    "out"
   ]
  },
  {
   "cell_type": "markdown",
   "id": "2df092ea",
   "metadata": {
    "slideshow": {
     "slide_type": "slide"
    }
   },
   "source": [
    "And here is the query:\n",
    "\n",
    "```sql\n",
    "SELECT u.boroname,sum(ST_Length(st_intersection(u.geom,s.geometry))) as total_length \n",
    "from nyc_neighborhoods u,nyc_subway_lines s\n",
    "where st_intersects(u.geom,s.geometry) \n",
    "group by u.boroname\n",
    "```\n",
    "Challenge: can you dismantle this query yourself?\n",
    "\n",
    "Click *Execute!* to run this query!"
   ]
  },
  {
   "cell_type": "code",
   "execution_count": null,
   "id": "81e47660",
   "metadata": {
    "hide_input": false,
    "slideshow": {
     "scrolled": true
    },
    "tags": [
     "Hide",
     "Init"
    ]
   },
   "outputs": [],
   "source": [
    "valz2 = \"\"\"\n",
    "SELECT u.boroname,sum(ST_Length(st_intersection(u.geom,s.geometry))) as total_length \n",
    "from nyc_neighborhoods u,nyc_subway_lines s\n",
    "where st_intersects(u.geom,s.geometry) \n",
    "group by u.boroname\n",
    "\"\"\"\n",
    "inp72 = Textarea(description='<b>Query:</b>', value=valz2, layout=Layout(width='40%', height='120px'))\n",
    "button72 = Button(description=\"Execute!\")\n",
    "Box72 = HBox([inp72, button72])\n",
    "\n",
    "def execute_query72(b):\n",
    "    clear_output()\n",
    "    button72.on_click(execute_query72)\n",
    "    display(Box72)\n",
    "    print('Please wait...')\n",
    "    table172 = pd.read_sql_query(inp72.value,db)\n",
    "    clear_output()\n",
    "    button72.on_click(execute_query72)\n",
    "    display(Box72)\n",
    "    return display(table172)\n",
    "\n",
    "button72.on_click(execute_query72)\n",
    "display(Box72)\n",
    "\n",
    "\n"
   ]
  },
  {
   "cell_type": "markdown",
   "id": "96953e9d",
   "metadata": {
    "slideshow": {
     "slide_type": "slide"
    }
   },
   "source": [
    "### A Spatial Analysis Example!\n",
    "Now that you are familiar with spatial functions like `st_buffer()` and `st_contain()` it's time to make an actual spatial analysis! \n",
    "\n",
    "#### Query: What are the number of homicides within 100 units radius of the NYC substations?\n",
    "\n",
    "To make such query, we need the following tables:\n"
   ]
  },
  {
   "cell_type": "code",
   "execution_count": null,
   "id": "90831ec8",
   "metadata": {
    "hide_input": true,
    "slideshow": {
     "slide_type": "-"
    },
    "tags": [
     "Hide",
     "Init"
    ]
   },
   "outputs": [],
   "source": [
    "from ipywidgets import HBox, VBox,widgets,Layout,HTML\n",
    "from IPython.display import display\n",
    "db = spatialite.connect('databases/spatialDB.sqlite')\n",
    "table1 = pd.read_sql_query('select pk_uid,name,geom as geometry from nyc_substations limit 5',db)\n",
    "table2 = pd.read_sql_query('select pk_uid,weapon,year,geom as geometry from nyc_homicides limit 5',db)\n",
    "table1_disp = widgets.Output()\n",
    "table2_disp = widgets.Output()\n",
    "table1_header = widgets.HTML(value = f\"<b><font color='red'><center>NYC_SUBSTATIONS</center></b>\")\n",
    "table2_header = widgets.HTML(value = f\"<b><font color='red'><center>NYC_HOMICIDES</center></b>\")\n",
    "with table1_disp:\n",
    "    display(table1)\n",
    "with table2_disp:\n",
    "    display(table2)\n",
    "out=HBox([VBox([table1_header,table1_disp],layout = Layout(margin='0 100px 0 0')),VBox([table2_header,table2_disp])])\n",
    "out"
   ]
  },
  {
   "cell_type": "markdown",
   "id": "c6b992e9",
   "metadata": {
    "slideshow": {
     "slide_type": "slide"
    }
   },
   "source": [
    "And the query is \n",
    "\n",
    "```sql\n",
    "SELECT u.name,count(*) as total_homicides \n",
    "FROM nyc_substations u,\n",
    "nyc_homicides s \n",
    "WHERE st_contains(st_buffer(u.geom,100),s.geom) \n",
    "GROUP BY u.name\n",
    "```\n",
    "\n",
    "Run this query below!"
   ]
  },
  {
   "cell_type": "code",
   "execution_count": null,
   "id": "820389cb",
   "metadata": {
    "hide_input": false,
    "slideshow": {
     "scrolled": true
    },
    "tags": [
     "Hide",
     "Init"
    ]
   },
   "outputs": [],
   "source": [
    "valz = \"\"\"\n",
    "SELECT u.name,count(*) as total_homicides \n",
    "FROM nyc_substations u,\n",
    "nyc_homicides s \n",
    "WHERE st_contains(st_buffer(u.geom,100),s.geom) \n",
    "GROUP BY u.name\n",
    "\"\"\"\n",
    "inp7 = Textarea(description='<b>Query:</b>', value=valz, layout=Layout(width='40%', height='120px'))\n",
    "button7 = Button(description=\"Execute!\")\n",
    "Box7 = HBox([inp7, button7])\n",
    "\n",
    "def execute_query7(b):\n",
    "    clear_output()\n",
    "    button7.on_click(execute_query7)\n",
    "    display(Box7)\n",
    "    print('Please wait...')\n",
    "    table17 = pd.read_sql_query(inp7.value,db)\n",
    "    clear_output()\n",
    "    button7.on_click(execute_query7)\n",
    "    display(Box7)\n",
    "    return display(table17)\n",
    "\n",
    "button7.on_click(execute_query7)\n",
    "display(Box7)\n",
    "\n"
   ]
  },
  {
   "cell_type": "markdown",
   "id": "e003c3b9",
   "metadata": {
    "slideshow": {
     "slide_type": "slide"
    }
   },
   "source": [
    "### A Cool Example: An Interactive Hospital Finder Tool\n",
    "\n",
    "**The following map allows you to know how many hospitals are there within a specific distance of where you select.**\n",
    "\n",
    "Double click anywhere on the map to select a location and see the hospitals within the disstance set by the slider (default is 3000 meter). You can change the slider to change the buffer value."
   ]
  },
  {
   "cell_type": "code",
   "execution_count": null,
   "id": "b907f217",
   "metadata": {
    "hide_input": true,
    "tags": [
     "Hide",
     "Init"
    ]
   },
   "outputs": [],
   "source": [
    "from ipyleaflet import Map, DrawControl,GeoData,LayerGroup,Polygon,GeoJSON,Marker\n",
    "from ipywidgets import Button, HBox, VBox,widgets,Layout,GridspecLayout,IntSlider,HTML\n",
    "from IPython.display import display\n",
    "import spatialite\n",
    "import pandas as pd\n",
    "import geopandas as gpd\n",
    "import json\n",
    "import time\n",
    "db = spatialite.connect('databases/spatialDB.sqlite')\n",
    "coords=None\n",
    "\n",
    "def handle_click(**kwargs):\n",
    "    global coords\n",
    "    if kwargs.get('type') == 'dblclick':\n",
    "        layer_group.clear_layers()\n",
    "        coords = kwargs.get('coordinates')\n",
    "        layer_group.add_layer(Marker(location=coords))\n",
    "        findHospitals()\n",
    "        \n",
    "def findHospitals():\n",
    "    global coords\n",
    "    if coords is not None:\n",
    "        stateGeomSql = f\"\"\"SELECT st_asbinary(u.geom) as geom from hospitals u\n",
    " where st_contains(st_buffer(st_transform(MakePoint({coords[1]},{coords[0]},4326),3857),{radiusSlider.value}),\n",
    " st_transform(u.geom,3857))\"\"\"\n",
    "        gdf = gpd.GeoDataFrame.from_postgis(stateGeomSql, db,crs = 'EPSG:4326')\n",
    "        if len(gdf)!=0:\n",
    "            \n",
    "            geo_data = GeoData(geo_dataframe = gdf,\n",
    "                style={'color': 'black', 'radius':8, 'fillColor': '#3366cc', 'opacity':0.5, 'weight':1.9, 'dashArray':'2', 'fillOpacity':0.6},\n",
    "                hover_style={'fillColor': 'red' , 'fillOpacity': 0.2},\n",
    "                point_style={'radius': 5, 'color': 'red', 'fillOpacity': 0.8, 'fillColor': 'blue', 'weight': 3},\n",
    "                name = 'Release')\n",
    "            layer_group.add_layer(geo_data)\n",
    "            center = [gdf.centroid.y.values[0],gdf.centroid.x.values[0]]\n",
    "            sMap.center = center\n",
    "            sMap.zoom = 12\n",
    "\n",
    "def radiusChanged(slider):\n",
    "    findHospitals()\n",
    "        \n",
    "sMap= Map(center=(41.482222, -81.669722), zoom=15,prefer_canvas =True)\n",
    "\n",
    "radiusSlider = widgets.IntSlider(\n",
    "    value=3000,\n",
    "    min=0,\n",
    "    max=100000,\n",
    "    step=500,\n",
    "    description='Radius:',\n",
    "    disabled=False,\n",
    "    continuous_update=False,\n",
    "    orientation='horizontal',\n",
    "    readout=True,\n",
    "    readout_format='d'\n",
    ")\n",
    "\n",
    "radiusSlider.observe(radiusChanged, 'value')\n",
    "layer_group = LayerGroup()\n",
    "sMap.add_layer(layer_group)\n",
    "sMap.on_interaction(handle_click)\n",
    "filterParams=HBox([sMap,VBox([radiusSlider])])\n",
    "filterParams"
   ]
  },
  {
   "cell_type": "markdown",
   "id": "7e5c52a5",
   "metadata": {
    "slideshow": {
     "slide_type": "slide"
    }
   },
   "source": [
    "### Distance Function\n",
    "\n",
    "The distance function is used to find the distance between two geometries\n",
    "\n",
    "The function **st_distance(geometry A,geometry B)** returns the distance between geometry A and geometry B\n",
    "\n",
    "<img src = \"supplementary/images/distance_restaurant_example.png\" width = \"500px\"> \n",
    "\n",
    "Let's look at an interactive tool in the next slide that uses this function under the hood!\n"
   ]
  },
  {
   "cell_type": "code",
   "execution_count": null,
   "id": "3b3228b8",
   "metadata": {
    "slideshow": {
     "slide_type": "skip"
    }
   },
   "outputs": [],
   "source": [
    "# What is the distance between Minneapolis to St. Paul? \n",
    "# valz2 = \"\"\"SELECT st_distance(st_transform(MakePoint(-93.090,44.9537,4326),3857),st_transform(MakePoint(-93.265,44.977,4326), 3857)) as distance\n",
    "#        \"\"\""
   ]
  },
  {
   "cell_type": "markdown",
   "id": "8def0ec5",
   "metadata": {
    "slideshow": {
     "slide_type": "slide"
    }
   },
   "source": [
    "### Another Cool Example: Show me the farthest US state from where I choose!\n",
    "\n",
    "In the map below, double-click anywhere you want and see the farthest state from there. "
   ]
  },
  {
   "cell_type": "code",
   "execution_count": null,
   "id": "afcbba1a",
   "metadata": {
    "hide_input": true,
    "scrolled": true,
    "slideshow": {
     "slide_type": "-"
    },
    "tags": [
     "Hide",
     "Init"
    ]
   },
   "outputs": [],
   "source": [
    "from ipyleaflet import Map, DrawControl,GeoData,LayerGroup,Polygon,GeoJSON,Marker\n",
    "from ipywidgets import Button, HBox, VBox,widgets,Layout,GridspecLayout,IntSlider,HTML\n",
    "from IPython.display import display\n",
    "import spatialite\n",
    "import pandas as pd\n",
    "import geopandas as gpd\n",
    "import json\n",
    "import time\n",
    "db = spatialite.connect('databases/spatialDB.sqlite')\n",
    "coords=None\n",
    "\n",
    "def handle_click(**kwargs):\n",
    "    global coords\n",
    "    if kwargs.get('type') == 'dblclick':\n",
    "        layer_group.clear_layers()\n",
    "        coords = kwargs.get('coordinates')\n",
    "        layer_group.add_layer(Marker(location=coords))\n",
    "        findNearestGasStation()\n",
    "        \n",
    "def findNearestGasStation():\n",
    "    global coords\n",
    "    if coords is not None:\n",
    "        stateGeomSql = f\"\"\"SELECT name,st_asbinary(u.geom) as geom,st_distance(u.geom,MakePoint({coords[1]},{coords[0]},4326)) as dist_to_loc \n",
    "        from us_states u \n",
    "        order by dist_to_loc desc \n",
    "        limit 1\"\"\"\n",
    "        gdf = gpd.GeoDataFrame.from_postgis(stateGeomSql, db,crs = 'EPSG:4326')\n",
    "        geo_data = GeoData(geo_dataframe = gdf,\n",
    "            style={'color': 'black', 'radius':8, 'fillColor': '#3366cc', 'opacity':0.5, 'weight':1.9, 'dashArray':'2', 'fillOpacity':0.6},\n",
    "            hover_style={'fillColor': 'red' , 'fillOpacity': 0.2},\n",
    "            point_style={'radius': 5, 'color': 'red', 'fillOpacity': 0.8, 'fillColor': 'blue', 'weight': 3},\n",
    "            name = 'Release')\n",
    "        layer_group.add_layer(geo_data)\n",
    "        center = [gdf.centroid.y.values[0],gdf.centroid.x.values[0]]\n",
    "        sMap.center = center\n",
    "        sMap.zoom = 3\n",
    "        \n",
    "sMap= Map(center=(41.482222, -81.669722), zoom=4,prefer_canvas =True)\n",
    "layer_group = LayerGroup()\n",
    "sMap.add_layer(layer_group)\n",
    "sMap.on_interaction(handle_click)\n",
    "sMap"
   ]
  },
  {
   "cell_type": "markdown",
   "id": "53906dff",
   "metadata": {
    "slideshow": {
     "slide_type": "slide"
    }
   },
   "source": [
    "\n",
    "# Congratulations!\n",
    "\n",
    "\n",
    "**You have finished an Hour of CI!**\n",
    "\n",
    "\n",
    "But, before you go ... \n",
    "\n",
    "1. Please fill out a very brief questionnaire to provide feedback and help us improve the Hour of CI lessons. It is fast and your feedback is very important to let us know what you learned and how we can improve the lessons in the future.\n",
    "2. If you would like a certificate, then please type your name below and click \"Create Certificate\" and you will be presented with a PDF certificate.\n",
    "\n",
    "<font size=\"+1\"><a style=\"background-color:blue;color:white;padding:12px;margin:10px;font-weight:bold;\" href=\"https://forms.gle/JUUBm76rLB8iYppN7\">Take the questionnaire and provide feedback</a></font>\n",
    "\n"
   ]
  },
  {
   "cell_type": "code",
   "execution_count": null,
   "id": "82245145",
   "metadata": {
    "hide_input": true,
    "slideshow": {
     "slide_type": "-"
    },
    "tags": [
     "Hide",
     "Init"
    ]
   },
   "outputs": [],
   "source": [
    "\n",
    "# This code cell loads the Interact Textbox that will ask users for their name\n",
    "# Once they click \"Create Certificate\" then it will add their name to the certificate template\n",
    "# And present them a PDF certificate\n",
    "from PIL import Image\n",
    "from PIL import ImageFont\n",
    "from PIL import ImageDraw\n",
    "\n",
    "from ipywidgets import interact\n",
    "\n",
    "def make_cert(learner_name, lesson_name):\n",
    "    cert_filename = 'hourofci_certificate.pdf'\n",
    "\n",
    "    img = Image.open(\"../../../supplementary/hci-certificate-template.jpg\")\n",
    "    draw = ImageDraw.Draw(img)\n",
    "\n",
    "    cert_font = ImageFont.load_default()\n",
    "    \n",
    "    cert_font   = ImageFont.truetype('../../../supplementary/cruft.ttf', 150)\n",
    "    cert_fontsm = ImageFont.truetype('../../../supplementary/cruft.ttf', 80) \n",
    "    w,h = cert_font.getsize(learner_name)    \n",
    "    draw.text( xy = (1650-w/2,1100-h/2), text = learner_name, fill=(0,0,0),font=cert_font)\n",
    "    w,h = cert_fontsm.getsize(lesson_name)\n",
    "    draw.text( xy = (1650-w/2,1100-h/2 + 750), text = lesson_name, fill=(0,0,0),font=cert_fontsm)\n",
    "    img.save(cert_filename, \"PDF\", resolution=100.0)  \n",
    "    \n",
    "    return cert_filename\n",
    "\n",
    "\n",
    "interact_cert=interact.options(manual=True, manual_name=\"Create Certificate\")\n",
    "\n",
    "@interact_cert(name=\"Your Name\")\n",
    "def f(name):\n",
    "    print(\"Congratulations\",name)\n",
    "    filename = make_cert(name, 'Intermediate Geospatial Data')\n",
    "    print(\"Download your certificate by clicking the link below.\")\n",
    "    "
   ]
  },
  {
   "cell_type": "markdown",
   "id": "65d62778",
   "metadata": {},
   "source": [
    "<font size=\"+1\"><a style=\"background-color:blue;color:white;padding:12px;margin:10px;font-weight:bold;\" href=\"supplementary/hourofci_certificate.pdf?download=1\" download=\"supplementary/hourofci_certificate.pdf\">Download your certificate</a></font>"
   ]
  }
 ],
 "metadata": {
  "celltoolbar": "Edit Metadata",
  "kernelspec": {
   "display_name": "Python 3",
   "language": "python",
   "name": "python3"
  },
  "language_info": {
   "codemirror_mode": {
    "name": "ipython",
    "version": 3
   },
   "file_extension": ".py",
   "mimetype": "text/x-python",
   "name": "python",
   "nbconvert_exporter": "python",
   "pygments_lexer": "ipython3",
   "version": "3.8.1"
  },
  "rise": {
   "autolaunch": true,
   "overlay": "<div class='hciheader'></div><div class='hcifooter'></div>",
   "scroll": true
  }
 },
 "nbformat": 4,
 "nbformat_minor": 5
}
