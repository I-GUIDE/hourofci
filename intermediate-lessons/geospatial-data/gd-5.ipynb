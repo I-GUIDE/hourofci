{
 "cells": [
  {
   "cell_type": "markdown",
   "id": "f8090b02",
   "metadata": {
    "slideshow": {
     "slide_type": "slide"
    }
   },
   "source": [
    "# Intermediate Lesson on Geospatial Data \n",
    "\n",
    "## Spatial Queries\n",
    "\n",
    "<strong>Lesson Developers:</strong> Jayakrishnan Ajayakumar, Shana Crosson, Mohsen Ahmadkhani\n",
    "\n",
    "#### Part 5 of 5"
   ]
  },
  {
   "cell_type": "code",
   "execution_count": null,
   "id": "269be82b",
   "metadata": {
    "hide_input": true,
    "init_cell": true,
    "slideshow": {
     "slide_type": "skip"
    },
    "tags": [
     "Hide"
    ]
   },
   "outputs": [],
   "source": [
    "# This code cell starts the necessary setup for Hour of CI lesson notebooks.\n",
    "# First, it enables users to hide and unhide code by producing a 'Toggle raw code' button below.\n",
    "# Second, it imports the hourofci package, which is necessary for lessons and interactive Jupyter Widgets.\n",
    "# Third, it helps hide/control other aspects of Jupyter Notebooks to improve the user experience\n",
    "# This is an initialization cell\n",
    "# It is not displayed because the Slide Type is 'Skip'\n",
    "\n",
    "from IPython.display import HTML, IFrame, Javascript, display\n",
    "from ipywidgets import interactive\n",
    "import ipywidgets as widgets\n",
    "from ipywidgets import Layout\n",
    "\n",
    "import getpass # This library allows us to get the username (User agent string)\n",
    "\n",
    "# import package for hourofci project\n",
    "import sys\n",
    "sys.path.append('../../supplementary') # relative path (may change depending on the location of the lesson notebook)\n",
    "# sys.path.append('supplementary')\n",
    "import hourofci\n",
    "try:\n",
    "    import os\n",
    "    os.chdir('supplementary')\n",
    "except:\n",
    "    pass\n",
    "\n",
    "# load javascript to initialize/hide cells, get user agent string, and hide output indicator\n",
    "# hide code by introducing a toggle button \"Toggle raw code\"\n",
    "HTML(''' \n",
    "    <script type=\"text/javascript\" src=\\\"../../supplementary/js/custom.js\\\"></script>\n",
    "    \n",
    "    <style>\n",
    "        .output_prompt{opacity:0;}\n",
    "    </style>\n",
    "    \n",
    "    <input id=\"toggle_code\" type=\"button\" value=\"Toggle raw code\">\n",
    "''')"
   ]
  },
  {
   "cell_type": "markdown",
   "id": "4b695482",
   "metadata": {
    "slideshow": {
     "slide_type": "slide"
    }
   },
   "source": [
    "Now when we look at the results we might not see any spatial patterns as such. But this is where spatial data and spatial database shines.\n",
    "\n",
    "To show the spatial distribution we use a particular type of map called **Choropleth map**. \n",
    "\n",
    "**Below is a choropleth map showing spatial distribution of earthquakes**"
   ]
  },
  {
   "cell_type": "code",
   "execution_count": null,
   "id": "680697d7",
   "metadata": {
    "hide_input": true,
    "tags": [
     "Hide",
     "Init"
    ]
   },
   "outputs": [],
   "source": [
    "from ipyleaflet import Map,DrawControl,GeoJSON,LayerGroup\n",
    "import spatialite\n",
    "import pandas as pd\n",
    "import geopandas as gpd\n",
    "import json\n",
    "import time\n",
    "from branca.colormap import linear\n",
    "import matplotlib.pyplot as plt\n",
    "from ipyleaflet import Choropleth\n",
    "disp = widgets.Output()\n",
    "db = spatialite.connect('databases/spatialDB.sqlite')\n",
    "stateDataSql = f\"\"\"SELECT u.stusps,count(*) as total_earthquakes from us_states u,earthquakes s\n",
    " where st_contains(u.geom,s.geometry) and s.rowid in(SELECT ROWID \n",
    "    FROM SpatialIndex\n",
    "    WHERE f_table_name = 'earthquakes' \n",
    "        AND search_frame = u.geom) group by u.stusps\"\"\"\n",
    "dat = pd.read_sql_query(stateDataSql,db)\n",
    "stateSql = \"\"\"SELECT stusps,st_asbinary(geom) as geom FROM us_states\"\"\"\n",
    "#df=pd.read_sql_query(sql,db)\n",
    "df = gpd.read_postgis(stateSql,db)\n",
    "dat = df[['stusps']].merge(dat,on='stusps',how='left').fillna(0)\n",
    "dat =  dict(zip(dat['stusps'].tolist(), dat['total_earthquakes'].tolist()))\n",
    "jsondata = json.loads(df.to_json())\n",
    "for feature in jsondata['features']:\n",
    "    feature['id'] = feature['properties']['stusps']\n",
    "layer = Choropleth(\n",
    "    geo_data=jsondata,\n",
    "    choro_data=dat,\n",
    "    colormap=linear.OrRd_03,\n",
    "    border_color='black',\n",
    "    style={'fillOpacity': 0.8, 'dashArray': '5, 5'})\n",
    "sMap= Map(center=(41.482222, -81.669722), zoom=3,prefer_canvas =True)\n",
    "sMap.add_layer(layer)\n",
    "sMap"
   ]
  },
  {
   "cell_type": "markdown",
   "id": "38e78585",
   "metadata": {
    "slideshow": {
     "slide_type": "slide"
    }
   },
   "source": [
    "### Intersection Query"
   ]
  },
  {
   "cell_type": "markdown",
   "id": "04ca4e46",
   "metadata": {},
   "source": [
    "#### Intersects\n",
    "First we look at how to use intersect function to check whether two geometries intersect.\n",
    "\n",
    "The function **st_intersects(geometry A,geometry B)** returns true if geometry A and geometry B intersect or touch at atleast a single point\n",
    "\n",
    "<img src = \"supplementary/images/intersect.png\" width = \"500px\">"
   ]
  },
  {
   "cell_type": "markdown",
   "id": "665a9c92",
   "metadata": {
    "slideshow": {
     "slide_type": "slide"
    }
   },
   "source": [
    "A real world example would be to identify the houses that fall with in a hazard zone. We would not only want the houses that are with in the hazard zone but also the houses that has some portion of it inside the hazard zone\n",
    "\n",
    "<img src = \"supplementary/images/hazard_zones.png\" width = \"400px\">\n",
    "\n",
    "Let's look at an interactive example. You can use either the line or the rectangle tool to draw your own geometry. The geometries (in this cases us_states) that intersects with the geometry you have drawn will be highlighted in green color. "
   ]
  },
  {
   "cell_type": "code",
   "execution_count": null,
   "id": "fb4501a1",
   "metadata": {
    "hide_input": true,
    "slideshow": {
     "slide_type": "slide"
    },
    "tags": [
     "Hide",
     "Init"
    ]
   },
   "outputs": [],
   "source": [
    "from ipyleaflet import Map,DrawControl,GeoJSON,LayerGroup\n",
    "import geojson\n",
    "import json\n",
    "from shapely.geometry import shape\n",
    "import geopandas as gpd\n",
    "import numpy as np\n",
    "import time\n",
    "import spatialite\n",
    "matching=[]\n",
    "def handle_draw(target, action, geo_json):\n",
    "    global matching\n",
    "    draw_group.clear_layers()\n",
    "    geo_dat = GeoJSON(data = geo_json)\n",
    "    draw_group.add_layer(geo_dat)\n",
    "    dc.clear()\n",
    "    g1 = geojson.loads(json.dumps(geo_json['geometry']))\n",
    "    g2 = shape(g1)\n",
    "    sql = f\"SELECT stusps from us_states u where st_intersects(u.geom,ST_TRANSFORM(ST_GeomFromText('{g2.wkt}',4326),4269))\"\n",
    "    pdf = pd.read_sql_query(sql, db)\n",
    "    matching = pdf.values\n",
    "    for layer in stateGroup.layers:\n",
    "        layer.style={'weight':2+np.random.random_sample()}\n",
    "    \n",
    "def styleChange(feature):\n",
    "    props=feature['properties']\n",
    "    if props['stusps'] in matching:\n",
    "        return {'opacity': 1, 'fillOpacity': 0, 'weight': 1,'color':'green'}\n",
    "    else:\n",
    "        return {'opacity': 0.3, 'fillOpacity': 0, 'weight': 1,'color':'red'}\n",
    "\n",
    "sMap= Map(center=(44.967243, -103.771556), zoom=8,prefer_canvas =True)\n",
    "sMap.fit_bounds(((24.1, -126.1), (49.9, -64.4)))\n",
    "dc = DrawControl(\n",
    "    marker={},\n",
    "    rectangle={\"shapeOptions\": {\"color\": \"#0000FF\",'fillOpacity':0}},\n",
    "    circle={},\n",
    "    circlemarker={},\n",
    "    polygon={}\n",
    ")\n",
    "dc.on_draw(handle_draw)\n",
    "sMap.add_control(dc)\n",
    "draw_group = LayerGroup()\n",
    "sMap.add_layer(draw_group)\n",
    "stateGroup = LayerGroup()\n",
    "sMap.add_layer(stateGroup)\n",
    "db = spatialite.connect('databases/spatialDB.sqlite')\n",
    "stateGeomSql = f\"SELECT stusps,ST_AsBinary(geom) as geom FROM us_states;\"\n",
    "gdf = gpd.GeoDataFrame.from_postgis(stateGeomSql, db,crs = 'EPSG:4269').to_crs('EPSG:4326')\n",
    "sMap.zoom = 6\n",
    "geo_data = GeoJSON(data = json.loads(gdf.to_json()),style={'opacity': 0.3, 'fillOpacity': 0, 'weight': 1,'color':'red'},style_callback=styleChange)\n",
    "stateGroup.add_layer(geo_data)\n",
    "sMap"
   ]
  },
  {
   "cell_type": "markdown",
   "id": "f7c50a63",
   "metadata": {
    "slideshow": {
     "slide_type": "slide"
    }
   },
   "source": [
    "#### Intersection\n",
    "While intersects check whether two geometries intersect, intersection returns the geometry shared by the two geometries.\n",
    "\n",
    "The function **st_intersection(geometry A,geometry B)** returns the geometry shared by geometry A and geometry B\n",
    "\n",
    "<img src = \"supplementary/images/intersection.png\" width = \"500px\">"
   ]
  },
  {
   "cell_type": "markdown",
   "id": "4e8d5926",
   "metadata": {
    "slideshow": {
     "slide_type": "slide"
    }
   },
   "source": [
    "Now we will look at a concrete example of using st_intersection\n",
    "\n",
    "**Find total length of subway line in each neighborhood**\n",
    "\n",
    "<img src = \"supplementary/images/intersection_example.png\" width = \"500px\">"
   ]
  },
  {
   "cell_type": "markdown",
   "id": "f5f33418",
   "metadata": {
    "slideshow": {
     "slide_type": "slide"
    }
   },
   "source": [
    "Here we will use one more function **st_length(geometry)** for calculating the length of a geometry\n",
    "\n",
    "The function **st_length(geometry A)** returns the length of geometry A\n",
    "\n",
    "Following are the tables involved in this query:"
   ]
  },
  {
   "cell_type": "code",
   "execution_count": null,
   "id": "e06b9da3",
   "metadata": {
    "hide_input": true,
    "tags": [
     "Hide",
     "Init"
    ]
   },
   "outputs": [],
   "source": [
    "from ipywidgets import HBox, VBox,widgets,Layout,HTML\n",
    "from IPython.display import display\n",
    "db = spatialite.connect('databases/spatialDB.sqlite')\n",
    "table1 = pd.read_sql_query('select boroname,name,geom as geometry from nyc_neighborhoods limit 5',db)\n",
    "table2 = pd.read_sql_query('select pk_uid,geometry from nyc_subway_lines limit 5',db)\n",
    "table1_disp = widgets.Output()\n",
    "table2_disp = widgets.Output()\n",
    "table1_header = widgets.HTML(value = f\"<b><font color='red'><center>NYC_NEIGHBORHOODS</center></b>\")\n",
    "table2_header = widgets.HTML(value = f\"<b><font color='red'><center>NYC_SUBWAY_LINES</center></b>\")\n",
    "with table1_disp:\n",
    "    display(table1)\n",
    "with table2_disp:\n",
    "    display(table2)\n",
    "out=HBox([VBox([table1_header,table1_disp],layout = Layout(margin='0 100px 0 0')),VBox([table2_header,table2_disp])])\n",
    "out"
   ]
  },
  {
   "cell_type": "markdown",
   "id": "0e892c5b",
   "metadata": {
    "slideshow": {
     "slide_type": "slide"
    }
   },
   "source": [
    "The required query\n",
    "\n",
    "```sql\n",
    "SELECT u.boroname,sum(ST_Length(st_intersection(u.geom,s.geometry))) as total_length from nyc_neighborhoods u,nyc_subway_lines s\n",
    " where st_intersects(u.geom,s.geometry) group by u.boroname\n",
    "```"
   ]
  },
  {
   "cell_type": "code",
   "execution_count": null,
   "id": "de7eb5ff",
   "metadata": {
    "hide_input": true,
    "scrolled": true,
    "tags": [
     "Hide",
     "Init"
    ]
   },
   "outputs": [],
   "source": [
    "disp = widgets.Output()\n",
    "db = spatialite.connect('databases/spatialDB.sqlite')\n",
    "stateGeomSql = f\"\"\"SELECT u.boroname,sum(ST_Length(st_intersection(u.geom,s.geometry))) as total_length from nyc_neighborhoods u,nyc_subway_lines s\n",
    " where st_intersects(u.geom,s.geometry) and s.rowid in(SELECT ROWID \n",
    "    FROM SpatialIndex\n",
    "    WHERE f_table_name = 'nyc_subway_lines' \n",
    "        AND search_frame = u.geom) group by u.boroname\"\"\"\n",
    "data = pd.read_sql_query(stateGeomSql,con=db)\n",
    "with disp:\n",
    "    display(data)\n",
    "disp"
   ]
  },
  {
   "cell_type": "markdown",
   "id": "49cfa716",
   "metadata": {
    "slideshow": {
     "slide_type": "slide"
    }
   },
   "source": [
    "### Within a Distance Queries\n",
    "\n",
    "With in distance queries are used to find out geometrical objects that are with in a specific distance of a particular geometrical object.\n",
    "\n",
    "\n",
    "<img src = \"supplementary/images/withindistance.png\" width = \"800px\">\n"
   ]
  },
  {
   "cell_type": "markdown",
   "id": "7eccdcc7",
   "metadata": {
    "slideshow": {
     "slide_type": "slide"
    }
   },
   "source": [
    " \n",
    "<img src = \"supplementary/images/distance_within_example.png\" width = \"600px\">"
   ]
  },
  {
   "cell_type": "markdown",
   "id": "1ff8d893",
   "metadata": {
    "slideshow": {
     "slide_type": "slide"
    }
   },
   "source": [
    "#### Buffer\n",
    "\n",
    "<img src = \"supplementary/images/buffer.png\" width = \"600px\"> \n",
    "\n",
    "The function **st_buffer(geometry A,distance)**  encircles geometry A at a specified **distance** and returns a geometry object that is the buffer that surrounds the source object (A).\n",
    "\n",
    "Lets look at a concrete example \n",
    "\n",
    "**Number of homicides with in 100 meter radius of NYC substations**\n",
    "\n",
    "The required tables are the following:"
   ]
  },
  {
   "cell_type": "code",
   "execution_count": null,
   "id": "dfd173ac",
   "metadata": {
    "hide_input": true,
    "slideshow": {
     "slide_type": "subslide"
    },
    "tags": [
     "Hide",
     "Init"
    ]
   },
   "outputs": [],
   "source": [
    "from ipywidgets import HBox, VBox,widgets,Layout,HTML\n",
    "from IPython.display import display\n",
    "db = spatialite.connect('databases/spatialDB.sqlite')\n",
    "table1 = pd.read_sql_query('select pk_uid,name,geom as geometry from nyc_substations limit 5',db)\n",
    "table2 = pd.read_sql_query('select pk_uid,weapon,year,geom as geometry from nyc_homicides limit 5',db)\n",
    "table1_disp = widgets.Output()\n",
    "table2_disp = widgets.Output()\n",
    "table1_header = widgets.HTML(value = f\"<b><font color='red'><center>NYC_SUBSTATIONS</center></b>\")\n",
    "table2_header = widgets.HTML(value = f\"<b><font color='red'><center>NYC_HOMICIDES</center></b>\")\n",
    "with table1_disp:\n",
    "    display(table1)\n",
    "with table2_disp:\n",
    "    display(table2)\n",
    "out=HBox([VBox([table1_header,table1_disp],layout = Layout(margin='0 100px 0 0')),VBox([table2_header,table2_disp])])\n",
    "out"
   ]
  },
  {
   "cell_type": "markdown",
   "id": "b293059e",
   "metadata": {
    "slideshow": {
     "slide_type": "slide"
    }
   },
   "source": [
    "And the query is \n",
    "\n",
    "```sql\n",
    "SELECT u.name,count(*) as total_homicides from nyc_substations u,\n",
    "nyc_homicides s where st_contains(st_buffer(u.geom,100),s.geom) group by u.name\n",
    "```"
   ]
  },
  {
   "cell_type": "code",
   "execution_count": null,
   "id": "4c149dbf",
   "metadata": {
    "hide_input": true,
    "tags": [
     "Hide",
     "Init"
    ]
   },
   "outputs": [],
   "source": [
    "disp = widgets.Output()\n",
    "db = spatialite.connect('databases/spatialDB.sqlite')\n",
    "stateGeomSql = f\"\"\"SELECT u.name,count(*) as total_homicides from (select name,st_buffer(geom,100) as geom from nyc_substations) u,\n",
    "nyc_homicides s where st_contains(u.geom,s.geom) and s.rowid in(SELECT ROWID \n",
    "    FROM SpatialIndex\n",
    "    WHERE f_table_name = 'nyc_homicides' \n",
    "        and f_geometry_column = 'geom'\n",
    "        AND search_frame = u.geom)  group by u.name order by count(*) desc\"\"\"\n",
    "data = pd.read_sql_query(stateGeomSql,con=db)\n",
    "with disp:\n",
    "    display(data)\n",
    "disp"
   ]
  },
  {
   "cell_type": "markdown",
   "id": "c6d7615b",
   "metadata": {
    "slideshow": {
     "slide_type": "slide"
    }
   },
   "source": [
    "Let's look at another example \n",
    "\n",
    "**Number of shooting incidents with in 50 meter of schools**\n",
    "\n",
    "and the tables are "
   ]
  },
  {
   "cell_type": "code",
   "execution_count": null,
   "id": "da10285f",
   "metadata": {
    "hide_input": true,
    "tags": [
     "Hide",
     "Init"
    ]
   },
   "outputs": [],
   "source": [
    "from ipywidgets import HBox, VBox,widgets,Layout,HTML\n",
    "from IPython.display import display\n",
    "import spatialite\n",
    "import pandas as pd\n",
    "db = spatialite.connect('databases/spatialDB.sqlite')\n",
    "table1 = pd.read_sql_query('select pk_uid,schoolname,sch_type,geometry from nyc_schools limit 5',db)\n",
    "table2 = pd.read_sql_query('select pk_uid,geometry from nyc_shooting limit 5',db)\n",
    "table1_disp = widgets.Output()\n",
    "table2_disp = widgets.Output()\n",
    "table1_header = widgets.HTML(value = f\"<b><font color='red'><center>NYC_SCHOOLS</center></b>\")\n",
    "table2_header = widgets.HTML(value = f\"<b><font color='red'><center>NYC_SHOOTING</center></b>\")\n",
    "with table1_disp:\n",
    "    display(table1)\n",
    "with table2_disp:\n",
    "    display(table2)\n",
    "out=HBox([VBox([table1_header,table1_disp],layout = Layout(margin='0 100px 0 0')),VBox([table2_header,table2_disp])])\n",
    "out"
   ]
  },
  {
   "cell_type": "markdown",
   "id": "2799dcc9",
   "metadata": {
    "slideshow": {
     "slide_type": "slide"
    }
   },
   "source": [
    "And the query\n",
    "\n",
    "```sql\n",
    "SELECT a.schoolname,count(*) as total_shooting_incidents from nyc_shooting u,nyc_schools a\n",
    " where st_contains(st_buffer(a.geom,50),u.geometry) group by a.schoolname\n",
    "```"
   ]
  },
  {
   "cell_type": "code",
   "execution_count": null,
   "id": "d09bf72a",
   "metadata": {
    "hide_input": true,
    "tags": [
     "Hide",
     "Init"
    ]
   },
   "outputs": [],
   "source": [
    "disp = widgets.Output()\n",
    "db = spatialite.connect('databases/spatialDB.sqlite')\n",
    "stateGeomSql = f\"\"\"WITH a AS (select schoolname,st_buffer(geometry,50) as geom from nyc_schools)\n",
    "SELECT a.schoolname,count(*) as total_shooting_incidents from nyc_shooting u,a\n",
    " where st_contains(a.geom,u.geometry) and u.rowid in(SELECT ROWID \n",
    "    FROM SpatialIndex\n",
    "    WHERE f_table_name = 'nyc_shooting' \n",
    "        and f_geometry_column = 'geometry'\n",
    "        AND search_frame = a.geom)   group by a.schoolname order by count(*) desc\"\"\"\n",
    "data = pd.read_sql_query(stateGeomSql,con=db)\n",
    "with disp:\n",
    "    display(data)\n",
    "disp"
   ]
  },
  {
   "cell_type": "markdown",
   "id": "8a532440",
   "metadata": {
    "slideshow": {
     "slide_type": "slide"
    }
   },
   "source": [
    "Let's look at another example\n",
    "\n",
    "**How many hospitals are there with in a specific distance of where you are**\n",
    "\n",
    "The required tables"
   ]
  },
  {
   "cell_type": "code",
   "execution_count": null,
   "id": "02147950",
   "metadata": {
    "hide_input": true,
    "tags": [
     "Hide",
     "Init"
    ]
   },
   "outputs": [],
   "source": [
    "from ipywidgets import HBox, VBox,widgets,Layout,HTML\n",
    "from IPython.display import display\n",
    "import spatialite\n",
    "import pandas as pd\n",
    "db = spatialite.connect('databases/spatialDB.sqlite')\n",
    "table1 = pd.read_sql_query('select pk_uid,geom as geometry from hospitals limit 5',db)\n",
    "table1_disp = widgets.Output()\n",
    "table1_header = widgets.HTML(value = f\"<b><font color='red'><center>HOSPITALS</center></b>\")\n",
    "with table1_disp:\n",
    "    display(table1)\n",
    "out=HBox([VBox([table1_header,table1_disp],layout = Layout(margin='0 100px 0 0'))])\n",
    "out"
   ]
  },
  {
   "cell_type": "markdown",
   "id": "39c2b668",
   "metadata": {
    "slideshow": {
     "slide_type": "slide"
    }
   },
   "source": [
    "Let's look at an interactive example. Double click anywhere on the map and it will be selected as the current location. Based on the slider value selected (default is 3000 meter). You can change the slider to change the buffer value"
   ]
  },
  {
   "cell_type": "code",
   "execution_count": null,
   "id": "0a7f3109",
   "metadata": {
    "hide_input": true,
    "tags": [
     "Hide",
     "Init"
    ]
   },
   "outputs": [],
   "source": [
    "from ipyleaflet import Map, DrawControl,GeoData,LayerGroup,Polygon,GeoJSON,Marker\n",
    "from ipywidgets import Button, HBox, VBox,widgets,Layout,GridspecLayout,IntSlider,HTML\n",
    "from IPython.display import display\n",
    "import spatialite\n",
    "import pandas as pd\n",
    "import geopandas as gpd\n",
    "import json\n",
    "import time\n",
    "db = spatialite.connect('databases/spatialDB.sqlite')\n",
    "coords=None\n",
    "\n",
    "def handle_click(**kwargs):\n",
    "    global coords\n",
    "    if kwargs.get('type') == 'dblclick':\n",
    "        layer_group.clear_layers()\n",
    "        coords = kwargs.get('coordinates')\n",
    "        layer_group.add_layer(Marker(location=coords))\n",
    "        findHospitals()\n",
    "        \n",
    "def findHospitals():\n",
    "    global coords\n",
    "    if coords is not None:\n",
    "        stateGeomSql = f\"\"\"SELECT st_asbinary(u.geom) as geom from hospitals u\n",
    " where st_contains(st_buffer(st_transform(MakePoint({coords[1]},{coords[0]},4326),3857),{radiusSlider.value}),\n",
    " st_transform(u.geom,3857))\"\"\"\n",
    "        gdf = gpd.GeoDataFrame.from_postgis(stateGeomSql, db,crs = 'EPSG:4326')\n",
    "        if len(gdf)!=0:\n",
    "            \n",
    "            geo_data = GeoData(geo_dataframe = gdf,\n",
    "                style={'color': 'black', 'radius':8, 'fillColor': '#3366cc', 'opacity':0.5, 'weight':1.9, 'dashArray':'2', 'fillOpacity':0.6},\n",
    "                hover_style={'fillColor': 'red' , 'fillOpacity': 0.2},\n",
    "                point_style={'radius': 5, 'color': 'red', 'fillOpacity': 0.8, 'fillColor': 'blue', 'weight': 3},\n",
    "                name = 'Release')\n",
    "            layer_group.add_layer(geo_data)\n",
    "            center = [gdf.centroid.y.values[0],gdf.centroid.x.values[0]]\n",
    "            sMap.center = center\n",
    "            sMap.zoom = 12\n",
    "\n",
    "def radiusChanged(slider):\n",
    "    findHospitals()\n",
    "        \n",
    "sMap= Map(center=(41.482222, -81.669722), zoom=15,prefer_canvas =True)\n",
    "\n",
    "radiusSlider = widgets.IntSlider(\n",
    "    value=3000,\n",
    "    min=0,\n",
    "    max=100000,\n",
    "    step=500,\n",
    "    description='Radius:',\n",
    "    disabled=False,\n",
    "    continuous_update=False,\n",
    "    orientation='horizontal',\n",
    "    readout=True,\n",
    "    readout_format='d'\n",
    ")\n",
    "\n",
    "radiusSlider.observe(radiusChanged, 'value')\n",
    "layer_group = LayerGroup()\n",
    "sMap.add_layer(layer_group)\n",
    "sMap.on_interaction(handle_click)\n",
    "filterParams=HBox([sMap,VBox([radiusSlider])])\n",
    "filterParams"
   ]
  },
  {
   "cell_type": "markdown",
   "id": "bc351102",
   "metadata": {
    "slideshow": {
     "slide_type": "slide"
    }
   },
   "source": [
    "### Distance Function\n",
    "\n",
    "The distance function is used to find the distance between two geometries\n",
    "\n",
    "The function **st_distance(geometry A,geometry B)** returns the distance between geometry A and geometry B\n",
    "\n",
    "<img src = \"supplementary/images/distance_restaurant_example.png\" width = \"500px\"> \n",
    "\n",
    "Let's look at an example \n",
    "\n",
    "**Show five nearest tourist place from your current location**\n",
    "\n",
    "The required tables"
   ]
  },
  {
   "cell_type": "code",
   "execution_count": null,
   "id": "bf70c713",
   "metadata": {
    "hide_input": true,
    "slideshow": {
     "slide_type": "subslide"
    },
    "tags": [
     "Hide",
     "Init"
    ]
   },
   "outputs": [],
   "source": [
    "from ipywidgets import HBox, VBox,widgets,Layout,HTML\n",
    "from IPython.display import display\n",
    "import spatialite\n",
    "import pandas as pd\n",
    "db = spatialite.connect('databases/spatialDB.sqlite')\n",
    "table1 = pd.read_sql_query('select pk_uid,geom as geometry from toUrism limit 5',db)\n",
    "table1_disp = widgets.Output()\n",
    "table1_header = widgets.HTML(value = f\"<b><font color='red'><center>TOURISM</center></b>\")\n",
    "with table1_disp:\n",
    "    display(table1)\n",
    "out=HBox([VBox([table1_header,table1_disp],layout = Layout(margin='0 100px 0 0'))])\n",
    "out"
   ]
  },
  {
   "cell_type": "code",
   "execution_count": null,
   "id": "5159f389",
   "metadata": {
    "hide_input": true,
    "slideshow": {
     "slide_type": "slide"
    },
    "tags": [
     "Hide",
     "Init"
    ]
   },
   "outputs": [],
   "source": [
    "from ipyleaflet import Map, DrawControl,GeoData,LayerGroup,Polygon,GeoJSON,Marker\n",
    "from ipywidgets import Button, HBox, VBox,widgets,Layout,GridspecLayout,IntSlider,HTML\n",
    "from IPython.display import display\n",
    "import spatialite\n",
    "import pandas as pd\n",
    "import geopandas as gpd\n",
    "import json\n",
    "import time\n",
    "db = spatialite.connect('databases/spatialDB.sqlite')\n",
    "coords=None\n",
    "\n",
    "def handle_click(**kwargs):\n",
    "    global coords\n",
    "    if kwargs.get('type') == 'dblclick':\n",
    "        layer_group.clear_layers()\n",
    "        coords = kwargs.get('coordinates')\n",
    "        layer_group.add_layer(Marker(location=coords))\n",
    "        findNearestTouristPlaces()\n",
    "        \n",
    "def findNearestTouristPlaces():\n",
    "    global coords\n",
    "    if coords is not None:\n",
    "        stateGeomSql = f\"\"\"SELECT u.pk_uid,st_asbinary(u.geom) as geom,st_distance(st_transform(u.geom,3857),\n",
    "        st_transform(MakePoint({coords[1]},{coords[0]},4326),3857)) as \n",
    "        dist_to_tourist from tourism u order by dist_to_tourist asc limit 5\"\"\"\n",
    "        gdf = gpd.GeoDataFrame.from_postgis(stateGeomSql, db,crs = 'EPSG:4326')\n",
    "        geo_data = GeoData(geo_dataframe = gdf,\n",
    "            style={'color': 'black', 'radius':8, 'fillColor': '#3366cc', 'opacity':0.5, 'weight':1.9, 'dashArray':'2', 'fillOpacity':0.6},\n",
    "            hover_style={'fillColor': 'red' , 'fillOpacity': 0.2},\n",
    "            point_style={'radius': 5, 'color': 'red', 'fillOpacity': 0.8, 'fillColor': 'blue', 'weight': 3},\n",
    "            name = 'Release')\n",
    "        layer_group.add_layer(geo_data)\n",
    "        center = [gdf.centroid.y.values[0],gdf.centroid.x.values[0]]\n",
    "        sMap.center = center\n",
    "        sMap.zoom = 12\n",
    "\n",
    "sMap= Map(center=(41.482222, -81.669722), zoom=15,prefer_canvas =True)\n",
    "layer_group = LayerGroup()\n",
    "sMap.add_layer(layer_group)\n",
    "sMap.on_interaction(handle_click)\n",
    "sMap"
   ]
  },
  {
   "cell_type": "markdown",
   "id": "b34f3f03",
   "metadata": {
    "slideshow": {
     "slide_type": "slide"
    }
   },
   "source": [
    "And one final example\n",
    "\n",
    "**Show five nearest gas stations from your current location**\n",
    "\n",
    "The required table"
   ]
  },
  {
   "cell_type": "code",
   "execution_count": null,
   "id": "b9b91f63",
   "metadata": {
    "hide_input": true,
    "tags": [
     "Hide",
     "Init"
    ]
   },
   "outputs": [],
   "source": [
    "from ipywidgets import HBox, VBox,widgets,Layout,HTML\n",
    "from IPython.display import display\n",
    "import spatialite\n",
    "import pandas as pd\n",
    "db = spatialite.connect('databases/spatialDB.sqlite')\n",
    "table1 = pd.read_sql_query('select pk_uid,geom from gas_stationS limit 5',db)\n",
    "table1_disp = widgets.Output()\n",
    "table1_header = widgets.HTML(value = f\"<b><font color='red'><center>GAS_STATIONS</center></b>\")\n",
    "with table1_disp:\n",
    "    display(table1)\n",
    "out=HBox([VBox([table1_header,table1_disp],layout = Layout(margin='0 100px 0 0'))])\n",
    "out"
   ]
  },
  {
   "cell_type": "code",
   "execution_count": null,
   "id": "732b1852",
   "metadata": {
    "hide_input": true,
    "scrolled": true,
    "slideshow": {
     "slide_type": "slide"
    },
    "tags": [
     "Hide",
     "Init"
    ]
   },
   "outputs": [],
   "source": [
    "from ipyleaflet import Map, DrawControl,GeoData,LayerGroup,Polygon,GeoJSON,Marker\n",
    "from ipywidgets import Button, HBox, VBox,widgets,Layout,GridspecLayout,IntSlider,HTML\n",
    "from IPython.display import display\n",
    "import spatialite\n",
    "import pandas as pd\n",
    "import geopandas as gpd\n",
    "import json\n",
    "import time\n",
    "db = spatialite.connect('databases/spatialDB.sqlite')\n",
    "coords=None\n",
    "\n",
    "def handle_click(**kwargs):\n",
    "    global coords\n",
    "    if kwargs.get('type') == 'dblclick':\n",
    "        layer_group.clear_layers()\n",
    "        coords = kwargs.get('coordinates')\n",
    "        layer_group.add_layer(Marker(location=coords))\n",
    "        findNearestGasStation()\n",
    "        \n",
    "def findNearestGasStation():\n",
    "    global coords\n",
    "    if coords is not None:\n",
    "        stateGeomSql = f\"\"\"SELECT u.pk_uid,st_asbinary(u.geom) as geom,st_distance(u.geom,\n",
    "        MakePoint({coords[1]},{coords[0]},4326)) as \n",
    "        dist_to_gas_station from gas_stations u order by dist_to_gas_station asc limit 5\"\"\"\n",
    "        gdf = gpd.GeoDataFrame.from_postgis(stateGeomSql, db,crs = 'EPSG:4326')\n",
    "        geo_data = GeoData(geo_dataframe = gdf,\n",
    "            style={'color': 'black', 'radius':8, 'fillColor': '#3366cc', 'opacity':0.5, 'weight':1.9, 'dashArray':'2', 'fillOpacity':0.6},\n",
    "            hover_style={'fillColor': 'red' , 'fillOpacity': 0.2},\n",
    "            point_style={'radius': 5, 'color': 'red', 'fillOpacity': 0.8, 'fillColor': 'blue', 'weight': 3},\n",
    "            name = 'Release')\n",
    "        layer_group.add_layer(geo_data)\n",
    "        center = [gdf.centroid.y.values[0],gdf.centroid.x.values[0]]\n",
    "        sMap.center = center\n",
    "        sMap.zoom = 12\n",
    "        \n",
    "sMap= Map(center=(41.482222, -81.669722), zoom=15,prefer_canvas =True)\n",
    "layer_group = LayerGroup()\n",
    "sMap.add_layer(layer_group)\n",
    "sMap.on_interaction(handle_click)\n",
    "sMap"
   ]
  },
  {
   "cell_type": "markdown",
   "id": "4d259437",
   "metadata": {
    "slideshow": {
     "slide_type": "slide"
    }
   },
   "source": [
    "\n",
    "# Congratulations!\n",
    "\n",
    "\n",
    "**You have finished an Hour of CI!**\n",
    "\n",
    "\n",
    "But, before you go ... \n",
    "\n",
    "1. Please fill out a very brief questionnaire to provide feedback and help us improve the Hour of CI lessons. It is fast and your feedback is very important to let us know what you learned and how we can improve the lessons in the future.\n",
    "2. If you would like a certificate, then please type your name below and click \"Create Certificate\" and you will be presented with a PDF certificate.\n",
    "\n",
    "<font size=\"+1\"><a style=\"background-color:blue;color:white;padding:12px;margin:10px;font-weight:bold;\" href=\"https://forms.gle/JUUBm76rLB8iYppN7\">Take the questionnaire and provide feedback</a></font>\n",
    "\n"
   ]
  },
  {
   "cell_type": "code",
   "execution_count": null,
   "id": "3b91dd39",
   "metadata": {
    "hide_input": true,
    "slideshow": {
     "slide_type": "-"
    },
    "tags": [
     "Hide",
     "Init"
    ]
   },
   "outputs": [],
   "source": [
    "\n",
    "# This code cell loads the Interact Textbox that will ask users for their name\n",
    "# Once they click \"Create Certificate\" then it will add their name to the certificate template\n",
    "# And present them a PDF certificate\n",
    "from PIL import Image\n",
    "from PIL import ImageFont\n",
    "from PIL import ImageDraw\n",
    "\n",
    "from ipywidgets import interact\n",
    "\n",
    "def make_cert(learner_name, lesson_name):\n",
    "    cert_filename = 'hourofci_certificate.pdf'\n",
    "\n",
    "    img = Image.open(\"../../../supplementary/hci-certificate-template.jpg\")\n",
    "    draw = ImageDraw.Draw(img)\n",
    "\n",
    "    cert_font = ImageFont.load_default()\n",
    "    \n",
    "    cert_font   = ImageFont.truetype('../../../supplementary/cruft.ttf', 150)\n",
    "    cert_fontsm = ImageFont.truetype('../../../supplementary/cruft.ttf', 80) \n",
    "    w,h = cert_font.getsize(learner_name)    \n",
    "    draw.text( xy = (1650-w/2,1100-h/2), text = learner_name, fill=(0,0,0),font=cert_font)\n",
    "    w,h = cert_fontsm.getsize(lesson_name)\n",
    "    draw.text( xy = (1650-w/2,1100-h/2 + 750), text = lesson_name, fill=(0,0,0),font=cert_fontsm)\n",
    "    img.save(cert_filename, \"PDF\", resolution=100.0)  \n",
    "    \n",
    "    return cert_filename\n",
    "\n",
    "\n",
    "interact_cert=interact.options(manual=True, manual_name=\"Create Certificate\")\n",
    "\n",
    "@interact_cert(name=\"Your Name\")\n",
    "def f(name):\n",
    "    print(\"Congratulations\",name)\n",
    "    filename = make_cert(name, 'Intermediate Geospatial Data')\n",
    "    print(\"Download your certificate by clicking the link below.\")\n",
    "    "
   ]
  },
  {
   "cell_type": "markdown",
   "id": "2849488f",
   "metadata": {},
   "source": [
    "<font size=\"+1\"><a style=\"background-color:blue;color:white;padding:12px;margin:10px;font-weight:bold;\" href=\"supplementary/hourofci_certificate.pdf?download=1\" download=\"supplementary/hourofci_certificate.pdf\">Download your certificate</a></font>"
   ]
  }
 ],
 "metadata": {
  "celltoolbar": "Edit Metadata",
  "kernelspec": {
   "display_name": "Python 3",
   "language": "python",
   "name": "python3"
  },
  "language_info": {
   "codemirror_mode": {
    "name": "ipython",
    "version": 3
   },
   "file_extension": ".py",
   "mimetype": "text/x-python",
   "name": "python",
   "nbconvert_exporter": "python",
   "pygments_lexer": "ipython3",
   "version": "3.8.1"
  },
  "rise": {
   "autolaunch": true,
   "overlay": "<div class='hciheader'></div><div class='hcifooter'></div>",
   "scroll": true
  }
 },
 "nbformat": 4,
 "nbformat_minor": 5
}
