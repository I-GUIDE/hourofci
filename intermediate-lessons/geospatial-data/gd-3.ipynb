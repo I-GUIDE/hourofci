{
 "cells": [
  {
   "cell_type": "markdown",
   "metadata": {
    "slideshow": {
     "slide_type": "slide"
    },
    "tags": []
   },
   "source": [
    "# Intermediate Lesson on Geospatial Data \n",
    "\n",
    "## Structured Query Language (SQL)\n",
    "\n",
    "<strong>Lesson Developers:</strong> Jayakrishnan Ajayakumar, Shana Crosson, Mohsen Ahmadkhani\n",
    "\n",
    "#### Part 3 of 5"
   ]
  },
  {
   "cell_type": "code",
   "execution_count": null,
   "metadata": {
    "hide_input": true,
    "init_cell": true,
    "slideshow": {
     "slide_type": "skip"
    },
    "tags": [
     "Hide"
    ]
   },
   "outputs": [],
   "source": [
    "# This code cell starts the necessary setup for Hour of CI lesson notebooks.\n",
    "# First, it enables users to hide and unhide code by producing a 'Toggle raw code' button below.\n",
    "# Second, it imports the hourofci package, which is necessary for lessons and interactive Jupyter Widgets.\n",
    "# Third, it helps hide/control other aspects of Jupyter Notebooks to improve the user experience\n",
    "# This is an initialization cell\n",
    "# It is not displayed because the Slide Type is 'Skip'\n",
    "\n",
    "from IPython.display import HTML, IFrame, Javascript, display\n",
    "from ipywidgets import interactive\n",
    "import ipywidgets as widgets\n",
    "from ipywidgets import Layout\n",
    "\n",
    "import getpass # This library allows us to get the username (User agent string)\n",
    "\n",
    "# import package for hourofci project\n",
    "import sys\n",
    "sys.path.append('../../supplementary') # relative path (may change depending on the location of the lesson notebook)\n",
    "# sys.path.append('supplementary')\n",
    "import hourofci\n",
    "try:\n",
    "    import os\n",
    "    os.chdir('supplementary')\n",
    "except:\n",
    "    pass\n",
    "\n",
    "# load javascript to initialize/hide cells, get user agent string, and hide output indicator\n",
    "# hide code by introducing a toggle button \"Toggle raw code\"\n",
    "HTML(''' \n",
    "    <script type=\"text/javascript\" src=\\\"../../supplementary/js/custom.js\\\"></script>\n",
    "    \n",
    "    <style>\n",
    "        .output_prompt{opacity:0;}\n",
    "    </style>\n",
    "    \n",
    "    <input id=\"toggle_code\" type=\"button\" value=\"Toggle raw code\">\n",
    "''')"
   ]
  },
  {
   "cell_type": "markdown",
   "metadata": {
    "slideshow": {
     "slide_type": "slide"
    }
   },
   "source": [
    "## But how do we talk to the DBMS?\n",
    "We now know that DBMS acts as an interface between us and the database and helps to convert our request so that the database can understand it. We use a special language called **SQL** to fetch data from the database. \n",
    "\n",
    ">**Structured Query Language (SQL)** is a programming language designed to get information out of and put it into a relational database.\n",
    "\n",
    "<img src = \"supplementary/images/sql_funny.png\" width = \"600px\">\n"
   ]
  },
  {
   "cell_type": "markdown",
   "metadata": {
    "slideshow": {
     "scrolled": true,
     "slide_type": "slide"
    }
   },
   "source": [
    "Run the cell below to see two databases and corresponding tables. Use the dropdowns to select the database and tables. What do you notice about the data types and data content in each table?"
   ]
  },
  {
   "cell_type": "code",
   "execution_count": null,
   "metadata": {
    "hide_input": true,
    "slideshow": {
     "scrolled": true,
     "slide_type": "-"
    },
    "tags": [
     "Hide",
     "Init"
    ]
   },
   "outputs": [],
   "source": [
    "import displaydatabases\n",
    "from questiondisplay import QueryWindow\n",
    "disp = displaydatabases.Display()\n",
    "disp.displayDatabases"
   ]
  },
  {
   "cell_type": "markdown",
   "metadata": {
    "slideshow": {
     "slide_type": "slide"
    }
   },
   "source": [
    "## Talking to a Database using SQL"
   ]
  },
  {
   "cell_type": "markdown",
   "metadata": {},
   "source": [
    "### 1. Selecting records from one or more tables in a database\n",
    "\n",
    ">**Select statement** is used to **retrieve data from a Database** \n",
    "\n",
    "The general **syntax*** for **select statement** is \n",
    "\n",
    "```mysql\n",
    "select column1,column2..columnN from table_name\n",
    "```\n",
    "\n",
    "Where column1, column2 are the columns that you want to select from the table (with name table_name).\n",
    "\n",
    "*Syntax of a programming language is a set of punctuation rules that defines what the combination of symbols and characters means to the computer. "
   ]
  },
  {
   "cell_type": "markdown",
   "metadata": {
    "slideshow": {
     "slide_type": "slide"
    }
   },
   "source": [
    "#### 1.1 Select All Columns from a Table\n",
    "\n",
    "The syntax for selecting all columns from a table is\n",
    "\n",
    "```mysql\n",
    "select * from table_name\n",
    "```\n",
    "The <b>*</b> symbol indicates that we would want all the columns from the table. \n",
    "\n",
    "Let's look at a concrete example. \n",
    "\n"
   ]
  },
  {
   "cell_type": "markdown",
   "metadata": {
    "slideshow": {
     "slide_type": "slide"
    }
   },
   "source": [
    "\n",
    "<img src = \"supplementary/images/SELECT_STAR.png\" width = \"400px\">\n",
    "\n",
    "We have a table BigCats which contains five records (rows) and has four columns. The query\n",
    "```mysql\n",
    "select * from BigCats\n",
    "```\n",
    "will retrieve all the rows and columns from the BigCats table\n",
    "\n",
    "Now you can try out exercises based on the select * query below"
   ]
  },
  {
   "cell_type": "markdown",
   "metadata": {
    "slideshow": {
     "slide_type": "slide"
    }
   },
   "source": [
    "**1. Select all columns from actor table**"
   ]
  },
  {
   "cell_type": "code",
   "execution_count": null,
   "metadata": {
    "hide_input": true,
    "tags": [
     "Hide",
     "Init"
    ]
   },
   "outputs": [],
   "source": [
    "from IPython.display import display\n",
    "import displaydatabases\n",
    "from questiondisplay import QueryWindow\n",
    "\n",
    "display(QueryWindow(1).display())"
   ]
  },
  {
   "cell_type": "markdown",
   "metadata": {
    "slideshow": {
     "slide_type": "slide"
    }
   },
   "source": [
    "**2. Select all columns from staff table**"
   ]
  },
  {
   "cell_type": "code",
   "execution_count": null,
   "metadata": {
    "hide_input": true,
    "tags": [
     "Hide",
     "Init"
    ]
   },
   "outputs": [],
   "source": [
    "display(QueryWindow(2).display())"
   ]
  },
  {
   "cell_type": "markdown",
   "metadata": {
    "slideshow": {
     "slide_type": "slide"
    },
    "tags": []
   },
   "source": [
    "#### 1.2 Select subset of columns from a table"
   ]
  },
  {
   "cell_type": "markdown",
   "metadata": {},
   "source": [
    "The syntax for selecting subset of columns from a table is\n",
    "\n",
    "```mysql\n",
    "select column1,column2...columnN from table_name\n",
    "```\n",
    "Let's look at a concrete example."
   ]
  },
  {
   "cell_type": "markdown",
   "metadata": {
    "slideshow": {
     "slide_type": "slide"
    }
   },
   "source": [
    "\n",
    "<img src = \"supplementary/images/SELECT_COLUMN.png\" width = \"500px\">\n",
    "\n",
    "The query\n",
    "```mysql\n",
    "select name from BigCats\n",
    "```\n",
    "will retrieve the single column 'name' and the 5 records associated with it.\n",
    "\n",
    "Try out more examples as given in the next slides. "
   ]
  },
  {
   "cell_type": "markdown",
   "metadata": {
    "slideshow": {
     "slide_type": "slide"
    }
   },
   "source": [
    "**3. Select staff_id,first_name and last_name from staff table**"
   ]
  },
  {
   "cell_type": "code",
   "execution_count": null,
   "metadata": {
    "hide_input": true,
    "tags": [
     "Hide",
     "Init"
    ]
   },
   "outputs": [],
   "source": [
    "display(QueryWindow(3).display())"
   ]
  },
  {
   "cell_type": "markdown",
   "metadata": {
    "slideshow": {
     "slide_type": "slide"
    }
   },
   "source": [
    "**4. Select first_name and last_name from actor table**"
   ]
  },
  {
   "cell_type": "code",
   "execution_count": null,
   "metadata": {
    "hide_input": true,
    "tags": [
     "Hide",
     "Init"
    ]
   },
   "outputs": [],
   "source": [
    "display(QueryWindow(4).display())"
   ]
  },
  {
   "cell_type": "markdown",
   "metadata": {
    "slideshow": {
     "slide_type": "slide"
    },
    "tags": []
   },
   "source": [
    "#### 1.3 Select distinct values from a column\n",
    "\n",
    "The **syntax** for **select distinct statement** is \n",
    "\n",
    "```mysql\n",
    "select distinct column1,column2..columnN from table_name\n",
    "```\n",
    "\n",
    "Where column1, column2, columnN are the columns that you want to select from the table (with name table_name) and only distinct values for column1 will be selected\n",
    "\n",
    "Let's see a concrete example."
   ]
  },
  {
   "cell_type": "markdown",
   "metadata": {
    "slideshow": {
     "slide_type": "slide"
    }
   },
   "source": [
    "\n",
    "<img src = \"supplementary/images/distinct.png\" width = \"500px\">\n",
    "\n",
    "The query\n",
    "```mysql\n",
    "select distinct state from Salary\n",
    "```\n",
    "will retrieve the unique states from the state column\n",
    "\n",
    "Try out following examples!"
   ]
  },
  {
   "cell_type": "markdown",
   "metadata": {
    "slideshow": {
     "slide_type": "slide"
    }
   },
   "source": [
    "**5. Select the unique set of cities from employees table**"
   ]
  },
  {
   "cell_type": "code",
   "execution_count": null,
   "metadata": {
    "hide_input": true,
    "tags": [
     "Hide",
     "Init"
    ]
   },
   "outputs": [],
   "source": [
    "display(QueryWindow(5).display())"
   ]
  },
  {
   "cell_type": "markdown",
   "metadata": {
    "slideshow": {
     "slide_type": "slide"
    }
   },
   "source": [
    "### 2. Filter Records with where clause"
   ]
  },
  {
   "cell_type": "markdown",
   "metadata": {},
   "source": [
    "The **where clause** is used to extract records that meets a specified condition. It is one of the most powerful feature of an SQL query.\n",
    "\n",
    "The syntax for where clause is \n",
    "\n",
    "```mysql\n",
    "SELECT column1, column2, ..columnN\n",
    "FROM table_name\n",
    "WHERE condition;\n",
    "```\n",
    "\n",
    "Let's look at some concrete examples"
   ]
  },
  {
   "cell_type": "markdown",
   "metadata": {
    "slideshow": {
     "slide_type": "slide"
    }
   },
   "source": [
    "\n",
    "<img src = \"supplementary/images/whereI.png\" width = \"500px\">\n",
    "The query\n",
    "\n",
    "\n",
    "```mysql\n",
    "select * from Salary where salary>200000\n",
    "```\n",
    "will retrieve all rows and columns (since we are using \\*) that matches the criteria that salary should be greater than 200000 (which is 2 rows)\n",
    "\n",
    "Let's look at another example"
   ]
  },
  {
   "cell_type": "markdown",
   "metadata": {
    "slideshow": {
     "slide_type": "slide"
    }
   },
   "source": [
    "\n",
    "<img src = \"supplementary/images/whereII.png\" width = \"500px\">\n",
    "\n",
    "The query\n",
    "```mysql\n",
    "select * from Salary where Job_Title = 'Doctor'\n",
    "```\n",
    "will retrieve all rows and columns (since we are using \\*) that matches the criteria that Job_Title is 'Doctor'. \n",
    "\n",
    "**Note** since Job_Title is of data type Text, we use single quotes while querying. Since salary is numercical we don't need quotes. \n",
    "\n",
    "Try out more examples as given below"
   ]
  },
  {
   "cell_type": "markdown",
   "metadata": {
    "slideshow": {
     "slide_type": "slide"
    }
   },
   "source": [
    "**6. From film table select films having length more than 100 minutes**"
   ]
  },
  {
   "cell_type": "code",
   "execution_count": null,
   "metadata": {
    "hide_input": true,
    "tags": [
     "Hide",
     "Init"
    ]
   },
   "outputs": [],
   "source": [
    "display(QueryWindow(6).display())"
   ]
  },
  {
   "cell_type": "markdown",
   "metadata": {
    "slideshow": {
     "slide_type": "slide"
    }
   },
   "source": [
    "#### 2.1 AND, OR, NOT for filtering based on multiple conditions \n",
    "\n",
    "The AND and OR operators are used for filtering records based on more than one condition.  <br/>\n",
    "The AND operator displays a record if **all the conditions separated by AND are True**\n",
    "\n",
    "The **syntax for AND operator** is \n",
    "\n",
    "```mysql\n",
    "SELECT column1, column2, ..columnN\n",
    "FROM table_name\n",
    "WHERE condition1 AND condition2 AND condition3...\n",
    "```\n",
    "\n",
    "The OR operator displays a record if **any of the conditions separated by OR is True**.\n",
    "\n",
    "The **syntax for OR operator** is \n",
    "\n",
    "```mysql\n",
    "SELECT column1, column2, ..columnN\n",
    "FROM table_name\n",
    "WHERE condition1 OR condition2 OR condition3...\n",
    "```\n",
    "\n",
    "The NOT operator displays a record if the **condition(s) is NOT TRUE**.\n",
    "\n",
    "The **syntax for NOT operator** is \n",
    "\n",
    "```mysql\n",
    "SELECT column1, column2, ..columnN\n",
    "FROM table_name\n",
    "WHERE NOT condition;\n",
    "```\n",
    "Lets look at some examples"
   ]
  },
  {
   "cell_type": "markdown",
   "metadata": {
    "slideshow": {
     "slide_type": "slide"
    }
   },
   "source": [
    "\n",
    "<img src = \"supplementary/images/AND.png\" width = \"700px\">\n",
    "\n",
    "The query\n",
    "```mysql\n",
    "select * from Salary where state = 'New York' and salary>200000\n",
    "```\n",
    "will retrieve all rows and columns (since we are using \\*) that matches the criteria that state is 'New York' (again this is Text) and has a salary greater than 200000 (we have only one such record)"
   ]
  },
  {
   "cell_type": "markdown",
   "metadata": {
    "slideshow": {
     "slide_type": "slide"
    }
   },
   "source": [
    "\n",
    "<img src = \"supplementary/images/OR.png\" width = \"700px\">\n",
    "In this example we are using the OR operator\n",
    "\n",
    "The query\n",
    "```mysql\n",
    "select * from Salary where state = 'New York' or state = 'Ohio'\n",
    "```\n",
    "will retrieve all rows and columns that matches the criteria that state is 'New York'  **OR** state is 'Ohio'. We have three such records (2 from New York and 1 from Ohio)"
   ]
  },
  {
   "cell_type": "markdown",
   "metadata": {
    "slideshow": {
     "slide_type": "slide"
    }
   },
   "source": [
    "\n",
    "<img src = \"supplementary/images/NOT.png\" width = \"700px\">\n",
    "\n",
    "In this example we are using the NOT operator\n",
    "\n",
    "The query\n",
    "```mysql\n",
    "select * from Salary where not Job_Title = 'Doctor'\n",
    "```\n",
    "will retrieve all rows and columns that matches the criteria that Job_Title is not 'Doctor'. We have three such records with Job_Title not as Doctor.\n",
    "\n",
    "Try out the examples given below"
   ]
  },
  {
   "cell_type": "markdown",
   "metadata": {
    "slideshow": {
     "slide_type": "slide"
    }
   },
   "source": [
    "**9. Retrieve employees with title as Sales Manager *and* city as Calgary**"
   ]
  },
  {
   "cell_type": "code",
   "execution_count": null,
   "metadata": {
    "hide_input": true,
    "tags": [
     "Hide",
     "Init"
    ]
   },
   "outputs": [],
   "source": [
    "display(QueryWindow(9).display())"
   ]
  },
  {
   "cell_type": "markdown",
   "metadata": {
    "slideshow": {
     "slide_type": "slide"
    }
   },
   "source": [
    "**10. Retrieve all films from film table with length greater than 100 minutes and rating equals to PG**"
   ]
  },
  {
   "cell_type": "code",
   "execution_count": null,
   "metadata": {
    "hide_input": true,
    "tags": [
     "Hide",
     "Init"
    ]
   },
   "outputs": [],
   "source": [
    "display(QueryWindow(10).display())"
   ]
  },
  {
   "cell_type": "markdown",
   "metadata": {
    "slideshow": {
     "slide_type": "slide"
    }
   },
   "source": [
    "**11. Retrieve all films from film table with length greater than 100 minutes *or* rating equals to PG**"
   ]
  },
  {
   "cell_type": "code",
   "execution_count": null,
   "metadata": {
    "hide_input": true,
    "tags": [
     "Hide",
     "Init"
    ]
   },
   "outputs": [],
   "source": [
    "display(QueryWindow(11).display())"
   ]
  },
  {
   "cell_type": "markdown",
   "metadata": {
    "slideshow": {
     "slide_type": "slide"
    }
   },
   "source": [
    "**12. Select all invoices from invoices table where BillingCountry is either Canada and USA**"
   ]
  },
  {
   "cell_type": "code",
   "execution_count": null,
   "metadata": {
    "hide_input": true,
    "tags": [
     "Hide",
     "Init"
    ]
   },
   "outputs": [],
   "source": [
    "display(QueryWindow(12).display())"
   ]
  },
  {
   "cell_type": "markdown",
   "metadata": {
    "slideshow": {
     "slide_type": "slide"
    }
   },
   "source": [
    "**13. Select all invoices from invoices table where Total is greater than 1 and less than 5 or total greater than 10 and less than 100**"
   ]
  },
  {
   "cell_type": "code",
   "execution_count": null,
   "metadata": {
    "hide_input": true,
    "tags": [
     "Hide",
     "Init"
    ]
   },
   "outputs": [],
   "source": [
    "display(QueryWindow(13).display())"
   ]
  },
  {
   "cell_type": "markdown",
   "metadata": {
    "slideshow": {
     "slide_type": "slide"
    }
   },
   "source": [
    "**14. Select all invoices from invoices table that have BillingCountry other than Canada**"
   ]
  },
  {
   "cell_type": "code",
   "execution_count": null,
   "metadata": {
    "hide_input": true,
    "tags": [
     "Hide",
     "Init"
    ]
   },
   "outputs": [],
   "source": [
    "display(QueryWindow(14).display())"
   ]
  },
  {
   "cell_type": "markdown",
   "metadata": {
    "slideshow": {
     "slide_type": "slide"
    }
   },
   "source": [
    "### 3. Order records using Order By"
   ]
  },
  {
   "cell_type": "markdown",
   "metadata": {},
   "source": [
    "Order by keyword is used to **sort query results by ascending or descending**\n",
    "\n",
    "The syntax for Order by is \n",
    "\n",
    "```mysql\n",
    "SELECT column1, column2, ..columnN\n",
    "FROM table_name\n",
    "ORDER BY column1, column2, ... ASC|DESC;\n",
    "```\n",
    "\n",
    "Lets look at an example"
   ]
  },
  {
   "cell_type": "markdown",
   "metadata": {
    "slideshow": {
     "slide_type": "slide"
    }
   },
   "source": [
    "\n",
    "<img src = \"supplementary/images/desc.png\" width = \"700px\">\n",
    "\n",
    "The query\n",
    "```mysql\n",
    "select * from Salary order by salary desc\n",
    "```\n",
    "will retrieve all rows and columns and order them by salary in decreasing order (highest first).\n",
    "\n",
    "If you want to order the table by salary in ascending order (lowest first), the query will be\n",
    "\n",
    "```mysql\n",
    "select * from Salary order by salary asc\n",
    "```\n",
    "\n",
    "or you can even write\n",
    "\n",
    "```mysql\n",
    "select * from Salary order by salary\n",
    "```\n",
    "\n",
    "As by default the ordering will be in ascending.\n",
    "\n",
    "Try out the examples given below"
   ]
  },
  {
   "cell_type": "markdown",
   "metadata": {
    "slideshow": {
     "slide_type": "slide"
    }
   },
   "source": [
    "**15. Select first_name and last_name from actor table and sort by actor first_name ascending**"
   ]
  },
  {
   "cell_type": "code",
   "execution_count": null,
   "metadata": {
    "hide_input": true,
    "tags": [
     "Hide",
     "Init"
    ]
   },
   "outputs": [],
   "source": [
    "display(QueryWindow(15).display())"
   ]
  },
  {
   "cell_type": "markdown",
   "metadata": {
    "slideshow": {
     "slide_type": "slide"
    }
   },
   "source": [
    "**16. Sort payment table by amount in descending order**"
   ]
  },
  {
   "cell_type": "code",
   "execution_count": null,
   "metadata": {
    "hide_input": true,
    "tags": [
     "Hide",
     "Init"
    ]
   },
   "outputs": [],
   "source": [
    "display(QueryWindow(16).display())"
   ]
  },
  {
   "cell_type": "markdown",
   "metadata": {
    "slideshow": {
     "slide_type": "slide"
    }
   },
   "source": [
    "**17. Select first_name and last_name from actor table and sort by actor first_name ascending and actor last_name descending**"
   ]
  },
  {
   "cell_type": "code",
   "execution_count": null,
   "metadata": {
    "hide_input": true,
    "tags": [
     "Hide",
     "Init"
    ]
   },
   "outputs": [],
   "source": [
    "display(QueryWindow(17).display())"
   ]
  },
  {
   "cell_type": "markdown",
   "metadata": {
    "slideshow": {
     "slide_type": "slide"
    }
   },
   "source": [
    "### 4. Finding Minimum, Maximum, Average, Sum and Count for Columns"
   ]
  },
  {
   "cell_type": "markdown",
   "metadata": {},
   "source": [
    "Aggregate functions **min(), max(), avg(), sum(), and count()** can be used to find the Minimum, Maximum, Average, Sum and Count for a selected column\n",
    "\n",
    "Syntax for **min()**\n",
    "\n",
    "```mysql\n",
    "SELECT MIN(column_name) FROM table_name\n",
    "```\n",
    "\n",
    "Syntax for **max()**\n",
    "\n",
    "```mysql\n",
    "SELECT MAX(column_name) FROM table_name\n",
    "```\n",
    "\n",
    "Syntax for **avg()**\n",
    "\n",
    "```mysql\n",
    "SELECT AVG(column_name) FROM table_name\n",
    "```\n",
    "\n",
    "Syntax for **sum()**\n",
    "\n",
    "```mysql\n",
    "SELECT sum(column_name) FROM table_name\n",
    "```\n",
    "\n",
    "Syntax for **count()**\n",
    "\n",
    "```mysql\n",
    "SELECT count(column_name) FROM table_name\n",
    "```\n",
    "\n",
    "Let's look at some concrete examples"
   ]
  },
  {
   "cell_type": "markdown",
   "metadata": {
    "slideshow": {
     "slide_type": "slide"
    }
   },
   "source": [
    "\n",
    "<img src = \"supplementary/images/count.png\" width = \"700px\">\n",
    "\n",
    "count(\\*) returns the number of rows returned by the select statement. In this example the query\n",
    "\n",
    "```mysql\n",
    "SELECT count(*) FROM Salary where salary>200000\n",
    "```\n",
    "\n",
    "will return a column with name count(\\*) with a single row having value of 2 (because there are only 2 records with salary greater than 200000). If the query was\n",
    "\n",
    "```mysql\n",
    "SELECT count(*) FROM Salary where state = 'Ohio'\n",
    "```\n",
    "\n",
    "the value will be 1\n",
    "\n",
    "Now let's look at an example for min() function"
   ]
  },
  {
   "cell_type": "markdown",
   "metadata": {
    "slideshow": {
     "slide_type": "slide"
    }
   },
   "source": [
    "\n",
    "<img src = \"supplementary/images/min.png\" width = \"700px\">\n",
    "\n",
    "This query\n",
    "\n",
    "```mysql\n",
    "SELECT min(salary) FROM Salary\n",
    "```\n",
    "\n",
    "Returns the minimum value from the salary column in the Salary table (which is 110000)."
   ]
  },
  {
   "cell_type": "markdown",
   "metadata": {
    "slideshow": {
     "slide_type": "slide"
    }
   },
   "source": [
    "\n",
    "<img src = \"supplementary/images/max.png\" width = \"700px\">\n",
    "Similarly the max() function returns the maximum value for the particular column (salary) from the table (Salary) "
   ]
  },
  {
   "cell_type": "markdown",
   "metadata": {
    "slideshow": {
     "slide_type": "slide"
    }
   },
   "source": [
    "\n",
    "<img src = \"supplementary/images/avg.png\" width = \"700px\">\n",
    "\n",
    "As the name implies the avg() function returns the average of the values for the particular column. For example the query\n",
    "\n",
    "```mysql\n",
    "SELECT avg(salary) FROM Salary where Job_Title = 'Computer Scientist'\n",
    "```\n",
    "\n",
    "returns the average salary where the Job_Title is 'Computer Scientist'"
   ]
  },
  {
   "cell_type": "markdown",
   "metadata": {
    "slideshow": {
     "slide_type": "slide"
    }
   },
   "source": [
    "\n",
    "<img src = \"supplementary/images/sum.png\" width = \"700px\">\n",
    "\n",
    "The sum() function returns the sum of the values in the particular column. The query\n",
    "\n",
    "```mysql\n",
    "SELECT sum(salary) FROM Salary where Job_Title = 'Doctor'\n",
    "```\n",
    "returns the sum of values in the salary column where the Job_Title is 'Doctor'\n",
    "\n",
    "Try out the examples to get a better understanding of the aggregate functions"
   ]
  },
  {
   "cell_type": "markdown",
   "metadata": {
    "slideshow": {
     "slide_type": "slide"
    }
   },
   "source": [
    "**18. Select minimum amount from payment table.**"
   ]
  },
  {
   "cell_type": "code",
   "execution_count": null,
   "metadata": {
    "hide_input": true,
    "tags": [
     "Hide",
     "Init"
    ]
   },
   "outputs": [],
   "source": [
    "display(QueryWindow(18).display())"
   ]
  },
  {
   "cell_type": "markdown",
   "metadata": {
    "slideshow": {
     "slide_type": "slide"
    }
   },
   "source": [
    "### 5. Grouping Records together by Group By statement\n",
    "\n",
    "The Group By statement is used to **arrange identical data into groups**. The group by clause follows the where clause (if it's present) and precedes the order by clause (if it's present). For example you want to aggregate the total number of invoices by Country, or you want to get the count of employees with different Title (how many General Manager, Sales Manager etc)\n",
    "\n",
    "The Group By statement is often used with aggregate functions (COUNT(), MAX(), MIN(), SUM(), AVG()) to group the result-set by one or more columns.\n",
    "\n",
    "The syntax for Group By statement\n",
    "\n",
    "```mysql\n",
    "SELECT column_name(s)\n",
    "FROM table_name\n",
    "WHERE condition\n",
    "GROUP BY column_name(s)\n",
    "ORDER BY column_name(s)\n",
    "```\n",
    "\n",
    "The where condition and order by are optional and depends up on the use-case.\n",
    "\n",
    "Let's look at some examples"
   ]
  },
  {
   "cell_type": "markdown",
   "metadata": {
    "slideshow": {
     "slide_type": "slide"
    }
   },
   "source": [
    "\n",
    "<img src = \"supplementary/images/groupbycount.png\" width = \"700px\">\n",
    "\n",
    "In this example we are grouping by the column State and then applying the aggregate function count()\n",
    "\n",
    "The query \n",
    "\n",
    "```mysql\n",
    "SELECT State,count(*) from Salary group by State\n",
    "```\n",
    "\n",
    "returns the count of each state in the table. You can think of count(\\*) as being applied to each set of states grouped together. We have four different states with two states having count 2 and 2 states having count of 1. \n",
    "\n",
    "**Point to Ponder**\n",
    "\n",
    "This will give just the state name and the count. What if we were able to Map the counts. Then we could see whether there are any spatial patterns. This is the power of spatial data. The ability to map gives you the flexibility to look at the data from a completely new perspective. We will look at how this is possible in the next chapter."
   ]
  },
  {
   "cell_type": "markdown",
   "metadata": {
    "slideshow": {
     "slide_type": "slide"
    }
   },
   "source": [
    "\n",
    "<img src = \"supplementary/images/groupbyavg.png\" width = \"700px\">\n",
    "\n",
    "In this query\n",
    "\n",
    "```mysql\n",
    "SELECT Job_Title,avg(salary) from Salary group by Job_Title\n",
    "```\n",
    "we are calculating the average salary for each Job_Title. We have two Job_Title (that of Computer Scientist and Doctor)."
   ]
  },
  {
   "cell_type": "markdown",
   "metadata": {
    "slideshow": {
     "slide_type": "slide"
    }
   },
   "source": [
    "\n",
    "<img src = \"supplementary/images/groupbysum.png\" width = \"700px\">\n",
    "\n",
    "This query\n",
    "\n",
    "```mysql\n",
    "SELECT Job_Title,sum(salary) from Salary group by Job_Title\n",
    "```\n",
    "\n",
    "is very similar to the avg() query, but here we are calculating the sum of salaries (which might not be a useful result in reality)."
   ]
  },
  {
   "cell_type": "markdown",
   "metadata": {
    "slideshow": {
     "slide_type": "slide"
    }
   },
   "source": [
    "\n",
    "<img src = \"supplementary/images/groupbymax.png\" width = \"700px\">\n",
    "\n",
    "By this query\n",
    "```mysql\n",
    "SELECT Job_Title,max(salary) from Salary group by Job_Title\n",
    "```\n",
    "we select the maximum salary for each Job_Title."
   ]
  },
  {
   "cell_type": "markdown",
   "metadata": {
    "slideshow": {
     "slide_type": "slide"
    }
   },
   "source": [
    "\n",
    "<img src = \"supplementary/images/groupbymin.png\" width = \"700px\">\n",
    "\n",
    "and by this query\n",
    "\n",
    "```mysql\n",
    "SELECT Job_Title,min(salary) from Salary group by Job_Title\n",
    "```\n",
    "we select the minimum salary for each Job_Title.\n",
    "\n",
    "Now you can try out the queries given below "
   ]
  },
  {
   "cell_type": "markdown",
   "metadata": {
    "slideshow": {
     "slide_type": "slide"
    }
   },
   "source": [
    "**26. Select sum Total of invoices for each BillingCountry**"
   ]
  },
  {
   "cell_type": "code",
   "execution_count": null,
   "metadata": {
    "hide_input": true,
    "tags": [
     "Hide",
     "Init"
    ]
   },
   "outputs": [],
   "source": [
    "display(QueryWindow(26).display())"
   ]
  },
  {
   "cell_type": "markdown",
   "metadata": {
    "slideshow": {
     "slide_type": "slide"
    }
   },
   "source": [
    "**27. Select number of invoices for each BillingCountry**"
   ]
  },
  {
   "cell_type": "code",
   "execution_count": null,
   "metadata": {
    "hide_input": true,
    "tags": [
     "Hide",
     "Init"
    ]
   },
   "outputs": [],
   "source": [
    "display(QueryWindow(27).display())"
   ]
  },
  {
   "cell_type": "markdown",
   "metadata": {
    "slideshow": {
     "slide_type": "slide"
    }
   },
   "source": [
    "**28. select average length of films from film table grouped on rating.**"
   ]
  },
  {
   "cell_type": "code",
   "execution_count": null,
   "metadata": {
    "hide_input": true,
    "tags": [
     "Hide",
     "Init"
    ]
   },
   "outputs": [],
   "source": [
    "display(QueryWindow(28).display())"
   ]
  },
  {
   "cell_type": "markdown",
   "metadata": {
    "slideshow": {
     "slide_type": "slide"
    }
   },
   "source": [
    "**29. Select maximum rental_rate of films from film table grouped on rating.**"
   ]
  },
  {
   "cell_type": "code",
   "execution_count": null,
   "metadata": {
    "hide_input": true,
    "tags": [
     "Hide",
     "Init"
    ]
   },
   "outputs": [],
   "source": [
    "display(QueryWindow(29).display())"
   ]
  },
  {
   "cell_type": "markdown",
   "metadata": {
    "slideshow": {
     "slide_type": "slide"
    }
   },
   "source": [
    "**30. Select average rental_rate for each rating for each release_year.**"
   ]
  },
  {
   "cell_type": "code",
   "execution_count": null,
   "metadata": {
    "hide_input": true,
    "tags": [
     "Hide",
     "Init"
    ]
   },
   "outputs": [],
   "source": [
    "display(QueryWindow(30).display())"
   ]
  },
  {
   "cell_type": "markdown",
   "metadata": {
    "slideshow": {
     "slide_type": "slide"
    }
   },
   "source": [
    "**31. Select total number of invoices for each BillingCity for the BillingCountry Germany.**"
   ]
  },
  {
   "cell_type": "code",
   "execution_count": null,
   "metadata": {
    "hide_input": true,
    "tags": [
     "Hide",
     "Init"
    ]
   },
   "outputs": [],
   "source": [
    "display(QueryWindow(31).display())"
   ]
  },
  {
   "cell_type": "markdown",
   "metadata": {
    "slideshow": {
     "slide_type": "slide"
    }
   },
   "source": [
    "**32. Select sum total of Total for invoices for each BillingCity for the BillingCountry Germany and order the records by the sum total in descending order.**"
   ]
  },
  {
   "cell_type": "code",
   "execution_count": null,
   "metadata": {
    "hide_input": true,
    "tags": [
     "Hide",
     "Init"
    ]
   },
   "outputs": [],
   "source": [
    "display(QueryWindow(32).display())"
   ]
  },
  {
   "cell_type": "markdown",
   "metadata": {
    "slideshow": {
     "slide_type": "slide"
    }
   },
   "source": [
    "### 6. Aliases for providing Temporary Name"
   ]
  },
  {
   "cell_type": "markdown",
   "metadata": {},
   "source": [
    "Aliases are used to give a **table or column in a table a temporary name**. Most of the time aliases are used to make the **query more readable**. Aliases **only exists until the query is running**.  \n",
    "\n",
    "The syntax for column alias is \n",
    "\n",
    "```mysql\n",
    "SELECT column_name AS alias_name\n",
    "FROM table_name;\n",
    "```\n",
    "\n",
    "And syntax for table alias is \n",
    "\n",
    "```mysql\n",
    "SELECT column_name\n",
    "FROM table_name as alias_name;\n",
    "```\n",
    "\n",
    "Let's look at some examples"
   ]
  },
  {
   "cell_type": "markdown",
   "metadata": {
    "slideshow": {
     "slide_type": "slide"
    }
   },
   "source": [
    "\n",
    "<img src = \"supplementary/images/columnalias.png\" width = \"700px\">\n",
    "\n",
    "In this query\n",
    "\n",
    "```mysql\n",
    "SELECT Job_Title,min(salary) as MIN_SALARY from Salary group by Job_Title\n",
    "```\n",
    "we are using an alias name for the column min(salary) (which is part of the result) as MIN_SALARY. Eventhough it doesn't change anything to the result, it makes the result more readable. \n",
    "\n",
    "Next we look at how we can use table alias in an effective way. "
   ]
  },
  {
   "cell_type": "markdown",
   "metadata": {
    "slideshow": {
     "slide_type": "slide"
    }
   },
   "source": [
    "\n",
    "<img src = \"supplementary/images/groupbyavg.png\" width = \"700px\">\n",
    "\n",
    "In this query \n",
    "\n",
    "```mysql\n",
    "SELECT s.Job_Title,s.salary from Salary as s where s.state\n",
    "```\n",
    "we are setting an alias name 's' for the table Salary. Notice how we use the '.' operator to access the columns. This is particularly useful when we are joining multiple tables (about which we will learn in the last section). \n",
    "\n",
    "Try out the examples given below"
   ]
  },
  {
   "cell_type": "markdown",
   "metadata": {
    "slideshow": {
     "slide_type": "slide"
    }
   },
   "source": [
    "**33. Select sum total of Total for invoices for each BillingCity for the BillingCountry Germany and order the records by the sum total in descending order. Name the sum total of Total as TotalAmount**"
   ]
  },
  {
   "cell_type": "code",
   "execution_count": null,
   "metadata": {
    "hide_input": true,
    "tags": [
     "Hide",
     "Init"
    ]
   },
   "outputs": [],
   "source": [
    "display(QueryWindow(33).display())"
   ]
  },
  {
   "cell_type": "markdown",
   "metadata": {
    "slideshow": {
     "slide_type": "slide"
    }
   },
   "source": [
    "**34. Select total number of invoices for each BillingCity for the BillingCountry Germany. Name the total number of invoices column as TotalInvoices**"
   ]
  },
  {
   "cell_type": "code",
   "execution_count": null,
   "metadata": {
    "hide_input": true,
    "tags": [
     "Hide",
     "Init"
    ]
   },
   "outputs": [],
   "source": [
    "display(QueryWindow(34).display())"
   ]
  },
  {
   "cell_type": "markdown",
   "metadata": {
    "slideshow": {
     "slide_type": "slide"
    },
    "tags": []
   },
   "source": [
    "### 7. Join for Combining Multiple Tables"
   ]
  },
  {
   "cell_type": "markdown",
   "metadata": {},
   "source": [
    "A join clause is used to **combine records from multiple tables using related columns between them.** It is one of the most powerful concepts in a relational database (joining based on relations). There are four ways of combining tables\n",
    "\n",
    "1. Inner Join\n",
    "2. Left Join\n",
    "3. Right Join\n",
    "4. Outer Join\n",
    "\n",
    "We will be covering only Inner Join here"
   ]
  },
  {
   "cell_type": "markdown",
   "metadata": {
    "slideshow": {
     "slide_type": "slide"
    }
   },
   "source": [
    "#### 7.1 Inner Join\n",
    "For inner join **records that have matching values in both tables will only be retrieved**.  \n",
    "\n",
    "![innerjoin](supplementary/images/innerjoin.png)\n",
    "\n",
    "The syntax for inner join is \n",
    "\n",
    "```mysql\n",
    "SELECT column_name(s)\n",
    "FROM table1\n",
    "INNER JOIN table2\n",
    "ON table1.column_name = table2.column_name\n",
    "```\n",
    "\n",
    "Inner join can also be written without an explicit inner join clause\n",
    "\n",
    "```mysql\n",
    "SELECT column_name(s)\n",
    "FROM table1,table2\n",
    "where table1.column_name = table2.column_name\n",
    "```\n",
    "\n",
    "We ill be mostly using the second form of inner join for this section.\n",
    "\n",
    "Let's look at some examples based on the customer and orders table that we have seen in the Foreign key section"
   ]
  },
  {
   "cell_type": "markdown",
   "metadata": {
    "slideshow": {
     "slide_type": "slide"
    }
   },
   "source": [
    "\n",
    "<img src = \"supplementary/images/join.png\" width = \"500px\">\n",
    "\n",
    "1. Select customers name along with the number of orders they made.\n",
    "\n",
    "```mysql\n",
    "select c.name,count(*) as total_orders from customer as c,orders as o where c.CustomerId = o.CustId group by c.name\n",
    "```\n",
    "\n",
    "This should return\n",
    "\n",
    "\n",
    "<img src = \"supplementary/images/join_res1.png\" width = \"300px\">\n"
   ]
  },
  {
   "cell_type": "markdown",
   "metadata": {
    "slideshow": {
     "slide_type": "slide"
    }
   },
   "source": [
    "To get a better understanding let's see a pictorial representation of how this all works.\n",
    "\n",
    "When you are joining the two tables using a **where clause (c.CustomerId = o.CustId)** we are getting a result with the matching records from both the tables\n",
    "\n",
    "<img src = \"supplementary/images/join_partials.png\" width = \"1000px\">\n",
    "Now when you apply the group by name and count(\\*) you get the total number of records for each unique name. \n",
    "\n",
    "If you simply write the query\n",
    "\n",
    "```mysql\n",
    "select * from customer as c,orders as o where c.CustomerId = o.CustId\n",
    "```\n",
    "\n",
    "you will get the table just shown above.\n",
    "\n",
    "Now what if we want to count the orders based on states\n",
    "\n",
    "2. Select state along with total number of orders from each state\n",
    "\n",
    "The query \n",
    "```mysql\n",
    "select c.state,count(*) as total_orders from customer as c,orders as o where c.CustomerId = o.CustId group by c.state\n",
    "```\n",
    "\n",
    "should give \n",
    "\n",
    "\n",
    "<img src = \"supplementary/images/join2.png\" width = \"300px\">\n",
    "Now one final example based on the tables shown in the next slide\n"
   ]
  },
  {
   "cell_type": "markdown",
   "metadata": {
    "slideshow": {
     "slide_type": "slide"
    }
   },
   "source": [
    "Look at the syntax for the query. We are using two tables customer and orders. We seperate them by ','. We also know that CustomerId is the primary key for Customer table and its a foreign key in orders table with the name CustId. We use this relationship in our **where** clause to join the tow tables. Notice that we have used alias name 'c' and 'o' for customer and orders table respectively. \n",
    "<img src = \"supplementary/images/kinder_shooting.png\" width = \"600px\">\n",
    "3. Select shool names and the number of shootings in the same neighborhood as the schools\n",
    "\n",
    "We can join these two tables based on the Neighborhood column common in both the tables\n",
    "\n",
    "The query \n",
    "```mysql\n",
    "select k.name,count(*) as total_shoootings from Kindergarten as k,Shootings as s where k.Neighborhood = s.Neighborhood group by k.name\n",
    "```\n",
    " should give \n",
    " \n",
    " <img src = \"supplementary/images/kinder_shooting_results.png\" width = \"300px\">\n",
    " Notice that the kindergarten 'Kindercare' is not in the result. This is because there is no matching record for the neighborhood 'Shaker Square' in the Shootings table.\n",
    " \n",
    " Now try out the examples given below to strengthen your understanding on Joins."
   ]
  },
  {
   "cell_type": "markdown",
   "metadata": {
    "slideshow": {
     "slide_type": "slide"
    }
   },
   "source": [
    "**35. Display the city along with country from city and country table.**"
   ]
  },
  {
   "cell_type": "code",
   "execution_count": null,
   "metadata": {
    "hide_input": true,
    "tags": [
     "Hide",
     "Init"
    ]
   },
   "outputs": [],
   "source": [
    "display(QueryWindow(35).display())"
   ]
  },
  {
   "cell_type": "markdown",
   "metadata": {
    "slideshow": {
     "slide_type": "slide"
    }
   },
   "source": [
    "**36. Select title and actor first_name and actor last_name for all the films from film, actor and film_actor tables**"
   ]
  },
  {
   "cell_type": "code",
   "execution_count": null,
   "metadata": {
    "hide_input": true,
    "tags": [
     "Hide",
     "Init"
    ]
   },
   "outputs": [],
   "source": [
    "display(QueryWindow(36).display())"
   ]
  },
  {
   "cell_type": "markdown",
   "metadata": {
    "slideshow": {
     "slide_type": "slide"
    }
   },
   "source": [
    "**37. Select title of all English movies from film table**"
   ]
  },
  {
   "cell_type": "code",
   "execution_count": null,
   "metadata": {
    "hide_input": true,
    "tags": [
     "Hide",
     "Init"
    ]
   },
   "outputs": [],
   "source": [
    "display(QueryWindow(37).display())"
   ]
  },
  {
   "cell_type": "markdown",
   "metadata": {
    "slideshow": {
     "slide_type": "slide"
    }
   },
   "source": [
    "**38. Select artist Name and the total number of albums composed by them as TotalAlbums**"
   ]
  },
  {
   "cell_type": "code",
   "execution_count": null,
   "metadata": {
    "hide_input": true,
    "tags": [
     "Hide",
     "Init"
    ]
   },
   "outputs": [],
   "source": [
    "display(QueryWindow(38).display())"
   ]
  },
  {
   "cell_type": "markdown",
   "metadata": {
    "slideshow": {
     "slide_type": "slide"
    }
   },
   "source": [
    "**39. select customers first_name and last_name and the total amount they spend as TotalAmount. Sort the results by total amount in descending order.**"
   ]
  },
  {
   "cell_type": "code",
   "execution_count": null,
   "metadata": {
    "hide_input": true,
    "tags": [
     "Hide",
     "Init"
    ]
   },
   "outputs": [],
   "source": [
    "display(QueryWindow(39).display())"
   ]
  },
  {
   "cell_type": "markdown",
   "metadata": {
    "slideshow": {
     "slide_type": "slide"
    }
   },
   "source": [
    "**40. select customers first_name and last_name and the total number of rentals they had as TotalRentals. Sort the results by total rentals in descending order.**"
   ]
  },
  {
   "cell_type": "code",
   "execution_count": null,
   "metadata": {
    "hide_input": true,
    "tags": [
     "Hide",
     "Init"
    ]
   },
   "outputs": [],
   "source": [
    "display(QueryWindow(40).display())"
   ]
  },
  {
   "cell_type": "markdown",
   "metadata": {
    "slideshow": {
     "slide_type": "slide"
    }
   },
   "source": [
    "Now that you have a good idea about writing SQL queries, what do you think is missing!!!\n",
    "\n",
    "Let's again look at the Kindergarten and Shootings tables\n",
    "\n",
    "<img src = \"supplementary/images/kinder_shooting.png\" width = \"600px\">\n",
    "What if we want to ask questions such as\n",
    "\n",
    "1. Which are the schools that have atleast a single shooting event **with in 100 meters** of its location\n",
    "\n",
    "2. How many shooting events **with in 1000 meters** of each schools. \n",
    "\n",
    "3. How many shooting events **with in each census tracts**.\n",
    "\n",
    "4. How many shooting events **with in each zip codes**.\n",
    "\n",
    "5. The **distance** to the closest shooting event for each schools.\n",
    "\n",
    "Can we answer such questions based on our tables. We seems to have a location field, but currently its just text and we can't ask any spatial questions using Text data type. So how will we solve this.\n",
    "\n",
    "The answer to these questions will be clear when we learn about spatial databases and spatial queries in the next section. So stay tuned!!!!! "
   ]
  },
  {
   "cell_type": "markdown",
   "metadata": {
    "slideshow": {
     "slide_type": "slide"
    }
   },
   "source": [
    "Click the link below to move on\n",
    "\n",
    "\n",
    "<br>\n",
    "<font size=\"+1\"><a style=\"background-color:blue;color:white;padding:12px;margin:10px;font-weight:bold;\" href=\"gd-4.ipynb\">Click here to go to the next notebook.</a></font>"
   ]
  }
 ],
 "metadata": {
  "celltoolbar": "Edit Metadata",
  "kernelspec": {
   "display_name": "Python 3",
   "language": "python",
   "name": "python3"
  },
  "language_info": {
   "codemirror_mode": {
    "name": "ipython",
    "version": 3
   },
   "file_extension": ".py",
   "mimetype": "text/x-python",
   "name": "python",
   "nbconvert_exporter": "python",
   "pygments_lexer": "ipython3",
   "version": "3.8.3"
  },
  "rise": {
   "autolaunch": true,
   "overlay": "<div class='hciheader'></div><div class='hcifooter'></div>",
   "scroll": true
  }
 },
 "nbformat": 4,
 "nbformat_minor": 5
}
