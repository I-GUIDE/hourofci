{
 "cells": [
  {
   "cell_type": "markdown",
   "id": "13eaa1ca",
   "metadata": {
    "slideshow": {
     "slide_type": "slide"
    },
    "tags": []
   },
   "source": [
    "# Intermediate Lesson on Geospatial Data \n",
    "\n",
    "## Data, Information, Knowledge and Wisdom\n",
    "\n",
    "<strong>Lesson Developers:</strong> Jayakrishnan Ajayakumar, Shana Crosson, Mohsen Ahmadkhani\n",
    "\n",
    "#### Part 1 of 5"
   ]
  },
  {
   "cell_type": "code",
   "execution_count": null,
   "id": "97bed511",
   "metadata": {
    "hide_input": true,
    "init_cell": true,
    "slideshow": {
     "slide_type": "skip"
    },
    "tags": [
     "Hide"
    ]
   },
   "outputs": [],
   "source": [
    "# This code cell starts the necessary setup for Hour of CI lesson notebooks.\n",
    "# First, it enables users to hide and unhide code by producing a 'Toggle raw code' button below.\n",
    "# Second, it imports the hourofci package, which is necessary for lessons and interactive Jupyter Widgets.\n",
    "# Third, it helps hide/control other aspects of Jupyter Notebooks to improve the user experience\n",
    "# This is an initialization cell\n",
    "# It is not displayed because the Slide Type is 'Skip'\n",
    "\n",
    "from IPython.display import HTML, IFrame, Javascript, display\n",
    "from ipywidgets import interactive\n",
    "import ipywidgets as widgets\n",
    "from ipywidgets import Layout\n",
    "\n",
    "import getpass # This library allows us to get the username (User agent string)\n",
    "\n",
    "# import package for hourofci project\n",
    "import sys\n",
    "sys.path.append('../../supplementary') # relative path (may change depending on the location of the lesson notebook)\n",
    "# sys.path.append('supplementary')\n",
    "import hourofci\n",
    "try:\n",
    "    import os\n",
    "    os.chdir('supplementary')\n",
    "except:\n",
    "    pass\n",
    "\n",
    "# load javascript to initialize/hide cells, get user agent string, and hide output indicator\n",
    "# hide code by introducing a toggle button \"Toggle raw code\"\n",
    "HTML(''' \n",
    "    <script type=\"text/javascript\" src=\\\"../../supplementary/js/custom.js\\\"></script>\n",
    "    \n",
    "    <style>\n",
    "        .output_prompt{opacity:0;}\n",
    "    </style>\n",
    "    \n",
    "    <input id=\"toggle_code\" type=\"button\" value=\"Toggle raw code\">\n",
    "''')"
   ]
  },
  {
   "cell_type": "markdown",
   "id": "446e5fec",
   "metadata": {
    "slideshow": {
     "slide_type": "slide"
    }
   },
   "source": [
    "## Reminder\n",
    "<a href=\"#/slide-2-0\" class=\"navigate-right\" style=\"background-color:blue;color:white;padding:8px;margin:2px;font-weight:bold;\">Continue with the lesson</a>\n",
    "\n",
    "<br>\n",
    "</br>\n",
    "<font size=\"+1\">\n",
    "\n",
    "By continuing with this lesson you are granting your permission to take part in this research study for the Hour of Cyberinfrastructure: Developing Cyber Literacy for GIScience project. In this study, you will be learning about cyberinfrastructure and related concepts using a web-based platform that will take approximately one hour per lesson. Participation in this study is voluntary.\n",
    "\n",
    "Participants in this research must be 18 years or older. If you are under the age of 18 then please exit this webpage or navigate to another website such as the Hour of Code at https://hourofcode.com, which is designed for K-12 students.\n",
    "\n",
    "If you are not interested in participating please exit the browser or navigate to this website: http://www.umn.edu. Your participation is voluntary and you are free to stop the lesson at any time.\n",
    "\n",
    "For the full description please navigate to this website: <a href=\"../../gateway-lesson/gateway/gateway-1.ipynb\">Gateway Lesson Research Study Permission</a>.\n",
    "\n",
    "</font>"
   ]
  },
  {
   "cell_type": "markdown",
   "id": "92dcbba8",
   "metadata": {
    "slideshow": {
     "slide_type": "slide"
    }
   },
   "source": [
    "## Do you believe in Global Warming???\n",
    "What if I ask you this question and throw some numbers at you?!\n"
   ]
  },
  {
   "cell_type": "code",
   "execution_count": null,
   "id": "e09b8a49",
   "metadata": {},
   "outputs": [],
   "source": [
    "from ipywidgets import Button, HBox, VBox,widgets,Layout\n",
    "from IPython.display import display\n",
    "import pandas as pd\n",
    "table1 = pd.read_csv('databases/antartica_mass.csv').sample(frac = 1)\n",
    "table1['0'] = pd.to_datetime(table1['0'])\n",
    "table2 = pd.read_csv('databases/global_temperature.csv').sample(frac = 1)\n",
    "table2['0'] = pd.to_datetime(table2['0'],format='%Y')\n",
    "table3 = pd.read_csv('databases/carbon_dioxide.csv').sample(frac = 1)\n",
    "table3['2'] = pd.to_datetime(table3['2'])\n",
    "table1_disp = widgets.Output()\n",
    "table2_disp = widgets.Output()\n",
    "table3_disp = widgets.Output()\n",
    "with table1_disp:\n",
    "    display(table1)\n",
    "with table2_disp:\n",
    "    display(table2)\n",
    "with table3_disp:\n",
    "    display(table3)\n",
    "out=HBox([VBox([table1_disp],layout = Layout(margin='0 100px 0 0')),VBox([table2_disp],layout = Layout(margin='0 100px 0 0')),VBox([table3_disp])])\n",
    "out"
   ]
  },
  {
   "cell_type": "markdown",
   "id": "767592b4",
   "metadata": {
    "slideshow": {
     "slide_type": "subslide"
    }
   },
   "source": [
    "These are just symbols and numbers (of course we can identify the date as we have seen that pattern before) and doesn't convey anything.\n",
    "\n",
    "This is what we essentially call **Data (or raw Data)**."
   ]
  },
  {
   "cell_type": "markdown",
   "id": "d3abee9a",
   "metadata": {
    "slideshow": {
     "slide_type": "slide"
    }
   },
   "source": [
    "## What is Data?"
   ]
  },
  {
   "cell_type": "markdown",
   "id": "56b4b9b7",
   "metadata": {},
   "source": [
    ">**Data is a collection of facts** in a **raw or unorganized form** such as **numbers or characters**.\n",
    "\n",
    "Without **context** data has no value!!\n",
    "\n",
    "Now what if we are provided with the **information** about **what** these symbols represent, **who** collected the data, **where** is this data collected from and **when** was the data collected."
   ]
  },
  {
   "cell_type": "markdown",
   "id": "e55aa498",
   "metadata": {
    "slideshow": {
     "slide_type": "slide"
    }
   },
   "source": [
    "## What is Information (Data+Context)?"
   ]
  },
  {
   "cell_type": "markdown",
   "id": "b82fbcad",
   "metadata": {},
   "source": [
    ">**Information** is a **collection of data** that is **arranged and ordered in a consistent way**. Data in the form of information becomes **more useful because storage and retrieval are easy**.\n",
    "\n",
    "For our sample datasets, what if we know about the **\"what, who, where, and when\"** questions. For example, if we are provided with the information that these datasets represent the change in Antartic Ice mass in giga tonnes, the temperature anomaly across the globe in celsius, and the carbon dioxide content in the atmosphere as parts per million, we can try to deduce patterns from the data.  "
   ]
  },
  {
   "cell_type": "code",
   "execution_count": null,
   "id": "70deb1a5",
   "metadata": {},
   "outputs": [],
   "source": [
    "table1.columns = [\"Time\", \"Antartic_Mass(Gt)\"]\n",
    "table2.columns = [\"Time\", \"Temperature_Anomaly(C)\"]\n",
    "table3.columns = [\"Time\", \"Carbon_Dioxide(PPM)\"]\n",
    "table1_disp = widgets.Output()\n",
    "table2_disp = widgets.Output()\n",
    "table3_disp = widgets.Output()\n",
    "with table1_disp:\n",
    "    display(table1)\n",
    "with table2_disp:\n",
    "    display(table2)\n",
    "with table3_disp:\n",
    "    display(table3)\n",
    "out=HBox([VBox([table1_disp],layout = Layout(margin='0 100px 0 0')),VBox([table2_disp],layout = Layout(margin='0 100px 0 0')),VBox([table3_disp])])\n",
    "out"
   ]
  },
  {
   "cell_type": "markdown",
   "id": "6f69ffef",
   "metadata": {
    "slideshow": {
     "slide_type": "slide"
    }
   },
   "source": [
    "We can do more **processing** on the data and can convert it into structured forms. For example we can **sort** these datasets to look for temporal changes"
   ]
  },
  {
   "cell_type": "code",
   "execution_count": null,
   "id": "1b04ed50",
   "metadata": {},
   "outputs": [],
   "source": [
    "table1_disp = widgets.Output()\n",
    "table2_disp = widgets.Output()\n",
    "table3_disp = widgets.Output()\n",
    "with table1_disp:\n",
    "    display(table1.sort_values(by='Time'))\n",
    "with table2_disp:\n",
    "    display(table2.sort_values(by='Time'))\n",
    "with table3_disp:\n",
    "    display(table3.sort_values(by='Time'))\n",
    "out=HBox([VBox([table1_disp],layout = Layout(margin='0 100px 0 0')),VBox([table2_disp],layout = Layout(margin='0 100px 0 0')),VBox([table3_disp])])\n",
    "out"
   ]
  },
  {
   "cell_type": "markdown",
   "id": "77d6d79c",
   "metadata": {
    "slideshow": {
     "slide_type": "slide"
    }
   },
   "source": [
    "After sorting we can see that, with Time, there is a depletion in Antratic mass and increase in temperature anomaly as well as carbon dioxide content in the atmosphere.\n",
    "\n",
    "We can also **visualize** these datasets (as a picture is worth 1000 words!!) to bolster our arguments"
   ]
  },
  {
   "cell_type": "code",
   "execution_count": null,
   "id": "71d60d09",
   "metadata": {},
   "outputs": [],
   "source": [
    "import matplotlib.pyplot as plt\n",
    "fig, axes = plt.subplots(1,3)\n",
    "fig.set_figheight(8)\n",
    "fig.set_figwidth(20)\n",
    "table1.sort_values(by='Time').plot(x='Time',y='Antartic_Mass(Gt)',ax=axes[0]);\n",
    "table2.sort_values(by='Time').plot(x='Time',y='Temperature_Anomaly(C)',ax=axes[1]);\n",
    "table3.sort_values(by='Time').plot(x='Time',y='Carbon_Dioxide(PPM)',ax=axes[2]);\n",
    "plt.show()"
   ]
  },
  {
   "cell_type": "markdown",
   "id": "78c57948",
   "metadata": {
    "slideshow": {
     "slide_type": "subslide"
    }
   },
   "source": [
    "By asking relevant questions about ‘who’, ‘what’, ‘when’, ‘where’, etc., we can derive valuable information from the data and make it more useful for us."
   ]
  },
  {
   "cell_type": "markdown",
   "id": "e5e3dfaa",
   "metadata": {
    "slideshow": {
     "slide_type": "slide"
    }
   },
   "source": [
    "## What is Knowledge? (Patterns from Information)"
   ]
  },
  {
   "cell_type": "markdown",
   "id": "fcc664fc",
   "metadata": {},
   "source": [
    ">**Knowledge** is the **appropriate collection of information**, such that it's **intent is to be useful**.\n",
    "\n",
    "Knowledge deals with the question of **\"How\"**.\n",
    "\n",
    "**\"How\"** is the **information, derived from the collected data, relevant to our goals?**\n",
    "\n",
    "**\"How\"** are the **pieces of this information connected to other pieces** to add more meaning and value?\n",
    "\n",
    "So how do we find this connection between our pieces of information. For example now we have the information that with time there is a decrease in Antartic Ice mass and a corresponding increase in Temperature Anomaly and the Carbon Dioxide content in the atmosphere. Can we prove that there is a relationship? This is where the simulation and model building skills come into play. Machine Learning (which has been a buzz word for long time) is used to answer such questions from large sets of data.\n"
   ]
  },
  {
   "cell_type": "markdown",
   "id": "dc40880c",
   "metadata": {
    "slideshow": {
     "slide_type": "slide"
    }
   },
   "source": [
    "## What is Wisdom?(Acting up on Knowledge)"
   ]
  },
  {
   "cell_type": "markdown",
   "id": "c6e926c0",
   "metadata": {},
   "source": [
    ">**Wisdom** is the **ability to select the best way to reach the desired outcome based on knowledge**. \n",
    "\n",
    "So its a very subjective concept. In our example, we now have the knowledge that (from developing climatic models) increases in atmospheric carbon dioxide are responsible for about two-thirds of the total energy imbalance that is causing earth's temperature to rise and we also know that rise in temperature leads to melting of ice mass which is a big threat to earth's bio-diversity. So what are we going to do about that? What is the **best way** to do it? So **Wisdom** here is **acting up on this knowledge** regarding carbon emissions and finding ways to reduce it."
   ]
  },
  {
   "cell_type": "markdown",
   "id": "e8c6893d",
   "metadata": {
    "slideshow": {
     "slide_type": "slide"
    }
   },
   "source": [
    "## The DIKW pyramid\n",
    "We can essentially represent these concepts in a Pyramid with Data at the bottom and Wisdom at the top.  \n",
    "![DIKW](supplementary/images/dikw.png) "
   ]
  },
  {
   "cell_type": "markdown",
   "id": "0cb2fa03",
   "metadata": {
    "slideshow": {
     "slide_type": "slide"
    },
    "tags": []
   },
   "source": [
    "So where does **Database** fits into this Pyrmaid (or model)?\n",
    "\n",
    "We are going to look at that in the upcoming chapters"
   ]
  },
  {
   "cell_type": "markdown",
   "id": "58624219",
   "metadata": {},
   "source": [
    "#### Resources\n",
    "https://www.ontotext.com/knowledgehub/fundamentals/dikw-pyramid/\n",
    "https://www.systems-thinking.org/dikw/dikw.htm\n",
    "https://www.csestack.org/dikw-pyramid-model-difference-between-data-information/\n",
    "https://developer.ibm.com/articles/ba-data-becomes-knowledge-1/\n",
    "https://www.certguidance.com/explaining-dikw-hierarchy/\n",
    "https://www.spreadingscience.com/our-approach/diffusion-of-innovations-in-a-community/1-the-dikw-model-of-innovation/\n",
    "https://climate.nasa.gov/vital-signs/ice-sheets/\n",
    "https://climate.nasa.gov/vital-signs/global-temperature/\n",
    "https://climate.nasa.gov/vital-signs/carbon-dioxide/"
   ]
  },
  {
   "cell_type": "markdown",
   "id": "29dd3366",
   "metadata": {
    "slideshow": {
     "slide_type": "slide"
    }
   },
   "source": [
    "### Click on the link below to move on!\n",
    "<br>\n",
    "\n",
    "<font size=\"+1\"><a style=\"background-color:blue;color:white;padding:12px;margin:10px;font-weight:bold;\" href=\"gd-2.ipynb\">Click here to go to the next notebook.</a></font>"
   ]
  }
 ],
 "metadata": {
  "celltoolbar": "Slideshow",
  "kernelspec": {
   "display_name": "Python 3",
   "language": "python",
   "name": "python3"
  },
  "language_info": {
   "codemirror_mode": {
    "name": "ipython",
    "version": 3
   },
   "file_extension": ".py",
   "mimetype": "text/x-python",
   "name": "python",
   "nbconvert_exporter": "python",
   "pygments_lexer": "ipython3",
   "version": "3.8.1"
  },
  "rise": {
   "autolaunch": true,
   "overlay": "<div class='hciheader'></div><div class='hcifooter'></div>",
   "scroll": true
  }
 },
 "nbformat": 4,
 "nbformat_minor": 5
}
