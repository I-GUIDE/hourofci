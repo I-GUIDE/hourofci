{
 "cells": [
  {
   "cell_type": "markdown",
   "id": "9fc34851",
   "metadata": {
    "slideshow": {
     "slide_type": "slide"
    },
    "tags": []
   },
   "source": [
    "# Intermediate Lesson on Geospatial Data \n",
    "\n",
    "## Structured Query Language (SQL)\n",
    "\n",
    "<strong>Lesson Developers:</strong> Jayakrishnan Ajayakumar, Shana Crosson, Mohsen Ahmadkhani\n",
    "\n",
    "#### Part 3 of 5"
   ]
  },
  {
   "cell_type": "code",
   "execution_count": 86,
   "id": "a51a1aa8",
   "metadata": {
    "hide_input": true,
    "init_cell": true,
    "slideshow": {
     "slide_type": "skip"
    },
    "tags": [
     "Hide"
    ]
   },
   "outputs": [
    {
     "data": {
      "text/html": [
       " \n",
       "    <script type=\"text/javascript\" src=\"../../supplementary/js/custom.js\"></script>\n",
       "    \n",
       "    <style>\n",
       "        .output_prompt{opacity:0;}\n",
       "    </style>\n",
       "    \n",
       "    <input id=\"toggle_code\" type=\"button\" value=\"Toggle raw code\">\n"
      ],
      "text/plain": [
       "<IPython.core.display.HTML object>"
      ]
     },
     "execution_count": 86,
     "metadata": {},
     "output_type": "execute_result"
    }
   ],
   "source": [
    "# This code cell starts the necessary setup for Hour of CI lesson notebooks.\n",
    "# First, it enables users to hide and unhide code by producing a 'Toggle raw code' button below.\n",
    "# Second, it imports the hourofci package, which is necessary for lessons and interactive Jupyter Widgets.\n",
    "# Third, it helps hide/control other aspects of Jupyter Notebooks to improve the user experience\n",
    "# This is an initialization cell\n",
    "# It is not displayed because the Slide Type is 'Skip'\n",
    "\n",
    "from IPython.display import HTML, IFrame, Javascript, display, clear_output\n",
    "from ipywidgets import interactive, Textarea, HBox, Button, Layout\n",
    "import ipywidgets as widgets\n",
    "import sqlite3\n",
    "import pandas as pd\n",
    "\n",
    "\n",
    "import getpass # This library allows us to get the username (User agent string)\n",
    "\n",
    "# import package for hourofci project\n",
    "import sys\n",
    "sys.path.append('../../supplementary') # relative path (may change depending on the location of the lesson notebook)\n",
    "# sys.path.append('supplementary')\n",
    "import hourofci\n",
    "try:\n",
    "    import os\n",
    "    os.chdir('supplementary')\n",
    "except:\n",
    "    pass\n",
    "\n",
    "# load javascript to initialize/hide cells, get user agent string, and hide output indicator\n",
    "# hide code by introducing a toggle button \"Toggle raw code\"\n",
    "HTML(''' \n",
    "    <script type=\"text/javascript\" src=\\\"../../supplementary/js/custom.js\\\"></script>\n",
    "    \n",
    "    <style>\n",
    "        .output_prompt{opacity:0;}\n",
    "    </style>\n",
    "    \n",
    "    <input id=\"toggle_code\" type=\"button\" value=\"Toggle raw code\">\n",
    "''')"
   ]
  },
  {
   "cell_type": "markdown",
   "id": "df590190",
   "metadata": {
    "slideshow": {
     "slide_type": "slide"
    }
   },
   "source": [
    "## But how do we talk to the DBMS?\n",
    "We now know that DBMS acts as an interface between us and the database and helps to convert our request so that the database can understand it. We use a special language called **SQL** to fetch data from the database. \n",
    "\n",
    ">**Structured Query Language (SQL)** is a programming language designed to get information out of and put it into a relational database.\n",
    "\n",
    "<img src = \"supplementary/images/sql_funny.png\" width = \"600px\">\n"
   ]
  },
  {
   "cell_type": "markdown",
   "id": "bdd09647",
   "metadata": {
    "slideshow": {
     "scrolled": true,
     "slide_type": "slide"
    }
   },
   "source": [
    "Below you see two databases and corresponding tables. Use the dropdowns to select the database and tables. What do you notice about the data types and data content in each table?"
   ]
  },
  {
   "cell_type": "code",
   "execution_count": 87,
   "id": "67beed6b",
   "metadata": {
    "hide_input": true,
    "slideshow": {
     "scrolled": true,
     "slide_type": "-"
    },
    "tags": [
     "Hide",
     "Init"
    ]
   },
   "outputs": [
    {
     "data": {
      "application/vnd.jupyter.widget-view+json": {
       "model_id": "8bc33688cc544c339c7afdeb51cf1fd0",
       "version_major": 2,
       "version_minor": 0
      },
      "text/plain": [
       "VBox(children=(HBox(children=(Output(layout=Layout(max_width='50%')), VBox(children=(Dropdown(description='Dat…"
      ]
     },
     "metadata": {},
     "output_type": "display_data"
    }
   ],
   "source": [
    "import displaydatabases\n",
    "from questiondisplay import QueryWindow\n",
    "disp = displaydatabases.Display()\n",
    "disp.displayDatabases"
   ]
  },
  {
   "cell_type": "markdown",
   "id": "6cc88611",
   "metadata": {
    "slideshow": {
     "slide_type": "slide"
    }
   },
   "source": [
    "## Talking to a Database using SQL"
   ]
  },
  {
   "cell_type": "markdown",
   "id": "b3cd2e7a",
   "metadata": {},
   "source": [
    "### Selecting records from one or more tables in a database\n",
    "\n",
    ">**Select statement** is used to **retrieve data from a Database** \n",
    "\n",
    "The general **syntax*** for **select statement** is \n",
    "\n",
    "```mysql\n",
    "select column1,column2..columnN \n",
    "from table_name\n",
    "```\n",
    "\n",
    "Where column1, column2 are the columns that you want to select from the table (with name table_name).\n",
    "\n",
    "***Syntax** of a programming language is a set of punctuation rules that defines what the combination of symbols and characters means to the computer. "
   ]
  },
  {
   "cell_type": "markdown",
   "id": "0dd8cec2",
   "metadata": {
    "slideshow": {
     "slide_type": "slide"
    }
   },
   "source": [
    "#### Select All Columns from a Table\n",
    "\n",
    "The syntax for selecting all columns from a table is\n",
    "\n",
    "```mysql\n",
    "select * \n",
    "from table_name\n",
    "```\n",
    "The <b>*</b> symbol indicates that we would want all the columns from the table. \n",
    "\n",
    "Let's make an example using our `film` table. \n",
    "\n"
   ]
  },
  {
   "cell_type": "markdown",
   "id": "0d677fec",
   "metadata": {
    "slideshow": {
     "slide_type": "slide"
    }
   },
   "source": [
    "**Query: Select all columns from `film` table**\n",
    "* hint: You can see the correct SQL code by clicking on the `Reveal the SQL code!` button. "
   ]
  },
  {
   "cell_type": "code",
   "execution_count": 88,
   "id": "264c8999",
   "metadata": {
    "hide_input": true,
    "tags": [
     "Hide",
     "Init"
    ]
   },
   "outputs": [
    {
     "data": {
      "application/vnd.jupyter.widget-view+json": {
       "model_id": "ccbf41588d3e486d86ebe59c12ef9beb",
       "version_major": 2,
       "version_minor": 0
      },
      "text/plain": [
       "HBox(children=(Button(description='Reveal the SQL code!', style=ButtonStyle()),))"
      ]
     },
     "metadata": {},
     "output_type": "display_data"
    }
   ],
   "source": [
    "button1001 = Button(description=\"Reveal the SQL code!\")\n",
    "Box1001 = HBox([button1001])\n",
    "que1001 = \"\"\"\n",
    "select *\n",
    "from film;\n",
    "\"\"\"\n",
    "def on_click1001(b):\n",
    "    clear_output()\n",
    "    display(Box1001)\n",
    "    return print(que1001)\n",
    "\n",
    "button1001.on_click(on_click1001)\n",
    "display(Box1001)\n"
   ]
  },
  {
   "cell_type": "code",
   "execution_count": 89,
   "id": "a56a90f1",
   "metadata": {
    "hide_input": true,
    "slideshow": {
     "scrolled": true
    },
    "tags": [
     "Hide",
     "Init"
    ]
   },
   "outputs": [
    {
     "data": {
      "application/vnd.jupyter.widget-view+json": {
       "model_id": "e9e8fd876328406580a1aa2830c2c9b7",
       "version_major": 2,
       "version_minor": 0
      },
      "text/plain": [
       "VBox(children=(HBox(children=(Output(), Textarea(value='', placeholder='Type your Query here'), Button(descrip…"
      ]
     },
     "metadata": {},
     "output_type": "display_data"
    }
   ],
   "source": [
    "from IPython.display import display\n",
    "import displaydatabases\n",
    "from questiondisplay import QueryWindow\n",
    "\n",
    "display(QueryWindow(1001).display())\n"
   ]
  },
  {
   "cell_type": "markdown",
   "id": "02cdb25d",
   "metadata": {
    "slideshow": {
     "slide_type": "slide"
    },
    "tags": []
   },
   "source": [
    "#### Now let's see how to select a *subset* of columns from a table\n",
    "\n",
    "The syntax for selecting subset of columns from a table is\n",
    "\n",
    "```mysql\n",
    "select column1,column2...columnN \n",
    "from table_name\n",
    "```\n",
    "Let's look at a concrete example."
   ]
  },
  {
   "cell_type": "markdown",
   "id": "6ce4bafe",
   "metadata": {
    "slideshow": {
     "slide_type": "slide"
    }
   },
   "source": [
    "\n",
    "<img src = \"supplementary/images/SELECT_COLUMN.png\" width = \"500px\">\n",
    "\n",
    "The query\n",
    "```mysql\n",
    "select name \n",
    "from BigCats\n",
    "```\n",
    "will retrieve the single column 'name' and the 5 records associated with it.\n",
    "\n",
    "Try out yourself in the next slides!"
   ]
  },
  {
   "cell_type": "markdown",
   "id": "d2591434",
   "metadata": {
    "slideshow": {
     "slide_type": "slide"
    }
   },
   "source": [
    "**Query: Select film title, release year, and duration from `film` table.**\n",
    "* hint: You can see the correct SQL code by clicking on the `Reveal the SQL code!` button. "
   ]
  },
  {
   "cell_type": "code",
   "execution_count": 90,
   "id": "e3966d2f",
   "metadata": {
    "hide_input": false,
    "tags": [
     "Hide",
     "Init"
    ]
   },
   "outputs": [
    {
     "data": {
      "application/vnd.jupyter.widget-view+json": {
       "model_id": "fa26ce6543824eadac90a4a61c140852",
       "version_major": 2,
       "version_minor": 0
      },
      "text/plain": [
       "HBox(children=(Button(description='Reveal the SQL code!', style=ButtonStyle()),))"
      ]
     },
     "metadata": {},
     "output_type": "display_data"
    }
   ],
   "source": [
    "button1002 = Button(description=\"Reveal the SQL code!\")\n",
    "Box1002 = HBox([button1002])\n",
    "que1002 = \"\"\"\n",
    "select title, release_year, length \n",
    "from film;\n",
    "\"\"\"\n",
    "def on_click1002(b):\n",
    "    clear_output()\n",
    "    display(Box1002)\n",
    "    return print(que1002)\n",
    "\n",
    "button1002.on_click(on_click1002)\n",
    "display(Box1002)\n"
   ]
  },
  {
   "cell_type": "code",
   "execution_count": 91,
   "id": "7f014a39",
   "metadata": {
    "hide_input": true,
    "slideshow": {
     "scrolled": true
    },
    "tags": [
     "Hide",
     "Init"
    ]
   },
   "outputs": [
    {
     "data": {
      "application/vnd.jupyter.widget-view+json": {
       "model_id": "bc00444f6ba14ec6b6a9f15a8e6e4bea",
       "version_major": 2,
       "version_minor": 0
      },
      "text/plain": [
       "VBox(children=(HBox(children=(Output(), Textarea(value='', placeholder='Type your Query here'), Button(descrip…"
      ]
     },
     "metadata": {},
     "output_type": "display_data"
    }
   ],
   "source": [
    "display(QueryWindow(1002).display())"
   ]
  },
  {
   "cell_type": "markdown",
   "id": "b71ba1cf",
   "metadata": {
    "slideshow": {
     "slide_type": "slide"
    },
    "tags": []
   },
   "source": [
    "#### What if we want to select distinct values from a column?\n",
    "\n",
    "The **syntax** for **select distinct statement** is \n",
    "\n",
    "```mysql\n",
    "select distinct column1,column2..columnN \n",
    "from table_name\n",
    "```\n",
    "\n",
    "Where column1, column2, columnN are the columns that you want to select from the table (with name table_name) and only distinct values for column1 will be selected\n",
    "\n",
    "Let's see a concrete example."
   ]
  },
  {
   "cell_type": "markdown",
   "id": "8dc7ab76",
   "metadata": {
    "slideshow": {
     "slide_type": "slide"
    }
   },
   "source": [
    "\n",
    "<img src = \"supplementary/images/distinct.png\" width = \"500px\">\n",
    "\n",
    "The query\n",
    "```mysql\n",
    "select distinct state \n",
    "from Salary\n",
    "```\n",
    "will retrieve the unique states from the state column\n",
    "\n",
    "Use `distinct` keyword to make a query yourself in the next slide!"
   ]
  },
  {
   "cell_type": "markdown",
   "id": "7e9b8886",
   "metadata": {
    "slideshow": {
     "slide_type": "slide"
    }
   },
   "source": [
    "**Query: Select unique ratings from `film` table**\n",
    "* hint: You can see the correct SQL code by clicking on the `Reveal the SQL code!` button. "
   ]
  },
  {
   "cell_type": "code",
   "execution_count": 92,
   "id": "f2f5a7cb",
   "metadata": {
    "hide_input": true,
    "tags": [
     "Hide",
     "Init"
    ]
   },
   "outputs": [
    {
     "data": {
      "application/vnd.jupyter.widget-view+json": {
       "model_id": "79ee9939fd22487992caaa9ae010b0e8",
       "version_major": 2,
       "version_minor": 0
      },
      "text/plain": [
       "HBox(children=(Button(description='Reveal the SQL code!', style=ButtonStyle()),))"
      ]
     },
     "metadata": {},
     "output_type": "display_data"
    }
   ],
   "source": [
    "button1003 = Button(description=\"Reveal the SQL code!\")\n",
    "Box1003 = HBox([button1003])\n",
    "que1003 = \"\"\"\n",
    "select distinct rating \n",
    "from film;\n",
    "\"\"\"\n",
    "def on_click1003(b):\n",
    "    clear_output()\n",
    "    display(Box1003)\n",
    "    return print(que1003)\n",
    "\n",
    "button1003.on_click(on_click1003)\n",
    "display(Box1003)\n"
   ]
  },
  {
   "cell_type": "code",
   "execution_count": 93,
   "id": "91ee2d81",
   "metadata": {
    "hide_input": true,
    "slideshow": {
     "scrolled": true
    },
    "tags": [
     "Hide",
     "Init"
    ]
   },
   "outputs": [
    {
     "data": {
      "application/vnd.jupyter.widget-view+json": {
       "model_id": "102d8fee9a134b10ac00d1d3a4cc7388",
       "version_major": 2,
       "version_minor": 0
      },
      "text/plain": [
       "VBox(children=(HBox(children=(Output(), Textarea(value='', placeholder='Type your Query here'), Button(descrip…"
      ]
     },
     "metadata": {},
     "output_type": "display_data"
    }
   ],
   "source": [
    "display(QueryWindow(1003).display())"
   ]
  },
  {
   "cell_type": "markdown",
   "id": "23793f63",
   "metadata": {
    "slideshow": {
     "slide_type": "slide"
    }
   },
   "source": [
    "## Now Let's Learn to Filter Records by Condition! BAAM!!!"
   ]
  },
  {
   "cell_type": "markdown",
   "id": "658e5201",
   "metadata": {},
   "source": [
    "The **where clause** is used to extract records that meets a specified condition. It is one of the most powerful feature of an SQL query.\n",
    "\n",
    "We usually use comparison operators such as `=`, `>`, `<`, `>=`, `<=` , and `!=` (i.e., not equal to) to make where-clauses. \n",
    "\n",
    "The syntax for where clause is \n",
    "\n",
    "```mysql\n",
    "SELECT column1, column2, ..columnN\n",
    "FROM table_name\n",
    "WHERE condition;\n",
    "```\n",
    "\n",
    "Let's look at some concrete examples"
   ]
  },
  {
   "cell_type": "markdown",
   "id": "7593bdf6",
   "metadata": {
    "slideshow": {
     "slide_type": "slide"
    }
   },
   "source": [
    "The following query will fetch all rows and columns (since we are using \\*) that match the condition of salary being greater than 200000.\n",
    "\n",
    "```mysql\n",
    "select * \n",
    "from Salary \n",
    "where salary>200000\n",
    "```\n",
    "<img src = \"supplementary/images/whereI.png\" width = \"500px\">\n",
    "\n",
    "Let's query from our film table in the next slide. "
   ]
  },
  {
   "cell_type": "markdown",
   "id": "c67e1fce",
   "metadata": {
    "slideshow": {
     "slide_type": "slide"
    }
   },
   "source": [
    "**Query: From film table select films having length more than 100 minutes**\n",
    "* hint: You can see the correct SQL code by clicking on the `Reveal the SQL code!` button. "
   ]
  },
  {
   "cell_type": "code",
   "execution_count": 94,
   "id": "477f11d0",
   "metadata": {
    "hide_input": true,
    "tags": [
     "Hide",
     "Init"
    ]
   },
   "outputs": [
    {
     "data": {
      "application/vnd.jupyter.widget-view+json": {
       "model_id": "feade0078b8f45a1906760c4c6498552",
       "version_major": 2,
       "version_minor": 0
      },
      "text/plain": [
       "HBox(children=(Button(description='Reveal the SQL code!', style=ButtonStyle()),))"
      ]
     },
     "metadata": {},
     "output_type": "display_data"
    }
   ],
   "source": [
    "button6 = Button(description=\"Reveal the SQL code!\")\n",
    "Box6 = HBox([button6])\n",
    "que6 = \"\"\"\n",
    "select * \n",
    "from film \n",
    "where length>100;\n",
    "\"\"\"\n",
    "def on_click6(b):\n",
    "    clear_output()\n",
    "    display(Box6)\n",
    "    return print(que6)\n",
    "\n",
    "button6.on_click(on_click6)\n",
    "display(Box6)\n"
   ]
  },
  {
   "cell_type": "code",
   "execution_count": 95,
   "id": "b708f097",
   "metadata": {
    "hide_input": true,
    "slideshow": {
     "scrolled": true
    },
    "tags": [
     "Hide",
     "Init"
    ]
   },
   "outputs": [
    {
     "data": {
      "application/vnd.jupyter.widget-view+json": {
       "model_id": "4f444b6d99bd4d318ac6844ffd68aa22",
       "version_major": 2,
       "version_minor": 0
      },
      "text/plain": [
       "VBox(children=(HBox(children=(Output(), Textarea(value='', placeholder='Type your Query here'), Button(descrip…"
      ]
     },
     "metadata": {},
     "output_type": "display_data"
    }
   ],
   "source": [
    "display(QueryWindow(6).display())"
   ]
  },
  {
   "cell_type": "markdown",
   "id": "5df80652",
   "metadata": {
    "slideshow": {
     "slide_type": "slide"
    }
   },
   "source": [
    "## Logical operators `AND`, `OR`, and `NOT` for filtering based on multiple conditions \n",
    "\n",
    "The AND and OR operators are used for filtering records based on more than one condition.  <br/>\n",
    "The AND operator displays a record if **all the conditions separated by AND are True**\n",
    "\n",
    "The **syntax for AND operator** is \n",
    "\n",
    "```mysql\n",
    "SELECT column1, column2, ..columnN\n",
    "FROM table_name\n",
    "WHERE condition1 AND condition2 AND condition3...\n",
    "```\n",
    "\n",
    "The OR operator displays a record if **any of the conditions separated by OR is True**.\n",
    "\n",
    "The **syntax for OR operator** is \n",
    "\n",
    "```mysql\n",
    "SELECT column1, column2, ..columnN\n",
    "FROM table_name\n",
    "WHERE condition1 OR condition2 OR condition3...\n",
    "```\n",
    "\n",
    "The NOT operator displays a record if the **condition(s) is NOT TRUE**.\n",
    "\n",
    "The **syntax for NOT operator** is \n",
    "\n",
    "```mysql\n",
    "SELECT column1, column2, ..columnN\n",
    "FROM table_name\n",
    "WHERE NOT condition;\n",
    "```\n",
    "Lets look at some examples"
   ]
  },
  {
   "cell_type": "markdown",
   "id": "84c3fd49",
   "metadata": {
    "slideshow": {
     "slide_type": "slide"
    }
   },
   "source": [
    "Using the following query we will retrieve all rows and columns that match the criteria where state is 'New York' and has a salary greater than 200000\n",
    "\n",
    "```mysql\n",
    "select * \n",
    "from Salary \n",
    "where state = 'New York' and salary>200000\n",
    "```\n",
    "\n",
    "<img src = \"supplementary/images/AND.png\" width = \"700px\">\n",
    "\n",
    "Make a few queries from our `film` table in the next slides!"
   ]
  },
  {
   "cell_type": "markdown",
   "id": "6e58b311",
   "metadata": {
    "slideshow": {
     "slide_type": "slide"
    }
   },
   "source": [
    "**Query: Retrieve all films from film table with length greater than 100 minutes and rating equals to PG**\n",
    "* hint: You can see the correct SQL code by clicking on the `Reveal the SQL code!` button. "
   ]
  },
  {
   "cell_type": "code",
   "execution_count": 96,
   "id": "87534e06",
   "metadata": {
    "hide_input": true,
    "tags": [
     "Hide",
     "Init"
    ]
   },
   "outputs": [
    {
     "data": {
      "application/vnd.jupyter.widget-view+json": {
       "model_id": "968ddf9bca354512b4141e77c0a986d8",
       "version_major": 2,
       "version_minor": 0
      },
      "text/plain": [
       "HBox(children=(Button(description='Reveal the SQL code!', style=ButtonStyle()),))"
      ]
     },
     "metadata": {},
     "output_type": "display_data"
    }
   ],
   "source": [
    "button10 = Button(description=\"Reveal the SQL code!\")\n",
    "Box10 = HBox([button10])\n",
    "que10 = \"\"\"\n",
    "select * \n",
    "from film \n",
    "where length>100 and rating='PG';\n",
    "\"\"\"\n",
    "def on_click10(b):\n",
    "    clear_output()\n",
    "    display(Box10)\n",
    "    return print(que10)\n",
    "\n",
    "button10.on_click(on_click10)\n",
    "display(Box10)\n",
    "\n",
    "\n"
   ]
  },
  {
   "cell_type": "code",
   "execution_count": 97,
   "id": "c0ab2567",
   "metadata": {
    "hide_input": true,
    "slideshow": {
     "scrolled": true
    },
    "tags": [
     "Hide",
     "Init"
    ]
   },
   "outputs": [
    {
     "data": {
      "application/vnd.jupyter.widget-view+json": {
       "model_id": "371ac0f5945341c3b72217b0c94a5940",
       "version_major": 2,
       "version_minor": 0
      },
      "text/plain": [
       "VBox(children=(HBox(children=(Output(), Textarea(value='', placeholder='Type your Query here'), Button(descrip…"
      ]
     },
     "metadata": {},
     "output_type": "display_data"
    }
   ],
   "source": [
    "display(QueryWindow(10).display())"
   ]
  },
  {
   "cell_type": "markdown",
   "id": "28f6d9db",
   "metadata": {
    "slideshow": {
     "slide_type": "slide"
    }
   },
   "source": [
    "**Query: Select all films with duration greater than 80 and less than 90 from `film` table.**\n",
    "* hint: You can see the correct SQL code by clicking on the `Reveal the SQL code!` button. "
   ]
  },
  {
   "cell_type": "code",
   "execution_count": 98,
   "id": "e4281b8b",
   "metadata": {
    "hide_input": true,
    "tags": [
     "Hide",
     "Init"
    ]
   },
   "outputs": [
    {
     "data": {
      "application/vnd.jupyter.widget-view+json": {
       "model_id": "aaa7386fb720490fb2b14b8f39ee37fb",
       "version_major": 2,
       "version_minor": 0
      },
      "text/plain": [
       "HBox(children=(Button(description='Reveal the SQL code!', style=ButtonStyle()),))"
      ]
     },
     "metadata": {},
     "output_type": "display_data"
    }
   ],
   "source": [
    "button1004 = Button(description=\"Reveal the SQL code!\")\n",
    "Box1004 = HBox([button1004])\n",
    "que1004 = '''\n",
    "select * \n",
    "from film \n",
    "where length>80 and length<90;\n",
    "'''\n",
    "def on_click1004(b):\n",
    "    clear_output()\n",
    "    display(Box1004)\n",
    "    return print(que1004)\n",
    "\n",
    "button1004.on_click(on_click1004)\n",
    "display(Box1004)\n",
    "\n",
    "\n"
   ]
  },
  {
   "cell_type": "code",
   "execution_count": 99,
   "id": "a6768eb1",
   "metadata": {
    "hide_input": true,
    "slideshow": {
     "scrolled": true
    },
    "tags": [
     "Hide",
     "Init"
    ]
   },
   "outputs": [
    {
     "data": {
      "application/vnd.jupyter.widget-view+json": {
       "model_id": "9973f69a7f2b4bd59cd4e8bd419dd5a4",
       "version_major": 2,
       "version_minor": 0
      },
      "text/plain": [
       "VBox(children=(HBox(children=(Output(), Textarea(value='', placeholder='Type your Query here'), Button(descrip…"
      ]
     },
     "metadata": {},
     "output_type": "display_data"
    }
   ],
   "source": [
    "display(QueryWindow(1004).display())"
   ]
  },
  {
   "cell_type": "markdown",
   "id": "0c80f8e2",
   "metadata": {
    "slideshow": {
     "slide_type": "slide"
    }
   },
   "source": [
    "**Query: Select all films that are rated other than G.**"
   ]
  },
  {
   "cell_type": "code",
   "execution_count": 100,
   "id": "bd4c7974",
   "metadata": {
    "hide_input": true,
    "tags": [
     "Hide",
     "Init"
    ]
   },
   "outputs": [
    {
     "data": {
      "application/vnd.jupyter.widget-view+json": {
       "model_id": "5ba5cf3258ff40649c84e1aa30294fe1",
       "version_major": 2,
       "version_minor": 0
      },
      "text/plain": [
       "HBox(children=(Button(description='Reveal the SQL code!', style=ButtonStyle()),))"
      ]
     },
     "metadata": {},
     "output_type": "display_data"
    }
   ],
   "source": [
    "button1005 = Button(description=\"Reveal the SQL code!\")\n",
    "Box1005 = HBox([button1005])\n",
    "que1005 = '''\n",
    "select * \n",
    "from film \n",
    "where rating != 'G'\n",
    "'''\n",
    "def on_click1005(b):\n",
    "    clear_output()\n",
    "    display(Box1005)\n",
    "    return print(que1005)\n",
    "\n",
    "button1005.on_click(on_click1005)\n",
    "display(Box1005)\n",
    "\n",
    "\n"
   ]
  },
  {
   "cell_type": "code",
   "execution_count": 101,
   "id": "b0d55ae4",
   "metadata": {
    "hide_input": true,
    "slideshow": {
     "scrolled": true
    },
    "tags": [
     "Hide",
     "Init"
    ]
   },
   "outputs": [
    {
     "data": {
      "application/vnd.jupyter.widget-view+json": {
       "model_id": "c81ea9e814d342e5960245e380530337",
       "version_major": 2,
       "version_minor": 0
      },
      "text/plain": [
       "VBox(children=(HBox(children=(Output(), Textarea(value='', placeholder='Type your Query here'), Button(descrip…"
      ]
     },
     "metadata": {},
     "output_type": "display_data"
    }
   ],
   "source": [
    "display(QueryWindow(1005).display())"
   ]
  },
  {
   "cell_type": "markdown",
   "id": "e44ed377",
   "metadata": {
    "slideshow": {
     "slide_type": "slide"
    }
   },
   "source": [
    "## Order records using `Order By`"
   ]
  },
  {
   "cell_type": "markdown",
   "id": "3abb5968",
   "metadata": {},
   "source": [
    "Order by keyword is used to **sort query results by ascending or descending**\n",
    "\n",
    "The syntax for Order by is as follows.\n",
    "For ascending ordering:\n",
    "\n",
    "```mysql\n",
    "SELECT column1, column2, ..columnN\n",
    "FROM table_name\n",
    "ORDER BY column1, column2, ... ASC;\n",
    "```\n",
    "For descending ordering:\n",
    "```mysql\n",
    "SELECT column1, column2, ..columnN\n",
    "FROM table_name\n",
    "ORDER BY column1, column2, ... DESC;\n",
    "```\n",
    "Lets look at an example"
   ]
  },
  {
   "cell_type": "markdown",
   "id": "6639865a",
   "metadata": {
    "slideshow": {
     "slide_type": "slide"
    }
   },
   "source": [
    "\n",
    "<img src = \"supplementary/images/desc.png\" width = \"700px\">\n",
    "\n",
    "The query\n",
    "```mysql\n",
    "select * from Salary order by salary desc\n",
    "```\n",
    "will retrieve all rows and columns and order them by salary in decreasing order (highest first).\n",
    "\n",
    "If you want to order the table by salary in ascending order (lowest first), the query will be\n",
    "\n",
    "```mysql\n",
    "select * from Salary order by salary asc\n",
    "```\n",
    "\n",
    "or you can even write\n",
    "\n",
    "```mysql\n",
    "select * from Salary order by salary\n",
    "```\n",
    "\n",
    "As by default the ordering will be in ascending.\n",
    "\n",
    "Try out the example given in the next slide."
   ]
  },
  {
   "cell_type": "markdown",
   "id": "dbc1efbd",
   "metadata": {
    "slideshow": {
     "slide_type": "slide"
    }
   },
   "source": [
    "**Query: Select film titles along with their lengths from the `film` table sorted by length descending**"
   ]
  },
  {
   "cell_type": "code",
   "execution_count": 102,
   "id": "44a560e9",
   "metadata": {
    "hide_input": true,
    "tags": [
     "Hide",
     "Init"
    ]
   },
   "outputs": [
    {
     "data": {
      "application/vnd.jupyter.widget-view+json": {
       "model_id": "824d2f61221343d68874848f95630d6e",
       "version_major": 2,
       "version_minor": 0
      },
      "text/plain": [
       "HBox(children=(Button(description='Reveal the SQL code!', style=ButtonStyle()),))"
      ]
     },
     "metadata": {},
     "output_type": "display_data"
    }
   ],
   "source": [
    "button1006 = Button(description=\"Reveal the SQL code!\")\n",
    "Box1006 = HBox([button1006])\n",
    "que1006 = '''\n",
    "select title, length \n",
    "from film \n",
    "order by length desc;\n",
    "'''\n",
    "def on_click1006(b):\n",
    "    clear_output()\n",
    "    display(Box1006)\n",
    "    return print(que1006)\n",
    "\n",
    "button1006.on_click(on_click1006)\n",
    "display(Box1006)\n",
    "\n"
   ]
  },
  {
   "cell_type": "code",
   "execution_count": 103,
   "id": "eff8ceb9",
   "metadata": {
    "hide_input": true,
    "slideshow": {
     "scrolled": true
    },
    "tags": [
     "Hide",
     "Init"
    ]
   },
   "outputs": [
    {
     "data": {
      "application/vnd.jupyter.widget-view+json": {
       "model_id": "3aa938bfa0fc426dba0575bb4b86a098",
       "version_major": 2,
       "version_minor": 0
      },
      "text/plain": [
       "VBox(children=(HBox(children=(Output(), Textarea(value='', placeholder='Type your Query here'), Button(descrip…"
      ]
     },
     "metadata": {},
     "output_type": "display_data"
    }
   ],
   "source": [
    "display(QueryWindow(1006).display())"
   ]
  },
  {
   "cell_type": "markdown",
   "id": "a62ed4c0",
   "metadata": {
    "slideshow": {
     "slide_type": "slide"
    }
   },
   "source": [
    "## Using Aggregate Functions: Finding Minimum, Maximum, Average, Sum and Count for Columns"
   ]
  },
  {
   "cell_type": "markdown",
   "id": "f7f21e0c",
   "metadata": {},
   "source": [
    "Aggregate functions **min(), max(), avg(), sum(), and count()** can be used to find the Minimum, Maximum, Average, Sum and Count for a selected column\n",
    "\n",
    "Syntax for **min()**\n",
    "\n",
    "```mysql\n",
    "SELECT MIN(column_name) FROM table_name\n",
    "```\n",
    "\n",
    "Syntax for **max()**\n",
    "\n",
    "```mysql\n",
    "SELECT MAX(column_name) FROM table_name\n",
    "```\n",
    "\n",
    "Syntax for **avg()**\n",
    "\n",
    "```mysql\n",
    "SELECT AVG(column_name) FROM table_name\n",
    "```\n",
    "\n",
    "Syntax for **sum()**\n",
    "\n",
    "```mysql\n",
    "SELECT sum(column_name) FROM table_name\n",
    "```\n",
    "\n",
    "Syntax for **count()**\n",
    "\n",
    "```mysql\n",
    "SELECT count(column_name) FROM table_name\n",
    "```\n",
    "\n",
    "Next slide illustrates the use of `count()` function."
   ]
  },
  {
   "cell_type": "markdown",
   "id": "3cd1290b",
   "metadata": {
    "slideshow": {
     "slide_type": "slide"
    }
   },
   "source": [
    "\n",
    "`count(*)` returns the number of rows returned by the select statement. In this example the query\n",
    "\n",
    "```mysql\n",
    "SELECT count(*) \n",
    "FROM Salary \n",
    "where salary>200000\n",
    "```\n",
    "\n",
    "will return a column with name count(\\*) with a single row having value of 2 (because there are only 2 records with salary greater than 200000). \n",
    "<img src = \"supplementary/images/count.png\" width = \"700px\">\n",
    "\n",
    "If the query was\n",
    "\n",
    "```mysql\n",
    "SELECT count(*) \n",
    "FROM Salary \n",
    "where state = 'Ohio'\n",
    "```\n",
    "\n",
    "the value will be 1\n",
    "\n",
    "Now let's look at an example for min() function"
   ]
  },
  {
   "cell_type": "markdown",
   "id": "53a89a5c",
   "metadata": {
    "slideshow": {
     "slide_type": "slide"
    }
   },
   "source": [
    "The `min()` function can be used like below:\n",
    "\n",
    "```mysql\n",
    "SELECT min(salary) \n",
    "FROM Salary\n",
    "```\n",
    "\n",
    "Returns the minimum value from the salary column in the Salary table (which is 110000).\n",
    "<img src = \"supplementary/images/min.png\" width = \"700px\">\n",
    "Try out yourself in the next slide. "
   ]
  },
  {
   "cell_type": "markdown",
   "id": "1e90be9b",
   "metadata": {
    "slideshow": {
     "slide_type": "slide"
    }
   },
   "source": [
    "**Query: Select the minimum movie length from the `film` table.**"
   ]
  },
  {
   "cell_type": "code",
   "execution_count": 104,
   "id": "7556b506",
   "metadata": {
    "hide_input": true,
    "tags": [
     "Hide",
     "Init"
    ]
   },
   "outputs": [
    {
     "data": {
      "application/vnd.jupyter.widget-view+json": {
       "model_id": "a194d52a632c404081eaf87b63adb103",
       "version_major": 2,
       "version_minor": 0
      },
      "text/plain": [
       "HBox(children=(Button(description='Reveal the SQL code!', style=ButtonStyle()),))"
      ]
     },
     "metadata": {},
     "output_type": "display_data"
    }
   ],
   "source": [
    "button1007 = Button(description=\"Reveal the SQL code!\")\n",
    "Box1007 = HBox([button1007])\n",
    "que1007 = '''\n",
    "select min(length)\n",
    "from film;\n",
    "'''\n",
    "def on_click1007(b):\n",
    "    clear_output()\n",
    "    display(Box1007)\n",
    "    return print(que1007)\n",
    "\n",
    "button1007.on_click(on_click1007)\n",
    "display(Box1007)\n",
    "\n"
   ]
  },
  {
   "cell_type": "code",
   "execution_count": 105,
   "id": "08ca603d",
   "metadata": {
    "hide_input": true,
    "slideshow": {
     "scrolled": true
    },
    "tags": [
     "Hide",
     "Init"
    ]
   },
   "outputs": [
    {
     "data": {
      "application/vnd.jupyter.widget-view+json": {
       "model_id": "5080ccceb8864475a0663fcbbeebb1f2",
       "version_major": 2,
       "version_minor": 0
      },
      "text/plain": [
       "VBox(children=(HBox(children=(Output(), Textarea(value='', placeholder='Type your Query here'), Button(descrip…"
      ]
     },
     "metadata": {},
     "output_type": "display_data"
    }
   ],
   "source": [
    "display(QueryWindow(1007).display())"
   ]
  },
  {
   "cell_type": "markdown",
   "id": "b6060874",
   "metadata": {
    "slideshow": {
     "slide_type": "slide"
    }
   },
   "source": [
    "## Grouping records together using `Group By` statement\n",
    "\n",
    "The Group By statement is used to **arrange identical data into groups**. The group by clause follows the where clause (if it's present) and precedes the order by clause (if it's present). For example you want to aggregate the total number of invoices by Country, or you want to get the count of employees with different Title (how many General Manager, Sales Manager etc)\n",
    "\n",
    "The Group By statement is often used with aggregate functions (COUNT(), MAX(), MIN(), SUM(), AVG()) to group the result-set by one or more columns.\n",
    "\n",
    "The syntax for Group By statement\n",
    "\n",
    "```mysql\n",
    "SELECT column_name(s)\n",
    "FROM table_name\n",
    "WHERE condition\n",
    "GROUP BY column_name(s)\n",
    "ORDER BY column_name(s)\n",
    "```\n",
    "\n",
    "The where condition and order by are optional and depends up on the use-case.\n",
    "\n",
    "Let's look at some examples"
   ]
  },
  {
   "cell_type": "markdown",
   "id": "d626ee32",
   "metadata": {
    "slideshow": {
     "slide_type": "slide"
    }
   },
   "source": [
    "\n",
    "The following query groups by the column State and then applys the aggregate function `count()`\n",
    " \n",
    "\n",
    "```mysql\n",
    "SELECT State,count(*) \n",
    "from Salary \n",
    "group by State\n",
    "```\n",
    "\n",
    "You can think of `count(*)` as being applied to each set of states grouped together. We have four different states with two states having count 2 and 2 states having count of 1. \n",
    "\n",
    "<img src = \"supplementary/images/groupbycount.png\" width = \"700px\">\n",
    "\n",
    "**Point to Ponder**\n",
    "\n",
    "This will give just the state name and the count. What if we were able to Map the counts. Then we could see whether there are any spatial patterns. This is the power of spatial data. The ability to map gives you the flexibility to look at the data from a completely new perspective. We will look at how this is possible in the next segment."
   ]
  },
  {
   "cell_type": "markdown",
   "id": "351ac0ec",
   "metadata": {
    "slideshow": {
     "slide_type": "slide"
    }
   },
   "source": [
    "And by this query\n",
    "\n",
    "```mysql\n",
    "SELECT Job_Title,min(salary) \n",
    "from Salary \n",
    "group by Job_Title\n",
    "```\n",
    "we select the minimum salary for each Job_Title.\n",
    "<img src = \"supplementary/images/groupbymin.png\" width = \"700px\">\n",
    "Now make a query using our `film` table. "
   ]
  },
  {
   "cell_type": "markdown",
   "id": "4357d9ed",
   "metadata": {
    "slideshow": {
     "slide_type": "slide"
    }
   },
   "source": [
    "**Query: Count the number of movies for each rating type from the `film` table.**"
   ]
  },
  {
   "cell_type": "code",
   "execution_count": 106,
   "id": "c278104d",
   "metadata": {
    "hide_input": true,
    "tags": [
     "Hide",
     "Init"
    ]
   },
   "outputs": [
    {
     "data": {
      "application/vnd.jupyter.widget-view+json": {
       "model_id": "b8529e9edd7c46989d18ba4637458afe",
       "version_major": 2,
       "version_minor": 0
      },
      "text/plain": [
       "HBox(children=(Button(description='Reveal the SQL code!', style=ButtonStyle()),))"
      ]
     },
     "metadata": {},
     "output_type": "display_data"
    }
   ],
   "source": [
    "button1008 = Button(description=\"Reveal the SQL code!\")\n",
    "Box1008 = HBox([button1008])\n",
    "que1008 = '''\n",
    "select rating, count(title) \n",
    "from film \n",
    "group by rating;\n",
    "'''\n",
    "def on_click1008(b):\n",
    "    clear_output()\n",
    "    display(Box1008)\n",
    "    return print(que1008)\n",
    "\n",
    "button1008.on_click(on_click1008)\n",
    "display(Box1008)\n",
    "\n"
   ]
  },
  {
   "cell_type": "code",
   "execution_count": 107,
   "id": "9b5de6c2",
   "metadata": {
    "hide_input": true,
    "slideshow": {
     "scrolled": true
    },
    "tags": [
     "Hide",
     "Init"
    ]
   },
   "outputs": [
    {
     "data": {
      "application/vnd.jupyter.widget-view+json": {
       "model_id": "1387cfb649344ef19cc4439a450c52a5",
       "version_major": 2,
       "version_minor": 0
      },
      "text/plain": [
       "VBox(children=(HBox(children=(Output(), Textarea(value='', placeholder='Type your Query here'), Button(descrip…"
      ]
     },
     "metadata": {},
     "output_type": "display_data"
    }
   ],
   "source": [
    "display(QueryWindow(1008).display())"
   ]
  },
  {
   "cell_type": "markdown",
   "id": "3656e37b",
   "metadata": {
    "slideshow": {
     "slide_type": "slide"
    }
   },
   "source": [
    "## Aliases for providing Temporary Name"
   ]
  },
  {
   "cell_type": "markdown",
   "id": "9c23cc2b",
   "metadata": {},
   "source": [
    "Aliases are used to give a **table or column in a table a temporary name**. Most of the time aliases are used to make the **query more readable**. Aliases **only exists until the query is running**.  \n",
    "\n",
    "The syntax for column alias is \n",
    "\n",
    "```mysql\n",
    "SELECT column_name AS alias_name\n",
    "FROM table_name;\n",
    "```\n",
    "\n",
    "And syntax for table alias is \n",
    "\n",
    "```mysql\n",
    "SELECT column_name\n",
    "FROM table_name as alias_name;\n",
    "```\n",
    "\n",
    "Let's look at some examples"
   ]
  },
  {
   "cell_type": "markdown",
   "id": "553dc681",
   "metadata": {
    "slideshow": {
     "slide_type": "slide"
    }
   },
   "source": [
    "### Column Aliasing\n",
    "In this query\n",
    "\n",
    "```mysql\n",
    "SELECT Job_Title,min(salary) as MIN_SALARY \n",
    "from Salary \n",
    "group by Job_Title\n",
    "```\n",
    "we are using an alias name for the column min(salary) (which is part of the result) as MIN_SALARY. Eventhough it doesn't change anything to the result, it makes the result more readable. \n",
    "<img src = \"supplementary/images/columnalias.png\" width = \"700px\">\n",
    "Next we look at how we can use table alias in an effective way. "
   ]
  },
  {
   "cell_type": "markdown",
   "id": "7e0c263e",
   "metadata": {
    "slideshow": {
     "slide_type": "slide"
    }
   },
   "source": [
    "### Table Aliasing\n",
    "In this query \n",
    "\n",
    "```mysql\n",
    "SELECT s.Job_Title,s.salary from Salary as s where s.state\n",
    "```\n",
    "we are setting an alias name 's' for the table Salary. Notice how we use the '.' operator to access the columns. This is particularly useful when we are joining multiple tables (about which we will learn in the last section). \n",
    "<img src = \"supplementary/images/groupbyavg.png\" width = \"700px\">\n",
    "Try out aliasing in the next slide. "
   ]
  },
  {
   "cell_type": "markdown",
   "id": "3b92e944",
   "metadata": {
    "slideshow": {
     "slide_type": "slide"
    }
   },
   "source": [
    "**Query: Select the average rental_rate for each rating for each release year from the `film` table. Name the average rental_rate column as `Average_Rental`.**"
   ]
  },
  {
   "cell_type": "code",
   "execution_count": 108,
   "id": "2dda872e",
   "metadata": {
    "hide_input": true,
    "tags": [
     "Hide",
     "Init"
    ]
   },
   "outputs": [
    {
     "data": {
      "application/vnd.jupyter.widget-view+json": {
       "model_id": "5a02628ca12845ca891da991b29db9ed",
       "version_major": 2,
       "version_minor": 0
      },
      "text/plain": [
       "HBox(children=(Button(description='Reveal the SQL code!', style=ButtonStyle()),))"
      ]
     },
     "metadata": {},
     "output_type": "display_data"
    }
   ],
   "source": [
    "button1009 = Button(description=\"Reveal the SQL code!\")\n",
    "Box1009 = HBox([button1009])\n",
    "que1009 = '''\n",
    "select rating, avg(rental_rate) as Average_Rental \n",
    "from film \n",
    "group by rating;\n",
    "'''\n",
    "def on_click1009(b):\n",
    "    clear_output()\n",
    "    display(Box1009)\n",
    "    return print(que1009)\n",
    "\n",
    "button1009.on_click(on_click1009)\n",
    "display(Box1009)\n",
    "\n"
   ]
  },
  {
   "cell_type": "code",
   "execution_count": 109,
   "id": "c8612628",
   "metadata": {
    "hide_input": true,
    "slideshow": {
     "scrolled": true
    },
    "tags": [
     "Hide",
     "Init"
    ]
   },
   "outputs": [
    {
     "data": {
      "application/vnd.jupyter.widget-view+json": {
       "model_id": "5140c4569f1640e294b25f25aadd19de",
       "version_major": 2,
       "version_minor": 0
      },
      "text/plain": [
       "VBox(children=(HBox(children=(Output(), Textarea(value='', placeholder='Type your Query here'), Button(descrip…"
      ]
     },
     "metadata": {},
     "output_type": "display_data"
    }
   ],
   "source": [
    "display(QueryWindow(1009).display())"
   ]
  },
  {
   "cell_type": "markdown",
   "id": "e3248467",
   "metadata": {
    "slideshow": {
     "slide_type": "slide"
    },
    "tags": []
   },
   "source": [
    "## Join for Combining Multiple Tables"
   ]
  },
  {
   "cell_type": "markdown",
   "id": "7ee9f769",
   "metadata": {},
   "source": [
    "A join clause is used to **combine records from multiple tables using related columns between them.** It is one of the most powerful concepts in a relational database (joining based on relations). There are four ways of combining tables\n",
    "\n",
    "1. Inner Join\n",
    "2. Left Join\n",
    "3. Right Join\n",
    "4. Outer Join\n",
    "\n",
    "We will be covering only Inner Join here"
   ]
  },
  {
   "cell_type": "markdown",
   "id": "cba61f31",
   "metadata": {
    "slideshow": {
     "slide_type": "slide"
    }
   },
   "source": [
    "## Inner Join\n",
    "For inner join **records that have matching values in both tables will only be retrieved**.  \n",
    "\n",
    "![innerjoin](supplementary/images/innerjoin.png)\n",
    "\n",
    "The syntax for inner join is \n",
    "\n",
    "```mysql\n",
    "SELECT column_name(s)\n",
    "FROM table1\n",
    "INNER JOIN table2\n",
    "ON table1.column_name = table2.column_name\n",
    "```\n",
    "\n",
    "Inner join can also be written without an explicit inner join clause\n",
    "\n",
    "```mysql\n",
    "SELECT column_name(s)\n",
    "FROM table1,table2\n",
    "where table1.column_name = table2.column_name\n",
    "```\n",
    "\n",
    "We ill be mostly using the second form of inner join for this section.\n",
    "\n",
    "Let's look at an example based on the customer and orders tables in the next slide."
   ]
  },
  {
   "cell_type": "markdown",
   "id": "0634107b",
   "metadata": {
    "slideshow": {
     "slide_type": "slide"
    }
   },
   "source": [
    "Look at the tables below and select customers name along with the number of orders they made.\n",
    "<img src = \"supplementary/images/join.png\" width = \"500px\">\n",
    "\n",
    "\n",
    "```mysql\n",
    "select c.name,count(*) as total_orders \n",
    "from customer as c,orders as o \n",
    "where c.CustomerId = o.CustId \n",
    "group by c.name\n",
    "```\n",
    "\n",
    "This should return\n",
    "\n",
    "\n",
    "<img src = \"supplementary/images/join_res1.png\" width = \"300px\">\n"
   ]
  },
  {
   "cell_type": "markdown",
   "id": "f453f670",
   "metadata": {
    "slideshow": {
     "slide_type": "slide"
    }
   },
   "source": [
    "To get a better understanding let's see a pictorial representation of how this all works.\n",
    "\n",
    "When you are joining the two tables using a **where clause (c.CustomerId = o.CustId)** we are getting a result with the matching records from both the tables\n",
    "\n",
    "<img src = \"supplementary/images/join_partials.png\" width = \"1000px\">\n",
    "Now when you apply the group by name and count(\\*) you get the total number of records for each unique name. \n",
    "\n",
    "If you simply write the query\n",
    "\n",
    "```mysql\n",
    "select * \n",
    "from customer as c, orders as o \n",
    "where c.CustomerId = o.CustId\n",
    "```\n",
    "\n",
    "you will get the table just shown above.\n",
    "\n",
    "Look at the syntax for the query. We are using two tables customer and orders. We seperate them by ','. We also know that CustomerId is the primary key for Customer table and its a foreign key in orders table with the name CustId. We use this relationship in our **where** clause to join the tow tables. Notice that we have used alias name 'c' and 'o' for customer and orders table respectively. \n",
    "\n",
    "Let's get back to our film and actor tables in the next slide! \n"
   ]
  },
  {
   "cell_type": "markdown",
   "id": "c347d54b",
   "metadata": {
    "slideshow": {
     "slide_type": "slide"
    }
   },
   "source": [
    "Use the textbox below to take a look at tables `film`, `actor`, and `film_actor`and try to identify the common columns that we can use as primary and foreign keys to join them.\n",
    "\n",
    "* hint 1: `film_id` from `film` table, `actor_id` from `actor` table are the keys that are related in the `film_actor` table. \n",
    "\n",
    "* hint 2: Please note that the `LIMIT` function (displayed in the textbox below) truncates the table for view to the number of rows you specify. "
   ]
  },
  {
   "cell_type": "code",
   "execution_count": 110,
   "id": "362251eb",
   "metadata": {
    "hide_input": false,
    "slideshow": {
     "scrolled": true
    },
    "tags": [
     "Hide",
     "Init"
    ]
   },
   "outputs": [
    {
     "data": {
      "application/vnd.jupyter.widget-view+json": {
       "model_id": "a2c675052b114a68914ffe9f30343c67",
       "version_major": 2,
       "version_minor": 0
      },
      "text/plain": [
       "HBox(children=(Textarea(value='SELECT * \\nFROM film_actor \\nLIMIT 4', description='<b>Query:</b>', layout=Layo…"
      ]
     },
     "metadata": {},
     "output_type": "display_data"
    }
   ],
   "source": [
    "\n",
    "connection = sqlite3.connect(f'databases/sqlite-sakila.db')\n",
    "cursor = connection.cursor()\n",
    "inp1010 = Textarea(description='<b>Query:</b>', value='SELECT * \\nFROM film_actor \\nLIMIT 4', layout=Layout(width='40%', height='120px'))\n",
    "button1010 = Button(description=\"Execute!\")\n",
    "Box1010 = HBox([inp1010, button1010])\n",
    "\n",
    "def execute_query1010(b):\n",
    "    q = cursor.execute(inp1010.value)\n",
    "    f = q.fetchall()\n",
    "    names = list(map(lambda x: x[0], cursor.description))\n",
    "    out = pd.DataFrame(f, columns = names)\n",
    "    clear_output()\n",
    "    button1010.on_click(execute_query1010)\n",
    "    display(Box1010)\n",
    "    return display(out)\n",
    "\n",
    "button1010.on_click(execute_query1010)\n",
    "display(Box1010)"
   ]
  },
  {
   "cell_type": "markdown",
   "id": "f86f2867",
   "metadata": {
    "slideshow": {
     "slide_type": "slide"
    }
   },
   "source": [
    "### Now that you identified the key columns let's query from the combination of the three tables.\n",
    "\n",
    "**Query: Select title and actor first_name and actor last_name for all the films from film, actor and film_actor tables**\n",
    "\n",
    "* hint: You can see the correct SQL code by clicking on the `Reveal the SQL code!` button. "
   ]
  },
  {
   "cell_type": "code",
   "execution_count": 111,
   "id": "324f4d52",
   "metadata": {
    "hide_input": true,
    "tags": [
     "Hide",
     "Init"
    ]
   },
   "outputs": [
    {
     "data": {
      "application/vnd.jupyter.widget-view+json": {
       "model_id": "ed603a0d3e6b4344886927369b474564",
       "version_major": 2,
       "version_minor": 0
      },
      "text/plain": [
       "HBox(children=(Button(description='Reveal the SQL code!', style=ButtonStyle()),))"
      ]
     },
     "metadata": {},
     "output_type": "display_data"
    }
   ],
   "source": [
    "button36 = Button(description=\"Reveal the SQL code!\")\n",
    "Box36 = HBox([button36])\n",
    "que36 = '''\n",
    "SELECT title, first_name, last_name\n",
    "FROM film_actor fa, film f, actor a\n",
    "WHERE f.film_id = fa.film_id and fa.actor_id=a.actor_id\n",
    "'''\n",
    "def on_click36(b):\n",
    "    clear_output()\n",
    "    display(Box36)\n",
    "    return print(que36)\n",
    "\n",
    "button36.on_click(on_click36)\n",
    "display(Box36)\n"
   ]
  },
  {
   "cell_type": "code",
   "execution_count": 112,
   "id": "a36ba204",
   "metadata": {
    "hide_input": false,
    "slideshow": {
     "scrolled": true
    },
    "tags": [
     "Hide",
     "Init"
    ]
   },
   "outputs": [
    {
     "data": {
      "application/vnd.jupyter.widget-view+json": {
       "model_id": "8065c2d03a0f457fb61cc3dbb6b06233",
       "version_major": 2,
       "version_minor": 0
      },
      "text/plain": [
       "VBox(children=(HBox(children=(Output(), Textarea(value='', placeholder='Type your Query here'), Button(descrip…"
      ]
     },
     "metadata": {},
     "output_type": "display_data"
    }
   ],
   "source": [
    "display(QueryWindow(36).display())"
   ]
  },
  {
   "cell_type": "markdown",
   "id": "0a20cc31",
   "metadata": {
    "slideshow": {
     "slide_type": "slide"
    }
   },
   "source": [
    "## What's missing?...\n",
    "Now that you have a good idea about writing SQL queries, what do you think is missing!!!\n",
    "\n",
    "Let's again look at the Kindergarten and Shootings tables\n",
    "\n",
    "<img src = \"supplementary/images/kinder_shooting.png\" width = \"600px\">\n",
    "What if we want to ask questions such as\n",
    "\n",
    "1. Which are the schools that have atleast a single shooting event **with in 100 meters** of its location\n",
    "\n",
    "2. How many shooting events **with in 1000 meters** of each schools. \n",
    "\n",
    "3. How many shooting events **with in each census tracts**.\n",
    "\n",
    "4. How many shooting events **with in each zip codes**.\n",
    "\n",
    "5. The **distance** to the closest shooting event for each schools.\n",
    "\n",
    "Can we answer such questions based on our tables. We seems to have a location field, but currently its just text and we can't ask any spatial questions using Text data type. So how will we solve this.\n",
    "\n",
    "The answer to these questions will be clear when we learn about spatial databases and spatial queries in the next section. So stay tuned!!!!! "
   ]
  },
  {
   "cell_type": "markdown",
   "id": "5e9d12e7",
   "metadata": {
    "slideshow": {
     "slide_type": "slide"
    }
   },
   "source": [
    "Click the link below to move on\n",
    "\n",
    "\n",
    "<br>\n",
    "<font size=\"+1\"><a style=\"background-color:blue;color:white;padding:12px;margin:10px;font-weight:bold;\" href=\"gd-5.ipynb\">Click here to go to the next notebook.</a></font>"
   ]
  }
 ],
 "metadata": {
  "celltoolbar": "Edit Metadata",
  "kernelspec": {
   "display_name": "Python 3",
   "language": "python",
   "name": "python3"
  },
  "language_info": {
   "codemirror_mode": {
    "name": "ipython",
    "version": 3
   },
   "file_extension": ".py",
   "mimetype": "text/x-python",
   "name": "python",
   "nbconvert_exporter": "python",
   "pygments_lexer": "ipython3",
   "version": "3.8.1"
  },
  "rise": {
   "autolaunch": true,
   "overlay": "<div class='hciheader'></div><div class='hcifooter'></div>",
   "scroll": true
  }
 },
 "nbformat": 4,
 "nbformat_minor": 5
}
