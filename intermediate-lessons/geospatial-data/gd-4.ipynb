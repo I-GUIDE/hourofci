{
 "cells": [
  {
   "cell_type": "markdown",
   "id": "8de8038a",
   "metadata": {
    "slideshow": {
     "slide_type": "slide"
    }
   },
   "source": [
    "# Intermediate Lesson on Geospatial Data \n",
    "\n",
    "## Spatial Databases\n",
    "\n",
    "<strong>Lesson Developers:</strong> Jayakrishnan Ajayakumar, Shana Crosson, Mohsen Ahmadkhani\n",
    "\n",
    "#### Part 4 of 5"
   ]
  },
  {
   "cell_type": "code",
   "execution_count": null,
   "id": "db4c9f92",
   "metadata": {
    "hide_input": true,
    "init_cell": true,
    "slideshow": {
     "slide_type": "skip"
    },
    "tags": [
     "Hide"
    ]
   },
   "outputs": [],
   "source": [
    "# This code cell starts the necessary setup for Hour of CI lesson notebooks.\n",
    "# First, it enables users to hide and unhide code by producing a 'Toggle raw code' button below.\n",
    "# Second, it imports the hourofci package, which is necessary for lessons and interactive Jupyter Widgets.\n",
    "# Third, it helps hide/control other aspects of Jupyter Notebooks to improve the user experience\n",
    "# This is an initialization cell\n",
    "# It is not displayed because the Slide Type is 'Skip'\n",
    "\n",
    "from IPython.display import HTML, IFrame, Javascript, display, clear_output\n",
    "from ipywidgets import interactive, Textarea, HBox, Button, Layout\n",
    "import ipywidgets as widgets\n",
    "import sqlite3\n",
    "import spatialite\n",
    "import pandas as pd\n",
    "import geopandas as gpd\n",
    "\n",
    "import getpass # This library allows us to get the username (User agent string)\n",
    "\n",
    "# import package for hourofci project\n",
    "import sys\n",
    "sys.path.append('../../supplementary') # relative path (may change depending on the location of the lesson notebook)\n",
    "# sys.path.append('supplementary')\n",
    "import hourofci\n",
    "try:\n",
    "    import os\n",
    "    os.chdir('supplementary')\n",
    "except:\n",
    "    pass\n",
    "\n",
    "# load javascript to initialize/hide cells, get user agent string, and hide output indicator\n",
    "# hide code by introducing a toggle button \"Toggle raw code\"\n",
    "HTML(''' \n",
    "    <script type=\"text/javascript\" src=\\\"../../supplementary/js/custom.js\\\"></script>\n",
    "    \n",
    "    <style>\n",
    "        .output_prompt{opacity:0;}\n",
    "    </style>\n",
    "    \n",
    "    <input id=\"toggle_code\" type=\"button\" value=\"Toggle raw code\">\n",
    "''')"
   ]
  },
  {
   "cell_type": "markdown",
   "id": "0fffa183",
   "metadata": {
    "slideshow": {
     "slide_type": "slide"
    }
   },
   "source": [
    " ## Making the database spatially-enabled\n",
    "\n",
    "To perform spatial queries we should **spatially enable our database**. This is exactly what a spatial database is built for. \n",
    "\n",
    "> A spatial database is a database that has been extended to include spatial data that represents objects defined in a geographic space, along with tools for querying and analyzing such data.\n",
    "\n",
    "Remember: \n",
    "<ul>\n",
    "    <li>A spatial database is a database, so we can still leverage all the functionalities of a traditional non-spatial database. \n",
    "    <li>A spatial database includes a new data type called <b>Geometry</b> that enables spatial operations on and between objects (i.e., points, lines, and/or polygons). \n",
    "</ul>    \n",
    "\n",
    "Let's look at three example relations (tables) that has spatial data in the form of geometry. "
   ]
  },
  {
   "cell_type": "markdown",
   "id": "39b0e6d9",
   "metadata": {
    "slideshow": {
     "scrolled": true,
     "slide_type": "slide"
    }
   },
   "source": [
    "<table style=\"background: #fff; font-size:25px; text-align:left\">\n",
    "    <tr>\n",
    "        <td style=\"background: #fff; font-size:25px; text-align:left\">As shown below, the three tables have a special column with <b>geometry</b> data type. \n",
    "    <br/>They maintain spatial information that is non-readable for human as they look like series of numbers, symbols, and letters like the column on the right. <br/>\n",
    "        <i style=\"font-size:20px\">*Please note that the graphics in geometry column of the three tables above are for illustration. </i></td>\n",
    "        <td style=\"background: #fff; font-size:25px; text-align:left\">  &nbsp;&nbsp;&nbsp;&nbsp;&nbsp;&nbsp;&nbsp;&nbsp;&nbsp; </td>\n",
    "<td><img src = \"supplementary/images/geom_col.jpg\" width = \"500px\"></td>\n",
    "    </tr>\n",
    "</table>\n",
    "<center><img src = \"supplementary/images/geometry_types.png\" width = \"600px\" height = \"100px\"></center>\n"
   ]
  },
  {
   "cell_type": "markdown",
   "id": "93573dad",
   "metadata": {
    "slideshow": {
     "slide_type": "slide"
    }
   },
   "source": [
    "### The three basic geometry types are \n",
    "\n",
    "1. **Points** (schools, shooting, earthquake,your location)\n",
    "2. **Lines** (rivers, streets, roads, railway lines)\n",
    "3. **Polygon** (countries, states, census tracts, zip codes)\n",
    "\n",
    "\n",
    "Apart from supporting geometry types, spatial databases also support operations on geometries (e.g., intersection of two polygons).\n",
    "\n",
    "Queries that involve geometry types are called spatial queries which we are going to be covered in this lesson. "
   ]
  },
  {
   "cell_type": "markdown",
   "id": "0c171b8d",
   "metadata": {
    "slideshow": {
     "slide_type": "slide"
    }
   },
   "source": [
    "## Spatial Queries"
   ]
  },
  {
   "cell_type": "markdown",
   "id": "59af6c98",
   "metadata": {},
   "source": [
    "> **Spatial queries are queries in a spatial database** that can be answered on the **basis of geometric information only,** i.e., the spatial position and extent of the objects involved.\n",
    "\n",
    "Spatial functions start with <b> `ST_` </b> prefix and perform specific spatial operations. \n",
    "\n",
    "There are many ST_ functions in spatial queries that we will introduce a few of them here and in the next segment. \n",
    "\n",
    "But before we start, let's take a look at our `us_states` table that will be used in this lesson. "
   ]
  },
  {
   "cell_type": "markdown",
   "id": "b90d7f42",
   "metadata": {
    "slideshow": {
     "slide_type": "slide"
    }
   },
   "source": [
    "### Fetching and Visualizing our data \n",
    "In our spatial database there is a table holding information of the contiguous US states named `us_states`. \n",
    "\n",
    "In the module below: <br/>\n",
    "<ul>\n",
    "    <li>\n",
    "        To fetch all rows from it as a <b>Dataframe</b> click the <i>Execute!</i> button.\n",
    "    </li>\n",
    "    <li>\n",
    "        To <b>plot</b> it click the <i>Plot!</i> button. \n",
    "    </li>\n",
    "</ul>\n",
    "\n",
    "\n",
    "**Please note that in this query we use `ST_AsBinary(geom)` instead of `geom`. This is a function to translate the geometry column to something readable for python. You won't use it so often, don't get intimidated!!!*\n"
   ]
  },
  {
   "cell_type": "code",
   "execution_count": null,
   "id": "f5920702",
   "metadata": {
    "hide_input": false,
    "tags": [
     "Hide",
     "Init"
    ]
   },
   "outputs": [],
   "source": [
    "q1 = \"\"\"SELECT pk_uid, statefp, geoid, name, aland , awater, ST_AsBinary(geom) as geom \n",
    "FROM us_states\n",
    "\"\"\"\n",
    "inp1 = Textarea(description='<b>Query:</b>', value= q1, layout=Layout(width='40%', height='120px'))\n",
    "button1 = Button(description=\"Execute!\")\n",
    "plot1 = Button(description=\"Plot!\")\n",
    "Box1 = HBox([inp1, button1, plot1])\n",
    "\n",
    "db = spatialite.connect('databases/spatialDB.sqlite')\n",
    "\n",
    "def execute_query1(b): \n",
    "    clear_output()\n",
    "    button1.on_click(execute_query1)\n",
    "    plot1.on_click(plot_query1)\n",
    "    display(Box1)\n",
    "    print('Please wait...')\n",
    "    gdff1 = gpd.GeoDataFrame.from_postgis(inp1.value, db,crs = 'EPSG:3857')\n",
    "    clear_output()\n",
    "    button1.on_click(execute_query1)\n",
    "    plot1.on_click(plot_query1)\n",
    "    display(Box1)\n",
    "    return display(gdff1)\n",
    "\n",
    "def plot_query1(b): \n",
    "    clear_output()\n",
    "    button1.on_click(execute_query1)\n",
    "    plot1.on_click(plot_query1)\n",
    "    display(Box1)\n",
    "    print('Please wait...')\n",
    "    gdff1 = gpd.GeoDataFrame.from_postgis(inp1.value, db,crs = 'EPSG:3857')\n",
    "    clear_output()\n",
    "    button1.on_click(execute_query1)\n",
    "    plot1.on_click(plot_query1)\n",
    "    display(Box1)\n",
    "    return display(gdff1.plot())\n",
    "\n",
    "button1.on_click(execute_query1)\n",
    "plot1.on_click(plot_query1)\n",
    "display(Box1)\n"
   ]
  },
  {
   "cell_type": "markdown",
   "id": "657940b9",
   "metadata": {
    "slideshow": {
     "slide_type": "slide"
    }
   },
   "source": [
    "## Generating Centroids\n",
    "Calculating the centroid of a set of polygons is indeed a **spatial** operation. \n",
    "\n",
    "Performing this operation is as easy as using `st_centroid(geom)` function! This function gets the geometry column as the only parameter and returns the centroids (points). \n",
    "\n",
    "In the example below you can generate the centroids of the US states yourself! "
   ]
  },
  {
   "cell_type": "code",
   "execution_count": null,
   "id": "6e272fb4",
   "metadata": {
    "hide_input": false,
    "tags": [
     "Hide",
     "Init"
    ]
   },
   "outputs": [],
   "source": [
    "\n",
    "q2 = \"select geoid, name, ST_AsBinary(ST_CENTROID(geom)) as geom from us_states\"\n",
    "\n",
    "inp2 = Textarea(description='<b>Query:</b>', value= q2, layout=Layout(width='40%', height='120px'))\n",
    "button2 = Button(description=\"Execute!\")\n",
    "plot2 = Button(description=\"Plot!\")\n",
    "Box2 = HBox([inp2, button2, plot2])\n",
    "\n",
    "db = spatialite.connect('databases/spatialDB.sqlite')\n",
    "\n",
    "def execute_query2(b): \n",
    "    clear_output()\n",
    "    button2.on_click(execute_query2)\n",
    "    plot2.on_click(plot_query2)\n",
    "    display(Box2)\n",
    "    print('Please wait...')\n",
    "    gdff2 = gpd.GeoDataFrame.from_postgis(inp2.value, db,crs = 'EPSG:3857')\n",
    "    clear_output()\n",
    "    button2.on_click(execute_query2)\n",
    "    plot2.on_click(plot_query2)\n",
    "    display(Box2)\n",
    "    return display(gdff2)\n",
    "\n",
    "def plot_query2(b): \n",
    "    clear_output()\n",
    "    button2.on_click(execute_query2)\n",
    "    plot2.on_click(plot_query2)\n",
    "    display(Box2)\n",
    "    print('Please wait...')\n",
    "    gdff2 = gpd.GeoDataFrame.from_postgis(inp2.value, db,crs = 'EPSG:3857')\n",
    "    clear_output()\n",
    "    button2.on_click(execute_query2)\n",
    "    plot2.on_click(plot_query2)\n",
    "    display(Box2)\n",
    "    return display(gdff2.plot())\n",
    "\n",
    "button2.on_click(execute_query2)\n",
    "plot2.on_click(plot_query2)\n",
    "display(Box2)\n",
    "\n",
    "\n",
    "\n",
    "\n"
   ]
  },
  {
   "cell_type": "markdown",
   "id": "f5153f35",
   "metadata": {
    "slideshow": {
     "slide_type": "slide"
    }
   },
   "source": [
    "## Generating Buffers\n",
    "Creating buffers of any radius is another common **spatial** operation that has a built-in function called `st_buffer(geom, radius)`. \n",
    "This function gets the geometry column along with the radius of the buffer. The unit of the radius depends on the coordinate system used. \n",
    "\n",
    "The following query will make a buffer of 30 KMs around the state of Minnesota:\n",
    "\n",
    "```sql\n",
    "select st_buffer(st_transform(geom, 3857), 30000) as geom \n",
    "from us_states \n",
    "where name='Minnesota'\n",
    "```\n",
    "Notice that in this query we use `st_transform(geom, 3857)` function to transform the geometry to be represented in the Web Mercator spatial reference system that uses **meters** as the length unit.\n",
    "\n",
    "The number 3857 is the spatial reference system identifier of <a href=\"https://en.wikipedia.org/wiki/Web_Mercator_projection\">Web Mercator projection system</a>. \n",
    "\n",
    "Run this query in the next slide and change the buffer radius to see how it looks! "
   ]
  },
  {
   "cell_type": "code",
   "execution_count": null,
   "id": "f3617cd6",
   "metadata": {
    "hide_input": false,
    "slideshow": {
     "slide_type": "slide"
    },
    "tags": [
     "Hide",
     "Init"
    ]
   },
   "outputs": [],
   "source": [
    "\n",
    "q3 = \"select ST_AsBinary(st_buffer(ST_Transform(geom, 3857), 30000)) as geom from us_states where name='Minnesota'\"\n",
    "\n",
    "\n",
    "inp3 = Textarea(description='<b>Query:</b>', value= q3, layout=Layout(width='40%', height='120px'))\n",
    "button3 = Button(description=\"Execute!\")\n",
    "plot3 = Button(description=\"Plot!\")\n",
    "Box3 = HBox([inp3, button3, plot3])\n",
    "\n",
    "db = spatialite.connect('databases/spatialDB.sqlite')\n",
    "\n",
    "def execute_query3(b): \n",
    "    clear_output()\n",
    "    button3.on_click(execute_query3)\n",
    "    plot3.on_click(plot_query3)\n",
    "    display(Box3)\n",
    "    print('Please wait...')\n",
    "    gdff3 = gpd.GeoDataFrame.from_postgis(inp3.value, db,crs = 'EPSG:3857')\n",
    "    clear_output()\n",
    "    button3.on_click(execute_query3)\n",
    "    plot3.on_click(plot_query3)\n",
    "    display(Box3)\n",
    "    return display(gdff3)\n",
    "\n",
    "def plot_query3(b): \n",
    "    clear_output()\n",
    "    button3.on_click(execute_query3)\n",
    "    plot3.on_click(plot_query3)\n",
    "    display(Box3)\n",
    "    print('Please wait...')\n",
    "    gdff3 = gpd.GeoDataFrame.from_postgis(inp3.value, db,crs = 'EPSG:3857')\n",
    "    clear_output()\n",
    "    button3.on_click(execute_query3)\n",
    "    plot3.on_click(plot_query3)\n",
    "    display(Box3)\n",
    "    return display(gdff3.plot())\n",
    "\n",
    "button3.on_click(execute_query3)\n",
    "plot3.on_click(plot_query3)\n",
    "display(Box3)\n",
    "\n"
   ]
  },
  {
   "cell_type": "markdown",
   "id": "f629347a",
   "metadata": {
    "slideshow": {
     "slide_type": "slide"
    }
   },
   "source": [
    "## Challenge!\n",
    "#### Can you make a buffer of 2 KMs around the centroid of Minnesota?\n",
    "\n",
    "You can check your solution by clicking on *Reveal the SQL code!* button!"
   ]
  },
  {
   "cell_type": "code",
   "execution_count": null,
   "id": "30880cab",
   "metadata": {
    "hide_input": false,
    "tags": [
     "Hide",
     "Init"
    ]
   },
   "outputs": [],
   "source": [
    "\n",
    "q4 = \"SELECT \\nFROM \\nWHERE\"\n",
    "\n",
    "\n",
    "inp4 = Textarea(description='<b>Query:</b>', value= q4, layout=Layout(width='40%', height='120px'))\n",
    "button4 = Button(description=\"Execute!\")\n",
    "plot4 = Button(description=\"Plot!\")\n",
    "Box4 = HBox([inp4, button4, plot4])\n",
    "\n",
    "db = spatialite.connect('databases/spatialDB.sqlite')\n",
    "\n",
    "def execute_query4(b): \n",
    "    clear_output()\n",
    "    button4.on_click(execute_query4)\n",
    "    plot4.on_click(plot_query4)\n",
    "    display(Box4)\n",
    "    print('Please wait...')\n",
    "    gdff4 = gpd.GeoDataFrame.from_postgis(inp4.value, db,crs = 'EPSG:3857')\n",
    "    clear_output()\n",
    "    button4.on_click(execute_query4)\n",
    "    plot4.on_click(plot_query4)\n",
    "    display(Box4)\n",
    "    return display(gdff4)\n",
    "\n",
    "def plot_query4(b): \n",
    "    clear_output()\n",
    "    button4.on_click(execute_query4)\n",
    "    plot4.on_click(plot_query4)\n",
    "    display(Box4)\n",
    "    print('Please wait...')\n",
    "    gdff4 = gpd.GeoDataFrame.from_postgis(inp4.value, db,crs = 'EPSG:3857')\n",
    "    clear_output()\n",
    "    button4.on_click(execute_query4)\n",
    "    plot4.on_click(plot_query4)\n",
    "    display(Box4)\n",
    "    return display(gdff4.plot())\n",
    "\n",
    "button4.on_click(execute_query4)\n",
    "plot4.on_click(plot_query4)\n",
    "display(Box4)\n"
   ]
  },
  {
   "cell_type": "code",
   "execution_count": null,
   "id": "cbf48d73",
   "metadata": {
    "hide_input": false,
    "tags": [
     "Hide",
     "Init"
    ]
   },
   "outputs": [],
   "source": [
    "button5 = Button(description=\"Reveal the SQL code!\")\n",
    "Box5 = HBox([button5])\n",
    "query5 = \"SELECT ST_AsBinary(st_buffer(st_centroid(ST_Transform(geom, 3857)), 2000)) as geom \\nFROM us_states \\nWHERE name='Minnesota'\"\n",
    "\n",
    "def on_click5(b):\n",
    "    clear_output()\n",
    "    display(Box5)\n",
    "    return print(query5)\n",
    "\n",
    "button5.on_click(on_click5)\n",
    "display(Box5)"
   ]
  },
  {
   "cell_type": "markdown",
   "id": "a757ca1c",
   "metadata": {
    "slideshow": {
     "slide_type": "slide"
    }
   },
   "source": [
    "### Containment Query\n",
    "The function **st_contains(geometry A,geometry B)** returns true if geometry A completely contains geometry B"
   ]
  },
  {
   "cell_type": "markdown",
   "id": "933b36b0",
   "metadata": {},
   "source": [
    "\n",
    "<img src = \"supplementary/images/containment_detail.png\" width = \"600px\">"
   ]
  },
  {
   "cell_type": "markdown",
   "id": "d49b8e99",
   "metadata": {
    "slideshow": {
     "slide_type": "slide"
    }
   },
   "source": [
    "Some real world examples include\n",
    "\n",
    " <table>\n",
    "    <tr>\n",
    "        <td style=\"background: #fff; font-size:25px; text-align:left\">\n",
    "            <img src = \"supplementary/images/PointInPolygon.png\" width = \"600px\">\n",
    "        </td>\n",
    "        <td style=\"background: #fff; font-size:25px; text-align:left\">\n",
    "            <img src = \"supplementary/images/Covid_Cases.png\" width = \"600px\">\n",
    "        </td>\n",
    "    </tr>\n",
    "  </table>"
   ]
  },
  {
   "cell_type": "markdown",
   "id": "07b74253",
   "metadata": {
    "slideshow": {
     "slide_type": "slide"
    }
   },
   "source": [
    "### Query: How many starbucks are there in Minnesota?\n",
    "\n",
    "<center><img src = \"supplementary/images/137-44505.png\" width = \"400px\"></center>\n",
    "In the next slide, we will look at the two <b>tables</b> involved in this query:"
   ]
  },
  {
   "cell_type": "markdown",
   "id": "8c55c295",
   "metadata": {
    "slideshow": {
     "slide_type": "slide"
    }
   },
   "source": [
    "To perform such query, we need two spatial tables, a table that keeps the US states' information (`us_states` table), and another one holding Starbuck stores' inforamtion (`starbucks` table) as shown below:"
   ]
  },
  {
   "cell_type": "code",
   "execution_count": null,
   "id": "02ce1c97",
   "metadata": {
    "hide_input": false,
    "slideshow": {
     "slide_type": "-"
    },
    "tags": [
     "Hide",
     "Init"
    ]
   },
   "outputs": [],
   "source": [
    "from ipywidgets import Button, HBox, VBox,widgets,Layout,GridspecLayout,IntSlider,HTML\n",
    "from IPython.display import display\n",
    "import spatialite\n",
    "import pandas as pd\n",
    "db = spatialite.connect('databases/spatialDB.sqlite')\n",
    "table1 = pd.read_sql_query('select statefp,name,geom as geometry from us_states limit 5',db)\n",
    "table2 = pd.read_sql_query('select pk_uid,fid,geom as geometry from starbucks limit 5',db)\n",
    "table1_disp = widgets.Output()\n",
    "table2_disp = widgets.Output()\n",
    "table1_header = widgets.HTML(value = f\"<b><font color='red'><center>US_STATES</center></b>\")\n",
    "table2_header = widgets.HTML(value = f\"<b><font color='red'><center>STARBUCKS</center></b>\")\n",
    "with table1_disp:\n",
    "    display(table1)\n",
    "with table2_disp:\n",
    "    display(table2)\n",
    "out=HBox([VBox([table1_header,table1_disp],layout = Layout(margin='0 100px 0 0')),VBox([table2_header,table2_disp])])\n",
    "out"
   ]
  },
  {
   "cell_type": "markdown",
   "id": "8a6c93f9",
   "metadata": {
    "slideshow": {
     "slide_type": "slide"
    }
   },
   "source": [
    "To count all the STARBUCKS that are **within** the state of 'Minnesota' we can use the following query:\n",
    "\n",
    "```sql\n",
    "select count(*) as total_starbucks \n",
    "from us_states u,starbucks s \n",
    "where u.name = 'Minnesota' and st_contains(u.geom,s.geom)\n",
    "```\n",
    "\n",
    "From the last chapter you might recall that this is a join operation involving multiple tables. But unlike the examples we saw, there is no explicit key-based relationship between the two tables. \n",
    "\n",
    "So instead of using a key-based relationship for the join we are using the relationship between the geometries of the two tables for the join. Such type of joins are called **Spatial Joins**.\n",
    "\n",
    ">**Spatial Join** - **Joins attributes from one table to another based on their spatial relationship**."
   ]
  },
  {
   "cell_type": "markdown",
   "id": "3a8abad1",
   "metadata": {
    "slideshow": {
     "slide_type": "slide"
    }
   },
   "source": [
    "#### Let's dismantle the query!\n",
    "The clause\n",
    "```sql\n",
    "where u.name = 'Minnesota' \n",
    "```\n",
    "retrieves the row from the `us_states` table with a name 'Minnesota' and the  function\n",
    "```sql\n",
    "st_contains(u.geom,s.geom)\n",
    "```\n",
    "\n",
    "retrieves those rows from `starbucks` and `us_states` tables where the **geometry in `starbucks` table (which is `point` in this case) is contained by the geometry in `us_states` table (which is `polygon`)** (which in this case is Minnesota) and then\n",
    "```sql\n",
    "count(*) as total_starbucks\n",
    "```\n",
    "counts the number of rows returned as a result of the where clause and assign it a name total_starbucks\n",
    "\n",
    "\n",
    "Run this query in the next slide!\n"
   ]
  },
  {
   "cell_type": "code",
   "execution_count": null,
   "id": "db6c6157",
   "metadata": {
    "hide_input": false,
    "slideshow": {
     "slide_type": "slide"
    },
    "tags": [
     "Hide",
     "Init"
    ]
   },
   "outputs": [],
   "source": [
    "\n",
    "inp6 = Textarea(description='<b>Query:</b>', value=\"select count(*) as total_starbucks \\nfrom us_states u,starbucks s \\nwhere u.name = 'Minnesota' and st_contains(u.geom,s.geom)\" , layout=Layout(width='40%', height='120px'))\n",
    "button6 = Button(description=\"Execute!\")          \n",
    "Box6 = HBox([inp6, button6])\n",
    "\n",
    "db = spatialite.connect('databases/spatialDB.sqlite')\n",
    "\n",
    "\n",
    "def execute_query6(b):\n",
    "    clear_output()\n",
    "    button6.on_click(execute_query6)\n",
    "    display(Box6)\n",
    "    print('Please wait...')\n",
    "    table16 = pd.read_sql_query(inp6.value,db)\n",
    "    clear_output()\n",
    "    button6.on_click(execute_query6)\n",
    "    display(Box6)\n",
    "    return display(table16)\n",
    "\n",
    "button6.on_click(execute_query6)\n",
    "display(Box6)\n"
   ]
  },
  {
   "cell_type": "markdown",
   "id": "091acdbc",
   "metadata": {
    "slideshow": {
     "slide_type": "slide"
    }
   },
   "source": [
    "As shown in the example below, the `st_contains(u.geom,s.geom)` counts the number of objects (stars) within another object (circles).\n",
    "\n",
    "<img src = \"supplementary/images/PointInMultiplePolygons.png\" width = \"600px\">\n",
    "\n",
    "Now, let's modify the question as below:\n",
    "### How many starbucks are there in *each* state?\n",
    "\n",
    "The key difference here is that we are not selecting any particular state and we want our results to be **grouped by** the state names.\n",
    "\n",
    "We can write this query as \n",
    "\n",
    "```sql\n",
    "select u.name,count(*) as total_starbucks \n",
    "from us_states u,starbucks s \n",
    "where st_contains(u.geom,s.geom) \n",
    "group by u.name\n",
    "```\n",
    "\n",
    "If you compare this query to the previous one you can notice that the clause that checks the state name is removed. \n",
    "\n",
    "\n",
    "Run this query yourself in the next slide!"
   ]
  },
  {
   "cell_type": "code",
   "execution_count": null,
   "id": "30e173f9",
   "metadata": {
    "hide_input": false,
    "slideshow": {
     "slide_type": "slide"
    },
    "tags": [
     "Hide",
     "Init"
    ]
   },
   "outputs": [],
   "source": [
    "\n",
    "inp7 = Textarea(description='<b>Query:</b>', value=\"select u.name,count(*) as total_starbucks \\nfrom us_states u,starbucks s \\nwhere st_contains(u.geom,s.geom) \\ngroup by u.name\", layout=Layout(width='40%', height='120px'))\n",
    "button7 = Button(description=\"Execute!\")\n",
    "Box7 = HBox([inp7, button7])\n",
    "\n",
    "def execute_query7(b):\n",
    "    clear_output()\n",
    "    button7.on_click(execute_query7)\n",
    "    display(Box7)\n",
    "    print('Please wait...')\n",
    "    table17 = pd.read_sql_query(inp7.value,db)\n",
    "    clear_output()\n",
    "    button7.on_click(execute_query7)\n",
    "    display(Box7)\n",
    "    return display(table17)\n",
    "\n",
    "button7.on_click(execute_query7)\n",
    "display(Box7)\n"
   ]
  },
  {
   "cell_type": "markdown",
   "id": "0d5c0d47",
   "metadata": {
    "slideshow": {
     "slide_type": "slide"
    }
   },
   "source": [
    "### Let's visualize the result!\n",
    "\n",
    "In the previous slide you were able to return the number of Starbucks branches in each state. Now, let's see those branches on a map! In the map below you can change the state interactively, get the counts, and see them on the map.\n"
   ]
  },
  {
   "cell_type": "code",
   "execution_count": null,
   "id": "e2b24599",
   "metadata": {
    "hide_input": false,
    "slideshow": {
     "slide_type": "-"
    },
    "tags": [
     "Hide",
     "Init"
    ]
   },
   "outputs": [],
   "source": [
    "from ipyleaflet import Map, DrawControl,GeoData,LayerGroup,WidgetControl,Rectangle,basemap_to_tiles,basemaps,Polygon,GeoJSON,Choropleth\n",
    "from ipywidgets import Button, HBox, VBox,widgets,Layout,GridspecLayout,IntSlider,HTML\n",
    "from IPython.display import display\n",
    "import spatialite\n",
    "import pandas as pd\n",
    "import geopandas as gpd\n",
    "import json\n",
    "import time\n",
    "db = spatialite.connect('databases/spatialDB.sqlite')\n",
    "def stateChanged(slid):\n",
    "    layer_group.clear_layers()\n",
    "    stateGeomSql = f\"SELECT ST_AsBinary(geom) as geom FROM us_states where name='{states.value}';\"\n",
    "    starbucksSql = f\"\"\"SELECT ST_AsBinary(s.geom) as geom FROM us_states u,starbucks s where u.name='{states.value}'\n",
    "     and st_contains(u.geom,s.geom) and s.rowid in(SELECT ROWID \n",
    "    FROM SpatialIndex\n",
    "    WHERE f_table_name = 'starbucks' \n",
    "        AND search_frame = u.geom)\"\"\"\n",
    "    gdf = gpd.GeoDataFrame.from_postgis(stateGeomSql, db,crs = 'EPSG:4269').to_crs('EPSG:4326')\n",
    "    starbucksgdf = gpd.GeoDataFrame.from_postgis(starbucksSql, db,crs = 'EPSG:4326')\n",
    "    center = [gdf.centroid.y.values[0],gdf.centroid.x.values[0]]\n",
    "    sMap.center = center\n",
    "    sMap.zoom = 6\n",
    "    geo_data = GeoJSON(data = json.loads(gdf.to_json()),style={'opacity': 1, 'dashArray': '9', 'fillOpacity': 0, 'weight': 1})\n",
    "    layer_group.add_layer(geo_data)\n",
    "    geo_data_starbucks = GeoJSON(data = json.loads(starbucksgdf.to_json()))\n",
    "    layer_group.add_layer(geo_data_starbucks)\n",
    "    counts.value = str(len(starbucksgdf))\n",
    "    \n",
    "sql = \"SELECT name FROM us_states order by name;\"\n",
    "statedf = pd.read_sql_query(sql,db)\n",
    "sMap= Map(center=(41.482222, -81.669722), zoom=15,prefer_canvas =True)\n",
    "layer_group = LayerGroup()\n",
    "sMap.add_layer(layer_group)\n",
    "states = widgets.Dropdown(\n",
    "    options=statedf.name.values,\n",
    "    value=statedf.name.values[0],\n",
    "    description='State:',\n",
    "    disabled=False,\n",
    ")\n",
    "counts=widgets.Text(\n",
    "    value='',\n",
    "    placeholder='',\n",
    "    description='Total:',\n",
    "    disabled=True,\n",
    ")\n",
    "states.observe(stateChanged, 'value')\n",
    "filterParams=HBox([sMap,VBox([states,counts])])\n",
    "stateChanged(None)\n",
    "filterParams"
   ]
  },
  {
   "cell_type": "markdown",
   "id": "a1b2b0f4",
   "metadata": {
    "slideshow": {
     "slide_type": "slide"
    }
   },
   "source": [
    "Click the link below to move on\n",
    "\n",
    "\n",
    "<br>\n",
    "<font size=\"+1\"><a style=\"background-color:blue;color:white;padding:12px;margin:10px;font-weight:bold;\" href=\"gd-5.ipynb\">Click here to go to the next notebook.</a></font>"
   ]
  }
 ],
 "metadata": {
  "celltoolbar": "Slideshow",
  "kernelspec": {
   "display_name": "Python 3",
   "language": "python",
   "name": "python3"
  },
  "language_info": {
   "codemirror_mode": {
    "name": "ipython",
    "version": 3
   },
   "file_extension": ".py",
   "mimetype": "text/x-python",
   "name": "python",
   "nbconvert_exporter": "python",
   "pygments_lexer": "ipython3",
   "version": "3.8.1"
  },
  "rise": {
   "autolaunch": true,
   "overlay": "<div class='hciheader'></div><div class='hcifooter'></div>",
   "scroll": true
  }
 },
 "nbformat": 4,
 "nbformat_minor": 5
}
