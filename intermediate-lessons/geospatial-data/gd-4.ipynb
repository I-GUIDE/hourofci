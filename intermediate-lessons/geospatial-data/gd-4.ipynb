{
 "cells": [
  {
   "cell_type": "markdown",
   "metadata": {
    "slideshow": {
     "slide_type": "slide"
    }
   },
   "source": [
    "# Intermediate Lesson on Geospatial Data \n",
    "\n",
    "## Spatial Databases\n",
    "\n",
    "<strong>Lesson Developers:</strong> Jayakrishnan Ajayakumar, Shana Crosson, Mohsen Ahmadkhani\n",
    "\n",
    "#### Part 4 of 5"
   ]
  },
  {
   "cell_type": "code",
   "execution_count": null,
   "metadata": {
    "hide_input": true,
    "init_cell": true,
    "slideshow": {
     "slide_type": "skip"
    },
    "tags": [
     "Hide"
    ]
   },
   "outputs": [],
   "source": [
    "# This code cell starts the necessary setup for Hour of CI lesson notebooks.\n",
    "# First, it enables users to hide and unhide code by producing a 'Toggle raw code' button below.\n",
    "# Second, it imports the hourofci package, which is necessary for lessons and interactive Jupyter Widgets.\n",
    "# Third, it helps hide/control other aspects of Jupyter Notebooks to improve the user experience\n",
    "# This is an initialization cell\n",
    "# It is not displayed because the Slide Type is 'Skip'\n",
    "\n",
    "from IPython.display import HTML, IFrame, Javascript, display\n",
    "from ipywidgets import interactive\n",
    "import ipywidgets as widgets\n",
    "from ipywidgets import Layout\n",
    "\n",
    "import getpass # This library allows us to get the username (User agent string)\n",
    "\n",
    "# import package for hourofci project\n",
    "import sys\n",
    "sys.path.append('../../supplementary') # relative path (may change depending on the location of the lesson notebook)\n",
    "# sys.path.append('supplementary')\n",
    "import hourofci\n",
    "try:\n",
    "    import os\n",
    "    os.chdir('supplementary')\n",
    "except:\n",
    "    pass\n",
    "\n",
    "# load javascript to initialize/hide cells, get user agent string, and hide output indicator\n",
    "# hide code by introducing a toggle button \"Toggle raw code\"\n",
    "HTML(''' \n",
    "    <script type=\"text/javascript\" src=\\\"../../supplementary/js/custom.js\\\"></script>\n",
    "    \n",
    "    <style>\n",
    "        .output_prompt{opacity:0;}\n",
    "    </style>\n",
    "    \n",
    "    <input id=\"toggle_code\" type=\"button\" value=\"Toggle raw code\">\n",
    "''')"
   ]
  },
  {
   "cell_type": "markdown",
   "metadata": {
    "slideshow": {
     "slide_type": "slide"
    }
   },
   "source": [
    " ## Making the database spatially enabled\n",
    "\n",
    "To perform spatial queries we should **spatially enable our database**. This is exactly what a spatial database is build for. \n",
    "\n",
    "> A spatial database is a database that has been extended to include spatial data that represents objects defined in a geographic space, along with tools for querying and analyzing such data.\n",
    "\n",
    "Remember: \n",
    "<ul>\n",
    "    <li>Spatial database is a database, so we can still leverage all the functionalities of a traditional non-spatial database. \n",
    "    <li>A spatial database can include a new data type called <b>Geometry</b> and perform operations on them and between them. \n",
    "</ul>    \n",
    "\n",
    "Let's look at three example relations (tables) that has spatial data in the form of geometry. "
   ]
  },
  {
   "cell_type": "markdown",
   "metadata": {
    "slideshow": {
     "slide_type": "slide"
    }
   },
   "source": [
    "<center><img src = \"supplementary/images/geometry_types.png\" width = \"800px\"></center>\n",
    "<table style=\"font-size:25px; text-align:left\">\n",
    "    <tr>\n",
    "        <td>As you can see the three tables have a special column with <b>geometry</b> data type. \n",
    "    <br/>They maintain spatial information that is non-readable for human as they look like series of numbers and letters like this:<br/>\n",
    "        <i style=\"font-size:20px\">*Please note that the graphics in geometry column of the three tables above are for illustration. </i></td>\n",
    "        <td>  &nbsp;&nbsp;&nbsp;&nbsp;&nbsp;&nbsp;&nbsp;&nbsp;&nbsp; </td>\n",
    "<td><img src = \"supplementary/images/geom_col.jpg\" width = \"200px\"></td>\n",
    "    </tr>\n",
    "    </table>\n"
   ]
  },
  {
   "cell_type": "markdown",
   "metadata": {
    "slideshow": {
     "slide_type": "slide"
    }
   },
   "source": [
    "The three basic geometry types are \n",
    "\n",
    "1. Points (schools, shooting, earthquake,your location)\n",
    "2. Lines (rivers, streets, roads, railway lines)\n",
    "3. Polygon (countries, states, census tracts, zip codes)\n",
    "\n",
    "\n",
    "Apart from supporting geometry types, spatial databases also support operations on geometries (e.g., intersection of two polygons).\n",
    "\n",
    "Queries that involve geometry types are called spatial queries which we are going to cover in the next section. "
   ]
  },
  {
   "cell_type": "markdown",
   "metadata": {
    "slideshow": {
     "slide_type": "slide"
    }
   },
   "source": [
    "## Spatial Queries"
   ]
  },
  {
   "cell_type": "markdown",
   "metadata": {},
   "source": [
    "> **Spatial queries are queries in a spatial database** that can be answered on the **basis of geometric information only,** i.e., the spatial position and extent of the objects involved.\n",
    "\n",
    "Spatial functions start with <b> `st_` </b> prefix and perform specific spatial operations. \n",
    "Let's look at various types of spatial functions and queries"
   ]
  },
  {
   "cell_type": "markdown",
   "metadata": {
    "slideshow": {
     "slide_type": "slide"
    }
   },
   "source": [
    "### Containment Query\n",
    "The function **st_contains(geometry A,geometry B)** returns true if geometry A completely contains geometry B"
   ]
  },
  {
   "cell_type": "markdown",
   "metadata": {},
   "source": [
    "\n",
    "<img src = \"supplementary/images/containment_detail.png\" width = \"600px\">"
   ]
  },
  {
   "cell_type": "markdown",
   "metadata": {
    "slideshow": {
     "slide_type": "slide"
    }
   },
   "source": [
    "Some real world examples include\n",
    "\n",
    " <table>\n",
    "    <tr>\n",
    "        <td>\n",
    "            <img src = \"supplementary/images/PointInPolygon.png\" width = \"600px\">\n",
    "        </td>\n",
    "        <td>\n",
    "            <img src = \"supplementary/images/Covid_Cases.png\" width = \"600px\">\n",
    "        </td>\n",
    "    </tr>\n",
    "  </table>"
   ]
  },
  {
   "cell_type": "markdown",
   "metadata": {
    "slideshow": {
     "slide_type": "slide"
    }
   },
   "source": [
    "**How many starbucks are there in my state**\n",
    "\n",
    "<img src = \"supplementary/images/137-44505.png\" width = \"400px\">\n",
    "Lets look at the two **tables** involved in this query"
   ]
  },
  {
   "cell_type": "code",
   "execution_count": null,
   "metadata": {
    "hide_input": true,
    "slideshow": {
     "slide_type": "subslide"
    },
    "tags": [
     "Hide",
     "Init"
    ]
   },
   "outputs": [],
   "source": [
    "from ipywidgets import Button, HBox, VBox,widgets,Layout,GridspecLayout,IntSlider,HTML\n",
    "from IPython.display import display\n",
    "import spatialite\n",
    "import pandas as pd\n",
    "db = spatialite.connect('databases/spatialDB.sqlite')\n",
    "table1 = pd.read_sql_query('select statefp,name,geom as geometry from us_states limit 5',db)\n",
    "table2 = pd.read_sql_query('select pk_uid,fid,geom as geometry from starbucks limit 5',db)\n",
    "table1_disp = widgets.Output()\n",
    "table2_disp = widgets.Output()\n",
    "table1_header = widgets.HTML(value = f\"<b><font color='red'><center>US_STATES</center></b>\")\n",
    "table2_header = widgets.HTML(value = f\"<b><font color='red'><center>STARBUCKS</center></b>\")\n",
    "with table1_disp:\n",
    "    display(table1)\n",
    "with table2_disp:\n",
    "    display(table2)\n",
    "out=HBox([VBox([table1_header,table1_disp],layout = Layout(margin='0 100px 0 0')),VBox([table2_header,table2_disp])])\n",
    "out"
   ]
  },
  {
   "cell_type": "markdown",
   "metadata": {
    "slideshow": {
     "slide_type": "slide"
    }
   },
   "source": [
    "As you can see for both the tables (US_STATES and STARBUCKS) there is a geometry column which can be used for spatial querying. Suppose your state is Califronia, then to count all the STARBUCKS that are **within** the state of 'Califorina' we can use the query,\n",
    "\n",
    "```sql\n",
    "select count(*) as total_starbucks from us_states u,starbucks s where u.name = 'California' and st_contains(u.geom,s.geom)\n",
    "```\n",
    "\n",
    "From the last chapter you might recall that this is a join operation involving multiple tables. But unlike the examples we have seen there is no explicit key-based relationship between the two tables. \n",
    "\n",
    "So instead of using a key-based relationship for the join we are using the relationship between the geometries of the two tables for the join. Such type of joins are called **Spatial Joins**.\n",
    "\n",
    ">**Spatial Joins** - **Joins attributes from one table to another based on the spatial relationship**."
   ]
  },
  {
   "cell_type": "markdown",
   "metadata": {
    "slideshow": {
     "slide_type": "slide"
    }
   },
   "source": [
    "The clause\n",
    "```sql\n",
    "where u.name = 'California' \n",
    "```\n",
    "retrieves all rows from the us_states table with a name 'California' (which is only one)\n",
    "and the clause\n",
    "```sql\n",
    "st_contains(u.geom,s.geom)\n",
    "```\n",
    "\n",
    "retrieves those rows from starbucks and us_states table where the **geometry in starbucks table (which is `point` in case of starbucks table) is contained by the geometry (which is `polygon`) in us_states table** (which in this case is California) and then\n",
    "```sql\n",
    "count(*) as total_starbucks\n",
    "```\n",
    "counts the number of rows returned as a result of the where clause and assign it a name total_starbucks\n",
    "\n",
    "Let's look at an interactive example of this query. Here we can change the state interactively and get the counts. Along with the counts the locations of the starbucks are also displayed. "
   ]
  },
  {
   "cell_type": "code",
   "execution_count": null,
   "metadata": {
    "hide_input": true,
    "slideshow": {
     "slide_type": "slide"
    },
    "tags": [
     "Hide",
     "Init"
    ]
   },
   "outputs": [],
   "source": [
    "from ipyleaflet import Map, DrawControl,GeoData,LayerGroup,WidgetControl,Rectangle,basemap_to_tiles,basemaps,Polygon,GeoJSON,Choropleth\n",
    "from ipywidgets import Button, HBox, VBox,widgets,Layout,GridspecLayout,IntSlider,HTML\n",
    "from IPython.display import display\n",
    "import spatialite\n",
    "import pandas as pd\n",
    "import geopandas as gpd\n",
    "import json\n",
    "import time\n",
    "db = spatialite.connect('databases/spatialDB.sqlite')\n",
    "def stateChanged(slid):\n",
    "    layer_group.clear_layers()\n",
    "    stateGeomSql = f\"SELECT ST_AsBinary(geom) as geom FROM us_states where name='{states.value}';\"\n",
    "    starbucksSql = f\"\"\"SELECT ST_AsBinary(s.geom) as geom FROM us_states u,starbucks s where u.name='{states.value}'\n",
    "     and st_contains(u.geom,s.geom) and s.rowid in(SELECT ROWID \n",
    "    FROM SpatialIndex\n",
    "    WHERE f_table_name = 'starbucks' \n",
    "        AND search_frame = u.geom)\"\"\"\n",
    "    gdf = gpd.GeoDataFrame.from_postgis(stateGeomSql, db,crs = 'EPSG:4269').to_crs('EPSG:4326')\n",
    "    starbucksgdf = gpd.GeoDataFrame.from_postgis(starbucksSql, db,crs = 'EPSG:4326')\n",
    "    center = [gdf.centroid.y.values[0],gdf.centroid.x.values[0]]\n",
    "    sMap.center = center\n",
    "    sMap.zoom = 6\n",
    "    geo_data = GeoJSON(data = json.loads(gdf.to_json()),style={'opacity': 1, 'dashArray': '9', 'fillOpacity': 0, 'weight': 1})\n",
    "    layer_group.add_layer(geo_data)\n",
    "    geo_data_starbucks = GeoJSON(data = json.loads(starbucksgdf.to_json()))\n",
    "    layer_group.add_layer(geo_data_starbucks)\n",
    "    counts.value = str(len(starbucksgdf))\n",
    "    \n",
    "sql = \"SELECT name FROM us_states order by name;\"\n",
    "statedf = pd.read_sql_query(sql,db)\n",
    "sMap= Map(center=(41.482222, -81.669722), zoom=15,prefer_canvas =True)\n",
    "layer_group = LayerGroup()\n",
    "sMap.add_layer(layer_group)\n",
    "states = widgets.Dropdown(\n",
    "    options=statedf.name.values,\n",
    "    value=statedf.name.values[0],\n",
    "    description='State:',\n",
    "    disabled=False,\n",
    ")\n",
    "counts=widgets.Text(\n",
    "    value='',\n",
    "    placeholder='',\n",
    "    description='Total:',\n",
    "    disabled=True,\n",
    ")\n",
    "states.observe(stateChanged, 'value')\n",
    "filterParams=HBox([sMap,VBox([states,counts])])\n",
    "stateChanged(None)\n",
    "filterParams"
   ]
  },
  {
   "cell_type": "markdown",
   "metadata": {
    "slideshow": {
     "slide_type": "slide"
    }
   },
   "source": [
    "We can also modify the question as, **\"How many starbucks in each state?\"**\n",
    "\n",
    "\n",
    "<img src = \"supplementary/images/PointInMultiplePolygons.png\" width = \"600px\">"
   ]
  },
  {
   "cell_type": "markdown",
   "metadata": {
    "slideshow": {
     "slide_type": "slide"
    }
   },
   "source": [
    "**Total starbucks in each state**\n",
    "\n",
    "The key difference here is that we are not selecting any particular state and we want our results to be **grouped** by each state name\n",
    "\n",
    "We can write this **query** as \n",
    "\n",
    "```sql\n",
    "select u.name,count(*) as total_starbucks from us_states u,starbucks s where st_contains(u.geom,s.geom) group by u.name\n",
    "```\n",
    "\n",
    "If you compare this query to the previous one you can notice that the clause that checks the state name is removed. "
   ]
  },
  {
   "cell_type": "code",
   "execution_count": null,
   "metadata": {
    "hide_input": true,
    "slideshow": {
     "slide_type": "slide"
    },
    "tags": [
     "Hide",
     "Init"
    ]
   },
   "outputs": [],
   "source": [
    "from ipywidgets import Button, HBox, VBox,widgets,Layout,GridspecLayout,IntSlider,HTML\n",
    "from IPython.display import display\n",
    "db = spatialite.connect('databases/spatialDB.sqlite')\n",
    "table1 = pd.read_sql_query(\"\"\"SELECT statefp,name,u.geom as geometry,s.pk_uid,fid,s.geom as geometry from us_states u,starbucks s\n",
    " where st_contains(u.geom,s.geom) and s.rowid in(SELECT ROWID \n",
    "    FROM SpatialIndex\n",
    "    WHERE f_table_name = 'starbucks' \n",
    "        AND search_frame = u.geom) limit 10\"\"\",db)\n",
    "table1_disp = widgets.Output()\n",
    "table1_header = widgets.HTML(value = f\"<b><font color='red'><center>Matching Rows</center></b>\")\n",
    "with table1_disp:\n",
    "    display(table1)\n",
    "out=HBox([VBox([table1_header,table1_disp])])\n",
    "out"
   ]
  },
  {
   "cell_type": "markdown",
   "metadata": {
    "slideshow": {
     "slide_type": "slide"
    }
   },
   "source": [
    "Now if you want to group this table based on name and show the total count for each name use count() and group by name"
   ]
  },
  {
   "cell_type": "code",
   "execution_count": null,
   "metadata": {
    "hide_input": true,
    "tags": [
     "Hide",
     "Init"
    ]
   },
   "outputs": [],
   "source": [
    "disp = widgets.Output()\n",
    "db = spatialite.connect('databases/spatialDB.sqlite')\n",
    "stateGeomSql = f\"\"\"SELECT u.name,count(*) as total_sbucks from us_states u,starbucks s\n",
    " where st_contains(u.geom,s.geom) and s.rowid in(SELECT ROWID \n",
    "    FROM SpatialIndex\n",
    "    WHERE f_table_name = 'starbucks' \n",
    "        AND search_frame = u.geom) group by u.name limit 10\"\"\"\n",
    "data = pd.read_sql_query(stateGeomSql,con=db)\n",
    "with disp:\n",
    "    display(data)\n",
    "disp"
   ]
  },
  {
   "cell_type": "markdown",
   "metadata": {
    "slideshow": {
     "slide_type": "slide"
    }
   },
   "source": [
    "We can ask similar questions using the containment query. \n",
    "Try out some examples:\n",
    "\n",
    "**How many dominos are there in my state**\n",
    "\n",
    "Let's look at the tables:"
   ]
  },
  {
   "cell_type": "code",
   "execution_count": null,
   "metadata": {
    "hide_input": true,
    "scrolled": true,
    "tags": [
     "Hide",
     "Init"
    ]
   },
   "outputs": [],
   "source": [
    "from ipywidgets import Button, HBox, VBox,widgets,Layout,GridspecLayout,IntSlider,HTML\n",
    "from IPython.display import display\n",
    "db = spatialite.connect('databases/spatialDB.sqlite')\n",
    "table1 = pd.read_sql_query('select statefp,name,geom as geometry from us_states limit 5',db)\n",
    "table2 = pd.read_sql_query('select pk_uid,fid,geom as geometry from dominos limit 5',db)\n",
    "table1_disp = widgets.Output()\n",
    "table2_disp = widgets.Output()\n",
    "table1_header = widgets.HTML(value = f\"<b><font color='red'><center>US_STATES</center></b>\")\n",
    "table2_header = widgets.HTML(value = f\"<b><font color='red'><center>DOMINOS</center></b>\")\n",
    "with table1_disp:\n",
    "    display(table1)\n",
    "with table2_disp:\n",
    "    display(table2)\n",
    "out=HBox([VBox([table1_header,table1_disp],layout = Layout(margin='0 100px 0 0')),VBox([table2_header,table2_disp])])\n",
    "out"
   ]
  },
  {
   "cell_type": "markdown",
   "metadata": {
    "slideshow": {
     "slide_type": "slide"
    }
   },
   "source": [
    "And this is the query\n",
    "\n",
    "```sql\n",
    "SELECT ST_AsBinary(s.geom) as geom FROM us_states u,dominos s where u.name='California'\n",
    "     and st_contains(u.geom,s.geom)\n",
    "```\n",
    "\n",
    "Let's look at an interactive example:"
   ]
  },
  {
   "cell_type": "code",
   "execution_count": null,
   "metadata": {
    "hide_input": true,
    "slideshow": {
     "slide_type": "subslide"
    },
    "tags": [
     "Hide",
     "Init"
    ]
   },
   "outputs": [],
   "source": [
    "from ipyleaflet import Map, DrawControl,GeoData,LayerGroup,WidgetControl,Rectangle,basemap_to_tiles,basemaps,Polygon,GeoJSON\n",
    "from ipywidgets import Button, HBox, VBox,widgets,Layout,GridspecLayout,IntSlider,HTML\n",
    "from IPython.display import display\n",
    "import spatialite\n",
    "import pandas as pd\n",
    "import geopandas as gpd\n",
    "import json\n",
    "import time\n",
    "db = spatialite.connect('databases/spatialDB.sqlite')\n",
    "\n",
    "def stateChanged(slid):\n",
    "    layer_group.clear_layers()\n",
    "    stateGeomSql = f\"SELECT ST_AsBinary(geom) as geom FROM us_states where name='{states.value}';\"\n",
    "    dominosSql = f\"\"\"SELECT ST_AsBinary(s.geom) as geom FROM us_states u,dominos s where u.name='{states.value}'\n",
    "     and st_contains(u.geom,s.geom) and s.rowid in(SELECT ROWID \n",
    "    FROM SpatialIndex\n",
    "    WHERE f_table_name = 'dominos' \n",
    "        AND search_frame = u.geom)\"\"\"\n",
    "    gdf = gpd.GeoDataFrame.from_postgis(stateGeomSql, db,crs = 'EPSG:4269').to_crs('EPSG:4326')\n",
    "    dominosgdf = gpd.GeoDataFrame.from_postgis(dominosSql, db,crs = 'EPSG:4326')\n",
    "    center = [gdf.centroid.y.values[0],gdf.centroid.x.values[0]]\n",
    "    sMap.center = center\n",
    "    sMap.zoom = 6\n",
    "    geo_data = GeoJSON(data = json.loads(gdf.to_json()),style={'opacity': 1, 'dashArray': '9', 'fillOpacity': 0, 'weight': 1})\n",
    "    layer_group.add_layer(geo_data)\n",
    "    geo_data_dominos = GeoJSON(data = json.loads(dominosgdf.to_json()))\n",
    "    layer_group.add_layer(geo_data_dominos)\n",
    "    counts.value = str(len(dominosgdf))\n",
    "    \n",
    "sql = \"SELECT name FROM us_states order by name;\"\n",
    "statedf = pd.read_sql_query(sql,db)\n",
    "sMap= Map(center=(41.482222, -81.669722), zoom=15,prefer_canvas =True)\n",
    "layer_group = LayerGroup()\n",
    "sMap.add_layer(layer_group)\n",
    "states = widgets.Dropdown(\n",
    "    options=statedf.name.values,\n",
    "    value=statedf.name.values[0],\n",
    "    description='State:',\n",
    "    disabled=False,\n",
    ")\n",
    "counts=widgets.Text(\n",
    "    value='',\n",
    "    placeholder='',\n",
    "    description='Total:',\n",
    "    disabled=True,\n",
    ")\n",
    "states.observe(stateChanged, 'value')\n",
    "filterParams=HBox([sMap,VBox([states,counts])])\n",
    "stateChanged(None)\n",
    "filterParams"
   ]
  },
  {
   "cell_type": "markdown",
   "metadata": {
    "slideshow": {
     "slide_type": "slide"
    }
   },
   "source": [
    "Another example \n",
    "\n",
    "**Total dominos in each state**\n",
    "\n",
    "And this is the query\n",
    "\n",
    "```sql\n",
    "   SELECT u.name,count(*) as total_dominos from us_states u,dominos s\n",
    " where st_contains(u.geom,s.geom) group by u.name\n",
    "```"
   ]
  },
  {
   "cell_type": "code",
   "execution_count": null,
   "metadata": {
    "hide_input": true,
    "tags": [
     "Hide",
     "Init"
    ]
   },
   "outputs": [],
   "source": [
    "disp = widgets.Output()\n",
    "db = spatialite.connect('databases/spatialDB.sqlite')\n",
    "stateGeomSql = f\"\"\"SELECT u.name,count(*) as total_dominos from us_states u,dominos s\n",
    " where st_contains(u.geom,s.geom) and s.rowid in(SELECT ROWID \n",
    "    FROM SpatialIndex\n",
    "    WHERE f_table_name = 'dominos' \n",
    "        AND search_frame = u.geom) group by u.name\"\"\"\n",
    "data = pd.read_sql_query(stateGeomSql,con=db)\n",
    "with disp:\n",
    "    display(data)\n",
    "disp"
   ]
  },
  {
   "cell_type": "markdown",
   "metadata": {
    "slideshow": {
     "slide_type": "slide"
    }
   },
   "source": [
    "One more example\n",
    "\n",
    "**Total homicides in each neighborhood**\n",
    "\n",
    "Here are the tables"
   ]
  },
  {
   "cell_type": "code",
   "execution_count": null,
   "metadata": {
    "hide_input": true,
    "tags": [
     "Hide",
     "Init"
    ]
   },
   "outputs": [],
   "source": [
    "from ipywidgets import HBox, VBox,widgets,Layout,HTML\n",
    "from IPython.display import display\n",
    "db = spatialite.connect('databases/spatialDB.sqlite')\n",
    "table1 = pd.read_sql_query('select boroname,name,geom as geometry from nyc_neighborhoods limit 5',db)\n",
    "table2 = pd.read_sql_query('select id,weapon, light_dark, year, geom as geometry from nyc_homicides limit 5',db)\n",
    "table1_disp = widgets.Output()\n",
    "table2_disp = widgets.Output()\n",
    "table1_header = widgets.HTML(value = f\"<b><font color='red'><center>NYC_NEIGHBORHOODS</center></b>\")\n",
    "table2_header = widgets.HTML(value = f\"<b><font color='red'><center>NYC_HOMICIDES</center></b>\")\n",
    "with table1_disp:\n",
    "    display(table1)\n",
    "with table2_disp:\n",
    "    display(table2)\n",
    "out=HBox([VBox([table1_header,table1_disp],layout = Layout(margin='0 100px 0 0')),VBox([table2_header,table2_disp])])\n",
    "out"
   ]
  },
  {
   "cell_type": "markdown",
   "metadata": {
    "slideshow": {
     "slide_type": "slide"
    }
   },
   "source": [
    "And here is the query\n",
    "\n",
    "```sql\n",
    "   SELECT u.boroname,count(*) as total_homicides from nyc_neighborhoods u,nyc_homicides s\n",
    " where st_contains(u.geom,s.geom) group by u.boroname\n",
    "```"
   ]
  },
  {
   "cell_type": "code",
   "execution_count": null,
   "metadata": {
    "hide_input": true,
    "tags": [
     "Hide",
     "Init"
    ]
   },
   "outputs": [],
   "source": [
    "disp = widgets.Output()\n",
    "db = spatialite.connect('databases/spatialDB.sqlite')\n",
    "stateGeomSql = f\"\"\"SELECT u.boroname,count(*) as total_homicides from nyc_neighborhoods u,nyc_homicides s\n",
    " where st_contains(u.geom,s.geom) and s.rowid in(SELECT ROWID \n",
    "    FROM SpatialIndex\n",
    "    WHERE f_table_name = 'nyc_homicides' \n",
    "        AND search_frame = u.geom) group by u.boroname\"\"\"\n",
    "data = pd.read_sql_query(stateGeomSql,con=db)\n",
    "with disp:\n",
    "    display(data)\n",
    "disp"
   ]
  },
  {
   "cell_type": "markdown",
   "metadata": {
    "slideshow": {
     "slide_type": "slide"
    }
   },
   "source": [
    "One last example\n",
    "\n",
    "**Total earthquakes in each state**\n",
    "\n",
    "Let's look at the tables"
   ]
  },
  {
   "cell_type": "code",
   "execution_count": null,
   "metadata": {
    "hide_input": true,
    "tags": [
     "Hide",
     "Init"
    ]
   },
   "outputs": [],
   "source": [
    "from ipywidgets import HBox, VBox,widgets,Layout,HTML\n",
    "from IPython.display import display\n",
    "db = spatialite.connect('databases/spatialDB.sqlite')\n",
    "table1 = pd.read_sql_query('select statefp,name,geom as geometry from us_states limit 5',db)\n",
    "table2 = pd.read_sql_query('select * from earthquakes limit 5',db)\n",
    "table1_disp = widgets.Output()\n",
    "table2_disp = widgets.Output()\n",
    "table1_header = widgets.HTML(value = f\"<b><font color='red'><center>US_STATES</center></b>\")\n",
    "table2_header = widgets.HTML(value = f\"<b><font color='red'><center>EARTHQUAKES</center></b>\")\n",
    "with table1_disp:\n",
    "    display(table1)\n",
    "with table2_disp:\n",
    "    display(table2)\n",
    "out=HBox([VBox([table1_header,table1_disp],layout = Layout(margin='0 100px 0 0')),VBox([table2_header,table2_disp])])\n",
    "out"
   ]
  },
  {
   "cell_type": "markdown",
   "metadata": {
    "slideshow": {
     "slide_type": "slide"
    }
   },
   "source": [
    "And here is the query\n",
    "\n",
    "```sql\n",
    "SELECT u.name,count(*) as total_earthquakes from us_states u,earthquakes s\n",
    " where st_contains(u.geom,s.geometry) group by u.name\n",
    "```"
   ]
  },
  {
   "cell_type": "code",
   "execution_count": null,
   "metadata": {
    "hide_input": true,
    "tags": [
     "Hide",
     "Init"
    ]
   },
   "outputs": [],
   "source": [
    "disp = widgets.Output()\n",
    "db = spatialite.connect('databases/spatialDB.sqlite')\n",
    "stateGeomSql = f\"\"\"SELECT u.name,count(*) as total_earthquakes from us_states u,earthquakes s\n",
    " where st_contains(u.geom,s.geometry) and s.rowid in(SELECT ROWID \n",
    "    FROM SpatialIndex\n",
    "    WHERE f_table_name = 'earthquakes' \n",
    "        AND search_frame = u.geom) group by u.name\"\"\"\n",
    "data = pd.read_sql_query(stateGeomSql,con=db)\n",
    "with disp:\n",
    "    display(data)\n",
    "disp"
   ]
  },
  {
   "cell_type": "markdown",
   "metadata": {
    "slideshow": {
     "slide_type": "slide"
    }
   },
   "source": [
    "Click the link below to move on\n",
    "\n",
    "\n",
    "<br>\n",
    "<font size=\"+1\"><a style=\"background-color:blue;color:white;padding:12px;margin:10px;font-weight:bold;\" href=\"gd-5.ipynb\">Click here to go to the next notebook.</a></font>"
   ]
  }
 ],
 "metadata": {
  "celltoolbar": "Edit Metadata",
  "kernelspec": {
   "display_name": "Python 3",
   "language": "python",
   "name": "python3"
  },
  "language_info": {
   "codemirror_mode": {
    "name": "ipython",
    "version": 3
   },
   "file_extension": ".py",
   "mimetype": "text/x-python",
   "name": "python",
   "nbconvert_exporter": "python",
   "pygments_lexer": "ipython3",
   "version": "3.8.3"
  },
  "rise": {
   "autolaunch": true,
   "overlay": "<div class='hciheader'></div><div class='hcifooter'></div>",
   "scroll": true
  }
 },
 "nbformat": 4,
 "nbformat_minor": 5
}
