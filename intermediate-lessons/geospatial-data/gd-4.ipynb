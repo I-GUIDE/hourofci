{
 "cells": [
  {
   "cell_type": "markdown",
   "id": "5ec7e2c8",
   "metadata": {
    "slideshow": {
     "slide_type": "slide"
    }
   },
   "source": [
    "# Intermediate Lesson on Geospatial Data \n",
    "\n",
    "## Spatial Databases\n",
    "\n",
    "<strong>Lesson Developers:</strong> Jayakrishnan Ajayakumar, Shana Crosson, Mohsen Ahmadkhani\n",
    "\n",
    "#### Part 4 of 5"
   ]
  },
  {
   "cell_type": "code",
   "execution_count": null,
   "id": "720f5a36",
   "metadata": {
    "hide_input": false,
    "init_cell": true,
    "slideshow": {
     "slide_type": "skip"
    },
    "tags": [
     "Hide"
    ]
   },
   "outputs": [],
   "source": [
    "# This code cell starts the necessary setup for Hour of CI lesson notebooks.\n",
    "# First, it enables users to hide and unhide code by producing a 'Toggle raw code' button below.\n",
    "# Second, it imports the hourofci package, which is necessary for lessons and interactive Jupyter Widgets.\n",
    "# Third, it helps hide/control other aspects of Jupyter Notebooks to improve the user experience\n",
    "# This is an initialization cell\n",
    "# It is not displayed because the Slide Type is 'Skip'\n",
    "\n",
    "from IPython.display import HTML, IFrame, Javascript, display, clear_output\n",
    "from ipywidgets import interactive, Textarea, HBox, Button, Layout\n",
    "import ipywidgets as widgets\n",
    "import sqlite3\n",
    "import spatialite\n",
    "import pandas as pd\n",
    "import geopandas as gpd\n",
    "\n",
    "import getpass # This library allows us to get the username (User agent string)\n",
    "\n",
    "# import package for hourofci project\n",
    "import sys\n",
    "sys.path.append('../../supplementary') # relative path (may change depending on the location of the lesson notebook)\n",
    "# sys.path.append('supplementary')\n",
    "import hourofci\n",
    "try:\n",
    "    import os\n",
    "    os.chdir('supplementary')\n",
    "except:\n",
    "    pass\n",
    "\n",
    "# load javascript to initialize/hide cells, get user agent string, and hide output indicator\n",
    "# hide code by introducing a toggle button \"Toggle raw code\"\n",
    "HTML(''' \n",
    "    <script type=\"text/javascript\" src=\\\"../../supplementary/js/custom.js\\\"></script>\n",
    "    \n",
    "    <style>\n",
    "        .output_prompt{opacity:0;}\n",
    "    </style>\n",
    "    \n",
    "    <input id=\"toggle_code\" type=\"button\" value=\"Toggle raw code\">\n",
    "''')"
   ]
  },
  {
   "cell_type": "markdown",
   "id": "7d485705",
   "metadata": {
    "slideshow": {
     "slide_type": "slide"
    }
   },
   "source": [
    " ## Making the database spatially-enabled\n",
    "\n",
    "To perform spatial queries we should **spatially enable our database**. This is exactly what a spatial database is built for. \n",
    "\n",
    "> A spatial database is a database that has been extended to include spatial data that represents objects defined in a geographic space, along with tools for querying and analyzing such data.\n",
    "\n",
    "Remember: \n",
    "<ul>\n",
    "    <li>A spatial database is a database, so we can still leverage all the functionalities of a traditional non-spatial database. \n",
    "    <li>A spatial database includes a new data type called <b>Geometry</b> that enables spatial operations on and between objects (i.e., points, lines, and/or polygons). \n",
    "</ul>    \n",
    "\n",
    "Let's look at three example relations (tables) that has spatial data in the form of geometry. "
   ]
  },
  {
   "cell_type": "markdown",
   "id": "ac8456ab",
   "metadata": {
    "slideshow": {
     "scrolled": true,
     "slide_type": "slide"
    }
   },
   "source": [
    "<table style=\"background: #fff; font-size:25px; text-align:left\">\n",
    "    <tr>\n",
    "        <td style=\"background: #fff; font-size:25px; text-align:left\">As shown below, the three tables have a special column with <b>geometry</b> data type. \n",
    "    <br/>They maintain spatial information that is non-readable for human as they look like series of numbers, symbols, and letters like the column on the right. <br/>\n",
    "        <i style=\"font-size:20px\">*Please note that the graphics in geometry column of the three tables above are for illustration. </i></td>\n",
    "        <td style=\"background: #fff; font-size:25px; text-align:left\">  &nbsp;&nbsp;&nbsp;&nbsp;&nbsp;&nbsp;&nbsp;&nbsp;&nbsp; </td>\n",
    "<td><img src = \"supplementary/images/geom_col.jpg\" width = \"500px\"></td>\n",
    "    </tr>\n",
    "</table>\n",
    "<center><img src = \"supplementary/images/geometry_types.png\" width = \"600px\" height = \"100px\"></center>\n"
   ]
  },
  {
   "cell_type": "markdown",
   "id": "b5cf9a44",
   "metadata": {
    "slideshow": {
     "slide_type": "slide"
    }
   },
   "source": [
    "### The three basic geometry types are \n",
    "\n",
    "1. **Points** (schools, shooting, earthquake,your location)\n",
    "2. **Lines** (rivers, streets, roads, railway lines)\n",
    "3. **Polygon** (countries, states, census tracts, zip codes)\n",
    "\n",
    "\n",
    "Apart from supporting geometry types, spatial databases also support operations on geometries (e.g., intersection of two polygons).\n",
    "\n",
    "Queries that involve geometry types are called spatial queries which we are going to be covered in this lesson. "
   ]
  },
  {
   "cell_type": "markdown",
   "id": "257ebd3d",
   "metadata": {
    "slideshow": {
     "slide_type": "slide"
    }
   },
   "source": [
    "## Spatial Queries"
   ]
  },
  {
   "cell_type": "markdown",
   "id": "ab6e2dde",
   "metadata": {},
   "source": [
    "> **Spatial queries are queries in a spatial database** that can be answered on the **basis of geometric information only,** i.e., the spatial position and extent of the objects involved.\n",
    "\n",
    "Spatial functions start with <b> `ST_` </b> prefix and perform specific spatial operations. \n",
    "\n",
    "There are many ST_ functions in spatial queries that we will introduce a few of them here and in the next segment. \n",
    "\n",
    "But before we start, let's take a look at our `us_states` table that will be used in this lesson. "
   ]
  },
  {
   "cell_type": "markdown",
   "id": "d4456235",
   "metadata": {
    "slideshow": {
     "slide_type": "slide"
    }
   },
   "source": [
    "### Fetching and Visualizing our data \n",
    "In our spatial database there is a table holding information of the contiguous US states named `us_states`. \n",
    "\n",
    "In the module below: <br/>\n",
    "<ul>\n",
    "    <li>\n",
    "        To fetch all rows from it as a <b>Dataframe</b> click the <i>Execute!</i> button.\n",
    "    </li>\n",
    "    <li>\n",
    "        To <b>plot</b> it click the <i>Plot!</i> button. \n",
    "    </li>\n",
    "</ul>\n",
    "\n",
    "\n",
    "**Please note that in this query we use `ST_AsBinary(geom)` instead of `geom`. This is a function to translate the geometry column to something readable for python. You won't use it so often, don't get intimidated!!!*\n"
   ]
  },
  {
   "cell_type": "code",
   "execution_count": null,
   "id": "63c6de9e",
   "metadata": {
    "hide_input": false,
    "tags": [
     "Hide",
     "Init"
    ]
   },
   "outputs": [],
   "source": [
    "q1 = \"\"\"SELECT pk_uid, statefp, geoid, name, aland , awater, ST_AsBinary(geom) as geom \n",
    "FROM us_states\n",
    "\"\"\"\n",
    "inp1 = Textarea(description='<b>Query:</b>', value= q1, layout=Layout(width='40%', height='120px'))\n",
    "button1 = Button(description=\"Execute!\")\n",
    "plot1 = Button(description=\"Plot!\")\n",
    "Box1 = HBox([inp1, button1, plot1])\n",
    "\n",
    "db = spatialite.connect('databases/spatialDB.sqlite')\n",
    "\n",
    "def execute_query1(b): \n",
    "    clear_output()\n",
    "    button1.on_click(execute_query1)\n",
    "    plot1.on_click(plot_query1)\n",
    "    display(Box1)\n",
    "    print('Please wait...')\n",
    "    gdff1 = gpd.GeoDataFrame.from_postgis(inp1.value, db,crs = 'EPSG:3857')\n",
    "    clear_output()\n",
    "    button1.on_click(execute_query1)\n",
    "    plot1.on_click(plot_query1)\n",
    "    display(Box1)\n",
    "    return display(gdff1)\n",
    "\n",
    "def plot_query1(b): \n",
    "    clear_output()\n",
    "    button1.on_click(execute_query1)\n",
    "    plot1.on_click(plot_query1)\n",
    "    display(Box1)\n",
    "    print('Please wait...')\n",
    "    gdff1 = gpd.GeoDataFrame.from_postgis(inp1.value, db,crs = 'EPSG:3857')\n",
    "    clear_output()\n",
    "    button1.on_click(execute_query1)\n",
    "    plot1.on_click(plot_query1)\n",
    "    display(Box1)\n",
    "    return display(gdff1.plot())\n",
    "\n",
    "button1.on_click(execute_query1)\n",
    "plot1.on_click(plot_query1)\n",
    "display(Box1)\n"
   ]
  },
  {
   "cell_type": "markdown",
   "id": "e0bb268c",
   "metadata": {
    "slideshow": {
     "slide_type": "slide"
    }
   },
   "source": [
    "### Calculate Area\n",
    "The function **st_area(geom)** calculates the area for each polygon object (e.g., a US state) in the table.\n",
    "\n",
    "The syntax is as follows:\n",
    "\n",
    "```SQL\n",
    "select st_area(geom)\n",
    "from tableName\n",
    "where condition\n",
    "```\n",
    "\n",
    "In the next slide, we use this function in action!\n"
   ]
  },
  {
   "cell_type": "markdown",
   "id": "564ad142",
   "metadata": {
    "slideshow": {
     "slide_type": "slide"
    }
   },
   "source": [
    "#### Query: What are the area of the five largest states in the contiguos US in squared Kilometers?\n",
    "Here is the query:\n",
    "\n",
    "```sql\n",
    "SELECT name, ST_AREA(ST_TRANSFORM(geom,3857))/1000000 AS Area_Squared_KMs \n",
    "FROM us_states \n",
    "ORDER BY Area_Squared_KMs DESC \n",
    "LIMIT 5\n",
    "```\n",
    "\n",
    "#### Let's dismantle it!\n",
    "Note that again to calculate the area in **squared meters** we need to transform the geometry (`geom`) to Web Mercator projection system using the `st_transform(geom, 3857)` function.\n",
    "\n",
    "In this example, we \n",
    "<ul>\n",
    "    <li>\n",
    "    First transfer the geometry (geom) to Web Mercator projection system using the <b>st_transform(geom, 3857)</b> function to set <i><b>meters</b></i> as the measurement unit.\n",
    "    </li>\n",
    "    <li>\n",
    "    Calculate the area using <b>st_area(geom)</b> method. This will return area values in squared meters which will be too large to read! So, we divide it by 1000000 to get the values in squared Kilometers. \n",
    "    </li>\n",
    "    <li>\n",
    "    Use <b>ORDER BY</b> clause to sort the results by the area in descending order (from largest to smallest).\n",
    "    </li>\n",
    "    <li>\n",
    "    Filter the top five rows using <b>LIMIT 5</b> clause to get the five largest states in the contiguous US. \n",
    "    </li>\n",
    "</ul>\n",
    "\n",
    "EASY PEASY!!!"
   ]
  },
  {
   "cell_type": "code",
   "execution_count": null,
   "id": "efc2faed",
   "metadata": {
    "hide_input": false,
    "slideshow": {
     "scrolled": true
    },
    "tags": [
     "Hide",
     "Init"
    ]
   },
   "outputs": [],
   "source": [
    "\n",
    "inp8 = Textarea(description='<b>Query:</b>', value=\"SELECT name, ST_AREA(ST_TRANSFORM(geom,3857))/1000000 AS Area_Squared_KMs \\nFROM us_states \\nORDER BY Area_Squared_KMs DESC \\nLIMIT 5\" , layout=Layout(width='40%', height='120px'))\n",
    "button8 = Button(description=\"Execute!\")          \n",
    "Box8 = HBox([inp8, button8])\n",
    "\n",
    "db = spatialite.connect('databases/spatialDB.sqlite')\n",
    "\n",
    "\n",
    "def execute_query8(b):\n",
    "    clear_output()\n",
    "    button8.on_click(execute_query8)\n",
    "    display(Box8)\n",
    "    print('Please wait...')\n",
    "    table18 = pd.read_sql_query(inp8.value,db)\n",
    "    clear_output()\n",
    "    button8.on_click(execute_query8)\n",
    "    display(Box8)\n",
    "    return display(table18)\n",
    "\n",
    "button8.on_click(execute_query8)\n",
    "display(Box8)\n",
    "\n"
   ]
  },
  {
   "cell_type": "markdown",
   "id": "a0c47946",
   "metadata": {
    "slideshow": {
     "slide_type": "slide"
    }
   },
   "source": [
    "## Generating Centroids\n",
    "Calculating the centroid of a set of polygons is indeed a **spatial** operation. \n",
    "\n",
    "Performing this operation is as easy as using `st_centroid(geom)` function! This function gets the geometry column as the only parameter and returns the centroids (points). \n",
    "\n",
    "In the example below you can generate the centroids of the US states yourself! "
   ]
  },
  {
   "cell_type": "code",
   "execution_count": null,
   "id": "376aa491",
   "metadata": {
    "hide_input": false,
    "tags": [
     "Hide",
     "Init"
    ]
   },
   "outputs": [],
   "source": [
    "\n",
    "q2 = \"select geoid, name, ST_AsBinary(ST_CENTROID(geom)) as geom from us_states\"\n",
    "\n",
    "inp2 = Textarea(description='<b>Query:</b>', value= q2, layout=Layout(width='40%', height='120px'))\n",
    "button2 = Button(description=\"Execute!\")\n",
    "plot2 = Button(description=\"Plot!\")\n",
    "Box2 = HBox([inp2, button2, plot2])\n",
    "\n",
    "db = spatialite.connect('databases/spatialDB.sqlite')\n",
    "\n",
    "def execute_query2(b): \n",
    "    clear_output()\n",
    "    button2.on_click(execute_query2)\n",
    "    plot2.on_click(plot_query2)\n",
    "    display(Box2)\n",
    "    print('Please wait...')\n",
    "    gdff2 = gpd.GeoDataFrame.from_postgis(inp2.value, db,crs = 'EPSG:3857')\n",
    "    clear_output()\n",
    "    button2.on_click(execute_query2)\n",
    "    plot2.on_click(plot_query2)\n",
    "    display(Box2)\n",
    "    return display(gdff2)\n",
    "\n",
    "def plot_query2(b): \n",
    "    clear_output()\n",
    "    button2.on_click(execute_query2)\n",
    "    plot2.on_click(plot_query2)\n",
    "    display(Box2)\n",
    "    print('Please wait...')\n",
    "    gdff2 = gpd.GeoDataFrame.from_postgis(inp2.value, db,crs = 'EPSG:3857')\n",
    "    clear_output()\n",
    "    button2.on_click(execute_query2)\n",
    "    plot2.on_click(plot_query2)\n",
    "    display(Box2)\n",
    "    return display(gdff2.plot())\n",
    "\n",
    "button2.on_click(execute_query2)\n",
    "plot2.on_click(plot_query2)\n",
    "display(Box2)\n",
    "\n",
    "\n",
    "\n",
    "\n"
   ]
  },
  {
   "cell_type": "markdown",
   "id": "a0e54bdd",
   "metadata": {},
   "source": [
    "### Within a Distance Queries\n",
    "\n",
    "With in distance queries are used to find out geometrical objects that are with in a specific distance of a particular geometrical object.\n",
    "\n",
    "\n",
    "<img src = \"supplementary/images/withindistance.png\" width = \"500px\">\n",
    "\n",
    "<img src = \"supplementary/images/distance_within_example.png\" width = \"500px\">\n",
    "\n",
    "#### To make queries of such type, we need to learn buffer function first! "
   ]
  },
  {
   "cell_type": "markdown",
   "id": "590f7f8f",
   "metadata": {
    "slideshow": {
     "slide_type": "slide"
    }
   },
   "source": [
    "## Generating Buffers\n",
    "\n",
    "<img src = \"supplementary/images/buffer.png\" width = \"600px\"> \n",
    "\n",
    "Creating buffers of any radius is another common **spatial** operation that has a built-in function called `st_buffer(geom, radius)`. \n",
    "This function gets the geometry column along with the radius of the buffer. The unit of the radius depends on the coordinate system used. \n",
    "\n",
    "The following query will make a buffer of 30 KMs around the state of Minnesota:\n",
    "\n",
    "```sql\n",
    "select st_buffer(st_transform(geom, 3857), 30000) as geom \n",
    "from us_states \n",
    "where name='Minnesota'\n",
    "```\n",
    "Notice that in this query we use `st_transform(geom, 3857)` function to transform the geometry to be represented in the Web Mercator spatial reference system that uses **meters** as the length unit.\n",
    "\n",
    "The number 3857 is the spatial reference system identifier of <a href=\"https://en.wikipedia.org/wiki/Web_Mercator_projection\">Web Mercator projection system</a>. \n",
    "\n",
    "Run this query in the next slide and change the buffer radius to see how it looks! "
   ]
  },
  {
   "cell_type": "code",
   "execution_count": null,
   "id": "8da88ad9",
   "metadata": {
    "hide_input": false,
    "slideshow": {
     "slide_type": "slide"
    },
    "tags": [
     "Hide",
     "Init"
    ]
   },
   "outputs": [],
   "source": [
    "\n",
    "q3 = \"select ST_AsBinary(st_buffer(ST_Transform(geom, 3857), 30000)) as geom from us_states where name='Minnesota'\"\n",
    "\n",
    "\n",
    "inp3 = Textarea(description='<b>Query:</b>', value= q3, layout=Layout(width='40%', height='120px'))\n",
    "button3 = Button(description=\"Execute!\")\n",
    "plot3 = Button(description=\"Plot!\")\n",
    "Box3 = HBox([inp3, button3, plot3])\n",
    "\n",
    "db = spatialite.connect('databases/spatialDB.sqlite')\n",
    "\n",
    "def execute_query3(b): \n",
    "    clear_output()\n",
    "    button3.on_click(execute_query3)\n",
    "    plot3.on_click(plot_query3)\n",
    "    display(Box3)\n",
    "    print('Please wait...')\n",
    "    gdff3 = gpd.GeoDataFrame.from_postgis(inp3.value, db,crs = 'EPSG:3857')\n",
    "    clear_output()\n",
    "    button3.on_click(execute_query3)\n",
    "    plot3.on_click(plot_query3)\n",
    "    display(Box3)\n",
    "    return display(gdff3)\n",
    "\n",
    "def plot_query3(b): \n",
    "    clear_output()\n",
    "    button3.on_click(execute_query3)\n",
    "    plot3.on_click(plot_query3)\n",
    "    display(Box3)\n",
    "    print('Please wait...')\n",
    "    gdff3 = gpd.GeoDataFrame.from_postgis(inp3.value, db,crs = 'EPSG:3857')\n",
    "    clear_output()\n",
    "    button3.on_click(execute_query3)\n",
    "    plot3.on_click(plot_query3)\n",
    "    display(Box3)\n",
    "    return display(gdff3.plot())\n",
    "\n",
    "button3.on_click(execute_query3)\n",
    "plot3.on_click(plot_query3)\n",
    "display(Box3)\n",
    "\n"
   ]
  },
  {
   "cell_type": "markdown",
   "id": "8f775fc7",
   "metadata": {
    "slideshow": {
     "slide_type": "slide"
    }
   },
   "source": [
    "## Challenge!\n",
    "#### Can you make a buffer of 2 KMs around the centroid of Minnesota?\n",
    "\n",
    "You can check your solution by clicking on *Reveal the SQL code!* button!"
   ]
  },
  {
   "cell_type": "code",
   "execution_count": null,
   "id": "c505ddd6",
   "metadata": {
    "hide_input": false,
    "tags": [
     "Hide",
     "Init"
    ]
   },
   "outputs": [],
   "source": [
    "\n",
    "q4 = \"SELECT \\nFROM \\nWHERE\"\n",
    "\n",
    "\n",
    "inp4 = Textarea(description='<b>Query:</b>', value= q4, layout=Layout(width='40%', height='120px'))\n",
    "button4 = Button(description=\"Execute!\")\n",
    "plot4 = Button(description=\"Plot!\")\n",
    "Box4 = HBox([inp4, button4, plot4])\n",
    "\n",
    "db = spatialite.connect('databases/spatialDB.sqlite')\n",
    "\n",
    "def execute_query4(b): \n",
    "    clear_output()\n",
    "    button4.on_click(execute_query4)\n",
    "    plot4.on_click(plot_query4)\n",
    "    display(Box4)\n",
    "    print('Please wait...')\n",
    "    if inp4.value != q4:\n",
    "        gdff4 = gpd.GeoDataFrame.from_postgis(inp4.value, db,crs = 'EPSG:3857')\n",
    "        clear_output()\n",
    "        button4.on_click(execute_query4)\n",
    "        plot4.on_click(plot_query4)\n",
    "        display(Box4)\n",
    "        return display(gdff4)\n",
    "    else:\n",
    "        clear_output()\n",
    "        button4.on_click(execute_query4)\n",
    "        plot4.on_click(plot_query4)\n",
    "        display(Box4)\n",
    "        return print('Wrong query! Please try again!')\n",
    "\n",
    "def plot_query4(b): \n",
    "    clear_output()\n",
    "    button4.on_click(execute_query4)\n",
    "    plot4.on_click(plot_query4)\n",
    "    display(Box4)\n",
    "    print('Please wait...')\n",
    "    if inp4.value != q4:\n",
    "        gdff4 = gpd.GeoDataFrame.from_postgis(inp4.value, db,crs = 'EPSG:3857')\n",
    "        clear_output()\n",
    "        button4.on_click(execute_query4)\n",
    "        plot4.on_click(plot_query4)\n",
    "        display(Box4)\n",
    "        return display(gdff4.plot())\n",
    "    else:\n",
    "        clear_output()\n",
    "        button4.on_click(execute_query4)\n",
    "        plot4.on_click(plot_query4)\n",
    "        display(Box4)\n",
    "        return print('Wrong query! Please try again!')\n",
    "\n",
    "button4.on_click(execute_query4)\n",
    "plot4.on_click(plot_query4)\n",
    "display(Box4)\n"
   ]
  },
  {
   "cell_type": "code",
   "execution_count": null,
   "id": "b08adfd8",
   "metadata": {
    "hide_input": false,
    "tags": [
     "Hide",
     "Init"
    ]
   },
   "outputs": [],
   "source": [
    "button5 = Button(description=\"Reveal the SQL code!\")\n",
    "Box5 = HBox([button5])\n",
    "query5 = \"SELECT ST_AsBinary(st_buffer(st_centroid(ST_Transform(geom, 3857)), 2000)) as geom \\nFROM us_states \\nWHERE name='Minnesota' or name='California'\"\n",
    "\n",
    "def on_click5(b):\n",
    "    clear_output()\n",
    "    display(Box5)\n",
    "    return print(query5)\n",
    "\n",
    "button5.on_click(on_click5)\n",
    "display(Box5)"
   ]
  },
  {
   "cell_type": "markdown",
   "id": "92765a20",
   "metadata": {
    "slideshow": {
     "slide_type": "slide"
    }
   },
   "source": [
    "Click the link below to move on\n",
    "\n",
    "\n",
    "<br>\n",
    "<font size=\"+1\"><a style=\"background-color:blue;color:white;padding:12px;margin:10px;font-weight:bold;\" href=\"gd-5.ipynb\">Click here to go to the next notebook.</a></font>"
   ]
  }
 ],
 "metadata": {
  "celltoolbar": "Edit Metadata",
  "kernelspec": {
   "display_name": "Python 3",
   "language": "python",
   "name": "python3"
  },
  "language_info": {
   "codemirror_mode": {
    "name": "ipython",
    "version": 3
   },
   "file_extension": ".py",
   "mimetype": "text/x-python",
   "name": "python",
   "nbconvert_exporter": "python",
   "pygments_lexer": "ipython3",
   "version": "3.8.1"
  },
  "rise": {
   "autolaunch": true,
   "overlay": "<div class='hciheader'></div><div class='hcifooter'></div>",
   "scroll": true
  }
 },
 "nbformat": 4,
 "nbformat_minor": 5
}
