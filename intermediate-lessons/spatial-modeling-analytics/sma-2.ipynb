{
 "cells": [
  {
   "cell_type": "markdown",
   "metadata": {
    "hide_input": true,
    "slideshow": {
     "slide_type": "slide"
    }
   },
   "source": [
    "# Intermediate Lesson on Spatial Modeling and Analytics\n",
    "### Segment 1 of 4\n",
    "## Introduction to R"
   ]
  },
  {
   "cell_type": "code",
   "execution_count": 3,
   "metadata": {
    "hide_input": true,
    "init_cell": true,
    "slideshow": {
     "slide_type": "skip"
    },
    "tags": [
     "Hide"
    ]
   },
   "outputs": [],
   "source": [
    "# This code cell starts the necessary setup for Hour of CI lesson notebooks.\n",
    "# First, it enables users to hide and unhide code by producing a 'Toggle raw code' button below.\n",
    "# Second, it imports the hourofci package, which is necessary for lessons and interactive Jupyter Widgets.\n",
    "# Third, it helps hide/control other aspects of Jupyter Notebooks to improve the user experience\n",
    "# This is an initialization cell\n",
    "# It is not displayed because the Slide Type is 'Skip'\n",
    "\n",
    "from IPython.display import HTML, IFrame, Javascript, display\n",
    "from ipywidgets import interactive\n",
    "import ipywidgets as widgets\n",
    "from ipywidgets import Layout\n",
    "\n",
    "import getpass # This library allows us to get the username (User agent string)\n",
    "\n",
    "# import package for hourofci project\n",
    "import sys\n",
    "sys.path.append('../../supplementary') # relative path (may change depending on the location of the lesson notebook)\n",
    "import hourofci\n",
    "\n",
    "import warnings\n",
    "warnings.filterwarnings('ignore') # Hide warnings\n",
    "\n",
    "# load javascript to initialize/hide cells, get user agent string, and hide output indicator\n",
    "# hide code by introducing a toggle button \"Toggle raw code\"\n",
    "# HTML(''' \n",
    "#     <script type=\"text/javascript\" src=\\\"../../supplementary/js/custom.js\\\"></script>\n",
    "    \n",
    "#     <input id=\"toggle_code\" type=\"button\" value=\"Toggle raw code\">\n",
    "# ''')\n",
    "\n",
    "HTML(''' \n",
    "    <script type=\"text/javascript\" src=\\\"../../supplementary/js/custom.js\\\"></script>\n",
    "    \n",
    "    <style>\n",
    "        .output_prompt{opacity:0;}\n",
    "    </style>\n",
    "    \n",
    "    <input id=\"toggle_code\" type=\"button\" value=\"Toggle raw code\">\n",
    "''')\n"
   ]
  },
  {
   "cell_type": "markdown",
   "metadata": {
    "slideshow": {
     "slide_type": "slide"
    }
   },
   "source": [
    "## <center>And now for something completely different!</center>\n",
    "\n",
    "While all the other lessons in this Hour of CI collection have used Python for the coding language, in this lesson, we're introducting the very popular coding language called R. \n",
    "\n",
    "Read on to find out why..."
   ]
  },
  {
   "cell_type": "markdown",
   "metadata": {
    "slideshow": {
     "slide_type": "slide"
    }
   },
   "source": [
    "## Comparing R and Python\n",
    "\n",
    "<table>\n",
    "    <tr style=\"background: #fff; text-align: left; vertical-align:\">\n",
    "        <td style=\"background: #fff; text-align: left; font-size: 23px;\">\n",
    "            R provides vast amounts of discipline-specific data science packages such as some for\n",
    "<li>\n",
    "Biostatistics\n",
    "    </li>\n",
    "    <li>\n",
    "Geostatistics\n",
    "    </li>\n",
    "    <li>\n",
    "Econometrics\n",
    "    </li>\n",
    "          \n",
    "Python has lots of general purpose data-science libraries, including\n",
    "<li>\n",
    "Deep Learning (Tensorflow, …)\n",
    "    </li>\n",
    "    <li>\n",
    "Machine Learning (scikit-learn, …)\n",
    "    </li>\n",
    "<br>\n",
    "Importantly, Python is widely used for general analysis and to build scalable software.        \n",
    "</td>\n",
    "     <td style=\"width: 50%; background: #fff; text-align: left; vertical-align: top;\"> <img src='supplementary/r_python.png' width=\"500\" height=\"700\" alt='map'>\n",
    "        </td>\n",
    "    </tr>\n",
    "</table>\n",
    "\n",
    "\n",
    "\n",
    "\n",
    "\n",
    "\n",
    "\n",
    "\n"
   ]
  },
  {
   "cell_type": "markdown",
   "metadata": {
    "slideshow": {
     "slide_type": "slide"
    }
   },
   "source": [
    "## Strengths of the R Language\n",
    "\n",
    "Breadth of available packages\n",
    "- Almost 20,000 packages as of April 2023\n",
    "\n",
    "Discipline-specific data science functionality\n",
    "\n",
    "Gentle learning curve\n",
    "\n",
    "Analysis ecosystem built for \n",
    "- Statistical analysis\n",
    "- Open-science"
   ]
  },
  {
   "cell_type": "markdown",
   "metadata": {
    "slideshow": {
     "slide_type": "slide"
    }
   },
   "source": [
    "## Weaknesses of R Language\n",
    "\n",
    "Speed\n",
    "- R is considerably slower than Python      \n",
    "- Loops are notoriously slow\n",
    "  \n",
    "Memory\n",
    "  \n",
    "- R is a single threaded programming language      \n",
    "- It utilizes a single CPU at a time           \n",
    "- Packages for multithreading exists, but they are not part of base R             \n",
    "- Memory bottlenecks occur very frequently with medium size (1 to 2 GB) data\n",
    "     \n",
    "Inefficient R code is not as forgiving as Python\n",
    "             \n",
    "Avoid loops as much as possible!"
   ]
  },
  {
   "cell_type": "markdown",
   "metadata": {
    "slideshow": {
     "slide_type": "slide"
    }
   },
   "source": [
    "Despite these shortcomings, the R language is extremely popular and powerful for discipline-specific data science, including spatial analysis and modeling."
   ]
  },
  {
   "cell_type": "markdown",
   "metadata": {
    "slideshow": {
     "slide_type": "fragment"
    }
   },
   "source": [
    "## <center> If you're going to work with R, you need to know about <b>CRAN"
   ]
  },
  {
   "cell_type": "markdown",
   "metadata": {
    "slideshow": {
     "slide_type": "slide"
    }
   },
   "source": [
    "## CRAN [(The Comprehensive R Archive Network)](https://cran.r-project.org/)\n",
    "\n",
    "CRAN is a network of servers that serve all the R executables, source code and documentation\n",
    "      \n",
    "It is also an administrative organization that asserts policy and quality control over R packages. It is responsible for\n",
    "- Ensuring new packages are open-source \n",
    "- Upholding documentation quality\n",
    "- Making sure every R package in CRAN works!\n",
    "     \n",
    "CRAN is your one-stop-shop for downloading R."
   ]
  },
  {
   "cell_type": "markdown",
   "metadata": {
    "slideshow": {
     "slide_type": "slide"
    }
   },
   "source": [
    "## The R Ecosystem\n",
    "\n",
    "\n",
    "<center><img src='supplementary/r_eco.png' width=\"500\" height=\"700\" alt='map'></center>\n"
   ]
  },
  {
   "cell_type": "markdown",
   "metadata": {
    "slideshow": {
     "slide_type": "slide"
    }
   },
   "source": [
    "## The R Ecosystem: CRAN\n",
    "\n",
    "CRAN hosts the vast majority of R packages and their documentation\n",
    "\n",
    "All CRAN packages can be installed simply by:\n",
    "- <code>Install.packages(“package_name”)</code>\n",
    "\n",
    "Serves an exhaustive <a href= https://cran.r-project.org/web/packages/available_packages_by_name.html>list of all supported packages</a>"
   ]
  },
  {
   "cell_type": "markdown",
   "metadata": {
    "slideshow": {
     "slide_type": "slide"
    }
   },
   "source": [
    "## The R Ecosystem: Bioconductor\n",
    "\n",
    "Serves packages related to bioinformatics\n",
    "- Extensive package list for fields such as genomics\n",
    "- More specific in its scope compared to CRAN\n",
    "\n",
    "As of April 2023, serves almost 2200 packages\n",
    "\n",
    "Requires an R package called BiocManager to install packages\n",
    "- <code>BiocManager::install(“package_name”)</code>   "
   ]
  },
  {
   "cell_type": "markdown",
   "metadata": {
    "slideshow": {
     "slide_type": "slide"
    }
   },
   "source": [
    "## Important caveats about Bioconductor\n",
    "\n",
    "- Packages on Bioconductor may not be as carefully managed, updated, revised\n",
    "\n",
    "- It is not peer-reviewed and may not have documentation\n",
    "\n",
    "Nevertheless, it is used frequently for personal or development projects\n",
    "\n",
    "An R package, devtools, can be used to install non-CRAN R packages on GitHub directly\n",
    "- <code>devtools::install_github(“owner_name/repo_name\")</code>"
   ]
  },
  {
   "cell_type": "markdown",
   "metadata": {
    "slideshow": {
     "slide_type": "slide"
    }
   },
   "source": [
    "## R Vignettes\n",
    "\n",
    "*Vignettes* are one of the most useful package components available on CRAN\n",
    "\n",
    "A vignette is a long-form description of a package, structured as an academic paper beginning with an introduction to the method(s) implemented.\n",
    "\n",
    "- Provide detailed information and illustrations about specific function parameters. \n",
    "- Showcase use on sample problems\n",
    "\n",
    "Here is an example vignette for spatstat, a commonly used spatial statistics package\n",
    "- <a href = https://cran.r-project.org/web/packages/spatstat/vignettes/getstart.pdf>Example spatstat vignette</a>"
   ]
  },
  {
   "cell_type": "markdown",
   "metadata": {
    "slideshow": {
     "slide_type": "slide"
    }
   },
   "source": [
    "## Task Views\n",
    "\n",
    "Since there are so many packages on CRAN, *Task Views* can help you can find what you need.\n",
    "\n",
    "A task view is a list of R packages organized within a theme\n",
    "- Within the theme, task views organize R packages in terms of common analysis types\n",
    "\n",
    "For example, the <a href = https://cran.r-project.org/web/views/Spatial.html>Analysis of Spatial Data task view</a>\n",
    "- Contains a wide array of R packages\n",
    "- Groups packages with respect to their use in different stages of spatial analysis"
   ]
  },
  {
   "cell_type": "markdown",
   "metadata": {
    "slideshow": {
     "slide_type": "slide"
    }
   },
   "source": [
    "## R Documentation\n",
    "\n",
    "Documentation for each package is provided as a PDF and a live document\n",
    "- PDF version can be found in the CRAN page of a package\n",
    "- See <a href=https://cran.r-project.org/web/packages/spatstat/index.html>spatstat example</a>\n",
    "       \n",
    "Targeted help about a function can be obtained via the R code:\n",
    "- <code>? function_name</code>\n",
    "\n",
    "Keyword search for a phrase or concept (use quotes for multiple words)\n",
    "- <code>??\"geographically weighted regression\"</code>"
   ]
  },
  {
   "cell_type": "markdown",
   "metadata": {
    "hide_input": false,
    "slideshow": {
     "slide_type": "slide"
    }
   },
   "source": [
    "And that's all you need to know to get started with R!\n",
    "\n",
    "<font size=\"+1\"><a style=\"background-color:blue;color:white;padding:12px;margin:10px;font-weight:bold;\" href=\"sma-3.ipynb\">Click here to go to the next notebook.</a></font>"
   ]
  }
 ],
 "metadata": {
  "celltoolbar": "Slideshow",
  "kernelspec": {
   "display_name": "iguide-ewd",
   "language": "python",
   "name": "iguide-ewd"
  },
  "language_info": {
   "codemirror_mode": {
    "name": "ipython",
    "version": 3
   },
   "file_extension": ".py",
   "mimetype": "text/x-python",
   "name": "python",
   "nbconvert_exporter": "python",
   "pygments_lexer": "ipython3",
   "version": "3.10.11"
  },
  "rise": {
   "autolaunch": true,
   "overlay": "<div class='hciheader'></div><div class='hcifooter'></div>",
   "scroll": true
  },
  "varInspector": {
   "cols": {
    "lenName": 16,
    "lenType": 16,
    "lenVar": 40
   },
   "kernels_config": {
    "python": {
     "delete_cmd_postfix": "",
     "delete_cmd_prefix": "del ",
     "library": "var_list.py",
     "varRefreshCmd": "print(var_dic_list())"
    },
    "r": {
     "delete_cmd_postfix": ") ",
     "delete_cmd_prefix": "rm(",
     "library": "var_list.r",
     "varRefreshCmd": "cat(var_dic_list()) "
    }
   },
   "types_to_exclude": [
    "module",
    "function",
    "builtin_function_or_method",
    "instance",
    "_Feature"
   ],
   "window_display": false
  }
 },
 "nbformat": 4,
 "nbformat_minor": 4
}
