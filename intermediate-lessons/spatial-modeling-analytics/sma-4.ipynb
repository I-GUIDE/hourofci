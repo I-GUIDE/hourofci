{
 "cells": [
  {
   "cell_type": "markdown",
   "metadata": {
    "slideshow": {
     "slide_type": "slide"
    }
   },
   "source": [
    "# Spatial Modeling and Analytics\n",
    "\n",
    "### Segment 3 of 4\n",
    "## Spatial Data Frames"
   ]
  },
  {
   "cell_type": "code",
   "execution_count": null,
   "metadata": {
    "hide_input": true,
    "init_cell": true,
    "slideshow": {
     "slide_type": "skip"
    },
    "tags": [
     "Hide"
    ]
   },
   "outputs": [],
   "source": [
    "# This code cell starts the necessary setup for Hour of CI lesson notebooks.\n",
    "# First, it enables users to hide and unhide code by producing a 'Toggle raw code' button below.\n",
    "# Second, it imports the hourofci package, which is necessary for lessons and interactive Jupyter Widgets.\n",
    "# Third, it helps hide/control other aspects of Jupyter Notebooks to improve the user experience\n",
    "# This is an initialization cell\n",
    "# It is not displayed because the Slide Type is 'Skip'\n",
    "\n",
    "from IPython.display import HTML, IFrame, Javascript, display\n",
    "from ipywidgets import interactive\n",
    "import ipywidgets as widgets\n",
    "from ipywidgets import Layout\n",
    "import warnings\n",
    "import getpass # This library allows us to get the username (User agent string)\n",
    "\n",
    "# import package for hourofci project\n",
    "import sys\n",
    "sys.path.append('../../supplementary') # relative path (may change depending on the location of the lesson notebook)\n",
    "import hourofci\n",
    "\n",
    "\n",
    "# load javascript to initialize/hide cells, get user agent string, and hide output indicator\n",
    "# hide code by introducing a toggle button \"Toggle raw code\"\n",
    "HTML(''' \n",
    "    <script type=\"text/javascript\" src=\\\"../../supplementary/js/custom.js\\\"></script>\n",
    "    \n",
    "    <style>\n",
    "        .output_prompt{opacity:0;}\n",
    "    </style>\n",
    "    \n",
    "    <input id=\"toggle_code\" type=\"button\" value=\"Toggle raw code\">\n",
    "''')"
   ]
  },
  {
   "cell_type": "code",
   "execution_count": null,
   "metadata": {
    "hide_input": true,
    "init_cell": true,
    "slideshow": {
     "slide_type": "skip"
    },
    "tags": [
     "Hide"
    ]
   },
   "outputs": [],
   "source": [
    "%load_ext rpy2.ipython"
   ]
  },
  {
   "cell_type": "markdown",
   "metadata": {
    "slideshow": {
     "slide_type": "slide"
    }
   },
   "source": [
    "## R Spatial Data Types\n",
    "\n",
    "If you conmpleted the introductory lesson on Geospatial Data, you already know the two most common types of spatial data:\n",
    "- Rasters (grids of values)\n",
    "- Vectors (points, lines and polygons)\n",
    "\n",
    "In R, these different kinds of data are handled by different packages\n",
    "- Raster data use the <code>raster</code> package\n",
    "- Vector data use the <code>sp</code> and <code>sf</code> packages\n",
    "    - sp and sf represent spatial information efficiently as spatial data frames\n",
    "    - these data are accepted by most R packages that require spatial data frames"
   ]
  },
  {
   "cell_type": "markdown",
   "metadata": {
    "slideshow": {
     "slide_type": "slide"
    }
   },
   "source": [
    "## Raster Data Representation in R\n",
    "\n",
    "Raster data have Information + Attributes\n",
    "- Attributes are the data values associated with the grid cells\n",
    "\n",
    "Necessary raster information includes:\n",
    "- nrows : Number of rows\n",
    "- ncols: Number of columns\n",
    "- nbands: Number of bands\n",
    "- Extent: Spatial extent\n",
    "- Projection: Projection information"
   ]
  },
  {
   "cell_type": "markdown",
   "metadata": {
    "slideshow": {
     "slide_type": "slide"
    }
   },
   "source": [
    "## Raster Data Representation in R\n",
    "\n",
    "There are three types of raster objects\n",
    "- RasterLayer: Single variable (band) rasters<br>\n",
    "<img src ='supplementary/red.png' width=53>\n",
    "- RasterStack: Multi variable (band) rasters. Data can reside in different files on disk. Preferred for flexibility.<br>\n",
    "<img src ='supplementary/on_disk1.png' width=130>\n",
    "- RasterBrick: Multi variable (band) rasters. Data has to be from a single file on disk. Preferred for performance.<br>\n",
    "<img src ='supplementary/on_disk2.png' width=130>"
   ]
  },
  {
   "cell_type": "markdown",
   "metadata": {
    "slideshow": {
     "slide_type": "slide"
    }
   },
   "source": [
    "## A Closer Look at a Raster Data Frame\n",
    "\n",
    "Due to data-volume, R displays only header information on rasters\n",
    "\n",
    "```r\n",
    "class      : RasterBrick \n",
    "dimensions : 9545, 9340, 89150300, 3         (= nrow, ncol, ncell, nlayers)\n",
    "resolution : 30, 30                          (= x, y)\n",
    "extent     : -2210387, -1930187, 1556342, 1842692  (= xmin, xmax, ymin, ymax)\n",
    "crs        : NA \n",
    "source     : memory\n",
    "names      : Band_1, Band_2, Band_3 \n",
    "min values :      0,      0,      0 \n",
    "max values :  65535,  65535,  65535 \n",
    "```\n",
    "\n",
    "The utility function <code>values()</code> can be used to access raster values"
   ]
  },
  {
   "cell_type": "markdown",
   "metadata": {
    "slideshow": {
     "slide_type": "slide"
    }
   },
   "source": [
    "## Spatial Vectors in R: the sf standard\n",
    "\n",
    "While both <code>sp</code> and <code>sf</code> data frames are used in spatial R, the <code>sf</code> package is newer and is used whenever possible\n",
    "- the sf package, uses the simple features (sf) standard of the Open Geospatial Consortium (OGC - https://www.ogc.org/)\n",
    "\n",
    "Simple Features are:\n",
    "1. Point\n",
    "1. Polygon\n",
    "1. Linestring\n",
    "1. Multipoint\n",
    "1. Multipolygon\n",
    "1. Multilinestring\n",
    "1. Geometrycollection "
   ]
  },
  {
   "cell_type": "markdown",
   "metadata": {
    "slideshow": {
     "slide_type": "slide"
    }
   },
   "source": [
    "## Spatial Vector Data Representation in R\n",
    "\n",
    "Same pattern as raster data: Geometry Info + Attributes\n",
    "- sf and sp only differ in how they represent geometry information\n",
    "\n",
    "Once vector data is in sf and sp format, you can\n",
    "- use spatial operators such as join, dissolve, merge, etc.\n",
    "- reproject the data (change projection system)\n",
    "- spatially subset the data"
   ]
  },
  {
   "cell_type": "markdown",
   "metadata": {
    "slideshow": {
     "slide_type": "slide"
    }
   },
   "source": [
    "## A Closer Look at a Point Vector Data Frame\n",
    "Here is an example sf data frame containing a **point** dataset\n",
    "\n",
    "<center><img src = 'supplementary/vector_df2.png' width = 100%></center>"
   ]
  },
  {
   "cell_type": "markdown",
   "metadata": {
    "slideshow": {
     "slide_type": "slide"
    }
   },
   "source": [
    "## A Closer Look at a Polygon Vector Data Frame\n",
    "Here is an example sf data frame containing a **polygon** dataset\n",
    "\n",
    "<center><img src = 'supplementary/vector_df.png' width = 100%></center>"
   ]
  },
  {
   "cell_type": "markdown",
   "metadata": {
    "slideshow": {
     "slide_type": "slide"
    }
   },
   "source": [
    "Now we're ready to work with some geospatial data using R. \n",
    "\n",
    "<font size=\"+1\"><a style=\"background-color:blue;color:white;padding:12px;margin:10px;font-weight:bold;\" \n",
    "href=\"sma-tryit-raster.ipynb\">Click here to go to the next notebook.</a></font>\n"
   ]
  }
 ],
 "metadata": {
  "celltoolbar": "Slideshow",
  "kernelspec": {
   "display_name": "iguide-ewd",
   "language": "python",
   "name": "iguide-ewd"
  },
  "language_info": {
   "codemirror_mode": {
    "name": "ipython",
    "version": 3
   },
   "file_extension": ".py",
   "mimetype": "text/x-python",
   "name": "python",
   "nbconvert_exporter": "python",
   "pygments_lexer": "ipython3",
   "version": "3.10.11"
  },
  "rise": {
   "autolaunch": true,
   "overlay": "<div class='hciheader'></div><div class='hcifooter'></div>",
   "scroll": true
  },
  "varInspector": {
   "cols": {
    "lenName": 16,
    "lenType": 16,
    "lenVar": 40
   },
   "kernels_config": {
    "python": {
     "delete_cmd_postfix": "",
     "delete_cmd_prefix": "del ",
     "library": "var_list.py",
     "varRefreshCmd": "print(var_dic_list())"
    },
    "r": {
     "delete_cmd_postfix": ") ",
     "delete_cmd_prefix": "rm(",
     "library": "var_list.r",
     "varRefreshCmd": "cat(var_dic_list()) "
    }
   },
   "types_to_exclude": [
    "module",
    "function",
    "builtin_function_or_method",
    "instance",
    "_Feature"
   ],
   "window_display": false
  }
 },
 "nbformat": 4,
 "nbformat_minor": 4
}
