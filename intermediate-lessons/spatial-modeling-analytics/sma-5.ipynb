{
 "cells": [
  {
   "cell_type": "markdown",
   "metadata": {
    "slideshow": {
     "slide_type": "slide"
    }
   },
   "source": [
    "# Spatial Modeling and Analytics\n",
    "\n",
    "### Segment 4 of 4\n",
    "## Connecting R and GIS"
   ]
  },
  {
   "cell_type": "code",
   "execution_count": null,
   "metadata": {
    "hide_input": true,
    "init_cell": true,
    "slideshow": {
     "slide_type": "skip"
    },
    "tags": [
     "Hide"
    ]
   },
   "outputs": [],
   "source": [
    "# This code cell starts the necessary setup for Hour of CI lesson notebooks.\n",
    "# First, it enables users to hide and unhide code by producing a 'Toggle raw code' button below.\n",
    "# Second, it imports the hourofci package, which is necessary for lessons and interactive Jupyter Widgets.\n",
    "# Third, it helps hide/control other aspects of Jupyter Notebooks to improve the user experience\n",
    "# This is an initialization cell\n",
    "# It is not displayed because the Slide Type is 'Skip'\n",
    "\n",
    "from IPython.display import HTML, IFrame, Javascript, display\n",
    "from ipywidgets import interactive\n",
    "import ipywidgets as widgets\n",
    "from ipywidgets import Layout\n",
    "\n",
    "import getpass # This library allows us to get the username (User agent string)\n",
    "\n",
    "# import package for hourofci project\n",
    "import sys\n",
    "sys.path.append('../../supplementary') # relative path (may change depending on the location of the lesson notebook)\n",
    "import hourofci\n",
    "\n",
    "# load javascript to initialize/hide cells, get user agent string, and hide output indicator\n",
    "# hide code by introducing a toggle button \"Toggle raw code\"\n",
    "HTML(''' \n",
    "    <script type=\"text/javascript\" src=\\\"../../supplementary/js/custom.js\\\"></script>\n",
    "    \n",
    "    <style>\n",
    "        .output_prompt{opacity:0;}\n",
    "    </style>\n",
    "    \n",
    "    <input id=\"toggle_code\" type=\"button\" value=\"Toggle raw code\">\n",
    "''')"
   ]
  },
  {
   "cell_type": "markdown",
   "metadata": {
    "slideshow": {
     "slide_type": "slide"
    }
   },
   "source": [
    "## GIS integration in R\n",
    "\n",
    "There are several ways in which R can be integrated with GIS\n",
    "\n",
    "<center><img src = 'supplementary/r_gis_integration.png' width=100%></center>"
   ]
  },
  {
   "cell_type": "markdown",
   "metadata": {
    "slideshow": {
     "slide_type": "slide"
    }
   },
   "source": [
    "## R packages for GIS Integration\n",
    "\n",
    "Here are the most frequently used GIS integration packages and the associated GIS software (in alphabetical order):\n",
    "- <b>ArcGIS:</b> arcgisbinding\n",
    "    - <a href=https://r.esri.com/assets/arcgisbinding.pdf>Link to Documentation</a>\n",
    "-<b>Google Earth Engine:</b> rgee\n",
    "    - <a href=https://cran.r-project.org/web/packages/rgee/rgee.pdf>Link to Documentation</a>\n",
    "- <b>GRASS:</b> rgrass\n",
    "    - <a href=https://cran.r-project.org/web/packages/rgrass/rgrass.pdf>Link to Documentation</a>\n",
    "- <b>QGIS:</b> qgisprocess\n",
    "    - <a href=https://paleolimbot.github.io/qgisprocess>Link to Documentation</a>\n",
    "-<b>SAGA:</b> RSAGA\n",
    "    - <a href=https://cran.r-project.org/web/packages/RSAGA/RSAGA.pdf>Link to Documentation</a>"
   ]
  },
  {
   "cell_type": "markdown",
   "metadata": {
    "slideshow": {
     "slide_type": "slide"
    }
   },
   "source": [
    "## What is in a name? arcgisbinding\n",
    "<ul>\n",
    "    <li>\n",
    "Reading, converting, and writing all vector and raster data types supported in ArcGIS\n",
    "    </li>\n",
    "    <ul>\n",
    "        <li>\n",
    "This includes all OGC types\n",
    "        </li>\n",
    "    </ul>\n",
    "    <li>\n",
    "Integrating R into ArcGIS workflows\n",
    "    </li>\n",
    "    <ul>\n",
    "        <li>\n",
    "As Geoprocessing tools\n",
    "        </li>\n",
    "        <li>\n",
    "As ModelBuilder items\n",
    "        </li>\n",
    "    </ul>\n",
    "    <li>\n",
    "Requires an active ESRI license\n",
    "    </li>\n",
    "    <ul>\n",
    "        <li>\n",
    "ArcGIS Pro or ArcGIS Desktop\n",
    "        </li>\n",
    "    </ul>\n",
    "</ul>\n",
    "\n"
   ]
  },
  {
   "cell_type": "markdown",
   "metadata": {
    "slideshow": {
     "slide_type": "slide"
    }
   },
   "source": [
    "## A Closer Look: *arcgisbinding*\n",
    "\n",
    "<ul>\n",
    "    <li>\n",
    "Represents data as an arc-type R data frame\n",
    "    </li>\n",
    "    <ul>\n",
    "        <li>\n",
    "Intermediate data type used when reading data\n",
    "        </li>\n",
    "    </ul>\n",
    "    <li>\n",
    "Provides GIS data read, conversion and write in R\n",
    "    </li>\n",
    "    <ul>\n",
    "        <li>\n",
    "Data read into R (local and cloud-based)\n",
    "        </li>\n",
    "        <li>\n",
    "Writing Spatial R data frames to open data types and geodatabases\n",
    "        </li>\n",
    "        <li>\n",
    "Converting arc-type to spatial R data frames\n",
    "        </li>\n",
    "    </ul>\n",
    "    <li>\n",
    "R-Script tools: Allow defining Geoprocessing tools with .R backend\n",
    "    </li>\n",
    "    <ul>\n",
    "        <li>\n",
    "Creating tools in ArcGIS Pro with UI elements that execute R scripts\n",
    "        </li>\n",
    "    </ul>\n",
    "    <li>\n",
    "        Executing Geoprocessing tools from R using the R package <i>reticulate</i>\n",
    "    </li>\n",
    "</ul>"
   ]
  },
  {
   "cell_type": "markdown",
   "metadata": {
    "slideshow": {
     "slide_type": "slide"
    }
   },
   "source": [
    "## What is in a name? rgee\n",
    "\n",
    "<ul>\n",
    "    <li>\n",
    "Reading, writing, and converting Earth Engine (EE) tables and rasters\n",
    "    </li>\n",
    "    <ul>\n",
    "        <li>\n",
    "Support for Earth Engine resources, Google Drive, and Google Cloud Storage\n",
    "        </li>\n",
    "    </ul>\n",
    "    <li>\n",
    "Access to Earth Engine functions from R\n",
    "    </li>\n",
    "    <li>\n",
    "Requires per session authentication\n",
    "    </li>\n",
    "</ul>"
   ]
  },
  {
   "cell_type": "markdown",
   "metadata": {
    "slideshow": {
     "slide_type": "slide"
    }
   },
   "source": [
    "## A Closer Look: rgee\n",
    "\n",
    "<ul>\n",
    "    <li>\n",
    "Direct conversion of Earth Engine images, tables to R data frames\n",
    "    </li>\n",
    "    <ul>\n",
    "        <li>\n",
    "Support for sf, raster, and stars\n",
    "        </li>\n",
    "    </ul>\n",
    "    <li>\n",
    "Utility functions for moving data between\n",
    "    </li>\n",
    "    <ul>\n",
    "        <li>\n",
    "Local disk, Earth Engine assets, and Google Cloud Storage\n",
    "        </li>\n",
    "    </ul>\n",
    "    <li>\n",
    "Support for writing spatial R data frames to EE-compliant sources\n",
    "    </li>\n",
    "    <li>\n",
    "It is a CRAN package!\n",
    "    </li>\n",
    "</ul>\n",
    "\n"
   ]
  },
  {
   "cell_type": "markdown",
   "metadata": {
    "slideshow": {
     "slide_type": "slide"
    }
   },
   "source": [
    "## What is in a name? *qgisprocess*\n",
    "\n",
    "<ul>\n",
    "    <li>\n",
    "R integration package for accessing QGIS from R\n",
    "    </li>\n",
    "    <ul>\n",
    "        <li>\n",
    "Experimental support for use of sf and raster objects\n",
    "        </li>\n",
    "    </ul>\n",
    "    <li>\n",
    "Support for calling QGIS functions from R\n",
    "    </li>\n",
    "    <li>\n",
    "Focused towards integrating QGIS functions in R\n",
    "    </li>\n",
    "</ul>\n",
    "\n"
   ]
  },
  {
   "cell_type": "markdown",
   "metadata": {
    "slideshow": {
     "slide_type": "slide"
    }
   },
   "source": [
    "## A Closer Look: *qgisprocess*\n",
    "\n",
    "\n",
    "<ul>\n",
    "    <li>\n",
    "Intended for reinforcing the R analysis ecosystem with QGIS functions\n",
    "    </li>\n",
    "    <li>\n",
    "Used in automating QGIS tasks in R workflows\n",
    "    </li>\n",
    "    <li>\n",
    "Allows executing QGIS Python scripts using reticulate\n",
    "    </li>\n",
    "    <li>\n",
    "It is the latest version that supersedes\n",
    "    </li>\n",
    "    <ul>\n",
    "        <li>\n",
    "RQGIS, RQGIS3\n",
    "        </li>\n",
    "    </ul>\n",
    "</ul>\n",
    "\n"
   ]
  },
  {
   "cell_type": "markdown",
   "metadata": {
    "slideshow": {
     "slide_type": "slide"
    }
   },
   "source": [
    "## What is in a name? RSAGA\n",
    "\n",
    "<ul>\n",
    "    <li>\n",
    "R integration package for accessing SAGA functions from R\n",
    "    </li>\n",
    "    <li>\n",
    "Built with bringing SAGA functions for terrain analysis into R\n",
    "    </li>\n",
    "    <li>\n",
    "Focuses on script automation of SAGA functions in R\n",
    "    </li>\n",
    "</ul>\n",
    "\n"
   ]
  },
  {
   "cell_type": "markdown",
   "metadata": {
    "slideshow": {
     "slide_type": "slide"
    }
   },
   "source": [
    "## A Closer Look: *RSAGA*\n",
    "\n",
    "<ul>\n",
    "    <li>\n",
    "Provides R functions to SAGA backend\n",
    "    </li>\n",
    "    <li>\n",
    "SAGA calls require local ASCII or grid files\n",
    "    </li>\n",
    "    <ul>\n",
    "        <li>\n",
    "No support for spatial R-dataframe input\n",
    "        </li>\n",
    "    </ul>\n",
    "    <li>\n",
    "Enriches spatial R analysis ecosystem via\n",
    "    </li>\n",
    "    <ul>\n",
    "        <li>\n",
    "Raster-based Index calculations\n",
    "        </li>\n",
    "        <li>\n",
    "Specific terrain analysis functions\n",
    "        </li>\n",
    "    </ul>\n",
    "    <li>\n",
    "It is a CRAN package!\n",
    "    </li>\n",
    "</ul>\n",
    "\n"
   ]
  },
  {
   "cell_type": "markdown",
   "metadata": {
    "slideshow": {
     "slide_type": "slide"
    }
   },
   "source": [
    "\n",
    "# Now let's do some site suitability modeling!\n",
    "\n",
    "Open <font><a style=\"background-color:blue;color:white;font-weight:bold;\" href=\"sma-exploration.ipynb\">this notebook</a></font> and run each of the code chunks sequentially by clicking the arrow beside the code chunk to start exploring spatial modeling and analytics using R. "
   ]
  }
 ],
 "metadata": {
  "celltoolbar": "Slideshow",
  "kernelspec": {
   "display_name": "I-GUIDE EWD",
   "language": "python",
   "name": "conda-env-iguide-ewd-py"
  },
  "language_info": {
   "codemirror_mode": {
    "name": "ipython",
    "version": 3
   },
   "file_extension": ".py",
   "mimetype": "text/x-python",
   "name": "python",
   "nbconvert_exporter": "python",
   "pygments_lexer": "ipython3",
   "version": "3.7.16"
  },
  "rise": {
   "autolaunch": true,
   "overlay": "<div class='hciheader'></div><div class='hcifooter'></div>",
   "scroll": true
  }
 },
 "nbformat": 4,
 "nbformat_minor": 4
}
