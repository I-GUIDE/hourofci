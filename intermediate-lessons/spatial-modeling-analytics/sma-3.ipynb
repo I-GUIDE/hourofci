{
 "cells": [
  {
   "cell_type": "markdown",
   "metadata": {
    "slideshow": {
     "slide_type": "slide"
    }
   },
   "source": [
    "# Spatial Modeling and Analytics\n",
    "\n",
    "### Segment 2 of 4\n",
    "## Coding in R"
   ]
  },
  {
   "cell_type": "code",
   "execution_count": null,
   "metadata": {
    "hide_input": true,
    "init_cell": true,
    "slideshow": {
     "slide_type": "skip"
    },
    "tags": [
     "Hide"
    ]
   },
   "outputs": [],
   "source": [
    "# This code cell starts the necessary setup for Hour of CI lesson notebooks.\n",
    "# First, it enables users to hide and unhide code by producing a 'Toggle raw code' button below.\n",
    "# Second, it imports the hourofci package, which is necessary for lessons and interactive Jupyter Widgets.\n",
    "# Third, it helps hide/control other aspects of Jupyter Notebooks to improve the user experience\n",
    "# This is an initialization cell\n",
    "# It is not displayed because the Slide Type is 'Skip'\n",
    "\n",
    "from IPython.display import HTML, IFrame, Javascript, display\n",
    "from ipywidgets import interactive\n",
    "import ipywidgets as widgets\n",
    "from ipywidgets import Layout\n",
    "\n",
    "import getpass # This library allows us to get the username (User agent string)\n",
    "\n",
    "# import package for hourofci project\n",
    "import sys\n",
    "sys.path.append('../../supplementary') # relative path (may change depending on the location of the lesson notebook)\n",
    "import hourofci\n",
    "\n",
    "\n",
    "# load javascript to initialize/hide cells, get user agent string, and hide output indicator\n",
    "# hide code by introducing a toggle button \"Toggle raw code\"\n",
    "HTML(''' \n",
    "    <script type=\"text/javascript\" src=\\\"../../supplementary/js/custom.js\\\"></script>\n",
    "    \n",
    "    <style>\n",
    "        .output_prompt{opacity:0;}\n",
    "    </style>\n",
    "    \n",
    "    <input id=\"toggle_code\" type=\"button\" value=\"Toggle raw code\">\n",
    "''')"
   ]
  },
  {
   "cell_type": "code",
   "execution_count": null,
   "metadata": {
    "hide_input": true,
    "init_cell": true,
    "slideshow": {
     "slide_type": "skip"
    },
    "tags": [
     "Hide"
    ]
   },
   "outputs": [],
   "source": [
    "%load_ext rpy2.ipython"
   ]
  },
  {
   "cell_type": "markdown",
   "metadata": {
    "slideshow": {
     "slide_type": "slide"
    }
   },
   "source": [
    "## How to work with R?\n",
    "\n",
    "There are several different ways to create code using R.\n",
    "\n",
    "<center>\n",
    "    <table style=\"background-color:white;\">\n",
    "        <tr style=\"background-color:white;\">\n",
    "            <td style=\"width:30%;text-align:left;\">\n",
    "                <center><img src = \"supplementary/r_logo.png\" width = 100 height = 100></center>\n",
    "                <ul>\n",
    "                    <li>\n",
    "IDE specifically designed for R\n",
    "                    </li>\n",
    "                    <li>\n",
    "Common choice in R community\n",
    "                    </li>\n",
    "                    <li>\n",
    "Free\n",
    "                    </li>\n",
    "                                        <li>\n",
    "Integrated Visualization\n",
    "                    </li>\n",
    "                                        <li>\n",
    "Support for R Markdown\n",
    "                    </li>\n",
    "                </ul>\n",
    "            </td>\n",
    "            <td style=\"width:30%;text-align:left;\">\n",
    "                <center><img src = \"supplementary/jupyter_logo.png\" width = 50 height = 100></center>\n",
    "                <ul>\n",
    "                    <li>\n",
    "Native support for R notebooks\n",
    "                    </li>\n",
    "                    <li>\n",
    "Interactive analysis\n",
    "                    </li>\n",
    "                    <li>\n",
    "Free\n",
    "                    </li>\n",
    "                </ul>\n",
    "            </td>\n",
    "            <td style=\"width:30%;text-align:left;\">\n",
    "                <center><img src = \"supplementary/vstudio_logo.png\" width = 100 height = 100></center>\n",
    "                <ul>\n",
    "                    <li>\n",
    "Vim and Visual Code are free\n",
    "                    </li>\n",
    "                    <li>\n",
    "Cumbersome to setup for non-developers\n",
    "                    </li>\n",
    "                    <li>\n",
    "Text editor with syntax marking\n",
    "                    </li>\n",
    "                    <li>\n",
    "Useful if working with multiple languages\n",
    "                    </li>\n",
    "                </ul>\n",
    "            </td>\n",
    "        </tr>\n",
    "    </table>\n",
    "</center>\n",
    "\n",
    "Here, we'll just work in code blocks in our Jupyter Notebook. "
   ]
  },
  {
   "cell_type": "markdown",
   "metadata": {
    "slideshow": {
     "slide_type": "slide"
    }
   },
   "source": [
    "## Defining R Variables\n",
    "\n",
    "Variables are defined by assigning something to them. \n",
    "\n",
    "Assignment is indicated by <code><- </code>, for example:\n",
    "\n",
    "<code> var <- my_fun(input1, input2)</code>\n",
    "\n",
    "where variable var contains the output from my_fun\n",
    "\n",
    "<center><img src = \"supplementary/r_variables.png\" width = 700 ></center>\n",
    "\n",
    "\n",
    "Create a variable yourself in the next slide!\n"
   ]
  },
  {
   "cell_type": "markdown",
   "metadata": {
    "slideshow": {
     "slide_type": "slide"
    }
   },
   "source": [
    "Run this code."
   ]
  },
  {
   "cell_type": "code",
   "execution_count": null,
   "metadata": {
    "scrolled": false,
    "slideshow": {
     "slide_type": "-"
    }
   },
   "outputs": [],
   "source": [
    "%%R\n",
    "your_var <- 5"
   ]
  },
  {
   "cell_type": "markdown",
   "metadata": {
    "slideshow": {
     "slide_type": "fragment"
    }
   },
   "source": [
    "That's it. You just created a variable!\n",
    "\n",
    "Note that we are using <code>%%R</code> to invoke R in a code block.\n",
    "\n",
    "Now print it out."
   ]
  },
  {
   "cell_type": "code",
   "execution_count": null,
   "metadata": {
    "slideshow": {
     "slide_type": "-"
    }
   },
   "outputs": [],
   "source": [
    "%%R\n",
    "your_var"
   ]
  },
  {
   "cell_type": "markdown",
   "metadata": {
    "slideshow": {
     "slide_type": "slide"
    }
   },
   "source": [
    "## R Data Types\n",
    "\n",
    "Like Python, there are several types of data\n",
    "\n",
    "- Character – Stores strings: apple, B1G3\n",
    "- Complex – Stores complex numbers: 5 + 4i \n",
    "- Integer – Stores integers, numbers without floating points: 2, 5, 100\n",
    "- Logical – Stores Boolean variables: True, False\n",
    "- Numeric – Generic container for any number: 2, 3.14"
   ]
  },
  {
   "cell_type": "markdown",
   "metadata": {
    "slideshow": {
     "slide_type": "slide"
    }
   },
   "source": [
    "## R Data Structures\n",
    "\n",
    "Like Python, there are several ways for data to be structured. Here are the most common ones.\n",
    "\n",
    "For homogeneous data, store only one type of data in:\n",
    "- Vector (1D)\n",
    "- Matrix (2D)\n",
    "- Array (n-dimensional)"
   ]
  },
  {
   "cell_type": "markdown",
   "metadata": {
    "slideshow": {
     "slide_type": "slide"
    }
   },
   "source": [
    "## R Data Structures\n",
    "\n",
    "For heterogeneous data, store multiple types of data in:\n",
    "- List\n",
    "    - for example: <code>r_list <- (‘geo’, 1.2, ‘e’, obj) </code>\n",
    "- Data Frame, a 2D table with columns and rows\n",
    "    - for example: \n",
    "    \n",
    "     <table align = 'left'>\n",
    "      <TR>\n",
    "        <TD>Time\n",
    "        <TD>Lat\n",
    "        <TD>Long\n",
    "        <TD>Type\n",
    "      <TR>\n",
    "        <TD>01/01/1990\n",
    "        <TD>44.55\n",
    "        <TD>72.58\n",
    "        <TD>Built\n",
    "       <TR>\n",
    "           <TD>10/15/1995\n",
    "           <TD>43.52\n",
    "           <TD>71.88\n",
    "           <TD>Water\n",
    "    </TABLE> \n",
    "  </BODY>\n",
    "</HTML>"
   ]
  },
  {
   "cell_type": "markdown",
   "metadata": {
    "slideshow": {
     "slide_type": "slide"
    }
   },
   "source": [
    "## Summarizing Data Structures\n",
    "\n",
    "There are several commands in R you can use to examine variable data structures and types.\n",
    "\n",
    "Common functions to examine the variable, var, are:\n",
    "- typeof(var)\n",
    "- length(var)\n",
    "- class(var)\n",
    "- dim(var)"
   ]
  },
  {
   "cell_type": "markdown",
   "metadata": {
    "slideshow": {
     "slide_type": "slide"
    }
   },
   "source": [
    "And now try these on your variable..."
   ]
  },
  {
   "cell_type": "code",
   "execution_count": null,
   "metadata": {},
   "outputs": [],
   "source": [
    "%%R\n",
    "typeof(your_var)"
   ]
  },
  {
   "cell_type": "code",
   "execution_count": null,
   "metadata": {},
   "outputs": [],
   "source": [
    "%%R\n",
    "length(your_var)"
   ]
  },
  {
   "cell_type": "code",
   "execution_count": null,
   "metadata": {},
   "outputs": [],
   "source": [
    "%%R\n",
    "class(your_var)"
   ]
  },
  {
   "cell_type": "code",
   "execution_count": null,
   "metadata": {},
   "outputs": [],
   "source": [
    "%%R\n",
    "dim(your_var)"
   ]
  },
  {
   "cell_type": "markdown",
   "metadata": {
    "slideshow": {
     "slide_type": "slide"
    }
   },
   "source": [
    "OK, now with these very basic concepts introduced, let's jump into how R handles spatial data. \n",
    "\n",
    "<font size=\"+1\"><a style=\"background-color:blue;color:white;padding:12px;margin:10px;font-weight:bold;\" \n",
    "href=\"sma-4.ipynb\">Click here to go to the next notebook.</a></font>"
   ]
  }
 ],
 "metadata": {
  "celltoolbar": "Slideshow",
  "kernelspec": {
   "display_name": "iguide-ewd",
   "language": "python",
   "name": "iguide-ewd"
  },
  "language_info": {
   "codemirror_mode": {
    "name": "ipython",
    "version": 3
   },
   "file_extension": ".py",
   "mimetype": "text/x-python",
   "name": "python",
   "nbconvert_exporter": "python",
   "pygments_lexer": "ipython3",
   "version": "3.10.11"
  },
  "rise": {
   "autolaunch": true,
   "overlay": "<div class='hciheader'></div><div class='hcifooter'></div>",
   "scroll": true
  },
  "varInspector": {
   "cols": {
    "lenName": 16,
    "lenType": 16,
    "lenVar": 40
   },
   "kernels_config": {
    "python": {
     "delete_cmd_postfix": "",
     "delete_cmd_prefix": "del ",
     "library": "var_list.py",
     "varRefreshCmd": "print(var_dic_list())"
    },
    "r": {
     "delete_cmd_postfix": ") ",
     "delete_cmd_prefix": "rm(",
     "library": "var_list.r",
     "varRefreshCmd": "cat(var_dic_list()) "
    }
   },
   "types_to_exclude": [
    "module",
    "function",
    "builtin_function_or_method",
    "instance",
    "_Feature"
   ],
   "window_display": false
  }
 },
 "nbformat": 4,
 "nbformat_minor": 4
}
