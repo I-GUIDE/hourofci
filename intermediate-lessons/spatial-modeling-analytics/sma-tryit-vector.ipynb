{
 "cells": [
  {
   "cell_type": "markdown",
   "metadata": {
    "slideshow": {
     "slide_type": "slide"
    }
   },
   "source": [
    "## Spatial Modeling and Analytics\n",
    "## Try it 2 - Spatial Vector Data in R"
   ]
  },
  {
   "cell_type": "markdown",
   "metadata": {
    "slideshow": {
     "slide_type": "slide"
    }
   },
   "source": [
    "Again, let's drop into the Notebook view and take a look at some R code to display and analyze vector data. \n",
    "\n",
    "Click the big X in the top left corner. then click on the Run button on each cell below. "
   ]
  },
  {
   "cell_type": "code",
   "execution_count": null,
   "metadata": {
    "slideshow": {
     "slide_type": "skip"
    }
   },
   "outputs": [],
   "source": [
    "## Import Packages\n",
    "library(ggplot2)\n",
    "library(leaflet.esri)\n",
    "library(sf)"
   ]
  },
  {
   "cell_type": "markdown",
   "metadata": {
    "slideshow": {
     "slide_type": "skip"
    }
   },
   "source": [
    "We begin by loading the boundaries and some sudden infant death syndrome data for the counties in North Carolina from an ArcGIS shapefile into an R spatial data frame we're calling *sids.nc.* "
   ]
  },
  {
   "cell_type": "code",
   "execution_count": null,
   "metadata": {
    "scrolled": true,
    "slideshow": {
     "slide_type": "skip"
    }
   },
   "outputs": [],
   "source": [
    "## Get data\n",
    "sids.nc <- st_read(system.file(\"shape/nc.shp\", package=\"sf\"))\n",
    "\n",
    "### Print the first 3 rows of the geometry dataset\n",
    "head(sids.nc, 3)"
   ]
  },
  {
   "cell_type": "code",
   "execution_count": null,
   "metadata": {
    "scrolled": true,
    "slideshow": {
     "slide_type": "skip"
    }
   },
   "outputs": [],
   "source": [
    "## Make a static plot of the data\n",
    "plot(sids.nc)"
   ]
  },
  {
   "cell_type": "markdown",
   "metadata": {
    "slideshow": {
     "slide_type": "skip"
    }
   },
   "source": [
    "Notice that this is dumbly plotting all the variables, even ones that don't make sense to plot this way like COUNTY_ID and NAME. \n",
    "\n",
    "Let's make a map that makes sense, the count of sundden infant deaths in 1979..."
   ]
  },
  {
   "cell_type": "code",
   "execution_count": null,
   "metadata": {
    "scrolled": false,
    "slideshow": {
     "slide_type": "skip"
    }
   },
   "outputs": [],
   "source": [
    "### Make a static plot for one variable SID79\n",
    "plot(sids.nc[\"SID79\"], breaks = \"jenks\")"
   ]
  },
  {
   "cell_type": "code",
   "execution_count": null,
   "metadata": {
    "slideshow": {
     "slide_type": "skip"
    }
   },
   "outputs": [],
   "source": [
    "## Plot New Born Counts Against SIDS as a Line Plot\n",
    "ggplot(sids.nc, aes(x=NWBIR79, y=SID79))  +\n",
    "  geom_point( size = 3) + geom_line(size = 1, alpha=0.4, color = 'red') +\n",
    "  xlab(\"Number of New Borns\") + ylab(\"Number of SIDS Incidents\") +\n",
    "  theme_light()"
   ]
  },
  {
   "cell_type": "code",
   "execution_count": null,
   "metadata": {
    "scrolled": true,
    "slideshow": {
     "slide_type": "skip"
    }
   },
   "outputs": [],
   "source": [
    "## Make A Map with ggplot2\n",
    "p <- ggplot() +\n",
    "  geom_sf(data = sids.nc, aes(fill = SID79)) +\n",
    "  scale_fill_gradientn(colours = hcl.colors(10, alpha = 0.5))\n",
    "p"
   ]
  },
  {
   "cell_type": "code",
   "execution_count": null,
   "metadata": {
    "slideshow": {
     "slide_type": "skip"
    }
   },
   "outputs": [],
   "source": [
    "## 5. Defining Subsets By Indexing\n",
    "### Make Subsets by Row Indices\n",
    "sids.nc.row.subset <- sids.nc[1:15,]\n",
    "p2 <- ggplot() +\n",
    "  geom_sf(data = sids.nc ) + \n",
    "  geom_sf(data = sids.nc.row.subset, aes(fill = SID79) )\n",
    "p2\n"
   ]
  },
  {
   "cell_type": "code",
   "execution_count": null,
   "metadata": {
    "slideshow": {
     "slide_type": "skip"
    }
   },
   "outputs": [],
   "source": [
    "## 6. Defining Subsets by Intersection with Bounding Box\n",
    "bbox <- st_bbox(sids.nc)\n",
    "print(bbox)"
   ]
  },
  {
   "cell_type": "code",
   "execution_count": null,
   "metadata": {
    "slideshow": {
     "slide_type": "skip"
    }
   },
   "outputs": [],
   "source": [
    "### Define a New Bounding Box to Intersect\n",
    "new_bbox <- st_bbox(c(xmin = -80,\n",
    "              ymin = 35,\n",
    "              xmax = -77, \n",
    "              ymax = 36), crs = st_crs(sids.nc))\n",
    "\n",
    "### Convert the Bounding Box to A Feature\n",
    "new_bbox <- st_as_sfc(new_bbox)\n",
    "\n",
    "### Intersect Features\n",
    "sids.subset.bbox <- st_intersection(sids.nc, new_bbox)\n",
    "\n",
    "p2 <- ggplot() +\n",
    "  geom_sf(data = sids.nc ) + \n",
    "  geom_sf(data = sids.subset.bbox, aes(fill = SID79) )\n",
    "p2"
   ]
  },
  {
   "cell_type": "code",
   "execution_count": null,
   "metadata": {
    "slideshow": {
     "slide_type": "skip"
    }
   },
   "outputs": [],
   "source": [
    "## Reproject Data to WGS84 (CRS 4326) and Make an Interactive Map\n",
    "sids.nc.wgs84 <- st_transform(sids.nc, crs = 4326)\n",
    "\n",
    "### Make a Leaflet map of the data\n",
    "LeafMap <- leaflet(sids.nc.wgs84) %>%\n",
    "  addEsriBasemapLayer(esriBasemapLayers$Imagery) %>%\n",
    "  addPolygons(color = \"#000000\", weight = 1, opacity = 1.0, fillOpacity = 0.5,\n",
    "              fillColor = ~colorQuantile(\"YlOrRd\", SID79)(SID79),\n",
    "              highlightOptions = highlightOptions(color = \"white\",\n",
    "                                                  bringToFront = TRUE),\n",
    "              popup = paste0(\"<b>SID Cases in 1979:</b> \", sids.nc.wgs84$SID79,\n",
    "                             \"<br>\", \"<b>New Births in 1979</b>: \", \n",
    "                             sids.nc.wgs84$NWBIR79))\n",
    "LeafMap"
   ]
  },
  {
   "cell_type": "markdown",
   "metadata": {
    "slideshow": {
     "slide_type": "skip"
    }
   },
   "source": [
    "Now we go back to some information about how you can use R with GIS.\n",
    "\n",
    "<font size=\"+1\"><a style=\"background-color:blue;color:white;padding:12px;margin:10px;font-weight:bold;\" \n",
    "href=\"sma-5.ipynb\">Click here to go to the next notebook</a></font>"
   ]
  }
 ],
 "metadata": {
  "celltoolbar": "Slideshow",
  "kernelspec": {
   "display_name": "R [conda env:iguide-ewd-r]",
   "language": "R",
   "name": "conda-env-iguide-ewd-r-r"
  },
  "language_info": {
   "codemirror_mode": "r",
   "file_extension": ".r",
   "mimetype": "text/x-r-source",
   "name": "R",
   "pygments_lexer": "r",
   "version": "4.3.1"
  },
  "rise": {
   "autolaunch": true,
   "overlay": "<div class='hciheader'></div><div class='hcifooter'></div>",
   "scroll": true
  },
  "varInspector": {
   "cols": {
    "lenName": 16,
    "lenType": 16,
    "lenVar": 40
   },
   "kernels_config": {
    "python": {
     "delete_cmd_postfix": "",
     "delete_cmd_prefix": "del ",
     "library": "var_list.py",
     "varRefreshCmd": "print(var_dic_list())"
    },
    "r": {
     "delete_cmd_postfix": ") ",
     "delete_cmd_prefix": "rm(",
     "library": "var_list.r",
     "varRefreshCmd": "cat(var_dic_list()) "
    }
   },
   "types_to_exclude": [
    "module",
    "function",
    "builtin_function_or_method",
    "instance",
    "_Feature"
   ],
   "window_display": false
  }
 },
 "nbformat": 4,
 "nbformat_minor": 4
}
