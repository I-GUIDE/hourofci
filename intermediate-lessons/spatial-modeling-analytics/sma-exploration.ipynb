{
 "cells": [
  {
   "cell_type": "markdown",
   "metadata": {
    "slideshow": {
     "slide_type": "slide"
    }
   },
   "source": [
    "## Spatial Modeling and Analytics\n",
    "# Exploration\n",
    "### A simple site selection example"
   ]
  },
  {
   "cell_type": "code",
   "execution_count": null,
   "metadata": {
    "hide_input": false,
    "init_cell": true,
    "slideshow": {
     "slide_type": "skip"
    },
    "tags": [
     "Hide"
    ]
   },
   "outputs": [],
   "source": [
    "library(IRdisplay)\n",
    "\n",
    "display_html(paste('<script type=\"text/javascript\" src=\"../../supplementary/js/custom.js\"></script><input id=\"toggle_code\" type=\"button\" value=\"Toggle raw code\">'))\n"
   ]
  },
  {
   "cell_type": "markdown",
   "metadata": {
    "slideshow": {
     "slide_type": "slide"
    }
   },
   "source": [
    "This exploration is the same workflow as one you may have already completed in the Beginner Spatial Modeling and Analytics lesson, but this time we're doing it using R. \n",
    "\n",
    "You may be interested to know that this translation from Python to R was completed with the assistance of ChatGPT! It wasn't perfect and needed some understanding of R to fix the bugs, but it did make the work faster. \n",
    "\n",
    "Note: We recommend using Google Chrome browser. \n",
    "\n",
    "To continue, click the X in the top right to drop into the Notebook and continue reading and clicking on the run icon beside each code chunk. "
   ]
  },
  {
   "cell_type": "markdown",
   "metadata": {
    "slideshow": {
     "slide_type": "skip"
    }
   },
   "source": [
    "# Let's Create a Basic Site Suitability Model\n",
    "\n",
    "## Goal: \n",
    "Find buildings in a city that are suitable candidates for a new coffee shop business.\n",
    "\n",
    "## Criteria:\n",
    "The candidate buildings should be:\n",
    "1. A building type of commercial, retail, or office building\n",
    "1. At least 400 meters from other coffee shops\n",
    "1. Close to a bikepath\n",
    "1. Close to a cinema\n",
    "\n",
    "## The process:\n",
    "1. Determine the criteria (done!)\n",
    "1. Get data\n",
    "1. Create buffers\n",
    "1. Assign weights\n",
    "1. Intersect and sum values\n",
    "\n",
    "The result is a map showing the site suitability values. Suitability is indicated by the value - high values are highly suitable. "
   ]
  },
  {
   "cell_type": "markdown",
   "metadata": {
    "slideshow": {
     "slide_type": "skip"
    }
   },
   "source": [
    "# Load the packages\n",
    "First, as usual, we need to import the appropriate R packages. The most important package we'll load is `sf`, the simple features package that provides a means of storing and retrieving spatial data. The data we're going to use comes from Open Street Map, so we need the package `osmdata`. "
   ]
  },
  {
   "cell_type": "code",
   "execution_count": null,
   "metadata": {
    "slideshow": {
     "slide_type": "skip"
    }
   },
   "outputs": [],
   "source": [
    "library(osmdata)\n",
    "library(sf)\n",
    "library(ggplot2)\n",
    "library(gridExtra)\n",
    "library(leaflet)"
   ]
  },
  {
   "cell_type": "markdown",
   "metadata": {
    "slideshow": {
     "slide_type": "skip"
    }
   },
   "source": [
    "# Get the data\n",
    "\n",
    "An OSMdata query begins by specifying a bounding box with the function `opq()`, followed by specifying the desired OSM features with `add_osm_feature()`.\n",
    "\n",
    "Fortunately, you don't actually need to know the coordinates of the bounding box around your place of interest. You can simply use standard place names. If you want to run this notebook later for a different place, you can put a new placename in here. Remember that since OSM is crowd-sourced, you might not find all the places you want to use in the dataset. However, all major US and global cities are probably there. \n",
    "\n",
    "Our criteria require that we get data about coffee shops, bikepaths, cinemas and buildings. The OSM data contains all these kinds of data, but we have to extract each one separately for our model.\n",
    "\n",
    "In this first block, we'll get features that are coffee shops in Minneapolis, Minnesota. \n",
    "\n",
    "We use OSMdata to create a spdf (spatial data frame) which is stored in the `coffee_points` variable."
   ]
  },
  {
   "cell_type": "code",
   "execution_count": null,
   "metadata": {
    "slideshow": {
     "slide_type": "skip"
    }
   },
   "outputs": [],
   "source": [
    "# Create a query for OSMdata with the bounding box and the features we wish to retrieve\n",
    "query1 <- opq('minneapolis, MN')  %>% add_osm_feature(key = 'cuisine', value = 'coffee_shop')\n",
    "\n",
    "# Create an OSMdata object using the query\n",
    "coffee_shops <- osmdata_sf(query1)\n",
    "\n",
    "# Create a spatial points ibject by selecting the point objects \n",
    "# in the OSM query result\n",
    "coffee_points <- coffee_shops$osm_points\n",
    "\n",
    "# Plot them!\n",
    "ggplot() +\n",
    "  geom_sf(data = coffee_points$geometry) +\n",
    "  theme_minimal()"
   ]
  },
  {
   "cell_type": "markdown",
   "metadata": {
    "slideshow": {
     "slide_type": "skip"
    }
   },
   "source": [
    "OK, how many did you find?"
   ]
  },
  {
   "cell_type": "code",
   "execution_count": null,
   "metadata": {
    "slideshow": {
     "slide_type": "skip"
    }
   },
   "outputs": [],
   "source": [
    "nrow(coffee_points)"
   ]
  },
  {
   "cell_type": "markdown",
   "metadata": {
    "slideshow": {
     "slide_type": "skip"
    },
    "variables": {
     "nrow(coffee_points)": "161"
    }
   },
   "source": [
    "We got {{nrow(coffee_points)}} for now, but this number may change as the OSM data is constantly updated.\n",
    "\n",
    "Now, before we move on to the next set of data, we need to do a coordinate transformation from lat/long to UTM so we can use cartesian geometry to measure distances. This was explained in the Beginner Spatial Modeling and Analytics lesson, check it out if you want to know more about this step. In any case, run this code below and move on. "
   ]
  },
  {
   "cell_type": "code",
   "execution_count": null,
   "metadata": {
    "slideshow": {
     "slide_type": "skip"
    }
   },
   "outputs": [],
   "source": [
    "# Change the CRS of coffee_points to UTM\n",
    "coffee_points_UTM <- st_transform(coffee_points, \"+proj=utm +zone=15 +datum=WGS84\")\n"
   ]
  },
  {
   "cell_type": "markdown",
   "metadata": {
    "slideshow": {
     "slide_type": "skip"
    }
   },
   "source": [
    "Next we'll get the bikepaths, aka in OSMdata as cycleways. "
   ]
  },
  {
   "cell_type": "code",
   "execution_count": null,
   "metadata": {
    "slideshow": {
     "slide_type": "skip"
    }
   },
   "outputs": [],
   "source": [
    "query2 <- opq('minneapolis, MN') %>%\n",
    "  add_osm_feature(key = 'highway', value = 'cycleway')\n",
    "cycleways <- osmdata_sf(query2)\n",
    "cycleways_lines <- cycleways$osm_lines\n",
    "ggplot() +\n",
    "  geom_sf(data = cycleways_lines$geometry) +\n",
    "  theme_minimal()\n",
    "cycleways_lines_UTM <- st_transform(cycleways_lines, \"+proj=utm +zone=15 +datum=WGS84\")\n"
   ]
  },
  {
   "cell_type": "markdown",
   "metadata": {
    "slideshow": {
     "slide_type": "skip"
    }
   },
   "source": [
    "Now get and transform the cinerma point features."
   ]
  },
  {
   "cell_type": "code",
   "execution_count": null,
   "metadata": {
    "slideshow": {
     "slide_type": "skip"
    }
   },
   "outputs": [],
   "source": [
    "query3 <- opq('minneapolis, MN') %>%\n",
    "  add_osm_feature(key = 'amenity', value = 'cinema')\n",
    "cinemas <- osmdata_sf(query3)\n",
    "cinemas_points <- cinemas$osm_points\n",
    "ggplot() +\n",
    "  geom_sf(data = cinemas_points$geometry) +\n",
    "  theme_minimal()\n",
    "cinemas_points_UTM <- st_transform(cinemas_points, \"+proj=utm +zone=15 +datum=WGS84\")\n"
   ]
  },
  {
   "cell_type": "markdown",
   "metadata": {
    "slideshow": {
     "slide_type": "skip"
    }
   },
   "source": [
    "Finally fetch the footprints (outlines, i.e. polygons) for commerical, retail and office buildings in Minneapolis. This may take some time, so be patient while waiting for the asterisk to change to a number."
   ]
  },
  {
   "cell_type": "code",
   "execution_count": null,
   "metadata": {
    "slideshow": {
     "slide_type": "skip"
    }
   },
   "outputs": [],
   "source": [
    "query4 <- opq('minneapolis, MN') %>%\n",
    "  add_osm_features (features = list (\n",
    "    \"building\" = \"commercial\",\n",
    "    \"building\" = \"retail\",\n",
    "    \"building\" = \"offices\"\n",
    "  ))\n",
    "\n",
    "buildings <- osmdata_sf(query4)\n",
    "buildings_polygons <- buildings$osm_polygons\n",
    "ggplot() +\n",
    "  geom_sf(data = buildings_polygons$geometry) +\n",
    "  theme_minimal()\n",
    "buildings_polygons_UTM <- st_transform(buildings_polygons, \"+proj=utm +zone=15 +datum=WGS84\")\n"
   ]
  },
  {
   "cell_type": "markdown",
   "metadata": {
    "slideshow": {
     "slide_type": "skip"
    }
   },
   "source": [
    "Now, we have all our data. Let's go back to the criteria so we can see how we need to manipulate these data.\n",
    "\n",
    "Recall that the candidate buildings should be:\n",
    "\n",
    "1. A building type of commercial, retail, or office building\n",
    "1. At least 400 meters from other coffee shops\n",
    "1. Close to a bikepath\n",
    "1. Close to a cinema\n",
    "\n",
    "OK, we've already taken care of criteria #1 by getting data about only buildings of these types. To do criteria #2 we need to create buffers..."
   ]
  },
  {
   "cell_type": "markdown",
   "metadata": {
    "slideshow": {
     "slide_type": "skip"
    }
   },
   "source": [
    "## Create buffers\n",
    "\n",
    "Buffers are used to define the area of influence of features. We'll buffer the coffee shops by 400m as an exclusion zone in which we don't want to select candidate sites. "
   ]
  },
  {
   "cell_type": "code",
   "execution_count": null,
   "metadata": {
    "slideshow": {
     "slide_type": "skip"
    }
   },
   "outputs": [],
   "source": [
    "buffered_coffee <- st_buffer(coffee_points_UTM, dist = 400)\n",
    "\n",
    "ggplot() +\n",
    "  geom_sf(data = coffee_points_UTM, color = \"blue\", alpha = 0.5) +\n",
    "  geom_sf(data = buffered_coffee, color = \"red\", fill = \"transparent\") +\n",
    "  coord_sf(crs = st_crs(coffee_points_UTM))"
   ]
  },
  {
   "cell_type": "markdown",
   "metadata": {
    "slideshow": {
     "slide_type": "skip"
    }
   },
   "source": [
    "Good. This plot shows all those areas that are within 400m buffer of existing coffee shops. We do not want to include buildings in these areas in our result. \n",
    "\n",
    "Now we need to deal with the final two criteria in which locations close to cinemas and bikepaths are more favorable than those that are farther away. Thus places nearby should have higher value in our site selection than places far away - we do this by assigning weights.\n",
    "\n",
    "## Assign weights\n",
    "\n",
    "There are many ways to assign weights in site suitability models. Since this is all vector data, we're going to assign weights by creating concentric buffers with declining value as distance from the feature increases. For example, we prefer places that are close to cinemas, so locations that are less than 500 m get a higher weight than places between 500 and 1000 m, and those get more than places 1000 to 1500m away. Anything futher than 1500 gets no weight at all! \n",
    "\n",
    "Let's see how this works with our Cinema data."
   ]
  },
  {
   "cell_type": "code",
   "execution_count": null,
   "metadata": {
    "slideshow": {
     "slide_type": "skip"
    }
   },
   "outputs": [],
   "source": [
    "cinemas500 <- st_buffer(cinemas_points_UTM, dist = 500)\n",
    "cinemas1000 <- st_buffer(cinemas_points_UTM, dist = 1000)\n",
    "cinemas1500 <- st_buffer(cinemas_points_UTM, dist = 1500)\n",
    "\n",
    "ggplot() +\n",
    "  geom_sf(data = cinemas_points_UTM, color = \"black\", alpha = 0.5) +\n",
    "  geom_sf(data = cinemas500, color = \"red\", fill = \"transparent\") +\n",
    "  geom_sf(data = cinemas1000, color = \"blue\", fill = \"transparent\") +\n",
    "  geom_sf(data = cinemas1500, color = \"green\", fill = \"transparent\") +\n",
    "  coord_sf(crs = st_crs(cinemas_points_UTM))  "
   ]
  },
  {
   "cell_type": "markdown",
   "metadata": {
    "slideshow": {
     "slide_type": "skip"
    }
   },
   "source": [
    "Note how the buffers nest inside of each other and some of them overlap. so next we need to perform a union operation to comine them. "
   ]
  },
  {
   "cell_type": "code",
   "execution_count": null,
   "metadata": {
    "slideshow": {
     "slide_type": "skip"
    }
   },
   "outputs": [],
   "source": [
    "cinemas500u <- st_union(cinemas500)\n",
    "cinemas1000u <- st_union(cinemas1000)\n",
    "cinemas1500u <- st_union(cinemas1500)\n",
    "\n",
    "ggplot() +\n",
    "  geom_sf(data = cinemas_points_UTM, color = \"black\", alpha = 0.5) +\n",
    "  geom_sf(data = cinemas500u, color = \"red\", fill = \"transparent\") +\n",
    "  geom_sf(data = cinemas1000u, color = \"blue\", fill = \"transparent\") +\n",
    "  geom_sf(data = cinemas1500u, color = \"green\", fill = \"transparent\") +\n",
    "  coord_sf(crs = st_crs(cinemas_points_UTM))  "
   ]
  },
  {
   "cell_type": "markdown",
   "metadata": {
    "slideshow": {
     "slide_type": "skip"
    }
   },
   "source": [
    "And now we need to difference them to make concentric bands. There's a lot of code below that's needed to make sure that the data is in the correct format. Feel free to just click run through the next code cell, watching the plot to see how the bands evolve. "
   ]
  },
  {
   "cell_type": "code",
   "execution_count": null,
   "metadata": {
    "slideshow": {
     "slide_type": "skip"
    }
   },
   "outputs": [],
   "source": [
    "cinemas3 <- st_sf(cinemas500u)\n",
    "plot1 <- ggplot() +\n",
    "  geom_sf(data = cinemas3, fill = \"green\")+\n",
    "  labs(title = \"Cinemas 500u\")\n",
    "\n",
    "cinemas2 <- st_difference(cinemas1000u, cinemas500u)\n",
    "cinemas2 <- st_sf(cinemas2)\n",
    "plot2 <- ggplot() +\n",
    "  geom_sf(data = cinemas2, fill = \"blue\") +\n",
    "  labs(title = \"Diff btw 1000 & 500\")\n",
    "\n",
    "cinemas1 <- st_difference(cinemas1500u, cinemas1000u)\n",
    "cinemas1 <- st_sf(cinemas1)\n",
    "plot3 <- ggplot() +\n",
    "  geom_sf(data = cinemas1, fill = \"red\") +\n",
    "  labs(title = \"Diff btw 1500 & 1000\")\n",
    "\n",
    "plot4 <- ggplot() +\n",
    "  geom_sf(data = cinemas3, fill = \"green\") +\n",
    "  geom_sf(data = cinemas2, fill = \"blue\") +\n",
    "  geom_sf(data = cinemas1, fill = \"red\") +\n",
    "  coord_sf(crs = st_crs(cinemas_points_UTM))  +\n",
    "  labs(title = \"Union\")\n",
    "\n",
    "grid.arrange(plot1, plot2, ncol = 2)\n",
    "grid.arrange(plot3, plot4, ncol = 2)"
   ]
  },
  {
   "cell_type": "markdown",
   "metadata": {
    "slideshow": {
     "slide_type": "skip"
    }
   },
   "source": [
    "Wasn't that cool? \n",
    "\n",
    "Now we'll assign weights to the concentric circles. Weights are 3 for the the inside circle, 2 for the middle band and 1 for the furthest away. Then we combine them into a single spatial polygon object. Once again, there's extra code to make sure the spatial objects have geometry and the right labels so they can be combined."
   ]
  },
  {
   "cell_type": "code",
   "execution_count": null,
   "metadata": {
    "slideshow": {
     "slide_type": "skip"
    }
   },
   "outputs": [],
   "source": [
    "cinemas3$weight <- 3\n",
    "cinemas2$weight <- 2\n",
    "cinemas1$weight <- 1\n",
    "\n",
    "cinemas1 <- st_set_geometry(cinemas1, \"buffgeom\")\n",
    "cinemas2 <- st_set_geometry(cinemas2, \"buffgeom\")\n",
    "cinemas3 <- st_set_geometry(cinemas3, \"buffgeom\")\n",
    "\n",
    "cinemas_w <- rbind(cinemas1, cinemas2, cinemas3)\n",
    "\n",
    "# Convert the buffgeom column to a spatial object\n",
    "cinemas_w_sf <- st_as_sf(cinemas_w, wkt = \"buffgeom\")\n",
    "\n",
    "# Create the plot data frame with the correct geometry column\n",
    "plot_data <- data.frame(geometry = cinemas_w_sf$buffgeom, weight = cinemas_w_sf$weight)\n",
    "\n",
    "# Plot the polygons with colors based on weight\n",
    "ggplot() +\n",
    "  geom_sf(data = plot_data, aes(geometry = geometry, fill = weight), color = \"black\") +\n",
    "  scale_fill_gradient(low = \"red\", high = \"green\") +\n",
    "  coord_sf() +\n",
    "  theme_minimal()"
   ]
  },
  {
   "cell_type": "markdown",
   "metadata": {
    "slideshow": {
     "slide_type": "skip"
    }
   },
   "source": [
    "Now we assign weights to the bikepaths/cycleways. We'll set only 2 weights - 2 for locations less than 150 m away and 1 for locations between 150 to 300m."
   ]
  },
  {
   "cell_type": "code",
   "execution_count": null,
   "metadata": {
    "slideshow": {
     "slide_type": "skip"
    }
   },
   "outputs": [],
   "source": [
    "cycleways150 <- st_buffer(cycleways_lines_UTM, dist = 150)\n",
    "cycleways300 <- st_buffer(cycleways_lines_UTM, dist = 300)\n",
    "\n",
    "cycleways150u <- st_union(cycleways150)\n",
    "cycleways300u <- st_union(cycleways300)\n",
    "\n",
    "cycleways2 <- st_sf(cycleways150u)\n",
    "\n",
    "p1 <- ggplot() +\n",
    "  geom_sf(data = cycleways2, fill = \"green\")\n",
    "\n",
    "cycleways1 <- st_difference(cycleways300u,cycleways150u)\n",
    "cycleways1 <- st_sf(cycleways1)\n",
    "\n",
    "p2 <- ggplot() +\n",
    "  geom_sf(data = cycleways1, fill = \"red\")\n",
    "\n",
    "cycleways2$weight <- 2\n",
    "cycleways1$weight <- 1\n",
    "\n",
    "cycleways1 <- st_set_geometry(cycleways1, \"buffgeom\")\n",
    "cycleways2 <- st_set_geometry(cycleways2, \"buffgeom\")\n",
    "\n",
    "cycleways_w <- rbind(cycleways1, cycleways2)\n",
    "\n",
    "cycleways_w_sf <- st_as_sf(cycleways_w, wkt = \"buffgeom\")\n",
    "plot_data <- data.frame(geometry = cycleways_w_sf$buffgeom, weight = cycleways_w_sf$weight)\n",
    "\n",
    "grid.arrange(p1, p2, ncol = 2)\n",
    "\n",
    "ggplot() +\n",
    "  geom_sf(data = plot_data, aes(geometry = geometry, fill = weight), color = \"black\") +\n",
    "  scale_fill_gradient(low = \"red\", high = \"green\") +\n",
    "  coord_sf() +\n",
    "  theme_minimal()\n"
   ]
  },
  {
   "cell_type": "markdown",
   "metadata": {
    "slideshow": {
     "slide_type": "skip"
    }
   },
   "source": [
    "## Intersect and sum values to find the highest value locations"
   ]
  },
  {
   "cell_type": "code",
   "execution_count": null,
   "metadata": {
    "slideshow": {
     "slide_type": "skip"
    }
   },
   "outputs": [],
   "source": [
    "new_cycleways_w_sf <- cycleways_w_sf\n",
    "\n",
    "merged_cafes <- st_union(buffered_coffee$geometry) #Union all polygons to a single Multipolygon\n",
    "# run a difference overlay to take out coffeeshops\n",
    "new_cycleways_w_sf$buffgeom <- sf::st_difference(cycleways_w_sf$buffgeom, merged_cafes) \n",
    "\n",
    "#rename column names and set geometry column\n",
    "colnames(new_cycleways_w_sf) <- c('weight_cy','geometry')\n",
    "new_cycleways_w_sf <- st_set_geometry(new_cycleways_w_sf, \"geometry\")\n",
    "colnames(cinemas_w_sf) <- c('weight_ci','geometry')\n",
    "cinemas_w_sf <- st_set_geometry(cinemas_w_sf, \"geometry\")\n",
    "\n",
    "# run an intersect overlay operation keeping the \"weight\" attributes\n",
    "st_agr(new_cycleways_w_sf) = \"constant\"\n",
    "st_agr(cinemas_w_sf) = \"constant\"\n",
    "res_union <- st_intersection(new_cycleways_w_sf, cinemas_w_sf)\n",
    "\n",
    "#sum up the weights\n",
    "res_union$final_weights <- as.integer(ifelse(is.na(res_union$weight_cy), 0, res_union$weight_cy)) +\n",
    "                           as.integer(ifelse(is.na(res_union$weight_ci), 0, res_union$weight_ci))\n",
    "\n",
    "# keep only the final_weights and geometry columns\n",
    "res_union <- subset(res_union, select = c(final_weights, geometry))\n",
    "colnames(res_union) <- c('weight','geometry') # rename the columns \n",
    "\n",
    "ggplot() +\n",
    "  geom_sf(data = res_union, aes(fill = weight)) +\n",
    "  theme_minimal() +\n",
    "  scale_fill_gradientn(colours = rev(heat.colors(10))) +\n",
    "  coord_sf() +\n",
    "  labs(fill = \"Weight\") +\n",
    "  theme(plot.title = element_text(size = 20),\n",
    "        axis.title = element_text(size = 14),\n",
    "        legend.title = element_text(size = 12),\n",
    "        legend.text = element_text(size = 10))"
   ]
  },
  {
   "cell_type": "markdown",
   "metadata": {
    "slideshow": {
     "slide_type": "skip"
    }
   },
   "source": [
    "Now we keep only the buildings that intersect with the map above! These buildings will be suitable for a coffee shop business!"
   ]
  },
  {
   "cell_type": "code",
   "execution_count": null,
   "metadata": {
    "slideshow": {
     "slide_type": "skip"
    }
   },
   "outputs": [],
   "source": [
    "st_agr(buildings_polygons_UTM) = \"constant\"\n",
    "st_agr(res_union) = \"constant\"\n",
    "\n",
    "sites <- st_intersection(res_union, buildings_polygons_UTM)\n",
    "ggplot() + geom_sf(data = sites) #Plot the result"
   ]
  },
  {
   "cell_type": "markdown",
   "metadata": {
    "slideshow": {
     "slide_type": "skip"
    }
   },
   "source": [
    "Visualize the final result on a folium interactive map.\n",
    "\n",
    "When you hover over each point or polygon, you’ll see the `type` and `area` of the footprint of the available building in square meters.\n",
    "\n",
    "Feel free to play with the map by zooming in and out, it's fun!"
   ]
  },
  {
   "cell_type": "code",
   "execution_count": null,
   "metadata": {
    "slideshow": {
     "slide_type": "skip"
    }
   },
   "outputs": [],
   "source": [
    "sites$geo_area <- sf::st_area(sites) # Calculate area\n",
    "sites <- sf::st_transform(sites, crs = 4326) # Transform to EPSG 4326\n",
    "st_agr(sites) = \"constant\"\n",
    "sites$centroid_geom <- sf::st_centroid(sites)$geometry # Calculate centroid\n",
    "coords <- st_coordinates(sites$centroid_geom)\n",
    "\n",
    "# Get the lat and lon for centroids\n",
    "sites$cent_lat <- coords[, \"Y\"]\n",
    "sites$cent_lon <- coords[, \"X\"]\n",
    "\n",
    "myIcon <- makeIcon(\n",
    "  iconUrl = 'https://github.com/hourofci/hourofci-system/blob/master/hourofci-demo/supplementary/hippo-hci-tiny.png?raw=true',  \n",
    "  iconWidth = 25, iconHeight = 25)\n",
    "\n",
    "map <- leaflet(sites) %>%\n",
    "  addProviderTiles(providers$Esri.NatGeoWorldMap) %>% # Add a basemap\n",
    "  addMarkers(lng = ~cent_lon, lat = ~cent_lat,\n",
    "             popup = ~geo_area,\n",
    "            label = paste(\"Area: \", sites$geo_area, \"  \", \"Type: \", sites$building),\n",
    "             icon = myIcon\n",
    "            )%>% \n",
    "    addPolygons(data = sites$geometry, \n",
    "              weight = 2, \n",
    "              opacity = 1,\n",
    "              color = \"red\", \n",
    "              dashArray = \"3\", \n",
    "              fillOpacity = 0.7, \n",
    "              highlightOptions = highlightOptions( \n",
    "                weight = 5,\n",
    "                color = \"#666\",\n",
    "                dashArray = \"\",\n",
    "                fillOpacity = 0.7,\n",
    "                bringToFront = TRUE), \n",
    "              label = paste(\"<strong>Area</strong>: \", \n",
    "                            sites$geo_area, \"<br>\",\n",
    "                            \"<strong>Type</strong>: \",\n",
    "                            sites$building) %>% \n",
    "                lapply(htmltools::HTML), \n",
    "                labelOptions = labelOptions(\n",
    "                style = list(\"font-weight\" = \"normal\", padding = \"3px 8px\"),\n",
    "                textsize = \"15px\",\n",
    "                direction = \"auto\"))\n",
    "\n",
    "map"
   ]
  },
  {
   "cell_type": "markdown",
   "metadata": {
    "slideshow": {
     "slide_type": "skip"
    }
   },
   "source": [
    "# Congratulations!\n",
    "\n",
    "\n",
    "**You have finished an Hour of CI!**\n",
    "\n",
    "If you would like a certificate, please <font size=\"+1\"><a style=\"background-color:blue;color:white;padding:3px;margin:2px;font-weight:bold;\" href=\"sma-certificate.ipynb\">click here.</a></font>\n"
   ]
  }
 ],
 "metadata": {
  "celltoolbar": "Slideshow",
  "kernelspec": {
   "display_name": "R [conda env:iguide-ewd-r]",
   "language": "R",
   "name": "conda-env-iguide-ewd-r-r"
  },
  "language_info": {
   "codemirror_mode": "r",
   "file_extension": ".r",
   "mimetype": "text/x-r-source",
   "name": "R",
   "pygments_lexer": "r",
   "version": "4.3.1"
  },
  "rise": {
   "autolaunch": false,
   "overlay": "<div class='hciheader'></div><div class='hcifooter'></div>",
   "scroll": true
  },
  "varInspector": {
   "cols": {
    "lenName": 16,
    "lenType": 16,
    "lenVar": 40
   },
   "kernels_config": {
    "python": {
     "delete_cmd_postfix": "",
     "delete_cmd_prefix": "del ",
     "library": "var_list.py",
     "varRefreshCmd": "print(var_dic_list())"
    },
    "r": {
     "delete_cmd_postfix": ") ",
     "delete_cmd_prefix": "rm(",
     "library": "var_list.r",
     "varRefreshCmd": "cat(var_dic_list()) "
    }
   },
   "types_to_exclude": [
    "module",
    "function",
    "builtin_function_or_method",
    "instance",
    "_Feature"
   ],
   "window_display": false
  }
 },
 "nbformat": 4,
 "nbformat_minor": 4
}
