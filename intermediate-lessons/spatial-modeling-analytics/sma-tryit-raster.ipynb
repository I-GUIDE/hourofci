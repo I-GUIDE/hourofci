{
 "cells": [
  {
   "cell_type": "markdown",
   "metadata": {
    "slideshow": {
     "slide_type": "slide"
    }
   },
   "source": [
    "# Spatial Modeling and Analytics\n",
    "\n",
    "## Try it 1 - Exploring Raster Data in R"
   ]
  },
  {
   "cell_type": "markdown",
   "metadata": {
    "slideshow": {
     "slide_type": "slide"
    }
   },
   "source": [
    "Now we wil drop into the Notebook view and take a look at some R code to display and analyze raster data. \n",
    "\n",
    "Click the big X in the top left corner. then click on the Run button on each cell below. "
   ]
  },
  {
   "cell_type": "code",
   "execution_count": null,
   "metadata": {
    "scrolled": true,
    "slideshow": {
     "slide_type": "skip"
    }
   },
   "outputs": [],
   "source": [
    "##Import some R libraries\n",
    "library(geodata)\n",
    "library(ggplot2)\n",
    "library(raster)\n",
    "library(terra)\n",
    "library(tidyr)"
   ]
  },
  {
   "cell_type": "markdown",
   "metadata": {
    "slideshow": {
     "slide_type": "skip"
    }
   },
   "source": [
    "Now we'll get some climate data from the Australian Community Climate and Earth System Simulator (ACCESS - https://research.csiro.au/access/). This code gets global max temperature predictions by month for the period 2061 through 2088."
   ]
  },
  {
   "cell_type": "code",
   "execution_count": null,
   "metadata": {
    "scrolled": false,
    "slideshow": {
     "slide_type": "skip"
    }
   },
   "outputs": [],
   "source": [
    "tmax.raster <- cmip6_world(\"ACCESS-ESM1-5\", \"126\", \"2061-2080\", var=\"tmax\", res=5,\n",
    "                     path=tempdir())\n",
    "plot(tmax.raster)"
   ]
  },
  {
   "cell_type": "markdown",
   "metadata": {
    "slideshow": {
     "slide_type": "skip"
    }
   },
   "source": [
    "Now we can look at the raster information."
   ]
  },
  {
   "cell_type": "code",
   "execution_count": null,
   "metadata": {
    "scrolled": true,
    "slideshow": {
     "slide_type": "skip"
    }
   },
   "outputs": [],
   "source": [
    "tmax.raster"
   ]
  },
  {
   "cell_type": "markdown",
   "metadata": {
    "slideshow": {
     "slide_type": "skip"
    }
   },
   "source": [
    "Now we subset this data to only the continental US between 24-49 N lat and 67-125 W lat."
   ]
  },
  {
   "cell_type": "code",
   "execution_count": null,
   "metadata": {
    "scrolled": false,
    "slideshow": {
     "slide_type": "skip"
    }
   },
   "outputs": [],
   "source": [
    "## Define a Bounding Box Over CONUS\n",
    "bbox <- ext(-124.736342, -66.945392,  24.521208, 49.382808)\n",
    "tmax.raster.subset <- crop(tmax.raster, bbox)\n",
    "\n",
    "plot(tmax.raster.subset)"
   ]
  },
  {
   "cell_type": "markdown",
   "metadata": {
    "slideshow": {
     "slide_type": "skip"
    }
   },
   "source": [
    "Or we can subset the data by extracting out some of the 12 bands (i.e. months). After running the following code, we have only Jan, Feb and Mar. What line from the output tells you this?"
   ]
  },
  {
   "cell_type": "code",
   "execution_count": null,
   "metadata": {
    "slideshow": {
     "slide_type": "skip"
    }
   },
   "outputs": [],
   "source": [
    "### Subset Bands\n",
    "tmax.raster.b1_3 <- subset(tmax.raster, 1:3)\n",
    "tmax.raster.b1_3"
   ]
  },
  {
   "cell_type": "code",
   "execution_count": null,
   "metadata": {
    "scrolled": true,
    "slideshow": {
     "slide_type": "skip"
    }
   },
   "outputs": [],
   "source": [
    "## Compute Summary Statistics\n",
    "tmax.stdev <- stdev(tmax.raster.subset)\n",
    "plot(tmax.stdev, main = \"Standard Deviation of Max. Temperature over 20 years\")"
   ]
  },
  {
   "cell_type": "code",
   "execution_count": null,
   "metadata": {
    "scrolled": true,
    "slideshow": {
     "slide_type": "skip"
    }
   },
   "outputs": [],
   "source": [
    "## Filter Pixels by Value\n",
    "tmax.stdev.levels <- clamp(tmax.stdev, lower=10, upper=Inf)\n",
    "plot(tmax.stdev.levels, main = \"Areas of High Standard Deviation of Max. Temperature over 20 years\")"
   ]
  },
  {
   "cell_type": "markdown",
   "metadata": {
    "slideshow": {
     "slide_type": "skip"
    }
   },
   "source": [
    "<font size=\"+1\"><a style=\"background-color:blue;color:white;padding:12px;margin:10px;font-weight:bold;\" \n",
    "href=\"sma-tryit-vector.ipynb\">Click here to go the next notebook</a></font>"
   ]
  }
 ],
 "metadata": {
  "celltoolbar": "Slideshow",
  "kernelspec": {
   "display_name": "R [conda env:iguide-ewd-r]",
   "language": "R",
   "name": "conda-env-iguide-ewd-r-r"
  },
  "language_info": {
   "codemirror_mode": "r",
   "file_extension": ".r",
   "mimetype": "text/x-r-source",
   "name": "R",
   "pygments_lexer": "r",
   "version": "4.3.1"
  },
  "rise": {
   "autolaunch": true,
   "overlay": "<div class='hciheader'></div><div class='hcifooter'></div>",
   "scroll": true
  },
  "varInspector": {
   "cols": {
    "lenName": 16,
    "lenType": 16,
    "lenVar": 40
   },
   "kernels_config": {
    "python": {
     "delete_cmd_postfix": "",
     "delete_cmd_prefix": "del ",
     "library": "var_list.py",
     "varRefreshCmd": "print(var_dic_list())"
    },
    "r": {
     "delete_cmd_postfix": ") ",
     "delete_cmd_prefix": "rm(",
     "library": "var_list.r",
     "varRefreshCmd": "cat(var_dic_list()) "
    }
   },
   "types_to_exclude": [
    "module",
    "function",
    "builtin_function_or_method",
    "instance",
    "_Feature"
   ],
   "window_display": false
  }
 },
 "nbformat": 4,
 "nbformat_minor": 4
}
