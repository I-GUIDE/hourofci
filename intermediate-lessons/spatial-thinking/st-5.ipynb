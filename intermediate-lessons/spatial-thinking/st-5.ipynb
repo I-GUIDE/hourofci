{
 "cells": [
  {
   "cell_type": "markdown",
   "id": "0b37aa23",
   "metadata": {},
   "source": [
    "## Intermediate Spatial Thinking \n",
    "\n",
    "# Exploration\n",
    "\n",
    "Now, it is your turn to explore with different criteria weights to see how things are changing.  Try changing weights (e.g. each of them can be equal this time) and compare the outputs. How do the maps differ? This will be your playground to explore and reinforce what you have learned during the Intermediate Spatial Thinking lesson.\n",
    "\n",
    "<b>Note</b>: Do not forget to make sure your weights add up to 1.\n"
   ]
  },
  {
   "cell_type": "markdown",
   "id": "7576ff0d",
   "metadata": {},
   "source": [
    "### Read the criteria layers and standardize them"
   ]
  },
  {
   "cell_type": "code",
   "execution_count": null,
   "id": "b667cb29",
   "metadata": {},
   "outputs": [],
   "source": [
    "import numpy as np\n",
    "\n",
    "for i in range(1, 6):\n",
    "    nArray = np.loadtxt(\"supplementary/n\"+str(i)+\".txt\", skiprows=6)\n",
    "    masked_nArray = np.ma.array(nArray, mask=(nArray==-9999))\n",
    "    nmax = masked_nArray.max() \n",
    "    nmin = masked_nArray.min()\n",
    "\n",
    "    nrange = nmax- nmin \n",
    "    standardizednArray = (masked_nArray - nmin)/nrange\n",
    "    nstdmax = standardizednArray.max() \n",
    "    nstdmin = standardizednArray.min()\n",
    "    print(\"Standardized max is : \" +str(nstdmax)+ \" and standardized min is : \"+str(nstdmin)) \n",
    "    np. savetxt(\"supplementary/stdn\"+str(i)+\".txt\", standardizednArray, fmt='%1.3f', delimiter=' ')"
   ]
  },
  {
   "cell_type": "markdown",
   "id": "287d6e1f",
   "metadata": {},
   "source": [
    "### Read the criteria weights (change them if you wish, but make sure they add up to 1)"
   ]
  },
  {
   "cell_type": "code",
   "execution_count": null,
   "id": "6d5bef15",
   "metadata": {},
   "outputs": [],
   "source": [
    "# make the figure with subplots\n",
    "weight_list = [0.2, 0.2, 0.2, 0.2, 0.2]"
   ]
  },
  {
   "cell_type": "code",
   "execution_count": null,
   "id": "f562a7d2",
   "metadata": {},
   "outputs": [],
   "source": [
    "print(\"Weight sum is equal to %5.2f\" %(sum(weight_list)))"
   ]
  },
  {
   "cell_type": "markdown",
   "id": "cd9cf14a",
   "metadata": {},
   "source": [
    " ### Generate the weighted layers"
   ]
  },
  {
   "cell_type": "code",
   "execution_count": null,
   "id": "c1841139",
   "metadata": {},
   "outputs": [],
   "source": [
    "import matplotlib.pyplot as plt\n",
    "\n",
    "plt.figure(figsize=(20, 20))\n",
    "for i in range(1, len(weight_list)+1):\n",
    "  \n",
    "    C = np.loadtxt(\"supplementary/stdn\"+str(i)+\".txt\") \n",
    "    C = np.ma.array(C, mask=(C==-9999)) \n",
    "    weighted_std= weight_list[i-1]*C\n",
    "    plt.title(\"Weighted N\"+str(i-1))\n",
    "    plt.subplot(3,2,i)\n",
    "    plt.imshow(weighted_std)\n",
    "    plt.axis('off')\n",
    "    plt.colorbar()"
   ]
  },
  {
   "cell_type": "markdown",
   "id": "8bd48de0",
   "metadata": {},
   "source": [
    "### Calculate the weighted overlay"
   ]
  },
  {
   "cell_type": "code",
   "execution_count": null,
   "id": "df452896",
   "metadata": {
    "scrolled": true
   },
   "outputs": [],
   "source": [
    "from scipy.stats import rankdata\n",
    "\n",
    "overall = np.empty((1314,1308))\n",
    "overall = np.ma.array(overall, mask=(overall==-9999)) \n",
    "\n",
    "for i in range(1, len(weight_list)+1):\n",
    "    C = np.loadtxt(\"supplementary/stdn\"+str(i)+\".txt\") \n",
    "    C = np.ma.array(C, mask=(C==-9999)) \n",
    "    weighted_std= weight_list[i-1]*C\n",
    "    overall += weighted_std\n",
    "ranked_overall = rankdata(overall, method='dense').reshape(overall.shape)\n",
    "\n",
    "print (\"Maximum overall EBI Score is : %5.2f\" %(overall.max()))\n",
    "print(\"The EBI Scores range from \"+str(ranked_overall.min())+\" to \" +str(ranked_overall.max()))\n",
    "print(\"The best cell is located at row \" +str(np.argmax(np.max(ranked_overall, axis=1)))+ \" and column \" +\\\n",
    "     str(np.argmax(np.max(ranked_overall, axis=0))))\n",
    "print(\"And finally that cell's EBI Score is :  %5.2f\" %(overall[np.argmax(np.max(ranked_overall, axis=1))]\\\n",
    "     [np.argmax(np.max(ranked_overall, axis=0))]))"
   ]
  }
 ],
 "metadata": {
  "kernelspec": {
   "display_name": "Python 3 (ipykernel)",
   "language": "python",
   "name": "python3"
  },
  "language_info": {
   "codemirror_mode": {
    "name": "ipython",
    "version": 3
   },
   "file_extension": ".py",
   "mimetype": "text/x-python",
   "name": "python",
   "nbconvert_exporter": "python",
   "pygments_lexer": "ipython3",
   "version": "3.8.1"
  }
 },
 "nbformat": 4,
 "nbformat_minor": 5
}
