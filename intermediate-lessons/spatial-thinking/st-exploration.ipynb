{
 "cells": [
  {
   "cell_type": "markdown",
   "id": "0b37aa23",
   "metadata": {},
   "source": [
    "## Intermediate Spatial Thinking \n",
    "\n",
    "### Segment 4 of 4\n",
    "# Exploration\n",
    "\n",
    "Now, it is your turn to explore with different criteria weights to see how things are changing.  Try changing weights (e.g. each of them can be equal this time) and compare the outputs. How do the maps differ? This will be your playground to explore and reinforce what you have learned during the Intermediate Spatial Thinking lesson.\n",
    "\n",
    "<b>Note</b>: Do not forget to make sure your weights add up to 1.\n"
   ]
  },
  {
   "cell_type": "code",
   "execution_count": null,
   "id": "8ba7660f",
   "metadata": {
    "hide_input": true,
    "init_cell": true,
    "slideshow": {
     "slide_type": "skip"
    },
    "tags": [
     "Hide"
    ]
   },
   "outputs": [],
   "source": [
    "# This code cell starts the necessary setup for Hour of CI lesson notebooks.\n",
    "# First, it enables users to hide and unhide code by producing a 'Toggle raw code' button below.\n",
    "# Second, it imports the hourofci package, which is necessary for lessons and interactive Jupyter Widgets.\n",
    "# Third, it helps hide/control other aspects of Jupyter Notebooks to improve the user experience\n",
    "# This is an initialization cell\n",
    "# It is not displayed because the Slide Type is 'Skip'\n",
    "\n",
    "from IPython.display import HTML, IFrame, Javascript, display, clear_output\n",
    "from ipywidgets import interactive, Textarea, HBox, Button, Layout\n",
    "import ipywidgets as widgets\n",
    "from ipywidgets import Layout\n",
    "\n",
    "import getpass # This library allows us to get the username (User agent string)\n",
    "\n",
    "# import package for hourofci project\n",
    "import sys\n",
    "sys.path.append('../../supplementary') # relative path (may change depending on the location of the lesson notebook)\n",
    "import hourofci\n",
    "\n",
    "\n",
    "# load javascript to initialize/hide cells, get user agent string, and hide output indicator\n",
    "# hide code by introducing a toggle button \"Toggle raw code\"\n",
    "HTML(''' \n",
    "    <script type=\"text/javascript\" src=\\\"../../supplementary/js/custom.js\\\"></script>\n",
    "    \n",
    "    <style>\n",
    "        .output_prompt{opacity:0;}\n",
    "    </style>\n",
    "    \n",
    "    <input id=\"toggle_code\" type=\"button\" value=\"Toggle raw code\">\n",
    "''')"
   ]
  },
  {
   "cell_type": "markdown",
   "id": "7576ff0d",
   "metadata": {},
   "source": [
    "### Read the criteria layers and standardize them"
   ]
  },
  {
   "cell_type": "code",
   "execution_count": null,
   "id": "b667cb29",
   "metadata": {},
   "outputs": [],
   "source": [
    "import numpy as np\n",
    "import numpy.ma as ma                                        \n",
    "\n",
    "for i in range(1, 6):\n",
    "    nArray = np.loadtxt(\"supplementary/n\"+str(i)+\".txt\", skiprows=6)\n",
    "    masked_nArray = ma.masked_array(nArray, mask=(nArray==-9999))  ### UPDATED\n",
    "    nmax = masked_nArray.max() \n",
    "    nmin = masked_nArray.min()\n",
    "\n",
    "    nrange = nmax- nmin \n",
    "    standardizednArray = (masked_nArray - nmin)/nrange\n",
    "    nstdmax = standardizednArray.max() \n",
    "    nstdmin = standardizednArray.min()\n",
    "    print(\"Standardized max is : \" +str(nstdmax)+ \" and standardized min is : \"+str(nstdmin)) \n",
    "    np. savetxt(\"supplementary/stdn\"+str(i)+\".txt\", standardizednArray, fmt='%1.3f', delimiter=' ')"
   ]
  },
  {
   "cell_type": "markdown",
   "id": "287d6e1f",
   "metadata": {},
   "source": [
    "### Read the criteria weights (change them if you wish, but make sure they add up to 1)"
   ]
  },
  {
   "cell_type": "code",
   "execution_count": null,
   "id": "6d5bef15",
   "metadata": {},
   "outputs": [],
   "source": [
    "# make the figure with subplots\n",
    "weight_list = [0.2, 0.2, 0.2, 0.2, 0.2]"
   ]
  },
  {
   "cell_type": "code",
   "execution_count": null,
   "id": "f562a7d2",
   "metadata": {},
   "outputs": [],
   "source": [
    "print(\"Weight sum is equal to %5.2f\" %(sum(weight_list)))"
   ]
  },
  {
   "cell_type": "markdown",
   "id": "cd9cf14a",
   "metadata": {},
   "source": [
    " ### Generate the weighted layers"
   ]
  },
  {
   "cell_type": "code",
   "execution_count": null,
   "id": "c1841139",
   "metadata": {},
   "outputs": [],
   "source": [
    "import matplotlib.pyplot as plt\n",
    "\n",
    "plt.figure(figsize=(20, 20))\n",
    "for i in range(1, len(weight_list)+1):\n",
    "  \n",
    "    C = np.loadtxt(\"supplementary/stdn\"+str(i)+\".txt\") \n",
    "    C = np.ma.masked_array(C, mask=(C==-9999))     #UPDATED\n",
    "    weighted_std= weight_list[i-1]*C\n",
    "    plt.title(\"Weighted N\"+str(i-1))\n",
    "    plt.subplot(3,2,i)\n",
    "    plt.imshow(weighted_std)\n",
    "    plt.axis('off')\n",
    "    plt.colorbar()"
   ]
  },
  {
   "cell_type": "markdown",
   "id": "8bd48de0",
   "metadata": {},
   "source": [
    "### Calculate the weighted overlay"
   ]
  },
  {
   "cell_type": "code",
   "execution_count": null,
   "id": "8e4d1680",
   "metadata": {},
   "outputs": [],
   "source": [
    "from scipy.stats import rankdata\n",
    "\n",
    "weight_list = [0.2, 0.3, 0.5]\n",
    "C_shape = (1314, 1308)\n",
    "overall = ma.zeros(C_shape, dtype=np.float64)\n",
    "\n",
    "for i in range(1, len(weight_list) + 1):\n",
    "    C = np.loadtxt(\"supplementary/stdn\" + str(i) + \".txt\")\n",
    "    C = ma.masked_array(C, mask=(C == -9999))\n",
    "    weighted_std = weight_list[i-1] * C\n",
    "    overall += weighted_std\n",
    "    \n",
    "overall = overall.round(decimals=2)\n",
    "ranked_overall = rankdata(overall, method='dense').reshape(overall.shape)\n",
    "\n",
    "max_idx = np.unravel_index(np.argmax(ranked_overall, axis=None), ranked_overall.shape)\n",
    "\n",
    "print(f\"Maximum overall EBI Score is: {overall.max():.2f}\")\n",
    "print(f\"The EBI Scores range from {ranked_overall.min()} to {ranked_overall.max()}\")\n",
    "print(f\"The best cell is located at row {max_idx[0]} and column {max_idx[1]}\")\n",
    "\n",
    "best_cell_score = overall[max_idx] if ma.is_masked(overall[max_idx]) else np.nan\n",
    "print(f\"And finally that cell's EBI Score is: {best_cell_score:.2f}\")\n"
   ]
  },
  {
   "cell_type": "markdown",
   "id": "4f9dd5c8",
   "metadata": {},
   "source": [
    "## Congratulations!\n",
    "\n",
    "You have finished an Hour of CI on Spatial Thinking! In this lesson,  we:\n",
    "\n",
    "* Outlined the components of spatial thinking (space, representation, and reasoning)\n",
    "* Deconstructed the characteristics of multiple criteria spatial decision making problems (goals, objectives, attributes)\n",
    "* Experimented with the multi-criteria decision making method on a spatial decision problem"
   ]
  },
  {
   "cell_type": "markdown",
   "id": "afe82f1d",
   "metadata": {},
   "source": [
    "If you would like a certificate, then please type your name below and click \"Create Certificate\" and you will be presented with a PDF certificate."
   ]
  },
  {
   "cell_type": "code",
   "execution_count": 29,
   "id": "d535a597",
   "metadata": {
    "hide_input": true,
    "slideshow": {
     "slide_type": "-"
    },
    "tags": [
     "Hide",
     "Init"
    ]
   },
   "outputs": [
    {
     "data": {
      "application/vnd.jupyter.widget-view+json": {
       "model_id": "4790f3f907af4408ad0f0910253807bd",
       "version_major": 2,
       "version_minor": 0
      },
      "text/plain": [
       "interactive(children=(Text(value='Your Name', continuous_update=False, description='name'), Button(description…"
      ]
     },
     "metadata": {},
     "output_type": "display_data"
    }
   ],
   "source": [
    "\n",
    "# This code cell loads the Interact Textbox that will ask users for their name\n",
    "# Once they click \"Create Certificate\" then it will add their name to the certificate template\n",
    "# And present them a PDF certificate\n",
    "from PIL import Image\n",
    "from PIL import ImageFont\n",
    "from PIL import ImageDraw\n",
    "\n",
    "from ipywidgets import interact\n",
    "\n",
    "def make_cert(learner_name, lesson_name):\n",
    "    cert_filename = 'hourofci_certificate.pdf'\n",
    "\n",
    "    img = Image.open(\"../../supplementary/hci-certificate-template.jpg\")\n",
    "    draw = ImageDraw.Draw(img)\n",
    "\n",
    "    cert_font   = ImageFont.truetype('../../supplementary/cruft.ttf', 150)\n",
    "    cert_fontsm = ImageFont.truetype('../../supplementary/cruft.ttf', 80)\n",
    "    \n",
    "    _,_,w,h = cert_font.getbbox(learner_name)  \n",
    "    draw.text( xy = (1650-w/2,1100-h/2), text = learner_name, fill=(0,0,0),font=cert_font)\n",
    "    \n",
    "    _,_,w,h = cert_fontsm.getbbox(lesson_name)\n",
    "    draw.text( xy = (1650-w/2,1100-h/2 + 750), text = lesson_name, fill=(0,0,0),font=cert_fontsm)\n",
    "    \n",
    "    img.save(cert_filename, \"PDF\", resolution=100.0)   \n",
    "    return cert_filename\n",
    "\n",
    "\n",
    "interact_cert=interact.options(manual=True, manual_name=\"Create Certificate\")\n",
    "\n",
    "@interact_cert(name=\"Your Name\")\n",
    "def f(name):\n",
    "    print(\"Congratulations\",name)\n",
    "    filename = make_cert(name, 'Intermediate Spatial Thinking')\n",
    "    print(\"Download your certificate by clicking the link below.\")\n",
    "    \n",
    "    \n",
    "    "
   ]
  },
  {
   "cell_type": "markdown",
   "id": "911f47b9",
   "metadata": {},
   "source": [
    "\n",
    "<font size=\"+1\"><a style=\"background-color:blue;color:white;padding:12px;margin:10px;font-weight:bold;\" href=\"hourofci_certificate.pdf?download=1\" download=\"hourofci_certificate.pdf\">Download your certificate</a></font>\n",
    "\n",
    "\n"
   ]
  }
 ],
 "metadata": {
  "celltoolbar": "Slideshow",
  "kernelspec": {
   "display_name": "Python [conda env:iguide-ewd]",
   "language": "python",
   "name": "conda-env-iguide-ewd-py"
  },
  "language_info": {
   "codemirror_mode": {
    "name": "ipython",
    "version": 3
   },
   "file_extension": ".py",
   "mimetype": "text/x-python",
   "name": "python",
   "nbconvert_exporter": "python",
   "pygments_lexer": "ipython3",
   "version": "3.10.11"
  },
  "rise": {
   "autolaunch": true,
   "overlay": "<div class='hciheader'></div><div class='hcifooter'></div>",
   "scroll": true
  },
  "varInspector": {
   "cols": {
    "lenName": 16,
    "lenType": 16,
    "lenVar": 40
   },
   "kernels_config": {
    "python": {
     "delete_cmd_postfix": "",
     "delete_cmd_prefix": "del ",
     "library": "var_list.py",
     "varRefreshCmd": "print(var_dic_list())"
    },
    "r": {
     "delete_cmd_postfix": ") ",
     "delete_cmd_prefix": "rm(",
     "library": "var_list.r",
     "varRefreshCmd": "cat(var_dic_list()) "
    }
   },
   "types_to_exclude": [
    "module",
    "function",
    "builtin_function_or_method",
    "instance",
    "_Feature"
   ],
   "window_display": false
  }
 },
 "nbformat": 4,
 "nbformat_minor": 5
}
