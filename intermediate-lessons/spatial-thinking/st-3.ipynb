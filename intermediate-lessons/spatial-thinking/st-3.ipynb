{
 "cells": [
  {
   "cell_type": "markdown",
   "metadata": {
    "slideshow": {
     "slide_type": "slide"
    }
   },
   "source": [
    "## Spatial Thinking\n",
    "\n",
    "### Part 2 of 5\n",
    "# Spatial Decision Making"
   ]
  },
  {
   "cell_type": "markdown",
   "metadata": {
    "slideshow": {
     "slide_type": "slide"
    }
   },
   "source": [
    "## Reminder\n",
    "<a href=\"#/slide-2-0\" class=\"navigate-right\" style=\"background-color:blue;color:white;padding:8px;margin:2px;font-weight:bold;\">Continue with the lesson</a>\n",
    "\n",
    "<br>\n",
    "</br>\n",
    "<font size=\"+1\">\n",
    "\n",
    "By continuing with this lesson you are granting your permission to take part in this research study for the Hour of Cyberinfrastructure: Developing Cyber Literacy for GIScience project. In this study, you will be learning about cyberinfrastructure and related concepts using a web-based platform that will take approximately one hour per lesson. Participation in this study is voluntary.\n",
    "\n",
    "Participants in this research must be 18 years or older. If you are under the age of 18 then please exit this webpage or navigate to another website such as the Hour of Code at https://hourofcode.com, which is designed for K-12 students.\n",
    "\n",
    "If you are not interested in participating please exit the browser or navigate to this website: http://www.umn.edu. Your participation is voluntary and you are free to stop the lesson at any time.\n",
    "\n",
    "For the full description please navigate to this website: <a href=\"../../gateway-lesson/gateway/gateway-1.ipynb\">Gateway Lesson Research Study Permission</a>.\n",
    "\n",
    "</font>"
   ]
  },
  {
   "cell_type": "code",
   "execution_count": null,
   "metadata": {
    "hide_input": true,
    "init_cell": true,
    "slideshow": {
     "slide_type": "skip"
    },
    "tags": [
     "Hide"
    ]
   },
   "outputs": [],
   "source": [
    "# This code cell starts the necessary setup for Hour of CI lesson notebooks.\n",
    "# First, it enables users to hide and unhide code by producing a 'Toggle raw code' button below.\n",
    "# Second, it imports the hourofci package, which is necessary for lessons and interactive Jupyter Widgets.\n",
    "# Third, it helps hide/control other aspects of Jupyter Notebooks to improve the user experience\n",
    "# This is an initialization cell\n",
    "# It is not displayed because the Slide Type is 'Skip'\n",
    "\n",
    "from IPython.display import HTML, IFrame, Javascript, display, clear_output\n",
    "from ipywidgets import interactive, Textarea, HBox, Button, Layout\n",
    "import ipywidgets as widgets\n",
    "from ipywidgets import Layout\n",
    "\n",
    "import getpass # This library allows us to get the username (User agent string)\n",
    "\n",
    "# import package for hourofci project\n",
    "import sys\n",
    "sys.path.append('../../supplementary') # relative path (may change depending on the location of the lesson notebook)\n",
    "import hourofci\n",
    "\n",
    "\n",
    "# load javascript to initialize/hide cells, get user agent string, and hide output indicator\n",
    "# hide code by introducing a toggle button \"Toggle raw code\"\n",
    "HTML(''' \n",
    "    <script type=\"text/javascript\" src=\\\"../../supplementary/js/custom.js\\\"></script>\n",
    "    \n",
    "    <style>\n",
    "        .output_prompt{opacity:0;}\n",
    "    </style>\n",
    "    \n",
    "    <input id=\"toggle_code\" type=\"button\" value=\"Toggle raw code\">\n",
    "''')"
   ]
  },
  {
   "cell_type": "markdown",
   "metadata": {
    "slideshow": {
     "slide_type": "slide"
    }
   },
   "source": [
    "## Spatial Decision Making\n",
    "After seeing the components of spatial thinking, now we can move to the next phase of learning more about how we can use this power to solve our spatial decision problems. \n",
    "\n",
    "Any decision problem with a spatial component can be considered as a spatial decision making problem. Sometimes they are so obvious because the final output is a spatial entity but sometimes the intermediate steps make it a spatial decision itself.\n",
    "\n",
    "In this lecture we will focus on decision problems where we have multiple decision criteria. \n",
    "\n",
    "Let's see what are the characteristics of multiple criteria decision making, what makes them unique?\n"
   ]
  },
  {
   "cell_type": "markdown",
   "metadata": {
    "slideshow": {
     "slide_type": "slide"
    }
   },
   "source": [
    "## Characteristics of Spatial Decision-Making Problems\n",
    "<p style=\"background: #fff; text-align: left; font-size: 23px;\">The roots of multiple criteria decision making can be traced back to the 18th century although it wasn’t spatial back then! It is used combining conflicting criteria into a single score.</p> \n",
    "<table>\n",
    "    <tr style=\"background: #fff; text-align: left; vertical-align:\">\n",
    "        <td style=\"background: #fff; text-align: left; font-size: 23px;\">\n",
    "            Benjamin Franklin used a simple paper system (<i>pro et contra</i> Latin for <i>“for and against”</i>) for deciding important issues; favors on one side and against on the other. By striking out the arguments on each side with the same ranking, he determined the remaining arguments to be supported.\n",
    "\n",
    "In the 1960s, with the advances of computer-based mathematical programming and GIS , spatial thinking became a practical approach for spatial decision making and planning.\n",
    "</td>\n",
    "        <td style=\"width: 50%; background: #fff; text-align: left; vertical-align: top;\"> <img src='supplementary/prosncons.png' width=\"700\" height=\"900\" alt='map'></td>\n",
    "    </tr>\n",
    "</table>"
   ]
  },
  {
   "cell_type": "markdown",
   "metadata": {
    "slideshow": {
     "slide_type": "slide"
    }
   },
   "source": [
    "## Spatially Explicit\n",
    "Each <b>spatial decision</b> should have a <b>spatial characteristic</b>. \n",
    "\n",
    "<br/>\n",
    "Michael Goodchild, in his  “GIScience, geography, form, and process” paper, suggests that there are four tests that can be used to determine if a model is <b>spatially explicit</b>:\n",
    "<ol>\n",
    "    <li>Change in the ranking of decision alternatives are directly related to change in spatial pattern of these alternatives\n",
    "    </li>\n",
    "    <li>Decision alternatives can be geographically defined - not just “what to do?” but also “where to do it?”\n",
    "    </li>\n",
    "    <li>Spatial concepts such as location, distance, contiguity, connectivity, adjacency, or direction should exists\n",
    "    </li>\n",
    "    <li>Output of the decision outcome should be represented spatially\n",
    "    </li>\n",
    "</ol>\n",
    "<i>Goodchild, M. F. (2004). GIScience, geography, form, and process. Annals of the Association of American Geographers, 94 (4), 709 – 714.</i>\n"
   ]
  },
  {
   "cell_type": "markdown",
   "metadata": {
    "slideshow": {
     "slide_type": "slide"
    }
   },
   "source": [
    "## Hierarchical Structure of a Decision Problem\n",
    "<p style=\"background: #fff; text-align: left; font-size: 23px;\">When we try to make our spatial decisions, we first need to identify our <b>goal</b> or <b>goals</b>. A decision goal specifies one or more <b>objectives</b> to achieve such as the number of <b>sites</b> or <b>regions</b> to be selected. The goal also defines the phenomenon that is going to be modeled.  Finally, our goal also identifies the <b>purpose of spatial analysis.</b></p> \n",
    "<table>\n",
    "    <tr style=\"background: #fff; text-align: left; vertical-align:\">\n",
    "        <td style=\"background: #fff; text-align: left; font-size: 23px;\">\n",
    "Some examples of spatial decision making goals are identifying the best site for a hazardous waste disposal facility, finding the shortest transportation route, and the best spatial pattern for an animal habitat.\n",
    "\n",
    "            \n",
    "As seen in figure, each objective is connected with several <b>attributes (criteria)</b>. \n",
    "</td>\n",
    "        <td style=\"width: 50%; background: #fff; text-align: left; vertical-align: top;\"> <img src='supplementary/hierarchy.png' width=\"700\" height=\"900\" alt='map'></td>\n",
    "    </tr>\n",
    "</table>"
   ]
  },
  {
   "cell_type": "markdown",
   "metadata": {
    "slideshow": {
     "slide_type": "slide"
    }
   },
   "source": [
    "### Bike Docking Example\n",
    "<p style=\"background: #fff; text-align: left; font-size: 23px;\">Let’s assume the Boston municipality decided to contribute to green transportation and increase the accessibility for the public . They have 100 possible locations over the city and the outcome of this decision process can support  5 best ranking locations.  However, the Metropolitan Transportation Authority is not sure which one is the best decision of all! </p> \n",
    "<table>\n",
    "    <tr style=\"background: #fff; text-align: left; vertical-align:\">\n",
    "        <td style=\"background: #fff; text-align: left; font-size: 23px;\">\n",
    "In this hypothetical example, can you specify the phenomenon and purpose of the analysis?\n",
    "\n",
    "            \n",
    "In this example:\n",
    "<ul>\n",
    "    <li>\n",
    "The <b>number of sites</b> to be located is <b>5</b>\n",
    "    </li>\n",
    "    <li>\n",
    "The <b>phenomena</b> are the <b>new bike docking stations</b>\n",
    "    </li>\n",
    "    <li>\n",
    "The <b>purpose of this study</b> to <b>improve public access by supporting green transportation </b>\n",
    "    </li>\n",
    "</ul>\n",
    "        </td>\n",
    "        <td style=\"width: 50%; background: #fff; text-align: left; vertical-align: top;\"> <img src='supplementary/bike.jpg' width=\"700\" height=\"900\" alt='map'></td>\n",
    "    </tr>\n",
    "</table>"
   ]
  },
  {
   "cell_type": "markdown",
   "metadata": {
    "slideshow": {
     "slide_type": "slide"
    }
   },
   "source": [
    "### Mirror, mirror on the wall, which one is the best decision of all?\n",
    "<p> \n",
    "How can we achieve this goal? As decision makers we are surrounded with a large number of <b>decision alternatives</b> (evaluated based on a set of criteria) and we might have <b>different preferences (weights)</b> for each alternative. \n",
    "If we continue with the bike docking station example, we might try to find sites close to existing public transportation. Maybe a biker would like to travel a distance that they can’t bike and at some point they may want to switch to the bus. Also, density and availability of bike routes is important to consider. So, in this case we have two criteria:</p> \n",
    "<ul>\n",
    "    <li>\n",
    "Proximity to existing public transport\n",
    "    </li>\n",
    "    <li>\n",
    "Density and availability of bike routes \n",
    "    </li>\n",
    "</ul>\n",
    "\n",
    "These alternatives are evaluated on the basis of  <b>multiple criteria</b>. Some of the criteria may be  <b>qualitative</b> while others may be  <b>quantitative</b>. \n",
    "\n",
    "\n"
   ]
  },
  {
   "cell_type": "markdown",
   "metadata": {
    "slideshow": {
     "slide_type": "slide"
    }
   },
   "source": [
    "<i>Waste Disposal Example (based on Gómez‐Delgado and Tarantola, 2006) which can be found at: URL: http://dx.doi.org/10.1080/13658810600607709)</i>\n",
    "\n",
    "Sustainable planning of a hazardous waste disposal facility is a complex task involving a multitude of engineering, economic, social, environmental, and political aspects. In Spain, preliminary site screening for landfill sites is regulated by the European, national, and regional legislations and engineering guidelines on hazardous-waste management.  According to these regulations, landfill sites cannot be located close to urban centers or outside urban centers, close to potentially crowded places such as schools, hospitals, commercial centers, and rest houses. Moreover, due to potential conflicts between local authorities, candidate land parcels should be linked to a unique municipality.  \n",
    "\n",
    "\n"
   ]
  },
  {
   "cell_type": "markdown",
   "metadata": {
    "slideshow": {
     "slide_type": "slide"
    }
   },
   "source": [
    "Additionally, some environmental and economic factors also play an important role in the decision making process. For example, the optimal areas to locate a landfill facility are clay and gypsum deposits as leakage into underground water and surrounding land is minimized. Also, the texture and the existence of an argillaceous horizon are indicators of soil permeability, which must be avoided. Surface water provides a source of water for infiltration and subsequent percolation. Areas farther from streams are more suitable to locate the facility than areas bordering the stream buffer. Land suitability decreases as slope increases. At a 15% slope, the suitability is null, since the area would require unreasonable expenditure for adequate landfill design, construction, and operation. And last, estimated expropriation costs are considered in the analysis depending on land use and vegetation coverage.  \n",
    "\n",
    "\n",
    "<img src='supplementary/hierarchy2.png' width=\"700\" height=\"900\" alt='map'>"
   ]
  },
  {
   "cell_type": "markdown",
   "metadata": {
    "slideshow": {
     "slide_type": "slide"
    }
   },
   "source": [
    "## One Recipe to cook them all!\n",
    "\n",
    "<table>\n",
    "    <tr style=\"background: #fff; text-align: left; vertical-align:\">\n",
    "        <td style=\"background: #fff; text-align: left; font-size: 20px;\">\n",
    "So the question becomes, how are we going to solve our spatial decision-making problems?         \n",
    "<br/><br/>\n",
    "Luckily, no matter how complex our alternatives, how many alternatives that we are dealing with, or how many decision makers will be involved in, the generic recipe is the same for all spatial decision making problems. \n",
    "<br/><br/>     \n",
    "Let's see the instructions and then see the recipe in action afterwards.\n",
    "        </td>\n",
    "        <td style=\"width: 30%; background: #fff; text-align: left; vertical-align: top;\"> <img src='supplementary/recipe.png' alt='map'>\n",
    "        </td>\n",
    "   </tr>\n",
    "</table>\n",
    "\n",
    "\n"
   ]
  },
  {
   "cell_type": "markdown",
   "metadata": {
    "slideshow": {
     "slide_type": "slide"
    }
   },
   "source": [
    "## Steps\n",
    "\n",
    "<ol>\n",
    "    <li>\n",
    "        Identify the problem.</li>\n",
    "    <li>\n",
    "        Gather the necessary data you think is relevant to the problem. Think about the main factors that go into the decision-making.</li>\n",
    "    <li>\n",
    "        Develop alternative solutions based on your data.</li>\n",
    "    <li>\n",
    "        Evaluate each alternative.</li>\n",
    "    <li>\n",
    "        Decide which alternative is close to the optimum solution for the problem. Do any of the alternatives stand out?</li>\n",
    "    <li>\n",
    "        If you are satisfied, well-done! You can now implement your best solution! </li> \n",
    "</ol>\n",
    "\n",
    "\n"
   ]
  },
  {
   "cell_type": "markdown",
   "metadata": {
    "slideshow": {
     "slide_type": "slide"
    }
   },
   "source": [
    "## Spatial Decision Problems\n",
    "\n",
    "Some very common examples of spatial decision-making problems are land use suitability, site selection and plan evaluation. \n",
    "\n",
    "\n",
    "In a land suitability example, the goal may be to identify the best spatial pattern, for example, urban area, agriculture or forest. \n",
    "\n",
    "\n",
    "In a site selection case, a facility might be looking forward to finding the best location for the next site to investigate. \n",
    "\n",
    "\n",
    "And we can evaluate plans by comparing pros and cons to get the best.\n",
    "\n",
    "Let’s move forward with a Land-Use Suitability example to see Spatial Decision Making in action!\n"
   ]
  },
  {
   "cell_type": "markdown",
   "metadata": {
    "slideshow": {
     "scrolled": true,
     "slide_type": "slide"
    }
   },
   "source": [
    "## Land-Use Suitability for Conservation Reserve Program\n",
    "\n",
    "Let's look at a Land Use Suitability example taken from <a href=\"https://link.springer.com/article/10.1007/s00477-018-1535-z\">Salap-Ayca and Jankowski (2008)</a>. \n",
    "<br/>\n",
    "\n",
    "In the United States, the Conservation Reserve Program (CRP) executes land use evaluation and <b>improves conservation by renting highly erodible cropland or other environmentally sensitive acreage</b> from farmers and ensuring plantation of species that will <b>improve environmental quality</b>.\n",
    "<br/>\n",
    "\n",
    "CRP is achieved by a score based system called <b>Environmental Benefit Index</b>. It is based on five environmental factors, which are <b>wildlife,water quality, erosion, enduring benefits, and air quality</b>; and every factor with <b>slightly different levels of preferences</b>. \n",
    "\n",
    "\n",
    "<table>\n",
    "    <tr style=\"background: #fff; text-align: left; vertical-align:\">\n",
    "        <td style=\"background: #fff; text-align: left; font-size: 20px;\">\n",
    "So decision makers come up with different <b>preferences</b> for each criteria and they are combined into a single overall score. \n",
    "\n",
    "When the <b>overall score</b> has higher ranks for the predetermined threshold value for the enrollment period, the land unit is left uncultivated for that term. \n",
    "        </td>\n",
    "        <td style=\"width: 50%; background: #fff; text-align: left; vertical-align: top;\"> <img src='supplementary/ebi.png' alt='map'>\n",
    "        </td>\n",
    "   </tr>\n",
    "</table>\n",
    "\n"
   ]
  },
  {
   "cell_type": "markdown",
   "metadata": {
    "slideshow": {
     "slide_type": "slide"
    }
   },
   "source": [
    "So, let’s assume that this is aEven though the benefits of CRP have been observed for over 30 years, unfortunately due to fiscal limitations, only the most qualified land units are selected for incentive payments. \n",
    "\n",
    "\n",
    "Therefore, the overall objective becomes to define the most qualified areas that will maximize the conservation benefits by considering the multiple factors together with their varying preferences; which makes the EBI a typical example of a multi-criteria decision-making problem. \n",
    "\n",
    "\n",
    "Let's see how we can apply our generic recipe steps on this real case study.\n",
    "\n",
    "\n",
    "Şalap-Ayça, S., Jankowski, P. Analysis of the influence of parameter and scale uncertainties on a local multi-criteria land use evaluation model. Stoch Environ Res Risk Assess 32, 2699–2719 (2018). <a href=\"https://doi.org/10.1007/s00477-018-1535-z\">https://doi.org/10.1007/s00477-018-1535-z</a>\n",
    "\n"
   ]
  },
  {
   "cell_type": "markdown",
   "metadata": {
    "slideshow": {
     "slide_type": "slide"
    }
   },
   "source": [
    "**Question 1:** Can you identify the problem? What is the goal in this given land-use suitability case study?\n"
   ]
  },
  {
   "cell_type": "code",
   "execution_count": null,
   "metadata": {
    "hide_input": true,
    "tags": [
     "Hide",
     "Init"
    ]
   },
   "outputs": [],
   "source": [
    "widget1 = widgets.RadioButtons(\n",
    "    options = ['The goal is to lablablab A', 'The goal is to lablablab B', 'The goal is to improve conservation and environmental quality in places where it is possible to improve environmental quality.'],\n",
    "    description = 'Which one is the goal in this given land-use suitability case study? ', style={'description_width': 'initial'},\n",
    "    layout = Layout(width='100%',display=\"flex\", justify_content=\"flex-start\"),\n",
    "    value = None\n",
    ")\n",
    "\n",
    "display(widget1)\n",
    "def out():\n",
    "    return print('The goal is to improve conservation and environmental quality in places where it is possible to improve environmental quality.')\n",
    "\n",
    "hourofci.SubmitBtn2(widget1, out)"
   ]
  },
  {
   "cell_type": "markdown",
   "metadata": {
    "slideshow": {
     "slide_type": "slide"
    }
   },
   "source": [
    "**Question 2:** What are the necessary layers we need to collect to solve this problem? Can you identify the criteria which need to be evaluated?\n",
    "\n"
   ]
  },
  {
   "cell_type": "code",
   "execution_count": null,
   "metadata": {
    "hide_input": true,
    "tags": [
     "Hide",
     "Init"
    ]
   },
   "outputs": [],
   "source": [
    "widget1 = widgets.RadioButtons(\n",
    "    options = ['The criteria are lablablab A', 'The criteria are lablablab B', 'Criteria that is linked to the given spatial decision-making problem are wildlife, water quality, erosion, enduring benefits , and air quality. Therefore, we need to gather the necessary data layer for each criteria.'],\n",
    "    description = 'Which one is the goal in this given land-use suitability case study? ', style={'description_width': 'initial'},\n",
    "    layout = Layout(width='100%',display=\"flex\", justify_content=\"flex-start\"),\n",
    "    value = None\n",
    ")\n",
    "\n",
    "display(widget1)\n",
    "def out():\n",
    "    return print('Criteria that is linked to the given spatial decision-making problem are wildlife, water quality, erosion, enduring benefits , and air quality. Therefore, we need to gather the necessary data layer for each criteria.')\n",
    "\n",
    "hourofci.SubmitBtn2(widget1, out)"
   ]
  },
  {
   "cell_type": "markdown",
   "metadata": {
    "slideshow": {
     "slide_type": "slide"
    }
   },
   "source": [
    "**Question 3:** Is the given information on the text enough to understand the criteria weights? Can you evaluate the relative importances of each criterion?\n",
    "\n",
    "\n"
   ]
  },
  {
   "cell_type": "code",
   "execution_count": null,
   "metadata": {
    "hide_input": true,
    "tags": [
     "Hide",
     "Init"
    ]
   },
   "outputs": [],
   "source": [
    "\n",
    "answer = '''No, criteria weights are not explicitly given. We know that each criterion has a slightly different weight (preference); however, it is not clear which one is more important than the other. Therefore, we need more information before being able to calculate the outcomes and find an optimum solution.\\n'''\n",
    "def out():\n",
    "    return print(answer)\n",
    "\n",
    "widget1 = widgets.RadioButtons(\n",
    "    options = ['The criteria are lablablab A \\n', '\\nThe criteria are lablablab B',answer],\n",
    "    description = 'Which one is the goal in this given land-use suitability case study? ', style={'description_width': 'initial'},\n",
    "    layout = Layout(width='100%',display=\"flex\", justify_content=\"flex-start\"),\n",
    "    value = None\n",
    ")\n",
    "\n",
    "display(widget1)\n",
    "hourofci.SubmitBtn2(widget1, out)"
   ]
  },
  {
   "cell_type": "markdown",
   "metadata": {
    "slideshow": {
     "slide_type": "slide"
    }
   },
   "source": [
    "Congratulations! You have completed the first segment of the Spatial Thinking module!\n",
    "\n",
    "Click the button below to move to the next segment to learn more about decision models and how to apply decision-rule techniques!\n",
    "\n"
   ]
  },
  {
   "cell_type": "markdown",
   "metadata": {
    "slideshow": {
     "slide_type": "-"
    }
   },
   "source": [
    "\n",
    "\n",
    "<font size=\"+1\"><a style=\"background-color:blue;color:white;padding:12px;margin:10px;font-weight:bold;\" \n",
    "href=\"st-4.ipynb\">Click here to go to the next segment</a></font>"
   ]
  }
 ],
 "metadata": {
  "celltoolbar": "Slideshow",
  "kernelspec": {
   "display_name": "Python 3",
   "language": "python",
   "name": "python3"
  },
  "language_info": {
   "codemirror_mode": {
    "name": "ipython",
    "version": 3
   },
   "file_extension": ".py",
   "mimetype": "text/x-python",
   "name": "python",
   "nbconvert_exporter": "python",
   "pygments_lexer": "ipython3",
   "version": "3.8.1"
  },
  "rise": {
   "autolaunch": true,
   "overlay": "<div class='hciheader'></div><div class='hcifooter'></div>",
   "scroll": true
  }
 },
 "nbformat": 4,
 "nbformat_minor": 4
}
