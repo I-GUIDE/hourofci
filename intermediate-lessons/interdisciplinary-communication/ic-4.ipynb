{
 "cells": [
  {
   "cell_type": "markdown",
   "metadata": {
    "hide_input": true,
    "slideshow": {
     "slide_type": "slide"
    }
   },
   "source": [
    "# Intermediate Interdisciplinary Communication\n",
    "## Introduction to Science Communication \n",
    "### Segment 3 of 4\n",
    "## Show me the data!\n",
    "\n",
    "*Lesson Developer: Jennifer Bernstein, bernstjm@usc.edu*"
   ]
  },
  {
   "cell_type": "code",
   "execution_count": null,
   "metadata": {
    "hide_input": true,
    "init_cell": true,
    "slideshow": {
     "slide_type": "skip"
    },
    "tags": [
     "Hide"
    ]
   },
   "outputs": [],
   "source": [
    "# This code cell starts the necessary setup for Hour of CI lesson notebooks.\n",
    "# First, it enables users to hide and unhide code by producing a 'Toggle raw code' button below.\n",
    "# Second, it imports the hourofci package, which is necessary for lessons and interactive Jupyter Widgets.\n",
    "# Third, it helps hide/control other aspects of Jupyter Notebooks to improve the user experience\n",
    "# This is an initialization cell\n",
    "# It is not displayed because the Slide Type is 'Skip'\n",
    "\n",
    "from IPython.display import HTML, IFrame, Javascript, display\n",
    "from ipywidgets import interactive\n",
    "import ipywidgets as widgets\n",
    "from ipywidgets import Layout, Textarea, HBox, VBox\n",
    "\n",
    "import getpass # This library allows us to get the username (User agent string)\n",
    "\n",
    "# import package for hourofci project\n",
    "import sys\n",
    "sys.path.append('../../supplementary') # relative path (may change depending on the location of the lesson notebook)\n",
    "import hourofci\n",
    "\n",
    "import warnings\n",
    "warnings.filterwarnings('ignore') # Hide warnings\n",
    "\n",
    "# load javascript to initialize/hide cells, get user agent string, and hide output indicator\n",
    "# hide code by introducing a toggle button \"Toggle raw code\"\n",
    "# HTML(''' \n",
    "#     <script type=\"text/javascript\" src=\\\"../../supplementary/js/custom.js\\\"></script>\n",
    "    \n",
    "#     <input id=\"toggle_code\" type=\"button\" value=\"Toggle raw code\">\n",
    "# ''')\n",
    "\n",
    "HTML(''' \n",
    "    <script type=\"text/javascript\" src=\\\"../../supplementary/js/custom.js\\\"></script>\n",
    "    \n",
    "    <style>\n",
    "        .output_prompt{opacity:0;}\n",
    "    </style>\n",
    "    \n",
    "    <input id=\"toggle_code\" type=\"button\" value=\"Toggle raw code\">\n",
    "''')\n"
   ]
  },
  {
   "cell_type": "markdown",
   "metadata": {
    "slideshow": {
     "slide_type": "slide"
    }
   },
   "source": [
    "## “Above all else, show the data”\n",
    "\n",
    "Okay, audiences are complicated! Now what?\n",
    "\n",
    "### Information Design is KEY\n",
    "   \n",
    "It is important to design information products that communicate in ways that are <font style=\"color:red;\">efficient</font>, <font style=\"color:red;\">clear</font>, and <font style=\"color:red;\">honest</font>.\n",
    "\n",
    "* Often it means <font style=\"color:red;\">carving up information</font> and <font style=\"color:red;\">packaging it for particular audiences.</font>\n",
    "\n",
    "* Less about aesthetics, and more about clarity (though there is always room for creativity). \n",
    "  \n",
    "Cartography is a type of information design, as are charts, tables, and other visualizations.\n",
    " \n"
   ]
  },
  {
   "cell_type": "markdown",
   "metadata": {
    "slideshow": {
     "slide_type": "slide"
    }
   },
   "source": [
    "### Pay attention to the Data to Ink Ratio\n",
    "   \n",
    "One of the easiest ways to improve your visualizations is to pay attention to the <font style=\"color:red;\">Data to Ink Ratio</font>, a concept popularized by Edward Tufte in his popular 1983 book <a href = \"https://www.edwardtufte.com/tufte/books_vdqi\"><i>The Visual Display of Quantitative Information</i></a>. \n",
    "\n",
    "* Information design should strive to communicate the most amount of information with the least amount of ink\n",
    "\n",
    "* “<font style=\"color:red;\">Chart junk</font>” is ink that does not add information; this should not be confused with aesthetics \n",
    "\n",
    "Watch the video in the next slide to learn more about the Data to Ink Ratio. "
   ]
  },
  {
   "cell_type": "code",
   "execution_count": 1,
   "metadata": {
    "hide_input": true,
    "scrolled": true,
    "slideshow": {
     "slide_type": "slide"
    },
    "tags": [
     "Hide",
     "Init"
    ]
   },
   "outputs": [],
   "source": [
    "from IPython.display import YouTubeVideo\n",
    "\n",
    "YouTubeVideo('JIMUzJzqaA8', width=800,height=480)\n",
    "  "
   ]
  },
  {
   "cell_type": "markdown",
   "metadata": {
    "slideshow": {
     "slide_type": "slide"
    }
   },
   "source": [
    "### A brief sidenote: Who is Edward Tufte?\n",
    "<table>\n",
    "    <tr style=\"background: #fff; text-align: left\">\n",
    "        <td style=\"width: 30%;background: #fff; text-align: left\">\n",
    "<img src=\"supplementary/tufte.jpg\" width=\"50%\">\n",
    "        </td>\n",
    "        <td style=\"width: 70%; background: #fff; text-align: left; vertical-align: top;font-size: 23px;\"> \n",
    "            <b>Edward Tufte</b> is a statistician who is well-known for his influence on the world of information design. He is best known for the “data-ink” ratio, his use of small multiples and sparklines, and his vicious critique of PowerPoint.\n",
    "    </p>\n",
    "Learn more on his website: <a href = https://www.edwardtufte.com/tufte> https://www.edwardtufte.com/tufte </a>\n",
    "    </td>\n",
    "    </tr>\n",
    "</table>\n"
   ]
  },
  {
   "cell_type": "markdown",
   "metadata": {
    "slideshow": {
     "slide_type": "slide"
    }
   },
   "source": [
    "Your turn. Look at the images below. On the left, there is a great amount of ink not conveying information. The right uses much less ink to convey the same information, but you could still remove more. What additional ink could be eliminated from the figure on the right? \n",
    "\n",
    "<table style=\"width:60%\">\n",
    "    <tr style=\"background: #fff; text-align: left; border:solid;\">\n",
    "        <td style=\"background: #fff; text-align: left;border:solid\">\n",
    "            <center><img src=\"supplementary/monster.jpg\"></center>\n",
    "        </td>\n",
    "        <td style=\"background: #fff; text-align: left; vertical-align: top;border:solid\"> \n",
    "           <center><img src=\"supplementary/monster_inkless.jpg\"></center>\n",
    "    </td>\n",
    "    </tr>\n",
    "</table>"
   ]
  },
  {
   "cell_type": "code",
   "execution_count": 2,
   "metadata": {
    "hide_input": false,
    "scrolled": false,
    "slideshow": {
     "slide_type": "-"
    },
    "tags": [
     "Init",
     "Hide"
    ]
   },
   "outputs": [],
   "source": [
    "tarea1 = Textarea(\n",
    "            value='',\n",
    "            placeholder='Type your answer here',\n",
    "            description='',\n",
    "            disabled=False,\n",
    "            layout=Layout( height='100px', min_height='100px', width='500px')\n",
    "            )\n",
    "\n",
    "\n",
    "display(tarea1)\n",
    "\n",
    "hourofci.SubmitBtn2(tarea1)"
   ]
  },
  {
   "cell_type": "markdown",
   "metadata": {
    "slideshow": {
     "slide_type": "slide"
    }
   },
   "source": [
    "**Answer:** \n",
    "<ul>\n",
    "    <li>\n",
    "The bars could be made into vertical lines.\n",
    "    </li>\n",
    "    <li>\n",
    "The tickmarks could be eliminated. \n",
    "    </li>\n",
    "    <li>\n",
    "The box around the outside of the chart could be removed.\n",
    "    </li>\n",
    "</ul>\n",
    "\n"
   ]
  },
  {
   "cell_type": "markdown",
   "metadata": {
    "slideshow": {
     "slide_type": "slide"
    },
    "variables": {
     "IFrame(\"supplementary/bar-chart-demo.html\", width=\"650\", height=\"600\")": {}
    }
   },
   "source": [
    "## Your turn again!\n",
    "\n",
    "Look at the chart below. Click on the components that violate the data-ink ratio. What ink doesn’t communicate additional information?\n",
    "\n",
    "{{IFrame(\"supplementary/bar-chart-demo.html\", width=\"650\", height=\"600\")}}\n"
   ]
  },
  {
   "cell_type": "markdown",
   "metadata": {
    "slideshow": {
     "slide_type": "slide"
    }
   },
   "source": [
    "### <center>Another key aspect of information design that is often ignored is the proper use of\n",
    "\n",
    "# <center><b><font style=\"color:blue;\">C </font><font style=\"color:red;\">O </font><font style=\"color:green;\">L </font><font style=\"color:brown;\">O </font><font style=\"color:orange;\">R </font></b>"
   ]
  },
  {
   "cell_type": "markdown",
   "metadata": {
    "slideshow": {
     "slide_type": "slide"
    }
   },
   "source": [
    "Here's an example of bad color design. Without looking at the legend, can you figure out which color represents more and which is less?\n",
    "\n",
    "<img src=\"supplementary/BadMap.png\" width=\"100%\">"
   ]
  },
  {
   "cell_type": "markdown",
   "metadata": {
    "slideshow": {
     "slide_type": "slide"
    }
   },
   "source": [
    "## Choose your colors carefully\n",
    "\n",
    "Color is a critical component of effective information design, especially in cartography.\n",
    "\n",
    "Color schemes are used to display a range of data values on a map. They are usually explained by the use of legends. \n",
    "\n",
    "First and foremost, the color scheme used must be determined by the kind of data being presented. <b>NEVER should the default color scheme provided by your program be blindly accepted!</b>\n",
    "\n",
    "On the next page, different kinds of color schemes that can be used to represent different types of data are illustrated.  "
   ]
  },
  {
   "cell_type": "markdown",
   "metadata": {
    "slideshow": {
     "slide_type": "slide"
    }
   },
   "source": [
    "## Some commonly used color schemes\n",
    "<table>\n",
    "    <tr style=\"background: #fff; text-align: left; vertical-align:\">\n",
    "        <td style=\"background: #fff; text-align: left; font-size: 23px;\">\n",
    "            <b>Sequential</b> data: for example [0, 5, 10, 20, 25]\n",
    "        </td>\n",
    "        <td style=\"width: 40%; background: #fff; text-align: left; vertical-align: top;\"> \n",
    "            <img src=\"supplementary/seq.png\" width=\"100%\">\n",
    "    </td>\n",
    "    </tr>\n",
    "    <tr style=\"background: #fff; text-align: left; vertical-align:\">\n",
    "        <td style=\"background: #fff; text-align: left; font-size: 23px;\">\n",
    "            <b>Divergent</b> data: for example [-10, -5, 0, 5, 10]\n",
    "        </td>\n",
    "        <td style=\"width: 40%; background: #fff; text-align: left; vertical-align: top;\"> \n",
    "            <img src=\"supplementary/diver.png\" width=\"100%\">\n",
    "    </td>\n",
    "    </tr>\n",
    "    <tr style=\"background: #fff; text-align: left; vertical-align:\">\n",
    "        <td style=\"background: #fff; text-align: left; font-size: 23px;\">\n",
    "            <b style=\"font-size: 23px;\">Qualitative</b> data: for example [writing, reading, emails, walking the dog, twitter, meetings]\n",
    "        </td>\n",
    "        <td style=\"width: 40%; background: #fff; text-align: left; vertical-align: top;\"> \n",
    "            <img src=\"supplementary/qual.png\" width=\"100%\">\n",
    "    </td>\n",
    "    </tr>\n",
    "</table>"
   ]
  },
  {
   "cell_type": "markdown",
   "metadata": {
    "slideshow": {
     "slide_type": "slide"
    }
   },
   "source": [
    "For more on designing appropriate color schemes, see Cynthia Brewer's famous <a href=\"https://colorbrewer2.org/#type=sequential&scheme=BuGn&n=3\">ColorBrewer</a>. \n",
    "\n",
    "* Click on the information icons (i) in the boxes on the left of the graphic in Color Brewer to learn more about the choices you can make. \n",
    "\n",
    "Play around with this for a while, but be sure to come back here to learn more. "
   ]
  },
  {
   "cell_type": "markdown",
   "metadata": {
    "slideshow": {
     "slide_type": "slide"
    }
   },
   "source": [
    "## A fun fact about color!\n",
    "\n",
    "While the rainbow color scheme is culturally understood to be linear, it is qualitative! \n",
    "\n",
    "How can both of these things can be true?\n"
   ]
  },
  {
   "cell_type": "markdown",
   "metadata": {
    "slideshow": {
     "slide_type": "slide"
    }
   },
   "source": [
    "## Color Blindness \n",
    "\n",
    "Color Blindness is another important consideration when designing color schemes for your graphics. \n",
    "\n",
    "This affects approximately 8% of men and 0.4% of women, so consideration for this should be incorporated when we design maps.\n",
    "\n",
    "While seen primarily as confusion between red and green, it’s more complicated than that. Formally there are 8 different kinds of color blindness. "
   ]
  },
  {
   "cell_type": "markdown",
   "metadata": {
    "slideshow": {
     "slide_type": "slide"
    }
   },
   "source": [
    "This set of maps shows the different types of color blindness and how they affect map-reading. As Cynthia Brewer states, it’s not enough to think about the red/green issue!\n",
    "\n",
    "\n",
    "<center><img src=\"supplementary/blind.jpg\" width=700></center>\n",
    "\n",
    "For more on color blindness, you can play around with this <a href = \"https://www.color-blindness.com/coblis-color-blindness-simulator/\">simulator</a> for a while. But come back here, we're not quite done!"
   ]
  },
  {
   "cell_type": "markdown",
   "metadata": {
    "slideshow": {
     "slide_type": "slide"
    }
   },
   "source": [
    "Here's a typical visualization. Based on what you just learned, how could this graphic be improved for all users?\n",
    "\n",
    "<center><img src=\"supplementary/pie.png\" width=500></center>"
   ]
  },
  {
   "cell_type": "markdown",
   "metadata": {
    "slideshow": {
     "slide_type": "slide"
    }
   },
   "source": [
    "And to wrap up on color blindness, here's an example of a map redesigned to incorporate readers who have typical color blindness.\n",
    "<table>\n",
    "    <tr style=\"background: #fff; text-align: left; vertical-align:\">\n",
    "        <td style=\"width: 50%; background: #fff; text-align: left;\"> \n",
    "            <h2>The map presented to a general audience</h2>\n",
    "           <img src=\"supplementary/map_l.png\" width=300>\n",
    "        </td>\n",
    "        <td>\n",
    "        </td>\n",
    "        <td style=\"width: 50%; background: #fff; text-align: left;\">\n",
    "            <h2>The same map to one with colorblindness</h2>\n",
    "            <img src=\"supplementary/map_r.png\" width=300>\n",
    "        </td>\n",
    "    </tr>\n",
    "</table>\n",
    "\n",
    "\n"
   ]
  },
  {
   "cell_type": "markdown",
   "metadata": {
    "slideshow": {
     "slide_type": "slide"
    }
   },
   "source": [
    "## What have we learned so far\n",
    "\n",
    "Cyberinfrastructure and visualization give us: more data, more collaboration, more quickly\n",
    "\n",
    "### Consider this scenario\n",
    "Imagine that you are a data analyst presenting background information about biodiversity to a government committee.\n",
    "\n",
    "#### Here are some things to think about as you design your graphics\n",
    "\n",
    "<ul>\n",
    "    <li>Different audiences interpret science differently\n",
    "    <li>All ink should maximize information\n",
    "    <li>Color schemes and color blindness affect your audience's ability to comprehend data"
   ]
  },
  {
   "cell_type": "markdown",
   "metadata": {
    "hide_input": false,
    "slideshow": {
     "slide_type": "slide"
    }
   },
   "source": [
    "If you've still got time, then go on to this exploration for more fun learning. \n",
    "\n",
    "<font size=\"+1\"><a style=\"background-color:blue;color:white;padding:12px;margin:10px;font-weight:bold;\" href=\"ic-exploration.ipynb\">Click here to go to the next notebook.</a></font>"
   ]
  }
 ],
 "metadata": {
  "celltoolbar": "Slideshow",
  "kernelspec": {
   "display_name": "iguide-ewd",
   "language": "python",
   "name": "iguide-ewd"
  },
  "language_info": {
   "codemirror_mode": {
    "name": "ipython",
    "version": 3
   },
   "file_extension": ".py",
   "mimetype": "text/x-python",
   "name": "python",
   "nbconvert_exporter": "python",
   "pygments_lexer": "ipython3",
   "version": "3.10.11"
  },
  "rise": {
   "autolaunch": true,
   "overlay": "<div class='hciheader'></div><div class='hcifooter'></div>",
   "scroll": true
  }
 },
 "nbformat": 4,
 "nbformat_minor": 4
}
