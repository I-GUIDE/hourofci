{
 "cells": [
  {
   "cell_type": "markdown",
   "metadata": {
    "hide_input": true,
    "slideshow": {
     "slide_type": "slide"
    }
   },
   "source": [
    "## Introduction to Interdisciplinary Communication\n",
    "### Part 1 of 5\n",
    "# What are\n",
    "# ..."
   ]
  },
  {
   "cell_type": "markdown",
   "metadata": {
    "slideshow": {
     "slide_type": "slide"
    }
   },
   "source": [
    "## Thank you for helping our study\n",
    "\n",
    "\n",
    "<a href=\"#/slide-1-0\" class=\"navigate-right\" style=\"background-color:blue;color:white;padding:8px;margin:2px;font-weight:bold;\">Continue with the lesson</a>\n",
    "\n",
    "Throughout this lesson you will see reminders, like the one below, to ensure that all participants understand that they are in a voluntary research study.\n",
    "\n",
    "### Reminder\n",
    "\n",
    "<font size=\"+1\">\n",
    "\n",
    "By continuing with this lesson you are granting your permission to take part in this research study for the Hour of Cyberinfrastructure: Developing Cyber Literacy for GIScience project. In this study, you will be learning about cyberinfrastructure and related concepts using a web-based platform that will take approximately one hour per lesson. Participation in this study is voluntary.\n",
    "\n",
    "Participants in this research must be 18 years or older. If you are under the age of 18 then please exit this webpage or navigate to another website such as the Hour of Code at https://hourofcode.com, which is designed for K-12 students.\n",
    "\n",
    "If you are not interested in participating please exit the browser or navigate to this website: http://www.umn.edu. Your participation is voluntary and you are free to stop the lesson at any time.\n",
    "\n",
    "For the full description please navigate to this website: <a href=\"../../gateway-lesson/gateway/gateway-1.ipynb\">Gateway Lesson Research Study Permission</a>.\n",
    "\n",
    "</font>"
   ]
  },
  {
   "cell_type": "code",
   "execution_count": 1,
   "metadata": {
    "hide_input": true,
    "init_cell": true,
    "slideshow": {
     "slide_type": "skip"
    },
    "tags": [
     "Hide"
    ]
   },
   "outputs": [
    {
     "data": {
      "text/html": [
       " \n",
       "    <script type=\"text/javascript\" src=\"../../supplementary/js/custom.js\"></script>\n",
       "    \n",
       "    <style>\n",
       "        .output_prompt{opacity:0;}\n",
       "    </style>\n",
       "    \n",
       "    <input id=\"toggle_code\" type=\"button\" value=\"Toggle raw code\">\n"
      ],
      "text/plain": [
       "<IPython.core.display.HTML object>"
      ]
     },
     "execution_count": 1,
     "metadata": {},
     "output_type": "execute_result"
    }
   ],
   "source": [
    "# This code cell starts the necessary setup for Hour of CI lesson notebooks.\n",
    "# First, it enables users to hide and unhide code by producing a 'Toggle raw code' button below.\n",
    "# Second, it imports the hourofci package, which is necessary for lessons and interactive Jupyter Widgets.\n",
    "# Third, it helps hide/control other aspects of Jupyter Notebooks to improve the user experience\n",
    "# This is an initialization cell\n",
    "# It is not displayed because the Slide Type is 'Skip'\n",
    "\n",
    "from IPython.display import HTML, IFrame, Javascript, display\n",
    "from ipywidgets import interactive\n",
    "import ipywidgets as widgets\n",
    "from ipywidgets import Layout\n",
    "\n",
    "import getpass # This library allows us to get the username (User agent string)\n",
    "\n",
    "# import package for hourofci project\n",
    "import sys\n",
    "sys.path.append('../../supplementary') # relative path (may change depending on the location of the lesson notebook)\n",
    "import hourofci\n",
    "\n",
    "import warnings\n",
    "warnings.filterwarnings('ignore') # Hide warnings\n",
    "\n",
    "# load javascript to initialize/hide cells, get user agent string, and hide output indicator\n",
    "# hide code by introducing a toggle button \"Toggle raw code\"\n",
    "# HTML(''' \n",
    "#     <script type=\"text/javascript\" src=\\\"../../supplementary/js/custom.js\\\"></script>\n",
    "    \n",
    "#     <input id=\"toggle_code\" type=\"button\" value=\"Toggle raw code\">\n",
    "# ''')\n",
    "\n",
    "HTML(''' \n",
    "    <script type=\"text/javascript\" src=\\\"../../supplementary/js/custom.js\\\"></script>\n",
    "    \n",
    "    <style>\n",
    "        .output_prompt{opacity:0;}\n",
    "    </style>\n",
    "    \n",
    "    <input id=\"toggle_code\" type=\"button\" value=\"Toggle raw code\">\n",
    "''')\n"
   ]
  },
  {
   "cell_type": "markdown",
   "metadata": {
    "slideshow": {
     "slide_type": "slide"
    }
   },
   "source": [
    "## Interdisciplinary communication \n",
    "### Definition \n",
    "* Unsettled because it’s contingent on the term “disciplinary”, which is also unsettled\n",
    "* In general, “use of communication tools to facilitate integration between different subject areas” \n",
    "\n",
    "### Particularly important in the context of CI\n",
    "* Interdisciplinary nature of problem solving (social, environmental, economic, etc.)\n",
    "* With increase in data speed and accessibility; even more important for there to be clear communication between users, managers, analysts, and the general public\n"
   ]
  },
  {
   "cell_type": "markdown",
   "metadata": {
    "slideshow": {
     "slide_type": "slide"
    }
   },
   "source": [
    "## Science Communication \n",
    "* This unit covers science communication, a particular type of interdisciplinary communication \n",
    "* Science communication is…\n",
    "\n",
    "    “The use of appropriate skills, media, activities, and dialogue to produce one or more of the following <font style=\"color:red;\"><b>personal responses</b></font> to science: <font style=\"color:red;\">Awareness</font>, including familiarity with new aspects of science; <font style=\"color:red;\">Enjoyment</font> or other affective responses, e.g. appreciating science as entertainment or art; <font style=\"color:red;\">Interest</font>, as evidenced by voluntary involvement with science or its communication; <font style=\"color:red;\">Opinions</font>, the forming, reforming, or confirming of science-related attitudes; <font style=\"color:red;\">Understanding</font> of science, its content, processes, and social factors. Science communication may involve science practitioners, mediators, and other members of the general public, either peer-to-peer or between groups” (Burns et al. 2003).\n"
   ]
  },
  {
   "cell_type": "markdown",
   "metadata": {
    "slideshow": {
     "slide_type": "slide"
    }
   },
   "source": [
    "## The Deficit Model\n",
    "1970’s: Public perception of nuclear as risky and fossil fuels as unsafe; Scientists came to realize that communicating the findings of their data was a field unto itself \n",
    "The deficit model <font style=\"color:red;\">is the idea that the public does not understand or act on scientific knowledge because they do not have enough information</font>. Science communication is seen as a form of information transmission. The facts speak for themselves; Findings will be interpreted the same by all groups.\n",
    "<font style=\"color:red;\">It has been widely debunked.</font>\n",
    "\n",
    "<b>Cons:</b>\n",
    "* Condescending \n",
    "* Alienates audiences\n",
    "* Stronger predictors ideology, partisanship, religious identity stronger predictors than science literacy\n"
   ]
  },
  {
   "cell_type": "markdown",
   "metadata": {
    "slideshow": {
     "slide_type": "slide"
    }
   },
   "source": [
    "## Guidance from Social Psychology\n",
    "### Risk Perception\n",
    "* Risk perception refers to the degree to which a phenomenon is seen as having adverse effects. \n",
    "\n",
    "            [INSERT INTERACTIVE UNIT 1: Demographics and risk perception HERE]\n",
    "\n",
    "### Motivated Reasoning\n",
    "* Humans evaluate new information based on their pre-existing worldviews\n",
    "* When new information contradicts one’s worldview, easier to reject the science\n",
    "\n",
    "### Reference Groups \n",
    "* A reference group is a group of people to whom an individual compares themselves\n",
    "* The opinions of thought leaders in one’s reference group is a strong predictor of science interpretation\n"
   ]
  },
  {
   "cell_type": "markdown",
   "metadata": {
    "slideshow": {
     "slide_type": "slide"
    }
   },
   "source": [
    "## The Lay Public and Science Literacy\n",
    "If it’s not a lack of information, how does the public reason about scientific data?\n",
    "    <ol>\n",
    "        <li>\n",
    "    Have scientific predictions come true?\n",
    "        </li> \n",
    "        <li>\n",
    "    Have scientists consulted other types of available knowledge?\n",
    "        </li> \n",
    "        <li>\n",
    "    Do scientists admit when they are wrong?\n",
    "        </li> \n",
    "        <li>\n",
    "    What are the social and institutional connections of scientists?\n",
    "        </li> \n",
    "        <li>\n",
    "    How do findings line up with perceived reality (e.g., heat waves and climate change)?\n",
    "        </li> \n",
    "    </ol>\n"
   ]
  },
  {
   "cell_type": "markdown",
   "metadata": {
    "slideshow": {
     "slide_type": "slide"
    }
   },
   "source": [
    "## “Above all else, show the data”\n",
    "Okay, audiences are complicated! Now what?\n",
    "   ### Information Design\n",
    "   <ul>\n",
    "    <li>\n",
    "       Designing information to communicate in ways that are <font style=\"color:red;\">efficient</font>, <font style=\"color:red;\">clear</font>, and <font style=\"color:red;\">honest</font>.\n",
    "    </li>\n",
    "   </ul>\n",
    "   \n",
    "   ### Data Ink Ratio\n",
    "   <ul>\n",
    "    <li>\n",
    "Information design should strive to communicate the most amount of information with the least amount of ink (Tufte 2001)\n",
    "    </li>\n",
    "    <li>\n",
    "“Chart junk” is ink that does not add information; this should not be confused with aesthetics \n",
    "    </li>\n",
    "   </ul>\n",
    "   \n",
    "[INSERT INTERACTIVE UNIT 2: Erase non-data ink HERE]\n",
    "\n",
    "[Color?]\n"
   ]
  },
  {
   "cell_type": "markdown",
   "metadata": {
    "slideshow": {
     "slide_type": "slide"
    }
   },
   "source": [
    "## Visualizing for Biodiversity: Applying what we’ve learned\n",
    "Cyberinfrastructure and visualization; More data, more collaboration, more quickly\n",
    "### Scenario\n",
    "* You are a data analyst presenting [biodiversity data?] to [Senate? House?] for [?]\n",
    "\n",
    "### Think about what we have learned\n",
    "<ul>\n",
    "    <li>\n",
    "Different audiences interpret science differently\n",
    "    </li>\n",
    "    <li>\n",
    "All ink should maximize information\n",
    "    </li>\n",
    "</ul>\n",
    "\n",
    "Based on your interpretation of the data, how would you make the following science communication decisions?\n",
    "\n",
    "[INSERT INTERACTIVE UNIT 3: Visualizing Biodiversity HERE]"
   ]
  },
  {
   "cell_type": "markdown",
   "metadata": {
    "hide_input": false,
    "slideshow": {
     "slide_type": "slide"
    }
   },
   "source": [
    "\n",
    "\n",
    "<font size=\"+1\"><a style=\"background-color:blue;color:white;padding:12px;margin:10px;font-weight:bold;\" href=\"ic-3.ipynb\">Click here to go to the next notebook.</a></font>"
   ]
  }
 ],
 "metadata": {
  "celltoolbar": "Slideshow",
  "kernelspec": {
   "display_name": "Python 3",
   "language": "python",
   "name": "python3"
  },
  "language_info": {
   "codemirror_mode": {
    "name": "ipython",
    "version": 3
   },
   "file_extension": ".py",
   "mimetype": "text/x-python",
   "name": "python",
   "nbconvert_exporter": "python",
   "pygments_lexer": "ipython3",
   "version": "3.8.1"
  },
  "rise": {
   "autolaunch": true,
   "overlay": "<div class='hciheader'></div><div class='hcifooter'></div>",
   "scroll": true
  }
 },
 "nbformat": 4,
 "nbformat_minor": 4
}
