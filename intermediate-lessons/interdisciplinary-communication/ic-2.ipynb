{
 "cells": [
  {
   "cell_type": "markdown",
   "metadata": {
    "hide_input": true,
    "slideshow": {
     "slide_type": "slide"
    }
   },
   "source": [
    "# Intermediate Interdisciplinary Communication\n",
    "## Zooming in on Science Communication \n",
    "### Segment 1 of 2\n",
    "\n",
    "*Lesson Developer: Jennifer Bernstein, bernstjm@usc.edu*"
   ]
  },
  {
   "cell_type": "markdown",
   "metadata": {
    "slideshow": {
     "slide_type": "slide"
    }
   },
   "source": [
    "## Thank you for helping our study\n",
    "\n",
    "\n",
    "<a href=\"#/slide-1-0\" class=\"navigate-right\" style=\"background-color:blue;color:white;padding:8px;margin:2px;font-weight:bold;\">Continue with the lesson</a>\n",
    "\n",
    "Throughout this lesson you will see reminders, like the one below, to ensure that all participants understand that they are in a voluntary research study.\n",
    "\n",
    "### Reminder\n",
    "\n",
    "<font size=\"+1\">\n",
    "\n",
    "By continuing with this lesson you are granting your permission to take part in this research study for the Hour of Cyberinfrastructure: Developing Cyber Literacy for GIScience project. In this study, you will be learning about cyberinfrastructure and related concepts using a web-based platform that will take approximately one hour per lesson. Participation in this study is voluntary.\n",
    "\n",
    "Participants in this research must be 18 years or older. If you are under the age of 18 then please exit this webpage or navigate to another website such as the Hour of Code at https://hourofcode.com, which is designed for K-12 students.\n",
    "\n",
    "If you are not interested in participating please exit the browser or navigate to this website: http://www.umn.edu. Your participation is voluntary and you are free to stop the lesson at any time.\n",
    "\n",
    "For the full description please navigate to this website: <a href=\"../../gateway-lesson/gateway/gateway-1.ipynb\">Gateway Lesson Research Study Permission</a>.\n",
    "\n",
    "</font>"
   ]
  },
  {
   "cell_type": "code",
   "execution_count": null,
   "metadata": {
    "hide_input": true,
    "init_cell": true,
    "slideshow": {
     "slide_type": "skip"
    },
    "tags": [
     "Hide"
    ]
   },
   "outputs": [],
   "source": [
    "# This code cell starts the necessary setup for Hour of CI lesson notebooks.\n",
    "# First, it enables users to hide and unhide code by producing a 'Toggle raw code' button below.\n",
    "# Second, it imports the hourofci package, which is necessary for lessons and interactive Jupyter Widgets.\n",
    "# Third, it helps hide/control other aspects of Jupyter Notebooks to improve the user experience\n",
    "# This is an initialization cell\n",
    "# It is not displayed because the Slide Type is 'Skip'\n",
    "\n",
    "from IPython.display import HTML, IFrame, Javascript, display\n",
    "from ipywidgets import interactive\n",
    "import ipywidgets as widgets\n",
    "from ipywidgets import Layout, Textarea, HBox, VBox\n",
    "\n",
    "import getpass # This library allows us to get the username (User agent string)\n",
    "\n",
    "# import package for hourofci project\n",
    "import sys\n",
    "sys.path.append('../../supplementary') # relative path (may change depending on the location of the lesson notebook)\n",
    "import hourofci\n",
    "\n",
    "import warnings\n",
    "warnings.filterwarnings('ignore') # Hide warnings\n",
    "\n",
    "# load javascript to initialize/hide cells, get user agent string, and hide output indicator\n",
    "# hide code by introducing a toggle button \"Toggle raw code\"\n",
    "# HTML(''' \n",
    "#     <script type=\"text/javascript\" src=\\\"../../supplementary/js/custom.js\\\"></script>\n",
    "    \n",
    "#     <input id=\"toggle_code\" type=\"button\" value=\"Toggle raw code\">\n",
    "# ''')\n",
    "\n",
    "HTML(''' \n",
    "    <script type=\"text/javascript\" src=\\\"../../supplementary/js/custom.js\\\"></script>\n",
    "    \n",
    "    <style>\n",
    "        .output_prompt{opacity:0;}\n",
    "    </style>\n",
    "    \n",
    "    <input id=\"toggle_code\" type=\"button\" value=\"Toggle raw code\">\n",
    "''')\n"
   ]
  },
  {
   "cell_type": "markdown",
   "metadata": {
    "slideshow": {
     "slide_type": "slide"
    }
   },
   "source": [
    "## What IS Interdisciplinary Communications? And why does it matter?\n",
    "*\tWell, it’s complicated! The term is essentially unsettled because it relies on the term “disciplinary”, which is also unsettled\n",
    "*\tThat said, interdisciplinary communication (IC) is the use of communication tools to facilitate integration between different subject areas\n",
    "</p>\n",
    "\n",
    "### Why does IC matter in the context of Cyberinfrastructure (CI)?\n",
    "*\tThrough data-sharing, CI supports interdisciplinary problem solving (social, environmental, economic, etc.)\n",
    "*\tWith CI’s increase in data speed and accessibility, it’s even more important for there to be clear communication between users, managers, analysts, and the general public\n",
    "*\tThe type of problem solving enabled by CI needs IC to maximize its potential\n"
   ]
  },
  {
   "cell_type": "markdown",
   "metadata": {
    "slideshow": {
     "slide_type": "slide"
    }
   },
   "source": [
    "## Science Communication \n",
    "This lesson covers science communication, a particular type of interdisciplinary communication \n",
    "\n",
    "Science communication is \"The use of appropriate skills, media, activities, and dialogue to produce one or more of the following <font style=\"color:red;\"><b>personal responses</b></font> to science: \n",
    "    \n",
    "<ul>\n",
    "    <li>\n",
    "<font style=\"color:red;\">Awareness</font>, including familiarity with new aspects of science;\n",
    "    </li>\n",
    "    <li>\n",
    "        <font style=\"color:red;\">Enjoyment</font> or other affective responses, e.g. appreciating science as entertainment or art; \n",
    "    </li>\n",
    "    <li>\n",
    "        <font style=\"color:red;\">Interest</font>, as evidenced by voluntary involvement with science or its communication; \n",
    "    </li>\n",
    "    <li>\n",
    "        <font style=\"color:red;\">Opinions</font>, the forming, reforming, or confirming of science-related attitudes; \n",
    "    </li>\n",
    "    <li>\n",
    "        <font style=\"color:red;\">Understanding</font> of science, its content, processes, and social factors. Science communication may involve science practitioners, mediators, and other members of the general public, either peer-to-peer or between groups” [1].\n",
    "    </li>\n",
    "</ul>\n",
    "\n",
    "<font style=\"font-size:17px;\">[1] Burns, T. W., O'Connor, D. J., & Stocklmayer, S. M. (2003). Science communication: a contemporary definition. Public understanding of science, 12(2), 183-202.</font>\n"
   ]
  },
  {
   "cell_type": "markdown",
   "metadata": {
    "slideshow": {
     "slide_type": "slide"
    }
   },
   "source": [
    "## Why do we need Science Communication? \n",
    "In the 1970’s, scientists were confused as to why the public thought nuclear energy was dangerous. \n",
    "There was a perception of nuclear as risky and fossil fuels as safe….despite data showing otherwise. Nuclear is one of the safest forms of energy when compared to air pollution. So, what happened?\n",
    "\n",
    "Scientists came to realize that communicating the findings of their data was a field unto itself.\n",
    "\n",
    "Initially, researchers settled on the <i>deficit model</i> of science communition which is the idea that <font style=\"color:red;\">the public does not understand or act on scientific knowledge because they do not have enough information. </font>\n",
    "\n",
    "Science communication was simply seen as a form of information transmission. The idea was that the facts speak for themselves; findings will be interpreted the same by all groups. <br>"
   ]
  },
  {
   "cell_type": "markdown",
   "metadata": {
    "slideshow": {
     "slide_type": "fragment"
    }
   },
   "source": [
    "## That isn’t true."
   ]
  },
  {
   "cell_type": "markdown",
   "metadata": {
    "slideshow": {
     "slide_type": "slide"
    }
   },
   "source": [
    "The deficit model <font style=\"color:red;\"><b>has been widely debunked.</b></font> \n",
    "### Why?\n",
    "\n",
    "It assumes a one-way means of communication, and is condescending towards audiences.\n",
    "\n",
    "More information does not change people’s understanding or acceptance of science. \n",
    "\n",
    "The strongest predictors of acceptance are not scientific accuracy or comprehension. Rather they are\n",
    "<ul>\n",
    "<li>Political partisanship \n",
    "<li>Religious identity \n",
    "<li>Demographics (race and gender, in particular)\n",
    "</ul>\n",
    "\n",
    "<b>Basically, telling people more about the data doesn’t work.</b>"
   ]
  },
  {
   "cell_type": "markdown",
   "metadata": {
    "slideshow": {
     "slide_type": "slide"
    }
   },
   "source": [
    "## So how do people understand science?  \n",
    "Risk Perception plays a major role.\n",
    "<ul>\n",
    "    <li>\n",
    "        <b><font color=\"red\">Risk perception</font></b> refers to the degree to which a phenomenon (think nuclear power, GMO’s, vaccinations, etc.) is seen as having adverse effects. \n",
    "    </li>\n",
    "    <li>\n",
    "Two major factors are in play here: there is the risk itself, and there is the person interpreting the risk\n",
    "    </li>\n",
    "</ul>\n",
    "\n",
    "\n"
   ]
  },
  {
   "cell_type": "markdown",
   "metadata": {
    "slideshow": {
     "slide_type": "-"
    }
   },
   "source": [
    "Which of the following would you guess would increase perception of a particular risk, and by how much?\n"
   ]
  },
  {
   "cell_type": "code",
   "execution_count": null,
   "metadata": {
    "hide_input": true,
    "slideshow": {
     "slide_type": "-"
    },
    "tags": [
     "Init",
     "Hide"
    ]
   },
   "outputs": [],
   "source": [
    "\n",
    "check1 = widgets.Checkbox(\n",
    "    value=False,\n",
    "    description='A great deal',\n",
    "    disabled=False\n",
    ")\n",
    "check2 = widgets.Checkbox(\n",
    "    value=False,\n",
    "    description='Some',\n",
    "    disabled=False\n",
    ")\n",
    "check3 = widgets.Checkbox(\n",
    "    value=False,\n",
    "    description='Not at all',\n",
    "    disabled=False\n",
    ")\n",
    "\n",
    "check4 = widgets.Checkbox(\n",
    "    value=False,\n",
    "    description='Observability ',\n",
    "    disabled=False\n",
    ")\n",
    "check5 = widgets.Checkbox(\n",
    "    value=False,\n",
    "    description='Degree of catastrophic consequences',\n",
    "    disabled=False\n",
    ")\n",
    "\n",
    "check6 = widgets.Checkbox(\n",
    "    value=False,\n",
    "    description='Voluntariness of exposure',\n",
    "    disabled=False\n",
    ")\n",
    "check7 = widgets.Checkbox(\n",
    "    value=False,\n",
    "    description='Recentness',\n",
    "    disabled=False\n",
    ")\n",
    "check8 = widgets.Checkbox(\n",
    "    value=False,\n",
    "    description='Degree of proximate exposure',\n",
    "    disabled=False\n",
    ")\n",
    "\n",
    "check1.style = {'description_width': '0px'}\n",
    "check2.style = {'description_width': '0px'}\n",
    "check3.style = {'description_width': '0px'}\n",
    "check4.style = {'description_width': '0px'}\n",
    "check5.style = {'description_width': '0px'}\n",
    "check6.style = {'description_width': '0px'}\n",
    "check7.style = {'description_width': '0px'}\n",
    "check8.style = {'description_width': '0px'}\n",
    "\n",
    "box_layout1 = Layout(display='flex',\n",
    "                    border='solid',\n",
    "                    width='40%',\n",
    "                    description_width= '0px')\n",
    "box_layout2 = Layout(display='flex',\n",
    "                    border='solid',\n",
    "                    width='40%')\n",
    "\n",
    "# Submit button\n",
    "button1 = widgets.Button(\n",
    "    description = 'Submit',\n",
    "    disabled = False,\n",
    "    button_style = '',\n",
    "    icon = 'check'\n",
    ")\n",
    "\n",
    "vb1 = VBox((check1, check2, check3), layout=box_layout1)\n",
    "vb2 = VBox((check4, check5, check6, check7, check8), layout=box_layout2)\n",
    "hb1 = HBox((vb2, vb1))\n",
    "# Output\n",
    "output1 = widgets.Output()\n",
    "\n",
    "display(hb1, button1, output1)\n",
    "\n",
    "# Output function\n",
    "def out(b):\n",
    "    with output1:\n",
    "        output1.clear_output()\n",
    "        if (check1.value and check4.value and check5.value and check6.value and check7.value and check8.value and not check3.value and not check2.value):\n",
    "            print(\"Correct! All affect risk perception a great deal.\")\n",
    "        else:\n",
    "            print(\"Not quite! All affect risk perception a great deal.\")\n",
    "\n",
    "# Handle click event\n",
    "button1.on_click(out)\n"
   ]
  },
  {
   "cell_type": "markdown",
   "metadata": {
    "slideshow": {
     "slide_type": "slide"
    }
   },
   "source": [
    "Which demographic groups do you think have the lowest level of risk perception?\n"
   ]
  },
  {
   "cell_type": "code",
   "execution_count": null,
   "metadata": {
    "hide_input": false,
    "scrolled": true,
    "slideshow": {
     "slide_type": "-"
    },
    "tags": [
     "Init",
     "Hide"
    ]
   },
   "outputs": [],
   "source": [
    "o1='Men, identify as white'\n",
    "o2='Women, identify as white'\n",
    "o3=\"Men, identify as non-white\"\n",
    "o4=\"Women, identify as non-white\"\n",
    "\n",
    "widget21 = widgets.RadioButtons(\n",
    "    options = [o1, o2, o3, o4],\n",
    "    description = ' ', style={'description_width': 'initial'},\n",
    "    layout = Layout(width='100%'),\n",
    "    value = None\n",
    ")\n",
    "\n",
    "ans = 'Men, who identify as white perceive the lowest levels of risk. The other demographic groups tend to perceive risk similarly.'\n",
    "def out2():\n",
    "    return print(ans)\n",
    "\n",
    "display(widget21)\n",
    "\n",
    "hourofci.SubmitBtn2(widget21, out2)"
   ]
  },
  {
   "cell_type": "markdown",
   "metadata": {
    "slideshow": {
     "slide_type": "slide"
    }
   },
   "source": [
    "Which types of prior beliefs affects people’s acceptance of science, and by how much?"
   ]
  },
  {
   "cell_type": "code",
   "execution_count": null,
   "metadata": {
    "hide_input": false,
    "scrolled": true,
    "slideshow": {
     "slide_type": "-"
    },
    "tags": [
     "Init",
     "Hide"
    ]
   },
   "outputs": [],
   "source": [
    "    \n",
    "check11 = widgets.Checkbox(\n",
    "    value=False,\n",
    "    description='A great deal',\n",
    "    disabled=False\n",
    ")\n",
    "check12 = widgets.Checkbox(\n",
    "    value=False,\n",
    "    description='Some',\n",
    "    disabled=False\n",
    ")\n",
    "check13 = widgets.Checkbox(\n",
    "    value=False,\n",
    "    description='Not at all',\n",
    "    disabled=False\n",
    ")\n",
    "\n",
    "check14 = widgets.Checkbox(\n",
    "    value=False,\n",
    "    description='Scientific reasoning ability',\n",
    "    disabled=False\n",
    ")\n",
    "check15 = widgets.Checkbox(\n",
    "    value=False,\n",
    "    description='Science skepticism',\n",
    "    disabled=False\n",
    ")\n",
    "\n",
    "check16 = widgets.Checkbox(\n",
    "    value=False,\n",
    "    description='Anxiety',\n",
    "    disabled=False\n",
    ")\n",
    "\n",
    "check11.style = {'description_width': '0px'}\n",
    "check12.style = {'description_width': '0px'}\n",
    "check13.style = {'description_width': '0px'}\n",
    "check14.style = {'description_width': '0px'}\n",
    "check15.style = {'description_width': '0px'}\n",
    "check16.style = {'description_width': '0px'}\n",
    "\n",
    "\n",
    "box_layout11 = Layout(display='flex',\n",
    "                    border='solid',\n",
    "                    width='20%',\n",
    "                    description_width= '0px')\n",
    "box_layout12 = Layout(display='flex',\n",
    "                    border='solid',\n",
    "                    width='40%')\n",
    "\n",
    "# Submit button\n",
    "button11 = widgets.Button(\n",
    "    description = 'Submit',\n",
    "    disabled = False,\n",
    "    button_style = '',\n",
    "    icon = 'check'\n",
    ")\n",
    "\n",
    "vb11 = VBox((check11, check12, check13), layout=box_layout11)\n",
    "vb12 = VBox((check14, check15, check16), layout=box_layout12)\n",
    "hb11 = HBox((vb12, vb11))\n",
    "# Output\n",
    "output11 = widgets.Output()\n",
    "\n",
    "display(hb11, button11, output11)\n",
    "\n",
    "# Output function\n",
    "def out1(b):\n",
    "    with output11:\n",
    "        output11.clear_output()\n",
    "        if (check11.value and check14.value and check15.value and not check16.value and not check13.value and not check12.value):\n",
    "            print(\"Correct! All a great deal except anxiety, which is “some.”\")\n",
    "        else:\n",
    "            print(\"Not quite! All a great deal except anxiety, which is “some.”\")\n",
    "\n",
    "# Handle click event\n",
    "button11.on_click(out1)\n"
   ]
  },
  {
   "cell_type": "markdown",
   "metadata": {
    "slideshow": {
     "slide_type": "slide"
    }
   },
   "source": [
    "## So how do people understand science?  \n",
    "\n",
    "\n",
    "Motivated Reasoning\n",
    "<ul>\n",
    "    <li>\n",
    "Humans evaluate new information based on their pre-existing worldviews \n",
    "    </li>\n",
    "    <li>\n",
    "When new information contradicts one’s worldview, it is more likely the science will be rejected.\n",
    "    </li>\n",
    "</ul>\n",
    "\n",
    "Reference Groups \n",
    "<ul>\n",
    "    <li>\n",
    "A reference group is a group of people to whom an individual compares themselves\n",
    "    </li>\n",
    "    <li>\n",
    "The opinions of thought leaders in one’s reference group is a strong predictor of science interpretation\n",
    "    </li>\n",
    "</ul>\n"
   ]
  },
  {
   "cell_type": "markdown",
   "metadata": {
    "slideshow": {
     "slide_type": "slide"
    }
   },
   "source": [
    "## The Lay Public and Science Literacy\n",
    "If it’s not a lack of information, how does the public reason about the reliability of scientific data?\n",
    "<ol>\n",
    "    <li>\n",
    "Have scientific predictions come true?\n",
    "    </li> \n",
    "    <li>\n",
    "Have scientists consulted other types of available knowledge?\n",
    "    </li> \n",
    "    <li>\n",
    "Do scientists admit when they are wrong?\n",
    "    </li> \n",
    "    <li>\n",
    "What are the social and institutional connections of scientists?\n",
    "    </li> \n",
    "    <li>\n",
    "How do findings line up with perceived reality (e.g., heat waves and climate change)?\n",
    "    </li> \n",
    "</ol>\n",
    "\n",
    "\n",
    "<b>Bottom line?</b> <font style=\"color:red;\">Many factors influence how an individual interprets science, from the topic to the characteristics of the Individual. How the general public understands and perceives science is based on factors other than science communication. </font>\n"
   ]
  },
  {
   "cell_type": "markdown",
   "metadata": {
    "slideshow": {
     "slide_type": "slide"
    }
   },
   "source": [
    "## “Above all else, show the data”\n",
    "Okay, audiences are complicated! Now what?\n",
    "   ### Information Design is KEY\n",
    "   <ul>\n",
    "    <li>\n",
    "       It is important to design information products that communicate in ways that are <font style=\"color:red;\">efficient</font>, <font style=\"color:red;\">clear</font>, and <font style=\"color:red;\">honest</font>.\n",
    "        <ul>\n",
    "            <li>\n",
    "                Often it means <font style=\"color:red;\">carving up information</font> and <font style=\"color:red;\">packaging it for particular audiences.</font>\n",
    "            </li>\n",
    "        </ul>\n",
    "    </li>\n",
    "    <li>\n",
    "       Less about aesthetics, and more about clarity (though there is always room for creativity). \n",
    "    </li>\n",
    "    <li>\n",
    "       Cartography is a type of information design, as are charts, tables, and other visualizations.\n",
    "    </li>\n",
    "   </ul>"
   ]
  },
  {
   "cell_type": "markdown",
   "metadata": {
    "slideshow": {
     "slide_type": "slide"
    }
   },
   "source": [
    "   ### Pay attention to the Data to Ink Ratio\n",
    "   <ul>\n",
    "    <li>\n",
    "Information design should strive to communicate the most amount of information with the least amount of ink (Tufte 2001)\n",
    "    </li>\n",
    "    <li>\n",
    "        “<font style=\"color:red;\">Chart junk</font>” is ink that does not add information; this should not be confused with aesthetics \n",
    "    </li>\n",
    "   </ul>\n",
    "\n",
    "Watch the video in the next slide to learn more about the Data to Ink Ratio. "
   ]
  },
  {
   "cell_type": "code",
   "execution_count": null,
   "metadata": {
    "hide_input": true,
    "slideshow": {
     "slide_type": "slide"
    },
    "tags": [
     "Hide",
     "Init"
    ]
   },
   "outputs": [],
   "source": [
    "from IPython.display import YouTubeVideo\n",
    "\n",
    "YouTubeVideo('JIMUzJzqaA8', width=800,height=480)\n",
    "  "
   ]
  },
  {
   "cell_type": "markdown",
   "metadata": {
    "slideshow": {
     "slide_type": "slide"
    }
   },
   "source": [
    "#### A brief sidenote: Who is Edward Tufte?\n",
    "<table>\n",
    "    <tr style=\"background: #fff; text-align: left\">\n",
    "        <td style=\"width: 30%;background: #fff; text-align: left\">\n",
    "<img src=\"supplementary/tufte.jpg\" width=\"50%\">\n",
    "        </td>\n",
    "        <td style=\"width: 70%; background: #fff; text-align: left; vertical-align: top;font-size: 23px;\"> \n",
    "            <b>Edward Tufte</b> is a statistician who is well-known for his influence on the world of information design. He is best known for the “data-ink” ratio, his use of small multiples and sparklines, and his vicious critique of PowerPoint.\n",
    "    </p>\n",
    "Learn more on his website: <a href = https://www.edwardtufte.com/tufte> https://www.edwardtufte.com/tufte </a>\n",
    "    </td>\n",
    "    </tr>\n",
    "</table>\n"
   ]
  },
  {
   "cell_type": "markdown",
   "metadata": {
    "slideshow": {
     "slide_type": "slide"
    }
   },
   "source": [
    "Your turn. Look at the images below. On the left, there is a great amount of ink not conveying information. The right uses much less ink to convey the same information, but you could still remove more. What additional ink could be eliminated from the figure on the right? \n",
    "\n",
    "<table style=\"width:60%\">\n",
    "    <tr style=\"background: #fff; text-align: left; border:solid;\">\n",
    "        <td style=\"background: #fff; text-align: left;border:solid\">\n",
    "            <center><img src=\"supplementary/monster.jpg\"></center>\n",
    "        </td>\n",
    "        <td style=\"background: #fff; text-align: left; vertical-align: top;border:solid\"> \n",
    "           <center><img src=\"supplementary/monster_inkless.jpg\"></center>\n",
    "    </td>\n",
    "    </tr>\n",
    "</table>"
   ]
  },
  {
   "cell_type": "code",
   "execution_count": null,
   "metadata": {
    "hide_input": false,
    "scrolled": false,
    "slideshow": {
     "slide_type": "-"
    },
    "tags": [
     "Init",
     "Hide"
    ]
   },
   "outputs": [],
   "source": [
    "tarea1 = Textarea(\n",
    "            value='',\n",
    "            placeholder='Type your answer here',\n",
    "            description='',\n",
    "            disabled=False,\n",
    "            layout=Layout( height='100px', min_height='100px', width='500px')\n",
    "            )\n",
    "\n",
    "\n",
    "display(tarea1)\n",
    "\n",
    "hourofci.SubmitBtn2(tarea1)"
   ]
  },
  {
   "cell_type": "markdown",
   "metadata": {
    "slideshow": {
     "slide_type": "slide"
    }
   },
   "source": [
    "**Answer:** \n",
    "<ul>\n",
    "    <li>\n",
    "The bars could be made into vertical lines.\n",
    "    </li>\n",
    "    <li>\n",
    "The tickmarks could be eliminated. \n",
    "    </li>\n",
    "    <li>\n",
    "The box around the outside of the chart could be removed.\n",
    "    </li>\n",
    "</ul>\n",
    "\n"
   ]
  },
  {
   "cell_type": "markdown",
   "metadata": {
    "slideshow": {
     "slide_type": "slide"
    }
   },
   "source": [
    "## Now it’s your turn!\n",
    "\n",
    "Look at the chart below. Click on the components that violate the data-ink ratio. What ink doesn’t communicate additional information?\n",
    "\n",
    "<center><font style=\"color:blue;\">INSERT INTERACTIVE UNIT 2: Erase non-data ink HERE]</font></center>\n"
   ]
  },
  {
   "cell_type": "code",
   "execution_count": null,
   "metadata": {
    "hide_input": false,
    "slideshow": {
     "slide_type": "skip"
    },
    "tags": [
     "Hide",
     "Init"
    ]
   },
   "outputs": [],
   "source": [
    "# %%html\n",
    "# <iframe src = \"https://xkcd.com/simplewriter\" width=\"100%\" height=\"500\"></iframe>\n"
   ]
  },
  {
   "cell_type": "markdown",
   "metadata": {
    "slideshow": {
     "slide_type": "slide"
    }
   },
   "source": [
    "## Color\n",
    "<ul>\n",
    "    <li>\n",
    "Color is a critical component of effective information design, especially in cartography\n",
    "    </li>\n",
    "    <li>\n",
    "First and foremost, color should mirror the data being presented (See <a href=\"https://colorbrewer2.org/#type=sequential&scheme=BuGn&n=3\">ColorBrewer</a> for more! Click on the information icon to learn more about number of classes, nature of data, only show) \n",
    "    </li>\n",
    "</ul>\n",
    "\n",
    "<table>\n",
    "    <tr style=\"background: #fff; text-align: left; vertical-align:\">\n",
    "        <td style=\"background: #fff; text-align: left; font-size: 23px;\">\n",
    "            <b>Sequential</b> (0, 5, 10, 20, 25)\n",
    "        </td>\n",
    "        <td style=\"width: 40%; background: #fff; text-align: left; vertical-align: top;\"> \n",
    "            <img src=\"supplementary/seq.png\" width=\"100%\">\n",
    "    </td>\n",
    "    </tr>\n",
    "    <tr style=\"background: #fff; text-align: left; vertical-align:\">\n",
    "        <td style=\"background: #fff; text-align: left; font-size: 23px;\">\n",
    "            <b>Divergent</b> (-10, -5, 0, 5, 10)\n",
    "        </td>\n",
    "        <td style=\"width: 40%; background: #fff; text-align: left; vertical-align: top;\"> \n",
    "            <img src=\"supplementary/diver.png\" width=\"100%\">\n",
    "    </td>\n",
    "    </tr>\n",
    "    <tr style=\"background: #fff; text-align: left; vertical-align:\">\n",
    "        <td style=\"background: #fff; text-align: left; font-size: 16px;\">\n",
    "            <b style=\"font-size: 23px;\">Qualitative</b> (Writing, reading, emails, walking the dog, twitter, meetings)\n",
    "        </td>\n",
    "        <td style=\"width: 40%; background: #fff; text-align: left; vertical-align: top;\"> \n",
    "            <img src=\"supplementary/qual.png\" width=\"100%\">\n",
    "    </td>\n",
    "    </tr>\n",
    "</table>\n"
   ]
  },
  {
   "cell_type": "markdown",
   "metadata": {
    "slideshow": {
     "slide_type": "slide"
    }
   },
   "source": [
    "## A fun fact about color!\n",
    "\n",
    "While the rainbow color scheme is culturally understood to be linear, it is qualitative! \n",
    "\n",
    "Can you see how both of these things can be true?\n"
   ]
  },
  {
   "cell_type": "markdown",
   "metadata": {
    "slideshow": {
     "slide_type": "slide"
    }
   },
   "source": [
    "## Colorblindness \n",
    "\n",
    "\n",
    "<ul>\n",
    "    <li>\n",
    "       Color Blindness affects 7% of men and should be incorporated when we design maps\n",
    "    </li>\n",
    "    <li>\n",
    "        Primarily confusion between red and green, but it’s more complicated than that…\n",
    "    </li>\n",
    "</ul>\t\n",
    "\n",
    ">Red/green color blindness is not simply a problem with confusing red and green. It also causes problems with an unlimited pairing of colors that fall on the confusion line. For example problems can occur distinguishing between blue-green and pink or blue-green and purple. Color-blind individuals may not be able to distinguish between olive-colored and rust-colored socks, while they could distinguish between bright green and olive socks, rust and red socks or rust and bright green socks. <br>$\\qquad$ $\\qquad$ $\\qquad$ $\\qquad$ $\\qquad$-Cynthia Brewer in Dempsey 2011"
   ]
  },
  {
   "cell_type": "markdown",
   "metadata": {
    "slideshow": {
     "slide_type": "slide"
    }
   },
   "source": [
    "## Colorblindness\n",
    "\n",
    "<table>\n",
    "    <tr style=\"background: #fff; text-align: left; vertical-align:\">\n",
    "        <td style=\"width: 50%; background: #fff; text-align: left;\"> \n",
    "            <h2>The map presented to a general audience</h2>\n",
    "           <img src=\"supplementary/map_l.png\" width=300>\n",
    "        </td>\n",
    "        <td>\n",
    "        </td>\n",
    "        <td style=\"width: 50%; background: #fff; text-align: left;\">\n",
    "            <h2>The same map to one with colorblindness</h2>\n",
    "            <img src=\"supplementary/map_r.png\" width=300>\n",
    "        </td>\n",
    "    </tr>\n",
    "</table>\n",
    "\n",
    "\n"
   ]
  },
  {
   "cell_type": "markdown",
   "metadata": {
    "slideshow": {
     "slide_type": "slide"
    }
   },
   "source": [
    "## Colorblindness\n",
    "\n",
    "It gets more complicated! This set of maps shows the different types of colorblindness and how they affect map-reading. As Cynthia Brewer states, it’s not enough to think about the red/green issue!\n",
    "\n",
    "\n",
    "<center><img src=\"supplementary/blind.jpg\" width=700></center>"
   ]
  },
  {
   "cell_type": "markdown",
   "metadata": {
    "slideshow": {
     "slide_type": "slide"
    }
   },
   "source": [
    "## Colorblindness\n",
    "\n",
    "Let’s revisit our chart that didn’t maximize the data ink ratio. Based on what you learned, what other issues do you see? Think about what spaces could be improved, and why.\n",
    "\n",
    "\n",
    "<center><img src=\"supplementary/pie.png\" width=500></center>"
   ]
  },
  {
   "cell_type": "markdown",
   "metadata": {
    "slideshow": {
     "slide_type": "slide"
    }
   },
   "source": [
    "## Visualizing for Biodiversity: Applying what we’ve learned\n",
    "Cyberinfrastructure and visualization; More data, more collaboration, more quickly\n",
    "\n",
    "#### Scenario\n",
    "<ul>\n",
    "    <li>\n",
    "You are a data analyst presenting [biodiversity data?] to [Senate? House?] for [?] (these are kakemp@usc.edu thoughts)\n",
    "    </li>\n",
    "</ul>\n",
    "\n",
    "#### Think about what we have learned\n",
    "\n",
    "<ul>\n",
    "    <li>\n",
    "Different audiences interpret science differently\n",
    "    </li>\n",
    "    <li>\n",
    "All ink should maximize information\n",
    "    </li>\n",
    "    <li>\n",
    "Color schemes and colorblindness\n",
    "    </li>\n",
    "</ul>\n",
    "\n"
   ]
  },
  {
   "cell_type": "markdown",
   "metadata": {
    "slideshow": {
     "slide_type": "slide"
    }
   },
   "source": [
    "Based on your interpretation of the data, how would you make the following science communication decisions?\n",
    "\n",
    "<center><font style=\"color:blue;\">[INSERT INTERACTIVE UNIT 3: Visualizing Biodiversity HERE] [Note: Jenn would take way too long to put this together, so handing it off]</font></center>"
   ]
  },
  {
   "cell_type": "markdown",
   "metadata": {
    "hide_input": false,
    "slideshow": {
     "slide_type": "slide"
    }
   },
   "source": [
    "\n",
    "\n",
    "<font size=\"+1\"><a style=\"background-color:blue;color:white;padding:12px;margin:10px;font-weight:bold;\" href=\"ic-exploration.ipynb\">Click here to go to the next notebook.</a></font>"
   ]
  }
 ],
 "metadata": {
  "celltoolbar": "Slideshow",
  "kernelspec": {
   "display_name": "Python 3 (ipykernel)",
   "language": "python",
   "name": "python3"
  },
  "language_info": {
   "codemirror_mode": {
    "name": "ipython",
    "version": 3
   },
   "file_extension": ".py",
   "mimetype": "text/x-python",
   "name": "python",
   "nbconvert_exporter": "python",
   "pygments_lexer": "ipython3",
   "version": "3.8.1"
  },
  "rise": {
   "autolaunch": true,
   "overlay": "<div class='hciheader'></div><div class='hcifooter'></div>",
   "scroll": true
  }
 },
 "nbformat": 4,
 "nbformat_minor": 4
}
