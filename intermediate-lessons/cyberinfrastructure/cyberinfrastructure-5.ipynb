{
 "cells": [
  {
   "cell_type": "code",
   "execution_count": null,
   "metadata": {
    "hide_input": false,
    "slideshow": {
     "slide_type": "-"
    },
    "tags": [
     "Init",
     "Hide"
    ]
   },
   "outputs": [],
   "source": [
    "%%html\n",
    "\n",
    "<style>\n",
    ".csblink {\n",
    "  animation: mymove 2s steps(1) infinite;\n",
    "}\n",
    ".csblink2 {\n",
    "  animation: mymove2 2s steps(1) infinite;\n",
    "}\n",
    "\n",
    "@keyframes mymove {\n",
    "  0%   {opacity: 0;}\n",
    "  50% {opacity: 1;}\n",
    "  100% {opacity: 0;}\n",
    "}\n",
    "@keyframes mymove2 {\n",
    "  0%   {opacity: 1;}\n",
    "  50% {opacity: 0;}\n",
    "  100% {opacity: 1;}\n",
    "}\n",
    "</style>\n",
    "\n",
    "<h3>Introduction to Cyberinfrastructure</h3>\n",
    "<h1><font style=\"color:#98bdef;\">The Command Line</font></h1>\n",
    "Segment 4 of 5\n",
    "<br><br><font size=\"10px\">><span class=\"csblink\">_</span></font>\n",
    "\n",
    "<h4>In this section we introduce how to use a command line to interact with a computer's file system.</h4>\n",
    "\n",
    "<p>In brief, you can navigate a computer's file system using the command line.</p>"
   ]
  },
  {
   "cell_type": "code",
   "execution_count": null,
   "metadata": {
    "hide_input": true,
    "init_cell": true,
    "slideshow": {
     "slide_type": "skip"
    },
    "tags": [
     "Hide"
    ]
   },
   "outputs": [],
   "source": [
    "# This code cell starts the necessary setup for Hour of CI lesson notebooks.\n",
    "# First, it enables users to hide and unhide code by producing a 'Toggle raw code' button below.\n",
    "# Second, it imports the hourofci package, which is necessary for lessons and interactive Jupyter Widgets.\n",
    "# Third, it helps hide/control other aspects of Jupyter Notebooks to improve the user experience\n",
    "# This is an initialization cell\n",
    "# It is not displayed because the Slide Type is 'Skip'\n",
    "\n",
    "from IPython.display import HTML, IFrame, Javascript, display\n",
    "from ipywidgets import interactive\n",
    "import ipywidgets as widgets\n",
    "from ipywidgets import Layout\n",
    "\n",
    "import getpass # This library allows us to get the username (User agent string)\n",
    "\n",
    "# import package for hourofci project\n",
    "import sys\n",
    "sys.path.append('../../supplementary') # relative path (may change depending on the location of the lesson notebook)\n",
    "import hourofci\n",
    "\n",
    "# load javascript to initialize/hide cells, get user agent string, and hide output indicator\n",
    "# hide code by introducing a toggle button \"Toggle raw code\"\n",
    "HTML(''' \n",
    "    <script type=\"text/javascript\" src=\\\"../../supplementary/js/custom.js\\\"></script>\n",
    "    \n",
    "    <style>\n",
    "        .output_prompt{opacity:0;}\n",
    "    </style>\n",
    "    \n",
    "    <input id=\"toggle_code\" type=\"button\" value=\"Toggle raw code\">\n",
    "''')"
   ]
  },
  {
   "cell_type": "markdown",
   "metadata": {
    "slideshow": {
     "slide_type": "slide"
    }
   },
   "source": [
    "# Introduction\n",
    "\n",
    "Great job on learning your first commands!\n",
    "\n",
    "<img width=\"300px\" src=\"supplementary/file-cabinet.png\" alt=\"a file cabinet\" style=\"float:right\">\n",
    "\n",
    "So far the commands you have learned have been self contained or simply report back info. But you can do much more! For any type of advanced command line use, you will need to be familiar with the <font style=\"color:#98bdef\"><b>file system/directory structure</b></font>. Think of the file system as a <font style=\"color:#98bdef\"><b>virtual file cabinet</b></font>, where all the data (files, programs, even other folders) are stored in named file folders.\n",
    "\n",
    "<img src=\"supplementary/thought_bubble.png\" alt=\"a thought bubble\"  width=50px height=50px style=\"float:left; padding-left:0.5em; padding-right:0.5em; margin-top:8px\"/><font style=\"color:#98bdef\"><b>Think briefly:</b></font> How do you keep track and organize things in your house? In your room? In your backpack? On your computer?"
   ]
  },
  {
   "cell_type": "markdown",
   "metadata": {
    "slideshow": {
     "slide_type": "slide"
    }
   },
   "source": [
    "<img width=\"300px\" src=\"supplementary/filesystemdiag.png\" alt=\"a diagram of a computer file system with folders and files\" style=\"float:left\">\n",
    "\n",
    "# File system structure\n",
    "\n",
    "On a computer, the file system is organized as a series of hierarchical, <font style=\"color:#98bdef\"><b>nested folders</b></font> (also called <i>directories</i>). Every folder is contained in one giant base folder called the <font style=\"color:#98bdef\"><b>root folder</b></font>. I.e. either the folder is the root folder, or the folder is within a folder that is in the root folder, or the folder is in a folder in a folder that is in root folder (and so forth). The root folder is often referred to using `/` (the forward slash symbol).  \n",
    "\n",
    "<i>Note: the term \"directory\" is also used for a folder within the computer filesystem.</i>"
   ]
  },
  {
   "cell_type": "code",
   "execution_count": null,
   "metadata": {
    "hide_input": true,
    "scrolled": true,
    "slideshow": {
     "slide_type": "slide"
    },
    "tags": [
     "Init",
     "Hide"
    ]
   },
   "outputs": [],
   "source": [
    "%%html\n",
    "\n",
    "<table style=\"background-color:#FFFFFF;text-align:center;\">\n",
    "    <tr style=\"background-color:#FFFFFF; font-family:monospace; font-size:20px;\">\n",
    "        <td>\n",
    "            <div><div class=\"csblink\"><img width=\"100px\" src=\"supplementary/switch1.png\" style=\"position: absolute; top: 10px;\"></div>\n",
    "            <div class=\"csblink2\"><img width=\"100px\" src=\"supplementary/switch2.png\" style=\"position: absolute; top: 10px;\"></div></div>\n",
    "        </td>\n",
    "        <td>    \n",
    "            <center><img width=\"400px\" src=\"supplementary/current_dir.jpeg\"></center>\n",
    "        </td>\n",
    "        <td> \n",
    "            <center><img width=\"600px\" src=\"supplementary/leaf.png\"></center>\n",
    "        </td>\n",
    "    </tr>\n",
    "    <tr style=\"background-color:#FFFFFF;\">\n",
    "        <td style=\"text-align:left;\">\n",
    "            You need to navigate between folders using text commands.\n",
    "        </td>\n",
    "        <td style=\"text-align:center;\">\n",
    "            The command line lives in a single folder/directory at a time. Often this folder will be shown before the prompt so you remember where you currently are located! \n",
    "        </td>\n",
    "        <td style=\"text-align:right;\">\n",
    "            Because the file system is hierarchical, each directory has a <i>path</i>, which is a list of all the folders between the directory and the root directory. \n",
    "        </td>\n",
    "    </tr>\n",
    "</table> \n",
    "\n",
    "<h1>Navigating the filesystem</h1>\n",
    "<p>If you use a graphic user interface, you may be familiar with using folders to organize files and using a mouse to click on different folders. However, with the command line it’s slightly different - you need to use commands to switch between folders.</p>\n",
    "\n",
    "\n"
   ]
  },
  {
   "cell_type": "markdown",
   "metadata": {
    "slideshow": {
     "slide_type": "slide"
    }
   },
   "source": [
    "<img src=\"supplementary/treasure-map.jpg\" alt=\"a map\" width=200px style=\"float:right; padding-left:0.5em; padding-right:0.5em;\"/>\n",
    "\n",
    "# Investigating your current location\n",
    "Once you get deep into the weeds of the file system, it's easy to loose track of where you are. Fortunately, there are commands for figuring out <font style=\"color:#98bdef\"><b>where you are</b></font> and <font style=\"color:#98bdef\"><b>what files or folders are located in your current location</b></font>.\n",
    "\n",
    "## Where am I? - pwd\n",
    "\n",
    "To figure out where you are, use the `pwd` command. `pwd` stands for “print working directory”. This command will tell you the full path where the command line is currently located.\n",
    "\n",
    "## What is here? - ls\n",
    "\n",
    "To figure out what files and folders are located where you are, use the `ls` command. `ls` stands for “list”. This command supports a variety of flags to give more info about the files.\n",
    "\n",
    "<font style=\"font-family:monospace; color:red;\">ls</font> <br> \n",
    "<font style=\"font-family:monospace; color:red;\">ls</font> <font style=\"font-family:monospace; color:green;\">-l</font><br> \n",
    "<font style=\"font-family:monospace; color:red;\">ls</font> <font style=\"font-family:monospace; color:green;\">-R</font>\n",
    "\n",
    "These commands will list the names of all the files in the current directory. The `-l` option will provide more information about the files. The `-R`  option will also show information on files in any subdirectories.\n"
   ]
  },
  {
   "cell_type": "markdown",
   "metadata": {
    "slideshow": {
     "slide_type": "slide"
    }
   },
   "source": [
    "# Moving within the file system\n",
    "## Move! - cd\n",
    "`cd` is one of the most important commands for navigating the file system.\n",
    "\n",
    "<font style=\"font-family:monospace; color:red;\">cd</font> <font style=\"font-family:monospace;color:blue;\">mydir</font> <br> <font style=\"font-family:monospace;color:red;\">cd</font> <font style=\"font-family:monospace; color:blue;\">/my/full/path</font><br> <font style=\"font-family:monospace;  color:red;\">cd</font> <font style=\"font-family:monospace; color:blue;\">/</font><br> <font style=\"font-family:monospace; color:red;\">cd</font> <font style=\"font-family:monospace;  color:blue;\">~</font><br> <font style=\"font-family:monospace;  color:red;\">cd</font> <font style=\"font-family:monospace;  color:blue;\">..</font>\n",
    "\n",
    "\n",
    "`cd` stands for “change directory”. This command will change the command line location to the specified directory (mydir) only if mydir is a directory within the current directory. However, if you specify a full path you can jump to a non-adjacent directory. <br>\n",
    "\n",
    "`/` and `~` are special shortcuts that tell the command line to jump to the root directory and the home directory respectively. `..` is a shortcut to jump to the parent folder of the current folder (i.e. the folder above the current folder)."
   ]
  },
  {
   "cell_type": "markdown",
   "metadata": {
    "slideshow": {
     "slide_type": "slide"
    }
   },
   "source": [
    "<img src=\"supplementary/woman-thumbs.jpg\" alt=\"a woman with thumbs up\" width=200px style=\"float:left; padding-left:0.5em; padding-right:20px\"/>\n",
    "\n",
    "# Some navigational tips\n",
    "\n",
    "## Beware whitespaces!\n",
    "Whitespaces can create issues when navigating the command line. It's a good idea to avoid whitespaces in folder names if you plan to use them in code projects. You can indicate a folder with spaces by including its name in quotation marks or using a `\\` (forward slash) in front of the whitespace.\n",
    "\n",
    "## Tab Complete\n",
    "On most terminals you can save some typing by pressing `tab` when writing the name of a file. The command line will autocomplete as much of a name as it can until it finds two names that start with the same sequence. Then it will wait for you to fill in a unique set of characters that can help distinguish between the conflicts."
   ]
  },
  {
   "cell_type": "markdown",
   "metadata": {
    "hide_input": true,
    "slideshow": {
     "slide_type": "slide"
    }
   },
   "source": [
    "<img src=\"supplementary/direx.png\" alt=\"a sample directory\" width=200px style=\"float:right; padding-left:0.5em; padding-right:0.5em;\"/>\n",
    "\n",
    "# Try it out\n",
    "\n",
    "Use the `pwd`, `ls`, and `cd` commands to learn about and navigate the example file structure pictured below. In the graphic, the orange circle indicates your current position. To run the command, type the command in the right hand side text box below and press `Return` or `Enter`. "
   ]
  },
  {
   "cell_type": "code",
   "execution_count": null,
   "metadata": {
    "hide_input": true,
    "slideshow": {
     "slide_type": "-"
    },
    "tags": [
     "Init",
     "Hide"
    ]
   },
   "outputs": [],
   "source": [
    "import functools\n",
    "\n",
    "txtw = widgets.Text(value='')\n",
    "outw = widgets.Output(value='> ')\n",
    "imghtml = widgets.HTML(value=\"\")\n",
    "\n",
    "cords = [\"120px\", \"90px\"]\n",
    "imagename = \"fs_inter_diag.png\"\n",
    "curfold = \"username\"\n",
    "\n",
    "global holderwg\n",
    "holderwg = widgets.Dropdown(\n",
    "    options=[curfold, imagename, cords])\n",
    "\n",
    "def set_html(iname=\"fs_inter_diag.png\", ctop=\"120px\", cleft=\"90px\"):\n",
    "    return '''<div><img src=\"supplementary/'''+ iname + '''\" width=\"300px\" hight=\"300px\"\n",
    "            style=\"position: relative;\">\n",
    "            <img src=\"supplementary/circled.png\" width=\"70px\"\n",
    "            style=\"position: absolute;\n",
    "            top: ''' + ctop +'''; left: ''' + cleft +''';\"></div>'''\n",
    "\n",
    "imghtml.value = set_html()\n",
    "\n",
    "swb = widgets.Button(description='Show text')\n",
    "swb.value = True\n",
    "\n",
    "def on_swb_clicked(holderwg, b):\n",
    "    curfold = holderwg.options[0]\n",
    "    imagename = holderwg.options[1]\n",
    "    cords = holderwg.options[2]\n",
    "    \n",
    "    if imagename == \"fs_inter_txt.png\":\n",
    "        b.value = False\n",
    "        imgname = \"fs_inter_diag.png\"\n",
    "        b.description='Show text'\n",
    "        imghtml.value = set_html(iname=imgname, ctop=cords[0], cleft=cords[1])\n",
    "    else:\n",
    "        b.value = True\n",
    "        imgname = \"fs_inter_txt.png\"\n",
    "        b.description='Hide text'\n",
    "        imghtml.value = set_html(iname=imgname, ctop=cords[0], cleft=cords[1])\n",
    "    holderwg.options = [curfold, imgname, cords]\n",
    "\n",
    "swb.on_click(functools.partial(on_swb_clicked, holderwg))\n",
    "\n",
    "clayout=widgets.Layout(display='flex', align_items='center')\n",
    "\n",
    "cmdb = widgets.VBox([outw, txtw])\n",
    "imgb = widgets.VBox(children=[imghtml, swb], layout=clayout)\n",
    "tlb = widgets.HBox([imgb, cmdb])\n",
    "\n",
    "display(tlb)\n",
    "\n",
    "with outw:\n",
    "    print(\">\")\n",
    "    \n",
    "\n",
    "pdirl = {\"/\":\"users\",\n",
    "        \"users\":\"username\",\n",
    "        \"username\":\"my pets\\tsights\\twork.txt\",\n",
    "        \"my pets\":\"Cats\",\n",
    "        \"Cats\":\"Spot.txt\",\n",
    "        \"sights\":\"DO.txt\\tNY\",\n",
    "        \"NY\":\"Met.jpg\\tMet.txt\"}\n",
    "\n",
    "updirl = {\"/\":\"/\",\n",
    "         \"users\":\"/\",\n",
    "         \"username\":\"users\",\n",
    "         \"my pets\":\"username\",\n",
    "         \"Cats\":\"my pets\",\n",
    "         \"sights\":\"username\",\n",
    "         \"NY\":\"sights\"}\n",
    "\n",
    "crddirl = {\"/\": [\"-20px\", \"90px\"],\n",
    "         \"users\": [\"50px\", \"90px\"],\n",
    "         \"username\": [\"120px\", \"90px\"],\n",
    "         \"my pets\": [\"180px\", \"160px\"],\n",
    "         \"Cats\":[\"255px\", \"180px\"],\n",
    "         \"sights\":[\"180px\", \"85px\"],\n",
    "         \"NY\":[\"255px\", \"107px\"]}\n",
    "\n",
    "def make_path(fold):\n",
    "    ppath = \"/\"\n",
    "    if fold == \"/\":\n",
    "        return ppath\n",
    "    ppath += \"users\"\n",
    "    if fold == \"users\":\n",
    "        return ppath\n",
    "    ppath += \"/username\"\n",
    "    if fold == \"username\":\n",
    "        return ppath\n",
    "    if fold == \"my pets\":\n",
    "        return ppath+\"/my pets\"\n",
    "    elif fold == \"Cats\":\n",
    "        return ppath+\"/my pets/Cats\"\n",
    "    elif fold == \"sights\":\n",
    "        return ppath+\"/sights\"\n",
    "    elif fold == \"NY\":\n",
    "        return ppath+\"/sights/NY\"\n",
    "    \n",
    "def run_command(b, curfold, pdirl, updirl, crddirl, imghtml, holderwg, cords, extra):\n",
    "    curfold = holderwg.options[0]\n",
    "    imagename = holderwg.options[1]\n",
    "    cords = holderwg.options[2]\n",
    "    b.value = b.value.strip().lower()\n",
    "    dstr = b.value.split(\" \")\n",
    "    cdstr = []\n",
    "    appwd = False\n",
    "    for x in dstr:\n",
    "        if len(x) > 1:\n",
    "            if x[0] == '\"':\n",
    "                if appwd:\n",
    "                    appwd = False\n",
    "                else:\n",
    "                    appwd = True\n",
    "        if appwd:\n",
    "            cdstr.append(x)\n",
    "        else:\n",
    "            if x != \"\":\n",
    "                cdstr.append(x)\n",
    "    good_val = False\n",
    "    \n",
    "    if b.value == \"clear\":\n",
    "        outw.clear_output()\n",
    "        good_val = True\n",
    "    if b.value == \"pwd\":\n",
    "        with outw:\n",
    "            print(make_path(curfold))\n",
    "        good_val = True\n",
    "    if b.value == \"ls\":\n",
    "        with outw:\n",
    "            print(pdirl[curfold])\n",
    "        good_val = True\n",
    "    if ((cdstr[0] == \"cd\") and (len(cdstr) == 1)):\n",
    "        curfold = \"username\" # go home\n",
    "        good_val = True\n",
    "        \n",
    "    if cdstr[0] == \"cd\":\n",
    "        if cdstr[1] == \"~\":\n",
    "            good_val = True\n",
    "            curfold = \"username\" # go home\n",
    "        elif cdstr[1] == \"/\":\n",
    "            good_val = True\n",
    "            curfold = \"/\" # go to root\n",
    "        elif cdstr[1] == \".\":\n",
    "            good_val = True\n",
    "        elif cdstr[1] == \"..\":\n",
    "            curfold = updirl[curfold]\n",
    "            good_val = True\n",
    "        elif cdstr[1].strip('/').strip('\"').strip('/') in pdirl[curfold].lower().split(\"\\t\"):\n",
    "            curfold = cdstr[1].strip('/').strip('\"').strip('/')\n",
    "            good_val = True\n",
    "        elif \" \".join(cdstr[1:]).strip().strip('/').strip() in ['\"my pets\"', '\"my pets/\"']:\n",
    "            curfold = \"my pets\"\n",
    "            good_val = True\n",
    "        \n",
    "    if curfold.lower() == \"cats\":\n",
    "        curfold = \"Cats\"\n",
    "    elif curfold.lower() == \"ny\":\n",
    "        curfold = \"NY\"\n",
    "        \n",
    "    if not good_val:\n",
    "        if cdstr[0] == \"cd\":\n",
    "            ms = \"-bash: cd: \" + \" \".join(cdstr[1:]).strip().strip('\"') + \" No such file or directory\"\n",
    "        else:\n",
    "            ms = \"-bash: \" + b.value + \": command not found\"\n",
    "        with outw:\n",
    "            print(ms)\n",
    "    else:\n",
    "        if cdstr[0] == \"cd\":\n",
    "            cords = crddirl[curfold]\n",
    "            imghtml.value = set_html(iname=imagename, ctop=cords[0], cleft=cords[1])\n",
    "             \n",
    "    holderwg.options = [curfold, imagename, cords]\n",
    "    with outw:\n",
    "        print(\">\")\n",
    "    b.value = \"\"\n",
    "        \n",
    "txtw.on_submit(functools.partial(run_command, txtw, curfold, pdirl, updirl, crddirl, imghtml, holderwg, cords))"
   ]
  },
  {
   "cell_type": "markdown",
   "metadata": {
    "slideshow": {
     "slide_type": "-"
    }
   },
   "source": [
    "To get used to this way of moving around, in this mini example only, flags for the `ls` command are ignored, you can only go down to one folder at a time, and you can't get help using `tab`. You can also use `clear` if the output text gets too long. Pay attention to spaces between commands and arguments!"
   ]
  },
  {
   "cell_type": "markdown",
   "metadata": {
    "slideshow": {
     "slide_type": "slide"
    }
   },
   "source": [
    "<img src=\"supplementary/photos_pile.jpg\" alt=\"a messy stack of photos\" width=300px style=\"float:left; padding-left:0.5em; padding-right:0.5em;\"/>\n",
    "\n",
    "# Think about it\n",
    "<img src=\"supplementary/thought_bubble.png\" alt=\"a thought bubble\" width=50px height=50px style=\"float:left; padding-left:0.5em; padding-right:0.5em; margin-top:8px\"/>Consider these questions as you go forward: \n",
    "\n",
    "- Why are strengths and weaknesses of different types of directory structures? \n",
    "- How do you store your own local or remote files? \n",
    "- What steps do you take to find a file if you have forgotten exactly where it is located? \n",
    "- How might your file structure make things easier or harder to navigate with the command line?\n",
    "\n"
   ]
  },
  {
   "cell_type": "markdown",
   "metadata": {
    "slideshow": {
     "slide_type": "slide"
    }
   },
   "source": [
    "# Wrapping up\n",
    "\n",
    "<img src=\"supplementary/thought_bubble.png\" width=50px height=50px style=\"float:left; padding-left:0.5em; padding-right:0.5em; margin-top:8px\"/><font style=\"color:#98bdef\"><b>Think briefly: </b></font>How do you edit files and documents? What are some advantages and disadvantages of the tools you use to edit files?\n",
    "\n",
    "In this lesson you have learned how to navigate a computer's file system. You should now have a solid handle on how files are stored and how to navigate the file system with the command line.\n",
    "\n",
    "<img src=\"supplementary/magnifying_glass.svg\" alt=\"a magnifying glass\" width=50px height=50px style=\"float:left;  padding-left:0.5em; padding-right:0.5em; margin-top:8px\"/><font style=\"color:#98bdef\">Now on to our last bit of new content, where we learn how to make changes to files and folders!</font> "
   ]
  },
  {
   "cell_type": "markdown",
   "metadata": {
    "slideshow": {
     "slide_type": "-"
    }
   },
   "source": [
    "\n",
    "\n",
    "<font size=\"+1\"><a style=\"background-color:blue;color:white;padding:12px;margin:10px;font-weight:bold;\" \n",
    "href=\"cyberinfrastructure-6.ipynb\">Click here to go to the next notebook.</a></font>"
   ]
  },
  {
   "cell_type": "markdown",
   "metadata": {
    "slideshow": {
     "slide_type": "-"
    }
   },
   "source": [
    "<img src=\"supplementary/startup.jpg\" alt=\"people working on computers\" />"
   ]
  }
 ],
 "metadata": {
  "celltoolbar": "Edit Metadata",
  "kernelspec": {
   "display_name": "Python 3 (ipykernel)",
   "language": "python",
   "name": "python3"
  },
  "language_info": {
   "codemirror_mode": {
    "name": "ipython",
    "version": 3
   },
   "file_extension": ".py",
   "mimetype": "text/x-python",
   "name": "python",
   "nbconvert_exporter": "python",
   "pygments_lexer": "ipython3",
   "version": "3.7.16"
  },
  "rise": {
   "autolaunch": true,
   "overlay": "<div class='hciheader'></div><div class='hcifooter'></div>",
   "scroll": true
  }
 },
 "nbformat": 4,
 "nbformat_minor": 4
}
