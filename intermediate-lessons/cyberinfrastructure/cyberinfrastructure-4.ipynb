{
 "cells": [
  {
   "cell_type": "code",
   "execution_count": null,
   "metadata": {
    "hide_input": false,
    "slideshow": {
     "slide_type": "slide"
    },
    "tags": [
     "Init",
     "Hide"
    ]
   },
   "outputs": [],
   "source": [
    "%%html\n",
    "\n",
    "<style>\n",
    ".csblink {\n",
    "  animation: mymove 2s steps(1) infinite;\n",
    "}\n",
    "\n",
    "@keyframes mymove {\n",
    "  0%   {opacity: 0;}\n",
    "  50% {opacity: 1;}\n",
    "  100% {opacity: 0;}\n",
    "}\n",
    "</style>\n",
    "\n",
    "<h3>Introduction to Cyberinfrastructure</h3>\n",
    "<h1><font style=\"color:#98bdef;\">The Command Line</font></h1>\n",
    "Segment 3 of 5\n",
    "<br><br><font size=\"10px\">><span class=\"csblink\">_</span></font>\n",
    "\n",
    "<h4>In this section we introduce your first command line commands.</h4>\n",
    "\n",
    "<p>In brief, commands are what allow you to actually do things with the command line.</p>"
   ]
  },
  {
   "cell_type": "code",
   "execution_count": null,
   "metadata": {
    "hide_input": true,
    "init_cell": true,
    "slideshow": {
     "slide_type": "skip"
    },
    "tags": [
     "Hide"
    ]
   },
   "outputs": [],
   "source": [
    "# This code cell starts the necessary setup for Hour of CI lesson notebooks.\n",
    "# First, it enables users to hide and unhide code by producing a 'Toggle raw code' button below.\n",
    "# Second, it imports the hourofci package, which is necessary for lessons and interactive Jupyter Widgets.\n",
    "# Third, it helps hide/control other aspects of Jupyter Notebooks to improve the user experience\n",
    "# This is an initialization cell\n",
    "# It is not displayed because the Slide Type is 'Skip'\n",
    "from IPython.display import HTML, IFrame, Javascript, display, clear_output, Markdown\n",
    "from ipywidgets import interactive, Textarea, HBox, Button, Layout, VBox\n",
    "import ipywidgets as widgets\n",
    "import os\n",
    "\n",
    "import warnings\n",
    "import getpass # This library allows us to get the username (User agent string)\n",
    "\n",
    "# import package for hourofci project\n",
    "import sys\n",
    "sys.path.append('../../supplementary') # relative path (may change depending on the location of the lesson notebook)\n",
    "import hourofci\n",
    "\n",
    "\n",
    "# load javascript to initialize/hide cells, get user agent string, and hide output indicator\n",
    "# hide code by introducing a toggle button \"Toggle raw code\"\n",
    "HTML(''' \n",
    "    <script type=\"text/javascript\" src=\\\"../../supplementary/js/custom.js\\\"></script>\n",
    "    \n",
    "    <style>\n",
    "        .output_prompt{opacity:0;}\n",
    "    </style>\n",
    "    \n",
    "    <input id=\"toggle_code\" type=\"button\" value=\"Toggle raw code\">\n",
    "''')"
   ]
  },
  {
   "cell_type": "markdown",
   "metadata": {
    "slideshow": {
     "slide_type": "slide"
    }
   },
   "source": [
    "# Introduction\n",
    "\n",
    "You can now access a command line, but this isn’t very useful unless you know some commands! So let’s start learning some command line commands!\n",
    "\n",
    "<img src=\"supplementary/thought_bubble.png\" alt=\"a thought bubble\"  width=50px height=50px style=\"float:left; padding-left:0.5em; padding-right:0.5em; margin-top:8px\"/><font style=\"color:#98bdef\"><b>Think briefly:</b></font> If you had to decide which commands to give a computer, how would you decide which commands to use? How would the commands be formatted?\n",
    "\n",
    "<center><img width=600 src=\"supplementary/school.jpg\"/></center>\n"
   ]
  },
  {
   "cell_type": "markdown",
   "metadata": {
    "slideshow": {
     "slide_type": "slide"
    }
   },
   "source": [
    "# Simple commands\n",
    "In this lesson, we have implemented a <font style=\"color:#98bdef\"><b>pseudo terminal/command prompt window</b></font> so you can practice executing commands in real time (and not worry if you making a mistake!).\n",
    "\n",
    "<img src=\"supplementary/click.svg\" alt=\"a computer style arrow icon\" width=50px height=50px style=\"float:left; padding-left:0.5em; padding-right:0.5em; margin-top:8px\"/>First, let's take a look at some simple commands. To try these out, just type the commands in the terminal box and click the `Execute` button. In your actual terminal, pressing the return or enter key would execute your command instead of using a button.\n",
    "\n",
    "<table style=\"background-color:#FFFFFF;text-align:center;\">\n",
    "    <tr style=\"background-color:#FFFFFF; font-family:monospace; font-size:20px;\">\n",
    "        <td style=\"text-align:center;\">\n",
    "           date\n",
    "        </td>\n",
    "        <td style=\"text-align:center;\">    \n",
    "            whoami\n",
    "        </td>\n",
    "        <td style=\"text-align:center;\"> \n",
    "            df\n",
    "        </td>\n",
    "        <td style=\"text-align:center;\">    \n",
    "            clear\n",
    "        </td>\n",
    "        <td style=\"text-align:center;\">    \n",
    "            echo  \n",
    "        </td>\n",
    "    </tr>\n",
    "    <tr style=\"background-color:#FFFFFF;\">\n",
    "        <td style=\"text-align:center;\">\n",
    "            This command returns the current date and time.\n",
    "        </td>\n",
    "        <td style=\"text-align:center;\">\n",
    "            This command returns your username.\n",
    "        </td>\n",
    "        <td style=\"text-align:center;\">\n",
    "            This command returns stats about how much disk space you have used.\n",
    "        </td>\n",
    "        <td style=\"text-align:center;\">\n",
    "            This is a special command that clears or erases the commands and output that is currently on the screen. This can be nice when your screen is full and you want a refresh!\n",
    "        </td>\n",
    "        <td style=\"text-align:center;\">\n",
    "            This command returns a blank line (for now!).\n",
    "        </td>\n",
    "    </tr>\n",
    "</table>  \n",
    "\n"
   ]
  },
  {
   "cell_type": "code",
   "execution_count": null,
   "metadata": {
    "hide_input": false,
    "slideshow": {
     "slide_type": "-"
    },
    "tags": [
     "Init",
     "Hide"
    ]
   },
   "outputs": [],
   "source": [
    "execute101 = Button(\n",
    "    description='Execute',\n",
    "    disabled=False,\n",
    "    button_style='success', # 'success', 'info', 'warning', 'danger' or ''\n",
    "    tooltip='Execute',\n",
    "    \n",
    ")\n",
    "\n",
    "queryArea101 = Textarea(\n",
    "            value='',\n",
    "            placeholder='Type your command prompt here',\n",
    "            description='',\n",
    "            disabled=False,\n",
    "            layout=Layout( height='200px', min_height='100px', width='500px')\n",
    "            )\n",
    "\n",
    "\n",
    "data_input_style101 = \"\"\"<style>.data_input textarea {background-color:#000000 !important; color: #FFFFFF !important;  font-family: Courier New;},\n",
    "</style>\"\"\"\n",
    "\n",
    "display(HTML(data_input_style101))\n",
    "queryArea101.add_class('data_input')\n",
    "\n",
    "children101 = [queryArea101, execute101]\n",
    "\n",
    "hbox101 = HBox(children=children101)\n",
    "def on_click101(b):\n",
    "    clear_output()\n",
    "    display(HTML(data_input_style101))\n",
    "    display(hbox101)\n",
    "    return print(os.popen(queryArea101.value).read())\n",
    "\n",
    "execute101.on_click(on_click101)\n",
    "display(hbox101)"
   ]
  },
  {
   "cell_type": "markdown",
   "metadata": {
    "slideshow": {
     "slide_type": "slide"
    }
   },
   "source": [
    "<img src=\"supplementary/confused-confusion-icon.png\" alt=\"a thought bubble\" width=150px style=\"float:left; padding-left:0.5em; padding-right:2em; margin-top:32px\"/>\n",
    "\n",
    "# What do you think?\n",
    "\n",
    "\n",
    "What does the `uname` command do? \n",
    "\n",
    "Try it out in the <font style=\"color:#98bdef\"><b>pseudo terminal</b></font> if you don’t know!\n"
   ]
  },
  {
   "cell_type": "code",
   "execution_count": null,
   "metadata": {
    "hide_input": false,
    "slideshow": {
     "slide_type": "-"
    },
    "tags": [
     "Init",
     "Hide"
    ]
   },
   "outputs": [],
   "source": [
    "o1='A. Returns your username.'\n",
    "o2='B. Removes a name that you need to then specify from a user list.'\n",
    "o3='C. Returns the name of your operating system.'\n",
    "o4='D. Returns names of all command line commands that start with “u”.'\n",
    "\n",
    "widget1 = widgets.RadioButtons(\n",
    "    options = [o1, o2, o3, o4],\n",
    "    description = ' ', style={'description_width': 'initial'},\n",
    "    layout = Layout(width='100%'),\n",
    "    value = None\n",
    ")\n",
    "\n",
    "display(widget1)\n",
    "\n",
    "hourofci.SubmitBtn2(widget1)"
   ]
  },
  {
   "cell_type": "markdown",
   "metadata": {
    "slideshow": {
     "slide_type": "slide"
    }
   },
   "source": [
    "<h3 style=\"display:inline;color:#98bdef;\">Answer</h3>\n",
    "\n",
    "<br><img src=\"supplementary/correct-icon.png\" alt=\"correct\" style=\"width:100px;float:left;padding-right:1em; margin-top:1.5em\"/>\n",
    "\n",
    "C is correct.\n",
    "<br>You will see different operating system information with this command depending on your operating system.\n"
   ]
  },
  {
   "cell_type": "markdown",
   "metadata": {
    "slideshow": {
     "slide_type": "slide"
    }
   },
   "source": [
    "# Commands with arguments \n",
    "Some commands may need extra information to function. This extra information is called an <font style=\"color:#98bdef\"><b>argument</b></font>. You can provide a command with an argument by typing the argument directly after the command (with a space between the command and the argument). \n",
    "\n",
    "\n",
    "In the following examples, commands are colored in <span style=\"color:red\">red</span> and the arguments are displayed in <span style=\"color:blue\">blue</span>:\n",
    "\n",
    "\n",
    "<table style=\"background-color:#FFFFFF;text-align:center;\">\n",
    "    <tr style=\"background-color:#FFFFFF; font-family:monospace; font-size:20px;\">\n",
    "        <td style=\"text-align:center; width:300px\">\n",
    "            <span style=\"color:red\">echo</span> <span style=\"color:blue\">hello!</span>\n",
    "        </td>\n",
    "        <td style=\"text-align:center;\">    \n",
    "            <span style=\"color:red\">man</span> <span style=\"color:blue\">echo</span>\n",
    "        </td>\n",
    "        <td style=\"text-align:center;\"> \n",
    "            <span style=\"color:red\">help</span> <span style=\"color:blue\">echo</span>\n",
    "        </td>\n",
    "    </tr>\n",
    "    <tr style=\"background-color:#FFFFFF;\">\n",
    "        <td style=\"text-align:center;\">\n",
    "            This command will print “hello!” (without the quotation marks) on the next line.\n",
    "        </td>\n",
    "        <td style=\"text-align:center;\">\n",
    "            <span style=\"color:red\">man</span> is a special command that opens a manual page for the command you type as an argument. Here it will open a manual page for the echo command which will describe what the command does and any options that are available. You will have to type <span style=\"color:red;font-family:monospace;\">q</span> to exit the manual and return to the command prompt.\n",
    "        </td>\n",
    "        <td style=\"text-align:center;\">\n",
    "            The help command will also provide more information about the echo command in a more condensed format.\n",
    "        </td>\n",
    "    </tr>\n",
    "</table> \n",
    "\n"
   ]
  },
  {
   "cell_type": "code",
   "execution_count": null,
   "metadata": {
    "hide_input": false,
    "scrolled": true,
    "slideshow": {
     "slide_type": "-"
    },
    "tags": [
     "Init",
     "Hide"
    ]
   },
   "outputs": [],
   "source": [
    "execute102 = Button(\n",
    "    description='Execute',\n",
    "    disabled=False,\n",
    "    button_style='success', # 'success', 'info', 'warning', 'danger' or ''\n",
    "    tooltip='Execute',\n",
    "    \n",
    ")\n",
    "\n",
    "queryArea102 = Textarea(\n",
    "            value='',\n",
    "            placeholder='Type your command prompt here',\n",
    "            description='',\n",
    "            disabled=False,\n",
    "            layout=Layout( height='200px', min_height='100px', width='500px')\n",
    "            )\n",
    "\n",
    "\n",
    "data_input_style102 = \"\"\"<style>.data_input textarea {background-color:#000000 !important; color: #FFFFFF !important;  font-family: Courier New;},\n",
    "</style>\"\"\"\n",
    "\n",
    "display(HTML(data_input_style102))\n",
    "queryArea102.add_class('data_input')\n",
    "\n",
    "children102 = [queryArea102, execute102]\n",
    "\n",
    "hbox102 = HBox(children=children102)\n",
    "def on_click102(b):\n",
    "    clear_output()\n",
    "    display(HTML(data_input_style102))\n",
    "    display(hbox102)\n",
    "    return print(os.popen(queryArea102.value).read())\n",
    "\n",
    "execute102.on_click(on_click102)\n",
    "display(hbox102)"
   ]
  },
  {
   "cell_type": "markdown",
   "metadata": {
    "slideshow": {
     "slide_type": "slide"
    }
   },
   "source": [
    "# Commands with flags \n",
    "<font style=\"color:#98bdef\"><b>Flags</b></font> are another way to communicate information to a command. Essentially, they are named arguments. Some flags are necessary for the command to run, while others are optional. A command may take more than one flag or may take an argument and a number of flags. You can see what flags are available using the `help` or `man` commands.\n",
    "\n",
    "In the following examples, <font style=\"color:red\">commands</font> are colored in <font style=\"color:red\">red</font>, <font style=\"color:green\">flags in green</font>, and <font style=\"color:blue\">arguments in blue</font>:\n",
    "\n",
    "<table style=\"background-color:#FFFFFF;text-align:center;\">\n",
    "    <tr style=\"background-color:#FFFFFF; font-family:monospace; font-size:20px;\">\n",
    "        <td style=\"text-align:center;width:50%\">\n",
    "            <span style=\"color:red\">echo</span> <span style=\"color:green\">-n</span> <span style=\"color:blue\">hi</span>\n",
    "        </td>\n",
    "        <td style=\"text-align:center;\">    \n",
    "            <span style=\"color:red\">date</span> <i style=\"color:green\">-u</span>\n",
    "        </td>\n",
    "    </tr>\n",
    "    <tr style=\"background-color:#FFFFFF;\">\n",
    "        <td style=\"text-align:center;\">\n",
    "            This command prints the argument but does not add a new line afterward because the flag <span style=\"color:green\">-n</span> is added. This can be helpful when combining commands.\n",
    "        </td>\n",
    "        <td style=\"text-align:center;\">\n",
    "            This command prints the date. With the <span style=\"color:green\">-u</span> flag, the output is in UTC time.\n",
    "        </td>\n",
    "    </tr>\n",
    "</table> \n"
   ]
  },
  {
   "cell_type": "code",
   "execution_count": null,
   "metadata": {
    "hide_input": false,
    "scrolled": true,
    "slideshow": {
     "slide_type": "-"
    },
    "tags": [
     "Init",
     "Hide"
    ]
   },
   "outputs": [],
   "source": [
    "\n",
    "execute103 = Button(\n",
    "    description='Execute',\n",
    "    disabled=False,\n",
    "    button_style='success', # 'success', 'info', 'warning', 'danger' or ''\n",
    "    tooltip='Execute',\n",
    "    \n",
    ")\n",
    "\n",
    "queryArea103 = Textarea(\n",
    "            value='',\n",
    "            placeholder='Type your command prompt here',\n",
    "            description='',\n",
    "            disabled=False,\n",
    "            layout=Layout( height='200px', min_height='100px', width='500px')\n",
    "            )\n",
    "\n",
    "\n",
    "data_input_style103 = \"\"\"<style>.data_input textarea {background-color:#000000 !important; color: #FFFFFF !important;  font-family: Courier New;},\n",
    "</style>\"\"\"\n",
    "\n",
    "display(HTML(data_input_style103))\n",
    "queryArea103.add_class('data_input')\n",
    "\n",
    "children103 = [queryArea103, execute103]\n",
    "\n",
    "hbox103 = HBox(children=children103)\n",
    "def on_click103(b):\n",
    "    clear_output()\n",
    "    display(HTML(data_input_style103))\n",
    "    display(hbox103)\n",
    "    return print(os.popen(queryArea103.value).read())\n",
    "\n",
    "execute103.on_click(on_click103)\n",
    "display(hbox103)"
   ]
  },
  {
   "cell_type": "markdown",
   "metadata": {
    "slideshow": {
     "slide_type": "slide"
    }
   },
   "source": [
    "<img src=\"supplementary/confused-confusion-icon.png\" alt=\"a thought bubble\" width=150px style=\"float:left; padding-left:0.5em; padding-right:2em; margin-top:32px\"/>\n",
    "\n",
    "# What do you think?\n",
    "\n",
    "<h3 style=\"color:#98bdef;\">What does the command do?</h3>\n",
    "\n",
    "<img src=\"supplementary/thought_bubble.png\" alt=\"a thought bubble\" width=50px height=50px style=\"float:left; padding-left:0.5em; padding-right:0.5em; margin-top:8px\"/>Try to figure out what each command does! See if you can use `man` to learn more information if you get stuck!"
   ]
  },
  {
   "cell_type": "markdown",
   "metadata": {
    "slideshow": {
     "slide_type": "slide"
    }
   },
   "source": [
    "<img src=\"supplementary/checklist.png\" alt=\"a checklist\" width=50px height=50px style=\"float:left; padding-left:0.5em; padding-right:0.5em; margin-top:0px\"/><div style=\"height:10px\">&nbsp;</div><h3>Task 1:</h3>\n",
    "\n",
    "What does the following command do?\n",
    "\n",
    "<center><font style=\"background-color:#FFFFFF; font-family:monospace; font-size:20px; color:red;\">cal</font></center>\n",
    "\n"
   ]
  },
  {
   "cell_type": "code",
   "execution_count": null,
   "metadata": {
    "hide_input": false,
    "slideshow": {
     "slide_type": "-"
    },
    "tags": [
     "Init",
     "Hide"
    ]
   },
   "outputs": [],
   "source": [
    "o1='A. Enters “calculator mode”'\n",
    "o2='B. Displays the average daily calories needed to survive'\n",
    "o3='C. Displays local help numbers to call for tech support'\n",
    "o4='D. Displays a calendar of the current month'\n",
    "\n",
    "widget1 = widgets.RadioButtons(\n",
    "    options = [o1, o2, o3, o4],\n",
    "    description = ' ', style={'description_width': 'initial'},\n",
    "    layout = Layout(width='100%'),\n",
    "    value = None\n",
    ")\n",
    "\n",
    "display(widget1)\n",
    "\n",
    "hourofci.SubmitBtn2(widget1)"
   ]
  },
  {
   "cell_type": "markdown",
   "metadata": {
    "slideshow": {
     "slide_type": "slide"
    }
   },
   "source": [
    "<img src=\"supplementary/checklist.png\" alt=\"a checklist\" width=50px height=50px style=\"float:left; padding-left:0.5em; padding-right:0.5em; margin-top:0px\"/><div style=\"height:10px\">&nbsp;</div><h3 style=\"display:inline\">Task 1: </h3><h3 style=\"display:inline;color:#98bdef;\">Answer</h3>\n",
    "\n",
    "<br><img src=\"supplementary/correct-icon.png\" alt=\"correct\" style=\"width:100px;float:left;padding-right:1em; margin-top:1.5em\"/>\n",
    "\n",
    "D! Did you give it a try in the <font style=\"color:#98bdef\"><b>pseudo terminal</b></font>?\n"
   ]
  },
  {
   "cell_type": "markdown",
   "metadata": {
    "slideshow": {
     "slide_type": "slide"
    }
   },
   "source": [
    "<img src=\"supplementary/checklist.png\" alt=\"a checklist\" width=50px height=50px style=\"float:left; padding-left:0.5em; padding-right:0.5em; margin-top:0px\"/><div style=\"height:10px\">&nbsp;</div><h3 style=\"display:inline\">Task 2: </h3>\n",
    "\n",
    "What does the following command do?\n",
    "<center><font style=\"background-color:#FFFFFF; font-family:monospace; font-size:20px; color:red;\">man</font> <font style=\"background-color:#FFFFFF; font-family:monospace; font-size:20px; color:blue;\">man</font></center>\n"
   ]
  },
  {
   "cell_type": "code",
   "execution_count": null,
   "metadata": {
    "hide_input": false,
    "slideshow": {
     "slide_type": "-"
    },
    "tags": [
     "Init",
     "Hide"
    ]
   },
   "outputs": [],
   "source": [
    "o1='A. Displays help information for using the manual.'\n",
    "o2='B. Displays info about male programmers'\n",
    "o3='C. Displays “man man man”'\n",
    "\n",
    "widget1 = widgets.RadioButtons(\n",
    "    options = [o1, o2, o3],\n",
    "    description = ' ', style={'description_width': 'initial'},\n",
    "    layout = Layout(width='100%'),\n",
    "    value = None\n",
    ")\n",
    "\n",
    "display(widget1)\n",
    "\n",
    "hourofci.SubmitBtn2(widget1)"
   ]
  },
  {
   "cell_type": "code",
   "execution_count": null,
   "metadata": {
    "hide_input": false,
    "slideshow": {
     "slide_type": "skip"
    },
    "tags": [
     "Hide",
     "Init"
    ]
   },
   "outputs": [],
   "source": [
    "class Output:\n",
    "    def __init__(self, name='cmd_out'):\n",
    "        self.h = display(display_id=name)\n",
    "        self.content = ''\n",
    "        self.mime_type = None\n",
    "        self.dic_kind = {\n",
    "            'text': 'text/plain',\n",
    "            'markdown': 'text/markdown',\n",
    "            'html': 'text/html',\n",
    "        }\n",
    "        \n",
    "    def display(self):\n",
    "        self.h.display({'text/plain': ''}, raw=True)\n",
    "        \n",
    "    def _build_obj(self, content, kind, append, new_line):\n",
    "        self.mime_type = self.dic_kind.get(kind)\n",
    "        if not self.mime_type:\n",
    "            return content, False\n",
    "        if append:\n",
    "            sep = '\\n' if new_line else ''\n",
    "            self.content = self.content + sep + content\n",
    "        else:\n",
    "            self.content = content\n",
    "        return {self.mime_type: self.content}, True\n",
    "        \n",
    "    def update(self, content, kind=None, append=False, new_line=True):\n",
    "        obj, raw = self._build_obj(content, kind, append, new_line)\n",
    "        self.h.update(obj, raw=raw)"
   ]
  },
  {
   "cell_type": "markdown",
   "metadata": {
    "slideshow": {
     "slide_type": "slide"
    }
   },
   "source": [
    "<img src=\"supplementary/checklist.png\" alt=\"a checklist\" width=50px height=50px style=\"float:left; padding-left:0.5em; padding-right:0.5em; margin-top:0px\"/><div style=\"height:10px\">&nbsp;</div><h3 style=\"display:inline\">Task 2: </h3><h3 style=\"display:inline;color:#98bdef;\">Answer</h3>\n",
    "\n",
    "<br><img src=\"supplementary/correct-icon.png\" alt=\"correct\" style=\"width:100px;float:left;padding-right:1em; margin-top:1.5em\"/>This one is A. You can certainly see the manual page for the manual command!\n",
    "Give it a try in the <font style=\"color:#98bdef\"><b>pseudo terminal</b></font> provided below:\n"
   ]
  },
  {
   "cell_type": "code",
   "execution_count": null,
   "metadata": {
    "hide_input": false,
    "slideshow": {
     "slide_type": "-"
    },
    "tags": [
     "Hide",
     "Init"
    ]
   },
   "outputs": [],
   "source": [
    "\n",
    "execute = Button(\n",
    "    description='Execute',\n",
    "    disabled=False,\n",
    "    button_style='success', # 'success', 'info', 'warning', 'danger' or ''\n",
    "    tooltip='Execute',\n",
    "    \n",
    ")\n",
    "\n",
    "\n",
    "\n",
    "queryArea = Textarea(\n",
    "            value='',\n",
    "            placeholder='Type your command prompt here',\n",
    "            description='',\n",
    "            disabled=False,\n",
    "            layout=Layout( height='200px', min_height='100px', width='500px')\n",
    "            )\n",
    "\n",
    "\n",
    "data_input_style = \"\"\"<style>.data_input textarea {background-color:#000000 !important; color: #FFFFFF !important;  font-family: Courier New;},\n",
    "</style>\"\"\"\n",
    "\n",
    "display(HTML(data_input_style))\n",
    "queryArea.add_class('data_input')\n",
    "\n",
    "children1 = [queryArea, execute]\n",
    "\n",
    "hbox = HBox(children=children1)\n",
    "out = Output(name='cmd_out')\n",
    "\n",
    "def cmd(b):\n",
    "    clear_output()\n",
    "    display(HTML(data_input_style))\n",
    "    display(hbox)\n",
    "    return out.update(Markdown(os.popen(queryArea.value).read()))\n",
    "    \n",
    "    \n",
    "execute.on_click(cmd)\n",
    "display(hbox)\n"
   ]
  },
  {
   "cell_type": "code",
   "execution_count": null,
   "metadata": {
    "hide_input": false,
    "slideshow": {
     "slide_type": "-"
    },
    "tags": [
     "Hide",
     "Init"
    ]
   },
   "outputs": [],
   "source": [
    "\n",
    "out = Output(name='cmd_out')\n",
    "out.display()"
   ]
  },
  {
   "cell_type": "markdown",
   "metadata": {
    "slideshow": {
     "slide_type": "slide"
    }
   },
   "source": [
    "# Combining commands\n",
    "\n",
    "<img src=\"supplementary/thought_bubble.png\" width=50px height=50px style=\"float:left; padding-left:0.5em; padding-right:0.5em; margin-top:8px\"/><font style=\"color:#98bdef\"><b>Think briefly: </b></font>Sometimes you want to <font style=\"color:#98bdef\"><b>combine multiple commands</b></font>, i.e. feed the output of one command to another command. One way this can be accomplished is using the `|` (pipe) symbol between the commands. \n",
    "\n",
    "For example:\n",
    "```\n",
    "echo | date\n",
    "```\n",
    "This will return the current date (instead of “| date”)\n"
   ]
  },
  {
   "cell_type": "markdown",
   "metadata": {
    "slideshow": {
     "slide_type": "slide"
    }
   },
   "source": [
    "# Wrapping up\n",
    "\n",
    "<img src=\"supplementary/thought_bubble.png\" width=50px height=50px style=\"float:left; padding-left:0.5em; padding-right:0.5em; margin-top:8px\"/><font style=\"color:#98bdef\"><b>Think briefly: </b></font>What other aspects of working with a computer do you think it could be useful to work with using the command line?\n",
    "\n",
    "Great start! In this lesson you have learned your first command line commands.\n",
    "\n",
    "<img src=\"supplementary/magnifying_glass.svg\" alt=\"a magnifying glass\" width=50px height=50px style=\"float:left;  padding-left:0.5em; padding-right:0.5em; margin-top:8px\"/><font style=\"color:#98bdef\"><p>However, there is only so much you can do without accessing files, file storage, or data! Keep going to see how these can be accessed with the command line.</p></font> \n"
   ]
  },
  {
   "cell_type": "markdown",
   "metadata": {
    "slideshow": {
     "slide_type": "-"
    }
   },
   "source": [
    "\n",
    "\n",
    "<font size=\"+1\"><a style=\"background-color:blue;color:white;padding:12px;margin:10px;font-weight:bold;\" \n",
    "href=\"cyberinfrastructure-5.ipynb\">Click here to go to the next notebook.</a></font>\n"
   ]
  }
 ],
 "metadata": {
  "celltoolbar": "Slideshow",
  "kernelspec": {
   "display_name": "I-GUIDE EWD",
   "language": "python",
   "name": "conda-env-iguide-ewd-py"
  },
  "language_info": {
   "codemirror_mode": {
    "name": "ipython",
    "version": 3
   },
   "file_extension": ".py",
   "mimetype": "text/x-python",
   "name": "python",
   "nbconvert_exporter": "python",
   "pygments_lexer": "ipython3",
   "version": "3.7.16"
  },
  "rise": {
   "autolaunch": true,
   "overlay": "<div class='hciheader'></div><div class='hcifooter'></div>",
   "scroll": true
  }
 },
 "nbformat": 4,
 "nbformat_minor": 4
}
