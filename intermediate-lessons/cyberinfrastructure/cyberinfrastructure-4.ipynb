{
 "cells": [
  {
   "cell_type": "markdown",
   "metadata": {
    "slideshow": {
     "slide_type": "slide"
    }
   },
   "source": [
    "### Cyberinfrastructure\n",
    "\n",
    "## Part 3 of 5\n",
    "# Your first commands\n",
    "*** Note - all commands from here out should be in a mono-spaced font and clearly different from the regular slide font! ***\n"
   ]
  },
  {
   "cell_type": "markdown",
   "metadata": {
    "slideshow": {
     "slide_type": "slide"
    }
   },
   "source": [
    "## Reminder\n",
    "<a href=\"#/slide-2-0\" class=\"navigate-right\" style=\"background-color:blue;color:white;padding:8px;margin:2px;font-weight:bold;\">Continue with the lesson</a>\n",
    "\n",
    "<br>\n",
    "</br>\n",
    "<font size=\"+1\">\n",
    "\n",
    "By continuing with this lesson you are granting your permission to take part in this research study for the Hour of Cyberinfrastructure: Developing Cyber Literacy for GIScience project. In this study, you will be learning about cyberinfrastructure and related concepts using a web-based platform that will take approximately one hour per lesson. Participation in this study is voluntary.\n",
    "\n",
    "Participants in this research must be 18 years or older. If you are under the age of 18 then please exit this webpage or navigate to another website such as the Hour of Code at https://hourofcode.com, which is designed for K-12 students.\n",
    "\n",
    "If you are not interested in participating please exit the browser or navigate to this website: http://www.umn.edu. Your participation is voluntary and you are free to stop the lesson at any time.\n",
    "\n",
    "For the full description please navigate to this website: <a href=\"../../gateway-lesson/gateway/gateway-1.ipynb\">Gateway Lesson Research Study Permission</a>.\n",
    "\n",
    "</font>"
   ]
  },
  {
   "cell_type": "code",
   "execution_count": null,
   "metadata": {
    "hide_input": true,
    "init_cell": true,
    "slideshow": {
     "slide_type": "skip"
    },
    "tags": [
     "Hide"
    ]
   },
   "outputs": [],
   "source": [
    "# This code cell starts the necessary setup for Hour of CI lesson notebooks.\n",
    "# First, it enables users to hide and unhide code by producing a 'Toggle raw code' button below.\n",
    "# Second, it imports the hourofci package, which is necessary for lessons and interactive Jupyter Widgets.\n",
    "# Third, it helps hide/control other aspects of Jupyter Notebooks to improve the user experience\n",
    "# This is an initialization cell\n",
    "# It is not displayed because the Slide Type is 'Skip'\n",
    "\n",
    "from IPython.display import HTML, IFrame, Javascript, display\n",
    "from ipywidgets import interactive\n",
    "import ipywidgets as widgets\n",
    "from ipywidgets import Layout\n",
    "import warnings\n",
    "import getpass # This library allows us to get the username (User agent string)\n",
    "\n",
    "# import package for hourofci project\n",
    "import sys\n",
    "sys.path.append('../../supplementary') # relative path (may change depending on the location of the lesson notebook)\n",
    "import hourofci\n",
    "\n",
    "\n",
    "# load javascript to initialize/hide cells, get user agent string, and hide output indicator\n",
    "# hide code by introducing a toggle button \"Toggle raw code\"\n",
    "HTML(''' \n",
    "    <script type=\"text/javascript\" src=\\\"../../supplementary/js/custom.js\\\"></script>\n",
    "    \n",
    "    <style>\n",
    "        .output_prompt{opacity:0;}\n",
    "    </style>\n",
    "    \n",
    "    <input id=\"toggle_code\" type=\"button\" value=\"Toggle raw code\">\n",
    "''')"
   ]
  },
  {
   "cell_type": "markdown",
   "metadata": {},
   "source": [
    "## Introduction\n",
    "You can now access a command line, but this isn’t very useful unless you know some commands! So let’s start learning some commands!\n",
    "\n",
    "<center><img width=600 src=\"supplementary/school.jpg\"/></center>\n"
   ]
  },
  {
   "cell_type": "markdown",
   "metadata": {},
   "source": [
    "# Simple commands\n",
    "First, let's take a look at some simple commands. For these you just type the commands and press return or enter.\n",
    "\n",
    "[gif of typing the date command, pressing enter and showing what returns]\n",
    "```\n",
    "date\n",
    "```\n",
    "This command returns the current date and time\n",
    "```\n",
    "whoami\n",
    "```\n",
    "This command returns your username.\n",
    "```\n",
    "df\n",
    "```\n",
    "This command returns stats about how much disk space you have used.\n",
    "\n",
    "[gif of typing the clear command, pressing enter and showing what returns]\n",
    "```\n",
    "clear\n",
    "```\n",
    "This is a special command that clears or erases the commands and output that is currently on the screen. This can be nice when you have a lot of clutter and want a refresh!\n",
    "```\n",
    "echo\n",
    "```\n",
    "This command returns a blank line (for now!).\n",
    "\n"
   ]
  },
  {
   "cell_type": "code",
   "execution_count": null,
   "metadata": {
    "hide_input": false,
    "slideshow": {
     "slide_type": "-"
    },
    "tags": [
     "Init",
     "Hide"
    ]
   },
   "outputs": [],
   "source": [
    "import psutil\n",
    "from IPython.display import IFrame\n",
    "IFrame(f\"/{psutil.Process().parent().as_dict()['environ']['JUPYTERHUB_SERVICE_PREFIX']}/terminals/1\", width= 400, height=400)\n"
   ]
  },
  {
   "cell_type": "markdown",
   "metadata": {},
   "source": [
    "### Mini Quiz\n",
    "\n",
    "\n",
    "What does the `uname` command do? \n",
    "\n",
    "Try it out if you don’t know!\n"
   ]
  },
  {
   "cell_type": "code",
   "execution_count": null,
   "metadata": {
    "hide_input": false,
    "slideshow": {
     "slide_type": "-"
    },
    "tags": [
     "Init",
     "Hide"
    ]
   },
   "outputs": [],
   "source": [
    "o1='A. Returns your username.'\n",
    "o2='B. Removes a name that you need to then specify from a user list.'\n",
    "o3='C. Returns the name of your operating system.'\n",
    "o4='D. Returns names of all command line commands that start with “u”.'\n",
    "\n",
    "widget1 = widgets.RadioButtons(\n",
    "    options = [o1, o2, o3, o4],\n",
    "    description = ' ', style={'description_width': 'initial'},\n",
    "    layout = Layout(width='100%'),\n",
    "    value = None\n",
    ")\n",
    "\n",
    "display(widget1)\n",
    "\n",
    "hourofci.SubmitBtn2(widget1)"
   ]
  },
  {
   "cell_type": "markdown",
   "metadata": {},
   "source": [
    "### Mini Quiz - Answer\n",
    "C is correct.\n",
    "<br>You can get different operating system information with this command depending on your operating system.\n"
   ]
  },
  {
   "cell_type": "markdown",
   "metadata": {},
   "source": [
    "## Commands with arguments \n",
    "Some commands may need extra information to function. This extra information is called an argument. You can provide a command with an argument by typing the argument directly after the command (with a space in between the command and the argument).\n",
    "<br>\n",
    "For example:\n",
    "<br>\n",
    "```\n",
    "echo hello!\n",
    "```\n",
    "This command will print “hello!” (without the quotation marks) on the next line\n",
    "```\n",
    "man echo\n",
    "```\n",
    "\n",
    "`man` is a special command that opens a manual page for the command you type as an argument. Here it will open a manual page for the echo command which will describe what the command does and any options that are available. You will have to type `q` to exit the manual and return to the command prompt.\n",
    "```\n",
    "help echo\n",
    "```\n",
    "The help command will also provide more information about the echo command in a more condensed format.\n",
    "\n",
    "[image of command with argument - command, argument in different colors with labels]\n"
   ]
  },
  {
   "cell_type": "markdown",
   "metadata": {},
   "source": [
    "## Commands with flags \n",
    "Flags are another way to communicate information to a command. Essentially, they are named/designated arguments. Some flags are necessary for the command, while others are optional. A command may take more than one flag or may take an argument and a number of flags. You can see what flags are available using the `help` or `man` commands.\n",
    "<br>\n",
    "For example:<br>\n",
    "```\n",
    "echo -n hi\n",
    "```\n",
    "This command prints the argument but does not add a new line afterward because the flag `-n` is added. This can be helpful when combining commands.\n",
    "```\n",
    "date -u\n",
    "```\n",
    "This command prints the date. With the `-u` flag, the output is in UTC time.\n",
    "\n",
    "[image of command with argument and flag - command, argument, and flag in different colors with labels]\n"
   ]
  },
  {
   "cell_type": "markdown",
   "metadata": {},
   "source": [
    "### What does this command do?\n",
    "Try to figure out what each command does! See if you can use `man` to learn more information if you get stuck!"
   ]
  },
  {
   "cell_type": "markdown",
   "metadata": {},
   "source": [
    "### Quiz 1\n",
    "What does the following command do?\n",
    "```\n",
    "cal\n",
    "```\n"
   ]
  },
  {
   "cell_type": "code",
   "execution_count": null,
   "metadata": {
    "hide_input": false,
    "slideshow": {
     "slide_type": "-"
    },
    "tags": [
     "Init",
     "Hide"
    ]
   },
   "outputs": [],
   "source": [
    "o1='A. Enters “calculator mode”'\n",
    "o2='B. Displays the average daily calories needed to survive'\n",
    "o3='C. Displays local help numbers to call for tech support'\n",
    "o4='D. Displays a calendar of the current month'\n",
    "\n",
    "widget1 = widgets.RadioButtons(\n",
    "    options = [o1, o2, o3, o4],\n",
    "    description = ' ', style={'description_width': 'initial'},\n",
    "    layout = Layout(width='100%'),\n",
    "    value = None\n",
    ")\n",
    "\n",
    "display(widget1)\n",
    "\n",
    "hourofci.SubmitBtn2(widget1)"
   ]
  },
  {
   "cell_type": "markdown",
   "metadata": {},
   "source": [
    "### Quiz 1 - answer\n",
    "D! Did you give it a try?\n"
   ]
  },
  {
   "cell_type": "markdown",
   "metadata": {},
   "source": [
    "### Quiz 2\n",
    "What does the following command do?\n",
    "```\n",
    "man man\n",
    "```\n"
   ]
  },
  {
   "cell_type": "code",
   "execution_count": null,
   "metadata": {
    "hide_input": false,
    "slideshow": {
     "slide_type": "-"
    },
    "tags": [
     "Init",
     "Hide"
    ]
   },
   "outputs": [],
   "source": [
    "o1='A. Displays help information for using the manual.'\n",
    "o2='B. Displays info about male programmers'\n",
    "o3='C. Displays “man man man”'\n",
    "\n",
    "widget1 = widgets.RadioButtons(\n",
    "    options = [o1, o2, o3],\n",
    "    description = ' ', style={'description_width': 'initial'},\n",
    "    layout = Layout(width='100%'),\n",
    "    value = None\n",
    ")\n",
    "\n",
    "display(widget1)\n",
    "\n",
    "hourofci.SubmitBtn2(widget1)"
   ]
  },
  {
   "cell_type": "markdown",
   "metadata": {},
   "source": [
    "### Quiz 2 - answer\n",
    "This one is A. You can certainly see the manual page for the manual command!\n"
   ]
  },
  {
   "cell_type": "markdown",
   "metadata": {},
   "source": [
    "## Combining commands\n",
    "Sometimes you want to combine multiple commands. One way this can be accomplished is using the `|` (pipe). \n",
    "\n",
    "For example:\n",
    "```\n",
    "echo | date\n",
    "```\n",
    "This will return the current date (instead of “| date”)\n"
   ]
  },
  {
   "cell_type": "markdown",
   "metadata": {},
   "source": [
    "## Wrapup\n",
    "Great start! However, there is only so much you can do without accessing files, file storage, or data! Keep going to see how these can be accessed with the command line.\n"
   ]
  },
  {
   "cell_type": "markdown",
   "metadata": {
    "slideshow": {
     "slide_type": "slide"
    }
   },
   "source": [
    "\n",
    "\n",
    "<font size=\"+1\"><a style=\"background-color:blue;color:white;padding:12px;margin:10px;font-weight:bold;\" \n",
    "href=\"cyberinfrastructure-5.ipynb\">Click here to go to the next notebook.</a></font>\n"
   ]
  }
 ],
 "metadata": {
  "celltoolbar": "Edit Metadata",
  "kernelspec": {
   "display_name": "Python 3",
   "language": "python",
   "name": "python3"
  },
  "language_info": {
   "codemirror_mode": {
    "name": "ipython",
    "version": 3
   },
   "file_extension": ".py",
   "mimetype": "text/x-python",
   "name": "python",
   "nbconvert_exporter": "python",
   "pygments_lexer": "ipython3",
   "version": "3.8.1"
  },
  "rise": {
   "autolaunch": true,
   "overlay": "<div class='hciheader'></div><div class='hcifooter'></div>",
   "scroll": true
  }
 },
 "nbformat": 4,
 "nbformat_minor": 4
}
