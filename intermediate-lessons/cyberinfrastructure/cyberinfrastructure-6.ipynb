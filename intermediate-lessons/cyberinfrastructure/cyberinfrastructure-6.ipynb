{
 "cells": [
  {
   "cell_type": "code",
   "execution_count": null,
   "metadata": {
    "hide_input": false,
    "slideshow": {
     "slide_type": "slide"
    },
    "tags": [
     "Init",
     "Hide"
    ]
   },
   "outputs": [],
   "source": [
    "%%html\n",
    "\n",
    "<style>\n",
    ".csblink {\n",
    "  animation: mymove 2s steps(1) infinite;\n",
    "}\n",
    "\n",
    "@keyframes mymove {\n",
    "  0%   {opacity: 0;}\n",
    "  50% {opacity: 1;}\n",
    "  100% {opacity: 0;}\n",
    "}\n",
    "</style>\n",
    "\n",
    "<h3>Introduction to Cyberinfrastructure</h3>\n",
    "<h1><font style=\"color:#98bdef;\">The Command Line</font></h1>\n",
    "Segment 5 of 5\n",
    "<br><br><font size=\"10px\">><span class=\"csblink\">_</span></font>\n",
    "\n",
    "<h4>In this section we demonstrate how to make changes from within the command line.</h4>\n",
    "\n",
    "<p>In brief, you can use the command line to create, edit, and delete files and folders.</p>"
   ]
  },
  {
   "cell_type": "markdown",
   "metadata": {
    "slideshow": {
     "slide_type": "slide"
    }
   },
   "source": [
    "# Reminder\n",
    "<a href=\"#/slide-2-0\" class=\"navigate-right\" style=\"background-color:blue;color:white;padding:8px;margin:2px;font-weight:bold;\">Continue with the lesson</a>\n",
    "\n",
    "<br>\n",
    "</br>\n",
    "<font size=\"+1\">\n",
    "\n",
    "By continuing with this lesson you are granting your permission to take part in this research study for the Hour of Cyberinfrastructure: Developing Cyber Literacy for GIScience project. In this study, you will be learning about cyberinfrastructure and related concepts using a web-based platform that will take approximately one hour per lesson. Participation in this study is voluntary.\n",
    "\n",
    "Participants in this research must be 18 years or older. If you are under the age of 18 then please exit this webpage or navigate to another website such as the Hour of Code at https://hourofcode.com, which is designed for K-12 students.\n",
    "\n",
    "If you are not interested in participating please exit the browser or navigate to this website: http://www.umn.edu. Your participation is voluntary and you are free to stop the lesson at any time.\n",
    "\n",
    "For the full description please navigate to this website: <a href=\"../../gateway-lesson/gateway/gateway-1.ipynb\">Gateway Lesson Research Study Permission</a>.\n",
    "\n",
    "</font>"
   ]
  },
  {
   "cell_type": "code",
   "execution_count": null,
   "metadata": {
    "hide_input": false,
    "init_cell": true,
    "slideshow": {
     "slide_type": "skip"
    },
    "tags": [
     "Hide"
    ]
   },
   "outputs": [],
   "source": [
    "# This code cell starts the necessary setup for Hour of CI lesson notebooks.\n",
    "# First, it enables users to hide and unhide code by producing a 'Toggle raw code' button below.\n",
    "# Second, it imports the hourofci package, which is necessary for lessons and interactive Jupyter Widgets.\n",
    "# Third, it helps hide/control other aspects of Jupyter Notebooks to improve the user experience\n",
    "# This is an initialization cell\n",
    "# It is not displayed because the Slide Type is 'Skip'\n",
    "\n",
    "from IPython.display import HTML, IFrame, Javascript, display\n",
    "from ipywidgets import interactive\n",
    "import ipywidgets as widgets\n",
    "from ipywidgets import Layout\n",
    "\n",
    "import getpass # This library allows us to get the username (User agent string)\n",
    "\n",
    "# import package for hourofci project\n",
    "import sys\n",
    "sys.path.append('../../supplementary') # relative path (may change depending on the location of the lesson notebook)\n",
    "import hourofci\n",
    "\n",
    "# load javascript to initialize/hide cells, get user agent string, and hide output indicator\n",
    "# hide code by introducing a toggle button \"Toggle raw code\"\n",
    "HTML(''' \n",
    "    <script type=\"text/javascript\" src=\\\"../../supplementary/js/custom.js\\\"></script>\n",
    "    \n",
    "    <style>\n",
    "        .output_prompt{opacity:0;}\n",
    "    </style>\n",
    "    \n",
    "    <input id=\"toggle_code\" type=\"button\" value=\"Toggle raw code\">\n",
    "''')"
   ]
  },
  {
   "cell_type": "markdown",
   "metadata": {
    "slideshow": {
     "slide_type": "slide"
    }
   },
   "source": [
    "<img width=300 style=\"float:left; padding-right:20px;\" src=\"supplementary/screws.jpg\"/>\n",
    "\n",
    "# Introduction\n",
    "\n",
    "<img src=\"supplementary/thought_bubble.png\" alt=\"a thought bubble\"  width=50px height=50px style=\"float:left; padding-left:0.5em; padding-right:0.5em; margin-top:8px\"/><font style=\"color:#98bdef\"><b>Think briefly:</b></font> What tools do you use to edit a file? How do these tools allow you to make changes or corrections? How easy is it to 'undo' an action you have made?\n",
    "\n",
    "Commands on the command line can be used for more than just gathering info - you also have the power to create, destroy, and move files and folders. \n",
    "\n",
    "But be careful! <font style=\"color:#98bdef\"><b>With great power comes great responsibility!</b></font> If you delete a file or folder on the command line it may be impossible to get it back! \n",
    "\n",
    "<i>Note: As you continue with this section, you may notice that there are a few different ways to do certain tasks. In practice, you can pick your favorite approach.</i>"
   ]
  },
  {
   "cell_type": "markdown",
   "metadata": {
    "slideshow": {
     "slide_type": "slide"
    }
   },
   "source": [
    "# Creating files and folders\n",
    "\n",
    "<img width=300 style=\"float:right\" src=\"supplementary/edit-pencil.jpg\"/>\n",
    "There are a few different ways to create new files, but these examples are straightforward. \n",
    "\n",
    "<font style=\"font-family:monospace; font-size:16px; color:red;\">ls</font> \n",
    "\n",
    "\n",
    "<font style=\"font-family:monospace; font-size:16px; color:red;\">ls</font> <font style=\"font-family:monospace; font-size:16px; color:green;\">-R</font>\n",
    "\n",
    "<font style=\"font-family:monospace; font-size:16px; color:red;\">touch</font> <font style=\"font-family:monospace; font-size:16px; color:blue;\">file.txt</font>\n",
    "\n",
    "The `touch` command creates a new empty file called `file.txt`.\n",
    "\n",
    "<font style=\"font-family:monospace; font-size:16px; color:red;\">cat</font> <font style=\"font-family:monospace; font-size:16px; color:red;\">></font> <font style=\"font-family:monospace; font-size:16px; color:blue;\">file.txt</font>\n",
    "<font style=\"font-family:monospace; font-size:16px;\"><br>This text goes in the file<br>This is the 2nd line</font> \n",
    "\n",
    "The `cat` command (when you type the the `>` symbol) creates a new file and adds text to it. You need to write the text in the lines after you hit return from the initial command. Pressing CMD+d will end the text entry and write the text to the file.\n",
    "\n",
    "<font style=\"font-family:monospace; font-size:16px; color:red;\">mkdir</font> <font style=\"font-family:monospace; font-size:16px; color:blue;\">dirname</font><br>\n",
    "This command creates a new directory/folder called `dirname`.\n",
    "\n",
    "<img src=\"supplementary/click.svg\" alt=\"a computer style arrow icon\" width=50px height=50px style=\"float:left; padding-left:0.5em; padding-right:0.5em; margin-top:8px\"/>Try out these commands using the terminal simulator in the next slide!\n"
   ]
  },
  {
   "cell_type": "code",
   "execution_count": null,
   "metadata": {
    "hide_input": false,
    "slideshow": {
     "slide_type": "slide"
    },
    "tags": [
     "Init",
     "Hide"
    ]
   },
   "outputs": [],
   "source": [
    "from IPython.display import HTML, IFrame, Javascript, display, clear_output\n",
    "from ipywidgets import interactive, Textarea, HBox, Button, Layout, VBox\n",
    "import ipywidgets as widgets\n",
    "import os\n",
    "\n",
    "execute101 = Button(\n",
    "    description='Execute',\n",
    "    disabled=False,\n",
    "    button_style='success', # 'success', 'info', 'warning', 'danger' or ''\n",
    "    tooltip='Execute',\n",
    "    \n",
    ")\n",
    "\n",
    "queryArea101 = Textarea(\n",
    "            value='ls',\n",
    "            placeholder='Type your command prompt here',\n",
    "            description='',\n",
    "            disabled=False,\n",
    "            layout=Layout( height='200px', min_height='100px', width='500px')\n",
    "            )\n",
    "\n",
    "\n",
    "data_input_style101 = \"\"\"<style>.data_input textarea {background-color:#000000 !important; color: #FFFFFF !important;  font-family: Courier New;},\n",
    "</style>\"\"\"\n",
    "\n",
    "display(HTML(data_input_style101))\n",
    "queryArea101.add_class('data_input')\n",
    "\n",
    "children101 = [queryArea101, execute101]\n",
    "\n",
    "hbox101 = HBox(children=children101)\n",
    "def on_click101(b):\n",
    "    clear_output()\n",
    "    display(HTML(data_input_style101))\n",
    "    display(hbox101)\n",
    "    return print(os.popen(queryArea101.value).read())\n",
    "\n",
    "execute101.on_click(on_click101)\n",
    "display(hbox101)"
   ]
  },
  {
   "cell_type": "markdown",
   "metadata": {
    "slideshow": {
     "slide_type": "slide"
    }
   },
   "source": [
    "# Reading and editing files with the command line\n",
    "\n",
    "\n",
    "<font style=\"font-family:monospace; font-size:16px; color:red;\">cat</font> <font style=\"font-family:monospace; font-size:16px; color:blue;\">file.txt</font><br>\n",
    "Here, the `cat` command will display the content of an existing file to the command line.\n",
    "\n",
    "<font style=\"font-family:monospace; font-size:16px; color:red;\">head</font> <font style=\"font-family:monospace; font-size:16px; color:blue;\">file.txt</font><br>\n",
    "The `head` command will display the first 10 lines of an existing file to the command line.\n",
    "\n",
    "<font style=\"font-family:monospace; font-size:16px; color:red;\">tail</font> <font style=\"font-family:monospace; font-size:16px; color:blue;\">file.txt</font><br>\n",
    "The `tail` command will display the last 10 lines of an existing file to the command line.\n",
    "\n",
    "<font style=\"font-family:monospace; font-size:16px; color:red;\">nano</font> <font style=\"font-family:monospace; font-size:16px; color:blue;\">file.txt</font><br>\n",
    "The `nano` command opens a mini text editor within the command line. It can be used for quick changes to a file.\n",
    "\n",
    "<img src=\"supplementary/click.svg\" alt=\"a computer style arrow icon\" width=50px height=50px style=\"float:left; padding-left:0.5em; padding-right:0.5em; margin-top:8px\"/>Note that there are other command line programs for reading files such as `emacs` or `vi/vim`. Feel free to check out these commands using the terminal simulator in the next slide!"
   ]
  },
  {
   "cell_type": "code",
   "execution_count": null,
   "metadata": {
    "hide_input": false,
    "slideshow": {
     "slide_type": "slide"
    },
    "tags": [
     "Init",
     "Hide"
    ]
   },
   "outputs": [],
   "source": [
    "from IPython.display import HTML, IFrame, Javascript, display, clear_output\n",
    "from ipywidgets import interactive, Textarea, HBox, Button, Layout, VBox\n",
    "import ipywidgets as widgets\n",
    "import os\n",
    "\n",
    "execute101 = Button(\n",
    "    description='Execute',\n",
    "    disabled=False,\n",
    "    button_style='success', # 'success', 'info', 'warning', 'danger' or ''\n",
    "    tooltip='Execute',\n",
    "    \n",
    ")\n",
    "\n",
    "queryArea101 = Textarea(\n",
    "            value='ls',\n",
    "            placeholder='Type your command prompt here',\n",
    "            description='',\n",
    "            disabled=False,\n",
    "            layout=Layout( height='200px', min_height='100px', width='500px')\n",
    "            )\n",
    "\n",
    "\n",
    "data_input_style101 = \"\"\"<style>.data_input textarea {background-color:#000000 !important; color: #FFFFFF !important;  font-family: Courier New;},\n",
    "</style>\"\"\"\n",
    "\n",
    "display(HTML(data_input_style101))\n",
    "queryArea101.add_class('data_input')\n",
    "\n",
    "children101 = [queryArea101, execute101]\n",
    "\n",
    "hbox101 = HBox(children=children101)\n",
    "def on_click101(b):\n",
    "    clear_output()\n",
    "    display(HTML(data_input_style101))\n",
    "    display(hbox101)\n",
    "    return print(os.popen(queryArea101.value).read())\n",
    "\n",
    "execute101.on_click(on_click101)\n",
    "display(hbox101)"
   ]
  },
  {
   "cell_type": "markdown",
   "metadata": {
    "slideshow": {
     "slide_type": "slide"
    }
   },
   "source": [
    "<img width=600 src=\"supplementary/caution.png\"/>\n",
    "\n",
    "# Deleting files and folders\n",
    "Be VERY CAREFUL with these commands - they cannot be undone!\n",
    "\n",
    "<font style=\"font-family:monospace; font-size:16px; color:red;\">rm</font> <font style=\"font-family:monospace; font-size:16px; color:blue;\">file.txt</font><br>\n",
    "The `rm` command is used to remove a file.\n",
    "\n",
    "<font style=\"font-family:monospace; font-size:16px; color:red;\">rm</font> <font style=\"font-family:monospace; font-size:16px; color:green;\">-d</font> <font style=\"font-family:monospace; font-size:16px; color:blue;\">dirname</font><br>\n",
    "The `rm` command with the `-d` flag is used to remove a directory.\n",
    "\n",
    "<font style=\"font-family:monospace; font-size:16px; color:red;\">rmdir</font> <font style=\"font-family:monospace; font-size:16px; color:blue;\">dirname</font><br>\n",
    "The `rmdir` command is also used to remove a directory.\n"
   ]
  },
  {
   "cell_type": "markdown",
   "metadata": {
    "slideshow": {
     "slide_type": "slide"
    }
   },
   "source": [
    "<img width=200 style=\"float:left; padding-right:20px;\" src=\"supplementary/move-truck.png\"/>\n",
    "\n",
    "# Copying and moving files and folders\n",
    "\n",
    "<font style=\"font-family:monospace; font-size:16px; color:red;\">cp</font> <font style=\"font-family:monospace; font-size:16px; color:blue;\">file.txt</font> <font style=\"font-family:monospace; font-size:16px; color:blue;\">/new/path/to/file</font><br>\n",
    "\n",
    "The `cp` command, short for \"copy\", copies a file to a new location. After executing this command there will be <font style=\"color:#98bdef\"><b>two instances</b></font> of `file.txt`.\n",
    "\n",
    "<font style=\"font-family:monospace; font-size:16px; color:red;\">mv</font> <font style=\"font-family:monospace; font-size:16px; color:blue;\">file.txt</font> <font style=\"font-family:monospace; font-size:16px; color:blue;\">/new/path/to/file</font><br>\n",
    "\n",
    "<font style=\"font-family:monospace; font-size:16px; color:red;\">mv</font> <font style=\"font-family:monospace; font-size:16px; color:blue;\">file.txt</font> <font style=\"font-family:monospace; font-size:16px; color:blue;\">newfile.txt</font><br>\n",
    "\n",
    "The `mv` command, short for \"move\", moves or renames a file. After executing this command there will only be <font style=\"color:#98bdef\"><b>one instance</b></font> of file.txt (but the file name changes in the 2nd instance)."
   ]
  },
  {
   "cell_type": "markdown",
   "metadata": {
    "slideshow": {
     "slide_type": "slide"
    }
   },
   "source": [
    "<img width=400 style=\"float:right; padding-left:20px;\" src=\"supplementary/transfer.png\"/>\n",
    "\n",
    "# Transferring files and folders\n",
    "Working with the command line can be helpful for transferring files to remote computers. The `scp` command, which stands for “secure copy”, is used in this case. Here’s how it works:\n",
    "\n",
    "\n",
    "<font style=\"font-family:monospace; font-size:16px; color:red;\">scp</font> <font style=\"font-family:monospace; font-size:16px; color:blue;\">username@host:file.txt</font> <font style=\"font-family:monospace; font-size:16px; color:blue;\">/local/directory/</font><br>\n",
    "\n",
    "You will note that the remote section needs more infomation about where to get the file from. This is in the form of `username` `@` `host`, where the `username` is the remote user and the `host` is the name or address of the remote computer. You will generally have to enter the remote user password or token to copy the file.\n",
    "\n"
   ]
  },
  {
   "cell_type": "markdown",
   "metadata": {
    "slideshow": {
     "slide_type": "slide"
    }
   },
   "source": [
    "<img src=\"supplementary/confused-confusion-icon.png\" alt=\"a thought bubble\" width=150px style=\"float:left; padding-left:0.5em; padding-right:2em; margin-top:32px\"/>\n",
    "\n",
    "# Try it out\n",
    "\n",
    "\n",
    "<h3 style=\"color:#98bdef;\">Unscramble the commands</h3>\n",
    "\n",
    "<img src=\"supplementary/thought_bubble.png\" alt=\"a thought bubble\" width=50px height=50px style=\"float:left; padding-left:0.5em; padding-right:0.5em; margin-top:8px\"/>Now that you have learned about formatting more complex commands, try to unscrable the following commands to produce the intended result.\n"
   ]
  },
  {
   "cell_type": "markdown",
   "metadata": {
    "slideshow": {
     "slide_type": "slide"
    }
   },
   "source": [
    "<img src=\"supplementary/checklist.png\" alt=\"a checklist\" width=50px height=50px style=\"float:left; padding-left:0.5em; padding-right:0.5em; margin-top:0px\"/><div style=\"height:10px\">&nbsp;</div><h3>Task 1:</h3>\n",
    "Unscramble the following pieces to transfer a directory from your local computer to a remote computer:<br>\n",
    "`host` `/local/directory/` `@` `scp` `/remote/directory/`  ` -r ` `username` `:`"
   ]
  },
  {
   "cell_type": "markdown",
   "metadata": {
    "slideshow": {
     "slide_type": "slide"
    }
   },
   "source": [
    "<img src=\"supplementary/checklist.png\" alt=\"a checklist\" width=50px height=50px style=\"float:left; padding-left:0.5em; padding-right:0.5em; margin-top:0px\"/><div style=\"height:10px\">&nbsp;</div><h3 style=\"display:inline\">Task 1: </h3><h3 style=\"display:inline;color:#98bdef;\">Answer</h3>\n",
    "\n",
    "<font style=\"font-family:monospace; font-size:16px; color:red;\">scp</font> <font style=\"font-family:monospace; font-size:16px; color:green;\">-r</font> <font style=\"font-family:monospace; font-size:16px; color:blue;\">/local/directory/ username@host:/remote/directory/</font><br>"
   ]
  },
  {
   "cell_type": "markdown",
   "metadata": {
    "slideshow": {
     "slide_type": "slide"
    }
   },
   "source": [
    "<img src=\"supplementary/checklist.png\" alt=\"a checklist\" width=50px height=50px style=\"float:left; padding-left:0.5em; padding-right:0.5em; margin-top:0px\"/><div style=\"height:10px\">&nbsp;</div><h3>Task 2:</h3>\n",
    "Unscramble the following pieces to transfer a file from a remote computer to your local computer:<br>\n",
    "`file.txt` `@` `/local/directory/` `username` `scp `  `:` `host`"
   ]
  },
  {
   "cell_type": "markdown",
   "metadata": {
    "slideshow": {
     "slide_type": "slide"
    }
   },
   "source": [
    "<img src=\"supplementary/checklist.png\" alt=\"a checklist\" width=50px height=50px style=\"float:left; padding-left:0.5em; padding-right:0.5em; margin-top:0px\"/><div style=\"height:10px\">&nbsp;</div><h3 style=\"display:inline\">Task 2: </h3><h3 style=\"display:inline;color:#98bdef;\">Answer</h3>\n",
    "\n",
    "<font style=\"font-family:monospace; font-size:16px; color:red;\">scp</font> <font style=\"font-family:monospace; font-size:16px; color:blue;\">username@host:file.txt /local/directory/</font><br>"
   ]
  },
  {
   "cell_type": "markdown",
   "metadata": {
    "slideshow": {
     "slide_type": "slide"
    }
   },
   "source": [
    "# Wrapping up\n",
    "\n",
    "<img src=\"supplementary/thought_bubble.png\" width=50px height=50px style=\"float:left; padding-left:0.5em; padding-right:0.5em; margin-top:8px\"/><font style=\"color:#98bdef\"><b>Think briefly: </b> Using what you have learned so far, what tasks might you try out on the command line?\n",
    "    \n",
    "In this lesson you have learned how to edit and copy files using the command line.\n",
    "    \n",
    "You now have a solid basis in commonly used commands! Even though these may seem simple, they can be very powerful when combined with other commands into a workflow. \n",
    "    \n",
    "<img src=\"supplementary/click.svg\" alt=\"a computer style arrow icon\" width=50px height=50px style=\"float:left; padding-left:0.5em; padding-right:0.5em; margin-top:8px\"/><font style=\"color:#98bdef\"><p>In the final notebook, test your command line skills within an interactive game set in a command line type environment.</p></font> \n"
   ]
  },
  {
   "cell_type": "markdown",
   "metadata": {
    "slideshow": {
     "slide_type": "-"
    }
   },
   "source": [
    "\n",
    "\n",
    "<font size=\"+1\"><a style=\"background-color:blue;color:white;padding:12px;margin:10px;font-weight:bold;\" \n",
    "href=\"cyberinfrastructure-exploration.ipynb\">Click here to go to the next notebook.</a></font>\n",
    "\n"
   ]
  }
 ],
 "metadata": {
  "celltoolbar": "Edit Metadata",
  "kernelspec": {
   "display_name": "Python 3 (ipykernel)",
   "language": "python",
   "name": "python3"
  },
  "language_info": {
   "codemirror_mode": {
    "name": "ipython",
    "version": 3
   },
   "file_extension": ".py",
   "mimetype": "text/x-python",
   "name": "python",
   "nbconvert_exporter": "python",
   "pygments_lexer": "ipython3",
   "version": "3.7.16"
  },
  "rise": {
   "autolaunch": true,
   "overlay": "<div class='hciheader'></div><div class='hcifooter'></div>",
   "scroll": true
  }
 },
 "nbformat": 4,
 "nbformat_minor": 4
}
