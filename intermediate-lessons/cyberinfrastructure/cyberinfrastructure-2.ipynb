{
 "cells": [
  {
   "cell_type": "code",
   "execution_count": null,
   "metadata": {
    "hide_input": true,
    "slideshow": {
     "slide_type": "-"
    },
    "tags": [
     "Init",
     "Hide"
    ]
   },
   "outputs": [],
   "source": [
    "%%html\n",
    "\n",
    "<style>\n",
    ".csblink {\n",
    "  animation: mymove 2s steps(1) infinite;\n",
    "}\n",
    "\n",
    "@keyframes mymove {\n",
    "  0%   {opacity: 0;}\n",
    "  50% {opacity: 1;}\n",
    "  100% {opacity: 0;}\n",
    "}\n",
    "</style>\n",
    "\n",
    "<h3>Introduction to Cyberinfrastructure</h3>\n",
    "\n",
    "<h1><font style=\"color:#98bdef;\">The Command Line</font></h1>\n",
    "Segment 1 of 5\n",
    "<br><br><font size=\"10px\">><span class=\"csblink\">_</span></font>\n",
    "<br>\n",
    "<h4>In this section we introduce the command line and demonstrate its use for cyberinfrastructure (and more!).</h4>\n",
    "\n",
    "<style>\n",
    "div.larrow,\n",
    "div.rarrow {\n",
    "  width: 100px;\n",
    "  position: relative;\n",
    "  animation-duration: 4s;\n",
    "  animation-iteration-count: infinite; \n",
    "}\n",
    "div.rarrow {\n",
    "  animation-name: mv_right;\n",
    "}\n",
    "div.larrow {\n",
    "  animation-name: mv_left;\n",
    "}\n",
    "@keyframes mv_left {\n",
    "  0%   {left:0px;top:0px;}\n",
    "  50%  {left:50px;top:0px;}\n",
    "  100%  {left:0px;top:0px;}\n",
    "}\n",
    "@keyframes mv_right {\n",
    "  0%   {left:50px;top:0px;}\n",
    "  50%  {left:0px;top:0px;}\n",
    "  100%  {left:50px;top:0px;}\n",
    "}\n",
    "</style> \n",
    "\n",
    "<table style=\"background-color:#FFFFFF;border:none;margin-left:auto;margin-right:auto\">\n",
    "    <tr style=\"background-color:#FFFFFF;border:none;\">\n",
    "        <td width=300 style=\"background-color:#FFFFFF;border:none;\">\n",
    "            <img src=\"supplementary/cmd.png\" alt=\"a command line\"/>\n",
    "        </td> \n",
    "        <td width=100px style=\"background-color:#FFFFFF;border:none;\">\n",
    "            <div style=\"width:50%;\" class=\"larrow\" >\n",
    "            <img src=\"supplementary/leftarrow.png\" alt=\"a left arrow pointing towards the command line pictured on the left\"/>\n",
    "        </div>\n",
    "        </td>\n",
    "        <td width=100px style=\"background-color:#FFFFFF;border:none;\">\n",
    "        <div style=\"width:50%;\" class=\"rarrow\" >\n",
    "            <img src=\"supplementary/rightarrow.png\" alt=\"a right arrow pointing towards the computer pictured on the right\"/>\n",
    "            </div>\n",
    "        </td>\n",
    "        <td width=300 style=\"background-color:#FFFFFF;border:none;\">\n",
    "            <img src=\"supplementary/fancy_comp.jpeg\" alt=\"a computer\"/>\n",
    "        </td>\n",
    "    </tr>\n",
    "    <tr style=\"background-color:#FFFFFF;border:none;\">\n",
    "        <td width=300 style=\"text-align: center;\"><font style=\"color:#98bdef;font-size:2em;\"><b>A command line</b></font></td> \n",
    "        <td width=100px></td>\n",
    "        <td width=100px></td>\n",
    "        <td width=300 style=\"text-align: center;\"><font style=\"color:#98bdef;font-size:2em;\"><b>A computer</b></font></td>\n",
    "    </tr>\n",
    "</table>         \n",
    "\n",
    "<p>In brief, the command line helps you efficiently communicate with your computer.</p>"
   ]
  },
  {
   "cell_type": "code",
   "execution_count": null,
   "metadata": {
    "hide_input": false,
    "init_cell": true,
    "slideshow": {
     "slide_type": "skip"
    },
    "tags": [
     "Hide"
    ]
   },
   "outputs": [],
   "source": [
    "# This code cell starts the necessary setup for Hour of CI lesson notebooks.\n",
    "# First, it enables users to hide and unhide code by producing a 'Toggle raw code' button below.\n",
    "# Second, it imports the hourofci package, which is necessary for lessons and interactive Jupyter Widgets.\n",
    "# Third, it helps hide/control other aspects of Jupyter Notebooks to improve the user experience\n",
    "# This is an initialization cell\n",
    "# It is not displayed because the Slide Type is 'Skip'\n",
    "\n",
    "from IPython.display import HTML, IFrame, Javascript, display, clear_output\n",
    "from ipywidgets import interactive, Textarea, HBox, Button, Layout\n",
    "import ipywidgets as widgets\n",
    "from ipywidgets import Layout\n",
    "\n",
    "import getpass # This library allows us to get the username (User agent string)\n",
    "\n",
    "# import package for hourofci project\n",
    "import sys\n",
    "sys.path.append('../../supplementary') # relative path (may change depending on the location of the lesson notebook)\n",
    "import hourofci\n",
    "\n",
    "import warnings\n",
    "warnings.filterwarnings('ignore') # Hide warnings\n",
    "\n",
    "# load javascript to initialize/hide cells, get user agent string, and hide output indicator\n",
    "# hide code by introducing a toggle button \"Toggle raw code\"\n",
    "# HTML(''' \n",
    "#     <script type=\"text/javascript\" src=\\\"../../supplementary/js/custom.js\\\"></script>\n",
    "    \n",
    "#     <input id=\"toggle_code\" type=\"button\" value=\"Toggle raw code\">\n",
    "# ''')\n",
    "\n",
    "HTML(''' \n",
    "    <script type=\"text/javascript\" src=\\\"../../supplementary/js/custom.js\\\"></script>\n",
    "    \n",
    "    <style>\n",
    "        .output_prompt{opacity:0;}\n",
    "    </style>\n",
    "    \n",
    "    <input id=\"toggle_code\" type=\"button\" value=\"Toggle raw code\">\n",
    "''')\n"
   ]
  },
  {
   "cell_type": "markdown",
   "metadata": {
    "slideshow": {
     "slide_type": "slide"
    }
   },
   "source": [
    "# First, a little history…\n",
    "\n",
    "<img src=\"supplementary/magnifying_glass.svg\" alt=\"a magnifying glass\" width=50px height=50px style=\"float:left; padding-left:0.5em; padding-right:0.5em; margin-top:8px\"/>Why does the command line look and work this way? To investigate that, we will need to first explore a small part of the history of computers. \n",
    "\n",
    "<img src=\"supplementary/thought_bubble.png\" alt=\"a thought bubble\"  width=50px height=50px style=\"float:left; padding-left:0.5em; padding-right:0.5em; margin-top:8px\"/><font style=\"color:#98bdef\"><b>Think briefly:</b></font> What exactly is a computer? Is a computer different from a computing device? What was your first computer?\n",
    "\n",
    "<img src=\"supplementary/click.svg\" alt=\"a computer style arrow icon\" width=50px height=50px style=\"float:left; padding-left:0.5em; padding-right:0.5em; margin-top:8px\"/>Computers have changed rapidly over the years. Several computers (and proto-computers) are displayed below: click on an image to see when this type of computer was commonly used."
   ]
  },
  {
   "cell_type": "code",
   "execution_count": null,
   "metadata": {
    "hide_input": true,
    "slideshow": {
     "slide_type": "-"
    },
    "tags": [
     "Init",
     "Hide"
    ]
   },
   "outputs": [],
   "source": [
    "%%html\n",
    "<style>\n",
    ".output_wrapper, .output {\n",
    "    height:auto !important;\n",
    "    max-height:500px;\n",
    "    width=100%;\n",
    "    margin-left: 0 !important;\n",
    "}\n",
    ".output_scroll {\n",
    "    box-shadow:none !important;\n",
    "    webkit-box-shadow:none !important;\n",
    "}\n",
    "div.prompt, div.run_this_cell {\n",
    "    min-width:0px;\n",
    "    width:0px;\n",
    "    padding:0px;\n",
    "}\n",
    "\n",
    "div.output_subarea {\n",
    "    max-width:100%\n",
    "}\n",
    "</style>\n",
    "<iframe style=\"border:none;\" src=\"supplementary/timeline2_r1.html\", height=500, width=100%, allowfullscreen></iframe>\n"
   ]
  },
  {
   "cell_type": "markdown",
   "metadata": {
    "slideshow": {
     "slide_type": "slide"
    }
   },
   "source": [
    "# Feeding information in\n",
    "\n",
    "<img src=\"supplementary/thought_bubble.png\" alt=\"a thought bubble\" width=50px height=50px style=\"float:left; padding-left:0.5em; padding-right:0.5em; margin-top:8px\"/><font style=\"color:#98bdef\"><b>Think briefly:</b></font> Now that we have looked at a few computing devices, consider how a computer gets information. Is there human effort involved? Can the computer somehow \"sense\" the information?\n",
    "\n",
    "For a computer to work, it somehow needs to access information that it can \"understand\" so it can take action. For traditional computers, providing information was accomplished using input devices such as punch cards, tapes, and keyboards. Now many input options are available, and who can imagine what types of input might be used in the future.\n",
    "\n",
    "<img src=\"supplementary/click.svg\" alt=\"a computer style arrow icon\" width=50px height=50px style=\"float:left; padding-left:0.5em; padding-right:0.5em; margin-top:8px\"/>Here are a few examples of input devices - which ones have you used? Can you think of some advantages and disadvantages for using each of these devices?\n",
    "\n",
    "<table style=\"background-color:#FFFFFF;margin-left:auto;margin-right:auto;\">\n",
    "    <tr style=\"background-color:#FFFFFF;\">\n",
    "        <td>\n",
    "            <img src=\"supplementary/joystick.png\" style=\"height:150px;object-fit:contain;\" />\n",
    "        </td>\n",
    "        <td>\n",
    "            <img src=\"supplementary/touchscreen.png\"style=\"height:150px;object-fit:contain;\" />\n",
    "        </td>\n",
    "        <td>\n",
    "            <img src=\"supplementary/airplane_cockpit.jpg\" style=\"height:150px;object-fit:contain;\"/>\n",
    "        </td>\n",
    "        <td>\n",
    "            <img src=\"supplementary/trackpad.png\" style=\"height:150px;object-fit:contain;\"/>\n",
    "        </td>\n",
    "        <td>\n",
    "            <img src=\"supplementary/punch_card.jpg\" style=\"height:150px;object-fit:contain;\"/>\n",
    "        </td>\n",
    "    </tr>\n",
    "    <tr style=\"background-color:#FFFFFF;\">\n",
    "        <td>\n",
    "            <img src=\"supplementary/mouse.jpeg\" style=\"height:150px;object-fit:contain;\"/>\n",
    "        </td>\n",
    "        <td>\n",
    "            <img src=\"supplementary/steering_wheel.jpg\" style=\"height:150px;object-fit:contain;\"/>\n",
    "        </td>\n",
    "        <td>\n",
    "            <img src=\"supplementary/keyboard.jpeg\" style=\"height:150px;object-fit:contain;\"/>\n",
    "        </td>\n",
    "        <td>\n",
    "            <img src=\"supplementary/scanner.png\" style=\"height:150px;object-fit:contain;\"/>\n",
    "        </td>\n",
    "        <td>\n",
    "            <img src=\"supplementary/microphone.jpg\" style=\"height:150px;object-fit:contain;\"/>\n",
    "        </td>\n",
    "    </tr>\n",
    "</table>   \n"
   ]
  },
  {
   "cell_type": "markdown",
   "metadata": {
    "slideshow": {
     "slide_type": "slide"
    }
   },
   "source": [
    "# From input to interface\n",
    "\n",
    "But providing input is only half of the equation! A computer needs to <font style=\"color:#98bdef\"><b>recognize</b></font> the input, figure out the <font style=\"color:#98bdef\"><b>correct action</b></font> to take based on the input, and provide some sort of <font style=\"color:#98bdef\"><b>output</b></font> (ideally that you can understand). \n",
    "\n",
    "The overall activity of gathering input and providing output is called a <font style=\"color:#98bdef\"><b>user interface</b></font>. In other words, a user interface is a way that you, a <i>user</i>, can interact with a machine, in this case, a <i>computer</i>! Now we can see that the command line is an example of a user interface.\n",
    "\n",
    "<img src=\"supplementary/thought_bubble.png\" width=50px height=50px style=\"float:left; padding-left:0.5em; padding-right:0.5em; margin-top:8px\"/><font style=\"color:#98bdef\"><b>Think briefly:</b></font> Here are a few examples of user interfaces - which ones have you used?\n",
    "<table style=\"background-color:#FFFFFF;margin-left:auto;margin-right:auto\">\n",
    "    <tr style=\"background-color:#FFFFFF;\">\n",
    "        <td>\n",
    "            <img src=\"supplementary/punch-card-machine.jpeg\" alt=\"a punch card machine\" style=\"height:200px;object-fit:contain;\" />\n",
    "        </td>\n",
    "        <td>\n",
    "            <img src=\"supplementary/cmd.png\" alt=\"a command line\" style=\"height:200px;object-fit:contain;\" />\n",
    "        </td>\n",
    "        <td>\n",
    "            <img src=\"supplementary/gui.png\" alt=\"a graphic user interface\" style=\"height:200px;object-fit:contain;\" />\n",
    "        </td>\n",
    "        <td>\n",
    "            <img src=\"supplementary/voice.jpg\" alt=\"a cell phone gathering voice input\" style=\"height:200px;object-fit:contain;\" />\n",
    "        </td>\n",
    "    </tr>\n",
    "    <tr><td style=\"text-align:center\">(image credit: Computer Hope)</td></tr>\n",
    "</table>  \n",
    "\n",
    "<font style=\"color:#98bdef\"><p>And now on to the command line.</p></font> "
   ]
  },
  {
   "cell_type": "markdown",
   "metadata": {
    "slideshow": {
     "slide_type": "slide"
    }
   },
   "source": [
    "# The Command line in 30 seconds:\n",
    " \n",
    "<img src=\"supplementary/thought_bubble.png\" alt=\"a thought bubble\"  width=50px height=50px style=\"float:left; padding-left:0.5em; padding-right:0.5em; margin-top:8px;\"/><font style=\"color:#98bdef\"><b>Think briefly:</b></font> what sort of commands might you say to a dog? To a sibling? To an object? To a computer?\n",
    "\n",
    "<table style=\"margin-left: auto;margin-right: auto;\">\n",
    "    <tr>\n",
    "       <td style=\"background-color:white;\"><p style=\"color:#98bdef;display:inline\">This is an example of a command line.</p><img src=\"supplementary/sketchy_arrow.png\" alt=\"an arrow pointing right\" style=\"display:inline;width:100px;padding-left:20px;\"/> </td>\n",
    "     <td style=\"background-color:white;\"><img src=\"supplementary/command_line_ex_2_crop_more.png\" \n",
    "    alt=\"A command line showing the command prompt. A command to change folders to 'Documents' has been entered.\" \n",
    "    style=\"width:500px;\"/></td></tr>\n",
    "</table>\n",
    "\n",
    "\n",
    "A <font style=\"color:#98bdef;\"><b>command</b></font> is an order that you give to your computer. A <font style=\"color:#98bdef;\"><b>command line</b></font> is a program that allows you to interact with a computer using typed commands. \n",
    "\n",
    "<img src=\"supplementary/command_line_def.gif\" alt=\"Animated text within image reads: 'The command line is a way to give orders to a computer line by line.' An arrow connects the word 'orders' to the word 'command' in the phrase 'the command line'. Another arrow connects the phrase 'line by line' to the word 'line' in the phrase 'command line'.\" style=\"height:200px; margin-left:auto;margin-right:auto;\" />\n",
    "\n",
    "<i>Note: a command line can also be called a command prompt, a shell, or a terminal…</i>"
   ]
  },
  {
   "cell_type": "markdown",
   "metadata": {
    "slideshow": {
     "slide_type": "slide"
    }
   },
   "source": [
    "# Graphical User Interfaces: The Other Modern Interface\n",
    " \n",
    "<table style=\"float:left;background-color:#FFFFFF;border:none;margin-right:2em;\"><tr style=\"background-color:#FFFFFF;border:1 px solid blue;\"><td style=\"background-color:#FFFFFF;text-align:center;\"><img src=\"supplementary/Windows8Startscreen.png\" alt=\"a windows operating system graphical user interface\" style=\"float:left; height:150px;\" /></td></tr><tr><td style=\"text-align:center;\">A windows OS graphical user interface</td></tr></table>\n",
    "<table style=\"float:right;background-color:#FFFFFF;border:none;margin-left:2em;\"><tr><td style=\"background-color:#FFFFFF;text-align:center;\"><img src=\"supplementary/osxgui.png\" alt=\"a mac operating system graphical user interfacer\" style=\"height:150px;\" /></td></tr><tr><td style=\"text-align:center;\">A macOS graphical user interface</td></tr></table>\n",
    "\n",
    "Although all general-purpose computers have command lines, many people now use <font style=\"color:#98bdef;\"><b>graphical user interfaces (GUIs)</b></font> to work with their computers. \n",
    "\n",
    "GUIs support mouse control (clicking on icons and menu options) as well as keyboard input, and can be easier and more intuitive to use. \n",
    "\n",
    "After this lesson, you should be able to recognize situations where a command line is a useful alternative to a graphic user interface."
   ]
  },
  {
   "cell_type": "code",
   "execution_count": null,
   "metadata": {
    "hide_input": true,
    "slideshow": {
     "slide_type": "slide"
    },
    "tags": [
     "Init",
     "Hide"
    ]
   },
   "outputs": [],
   "source": [
    "%%html\n",
    "<style>\n",
    "div.annotated_loc {\n",
    "    position:absolute;\n",
    "    opacity:0.6;\n",
    "    border:2px dotted #98bdef;\n",
    "}\n",
    "div.annotated_loc:hover {\n",
    "    background-color:lightblue;\n",
    "}\n",
    "div.annotated_loc_text {\n",
    "    opacity:0.0;\n",
    "    position:absolute;\n",
    "}\n",
    "\n",
    "div.annotated_loc:hover div.annotated_loc_text {\n",
    "    opacity:1.0;\n",
    "}\n",
    "</style>\n",
    "\n",
    "<h1>Parts of a command line</h1>\n",
    "In this image, a command line has just been opened. Hover over a section of the command line image to learn about the different parts.\n",
    "\n",
    "<div class=\"image_wrapper\" style=\"position:relative;width:500px;\">\n",
    "\n",
    "    <img src=\"supplementary/command_line_ex_1_crop.png\" alt=\"A command line showing the command prompt\"  style=\"width:500px;float:left;\"/>\n",
    "    <div class=\"annotated_loc\" style=\"width:65px;height:25px;top:70px;left:160px;\" title=\"your current folder location\">\n",
    "        <div class=\"annotated_loc_text\" style=\"font-size:1.5em;width:600px;top:0px;left:320px;\">Your current folder location is displayed here.</div></div>\n",
    "    <div class=\"annotated_loc\" style=\"width:47px;height:25px;top:70px;left:240px;\" title=\"current process name\">\n",
    "       <div class=\"annotated_loc_text\" style=\"font-size:1.5em;width:600px;top:0px;left:240px;\">The current running process name is displayed here.</div></div>\n",
    "    <div class=\"annotated_loc\" style=\"width:45px;height:25px;top:70px;left:303px;\" title=\"window dimensions\">\n",
    "       <div class=\"annotated_loc_text\" style=\"font-size:1.5em;width:600px;top:0px;left:177px;\">Window dimensions are displayed here.</div></div>\n",
    "    <div class=\"annotated_loc\" style=\"width:345px;height:17px;top:102px;left:48px;\" title=\"last session info\">\n",
    "       <div class=\"annotated_loc_text\" style=\"font-size:1.5em;width:600px;top:0px;left:432px;\">Info about your last session is displayed here.</div></div>\n",
    "    <div class=\"annotated_loc\" style=\"width:201px;height:17px;top:119px;left:48px\" title=\"your computer's hostname\">\n",
    "       <div class=\"annotated_loc_text\" style=\"font-size:1.5em;width:600px;top:0px;left:432px;\">Your computer's hostname (computer name or network id) is displayed here.</div></div>\n",
    "    <div class=\"annotated_loc\" style=\"width:14px;height:17px;top:119px;left:249px;\" title=\"your current folder location\">\n",
    "       <div class=\"annotated_loc_text\" style=\"font-size:1.5em;width:600px;top:0px;left:231px;\">Your current folder location is also displayed here (~ stands for your home directory).</div></div>\n",
    "    <div class=\"annotated_loc\" style=\"width:44px;height:17px;top:119px;left:265px;\" title=\"your username\">\n",
    "       <div class=\"annotated_loc_text\" style=\"font-size:1.5em;width:600px;top:0px;left:224px;\">Your username is displayed here.</div></div>\n",
    "    <div class=\"annotated_loc\" style=\"width:14px;height:17px;top:119px;left:306px;\" title=\"end of the prompt\">\n",
    "       <div class=\"annotated_loc_text\" style=\"font-size:1.5em;width:600px;top:0px;left:174px;\">A sign indicating end of the command line prompt is displayed here.</div></div>\n",
    "    <div class=\"annotated_loc\" style=\"width:11px;height:17px;top:119px;left:324px;\" title=\"command line cursor\">\n",
    "       <div class=\"annotated_loc_text\" style=\"font-size:1.5em;width:600px;top:0px;left:156px;\">This is the command line cursor. You enter commands here.</div></div>\n",
    "</div>"
   ]
  },
  {
   "cell_type": "markdown",
   "metadata": {
    "slideshow": {
     "slide_type": "slide"
    }
   },
   "source": [
    "# How do you use the command line?\n",
    "- A command line has commands that are already set up to work with your computer.\n",
    "- If you type one of these commands on the command line, the computer will try to do the command.\n",
    "- The computer will then display the result on the command line. Either it could complete the command or an error occurred.\n",
    "- When the computer finishes processing the current command, you can enter another command.\n",
    "\n",
    "   <img src=\"supplementary/magnifying_glass.svg\" alt=\"a magnifying glass\" width=50px height=50px style=\"float:left;  padding-left:0.5em; padding-right:0.5em; margin-top:8px\"/><font style=\"color:#98bdef\"><p>Lets take a look at how this works on the next slide...</p></font> "
   ]
  },
  {
   "cell_type": "code",
   "execution_count": null,
   "metadata": {
    "hide_input": true,
    "slideshow": {
     "slide_type": "slide"
    },
    "tags": [
     "Init",
     "Hide"
    ]
   },
   "outputs": [],
   "source": [
    "%%html\n",
    "<style>\n",
    "div.bubble_text {\n",
    "    position:absolute;\n",
    "    top:20%;\n",
    "    left:5%;\n",
    "    height: 40%;\n",
    "    width: 45%;\n",
    "    margin-left:5px;\n",
    "    margin-right:5px;\n",
    "    display: table-cell;\n",
    "    text-align: center;\n",
    "    vertical-align: middle;\n",
    "    border-radius: 50%;\n",
    "    animation-name: example;\n",
    "    animation-duration: 10s;\n",
    "    animation-iteration-count: infinite;\n",
    "    animation-timing-function: steps(1, end);\n",
    "}\n",
    "\n",
    "img.bubble_img,\n",
    "div.bubble_description {\n",
    "    animation-duration: 10s;\n",
    "    animation-iteration-count: infinite;\n",
    "    animation-timing-function: steps(1, end);\n",
    "}\n",
    "div.bubble_description {\n",
    "    position:absolute;\n",
    "    top:1%;\n",
    "    text-align: center;\n",
    "}\n",
    ".typewriter {\n",
    "    display:inline-block;\n",
    "}\n",
    "  \n",
    ".typewriter div {\n",
    "  overflow: hidden; /* Ensures the content is not revealed until the animation */\n",
    "  border-right: .15em solid green; /* The typewriter cursor */\n",
    "  white-space: nowrap; /* Keeps the content on a single line */\n",
    "  letter-spacing: .15em; /* Adjust as needed */\n",
    "    animation: \n",
    "      typeTyping 10s steps(100) infinite;\n",
    "      blink-caret .75s step-end infinite;\n",
    "}\n",
    "\n",
    "@keyframes typeTyping {\n",
    "      0%   {opacity: 0;}\n",
    "    25%  {opacity: 0;}\n",
    "    50%   {opacity: 1;\n",
    "           width: 0;}\n",
    "    60%   {opacity: 1;\n",
    "           width: 100% ;}\n",
    "    85%  {opacity: 0;}\n",
    "    100%  {opacity: 0;}\n",
    "}\n",
    "\n",
    "@keyframes blink-caret {\n",
    "  from, to { border-color: transparent }\n",
    "  50% { border-color: green; }\n",
    "}\n",
    "\n",
    "@keyframes human {\n",
    "    0%   {opacity: 0;}\n",
    "    25%  {opacity: 1;}\n",
    "    50%   {opacity: 0;}\n",
    "}\n",
    "@keyframes typing {\n",
    "    0%   {opacity: 0;}\n",
    "    50%   {opacity: 1;}\n",
    "    75%  {opacity: 0;}\n",
    "}\n",
    "@keyframes enter_button {\n",
    "    0%   {opacity: 0;}\n",
    "    62%   {opacity: 1;}\n",
    "    75%  {opacity: 0;}\n",
    "}\n",
    "@keyframes line {\n",
    "    0%   {opacity: 1;}\n",
    "    25%  {opacity: 0;}\n",
    "    100%  {opacity: 1;}\n",
    "}\n",
    "@keyframes computer {\n",
    "    0%   {opacity: 0;}\n",
    "    75%  {opacity: 1;}\n",
    "    100%  {opacity: 0;}\n",
    "}\n",
    "\n",
    "</style>\n",
    "<table width=100% style=\"background-color:#FFFFFF; border:none;\">\n",
    "    <tr colspan=\"3\" height=100px style=\"background-color:#FFFFFF; border:none; position:relative;\">\n",
    "    <td style=\"border:none;\">\n",
    "        <font style=\"color:#98bdef\"><b>\n",
    "        <div class=\"bubble_description\" style=\"animation-name: line; font-size:24px;\"><p>The command line knows certain commands.</p></div>\n",
    "        <div class=\"bubble_description\"  style=\"animation-name: human; font-size:24px;\"><p>You decide to use a known command.</p></div>\n",
    "        <div class=\"bubble_description\" style=\"animation-name: typing; font-size:24px;\"><p>You type the command in the command line and press enter.</p></div>\n",
    "        <div class=\"bubble_description\" style=\"animation-name: computer; font-size:24px;\" ><p>The computer performs the command (or tells you the command failed).</p></div>\n",
    "        </b></font>\n",
    "    </td></tr>\n",
    "    <tr style=\"background-color:#FFFFFF; border:none;\">\n",
    "    <td width=200px style=\"background-color:#FFFFFF; border:none; text-align:center; position:relative;\">\n",
    "        <img class=\"bubble_img\" src=\"supplementary/thought_bubble.png\" alt=\"a thought bubble\" width=200px height=200px style=\"animation-name: human; transform: scaleX(-1);\" />\n",
    "        <div class=\"bubble_text\" width=200px style=\"animation-name: human; font-size:18px; font-family:Bradley Hand, Comic Sans MS, Comic Sans, cursive;\">Let's try to go to myfolder using the 'cd' command!</div>\n",
    "        <div class=\"bubble_text\" width=200px style=\"animation-name: typing; top:30%; font-size:20px; color:green; font-family:monospace;\"><div class=\"typewriter\"><div>cd myfolder</div></div></div>\n",
    "        <img class=\"bubble_img\" src=\"supplementary/enter_return.png\" alt=\"an enter or return button\" width=80px height=200px style=\"animation-name: enter_button; position:absolute;top:85px;left:140px;\" />\n",
    "        </td>\n",
    "    <td width=200px style=\"background-color:#FFFFFF; border:none; text-align:center; position:relative;\">\n",
    "        <img class=\"bubble_img\" src=\"supplementary/thought_bubble.png\" alt=\"a thought bubble\" width=200px height=200px style=\"animation-name: line;\" />\n",
    "        <div  class=\"bubble_text\" width=200px style=\"animation-name: line; font-size:14px; font-family:monospace;\">I know these commands:<br> ls, cd ...</div>\n",
    "        </td>\n",
    "    <td width=200px style=\"background-color:#FFFFFF; border:none; text-align:center; position:relative;font-family:monospace;\">\n",
    "        <img class=\"bubble_img\" src=\"supplementary/thought_bubble.png\"  alt=\"a thought bubble\" width=200px height=200px style=\"animation-name: computer;\" />\n",
    "        <div  class=\"bubble_text\" width=200px style=\"animation-name: computer; top:25%;font-size:14px;\">I can do that! You are now in myfolder!</div>\n",
    "        </td>\n",
    "        </tr>\n",
    "    <tr style=\"background-color:#FFFFFF;border:none;\">\n",
    "    <td style=\"border:none;\"><img src=\"supplementary/typing_hands.jpg\"  alt=\"hands typing on a keyboard\" width=200px /></td>\n",
    "    <td style=\"border:none;\"><img src=\"supplementary/cmd.png\" alt=\"a command line\" width=200px /></td>\n",
    "    <td style=\"border:none;\" ><img src=\"supplementary/fancy_comp.jpeg\" alt=\"a computer\" width=200px /></td>\n",
    "        </tr>\n",
    "    </table>\n",
    "    <img src=\"supplementary/magnifying_glass.svg\" alt=\"a magnifying glass\" width=50px height=50px style=\"float:left;  padding-left:0.5em; padding-right:0.5em; margin-top:8px\"/><font style=\"color:#98bdef\">\n",
    "    <p>Go to the next slide to take a look from the point of view of a command line...</p></font> "
   ]
  },
  {
   "cell_type": "code",
   "execution_count": null,
   "metadata": {
    "hide_input": true,
    "slideshow": {
     "slide_type": "slide"
    },
    "tags": [
     "Init",
     "Hide"
    ]
   },
   "outputs": [],
   "source": [
    "%%html\n",
    "<style>\n",
    "div.annotated_loc {\n",
    "    position:absolute;\n",
    "    opacity:0.6;\n",
    "    border:2px dotted #98bdef;\n",
    "}\n",
    "div.annotated_loc:hover {\n",
    "    background-color:lightblue;\n",
    "}\n",
    "div.annotated_loc_text {\n",
    "    opacity:0.0;\n",
    "    position:absolute;\n",
    "}\n",
    "\n",
    "div.annotated_loc:hover div.annotated_loc_text {\n",
    "    opacity:1.0;\n",
    "}\n",
    "   \n",
    "</style>\n",
    "\n",
    "<h2>Entering commands</h2>\n",
    "This image shows an example command line after a command has been entered. Hover over a section of the command line image to learn about the different parts.\n",
    "\n",
    "<div class=\"image_wrapper\" style=\"position:relative;width:500px;\">\n",
    "    <img src=\"supplementary/command_line_ex_2_crop.png\" \n",
    "    alt=\"A command line showing the command prompt. A command to change folders to 'Documents' has been entered.\" \n",
    "    style=\"width:500px;float:left;\"/>\n",
    "     <div class=\"annotated_loc\" style=\"width:14px;height:17px;top:119px;left:249px;\" title=\"your current folder location\">\n",
    "        <div class=\"annotated_loc_text\" style=\"font-size:1.5em;width:600px;top:0px;left:231px;\">The initial folder location (~ stands for the home directory).</div></div>\n",
    "    <div class=\"annotated_loc\" style=\"width:100px;height:17px;top:119px;left:324px;\" title=\"command\">\n",
    "        <div class=\"annotated_loc_text\" style=\"font-size:1.5em;width:600px;top:0px;left:156px;\">The command \"cd Documents\" has been entered here.</div></div>\n",
    "    <div class=\"annotated_loc\" style=\"width:78px;height:17px;top:136px;left:249px;\" title=\"the new folder location\">\n",
    "        <div class=\"annotated_loc_text\" style=\"font-size:1.5em;width:600px;top:0px;left:231px;\">The new folder location (the Documents folder).</div></div>\n",
    "</div>\n"
   ]
  },
  {
   "cell_type": "markdown",
   "metadata": {
    "slideshow": {
     "slide_type": "slide"
    }
   },
   "source": [
    "<center><table style=\"background-color:#FFFFFF;\">\n",
    "    <tr style=\"background-color:#FFFFFF;\">\n",
    "        <td>\n",
    "            <img src=\"supplementary/cmd_old.png\" alt=\"an example command line\" style=\"height:200px;object-fit:contain;\"/>\n",
    "        </td>\n",
    "        <td>\n",
    "            <img src=\"supplementary/cmd.png\" alt=\"an example command line\" style=\"height:200px;object-fit:contain;\"/>\n",
    "        </td>\n",
    "        <td>\n",
    "            <img src=\"supplementary/cmd_linux.png\" alt=\"an example command line\" style=\"height:200px;object-fit:contain;\"/>\n",
    "        </td>\n",
    "        <td>\n",
    "            <img src=\"supplementary/cmd_modern.png\" alt=\"an example command line\" style=\"height:200px;object-fit:contain;\"/>\n",
    "        </td>\n",
    "    </tr>\n",
    "</table>\n",
    "</center>\n",
    "    \n",
    "# Why use the command line? \n",
    "\n",
    "Command lines once were primary methods for controlling computers. Now they are one of many ways to interact with a computer. \n",
    "\n",
    "<img src=\"supplementary/thought_bubble.png\" width=50px height=50px style=\"float:left; padding-left:0.5em; padding-right:0.5em; margin-top:8px\"/><font style=\"color:#98bdef\"><b>Think briefly: </b></font>With so many interface options, why are we going old school? What might be some advantages of using a command line for an interface?\n",
    "\n",
    "The command line can be used for intensive “behind the scenes” interaction with your current machine, but learning the command line is even more valuable if you need additional computational resources. This is because the command line is currently a primary tool for working with remote and high performance computers.\n",
    " "
   ]
  },
  {
   "cell_type": "markdown",
   "metadata": {
    "slideshow": {
     "slide_type": "slide"
    }
   },
   "source": [
    "# To compare...\n",
    "<img src=\"supplementary/fancy_comp.jpeg\" style=\"float:left; padding-left:0.5em; padding-right:2em; width:300px;\"/>\n",
    "\n",
    "## What are computers good for?\n",
    "\n",
    "Generally, knowing how to use a computer, tablet, or smartphone can help with certain tasks, such as:\n",
    "- Drafting and editing a long text document\n",
    "- Reviewing and sorting photos\n",
    "- Searching for content\n",
    "\n",
    "<div style=\"clear:left;\" /><br>\n",
    "\n",
    "<img src=\"supplementary/cmd.png\" style=\"float:right; padding-left:2em; padding-right:0.5em; width:300px;\"/>\n",
    "\n",
    "## What are command lines good for?\n",
    "\n",
    "Command lines help you tackle really big or complicated tasks that are challenging even with a computer, such as:\n",
    "\n",
    "- Change 1,000 file names based on a complex pattern\n",
    "- Search through recipe files to find all desserts that include apples that take fewer than 3 steps to prepare\n",
    "- Installing a program and all of the program’s dependencies\n",
    "- Reviewing system information and logs\n",
    "- Connecting with remote computers"
   ]
  },
  {
   "cell_type": "markdown",
   "metadata": {
    "slideshow": {
     "slide_type": "slide"
    }
   },
   "source": [
    "# Summing up\n",
    "\n",
    "The command line really shines when dealing with complex, repetitive work! Although some of these tasks may be suited for specialized software, such as a database program, the command line is a general purpose tool that can handle a variety of categories of tasks.\n",
    "\n",
    "<center>\n",
    "    <div style=\"padding:10px\">\n",
    "        <div style=\"height:300px;width:300px; background-size:contain;background-image:url('supplementary/cmd_cir_tr.png');background-repeat:no-repeat;background-position: center;\"></div></div>\n",
    "    </center>\n",
    "    <center>\n",
    "    <div style=\"margin-top:-300px;\">\n",
    "<div style=\"display: table-cell; text-align:center; vertical-align: middle;height:300px;width:300px;\">\n",
    "    <font style=\"color:darkblue;font-family:Marker Felt;font-size:25px;\">Is your task <font style=\"font-size:35px;\">Big? Repetitive? Tedious?</font> or <font style=\"font-size:35px;\">Remote?</font></font><br><br><font style=\"color:darkblue;font-family:Marker Felt;font-size:25px;\">The command line may be right for you!</font> \n",
    "</div></div>\n",
    "    </center>\n",
    "\n",
    "\n",
    "\t\n",
    "\n",
    "<img src=\"supplementary/confused-confusion-icon.png\" alt=\"a magnifying glass\" width=50px height=50px style=\"float:left;  padding-left:0.5em; padding-right:0.5em;\"/><font style=\"color:#98bdef\">\n",
    "<p>Next, test yourself - when would you use a command line?</p></font> "
   ]
  },
  {
   "cell_type": "markdown",
   "metadata": {
    "slideshow": {
     "slide_type": "slide"
    }
   },
   "source": [
    "<img src=\"supplementary/confused-confusion-icon.png\" alt=\"a thought bubble\" width=150px style=\"float:left; padding-left:0.5em; padding-right:2em; margin-top:32px\"/>\n",
    "\n",
    "# What would you do?\n",
    "\n",
    "<h3 style=\"color:#98bdef;\">Using the Command Line</h3>\n",
    "\n",
    "<img src=\"supplementary/thought_bubble.png\" alt=\"a thought bubble\" width=50px height=50px style=\"float:left; padding-left:0.5em; padding-right:0.5em; margin-top:8px\"/>Now that you have learned about what a command line can do, take a look at the following tasks and decide whether a command line might help make the task easier.\n",
    "\n"
   ]
  },
  {
   "cell_type": "markdown",
   "metadata": {
    "slideshow": {
     "slide_type": "slide"
    }
   },
   "source": [
    "<img src=\"supplementary/photos_pile.jpg\" alt=\"a messy stack of photos\" width=300px style=\"float:right; padding-left:0.5em; padding-right:0.5em; margin-top:8px\"/>\n",
    "\n",
    "<img src=\"supplementary/checklist.png\" alt=\"a checklist\" width=50px height=50px style=\"float:left; padding-left:0.5em; padding-right:0.5em; margin-top:0px\"/><div style=\"height:10px\">&nbsp;</div><h3>Task 1:</h3>\n",
    "\n",
    "You and your best friend have downloaded all your (500+) vacation pictures into one folder. Your cameras each save images with a different filename pattern (i.e. \"DSC_0053.JPG\" and \"IMG_3578.jpg\"). You would like to rename all of the images using the same pattern (such as \"22_july_vacation_123.jpg\") for easier sorting."
   ]
  },
  {
   "cell_type": "code",
   "execution_count": null,
   "metadata": {
    "hide_input": false,
    "slideshow": {
     "slide_type": "-"
    },
    "tags": [
     "Init",
     "Hide"
    ]
   },
   "outputs": [],
   "source": [
    "widget1 = widgets.RadioButtons(\n",
    "    options = ['Yes', 'No'],\n",
    "    description = ' ', style={'description_width': 'initial'},\n",
    "    layout = Layout(width='100%'),\n",
    "    value = None\n",
    ")\n",
    "\n",
    "display(widget1)\n",
    "\n",
    "hourofci.SubmitBtn2(widget1)"
   ]
  },
  {
   "cell_type": "markdown",
   "metadata": {
    "slideshow": {
     "slide_type": "slide"
    }
   },
   "source": [
    "<img src=\"supplementary/photos_pile.jpg\" alt=\"a messy stack of photos\" width=300px style=\"float:right; padding-left:0.5em; padding-right:0.5em; margin-top:8px\"/>\n",
    "<img src=\"supplementary/checklist.png\" alt=\"a checklist\" width=50px height=50px style=\"float:left; padding-left:0.5em; padding-right:0.5em; margin-top:0px\"/><div style=\"height:10px\">&nbsp;</div><h3 style=\"display:inline\">Task 1: </h3><h3 style=\"display:inline;color:#98bdef;\">Answer</h3>\n",
    "\n",
    "<br><img src=\"supplementary/correct-icon.png\" alt=\"correct\" style=\"width:100px;float:left;padding-right:1em; margin-top:1.5em\"/>\n",
    "\n",
    "Yes! This might be a good choice for a command line! You have a lot of files and a simple process for converting file names to a standard pattern. You could save a lot of time with the command line!\n"
   ]
  },
  {
   "cell_type": "markdown",
   "metadata": {
    "slideshow": {
     "slide_type": "slide"
    }
   },
   "source": [
    "<img src=\"supplementary/checklist.png\" alt=\"a checklist\" width=50px height=50px style=\"float:left; padding-left:0.5em; padding-right:0.5em; margin-top:0px\"/><div style=\"height:10px\">&nbsp;</div><h3 style=\"display:inline\">Task 2: </h3>\n",
    "<img src=\"supplementary/project_3_files.png\" alt=\"a computer file folder with three files\" width=500px style=\"padding-left:0.5em; padding-right:0.5em;\"/>\n",
    "\n",
    "Your classmate wants to rename 2-3 of their class project files to reflect the updated project title. \n"
   ]
  },
  {
   "cell_type": "code",
   "execution_count": null,
   "metadata": {
    "hide_input": false,
    "slideshow": {
     "slide_type": "-"
    },
    "tags": [
     "Init",
     "Hide"
    ]
   },
   "outputs": [],
   "source": [
    "widget1 = widgets.RadioButtons(\n",
    "    options = ['Yes', 'No'],\n",
    "    description = ' ', style={'description_width': 'initial'},\n",
    "    layout = Layout(width='100%'),\n",
    "    value = None\n",
    ")\n",
    "\n",
    "display(widget1)\n",
    "\n",
    "hourofci.SubmitBtn2(widget1)"
   ]
  },
  {
   "cell_type": "markdown",
   "metadata": {
    "slideshow": {
     "slide_type": "slide"
    }
   },
   "source": [
    "<img src=\"supplementary/checklist.png\" alt=\"a checklist\" width=50px height=50px style=\"float:left; padding-left:0.5em; padding-right:0.5em; margin-top:0px\"/><div style=\"height:10px\">&nbsp;</div><h3 style=\"display:inline\">Task 2: </h3><h3 style=\"display:inline;color:#98bdef;\">Answer</h3>\n",
    "<img src=\"supplementary/project_3_files.png\" alt=\"a computer file folder with three files\" width=500px style=\"padding-left:0.5em; padding-right:0.5em;\"/>\n",
    "\n",
    "<br><img src=\"supplementary/wrong-icon.png\" alt=\"correct\" style=\"width:100px;float:left;padding-right:1em; margin-top:1.5em\"/>\n",
    "\n",
    "No! This might not be a good choice for a command line because your classmate can rename a few files pretty fast without using the command line.\n"
   ]
  },
  {
   "cell_type": "markdown",
   "metadata": {
    "slideshow": {
     "slide_type": "slide"
    }
   },
   "source": [
    "<img src=\"supplementary/lots_of_files.jpg\" alt=\"a stack of files\" width=300px style=\"float:left; padding-left:0.5em; padding-right:0.5em;\"/>\n",
    "<img src=\"supplementary/checklist.png\" alt=\"a checklist\" width=50px height=50px style=\"float:left; padding-left:0.5em; padding-right:0.5em; margin-top:0px\"/><div style=\"height:10px\">&nbsp;</div><h3 style=\"display:inline\">Task 3: </h3>\n",
    "\n",
    "A researcher has over 10,000 project files and wants to copy only files containing a certain sequence of characters in the first line and files that are more than a year old to a different computer.\n"
   ]
  },
  {
   "cell_type": "code",
   "execution_count": null,
   "metadata": {
    "hide_input": false,
    "slideshow": {
     "slide_type": "-"
    },
    "tags": [
     "Init",
     "Hide"
    ]
   },
   "outputs": [],
   "source": [
    "widget1 = widgets.RadioButtons(\n",
    "    options = ['Yes', 'No'],\n",
    "    description = ' ', style={'description_width': 'initial'},\n",
    "    layout = Layout(width='100%'),\n",
    "    value = None\n",
    ")\n",
    "\n",
    "display(widget1)\n",
    "\n",
    "hourofci.SubmitBtn2(widget1)"
   ]
  },
  {
   "cell_type": "markdown",
   "metadata": {
    "slideshow": {
     "slide_type": "slide"
    }
   },
   "source": [
    "<img src=\"supplementary/lots_of_files.jpg\" alt=\"a stack of files\" width=300px style=\"float:left; padding-left:0.5em; padding-right:0.5em;\"/>\n",
    "<img src=\"supplementary/checklist.png\" alt=\"a checklist\" width=50px height=50px style=\"float:left; padding-left:0.5em; padding-right:0.5em; margin-top:0px\"/><div style=\"height:10px\">&nbsp;</div><h3 style=\"display:inline\">Task 3: </h3><h3 style=\"display:inline;color:#98bdef;\">Answer</h3>\n",
    "\n",
    "<br><img src=\"supplementary/correct-icon.png\" alt=\"correct\" style=\"width:100px;float:left;padding-right:1em; margin-top:1.5em\"/>\n",
    "\n",
    "Yes! This might be a good choice for a command line! It would take a very long time to manually check and move all the files!\n"
   ]
  },
  {
   "cell_type": "markdown",
   "metadata": {
    "slideshow": {
     "slide_type": "slide"
    }
   },
   "source": [
    "<img src=\"https://imgs.xkcd.com/comics/is_it_worth_the_time.png\" width=600px style=\"padding-left:0.5em; padding-right:0.5em; float:right\" alt=\"webcomic from xkcd with a chart on how long you can work on automating a problem before you have spent more time than you would have saved. One axis is titled 'how often you do the task' and the other axis titled 'how much time you shave off'.\" /><font style=\"color:#98bdef\">\n",
    "    \n",
    "# Wrapping up\n",
    "\n",
    "<img src=\"supplementary/thought_bubble.png\" width=50px height=50px style=\"float:left; padding-left:0.5em; padding-right:0.5em; margin-top:8px\"/><font style=\"color:#98bdef\"><b>Think briefly: </b></font>At what point is it worth it to automate a repetitive task? How much time could you save? How long would it take to set up the automation? Check out this comic from the webcomic <a href=\"https://xkcd.com/\">xkcd</a> for a handy chart: \n",
    "    \n",
    "In this lesson you have learned what the command line is and thought about some situations where it could be useful.\n",
    "\n",
    "<img src=\"supplementary/magnifying_glass.svg\" alt=\"a magnifying glass\" width=50px height=50px style=\"float:left;  padding-left:0.5em; padding-right:0.5em; margin-top:8px\"/><font style=\"color:#98bdef\"><p>\n",
    "You've now seen some types of problems where a command line can be useful. In the next notebook, get ready to see how you can access and start using the command line.</p></font> "
   ]
  },
  {
   "cell_type": "markdown",
   "metadata": {
    "slideshow": {
     "slide_type": "-"
    }
   },
   "source": [
    "\n",
    "\n",
    "<font size=\"+1\"><a style=\"background-color:blue;color:white;padding:12px;margin:10px;font-weight:bold;\" href=\"cyberinfrastructure-3.ipynb\">Click here to go to the next notebook.</a></font>"
   ]
  }
 ],
 "metadata": {
  "celltoolbar": "Slideshow",
  "kernelspec": {
   "display_name": "I-GUIDE EWD",
   "language": "python",
   "name": "conda-env-iguide-ewd-py"
  },
  "language_info": {
   "codemirror_mode": {
    "name": "ipython",
    "version": 3
   },
   "file_extension": ".py",
   "mimetype": "text/x-python",
   "name": "python",
   "nbconvert_exporter": "python",
   "pygments_lexer": "ipython3",
   "version": "3.7.16"
  },
  "rise": {
   "autolaunch": true,
   "overlay": "<div class='hciheader'></div><div class='hcifooter'></div>",
   "scroll": true
  }
 },
 "nbformat": 4,
 "nbformat_minor": 4
}
