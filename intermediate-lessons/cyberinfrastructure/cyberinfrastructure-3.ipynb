{
 "cells": [
  {
   "cell_type": "code",
   "execution_count": null,
   "metadata": {
    "hide_input": false,
    "slideshow": {
     "slide_type": "slide"
    },
    "tags": [
     "Init",
     "Hide"
    ]
   },
   "outputs": [],
   "source": [
    "%%html\n",
    "\n",
    "<style>\n",
    ".csblink {\n",
    "  animation: mymove 2s steps(1) infinite;\n",
    "}\n",
    "\n",
    "@keyframes mymove {\n",
    "  0%   {opacity: 0;}\n",
    "  50% {opacity: 1;}\n",
    "  100% {opacity: 0;}\n",
    "}\n",
    "</style>\n",
    "\n",
    "<h3>Introduction to Cyberinfrastructure</h3>\n",
    "<h1><font style=\"color:#98bdef;\">The Command Line</font></h1>\n",
    "Segment 2 of 5\n",
    "<br><br><font size=\"10px\">><span class=\"csblink\">_</span></font>\n",
    "\n",
    "<h4>In this section you will learn how to access command lines on different computers and in different settings.</h4>\n"
   ]
  },
  {
   "cell_type": "code",
   "execution_count": null,
   "metadata": {
    "hide_input": true,
    "init_cell": true,
    "slideshow": {
     "slide_type": "skip"
    },
    "tags": [
     "Hide"
    ]
   },
   "outputs": [],
   "source": [
    "# This code cell starts the necessary setup for Hour of CI lesson notebooks.\n",
    "# First, it enables users to hide and unhide code by producing a 'Toggle raw code' button below.\n",
    "# Second, it imports the hourofci package, which is necessary for lessons and interactive Jupyter Widgets.\n",
    "# Third, it helps hide/control other aspects of Jupyter Notebooks to improve the user experience\n",
    "# This is an initialization cell\n",
    "# It is not displayed because the Slide Type is 'Skip'\n",
    "\n",
    "from IPython.display import HTML, IFrame, Javascript, display\n",
    "from ipywidgets import interactive\n",
    "import ipywidgets as widgets\n",
    "from ipywidgets import Layout\n",
    "\n",
    "import getpass # This library allows us to get the username (User agent string)\n",
    "\n",
    "# import package for hourofci project\n",
    "import sys\n",
    "sys.path.append('../../supplementary') # relative path (may change depending on the location of the lesson notebook)\n",
    "import hourofci\n",
    "\n",
    "\n",
    "# load javascript to initialize/hide cells, get user agent string, and hide output indicator\n",
    "# hide code by introducing a toggle button \"Toggle raw code\"\n",
    "HTML(''' \n",
    "    <script type=\"text/javascript\" src=\\\"../../supplementary/js/custom.js\\\"></script>\n",
    "    \n",
    "    <style>\n",
    "        .output_prompt{opacity:0;}\n",
    "    </style>\n",
    "    \n",
    "    <input id=\"toggle_code\" type=\"button\" value=\"Toggle raw code\">\n",
    "''')"
   ]
  },
  {
   "cell_type": "markdown",
   "metadata": {
    "hide_input": true,
    "slideshow": {
     "slide_type": "slide"
    }
   },
   "source": [
    "# Core elements of a command line\n",
    "\n",
    "<img src=\"supplementary/magnifying_glass.svg\" alt=\"a magnifying glass\" width=50px height=50px style=\"float:left; padding-left:0.5em; padding-right:0.5em; margin-top:8px\"/>First, let's take a closer look at a command line.\n",
    "\n",
    "A <font style=\"color:#98bdef\"><b>command line</b></font> essentially provides a prompt, or a signal that it can accept a command. This is the command line's way of saying, <font style=\"color:#98bdef\"><b>\"I'm ready!\"</b></font>. Once you type a command and press return or enter, the command line will display output from that command.\n",
    "\n",
    "<table style=\"background-color:#FFFFFF;\">\n",
    "    <tr style=\"background-color:#FFFFFF;\">\n",
    "        <center><img width=600 src=\"supplementary/cmd_example2.jpg\"/></center>\n",
    "    </tr>\n",
    "    <tr style=\"background-color:#FFFFFF;\">\n",
    "        <center>An image of a command line</center>\n",
    "    </tr>\n",
    "</table>  \n",
    "\n"
   ]
  },
  {
   "cell_type": "markdown",
   "metadata": {
    "hide_input": true,
    "slideshow": {
     "slide_type": "slide"
    }
   },
   "source": [
    "# Short Digression: What is a Shell?\n",
    "\n",
    "<table style=\"background-color:#FFFFFF;\">\n",
    "    <tr style=\"background-color:#FFFFFF;\">\n",
    "        <center><img width=200 src=\"supplementary/shell.png\" alt=\"a seashell\"/></center>\n",
    "    </tr>\n",
    "</table> \n",
    "\n",
    "You may also hear reference to a <font style=\"color:#98bdef\"><b>shell</b></font>. A shell is a place where you can access and use the command line. For example, `Bash` and `Tcsh` are both shells, but they accept slightly different sets of commands and have slight differences in output. While the commands in this lesson will work similarly across shells, you may need to pay attention to which shell you are using for advanced work."
   ]
  },
  {
   "cell_type": "markdown",
   "metadata": {
    "hide_input": true,
    "slideshow": {
     "slide_type": "slide"
    }
   },
   "source": [
    "# How to access a command line?\n",
    "<img width=200 style=\"float:right\" src=\"supplementary/commander.png\" alt=\"a commander pointing\"/>\n",
    "<img src=\"supplementary/thought_bubble.png\" alt=\"a thought bubble\"  width=50px height=50px style=\"float:left; padding-left:0.5em; padding-right:0.5em; margin-top:8px\"/><font style=\"color:#98bdef\"><b>Think briefly:</b></font> Have you seen a command line before? If so, where was it?\n",
    "<br><br>\n",
    "\n",
    "Now that we have covered what a command line is, let's get started! In this lesson, we'll cover how to get to a command line and start giving commands on a Windows computer, an Apple computer, and an Ubuntu computer. \n",
    "\n",
    "<i>Note: You will find that the word <font style=\"color:#98bdef\"><b>terminal</b></font> is often used to describe an application that contains a command prompt. This is a throwback to the old days where you would access a computer using a computing terminal.</i>"
   ]
  },
  {
   "cell_type": "markdown",
   "metadata": {
    "hide_input": true,
    "slideshow": {
     "slide_type": "slide"
    }
   },
   "source": [
    "# Accessing a command line on a Windows computer\n",
    "If you have an Windows computer, you can access a command line using the Command Prompt application.\n",
    "\n",
    "- In the text area in the lower left corner of the screen type \"cmd\" or \"command prompt\".\n",
    "- Then select “Command Prompt” and the Command Prompt application will open.\n",
    "- You can also generally find the Command Prompt application by clicking the Start Menu and looking in the Windows System section.\n",
    "\n",
    "<center><img width=600 src=\"supplementary/pc_cmd.jpg\"/></center>\n"
   ]
  },
  {
   "cell_type": "markdown",
   "metadata": {
    "hide_input": true,
    "slideshow": {
     "slide_type": "slide"
    }
   },
   "source": [
    "# Accessing a command line on an Apple computer\n",
    "If you have an Apple computer (iOS), you can access a command line using the Terminal application.\n",
    "\n",
    "- Use the search function and search for “terminal”. \n",
    "- Select the Terminal application icon from the search results and the Terminal application will open.\n",
    "- You can also find the Terminal under in the Utilities folder (the Utilities folder is within the Applications folder).\n",
    "\n",
    "\n",
    "<center><img width=600 src=\"supplementary/mac_terminal.png\"/></center>\n"
   ]
  },
  {
   "cell_type": "markdown",
   "metadata": {
    "hide_input": true,
    "slideshow": {
     "slide_type": "slide"
    }
   },
   "source": [
    "# Accessing a command line on an Ubuntu computer\n",
    "If you have an Ubuntu computer, you can access a command line using the Terminal window.\n",
    "\n",
    "- Press CTRL+ALT+T to bring up a Terminal window.\n",
    "- You can also click the terminal icon in the sidebar.\n",
    "\n",
    "<center><table style=\"background-color:#FFFFFF;\">\n",
    "    <tr style=\"background-color:#FFFFFF;\">\n",
    "        <td>\n",
    "            <img width=400 src=\"supplementary/ubantu1.jpg\"/>\n",
    "        </td>\n",
    "        <td>\n",
    "           <img width=600 src=\"supplementary/ubantu2.jpg\"/>\n",
    "        </td>\n",
    "    </tr>\n",
    "</table></center> \n"
   ]
  },
  {
   "cell_type": "markdown",
   "metadata": {
    "hide_input": true,
    "slideshow": {
     "slide_type": "slide"
    }
   },
   "source": [
    "# Where else can I access a command line?\n",
    "You can access command lines in other locations, such as:\n",
    "\n",
    "- Python/ArcPy Interactive Development Environment (IDE)\n",
    "- a Jupyter Notebook\n",
    "\n",
    "These allow for interactive development or access to additional functionality that might otherwise not be available in a general setting. \n",
    "\n",
    "<table style=\"background-color:#FFFFFF;\">\n",
    "    <tr style=\"background-color:#FFFFFF;\">\n",
    "        <td>\n",
    "            <img src=\"supplementary/jnterminal1.jpeg\"/>\n",
    "        </td>\n",
    "        <td>\n",
    "           <img src=\"supplementary/jnterminal2.jpeg\"/>\n",
    "        </td>\n",
    "    </tr>\n",
    "</table> \n"
   ]
  },
  {
   "cell_type": "markdown",
   "metadata": {
    "hide_input": true,
    "slideshow": {
     "slide_type": "slide"
    }
   },
   "source": [
    "<img src=\"supplementary/confused-confusion-icon.png\" alt=\"a thought bubble\" width=150px style=\"float:left; padding-left:0.5em; padding-right:2em; margin-top:32px\"/>\n",
    "\n",
    "# What would you do?\n",
    "\n",
    "<h3 style=\"color:#98bdef;\">Spot a command line in the wild!</h3>\n",
    "\n",
    "<img src=\"supplementary/thought_bubble.png\" alt=\"a thought bubble\" width=50px height=50px style=\"float:left; padding-left:0.5em; padding-right:0.5em; margin-top:8px\"/>Now that you have learned about command lines that exist, see if you can spot a command line in use!\n"
   ]
  },
  {
   "cell_type": "markdown",
   "metadata": {
    "hide_input": true,
    "slideshow": {
     "slide_type": "slide"
    }
   },
   "source": [
    "<img src=\"supplementary/checklist.png\" alt=\"a checklist\" width=50px height=50px style=\"float:left; padding-left:0.5em; padding-right:0.5em; margin-top:0px\"/><div style=\"height:10px\">&nbsp;</div><h3>Task 1:</h3>\n",
    "\n",
    "Is this a command line? \n",
    "\n",
    "<center><img src=\"supplementary/run-window.jpeg\" alt=\"a windows run dialog box\" style=\"padding-left:0.5em; padding-right:0.5em; margin-top:8px\"/></center>"
   ]
  },
  {
   "cell_type": "code",
   "execution_count": null,
   "metadata": {
    "hide_input": true,
    "slideshow": {
     "slide_type": "-"
    },
    "tags": [
     "Init",
     "Hide"
    ]
   },
   "outputs": [],
   "source": [
    "widget1 = widgets.RadioButtons(\n",
    "    options = ['Yes', 'No'],\n",
    "    description = ' ', style={'description_width': 'initial'},\n",
    "    layout = Layout(width='100%'),\n",
    "    value = None\n",
    ")\n",
    "\n",
    "display(widget1)\n",
    "\n",
    "hourofci.SubmitBtn2(widget1)"
   ]
  },
  {
   "cell_type": "markdown",
   "metadata": {
    "hide_input": true,
    "slideshow": {
     "slide_type": "slide"
    }
   },
   "source": [
    "<img src=\"supplementary/checklist.png\" alt=\"a checklist\" width=50px height=50px style=\"float:left; padding-left:0.5em; padding-right:0.5em; margin-top:0px\"/><div style=\"height:10px\">&nbsp;</div><h3 style=\"display:inline\">Task 1: </h3><h3 style=\"display:inline;color:#98bdef;\">Answer</h3>\n",
    "\n",
    "<br><img src=\"supplementary/wrong-icon.png\" alt=\"wrong\" style=\"width:100px;float:left;padding-right:1em; margin-top:1.5em\"/>\n",
    "\n",
    "Not quite! The Run dialog box (on a Windows computer) has a prompt where you can enter the name of a program or some commands, but it is not interactive (doesn't display output in the same spot). However, you can enter \"cmd\" into the Run entry box to open up the Command Prompt application! "
   ]
  },
  {
   "cell_type": "markdown",
   "metadata": {
    "hide_input": true,
    "slideshow": {
     "slide_type": "slide"
    }
   },
   "source": [
    "<img src=\"supplementary/checklist.png\" alt=\"a checklist\" width=50px height=50px style=\"float:left; padding-left:0.5em; padding-right:0.5em; margin-top:0px\"/><div style=\"height:10px\">&nbsp;</div><h3 style=\"display:inline\">Task 2: </h3>\n",
    "\n",
    "Is this a command line? \n",
    "\n",
    "<center><img src=\"supplementary/command_line_ex_1.png\" style=\"height:200px\" alt=\"a mac terminal window\" style=\"padding-left:0.5em; padding-right:0.5em; margin-top:8px\"/></center>\n"
   ]
  },
  {
   "cell_type": "code",
   "execution_count": null,
   "metadata": {
    "hide_input": true,
    "slideshow": {
     "slide_type": "-"
    },
    "tags": [
     "Init",
     "Hide"
    ]
   },
   "outputs": [],
   "source": [
    "widget1 = widgets.RadioButtons(\n",
    "    options = ['Yes', 'No'],\n",
    "    description = ' ', style={'description_width': 'initial'},\n",
    "    layout = Layout(width='100%'),\n",
    "    value = None\n",
    ")\n",
    "\n",
    "display(widget1)\n",
    "\n",
    "hourofci.SubmitBtn2(widget1)"
   ]
  },
  {
   "cell_type": "markdown",
   "metadata": {
    "hide_input": true,
    "slideshow": {
     "slide_type": "slide"
    }
   },
   "source": [
    "<img src=\"supplementary/checklist.png\" alt=\"a checklist\" width=50px height=50px style=\"float:left; padding-left:0.5em; padding-right:0.5em; margin-top:0px\"/><div style=\"height:10px\">&nbsp;</div><h3 style=\"display:inline\">Task 2: </h3><h3 style=\"display:inline;color:#98bdef;\">Answer</h3>\n",
    "\n",
    "\n",
    "<br><img src=\"supplementary/correct-icon.png\" alt=\"correct\" style=\"width:100px;float:left;padding-right:1em; margin-top:1.5em\"/>\n",
    "\n",
    "Yes! That is a command line! It is interactive, you can type and execute a command here, and the output will be displayed in the same location.\n"
   ]
  },
  {
   "cell_type": "markdown",
   "metadata": {
    "hide_input": true,
    "slideshow": {
     "slide_type": "slide"
    }
   },
   "source": [
    "<img src=\"supplementary/checklist.png\" alt=\"a checklist\" width=50px height=50px style=\"float:left; padding-left:0.5em; padding-right:0.5em; margin-top:0px\"/><div style=\"height:10px\">&nbsp;</div><h3 style=\"display:inline\">Task 3: </h3>\n",
    "\n",
    "Is this a command line? \n",
    "\n",
    "<center><img src=\"supplementary/newspaper.jpg\" alt=\"the front page of a newspaper\" style=\"height:300px; padding-left:0.5em; padding-right:0.5em; margin-top:8px\"/></center>"
   ]
  },
  {
   "cell_type": "code",
   "execution_count": null,
   "metadata": {
    "hide_input": true,
    "slideshow": {
     "slide_type": "-"
    },
    "tags": [
     "Init",
     "Hide"
    ]
   },
   "outputs": [],
   "source": [
    "widget1 = widgets.RadioButtons(\n",
    "    options = ['Yes', 'No'],\n",
    "    description = ' ', style={'description_width': 'initial'},\n",
    "    layout = Layout(width='100%'),\n",
    "    value = None\n",
    ")\n",
    "\n",
    "display(widget1)\n",
    "\n",
    "hourofci.SubmitBtn2(widget1)"
   ]
  },
  {
   "cell_type": "markdown",
   "metadata": {
    "hide_input": true,
    "slideshow": {
     "slide_type": "slide"
    }
   },
   "source": [
    "<img src=\"supplementary/checklist.png\" alt=\"a checklist\" width=50px height=50px style=\"float:left; padding-left:0.5em; padding-right:0.5em; margin-top:0px\"/><div style=\"height:10px\">&nbsp;</div><h3 style=\"display:inline\">Task 3: </h3><h3 style=\"display:inline;color:#98bdef;\">Answer</h3>\n",
    "\n",
    "<br><img src=\"supplementary/wrong-icon.png\" alt=\"incorrect\" style=\"width:100px;float:left;padding-right:1em; margin-top:1.5em\"/>\n",
    "No! That is not a command line! It is not interactive and you can not type and execute a command here!\n"
   ]
  },
  {
   "cell_type": "markdown",
   "metadata": {
    "hide_input": true,
    "slideshow": {
     "slide_type": "slide"
    }
   },
   "source": [
    "<img src=\"supplementary/checklist.png\" alt=\"a checklist\" width=50px height=50px style=\"float:left; padding-left:0.5em; padding-right:0.5em; margin-top:0px\"/><div style=\"height:10px\">&nbsp;</div><h3 style=\"display:inline\">Task 4: </h3>\n",
    "\n",
    "Is this a command line? \n",
    "\n",
    "<center><img src=\"supplementary/ubantu2.jpg\" alt=\"an ubuntu command prompt window\" style=\"padding-left:0.5em; padding-right:0.5em; margin-top:8px\"/></center>\n"
   ]
  },
  {
   "cell_type": "code",
   "execution_count": null,
   "metadata": {
    "hide_input": true,
    "slideshow": {
     "slide_type": "-"
    },
    "tags": [
     "Init",
     "Hide"
    ]
   },
   "outputs": [],
   "source": [
    "widget1 = widgets.RadioButtons(\n",
    "    options = ['Yes', 'No'],\n",
    "    description = ' ', style={'description_width': 'initial'},\n",
    "    layout = Layout(width='100%'),\n",
    "    value = None\n",
    ")\n",
    "\n",
    "display(widget1)\n",
    "\n",
    "hourofci.SubmitBtn2(widget1)"
   ]
  },
  {
   "cell_type": "markdown",
   "metadata": {
    "hide_input": true,
    "slideshow": {
     "slide_type": "slide"
    }
   },
   "source": [
    "<img src=\"supplementary/checklist.png\" alt=\"a checklist\" width=50px height=50px style=\"float:left; padding-left:0.5em; padding-right:0.5em; margin-top:0px\"/><div style=\"height:10px\">&nbsp;</div><h3 style=\"display:inline\">Task 2: </h3><h3 style=\"display:inline;color:#98bdef;\">Answer</h3>\n",
    "\n",
    "\n",
    "<br><img src=\"supplementary/correct-icon.png\" alt=\"correct\" style=\"width:100px;float:left;padding-right:1em; margin-top:1.5em\"/>\n",
    "\n",
    "Yes! That is a command line! It is interactive and you can type and execute a command here!\n"
   ]
  },
  {
   "cell_type": "markdown",
   "metadata": {
    "hide_input": true,
    "slideshow": {
     "slide_type": "slide"
    }
   },
   "source": [
    "<img src=\"supplementary/checklist.png\" alt=\"a checklist\" width=50px height=50px style=\"float:left; padding-left:0.5em; padding-right:0.5em; margin-top:0px\"/><div style=\"height:10px\">&nbsp;</div><h3 style=\"display:inline\">Task 5: </h3>\n",
    "\n",
    "Is this a command line? \n",
    "\n",
    "<center><img src=\"supplementary/chrome.png\" alt=\"a chrome browser address bar\" style=\"height:250px; padding-left:0.5em; padding-right:0.5em; margin-top:8px\"/></center>\n"
   ]
  },
  {
   "cell_type": "code",
   "execution_count": null,
   "metadata": {
    "hide_input": true,
    "slideshow": {
     "slide_type": "-"
    },
    "tags": [
     "Init",
     "Hide"
    ]
   },
   "outputs": [],
   "source": [
    "widget1 = widgets.RadioButtons(\n",
    "    options = ['Yes', 'No'],\n",
    "    description = ' ', style={'description_width': 'initial'},\n",
    "    layout = Layout(width='100%'),\n",
    "    value = None\n",
    ")\n",
    "\n",
    "display(widget1)\n",
    "\n",
    "hourofci.SubmitBtn2(widget1)"
   ]
  },
  {
   "cell_type": "markdown",
   "metadata": {
    "hide_input": true,
    "slideshow": {
     "slide_type": "slide"
    }
   },
   "source": [
    "<img src=\"supplementary/checklist.png\" alt=\"a checklist\" width=50px height=50px style=\"float:left; padding-left:0.5em; padding-right:0.5em; margin-top:0px\"/><div style=\"height:10px\">&nbsp;</div><h3 style=\"display:inline\">Task 5: </h3><h3 style=\"display:inline;color:#98bdef;\">Answer</h3>\n",
    "\n",
    "<br><img src=\"supplementary/wrong-icon.png\" alt=\"incorrect\" style=\"width:100px;float:left;padding-right:1em; margin-top:1.5em\"/>\n",
    "No! That is not a command line! You can not type and execute a command and see the results here!\n"
   ]
  },
  {
   "cell_type": "markdown",
   "metadata": {
    "hide_input": true,
    "slideshow": {
     "slide_type": "slide"
    }
   },
   "source": [
    "<img src=\"supplementary/checklist.png\" alt=\"a checklist\" width=50px height=50px style=\"float:left; padding-left:0.5em; padding-right:0.5em; margin-top:0px\"/><div style=\"height:10px\">&nbsp;</div><h3 style=\"display:inline\">Task 6: </h3>\n",
    "\n",
    "Is this a command line? \n",
    "\n",
    "<center><img src=\"supplementary/rstudio.png\" alt=\"an rstudio console window\" style=\"height:400px; padding-left:0.5em; padding-right:0.5em; margin-top:8px\"/></center>"
   ]
  },
  {
   "cell_type": "code",
   "execution_count": null,
   "metadata": {
    "hide_input": true,
    "slideshow": {
     "slide_type": "-"
    },
    "tags": [
     "Init",
     "Hide"
    ]
   },
   "outputs": [],
   "source": [
    "widget1 = widgets.RadioButtons(\n",
    "    options = ['Yes', 'No'],\n",
    "    description = ' ', style={'description_width': 'initial'},\n",
    "    layout = Layout(width='100%'),\n",
    "    value = None\n",
    ")\n",
    "\n",
    "display(widget1)\n",
    "\n",
    "hourofci.SubmitBtn2(widget1)"
   ]
  },
  {
   "cell_type": "markdown",
   "metadata": {
    "hide_input": true,
    "slideshow": {
     "slide_type": "slide"
    }
   },
   "source": [
    "<img src=\"supplementary/checklist.png\" alt=\"a checklist\" width=50px height=50px style=\"float:left; padding-left:0.5em; padding-right:0.5em; margin-top:0px\"/><div style=\"height:10px\">&nbsp;</div><h3 style=\"display:inline\">Task 6: </h3><h3 style=\"display:inline;color:#98bdef;\">Answer</h3>\n",
    "\n",
    "\n",
    "<br><img src=\"supplementary/correct-icon.png\" alt=\"correct\" style=\"width:100px;float:left;padding-right:1em; margin-top:1.5em\"/>\n",
    "\n",
    "Yes! That is a command line (but one specially for commands in the R language!). It is interactive and you can type and execute a command here!\n"
   ]
  },
  {
   "cell_type": "markdown",
   "metadata": {
    "hide_input": true,
    "slideshow": {
     "slide_type": "slide"
    }
   },
   "source": [
    "<img src=\"supplementary/checklist.png\" alt=\"a checklist\" width=50px height=50px style=\"float:left; padding-left:0.5em; padding-right:0.5em; margin-top:0px\"/><div style=\"height:10px\">&nbsp;</div><h3 style=\"display:inline\">Task 7: </h3>\n",
    "\n",
    "Is this a command line? \n",
    "\n",
    "<img src=\"supplementary/error_sh.png\" alt=\"a shell script\" style=\"padding-left:0.5em; padding-right:0.5em; margin-top:8px\"/>"
   ]
  },
  {
   "cell_type": "code",
   "execution_count": null,
   "metadata": {
    "hide_input": true,
    "slideshow": {
     "slide_type": "-"
    },
    "tags": [
     "Init",
     "Hide"
    ]
   },
   "outputs": [],
   "source": [
    "widget1 = widgets.RadioButtons(\n",
    "    options = ['Yes', 'No'],\n",
    "    description = ' ', style={'description_width': 'initial'},\n",
    "    layout = Layout(width='100%'),\n",
    "    value = None\n",
    ")\n",
    "\n",
    "display(widget1)\n",
    "\n",
    "hourofci.SubmitBtn2(widget1)"
   ]
  },
  {
   "cell_type": "markdown",
   "metadata": {
    "hide_input": true,
    "slideshow": {
     "slide_type": "slide"
    }
   },
   "source": [
    "<img src=\"supplementary/checklist.png\" alt=\"a checklist\" width=50px height=50px style=\"float:left; padding-left:0.5em; padding-right:0.5em; margin-top:0px\"/><div style=\"height:10px\">&nbsp;</div><h3 style=\"display:inline\">Task 5: </h3><h3 style=\"display:inline;color:#98bdef;\">Answer</h3>\n",
    "\n",
    "<br><img src=\"supplementary/wrong-icon.png\" alt=\"incorrect\" style=\"width:100px;float:left;padding-right:1em; margin-top:1.5em\"/>\n",
    "\n",
    "No! That is not a command line! You can type commands to be executed here but it is not interactive!\n"
   ]
  },
  {
   "cell_type": "markdown",
   "metadata": {
    "hide_input": true,
    "slideshow": {
     "slide_type": "slide"
    }
   },
   "source": [
    "# Wrapping up\n",
    "\n",
    "<img src=\"supplementary/thought_bubble.png\" width=50px height=50px style=\"float:left; padding-left:0.5em; padding-right:0.5em; margin-top:8px\"/><font style=\"color:#98bdef\"><b>Think briefly: </b></font>How would you access a command line on your computer? What does it look like? Can you think of any other instances of command lines that we haven’t covered here?\n",
    "\n",
    "In this lesson you have learned how to recognize and access a command line in a variety of computational environments.\n",
    "\n",
    "<img src=\"supplementary/magnifying_glass.svg\" alt=\"a magnifying glass\" width=50px height=50px style=\"float:left;  padding-left:0.5em; padding-right:0.5em; margin-top:8px\"/><font style=\"color:#98bdef\"><p>Now that you can recognize a command line, let’s take a look at some commands you can run in the next notebook!</p></font>\n"
   ]
  },
  {
   "cell_type": "markdown",
   "metadata": {
    "slideshow": {
     "slide_type": "-"
    }
   },
   "source": [
    "\n",
    "\n",
    "<font size=\"+1\"><a style=\"background-color:blue;color:white;padding:12px;margin:10px;font-weight:bold;\" \n",
    "href=\"cyberinfrastructure-4.ipynb\">Click here to go to the next notebook.</a></font>"
   ]
  }
 ],
 "metadata": {
  "celltoolbar": "Slideshow",
  "kernelspec": {
   "display_name": "I-GUIDE EWD",
   "language": "python",
   "name": "conda-env-iguide-ewd-py"
  },
  "language_info": {
   "codemirror_mode": {
    "name": "ipython",
    "version": 3
   },
   "file_extension": ".py",
   "mimetype": "text/x-python",
   "name": "python",
   "nbconvert_exporter": "python",
   "pygments_lexer": "ipython3",
   "version": "3.7.16"
  },
  "rise": {
   "autolaunch": true,
   "overlay": "<div class='hciheader'></div><div class='hcifooter'></div>",
   "scroll": true
  }
 },
 "nbformat": 4,
 "nbformat_minor": 4
}
