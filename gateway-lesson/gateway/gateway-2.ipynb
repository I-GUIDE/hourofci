{
 "cells": [
  {
   "cell_type": "code",
   "execution_count": null,
   "metadata": {
    "hide_input": false,
    "init_cell": true,
    "scrolled": false,
    "slideshow": {
     "slide_type": "skip"
    },
    "tags": [
     "Hide"
    ]
   },
   "outputs": [],
   "source": [
    "# This code cell starts the necessary setup for Hour of CI lesson notebooks.\n",
    "# First, it enables users to hide and unhide code by producing a 'Toggle raw code' button below.\n",
    "# Second, it imports the hourofci package, which is necessary for lessons and interactive Jupyter Widgets.\n",
    "# Third, it helps hide/control other aspects of Jupyter Notebooks to improve the user experience\n",
    "# This is an initialization cell\n",
    "# It is not displayed because the Slide Type is 'Skip'\n",
    "\n",
    "from IPython.display import HTML, IFrame, Javascript, display\n",
    "from ipywidgets import interactive\n",
    "import ipywidgets as widgets\n",
    "from ipywidgets import Layout\n",
    "\n",
    "import getpass # This library allows us to get the username (User agent string)\n",
    "\n",
    "# import package for hourofci project\n",
    "import sys\n",
    "sys.path.append('../../supplementary') # relative path (may change depending on the location of the lesson notebook)\n",
    "import hourofci\n",
    "\n",
    "# load javascript to initialize/hide cells, get user agent string, and hide output indicator\n",
    "# hide code by introducing a toggle button \"Toggle raw code\"\n",
    "HTML(''' \n",
    "    <script type=\"text/javascript\" src=\\\"../../supplementary/js/custom.js\\\"></script>\n",
    "    \n",
    "    <style>\n",
    "        .output_prompt{opacity:0;}\n",
    "    </style>\n",
    "    \n",
    "    <input id=\"toggle_code\" type=\"button\" value=\"Toggle raw code\">\n",
    "''')"
   ]
  },
  {
   "cell_type": "markdown",
   "metadata": {
    "slideshow": {
     "slide_type": "slide"
    }
   },
   "source": [
    "Now let's start by learning a little more about Cyberinfrastructure (CI) starting with the question:\n",
    "\n",
    "### What is CI anyway?\n",
    "\n",
    "![\"Hip with magnifying glass\"](supplementary/hippo-mag-glass.png)\n",
    "\n"
   ]
  },
  {
   "cell_type": "markdown",
   "metadata": {
    "slideshow": {
     "slide_type": "slide"
    }
   },
   "source": [
    "## Cyberinfrastructure: Hidden in Plain Sight\n",
    "\n",
    "<table>\n",
    "    <tr style=\"background: #fff\">\n",
    "        <td align=left valign=top>\n",
    "\n",
    "You may not know this, but **cyberinfrastructure** (CI) is often hidden in plain sight in the world around you. CI was inspired by physical infrastructure, and the term itself was widely adopted following a National Science Foundation Blue-Ribbon Advisory Panel.  We will reference the report as (Atkins et al. 2003) and you can read the report at the link below.\n",
    "        \n",
    "Report link: <a href=\"https://www.nsf.gov/cise/sci/reports/atkins.pdf\">https://www.nsf.gov/cise/sci/reports/atkins.pdf</a>\n",
    "        </td>\n",
    "        <td width=20%> <img src='supplementary/blue-ribbon.png' alt='Blue Ribbon'></td>\n",
    "    </tr>\n",
    "</table>"
   ]
  },
  {
   "cell_type": "markdown",
   "metadata": {
    "slideshow": {
     "slide_type": "slide"
    }
   },
   "source": [
    "## Infrastructure\n",
    "\n",
    "![\"Working power lines\"](supplementary/power-lines-working.png)\n",
    "\n",
    "> \"The term **_infrastructure_** has been used since the 1920s to refer collectively to the roads, power grids, telephone systems, bridges, rail lines, and similar public works that are required for an industrial economy to function...\" (Atkins et al. 2003)\n",
    "\n"
   ]
  },
  {
   "cell_type": "markdown",
   "metadata": {
    "slideshow": {
     "slide_type": "slide"
    }
   },
   "source": [
    "## Infrastructure\n",
    "\n",
    "![\"Broken power lines with someone cursing that they are broken\"](supplementary/power-lines-broken.png)\n",
    "\n",
    "> \"... Although good infrastructure is often taken for granted and noticed only when it stops functioning, it is among the most complex and expensive thing that society creates.\" (Atkins et al. 2003)\n",
    "\n",
    "<!-- definitions should be consistent I'm selecting underscore and emphasize **__** here -->\n",
    "\n",
    "\n"
   ]
  },
  {
   "cell_type": "markdown",
   "metadata": {
    "slideshow": {
     "slide_type": "slide"
    }
   },
   "source": [
    "## Cyberinfrastructure \n",
    "\n",
    "![\"Two laptops communicating through wifi\"](supplementary/ci-fig.png)\n",
    "\n",
    "> \"**_cyberinfrastructure_** refers to infrastructure based upon distributed computer, information and communication technology.\"  (Atkins et al. 2003)\n",
    "\n"
   ]
  },
  {
   "cell_type": "markdown",
   "metadata": {
    "slideshow": {
     "slide_type": "slide"
    }
   },
   "source": [
    "## Cyberinfrastructure doesn't always work either.\n",
    "\n",
    "![\"CI communicating through wifi\"](supplementary/ci-fig-broken.png)\n",
    "\n",
    "So don't worry if something doesn't work the first time. In these lessons you can and might break things. This is part of the learning process. "
   ]
  },
  {
   "cell_type": "markdown",
   "metadata": {
    "slideshow": {
     "slide_type": "slide"
    }
   },
   "source": [
    "## Comparing\n",
    "\n",
    "![\"Powerlines to factory compared to laptop to human\"](supplementary/infrastructure-vs-ci.png)\n",
    "\n",
    "> \"If _infrastructure_ is required for an industrial economy, then we could say that _cyberinfrastructure_ is required for a knowledge economy.\" (Atkins et al. 2003)\n",
    "\n"
   ]
  },
  {
   "cell_type": "markdown",
   "metadata": {
    "slideshow": {
     "slide_type": "slide"
    }
   },
   "source": [
    "## Layers of Cyberinfrastructure\n",
    "\n",
    "![\"3 layers of cyberinfrastructure: Base Technologies, Cyberinfrastructure, and Communities\"](supplementary/3-layers-ci.png)\n",
    "\n",
    "Cyberinfrastructure can connect all of us to base technologies. Let's take a look at how this works using the 3 layers of cyberinfrastructure.        \n",
    "\n",
    "\n",
    "\n",
    "\n",
    "\n"
   ]
  },
  {
   "cell_type": "markdown",
   "metadata": {
    "slideshow": {
     "slide_type": "slide"
    }
   },
   "source": [
    "## Layers of Cyberinfrastructure: Base Technologies\n",
    "\n",
    "![\"3 layers of cyberinfrastructure: Base Technologies, Cyberinfrastructure, and Communities\"](supplementary/3-layers-ci.png)\n",
    "\n",
    "> \"The base technologies underlying cyberinfrastructure are the integrated electro-optical components of computation, storage, and communication that continue to advance in raw capacity at exponential rates. ...\"\n",
    "\n"
   ]
  },
  {
   "cell_type": "markdown",
   "metadata": {
    "slideshow": {
     "slide_type": "slide"
    }
   },
   "source": [
    "## Layers of Cyberinfrastructure: Communities of Practice\n",
    "\n",
    "![\"3 layers of cyberinfrastructure: Base Technologies, Cyberinfrastructure, and Communities\"](supplementary/3-layers-ci.png)\n",
    "\n",
    "> \"... Above the cyberinfrastructure layer are software programs, services, instruments, data, information, knowledge, and social practices applicable to specific projects, disciplines, and communities of practice. ...\"\n",
    "\n"
   ]
  },
  {
   "cell_type": "markdown",
   "metadata": {
    "slideshow": {
     "slide_type": "slide"
    }
   },
   "source": [
    "## Layers of Cyberinfrastructure: Cyberinfrastructure\n",
    "\n",
    "\n",
    "![\"3 layers of cyberinfrastructure: Base Technologies, Cyberinfrastructure, and Communities\"](supplementary/3-layers-ci.png)\n",
    "\n",
    "> \"... Between these two layers is the cyberinfrastructure layer of enabling hardware, algorithms, software, communications, institutions, and personnel. This layer should provide an effective and efficient platform for the empowerment of specific communities of researchers to innovate and eventually revolutionize what they do, how they do it, and who participates.\" (Atkins et al. 2003)\n",
    "\n"
   ]
  },
  {
   "cell_type": "markdown",
   "metadata": {
    "slideshow": {
     "slide_type": "slide"
    }
   },
   "source": [
    "## Let's check your knowledge.\n",
    "\n",
    "### Is this Cyberinfrastructure?\n",
    "\n",
    "> A system that scientists can use to interactively share computing resources, data and expertise, and enable people around the world to use these resources and services — things like supercomputers, collections of data and new tools — to advance science and improve our planet.\n"
   ]
  },
  {
   "cell_type": "code",
   "execution_count": null,
   "metadata": {
    "hide_input": true,
    "slideshow": {
     "slide_type": "-"
    },
    "tags": [
     "Init",
     "Hide"
    ]
   },
   "outputs": [],
   "source": [
    "# Multiple choice question using a ToggleButton widget\n",
    "# This code cell has tags \"Init\", \"Hide\", and \"2A\"\n",
    "\n",
    "widget1=widgets.ToggleButtons(\n",
    "    options=['No','Yes'],\n",
    "    description='',\n",
    "    disabled=False,\n",
    "    button_style='', # 'success', 'info', 'warning', 'danger' or ''\n",
    "    tooltips=['No it is not CI', 'Yes it is CI'],\n",
    ")\n",
    "\n",
    "def out1():\n",
    "    print(\"Go to the next slide to see if you were correct.\")\n",
    "    \n",
    "# Submit button: print and log the results\n",
    "# Parameters:\n",
    "#     user_agent, Lesson, Lesson level: be retrieved automatically\n",
    "#     Question: '1A','1B','2A',... (Add the question number as a tag)\n",
    "# hourofci.SubmitBtn(user_agent,lesson,lesson_level,'2A',widget1,out1)\n",
    "\n",
    "display(widget1)\n",
    "hourofci.SubmitBtn2(widget1, out1)\n",
    "\n"
   ]
  },
  {
   "cell_type": "markdown",
   "metadata": {
    "slideshow": {
     "slide_type": "slide"
    }
   },
   "source": [
    "## XSEDE\n",
    "\n",
    "Yes, this is an example of CI! This system is called the Extreme Science and Engineering Discovery Environment (XSEDE). Click on the video below to hear a little more about XSEDE. If you are looking for more information, then feel free to check out the XSEDE website at http://xsede.org to access computing resources and expertise **for free.**\n"
   ]
  },
  {
   "cell_type": "code",
   "execution_count": null,
   "metadata": {
    "slideshow": {
     "slide_type": "-"
    },
    "tags": [
     "Hide",
     "Init"
    ]
   },
   "outputs": [],
   "source": [
    "from IPython.display import YouTubeVideo\n",
    "YouTubeVideo('PBUIBJHZzD4', width=800,height=480)"
   ]
  },
  {
   "cell_type": "markdown",
   "metadata": {
    "slideshow": {
     "slide_type": "slide"
    }
   },
   "source": [
    "## Where is CI? \n",
    "\n",
    "CI resources are distributed throughout the United States and all around world. Here is a map of Open Science Grid resources (<a href=\"https://map.opensciencegrid.org/map/iframe#29.22889,-90.08789|4|terrain\">map link</a>). To learn more about NSF-supported Open Science Grid--a national, distributed computing partnership for data-intensive research--take a look at their website (https://opensciencegrid.org).\n",
    "\n",
    "\n",
    "\n",
    "![\"Screen capture of the open science grid map\"](supplementary/opensciencegrid_map.png)\n",
    "\n"
   ]
  },
  {
   "cell_type": "markdown",
   "metadata": {
    "slideshow": {
     "slide_type": "slide"
    }
   },
   "source": [
    "## Which is cyberinfrastructure?\n",
    "\n",
    "<table>\n",
    "    <tr style=\"background: #fff\">\n",
    "        <td align=left valign=top width=\"50%\">\n",
    "\n",
    "### A\n",
    "\n",
    "User-friendly *cloud environment* designed to give researchers access to interactive computing and data analysis resources on demand, whenever and wherever they want to analyze their data.\n",
    "        </td>\n",
    "        <td align=left valign=top width=\"50%\">\n",
    "\n",
    "### B \n",
    "\n",
    "Thousands of servers distributed around the world that are designed to answer user queries and insert ads into websites as quickly as possible, whenever, wherever, and whatever users search for.\n",
    "        </td>\n",
    "    </tr>\n",
    "</table>\n",
    "\n",
    "\n",
    "\n"
   ]
  },
  {
   "cell_type": "code",
   "execution_count": null,
   "metadata": {
    "hide_input": false,
    "slideshow": {
     "slide_type": "-"
    },
    "tags": [
     "Init",
     "Hide"
    ]
   },
   "outputs": [],
   "source": [
    "# Multiple choice question using a ToggleButton widget\n",
    "# This code cell has tags \"Init\", \"Hide\", and \"2B\"\n",
    "\n",
    "widget2=widgets.ToggleButtons(\n",
    "    options=['A','B'],\n",
    "    description='',\n",
    "    disabled=False,\n",
    "    button_style='', # 'success', 'info', 'warning', 'danger' or ''\n",
    "    tooltips=['A is CI', 'B is C'],\n",
    ")\n",
    "\n",
    "# Show the options.\n",
    "display(widget2)\n",
    "\n",
    "def out2():\n",
    "    print(\"Go to the next slide to see if you were correct.\")\n",
    "\n",
    "# Submit button: print and log the results\n",
    "# hourofci.SubmitBtn(user_agent,lesson,lesson_level,'2B',widget2,out2)\n",
    "hourofci.SubmitBtn2(widget2, out2)"
   ]
  },
  {
   "cell_type": "markdown",
   "metadata": {
    "slideshow": {
     "slide_type": "slide"
    }
   },
   "source": [
    "## A is cyberinfrastructure!\n",
    "\n",
    "<table>\n",
    "    <tr style=\"background: #fff\">\n",
    "        <td align=left valign=top width=\"50%\">\n",
    "\n",
    "### A is CI\n",
    "\n",
    "User-friendly *cloud environment* designed to give researchers access to interactive computing and data analysis resources on demand, whenever and wherever they want to analyze their data.\n",
    "\n",
    "*This is cyberinfrastructure, because it connects researchers to computing and data analysis resources.*\n",
    "        </td>\n",
    "        <td align=left valign=top width=\"50%\">\n",
    "\n",
    "### B is not CI\n",
    "\n",
    "Thousands of servers distributed around the world that are designed to answer user queries and insert ads into websites as quickly as possible, whenever, wherever, and whatever users search for.\n",
    "\n",
    "*This is e-commerce, because it helps companies answer web-based questions and serve ads.*\n",
    "        </td>\n",
    "    </tr>\n",
    "</table>\n",
    "\n",
    "\n",
    "\n"
   ]
  },
  {
   "cell_type": "markdown",
   "metadata": {
    "slideshow": {
     "slide_type": "slide"
    }
   },
   "source": [
    "## I want to try it!\n",
    "\n",
    "Let's give Cyberinfrastructure a try! (By learning a bit of coding to start)\n",
    "\n",
    "<a href=\"gateway-3.ipynb\">Click here to move to the next section to learn more!</a>"
   ]
  }
 ],
 "metadata": {
  "celltoolbar": "Tags",
  "kernelspec": {
   "display_name": "iguide-ewd",
   "language": "python",
   "name": "iguide-ewd"
  },
  "language_info": {
   "codemirror_mode": {
    "name": "ipython",
    "version": 3
   },
   "file_extension": ".py",
   "mimetype": "text/x-python",
   "name": "python",
   "nbconvert_exporter": "python",
   "pygments_lexer": "ipython3",
   "version": "3.10.11"
  },
  "rise": {
   "autolaunch": true,
   "overlay": "<div class='hciheader'></div><div class='hcifooter'></div>",
   "scroll": true
  },
  "varInspector": {
   "cols": {
    "lenName": 16,
    "lenType": 16,
    "lenVar": 40
   },
   "kernels_config": {
    "python": {
     "delete_cmd_postfix": "",
     "delete_cmd_prefix": "del ",
     "library": "var_list.py",
     "varRefreshCmd": "print(var_dic_list())"
    },
    "r": {
     "delete_cmd_postfix": ") ",
     "delete_cmd_prefix": "rm(",
     "library": "var_list.r",
     "varRefreshCmd": "cat(var_dic_list()) "
    }
   },
   "types_to_exclude": [
    "module",
    "function",
    "builtin_function_or_method",
    "instance",
    "_Feature"
   ],
   "window_display": false
  }
 },
 "nbformat": 4,
 "nbformat_minor": 2
}
