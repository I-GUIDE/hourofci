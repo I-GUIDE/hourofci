{
 "cells": [
  {
   "cell_type": "markdown",
   "metadata": {
    "slideshow": {
     "slide_type": "slide"
    }
   },
   "source": [
    "# Gateway Exploration\n",
    "\n",
    "In this final segment you can take what you have learned and try it yourself. This segment is displayed in \"Notebook Mode\" rather than \"Presentation Mode.\" So you will need to scroll down as you explore more content. Notebook mode will allow you to see more content at once. It also allows you to compare and contrast cells and visualizations. \n",
    "\n",
    "Here you are free to explore as much as you want. There are lots of suggestions in the text and in comments in the code cells. Feel free to change attributes, code pieces, etc. If a code cell breaks (e.g., you see an error), then use a search engine to look up the error to see if you can try to solve it yourself. Another way to fix problems is to compare your code to the original code, which you can see here:\n",
    "\n",
    "https://github.com/hourofci/lessons-dev/blob/master/gateway-lesson/gateway/gateway-exploration.ipynb\n",
    "\n",
    "Enjoy two explorations to apply what you learned at a deeper level\n",
    "1. Data Wrangling - View, Clean, Extract, and Merge Data\n",
    "2. Data Visualization - Making Maps\n",
    "\n",
    "So start scrolling down. Explore and try it yourself!"
   ]
  },
  {
   "cell_type": "code",
   "execution_count": null,
   "metadata": {
    "hide_input": true,
    "init_cell": true,
    "slideshow": {
     "slide_type": "skip"
    },
    "tags": [
     "Hide"
    ]
   },
   "outputs": [],
   "source": [
    "# This code cell starts the necessary setup for Hour of CI lesson notebooks.\n",
    "# First, it enables users to hide and unhide code by producing a 'Toggle raw code' button below.\n",
    "# Second, it imports the hourofci package, which is necessary for lessons and interactive Jupyter Widgets.\n",
    "# Third, it helps hide/control other aspects of Jupyter Notebooks to improve the user experience\n",
    "# This is an initialization cell\n",
    "# It is not displayed because the Slide Type is 'Skip'\n",
    "\n",
    "from IPython.display import HTML, IFrame, Javascript, display\n",
    "from ipywidgets import interactive\n",
    "import ipywidgets as widgets\n",
    "from ipywidgets import Layout\n",
    "\n",
    "import getpass # This library allows us to get the username (User agent string)\n",
    "\n",
    "# import package for hourofci project\n",
    "import sys\n",
    "sys.path.append('../../supplementary') # relative path (may change depending on the location of the lesson notebook)\n",
    "import hourofci\n",
    "\n",
    "# Retreive the user agent string, it will be passed to the hourofci submit button\n",
    "agent_js = \"\"\"\n",
    "IPython.notebook.kernel.execute(\"user_agent = \" + \"'\" + navigator.userAgent + \"'\");\n",
    "\"\"\"\n",
    "Javascript(agent_js)\n",
    "\n",
    "# load javascript to initialize/hide cells, get user agent string, and hide output indicator\n",
    "# hide code by introducing a toggle button \"Toggle raw code\"\n",
    "HTML(''' \n",
    "    <script type=\"text/javascript\" src=\\\"../../supplementary/js/custom.js\\\"></script>\n",
    "    <style>\n",
    "        .output_prompt{opacity:0;}\n",
    "    </style>\n",
    "    <input id=\"toggle_code\" type=\"button\" value=\"Toggle raw code\">\n",
    "''')"
   ]
  },
  {
   "cell_type": "markdown",
   "metadata": {
    "slideshow": {
     "slide_type": "slide"
    }
   },
   "source": [
    "## Setup\n",
    "As always, you have to import the specific Python packages you'll need. You'll learn more about these in the other lessons, so for now let's import all of the packages that we will use for the Gateway Exploration component. If you want to dig deeper, feel free to search each package to understand what it does and what it can do for you.\n",
    "\n",
    "As before, run this code by clicking the Run button left of the code cell. \n",
    "\n",
    "Wait for the code to run. This is shown by the asterisk inside the brackets of <pre>In [ ]:</pre>. When it changes to a number and the print output shows up, you're good to go. "
   ]
  },
  {
   "cell_type": "code",
   "execution_count": null,
   "metadata": {
    "slideshow": {
     "slide_type": "fragment"
    },
    "tags": [
     "init"
    ]
   },
   "outputs": [],
   "source": [
    "# Run this code by clicking the Run button on the left to import all of the packages\n",
    "\n",
    "from matplotlib import pyplot\n",
    "import pandas\n",
    "import geopandas\n",
    "\n",
    "import os\n",
    "import pprint\n",
    "import IPython\n",
    "from shapely.geometry import Polygon\n",
    "import numpy as np\n",
    "from datetime import datetime\n",
    "\n",
    "print(\"Modules imported\")"
   ]
  },
  {
   "cell_type": "markdown",
   "metadata": {
    "slideshow": {
     "slide_type": "slide"
    }
   },
   "source": [
    "## Download COVID-19 Data\n",
    "This optional code cell will download the US county level data released by the New York Times that we demonstrated earlier. It's found here: https://raw.githubusercontent.com/nytimes/covid-19-data/master/us-counties.csv.\n",
    "\n",
    "The code below gets the data from the URL and puts it into a local file called \"us-counties.csv\"\n",
    "\n",
    "Skip this step if you already downloaded this data in an earlier segment. You can always come back and re-run it if you need to."
   ]
  },
  {
   "cell_type": "code",
   "execution_count": null,
   "metadata": {
    "slideshow": {
     "slide_type": "fragment"
    }
   },
   "outputs": [],
   "source": [
    "# Run this code cell if you have not yet downloaded the Covid-19 data from the New York Times\n",
    "!wget https://raw.githubusercontent.com/nytimes/covid-19-data/master/us-counties.csv -O us-counties.csv --quiet\n",
    "!echo Download Complete!"
   ]
  },
  {
   "cell_type": "markdown",
   "metadata": {},
   "source": [
    "## Exploration 1: View, Clean, Extract, and Merge Data"
   ]
  },
  {
   "cell_type": "markdown",
   "metadata": {
    "slideshow": {
     "slide_type": "slide"
    }
   },
   "source": [
    "### View the data\n",
    "Once you have downloaded the data file, you should look at it to make sure it is what you want.\n",
    "\n",
    "To do that, we'll convert the downloaded file into a format that our Python program can use. Here we're going to use the dataframe format provided by the Pandas package. \n",
    "\n",
    "Recall that dataframes can be though of as two dimensional arrays or spreadsheets."
   ]
  },
  {
   "cell_type": "code",
   "execution_count": null,
   "metadata": {
    "slideshow": {
     "slide_type": "fragment"
    }
   },
   "outputs": [],
   "source": [
    "#Read the data that we downloaded from the NYT into a dataframe\n",
    "covid_counties = pandas.read_csv('./us-counties.csv')\n",
    "\n",
    "# And let's see what it looks like!\n",
    "print(covid_counties)"
   ]
  },
  {
   "cell_type": "markdown",
   "metadata": {},
   "source": [
    "### Clean the Data\n",
    "\n",
    "In large data like this, there are often a few cells scattered around that may cause you problems. Cleaning data is an important and often complex step, it is one part of **data wrangling.** For now, let's just look for the most common problem - empty cells where a value is expected. These are known as null cells and if a number is expected it will show up as NaN (not a number) in your dataframe.\n",
    "\n",
    "Let's see if we can find if we have any of these in our data. \n",
    "\n",
    "Since we're going to use the \"fips\" column to group our data, we need to know that there no null cells in that column. (The \"FIPS\" code is a unique identifier for geographic places. Google it if you want to know more!)"
   ]
  },
  {
   "cell_type": "code",
   "execution_count": null,
   "metadata": {},
   "outputs": [],
   "source": [
    "#Are there NaN cells in the fips column?\n",
    "\n",
    "covid_counties['fips'].isnull().values.any()"
   ]
  },
  {
   "cell_type": "code",
   "execution_count": null,
   "metadata": {},
   "outputs": [],
   "source": [
    "#How many null cells are in the fips column?\n",
    "\n",
    "count_nan = covid_counties['fips'].isnull().sum()\n",
    "print ('Count of rows with null fips codes: ' + str(count_nan))"
   ]
  },
  {
   "cell_type": "markdown",
   "metadata": {},
   "source": [
    "Ah ha, we found lots of problems in our data! \n",
    "\n",
    "Let's see what these rows containing null cells look like. Here we'll make a temporary dataframe that contains the rows with null fips codes. "
   ]
  },
  {
   "cell_type": "code",
   "execution_count": null,
   "metadata": {},
   "outputs": [],
   "source": [
    "covid_counties_clean = covid_counties[covid_counties['fips'].notnull()]\n",
    "\n",
    "print(covid_counties_clean)"
   ]
  },
  {
   "cell_type": "markdown",
   "metadata": {
    "slideshow": {
     "slide_type": "slide"
    }
   },
   "source": [
    "### Extract Data\n",
    "\n",
    "Since we have a row for each day in the dataset, we will use the **groupby** function to group _daily cases_ by _county_. Since some county names are found in more than one state, we have to group by _county_ and _state_ (as well as the fips code, to be sure). We will add them all up using the **sum** function.\n"
   ]
  },
  {
   "cell_type": "code",
   "execution_count": null,
   "metadata": {
    "scrolled": false,
    "slideshow": {
     "slide_type": "fragment"
    }
   },
   "outputs": [],
   "source": [
    "# In our earlier segment we only looked at cases. \n",
    "# What if we also wanted to look at deaths? \n",
    "\n",
    "# Here we replaced ['cases'] with ['cases', 'deaths'] below.\n",
    "# This will group both cases and deaths by fips, county, and state values.\n",
    "\n",
    "covid_grouped = covid_counties.groupby(['fips','county','state'])[['cases', 'deaths']]\n",
    "\n",
    "# Second, add up all the Covid-19 cases using sum\n",
    "covid_total = covid_grouped.sum()\n",
    "\n",
    "#View the result, which should include the columns \"fips, county, state, cases, deaths\"\n",
    "covid_total"
   ]
  },
  {
   "cell_type": "markdown",
   "metadata": {},
   "source": [
    "Now we could apply some basic arithmetic for the rows using Pandas.\n",
    "\n",
    "Let's get the number of deaths per case for each county. This is called the Case Fatality Rather (CFR). We multiply by 100.0 to get the percentage at the end.\n",
    "\n",
    "Before you run the code, make sure you understand that we are dividing deaths by cases for each row."
   ]
  },
  {
   "cell_type": "code",
   "execution_count": null,
   "metadata": {},
   "outputs": [],
   "source": [
    "covid_total['deathpercase']=covid_total['deaths']/covid_total['cases']*100.0\n",
    "\n",
    "# Print out the new 'covid_total' dataframe with a new 'deathpercase' column\n",
    "covid_total"
   ]
  },
  {
   "cell_type": "markdown",
   "metadata": {},
   "source": [
    "Now that we have our data we can try some basic visualizations. Let's try making a scatter plot of cases on the x-axis and deaths on the y-axis."
   ]
  },
  {
   "cell_type": "code",
   "execution_count": null,
   "metadata": {},
   "outputs": [],
   "source": [
    "covid_total.plot.scatter(x='cases', y='deaths')"
   ]
  },
  {
   "cell_type": "markdown",
   "metadata": {},
   "source": [
    "Here are a few things you can try adding to the scatter function as parameters (remember to use commas to separate each of them).\n",
    "\n",
    "```python\n",
    "# Change the size of the dots\n",
    "# s=covid_total['deathpercase']\n",
    "# s=covid_total['deathpercase']*2\n",
    "```\n",
    "\n",
    "And, try a hex-bin plot."
   ]
  },
  {
   "cell_type": "code",
   "execution_count": null,
   "metadata": {},
   "outputs": [],
   "source": [
    "covid_total.plot.hexbin(x='cases', y='deaths', gridsize=5)"
   ]
  },
  {
   "cell_type": "markdown",
   "metadata": {
    "slideshow": {
     "slide_type": "slide"
    }
   },
   "source": [
    "### Merge data \n",
    "Now we'll load \"supplementary/counties_geometry.geojson\" into a geodataframe. You loaded this same file in an earlier segment on mapping Covid-19. We will (again) use **merge** to merge these two datasets into a **merged** geodataframe."
   ]
  },
  {
   "cell_type": "code",
   "execution_count": null,
   "metadata": {
    "slideshow": {
     "slide_type": "fragment"
    }
   },
   "outputs": [],
   "source": [
    "counties_geojson = geopandas.read_file(\"./supplementary/counties_geometry.geojson\")\n",
    "\n",
    "# Merge geography (counties_geojson) and covid cases and deaths (covid_total)\n",
    "merged = pandas.merge(counties_geojson, covid_total, how='left',\n",
    "                left_on=['NAME','state_name'], right_on = ['county','state'])\n",
    "\n",
    "# Let's take a quick look at our new merged geodataframe\n",
    "merged"
   ]
  },
  {
   "cell_type": "markdown",
   "metadata": {
    "slideshow": {
     "slide_type": "slide"
    }
   },
   "source": [
    "## 2. More Mapping\n",
    "\n",
    "Now that we have a merged dataset. We can try to create a few different maps. In this Exploration you can try to improve your first map.\n",
    "\n",
    "Here is the code from your first map. Run this code and then scroll down."
   ]
  },
  {
   "cell_type": "code",
   "execution_count": null,
   "metadata": {
    "slideshow": {
     "slide_type": "fragment"
    }
   },
   "outputs": [],
   "source": [
    "merged.plot(figsize=(15, 15), column='cases', cmap='OrRd', scheme='fisher_jenks', legend=\"true\", \n",
    "                       legend_kwds={'loc': 'lower left', 'title':'Number of Confirmed Cases'})\n",
    "pyplot.title(\"Number of Confirmed Cases\")"
   ]
  },
  {
   "cell_type": "markdown",
   "metadata": {},
   "source": [
    "Below is that code chunk again. Now you can try changing the code to improve the look of your map. There are a lot of options to change. \n",
    "\n",
    "<u>If you break something, then just copy and paste the original code above to \"reset\".</u>\n",
    "\n",
    "- *column* represents the column that is being mapped. Change what you are mapping by replacing 'cases' with 'deaths' or 'deathpercase'\n",
    "\n",
    "- *cmap* represents the colormap. You can try any number of these by replacing 'OrRd' with: 'Purples' or 'Greens' or 'gist_gray'. There are lot of choices that you can see here: https://matplotlib.org/tutorials/colors/colormaps.html. If you want to learn more about color schemes check out: https://colorbrewer2.org\n",
    "\n",
    "- *scheme* represents the scheme for creating classes. Try a few other options by replacing 'fisher_jenks' with: 'natural_breaks' or 'quantiles'\n",
    "\n",
    "- *loc* represents the location of your legend. Move your legend by replacing 'lower left' with 'upper right' or 'upper left'\n",
    "\n",
    "- *title* represents the text in the legend box. If you changed the column that you are mapping, make sure to change the title too.\n",
    "\n",
    "Want to try more? Check out here for even more options\n",
    "https://geopandas.org/mapping.html#choropleth-maps"
   ]
  },
  {
   "cell_type": "code",
   "execution_count": null,
   "metadata": {},
   "outputs": [],
   "source": [
    "merged.plot(figsize=(15, 15), column='cases', cmap='OrRd', scheme='fisher_jenks', legend=\"true\", \n",
    "                       legend_kwds={'loc': 'lower left', 'title':'Number of Confirmed Cases'})\n",
    "pyplot.title(\"Number of Confirmed Cases\")"
   ]
  },
  {
   "cell_type": "markdown",
   "metadata": {},
   "source": [
    "# Congratulations!\n",
    "\n",
    "**You have finished an Hour of CI!**\n",
    "\n",
    "If you would like a certificate, then please type your name below and click \"Create Certificate\" and you will be presented with a PDF certificate.\n"
   ]
  },
  {
   "cell_type": "code",
   "execution_count": null,
   "metadata": {
    "hide_input": false,
    "slideshow": {
     "slide_type": "-"
    },
    "tags": [
     "Hide",
     "Init"
    ]
   },
   "outputs": [],
   "source": [
    "# This code cell loads the Interact Textbox that will ask users for their name\n",
    "# Once they click \"Create Certificate\" then it will add their name to the certificate template\n",
    "# And present them a PDF certificate\n",
    "from PIL import Image\n",
    "from PIL import ImageFont\n",
    "from PIL import ImageDraw\n",
    "\n",
    "from ipywidgets import interact\n",
    "\n",
    "def make_cert(learner_name, lesson_name):\n",
    "    cert_filename = 'hourofci_certificate.pdf'\n",
    "\n",
    "    img = Image.open(\"../../supplementary/hci-certificate-template.jpg\")\n",
    "    draw = ImageDraw.Draw(img)\n",
    "\n",
    "    cert_font   = ImageFont.truetype('../../supplementary/cruft.ttf', 150)\n",
    "    cert_fontsm = ImageFont.truetype('../../supplementary/cruft.ttf', 80)\n",
    "    \n",
    "    _,_,w,h = cert_font.getbbox(learner_name)  \n",
    "    draw.text( xy = (1650-w/2,1100-h/2), text = learner_name, fill=(0,0,0),font=cert_font)\n",
    "    \n",
    "    _,_,w,h = cert_fontsm.getbbox(lesson_name)\n",
    "    draw.text( xy = (1650-w/2,1100-h/2 + 750), text = lesson_name, fill=(0,0,0),font=cert_fontsm)\n",
    "    \n",
    "    img.save(cert_filename, \"PDF\", resolution=100.0)   \n",
    "    return cert_filename\n",
    "\n",
    "\n",
    "interact_cert=interact.options(manual=True, manual_name=\"Create Certificate\")\n",
    "\n",
    "@interact_cert(name=\"Your Name\")\n",
    "def f(name):\n",
    "    print(\"Congratulations\",name)\n",
    "    filename = make_cert(name, 'Gateway')\n",
    "    print(\"Download your certificate by clicking the link below.\")\n",
    "    \n",
    "    \n",
    "    \n"
   ]
  },
  {
   "cell_type": "markdown",
   "metadata": {},
   "source": [
    "<font size=\"+1\"><a style=\"background-color:blue;color:white;padding:12px;margin:10px;font-weight:bold;\" href=\"hourofci_certificate.pdf?download=1\" download=\"hourofci_certificate.pdf\">Download your certificate</a></font>"
   ]
  }
 ],
 "metadata": {
  "celltoolbar": "Slideshow",
  "kernelspec": {
   "display_name": "Python [conda env:iguide-ewd]",
   "language": "python",
   "name": "conda-env-iguide-ewd-py"
  },
  "language_info": {
   "codemirror_mode": {
    "name": "ipython",
    "version": 3
   },
   "file_extension": ".py",
   "mimetype": "text/x-python",
   "name": "python",
   "nbconvert_exporter": "python",
   "pygments_lexer": "ipython3",
   "version": "3.10.11"
  },
  "rise": {
   "autolaunch": false,
   "overlay": "<div class='hciheader'></div><div class='hcifooter'></div>",
   "scroll": true
  },
  "varInspector": {
   "cols": {
    "lenName": 16,
    "lenType": 16,
    "lenVar": 40
   },
   "kernels_config": {
    "python": {
     "delete_cmd_postfix": "",
     "delete_cmd_prefix": "del ",
     "library": "var_list.py",
     "varRefreshCmd": "print(var_dic_list())"
    },
    "r": {
     "delete_cmd_postfix": ") ",
     "delete_cmd_prefix": "rm(",
     "library": "var_list.r",
     "varRefreshCmd": "cat(var_dic_list()) "
    }
   },
   "types_to_exclude": [
    "module",
    "function",
    "builtin_function_or_method",
    "instance",
    "_Feature"
   ],
   "window_display": false
  }
 },
 "nbformat": 4,
 "nbformat_minor": 2
}
