{
 "cells": [
  {
   "cell_type": "markdown",
   "metadata": {
    "slideshow": {
     "slide_type": "slide"
    }
   },
   "source": [
    "# Gateway Lesson\n",
    "\n",
    "\n",
    "Welcome to the Hour of Cyberinfrastructure (also known as the Hour of CI). This is the Gateway Lesson, which is your introduction to foundational concepts such as _cyberinfrastructure_ and key skills such as using cyberinfrastructure to solve a geospatial problem. This lesson prepares you for Beginner Lessons in topics such as Computational Thinking, Big Data, and Spatial Modeling and Analytics. So with that said:\n",
    "\n",
    "## Welcome to the World of Cyberinfrastructure!\n",
    "\n",
    "<br>\n",
    "\n",
    "Lesson Developers: \n",
    "  * Eric Shook (eshook@umn.edu), \n",
    "  * Forrest Bowlick (fbowlick@umass.edu), \n",
    "  * Karen Kemp (kakemp@usc.edu), \n",
    "  * Anand Padmanabhan (apadmana@illinois.edu)"
   ]
  },
  {
   "cell_type": "code",
   "execution_count": null,
   "metadata": {
    "hide_input": false,
    "init_cell": true,
    "scrolled": false,
    "slideshow": {
     "slide_type": "skip"
    },
    "tags": [
     "Hide"
    ]
   },
   "outputs": [],
   "source": [
    "# This code cell starts the necessary setup for Hour of CI lesson notebooks.\n",
    "# First, it enables users to hide and unhide code by producing a 'Toggle raw code' button below.\n",
    "# Second, it imports the hourofci package, which is necessary for lessons and interactive Jupyter Widgets.\n",
    "# Third, it helps hide/control other aspects of Jupyter Notebooks to improve the user experience\n",
    "# This is an initialization cell\n",
    "# It is not displayed because the Slide Type is 'Skip'\n",
    "\n",
    "from IPython.display import HTML, IFrame, Javascript, display\n",
    "from ipywidgets import interactive\n",
    "import ipywidgets as widgets\n",
    "from ipywidgets import Layout\n",
    "\n",
    "import getpass # This library allows us to get the username (User agent string)\n",
    "\n",
    "# import package for hourofci project\n",
    "import sys\n",
    "sys.path.append('../../supplementary') # relative path (may change depending on the location of the lesson notebook)\n",
    "import hourofci\n",
    "\n",
    "# Retreive the user agent string, it will be passed to the hourofci submit button\n",
    "agent_js = \"\"\"\n",
    "IPython.notebook.kernel.execute(\"user_agent = \" + \"'\" + navigator.userAgent + \"'\");\n",
    "\"\"\"\n",
    "Javascript(agent_js)\n",
    "\n",
    "# load javascript to initialize/hide cells, get user agent string, and hide output indicator\n",
    "# hide code by introducing a toggle button \"Toggle raw code\"\n",
    "HTML(''' \n",
    "    <script type=\"text/javascript\" src=\\\"../../supplementary/js/custom.js\\\"></script>\n",
    "    \n",
    "    <style>\n",
    "        .output_prompt{opacity:0;}\n",
    "    </style>\n",
    "    \n",
    "    <input id=\"toggle_code\" type=\"button\" value=\"Toggle raw code\">\n",
    "''')"
   ]
  },
  {
   "cell_type": "markdown",
   "metadata": {
    "slideshow": {
     "slide_type": "slide"
    }
   },
   "source": [
    "## I'm Hip, nice to meet you.\n",
    "\n",
    "<table>\n",
    "    <tr style=\"background: #fff\">\n",
    "        <td width=30%> <img src='supplementary/hippo.png' alt='Hip Po'></td>\n",
    "        <td align=left valign=top>My name is Hip Po. I'm a Hippopotamus, but I like to think of myself as a high-performance-potamus. I'm the official mascot for the Hour of CI project, because I think cyberinfrastructure should be available to everyone. In fact, the Hour of CI project was created to help you learn cyberinfrastructure. \n",
    "\n",
    "Don't worry if you get a bit nervous when you hear **technical jargon** like big data, supercomputers, cyber literacy or programming. You are in the right place! I'm here to show you around the world of cyberinfrastructure. I'll help you take your first steps toward learning **cyber literacy for geographic information science**. I'll explain that term in a bit.</td>\n",
    "    </tr>\n",
    "</table>"
   ]
  },
  {
   "cell_type": "markdown",
   "metadata": {
    "slideshow": {
     "slide_type": "slide"
    }
   },
   "source": [
    "# Welcome to the Hour of CI!\n",
    "\n",
    "The Hour of Cyberinfrastructure (Hour of CI) project will introduce you to the world of cyberinfrastructure (CI). If this is your first lesson, then we recommend starting with the **[Gateway Lesson](https://www.hourofci.org/gateway-lesson)**, which will introduce you to the Hour of CI project and the eight knowledge areas that make up Cyber Literacy for Geographic Information Science. This is the **Gateway** lesson.\n",
    "\n",
    "You should know: Click on the \"Run this cell\" button when you see it to run code.\n"
   ]
  },
  {
   "cell_type": "markdown",
   "metadata": {
    "rise": {
     "scroll": true
    },
    "slideshow": {
     "slide_type": "slide"
    }
   },
   "source": [
    "\n",
    "\n",
    "<a href=\"gateway-2.ipynb\" style=\"background-color:blue;color:white;padding:10px;margin:2px;font-weight:bold;\">Click here to launch the lesson!</a>\n",
    "\n"
   ]
  }
 ],
 "metadata": {
  "celltoolbar": "Slideshow",
  "kernelspec": {
   "display_name": "I-GUIDE EWD",
   "language": "python",
   "name": "conda-env-iguide-ewd-py"
  },
  "language_info": {
   "codemirror_mode": {
    "name": "ipython",
    "version": 3
   },
   "file_extension": ".py",
   "mimetype": "text/x-python",
   "name": "python",
   "nbconvert_exporter": "python",
   "pygments_lexer": "ipython3",
   "version": "3.7.16"
  },
  "rise": {
   "autolaunch": true,
   "overlay": "<div class='hciheader'></div><div class='hcifooter'></div>",
   "scroll": true
  }
 },
 "nbformat": 4,
 "nbformat_minor": 2
}
