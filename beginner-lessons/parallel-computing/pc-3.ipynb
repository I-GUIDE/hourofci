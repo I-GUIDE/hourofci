{
 "cells": [
  {
   "cell_type": "markdown",
   "metadata": {
    "slideshow": {
     "slide_type": "slide"
    }
   },
   "source": [
    "# Parallel Computation\n",
    "## A Law of Parallel Computation\n",
    "*Lesson Developer: Eric Shook eshook@umn.edu*\n"
   ]
  },
  {
   "cell_type": "code",
   "execution_count": null,
   "metadata": {
    "init_cell": true,
    "slideshow": {
     "slide_type": "skip"
    }
   },
   "outputs": [],
   "source": [
    "# from IPython.display import HTML, IFrame, Javascript\n",
    "# from ipywidgets import interactive, Layout\n",
    "# import ipywidgets as widgets\n",
    "\n",
    "# # hide code output\n",
    "# HTML('''\n",
    "#     <script>\n",
    "#         display = true; \n",
    "#         function toggle() {\n",
    "#             var input = $(\"div.input\");\n",
    "#             if (display) { input.hide(); }\n",
    "#             else { input.show(); }\n",
    "#             display = !display;\n",
    "#         }\n",
    "#         $(document).ready(toggle);\n",
    "#     </script>\n",
    "    \n",
    "#     <!-- Hide output indicators (e.g. `Out [4]:`) -->\n",
    "#     <style>\n",
    "#         .output_prompt{opacity:0;}\n",
    "#     </style>\n",
    "    \n",
    "#     <form action=\"javascript:toggle()\">\n",
    "#         <input type=\"submit\" value=\"Toggle raw code\">\n",
    "#     </form>\n",
    "# ''')"
   ]
  },
  {
   "cell_type": "code",
   "execution_count": null,
   "metadata": {
    "hide_input": true,
    "init_cell": true,
    "slideshow": {
     "slide_type": "skip"
    },
    "tags": [
     "Hide"
    ]
   },
   "outputs": [],
   "source": [
    "# This code cell starts the necessary setup for Hour of CI lesson notebooks.\n",
    "# First, it enables users to hide and unhide code by producing a 'Toggle raw code' button below.\n",
    "# Second, it imports the hourofci package, which is necessary for lessons and interactive Jupyter Widgets.\n",
    "# Third, it helps hide/control other aspects of Jupyter Notebooks to improve the user experience\n",
    "# This is an initialization cell\n",
    "# It is not displayed because the Slide Type is 'Skip'\n",
    "\n",
    "from IPython.display import HTML, IFrame, Javascript, display\n",
    "from ipywidgets import interactive\n",
    "import ipywidgets as widgets\n",
    "from ipywidgets import Layout\n",
    "\n",
    "import getpass # This library allows us to get the username (User agent string)\n",
    "\n",
    "# import package for hourofci project\n",
    "import sys\n",
    "sys.path.append('../../supplementary') # relative path (may change depending on the location of the lesson notebook)\n",
    "import hourofci\n",
    "\n",
    "\n",
    "# load javascript to initialize/hide cells, get user agent string, and hide output indicator\n",
    "# hide code by introducing a toggle button \"Toggle raw code\"\n",
    "HTML(''' \n",
    "    <script type=\"text/javascript\" src=\\\"../../supplementary/js/custom.js\\\"></script>\n",
    "    \n",
    "    <style>\n",
    "        .output_prompt{opacity:0;}\n",
    "    </style>\n",
    "    \n",
    "    <input id=\"toggle_code\" type=\"button\" value=\"Toggle raw code\">\n",
    "''')"
   ]
  },
  {
   "cell_type": "markdown",
   "metadata": {
    "slideshow": {
     "slide_type": "slide"
    }
   },
   "source": [
    "### Serial and Parallel Computation\n",
    "\n",
    "Sometimes Sam needs something to do. What happens when Sam is responsible for planting some of the field and Parker and Patricia are responsible for planting the rest? Remember, Sam only works alone. So when Sam is planting then Parker and Patricia have to stay out of the field."
   ]
  },
  {
   "cell_type": "code",
   "execution_count": null,
   "metadata": {
    "hide_input": false,
    "slideshow": {
     "slide_type": "-"
    },
    "tags": [
     "Init",
     "Hide"
    ]
   },
   "outputs": [],
   "source": [
    "IFrame(\"supplementary/field-three-static.html\", width=\"850\", height=\"450\")"
   ]
  },
  {
   "cell_type": "markdown",
   "metadata": {
    "slideshow": {
     "slide_type": "slide"
    }
   },
   "source": [
    "How fast is the field planted if they divide the field evenly? Everyone gets 1/3 of the field."
   ]
  },
  {
   "cell_type": "code",
   "execution_count": null,
   "metadata": {
    "hide_input": true,
    "slideshow": {
     "slide_type": "fragment"
    },
    "tags": [
     "Init",
     "Hide"
    ]
   },
   "outputs": [],
   "source": [
    "# TODO: Style the widget better, there's no easy way unfortunately\n",
    "# Add end values, add units ('seconds') to current value, etc.\n",
    "widgets.IntSlider(\n",
    "    value=10,\n",
    "    min=0,\n",
    "    max=20,\n",
    "    step=1,\n",
    "    description='(WIP WIDGET - SEE CELL COMMENTS) Fastest time divided evenly (0s - 20s):', style={'description_width': 'initial'},\n",
    "    layout = Layout(width='70%'),\n",
    "    disabled=False,\n",
    "    continuous_update=False,\n",
    "    orientation='horizontal',\n",
    "    readout=True,\n",
    "    readout_format='d'\n",
    ")"
   ]
  },
  {
   "cell_type": "markdown",
   "metadata": {
    "slideshow": {
     "slide_type": "fragment"
    }
   },
   "source": [
    "How fast can the field be planted? If you get to control how much, if any, of the field is planted by each person?\n",
    "\n",
    "__TODO__ (learner gets to slide the portions of field for each person)"
   ]
  },
  {
   "cell_type": "code",
   "execution_count": null,
   "metadata": {
    "hide_input": true,
    "slideshow": {
     "slide_type": "fragment"
    },
    "tags": [
     "Init",
     "Hide"
    ]
   },
   "outputs": [],
   "source": [
    "# TODO: Style the widget better, there's no easy way unfortunately\n",
    "# Add end values, add units ('seconds') to current value, etc.\n",
    "widgets.IntSlider(\n",
    "    value=10,\n",
    "    min=0,\n",
    "    max=20,\n",
    "    step=1,\n",
    "    description='(WIP WIDGET - SEE CELL COMMENTS) Fastest time (0s - 20s):', style={'description_width': 'initial'},\n",
    "    layout = Layout(width='60%'),\n",
    "    disabled=False,\n",
    "    continuous_update=False,\n",
    "    orientation='horizontal',\n",
    "    readout=True,\n",
    "    readout_format='d'\n",
    ")"
   ]
  },
  {
   "cell_type": "markdown",
   "metadata": {
    "slideshow": {
     "slide_type": "slide"
    }
   },
   "source": [
    "### Coordination\n",
    "\n",
    "In our first scenario with Parker and Patricia you moved the bar to determine how much work they each had to do. Generally, Parker and Patricia would need to coordinate their efforts. They might talk and say something like: \n",
    "\n",
    "> Meet in the middle? \n",
    "\n",
    "> Sure, sounds good! Then we'll get something to eat at Hip Po Restaurant.\n",
    "\n",
    "That short discussion is usually required for two or more people to coordinate their work. The more workers there are, generally the longer the discussion needed for them to coordinate their work. Notice that they are not working when they are having their conversation. In fact only one of them is talking at a time. The time it takes to coordinate workers such as Parker and Patricia adds to the overall time to complete the task. "
   ]
  },
  {
   "cell_type": "code",
   "execution_count": null,
   "metadata": {
    "init_cell": true,
    "slideshow": {
     "slide_type": "skip"
    }
   },
   "outputs": [],
   "source": [
    "IFrame(\"supplementary/field-three.html\", width=\"850\", height=\"450\")"
   ]
  },
  {
   "cell_type": "markdown",
   "metadata": {},
   "source": [
    "**Continue the journey: [Next Segment](pc-4.ipynb)**"
   ]
  }
 ],
 "metadata": {
  "celltoolbar": "Edit Metadata",
  "kernelspec": {
   "display_name": "Python 3",
   "language": "python",
   "name": "python3"
  },
  "language_info": {
   "codemirror_mode": {
    "name": "ipython",
    "version": 3
   },
   "file_extension": ".py",
   "mimetype": "text/x-python",
   "name": "python",
   "nbconvert_exporter": "python",
   "pygments_lexer": "ipython3",
   "version": "3.8.1"
  },
  "rise": {
   "autolaunch": true
  },
  "widgets": {
   "application/vnd.jupyter.widget-state+json": {
    "state": {
     "125fe231a8c2450abf1505b8e1e81c70": {
      "model_module": "@jupyter-widgets/controls",
      "model_module_version": "1.5.0",
      "model_name": "IntSliderModel",
      "state": {
       "continuous_update": false,
       "description": "(WIP WIDGET - SEE CELL COMMENTS) Fastest time (0s - 20s):",
       "layout": "IPY_MODEL_bef73cb497024ba783efc2b2daddba0c",
       "max": 20,
       "style": "IPY_MODEL_9424a52da9044c3c860ed7109db3df1f",
       "value": 10
      }
     },
     "1424441e80a74c00b8674bb9fdff504b": {
      "model_module": "@jupyter-widgets/controls",
      "model_module_version": "1.5.0",
      "model_name": "IntSliderModel",
      "state": {
       "continuous_update": false,
       "description": "(WIP WIDGET - SEE CELL COMMENTS) Fastest time divided evenly (0s - 20s):",
       "layout": "IPY_MODEL_ce97f390686445b9a69a0bf5cb9ea19d",
       "max": 20,
       "style": "IPY_MODEL_2be830d68d8e4d009a03a6be0c210ff5",
       "value": 10
      }
     },
     "2be830d68d8e4d009a03a6be0c210ff5": {
      "model_module": "@jupyter-widgets/controls",
      "model_module_version": "1.5.0",
      "model_name": "SliderStyleModel",
      "state": {
       "description_width": "initial"
      }
     },
     "3ae63a0b323948ae99976856544966fc": {
      "model_module": "@jupyter-widgets/controls",
      "model_module_version": "1.5.0",
      "model_name": "IntSliderModel",
      "state": {
       "continuous_update": false,
       "description": "(WIP WIDGET - SEE CELL COMMENTS) Fastest time (0s - 20s):",
       "layout": "IPY_MODEL_48a2fb71529b4c1eac1db0a0066ed046",
       "max": 20,
       "style": "IPY_MODEL_a3a5de4bc704448a8a7ce83323a4c47c",
       "value": 10
      }
     },
     "3c48d6413a484185a443a852876f0ac4": {
      "model_module": "@jupyter-widgets/controls",
      "model_module_version": "1.5.0",
      "model_name": "IntSliderModel",
      "state": {
       "continuous_update": false,
       "description": "(WIP WIDGET - SEE CELL COMMENTS) Fastest time divided evenly (0s - 20s):",
       "layout": "IPY_MODEL_ad9cb1b9672545228740c28f62392dd6",
       "max": 20,
       "style": "IPY_MODEL_73d99d822b7645eda077a096cf6ff409",
       "value": 10
      }
     },
     "403620d29c7149c29309501ff2e1f097": {
      "model_module": "@jupyter-widgets/controls",
      "model_module_version": "1.5.0",
      "model_name": "IntSliderModel",
      "state": {
       "continuous_update": false,
       "description": "(WIP WIDGET - SEE CELL COMMENTS) Fastest time divided evenly (0s - 20s):",
       "layout": "IPY_MODEL_7d379205d54e4d7ab088a3f014b31517",
       "max": 20,
       "style": "IPY_MODEL_80cab8b843014ad0a3f598893f67b0c9",
       "value": 10
      }
     },
     "48a2fb71529b4c1eac1db0a0066ed046": {
      "model_module": "@jupyter-widgets/base",
      "model_module_version": "1.2.0",
      "model_name": "LayoutModel",
      "state": {
       "width": "70%"
      }
     },
     "6f374b638bc3450c9ee621e55cb13025": {
      "model_module": "@jupyter-widgets/controls",
      "model_module_version": "1.5.0",
      "model_name": "IntSliderModel",
      "state": {
       "continuous_update": false,
       "description": "(WIP WIDGET - SEE CELL COMMENTS) Fastest time (0s - 20s):",
       "layout": "IPY_MODEL_713581704a6642348fdaeee1903f3201",
       "max": 20,
       "style": "IPY_MODEL_831da69c78354d51ac1c9923d91796c4",
       "value": 10
      }
     },
     "713581704a6642348fdaeee1903f3201": {
      "model_module": "@jupyter-widgets/base",
      "model_module_version": "1.2.0",
      "model_name": "LayoutModel",
      "state": {
       "width": "60%"
      }
     },
     "73d99d822b7645eda077a096cf6ff409": {
      "model_module": "@jupyter-widgets/controls",
      "model_module_version": "1.5.0",
      "model_name": "SliderStyleModel",
      "state": {
       "description_width": "initial"
      }
     },
     "7d379205d54e4d7ab088a3f014b31517": {
      "model_module": "@jupyter-widgets/base",
      "model_module_version": "1.2.0",
      "model_name": "LayoutModel",
      "state": {
       "width": "70%"
      }
     },
     "80cab8b843014ad0a3f598893f67b0c9": {
      "model_module": "@jupyter-widgets/controls",
      "model_module_version": "1.5.0",
      "model_name": "SliderStyleModel",
      "state": {
       "description_width": "initial"
      }
     },
     "831da69c78354d51ac1c9923d91796c4": {
      "model_module": "@jupyter-widgets/controls",
      "model_module_version": "1.5.0",
      "model_name": "SliderStyleModel",
      "state": {
       "description_width": "initial"
      }
     },
     "887bbc6c30d3486fba857a15e7e84586": {
      "model_module": "@jupyter-widgets/base",
      "model_module_version": "1.2.0",
      "model_name": "LayoutModel",
      "state": {
       "width": "80%"
      }
     },
     "9424a52da9044c3c860ed7109db3df1f": {
      "model_module": "@jupyter-widgets/controls",
      "model_module_version": "1.5.0",
      "model_name": "SliderStyleModel",
      "state": {
       "description_width": "initial"
      }
     },
     "a3a5de4bc704448a8a7ce83323a4c47c": {
      "model_module": "@jupyter-widgets/controls",
      "model_module_version": "1.5.0",
      "model_name": "SliderStyleModel",
      "state": {
       "description_width": "initial"
      }
     },
     "ad9cb1b9672545228740c28f62392dd6": {
      "model_module": "@jupyter-widgets/base",
      "model_module_version": "1.2.0",
      "model_name": "LayoutModel",
      "state": {
       "width": "60%"
      }
     },
     "b12f2704e82b4806aaac01a4a11637c0": {
      "model_module": "@jupyter-widgets/controls",
      "model_module_version": "1.5.0",
      "model_name": "SliderStyleModel",
      "state": {
       "description_width": "initial"
      }
     },
     "bef73cb497024ba783efc2b2daddba0c": {
      "model_module": "@jupyter-widgets/base",
      "model_module_version": "1.2.0",
      "model_name": "LayoutModel",
      "state": {
       "width": "60%"
      }
     },
     "bfb18789c4154be4b3e6a429fc759f52": {
      "model_module": "@jupyter-widgets/controls",
      "model_module_version": "1.5.0",
      "model_name": "IntSliderModel",
      "state": {
       "continuous_update": false,
       "description": "(WIP WIDGET - SEE CELL COMMENTS) Fastest time divided evenly (0s - 20s):",
       "layout": "IPY_MODEL_887bbc6c30d3486fba857a15e7e84586",
       "max": 20,
       "style": "IPY_MODEL_b12f2704e82b4806aaac01a4a11637c0",
       "value": 10
      }
     },
     "ce97f390686445b9a69a0bf5cb9ea19d": {
      "model_module": "@jupyter-widgets/base",
      "model_module_version": "1.2.0",
      "model_name": "LayoutModel",
      "state": {
       "width": "70%"
      }
     }
    },
    "version_major": 2,
    "version_minor": 0
   }
  }
 },
 "nbformat": 4,
 "nbformat_minor": 2
}
