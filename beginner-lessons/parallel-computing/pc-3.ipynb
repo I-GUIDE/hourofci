{
 "cells": [
  {
   "cell_type": "markdown",
   "metadata": {
    "slideshow": {
     "slide_type": "slide"
    }
   },
   "source": [
    "# Parallel Computation\n",
    "## A Law of Parallel Computation\n",
    "*Lesson Developer: Eric Shook eshook@umn.edu*\n"
   ]
  },
  {
   "cell_type": "code",
   "execution_count": 22,
   "metadata": {
    "hide_input": true,
    "init_cell": true,
    "slideshow": {
     "slide_type": "skip"
    },
    "tags": [
     "Hide"
    ]
   },
   "outputs": [
    {
     "data": {
      "text/html": [
       " \n",
       "    <script type=\"text/javascript\" src=\"../../supplementary/js/custom.js\"></script>\n",
       "    \n",
       "    <style>\n",
       "        .output_prompt{opacity:0;}\n",
       "    </style>\n",
       "    \n",
       "    <input id=\"toggle_code\" type=\"button\" value=\"Toggle raw code\">\n"
      ],
      "text/plain": [
       "<IPython.core.display.HTML object>"
      ]
     },
     "execution_count": 22,
     "metadata": {},
     "output_type": "execute_result"
    }
   ],
   "source": [
    "# This code cell starts the necessary setup for Hour of CI lesson notebooks.\n",
    "# First, it enables users to hide and unhide code by producing a 'Toggle raw code' button below.\n",
    "# Second, it imports the hourofci package, which is necessary for lessons and interactive Jupyter Widgets.\n",
    "# Third, it helps hide/control other aspects of Jupyter Notebooks to improve the user experience\n",
    "# This is an initialization cell\n",
    "# It is not displayed because the Slide Type is 'Skip'\n",
    "\n",
    "from IPython.display import HTML, IFrame, Javascript, display\n",
    "from ipywidgets import interactive\n",
    "import ipywidgets as widgets\n",
    "from ipywidgets import Layout\n",
    "\n",
    "import getpass # This library allows us to get the username (User agent string)\n",
    "\n",
    "# import package for hourofci project\n",
    "import sys\n",
    "sys.path.append('../../supplementary') # relative path (may change depending on the location of the lesson notebook)\n",
    "import hourofci\n",
    "\n",
    "\n",
    "# load javascript to initialize/hide cells, get user agent string, and hide output indicator\n",
    "# hide code by introducing a toggle button \"Toggle raw code\"\n",
    "HTML(''' \n",
    "    <script type=\"text/javascript\" src=\\\"../../supplementary/js/custom.js\\\"></script>\n",
    "    \n",
    "    <style>\n",
    "        .output_prompt{opacity:0;}\n",
    "    </style>\n",
    "    \n",
    "    <input id=\"toggle_code\" type=\"button\" value=\"Toggle raw code\">\n",
    "''')"
   ]
  },
  {
   "cell_type": "markdown",
   "metadata": {
    "slideshow": {
     "slide_type": "slide"
    }
   },
   "source": [
    "### Serial and Parallel Computation\n",
    "\n",
    "Sometimes Sam needs something to do. What happens when Sam is responsible for planting some of the field and Parker and Patricia are responsible for planting the rest? Remember, Sam only works alone. So when Sam is planting then Parker and Patricia have to stay out of the field."
   ]
  },
  {
   "cell_type": "code",
   "execution_count": 23,
   "metadata": {
    "hide_input": false,
    "slideshow": {
     "slide_type": "-"
    },
    "tags": [
     "Init",
     "Hide"
    ]
   },
   "outputs": [
    {
     "data": {
      "text/html": [
       "\n",
       "        <iframe\n",
       "            width=\"850\"\n",
       "            height=\"350\"\n",
       "            src=\"supplementary/field-three-static.html\"\n",
       "            frameborder=\"0\"\n",
       "            allowfullscreen\n",
       "            \n",
       "        ></iframe>\n",
       "        "
      ],
      "text/plain": [
       "<IPython.lib.display.IFrame at 0x7ff331ef96a0>"
      ]
     },
     "execution_count": 23,
     "metadata": {},
     "output_type": "execute_result"
    }
   ],
   "source": [
    "IFrame(\"supplementary/field-three-static.html\", width=\"850\", height=\"350\")"
   ]
  },
  {
   "cell_type": "markdown",
   "metadata": {
    "slideshow": {
     "slide_type": "slide"
    }
   },
   "source": [
    "How fast is the field planted if they divide the field evenly? Everyone gets 1/3 of the field."
   ]
  },
  {
   "cell_type": "code",
   "execution_count": 24,
   "metadata": {
    "hide_input": false,
    "slideshow": {
     "slide_type": "-"
    },
    "tags": [
     "Init",
     "Hide"
    ]
   },
   "outputs": [
    {
     "data": {
      "application/vnd.jupyter.widget-view+json": {
       "model_id": "13aa2d3608e94e0e88b8a36d65d17989",
       "version_major": 2,
       "version_minor": 0
      },
      "text/plain": [
       "IntSlider(value=1, continuous_update=False, description='Fastest time divided evenly (0 - 20 seconds):', layou…"
      ]
     },
     "metadata": {},
     "output_type": "display_data"
    },
    {
     "data": {
      "application/vnd.jupyter.widget-view+json": {
       "model_id": "94f3b93202774b0196560a20f570be83",
       "version_major": 2,
       "version_minor": 0
      },
      "text/plain": [
       "Button(description='Submit', icon='check', layout=Layout(height='auto', width='auto'), style=ButtonStyle())"
      ]
     },
     "metadata": {},
     "output_type": "display_data"
    },
    {
     "data": {
      "application/vnd.jupyter.widget-view+json": {
       "model_id": "54e88643947f45f69e9abfadfc616540",
       "version_major": 2,
       "version_minor": 0
      },
      "text/plain": [
       "Output()"
      ]
     },
     "metadata": {},
     "output_type": "display_data"
    }
   ],
   "source": [
    "# TODO: Style the widget better, there's no easy way unfortunately\n",
    "# Add end values, add units ('seconds') to current value, etc.\n",
    "widget0 = widgets.IntSlider(\n",
    "    value=1,\n",
    "    min=0,\n",
    "    max=20,\n",
    "    step=1,\n",
    "    description='Fastest time divided evenly (0 - 20 seconds):', style={'description_width': 'initial'},\n",
    "    layout = Layout(width='70%'),\n",
    "    disabled=False,\n",
    "    continuous_update=False,\n",
    "    orientation='horizontal',\n",
    "    readout=True,\n",
    "    readout_format='d'\n",
    ")\n",
    "\n",
    "def out():\n",
    "    return print('Submitted!')\n",
    "display(widget0)\n",
    "\n",
    "hourofci.SubmitBtn2(widget0, out)\n"
   ]
  },
  {
   "cell_type": "markdown",
   "metadata": {
    "slideshow": {
     "slide_type": "fragment"
    }
   },
   "source": [
    "How fast can the field be planted? If you get to control how much, if any, of the field is planted by each person?\n",
    "\n",
    "__TODO__ (learner gets to slide the portions of field for each person)"
   ]
  },
  {
   "cell_type": "code",
   "execution_count": 25,
   "metadata": {
    "hide_input": false,
    "slideshow": {
     "slide_type": "-"
    },
    "tags": [
     "Init",
     "Hide"
    ]
   },
   "outputs": [
    {
     "data": {
      "application/vnd.jupyter.widget-view+json": {
       "model_id": "8900456f9bda402c8820722e44d0d5ac",
       "version_major": 2,
       "version_minor": 0
      },
      "text/plain": [
       "IntSlider(value=1, continuous_update=False, description='Fastest time (0 - 20 seconds):', layout=Layout(width=…"
      ]
     },
     "metadata": {},
     "output_type": "display_data"
    },
    {
     "data": {
      "application/vnd.jupyter.widget-view+json": {
       "model_id": "ce8c212383f0435db03e1bbed95bf539",
       "version_major": 2,
       "version_minor": 0
      },
      "text/plain": [
       "Button(description='Submit', icon='check', layout=Layout(height='auto', width='auto'), style=ButtonStyle())"
      ]
     },
     "metadata": {},
     "output_type": "display_data"
    },
    {
     "data": {
      "application/vnd.jupyter.widget-view+json": {
       "model_id": "1ca6892eb135422e8523763ce11afe2c",
       "version_major": 2,
       "version_minor": 0
      },
      "text/plain": [
       "Output()"
      ]
     },
     "metadata": {},
     "output_type": "display_data"
    }
   ],
   "source": [
    "# TODO: Style the widget better, there's no easy way unfortunately\n",
    "# Add end values, add units ('seconds') to current value, etc.\n",
    "widget1 = widgets.IntSlider(\n",
    "    value=1,\n",
    "    min=0,\n",
    "    max=20,\n",
    "    step=1,\n",
    "    description='Fastest time (0 - 20 seconds):', style={'description_width': 'initial'},\n",
    "    layout = Layout(width='60%'),\n",
    "    disabled=False,\n",
    "    continuous_update=False,\n",
    "    orientation='horizontal',\n",
    "    readout=True,\n",
    "    readout_format='d'\n",
    ")\n",
    "\n",
    "def out():\n",
    "    return print('Submitted!')\n",
    "display(widget1)\n",
    "\n",
    "hourofci.SubmitBtn2(widget1, out)"
   ]
  },
  {
   "cell_type": "code",
   "execution_count": 30,
   "metadata": {
    "init_cell": true,
    "slideshow": {
     "slide_type": "skip"
    }
   },
   "outputs": [
    {
     "data": {
      "text/html": [
       "\n",
       "        <iframe\n",
       "            width=\"850\"\n",
       "            height=\"450\"\n",
       "            src=\"supplementary/field-three.html\"\n",
       "            frameborder=\"0\"\n",
       "            allowfullscreen\n",
       "            \n",
       "        ></iframe>\n",
       "        "
      ],
      "text/plain": [
       "<IPython.lib.display.IFrame at 0x7ff331f16790>"
      ]
     },
     "execution_count": 30,
     "metadata": {},
     "output_type": "execute_result"
    }
   ],
   "source": [
    "IFrame(\"supplementary/field-three.html\", width=\"850\", height=\"450\")"
   ]
  },
  {
   "cell_type": "markdown",
   "metadata": {
    "slideshow": {
     "slide_type": "slide"
    }
   },
   "source": [
    "### Coordination\n",
    "\n",
    "In our first scenario with Parker and Patricia you moved the bar to determine how much work they each had to do. Generally, Parker and Patricia would need to coordinate their efforts. They might talk and say something like: \n",
    "\n",
    "> Meet in the middle? \n",
    "\n",
    "> Sure, sounds good! Then we'll get something to eat at Hip Po Restaurant.\n",
    "\n",
    "That short discussion is usually required for two or more people to coordinate their work. The more workers there are, generally the longer the discussion needed for them to coordinate their work. Notice that they are not working when they are having their conversation. In fact only one of them is talking at a time. The time it takes to coordinate workers such as Parker and Patricia adds to the overall time to complete the task. "
   ]
  },
  {
   "cell_type": "markdown",
   "metadata": {
    "slideshow": {
     "slide_type": "slide"
    }
   },
   "source": [
    "## Coordination\n",
    "<3 imgs: 3 people, ~30 people, ~3,000 people>\n",
    "\n",
    "Which group would take longer to coordinate?\n"
   ]
  },
  {
   "cell_type": "code",
   "execution_count": 26,
   "metadata": {
    "hide_input": true,
    "slideshow": {
     "slide_type": "-"
    },
    "tags": [
     "Init",
     "Hide"
    ]
   },
   "outputs": [
    {
     "data": {
      "application/vnd.jupyter.widget-view+json": {
       "model_id": "4aef4516b042464db2a0938a50ad9c5e",
       "version_major": 2,
       "version_minor": 0
      },
      "text/plain": [
       "RadioButtons(description=' ', layout=Layout(width='100%'), options=(3, 30, 3000), style=DescriptionStyle(descr…"
      ]
     },
     "metadata": {},
     "output_type": "display_data"
    },
    {
     "data": {
      "application/vnd.jupyter.widget-view+json": {
       "model_id": "5c9af922b8444c968a2429e97acd7672",
       "version_major": 2,
       "version_minor": 0
      },
      "text/plain": [
       "Button(description='Submit', icon='check', layout=Layout(height='auto', width='auto'), style=ButtonStyle())"
      ]
     },
     "metadata": {},
     "output_type": "display_data"
    },
    {
     "data": {
      "application/vnd.jupyter.widget-view+json": {
       "model_id": "5969ef302d034463ba1004ecd80caa1d",
       "version_major": 2,
       "version_minor": 0
      },
      "text/plain": [
       "Output()"
      ]
     },
     "metadata": {},
     "output_type": "display_data"
    }
   ],
   "source": [
    "o1=3\n",
    "o2=30\n",
    "o3=3000\n",
    "\n",
    "widget1 = widgets.RadioButtons(\n",
    "    options = [o1, o2, o3],\n",
    "    description = ' ', style={'description_width': 'initial'},\n",
    "    layout = Layout(width='100%'),\n",
    "    value = None\n",
    ")\n",
    "\n",
    "display(widget1)\n",
    "\n",
    "hourofci.SubmitBtn2(widget1)"
   ]
  },
  {
   "cell_type": "markdown",
   "metadata": {
    "slideshow": {
     "slide_type": "slide"
    }
   },
   "source": [
    "## Coordination\n",
    "3,000 people would take longer to coordinate. There are so many people that it would take multiple individuals to get messages out to everyone (a communication cost). Feedback collection from all the individuals would take time to collect and aggregate. Someone would have to do the work of aggregating the responses as a type of coordination. This 'work' would be serial and not happen in parallel (think back to Sam working alone).\n",
    "\n",
    "A group of only 3 people could coordinate with a short conversation and then get moving with no aggregation needed.\n"
   ]
  },
  {
   "cell_type": "markdown",
   "metadata": {
    "slideshow": {
     "slide_type": "slide"
    }
   },
   "source": [
    "## More people == More capabilities\n",
    "More people will require more coordination. However, more people can usually accomplish more work. Universities employ hundreds or thousands of instructors to teach many classes to thousands or tens of thousands of students simultaneously in a single semester. This could not be accomplished with only 3 instructors in the same semester. \n"
   ]
  },
  {
   "cell_type": "markdown",
   "metadata": {
    "slideshow": {
     "slide_type": "slide"
    }
   },
   "source": [
    "## More people == More capabilities\n",
    "\n",
    "<table>\n",
    "    <tr style=\"background: #fff; text-align: left; vertical-align: top;\">\n",
    "        <td style=\"width: 10%; background: #fff; text-align: left; vertical-align: center; font-size:160%;\"> \n",
    "            Supercomputers are specially designed computers that have thousands of processors all connected together using cutting-edge networking technologies. Supercomputers have more capabilities than your personal computer, but also require more coordination to make them compute in parallel.\n",
    "        </td>\n",
    "        <td style=\"width: 10%; background: #fff; text-align: left; vertical-align: top;\"> \n",
    "            <center><img src=\"https://images.unsplash.com/flagged/photo-1579274216947-86eaa4b00475?ixlib=rb-1.2.1&ixid=MnwxMjA3fDB8MHxwaG90by1wYWdlfHx8fGVufDB8fHx8&auto=format&fit=crop&w=927&q=80\" width=\"250\" height=\"250\"></center>\n",
    "        </td>\n",
    "    </tr>\n",
    "</table>"
   ]
  },
  {
   "cell_type": "markdown",
   "metadata": {
    "slideshow": {
     "slide_type": "slide"
    }
   },
   "source": [
    "## There are limits\n",
    "So we learned that more workers will require more coordination (communication and serial computation). We also learned that more workers can accomplish more work (bigger problem size). However, there are limits. Can we always add workers to accomplish more work and/or speed up the work done?\n",
    "\n",
    "What if you have more workers than there is work to do? Will adding even more workers help?\n"
   ]
  },
  {
   "cell_type": "code",
   "execution_count": 27,
   "metadata": {
    "hide_input": false,
    "slideshow": {
     "slide_type": "-"
    },
    "tags": [
     "Init",
     "Hide"
    ]
   },
   "outputs": [
    {
     "data": {
      "application/vnd.jupyter.widget-view+json": {
       "model_id": "49d6e549534044f6af424b0b588c39d7",
       "version_major": 2,
       "version_minor": 0
      },
      "text/plain": [
       "RadioButtons(description=' ', layout=Layout(width='100%'), options=('Yes', 'No'), style=DescriptionStyle(descr…"
      ]
     },
     "metadata": {},
     "output_type": "display_data"
    },
    {
     "data": {
      "application/vnd.jupyter.widget-view+json": {
       "model_id": "3f31e2cf56374f1fa5583447dc26d918",
       "version_major": 2,
       "version_minor": 0
      },
      "text/plain": [
       "Button(description='Submit', icon='check', layout=Layout(height='auto', width='auto'), style=ButtonStyle())"
      ]
     },
     "metadata": {},
     "output_type": "display_data"
    },
    {
     "data": {
      "application/vnd.jupyter.widget-view+json": {
       "model_id": "c51acba6fd624caebb3714bd661b2cff",
       "version_major": 2,
       "version_minor": 0
      },
      "text/plain": [
       "Output()"
      ]
     },
     "metadata": {},
     "output_type": "display_data"
    }
   ],
   "source": [
    "o12=\"Yes\"\n",
    "o22=\"No\"\n",
    "\n",
    "widget12 = widgets.RadioButtons(\n",
    "    options = [o12, o22],\n",
    "    description = ' ', style={'description_width': 'initial'},\n",
    "    layout = Layout(width='100%'),\n",
    "    value = None\n",
    ")\n",
    "\n",
    "display(widget12)\n",
    "\n",
    "hourofci.SubmitBtn2(widget12)"
   ]
  },
  {
   "cell_type": "markdown",
   "metadata": {
    "slideshow": {
     "slide_type": "slide"
    }
   },
   "source": [
    "## There are limits\n",
    "No, adding more workers doesn't always help. This is sometimes referred to as \"Too many cooks in the kitchen.\" In even a large kitchen if you continue adding people to help cook, eventually people start getting in the way, there is too much talking, and there are not enough tasks (e.g., cutting vegetables, mixing ingredients) for all the people to do.\n"
   ]
  },
  {
   "cell_type": "markdown",
   "metadata": {
    "slideshow": {
     "slide_type": "slide"
    }
   },
   "source": [
    "## Amdahl's Law\n",
    "Now let's formalize this scenario by introducing a law. **Amdahl's Law** establishes a theoretical speedup for a given problem based on the percentage of work that can be parallelized *(p)* and the remaining percentage of the work that must be done serially *(1-p)*.\n",
    "\n",
    "Amdahl's Law tells us that even if we have an unlimited number of cooks, we can only speedup cooking so much.\n"
   ]
  },
  {
   "cell_type": "markdown",
   "metadata": {
    "slideshow": {
     "slide_type": "slide"
    }
   },
   "source": [
    "## Amdahl's Law\n",
    "\n",
    "$$\n",
    "S(n) = \\frac{1}{(1 - p) + (\\frac{p}{n})}\n",
    "$$\n",
    "\n",
    "\n",
    "n = number of workers <br/>\n",
    "p = percentage of parallel work<br/>\n",
    "(1 - p) = percentage of serial work<br/>\n",
    "\n",
    "What this equation shows that as we have infinite workers then p/n goes to 0. This means the percentage of serial work limits the amount of speedup of our problem:\n",
    "\n",
    "$$\n",
    "\\frac{1}{(1 - p)}\n",
    "$$\n"
   ]
  },
  {
   "cell_type": "markdown",
   "metadata": {
    "slideshow": {
     "slide_type": "slide"
    }
   },
   "source": [
    "## Back to the farm\n",
    "If Sam is responsible for planting only 10% of a field and we have thousands of other farmers that can work perfectly in parallel to plant the rest of the field. Theoretically, how much faster can the field get planted compared to only Sam planting the field one seed at a time? (Hint: Amdahl's Law might help here …)\n"
   ]
  },
  {
   "cell_type": "code",
   "execution_count": 28,
   "metadata": {
    "hide_input": false,
    "slideshow": {
     "slide_type": "-"
    },
    "tags": [
     "Init",
     "Hide"
    ]
   },
   "outputs": [
    {
     "data": {
      "application/vnd.jupyter.widget-view+json": {
       "model_id": "e43c439b88574f4f823b7c2c6174ec50",
       "version_major": 2,
       "version_minor": 0
      },
      "text/plain": [
       "RadioButtons(description=' ', layout=Layout(width='100%'), options=('5 times faster', '10 times faster', '50 t…"
      ]
     },
     "metadata": {},
     "output_type": "display_data"
    },
    {
     "data": {
      "application/vnd.jupyter.widget-view+json": {
       "model_id": "37611d733d2b47639baad096fd85fdad",
       "version_major": 2,
       "version_minor": 0
      },
      "text/plain": [
       "Button(description='Submit', icon='check', layout=Layout(height='auto', width='auto'), style=ButtonStyle())"
      ]
     },
     "metadata": {},
     "output_type": "display_data"
    },
    {
     "data": {
      "application/vnd.jupyter.widget-view+json": {
       "model_id": "1203deb39a2d4572a9b80e9d2315dc08",
       "version_major": 2,
       "version_minor": 0
      },
      "text/plain": [
       "Output()"
      ]
     },
     "metadata": {},
     "output_type": "display_data"
    }
   ],
   "source": [
    "o13=\"5 times faster\"\n",
    "o23=\"10 times faster\"\n",
    "o33=\"50 times faster\"\n",
    "o43=\"100 times faster\"\n",
    "\n",
    "widget13 = widgets.RadioButtons(\n",
    "    options = [o13, o23, o33, o43],\n",
    "    description = ' ', style={'description_width': 'initial'},\n",
    "    layout = Layout(width='100%'),\n",
    "    value = None\n",
    ")\n",
    "\n",
    "display(widget13)\n",
    "\n",
    "hourofci.SubmitBtn2(widget13)"
   ]
  },
  {
   "cell_type": "markdown",
   "metadata": {
    "slideshow": {
     "slide_type": "slide"
    }
   },
   "source": [
    "## Back to the farm\n",
    "We are limited to only 10 times faster execution if only 90% of the problem can be solved in parallel. We are limited to 20 times faster if only 95% of the problem can be solved in parallel. Now, we must also think about tackling bigger problems. If you have more workers you can farm more fields than just one. Keep that in mind in the future!\n"
   ]
  },
  {
   "cell_type": "markdown",
   "metadata": {
    "slideshow": {
     "slide_type": "slide"
    }
   },
   "source": [
    "<b>Continue the journey: </b><br><br>\n",
    "\n",
    "\n",
    "<font size=\"+1\"><a style=\"background-color:blue;color:white;padding:12px;margin:10px;font-weight:bold;\" href=\"pc-4.ipynb\">Click here to go to the next notebook.</a></font>"
   ]
  }
 ],
 "metadata": {
  "celltoolbar": "Slideshow",
  "kernelspec": {
   "display_name": "Python 3",
   "language": "python",
   "name": "python3"
  },
  "language_info": {
   "codemirror_mode": {
    "name": "ipython",
    "version": 3
   },
   "file_extension": ".py",
   "mimetype": "text/x-python",
   "name": "python",
   "nbconvert_exporter": "python",
   "pygments_lexer": "ipython3",
   "version": "3.8.1"
  },
  "rise": {
   "autolaunch": true
  },
  "widgets": {
   "application/vnd.jupyter.widget-state+json": {
    "state": {
     "125fe231a8c2450abf1505b8e1e81c70": {
      "model_module": "@jupyter-widgets/controls",
      "model_module_version": "1.5.0",
      "model_name": "IntSliderModel",
      "state": {
       "continuous_update": false,
       "description": "(WIP WIDGET - SEE CELL COMMENTS) Fastest time (0s - 20s):",
       "layout": "IPY_MODEL_bef73cb497024ba783efc2b2daddba0c",
       "max": 20,
       "style": "IPY_MODEL_9424a52da9044c3c860ed7109db3df1f",
       "value": 10
      }
     },
     "1424441e80a74c00b8674bb9fdff504b": {
      "model_module": "@jupyter-widgets/controls",
      "model_module_version": "1.5.0",
      "model_name": "IntSliderModel",
      "state": {
       "continuous_update": false,
       "description": "(WIP WIDGET - SEE CELL COMMENTS) Fastest time divided evenly (0s - 20s):",
       "layout": "IPY_MODEL_ce97f390686445b9a69a0bf5cb9ea19d",
       "max": 20,
       "style": "IPY_MODEL_2be830d68d8e4d009a03a6be0c210ff5",
       "value": 10
      }
     },
     "2be830d68d8e4d009a03a6be0c210ff5": {
      "model_module": "@jupyter-widgets/controls",
      "model_module_version": "1.5.0",
      "model_name": "SliderStyleModel",
      "state": {
       "description_width": "initial"
      }
     },
     "3ae63a0b323948ae99976856544966fc": {
      "model_module": "@jupyter-widgets/controls",
      "model_module_version": "1.5.0",
      "model_name": "IntSliderModel",
      "state": {
       "continuous_update": false,
       "description": "(WIP WIDGET - SEE CELL COMMENTS) Fastest time (0s - 20s):",
       "layout": "IPY_MODEL_48a2fb71529b4c1eac1db0a0066ed046",
       "max": 20,
       "style": "IPY_MODEL_a3a5de4bc704448a8a7ce83323a4c47c",
       "value": 10
      }
     },
     "3c48d6413a484185a443a852876f0ac4": {
      "model_module": "@jupyter-widgets/controls",
      "model_module_version": "1.5.0",
      "model_name": "IntSliderModel",
      "state": {
       "continuous_update": false,
       "description": "(WIP WIDGET - SEE CELL COMMENTS) Fastest time divided evenly (0s - 20s):",
       "layout": "IPY_MODEL_ad9cb1b9672545228740c28f62392dd6",
       "max": 20,
       "style": "IPY_MODEL_73d99d822b7645eda077a096cf6ff409",
       "value": 10
      }
     },
     "403620d29c7149c29309501ff2e1f097": {
      "model_module": "@jupyter-widgets/controls",
      "model_module_version": "1.5.0",
      "model_name": "IntSliderModel",
      "state": {
       "continuous_update": false,
       "description": "(WIP WIDGET - SEE CELL COMMENTS) Fastest time divided evenly (0s - 20s):",
       "layout": "IPY_MODEL_7d379205d54e4d7ab088a3f014b31517",
       "max": 20,
       "style": "IPY_MODEL_80cab8b843014ad0a3f598893f67b0c9",
       "value": 10
      }
     },
     "48a2fb71529b4c1eac1db0a0066ed046": {
      "model_module": "@jupyter-widgets/base",
      "model_module_version": "1.2.0",
      "model_name": "LayoutModel",
      "state": {
       "width": "70%"
      }
     },
     "6f374b638bc3450c9ee621e55cb13025": {
      "model_module": "@jupyter-widgets/controls",
      "model_module_version": "1.5.0",
      "model_name": "IntSliderModel",
      "state": {
       "continuous_update": false,
       "description": "(WIP WIDGET - SEE CELL COMMENTS) Fastest time (0s - 20s):",
       "layout": "IPY_MODEL_713581704a6642348fdaeee1903f3201",
       "max": 20,
       "style": "IPY_MODEL_831da69c78354d51ac1c9923d91796c4",
       "value": 10
      }
     },
     "713581704a6642348fdaeee1903f3201": {
      "model_module": "@jupyter-widgets/base",
      "model_module_version": "1.2.0",
      "model_name": "LayoutModel",
      "state": {
       "width": "60%"
      }
     },
     "73d99d822b7645eda077a096cf6ff409": {
      "model_module": "@jupyter-widgets/controls",
      "model_module_version": "1.5.0",
      "model_name": "SliderStyleModel",
      "state": {
       "description_width": "initial"
      }
     },
     "7d379205d54e4d7ab088a3f014b31517": {
      "model_module": "@jupyter-widgets/base",
      "model_module_version": "1.2.0",
      "model_name": "LayoutModel",
      "state": {
       "width": "70%"
      }
     },
     "80cab8b843014ad0a3f598893f67b0c9": {
      "model_module": "@jupyter-widgets/controls",
      "model_module_version": "1.5.0",
      "model_name": "SliderStyleModel",
      "state": {
       "description_width": "initial"
      }
     },
     "831da69c78354d51ac1c9923d91796c4": {
      "model_module": "@jupyter-widgets/controls",
      "model_module_version": "1.5.0",
      "model_name": "SliderStyleModel",
      "state": {
       "description_width": "initial"
      }
     },
     "887bbc6c30d3486fba857a15e7e84586": {
      "model_module": "@jupyter-widgets/base",
      "model_module_version": "1.2.0",
      "model_name": "LayoutModel",
      "state": {
       "width": "80%"
      }
     },
     "9424a52da9044c3c860ed7109db3df1f": {
      "model_module": "@jupyter-widgets/controls",
      "model_module_version": "1.5.0",
      "model_name": "SliderStyleModel",
      "state": {
       "description_width": "initial"
      }
     },
     "a3a5de4bc704448a8a7ce83323a4c47c": {
      "model_module": "@jupyter-widgets/controls",
      "model_module_version": "1.5.0",
      "model_name": "SliderStyleModel",
      "state": {
       "description_width": "initial"
      }
     },
     "ad9cb1b9672545228740c28f62392dd6": {
      "model_module": "@jupyter-widgets/base",
      "model_module_version": "1.2.0",
      "model_name": "LayoutModel",
      "state": {
       "width": "60%"
      }
     },
     "b12f2704e82b4806aaac01a4a11637c0": {
      "model_module": "@jupyter-widgets/controls",
      "model_module_version": "1.5.0",
      "model_name": "SliderStyleModel",
      "state": {
       "description_width": "initial"
      }
     },
     "bef73cb497024ba783efc2b2daddba0c": {
      "model_module": "@jupyter-widgets/base",
      "model_module_version": "1.2.0",
      "model_name": "LayoutModel",
      "state": {
       "width": "60%"
      }
     },
     "bfb18789c4154be4b3e6a429fc759f52": {
      "model_module": "@jupyter-widgets/controls",
      "model_module_version": "1.5.0",
      "model_name": "IntSliderModel",
      "state": {
       "continuous_update": false,
       "description": "(WIP WIDGET - SEE CELL COMMENTS) Fastest time divided evenly (0s - 20s):",
       "layout": "IPY_MODEL_887bbc6c30d3486fba857a15e7e84586",
       "max": 20,
       "style": "IPY_MODEL_b12f2704e82b4806aaac01a4a11637c0",
       "value": 10
      }
     },
     "ce97f390686445b9a69a0bf5cb9ea19d": {
      "model_module": "@jupyter-widgets/base",
      "model_module_version": "1.2.0",
      "model_name": "LayoutModel",
      "state": {
       "width": "70%"
      }
     }
    },
    "version_major": 2,
    "version_minor": 0
   }
  }
 },
 "nbformat": 4,
 "nbformat_minor": 2
}
