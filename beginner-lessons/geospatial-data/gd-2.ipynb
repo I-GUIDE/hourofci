{
 "cells": [
  {
   "cell_type": "markdown",
   "metadata": {
    "slideshow": {
     "slide_type": "slide"
    }
   },
   "source": [
    "# Introduction to Geospatial Data\n",
    "\n",
    "## Segment 1 of 5\n",
    "\n",
    "<i>Lesson Developers: </i>\n",
    "<ul>\n",
    "    <li>\n",
    "    <i>Coline Dony cdony@aag.org</i>\n",
    "    </li>\n",
    "    <li>\n",
    "    <i>Karen Kemp  kakemp@usc.edu</i>\n",
    "    </li>\n",
    "</ul>\n",
    "\n"
   ]
  },
  {
   "cell_type": "markdown",
   "metadata": {
    "slideshow": {
     "slide_type": "slide"
    }
   },
   "source": [
    "Geospatial data are all around you and you use it all the time. \n",
    "<table>\n",
    "    <tr style=\"background: #fff; text-align: left; vertical-align: top;\">\n",
    "        <td style=\"width: 15%; background: #fff; text-align: left; vertical-align: top;\">Does this look familiar?</td>\n",
    "        <td style=\"width: 20%; background: #fff; text-align: left; vertical-align: top;\"> <img src='supplementary/Google_map_sm.png' alt='map'></td>\n",
    "        <td style=\"background: #fff; text-align: left; \">In your mobile Google map app, when you ask for a route between two places, lots of different kinds of geospatial data are used.<br><br>Let's find out what's special about geospatial data.</td>\n",
    "    </tr>\n",
    "</table>"
   ]
  },
  {
   "cell_type": "markdown",
   "metadata": {
    "slideshow": {
     "slide_type": "slide"
    }
   },
   "source": [
    "This lesson will give you an introduction to Geospatial Data. \n",
    "\n",
    "When you have successfully completed this lesson, you will be able to:\n",
    "1. Explain what is special about geospatial data.\n",
    "2. Describe how location can be measured and recorded in geospatial data.\n",
    "3. Explain the difference between raster and vector data.\n",
    "4. Identify several different types of geospatial data.\n",
    "5. Load and view different kinds of geospatial data in Python Notebooks\n",
    "\n"
   ]
  },
  {
   "cell_type": "markdown",
   "metadata": {
    "slideshow": {
     "slide_type": "slide"
    }
   },
   "source": [
    "## What is Geospatial Data? \n",
    "\n",
    "Quite simply, it's any data that has a *geographic reference.*\n",
    "\n",
    "Here are some examples...\n",
    "\n",
    "\n"
   ]
  },
  {
   "cell_type": "markdown",
   "metadata": {
    "slideshow": {
     "slide_type": "slide"
    }
   },
   "source": [
    "Maps are the original form of geospatial data. \n",
    "\n",
    "<table>\n",
    "    <tr style=\"background: #fff\">\n",
    "        <td width=40%> <img src='supplementary/HK_topo_crop.png' alt='HK topo map'></td>\n",
    "        <td style=\"text-align: left; vertical-align: top;\">They are a very efficient storage medium, but not everything can be represented on a map.<br><br>And it is difficult to use them for complex computations.</td>\n",
    "    </tr>\n",
    "</table>"
   ]
  },
  {
   "cell_type": "markdown",
   "metadata": {
    "slideshow": {
     "slide_type": "slide"
    }
   },
   "source": [
    "Here is a table collected by a soil scientist who was doing field sampling aided by a GPS device.\n",
    "<table>\n",
    "    <tr style=\"background: #fff\">\n",
    "        <td width=50%> <img src='supplementary/table1.png' alt='A table of field samples'></td>\n",
    "        <td style=\"text-align: left; vertical-align: top;\">If you don't have the map of the plot locations, which of these column(s) tell you where these samples were collected?</td>\n",
    "    </tr>\n",
    "</table>"
   ]
  },
  {
   "cell_type": "markdown",
   "metadata": {
    "slideshow": {
     "slide_type": "slide"
    }
   },
   "source": [
    "Right!\n",
    "\n",
    "![GPS Grid](supplementary/gps_grid.png \"GPS Grid\")"
   ]
  },
  {
   "cell_type": "markdown",
   "metadata": {
    "slideshow": {
     "slide_type": "slide"
    }
   },
   "source": [
    "Here is a table of census data. Each row is data about a particular census tract.\n",
    "<table>\n",
    "    <tr style=\"background: #fff\">\n",
    "        <td width=70%><img src='supplementary/table2.png' alt='Table of census data'></a></td>\n",
    "        <td style=\"text-align: left; vertical-align: top;\">Which column contains the geographic reference here?</td>\n",
    "    </tr>\n",
    "</table>"
   ]
  },
  {
   "cell_type": "markdown",
   "metadata": {
    "slideshow": {
     "slide_type": "slide"
    }
   },
   "source": [
    "Does it help to have the associated map? \n",
    "\n",
    "![The Island](supplementary/island.png \"The Island\")\n",
    "\n",
    "Here you can see the first column contains US Census Tracts [(read more here).](https://www.census.gov/geographies/reference-maps/2010/geo/2010-census-tract-maps.html)"
   ]
  },
  {
   "cell_type": "markdown",
   "metadata": {
    "slideshow": {
     "slide_type": "slide"
    }
   },
   "source": [
    "## Geospatial data comes in many forms, including\n",
    "\n",
    "- Maps of all kinds       \n",
    "- Tables of data with one or more columns referencing a location  \n",
    "- Restaurant listings with addresses\n",
    "    - *Sam Choy's Kai Lanai Restaurant, 78-6831 Alii Dr #1000, in Keauhou Shopping Center*\n",
    "- Tweets with a location tag.\n",
    "\n",
    "Can you name some more?\n"
   ]
  },
  {
   "cell_type": "markdown",
   "metadata": {
    "slideshow": {
     "slide_type": "slide"
    }
   },
   "source": [
    "# Geospatial data\n",
    "\n",
    "- is any data about a geographic location\n",
    "- is any data that has a geographic reference\n",
    "\n",
    "Think about all the data you come into contact with daily. How much of it has geographic references?"
   ]
  },
  {
   "cell_type": "markdown",
   "metadata": {
    "slideshow": {
     "slide_type": "slide"
    }
   },
   "source": [
    "# Let's load up some geospatial data!\n",
    "Open this notebook and run each of the code chunks sequentially by clicking the arrow beside the code chunk. \n",
    "\n",
    "<a href=\"gd-example_1.ipynb\">A first chance to load and display geospatial data.</a>"
   ]
  }
 ],
 "metadata": {
  "celltoolbar": "Slideshow",
  "kernelspec": {
   "display_name": "I-GUIDE EWD",
   "language": "python",
   "name": "conda-env-iguide-ewd-py"
  },
  "language_info": {
   "codemirror_mode": {
    "name": "ipython",
    "version": 3
   },
   "file_extension": ".py",
   "mimetype": "text/x-python",
   "name": "python",
   "nbconvert_exporter": "python",
   "pygments_lexer": "ipython3",
   "version": "3.7.16"
  },
  "rise": {
   "autolaunch": true,
   "overlay": "<div class='hciheader'></div><div class='hcifooter'></div>",
   "scroll": true
  }
 },
 "nbformat": 4,
 "nbformat_minor": 4
}
