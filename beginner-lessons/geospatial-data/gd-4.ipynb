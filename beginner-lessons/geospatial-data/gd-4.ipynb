{
 "cells": [
  {
   "cell_type": "code",
   "execution_count": null,
   "metadata": {
    "hide_input": true,
    "init_cell": true,
    "slideshow": {
     "slide_type": "skip"
    },
    "tags": [
     "Hide"
    ]
   },
   "outputs": [],
   "source": [
    "# This code cell starts the necessary setup for Hour of CI lesson notebooks.\n",
    "# First, it enables users to hide and unhide code by producing a 'Toggle raw code' button below.\n",
    "# Second, it imports the hourofci package, which is necessary for lessons and interactive Jupyter Widgets.\n",
    "# Third, it helps hide/control other aspects of Jupyter Notebooks to improve the user experience\n",
    "# This is an initialization cell\n",
    "# It is not displayed because the Slide Type is 'Skip'\n",
    "\n",
    "from IPython.display import HTML, IFrame, Javascript, display, Markdown\n",
    "from ipywidgets import interactive\n",
    "import ipywidgets as widgets\n",
    "from ipywidgets import Layout\n",
    "\n",
    "import getpass # This library allows us to get the username (User agent string)\n",
    "\n",
    "# import package for hourofci project\n",
    "import sys\n",
    "sys.path.append('../../supplementary') # relative path (may change depending on the location of the lesson notebook)\n",
    "import hourofci\n",
    "\n",
    "# load javascript to initialize/hide cells, get user agent string, and hide output indicator\n",
    "# hide code by introducing a toggle button \"Toggle raw code\"\n",
    "HTML(''' \n",
    "    <script type=\"text/javascript\" src=\\\"../../supplementary/js/custom.js\\\"></script>\n",
    "    \n",
    "    <style>\n",
    "        .output_prompt{opacity:0;}\n",
    "    </style>\n",
    "    \n",
    "    <input id=\"toggle_code\" type=\"button\" value=\"Toggle raw code\">\n",
    "''')"
   ]
  },
  {
   "cell_type": "markdown",
   "metadata": {
    "slideshow": {
     "slide_type": "slide"
    }
   },
   "source": [
    "# Introduction to Geospatial Data\n",
    "\n",
    "## Segment 3 of 5\n",
    "\n",
    "# Exploring Direct Georeferencing\n",
    "\n",
    "<i>Lesson Developers: </i>\n",
    "<ul>\n",
    "    <li>\n",
    "    <i>Coline Dony cdony@aag.org</i>\n",
    "    </li>\n",
    "    <li>\n",
    "    <i>Karen Kemp  kakemp@usc.edu</i>\n",
    "    </li>\n",
    "</ul>"
   ]
  },
  {
   "cell_type": "code",
   "execution_count": null,
   "metadata": {
    "hide_input": false,
    "slideshow": {
     "slide_type": "slide"
    },
    "tags": [
     "Hide",
     "Init"
    ]
   },
   "outputs": [],
   "source": [
    "display(Markdown('''## Let’s try using descriptions to identify location.\\nDrag each symbol to its correct location as shown in the table.'''))\n",
    "\n",
    "IFrame(\"supplementary/grid-1.html\", width=970, height=530)"
   ]
  },
  {
   "cell_type": "code",
   "execution_count": null,
   "metadata": {
    "hide_input": false,
    "slideshow": {
     "slide_type": "slide"
    },
    "tags": [
     "Hide",
     "Init"
    ]
   },
   "outputs": [],
   "source": [
    "display(Markdown('''### Let's use numeric coordinates this time.\\nDrag each symbol to its correct location as shown in the table. This may be a little less easy, but use the same thinking as before!'''))\n",
    "\n",
    "IFrame(\"supplementary/grid-2.html\", width=970, height=530)"
   ]
  },
  {
   "cell_type": "code",
   "execution_count": null,
   "metadata": {
    "hide_input": false,
    "slideshow": {
     "slide_type": "slide"
    },
    "tags": [
     "Hide",
     "Init"
    ]
   },
   "outputs": [],
   "source": [
    "display(Markdown('''\n",
    "### Coordinate systems are everywhere\\n\n",
    "They are used to label the location of things, so that we can find them again.\\n\n",
    "This dresser, for example, has a coordinate system!\\n\n",
    "- Your stuffed hippo is in the lower right drawer, go get it!\\n\n",
    "- Stuffed hippo **coordinates**: (lower, right drawer)\\n\n",
    "'''))\n",
    "\n",
    "IFrame(\"supplementary/dresser.html\", width=620, height=630)"
   ]
  },
  {
   "cell_type": "code",
   "execution_count": null,
   "metadata": {
    "hide_input": false,
    "slideshow": {
     "slide_type": "slide"
    },
    "tags": [
     "Hide",
     "Init"
    ]
   },
   "outputs": [],
   "source": [
    "display(Markdown('''\n",
    "This library too, has a coordinate system!\\n\n",
    "- The book about hippos you want to read is in aisle 1A on the upper shelf. Go get it!\\n\n",
    "- Hippo book **coordinates**: (1A aisle, upper shelf)\\n\n",
    "'''))\n",
    "\n",
    "IFrame(\"supplementary/bookshelf.html\", width=620, height=430)"
   ]
  },
  {
   "cell_type": "markdown",
   "metadata": {
    "slideshow": {
     "slide_type": "slide"
    }
   },
   "source": [
    "Some **coordinate systems** are used so frequently that they are given dedicated names.\n",
    "\n",
    "The **“Cartesian” coordinate system**, for example, was thought of by René Descartes. You learned about this in your math classes in grade school.\n",
    "\n",
    "### Let’s try using the Cartesian coordinate system to draw a trajectory (path)."
   ]
  },
  {
   "cell_type": "code",
   "execution_count": null,
   "metadata": {
    "hide_input": false,
    "slideshow": {
     "slide_type": "slide"
    },
    "tags": [
     "Hide",
     "Init"
    ]
   },
   "outputs": [],
   "source": [
    "display(Markdown('''\n",
    "### Someone recorded the path of the hippo across this map.\\n\n",
    "Use the Cartesian coordinate system to draw the trajectory (path) of the hippo.\\n\n",
    "- The hippo's trajectory coordinates are: `[(-4,6), (0,5), (3,-2)]`\\n\n",
    "'''))\n",
    "\n",
    "IFrame(\"supplementary/cartesian.html\", width=620, height=540)"
   ]
  },
  {
   "cell_type": "markdown",
   "metadata": {
    "slideshow": {
     "slide_type": "slide"
    }
   },
   "source": [
    "## <center> But the earth is a sphere!\n",
    "<center><img src='supplementary/globe.jpg' alt='globe' style=\"width:300px;\"> \n",
    "<small>Photo by <a href=\"https://unsplash.com/@bill_oxford\">Bill Oxford</a> on <a href=\"https://unsplash.com/s/photos/globe\">Unsplash</a></small>"
   ]
  },
  {
   "cell_type": "markdown",
   "metadata": {
    "slideshow": {
     "slide_type": "slide"
    }
   },
   "source": [
    "In order to find coordinates on the spherical earth we use an <i>angular</i> measurement system that produces the coordinates *latitude and longitude*. \n",
    "<table>\n",
    "    <tr style=\"background: #fff; text-align: left;\">\n",
    "        <td><img src='supplementary/globelatlong.jfif' alt='Latitude and Longitude'></td> \n",
    "        <td style=\"text-align: left;\"><large>Latitude is the angle north or south of the plane of the equator.<br><br>Longitude is the angle east and west of a standard meridian (a line running pole to pole).</td>\n",
    "    </tr>\n",
    "</table>\n",
    "\n",
    "<small>Image source <a href=\"https://openstax.org/details/books/calculus-volume-3\">openstax</a></small>"
   ]
  },
  {
   "cell_type": "markdown",
   "metadata": {
    "slideshow": {
     "slide_type": "slide"
    },
    "variables": {
     "IFrame(\"supplementary/geodetic.html\", width=650, height=530)": {}
    }
   },
   "source": [
    "This map shows the World Geodetic System (WGS for short). It is the coordinate system used to locate things on the Earth. It is what you get when you ask for coordinates in Google Maps and often what you get from a GPS.\n",
    "<table>\n",
    "    <tr style=\"background: #fff\">\n",
    "        <td width=60%> {{IFrame(\"supplementary/geodetic.html\", width=650, height=530)}}</td>\n",
    "        <td style=\"text-align: left;\"><large>The first number in WGS coordinates is the <i>latitude</i> - measured north and south from the equator.<br><br>The second number in WGS coordinates is the <i>longitude</i> - measured east and west from the prime meridian (runs through Greenwich England).</td>\n",
    "    </tr>\n",
    "</table>"
   ]
  },
  {
   "cell_type": "code",
   "execution_count": null,
   "metadata": {
    "hide_input": false,
    "slideshow": {
     "slide_type": "slide"
    },
    "tags": [
     "Hide",
     "Init"
    ]
   },
   "outputs": [],
   "source": [
    "display(Markdown('''\n",
    "### Find the location of hippos on this world map!\\n\n",
    "\n",
    "- There is a hippo family at coordinates (30°E, 15°N). Click on that location.<p> \\n\n",
    "'''))\n",
    "\n",
    "IFrame(\"supplementary/geodetic.html\", width=980, height=530)"
   ]
  },
  {
   "cell_type": "markdown",
   "metadata": {
    "slideshow": {
     "slide_type": "slide"
    }
   },
   "source": [
    "Now, let's look at the geographic references in that cities data again.<p>\n",
    "On the next slide, remember to click the arrow left of the code chunk to run it. "
   ]
  },
  {
   "cell_type": "code",
   "execution_count": null,
   "metadata": {
    "hide_input": true,
    "slideshow": {
     "slide_type": "skip"
    },
    "tags": [
     "Hide",
     "Init"
    ]
   },
   "outputs": [],
   "source": [
    "!wget https://www.naturalearthdata.com/http//www.naturalearthdata.com/download/110m/cultural/ne_110m_populated_places_simple.zip --quiet\n",
    "!python -c \"import zipfile; zipfile.ZipFile('ne_110m_populated_places_simple.zip', 'r').extractall()\"\n"
   ]
  },
  {
   "cell_type": "code",
   "execution_count": null,
   "metadata": {
    "scrolled": true,
    "slideshow": {
     "slide_type": "slide"
    },
    "tags": []
   },
   "outputs": [],
   "source": [
    "import geopandas\n",
    "cities = geopandas.read_file(\"ne_110m_populated_places_simple.shp\")\n",
    "cities.head()\n",
    "#this will take a while so be patient. Wait for the asterisk to change to a number."
   ]
  },
  {
   "cell_type": "markdown",
   "metadata": {
    "slideshow": {
     "slide_type": "slide"
    }
   },
   "source": [
    "Back in that table, in the first row, rightmost column, you'll see that Vatican City is listed with the point geometry (12.45339 41.90328).<p>\n",
    "<small><i>Hint: To go back one slide, click the '<' symbol in the bottom right.</i></small><p>\n",
    "This is 12.45 degrees east of the prime meridian (E longitude) and 41.90 degrees north of the equator (N latitude). Thus the Vatican is a city in the middle of Europe.<p>\n",
    "<font color = red>HOWEVER, and this is IMPORTANT!</font> We usually would state its WGS coordinate as<br>(41.9 N, 12.45 E), stating the latitude value first.<br><p><p>\n",
    "While we commonly say WGS coodinates as the pair (lat long), when we record a geometric coordinate, we always state the horizontal distance before the vertical distance. That's why the table shows the location as (12.45339 41.90328)."
   ]
  },
  {
   "cell_type": "markdown",
   "metadata": {
    "slideshow": {
     "slide_type": "slide"
    }
   },
   "source": [
    "## Assessment"
   ]
  },
  {
   "cell_type": "markdown",
   "metadata": {
    "slideshow": {
     "slide_type": "-"
    }
   },
   "source": [
    "Now, look at the geometry for Lobamba (4th row in the table two slides back). Answer the following questions.\n",
    "\n",
    "What is the longitude? (first number, report only the full number before decimal)"
   ]
  },
  {
   "cell_type": "code",
   "execution_count": null,
   "metadata": {
    "hide_input": true,
    "tags": [
     "Hide",
     "Init"
    ]
   },
   "outputs": [],
   "source": [
    "text1 = widgets.Text(placeholder='Type your answer here...')\n",
    "# Display widget\n",
    "display(text1)\n",
    "\n",
    "# Output function\n",
    "def out1():\n",
    "    print(\"The correct answer is 31.\")\n",
    "    \n",
    "# Submit button\n",
    "# hourofci.SubmitBtn(user_agent, lesson, lesson_level, \"4H\", text1, out1)\n",
    "hourofci.SubmitBtn2(text1, out1)"
   ]
  },
  {
   "cell_type": "markdown",
   "metadata": {
    "slideshow": {
     "slide_type": "-"
    }
   },
   "source": [
    "What is the latitude? (second number, report only the full number)"
   ]
  },
  {
   "cell_type": "code",
   "execution_count": null,
   "metadata": {
    "hide_input": true,
    "tags": [
     "Hide",
     "Init"
    ]
   },
   "outputs": [],
   "source": [
    "text2 = widgets.Text(placeholder='Type your answer here...')\n",
    "# Display widget\n",
    "display(text2)\n",
    "\n",
    "# Output function\n",
    "def out2():\n",
    "    print(\"The correct answer is -26.\\n\")\n",
    "    print(\"The negative latitude value indicates a location south of the equator.\")\n",
    "    \n",
    "# Submit button\n",
    "# hourofci.SubmitBtn(user_agent, lesson, lesson_level, \"4I\", text2, out2)\n",
    "hourofci.SubmitBtn2(text2, out2)"
   ]
  },
  {
   "cell_type": "markdown",
   "metadata": {
    "slideshow": {
     "slide_type": "-"
    }
   },
   "source": [
    "What continent is this city on?"
   ]
  },
  {
   "cell_type": "code",
   "execution_count": null,
   "metadata": {
    "hide_input": true,
    "tags": [
     "Hide",
     "Init"
    ]
   },
   "outputs": [],
   "source": [
    "text3 = widgets.Text(placeholder='Type your answer here...')\n",
    "# Display widget\n",
    "display(text3)\n",
    "\n",
    "# Output function\n",
    "def out3():\n",
    "    print(\"The correct answer is Africa.\")\n",
    "    \n",
    "# Submit button\n",
    "# hourofci.SubmitBtn(user_agent, lesson, lesson_level, \"4J\", text3, out3)\n",
    "hourofci.SubmitBtn2(text3, out3)"
   ]
  },
  {
   "cell_type": "markdown",
   "metadata": {
    "slideshow": {
     "slide_type": "slide"
    }
   },
   "source": [
    "Ok, you've mastered direct georeferencing - identifing the location of anything using a coordinate system. \n",
    "\n",
    "Let's take a look at indirect georeferencing next.\n",
    "\n",
    "<a href=\"gd-5.ipynb\">Click here to move on.</a>"
   ]
  }
 ],
 "metadata": {
  "celltoolbar": "Edit Metadata",
  "kernelspec": {
   "display_name": "Python [conda env:iguide-ewd]",
   "language": "python",
   "name": "conda-env-iguide-ewd-py"
  },
  "language_info": {
   "codemirror_mode": {
    "name": "ipython",
    "version": 3
   },
   "file_extension": ".py",
   "mimetype": "text/x-python",
   "name": "python",
   "nbconvert_exporter": "python",
   "pygments_lexer": "ipython3",
   "version": "3.10.11"
  },
  "rise": {
   "autolaunch": true,
   "overlay": "<div class='hciheader'></div><div class='hcifooter'></div>",
   "scroll": true
  },
  "varInspector": {
   "cols": {
    "lenName": 16,
    "lenType": 16,
    "lenVar": 40
   },
   "kernels_config": {
    "python": {
     "delete_cmd_postfix": "",
     "delete_cmd_prefix": "del ",
     "library": "var_list.py",
     "varRefreshCmd": "print(var_dic_list())"
    },
    "r": {
     "delete_cmd_postfix": ") ",
     "delete_cmd_prefix": "rm(",
     "library": "var_list.r",
     "varRefreshCmd": "cat(var_dic_list()) "
    }
   },
   "types_to_exclude": [
    "module",
    "function",
    "builtin_function_or_method",
    "instance",
    "_Feature"
   ],
   "window_display": false
  }
 },
 "nbformat": 4,
 "nbformat_minor": 2
}
