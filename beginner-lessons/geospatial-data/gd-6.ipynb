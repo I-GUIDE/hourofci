{
 "cells": [
  {
   "cell_type": "markdown",
   "metadata": {
    "slideshow": {
     "slide_type": "fragment"
    }
   },
   "source": [
    "# Introduction to Geospatial Data\n",
    "\n",
    "## Segment 5 of 5\n",
    "\n",
    "# Storing geography in the computer\n",
    "\n",
    "<i>Lesson Developers: </i>\n",
    "<ul>\n",
    "    <li>\n",
    "    <i>Coline Dony cdony@aag.org</i>\n",
    "    </li>\n",
    "    <li>\n",
    "    <i>Karen Kemp  kakemp@usc.edu</i>\n",
    "    </li>\n",
    "</ul>"
   ]
  },
  {
   "cell_type": "code",
   "execution_count": null,
   "metadata": {
    "hide_input": true,
    "init_cell": true,
    "slideshow": {
     "slide_type": "skip"
    },
    "tags": [
     "Hide"
    ]
   },
   "outputs": [],
   "source": [
    "# This code cell starts the necessary setup for Hour of CI lesson notebooks.\n",
    "# First, it enables users to hide and unhide code by producing a 'Toggle raw code' button below.\n",
    "# Second, it imports the hourofci package, which is necessary for lessons and interactive Jupyter Widgets.\n",
    "# Third, it helps hide/control other aspects of Jupyter Notebooks to improve the user experience\n",
    "# This is an initialization cell\n",
    "# It is not displayed because the Slide Type is 'Skip'\n",
    "\n",
    "from IPython.display import HTML, IFrame, Javascript, display, Markdown\n",
    "from ipywidgets import interactive\n",
    "import ipywidgets as widgets\n",
    "from ipywidgets import Layout\n",
    "\n",
    "import getpass # This library allows us to get the username (User agent string)\n",
    "\n",
    "# import package for hourofci project\n",
    "import sys\n",
    "sys.path.append('../../supplementary') # relative path (may change depending on the location of the lesson notebook)\n",
    "import hourofci\n",
    "\n",
    "# load javascript to initialize/hide cells, get user agent string, and hide output indicator\n",
    "# hide code by introducing a toggle button \"Toggle raw code\"\n",
    "HTML(''' \n",
    "    <script type=\"text/javascript\" src=\\\"../../supplementary/js/custom.js\\\"></script>\n",
    "    \n",
    "    <style>\n",
    "        .output_prompt{opacity:0;}\n",
    "    </style>\n",
    "    \n",
    "    <input id=\"toggle_code\" type=\"button\" value=\"Toggle raw code\">\n",
    "''')"
   ]
  },
  {
   "cell_type": "markdown",
   "metadata": {
    "slideshow": {
     "slide_type": "slide"
    }
   },
   "source": [
    "## The world is infinitely complex\n",
    "<table>\n",
    "    <tr style=\"background: #fff\">\n",
    "        <td width=50%> <img src='supplementary/queenstown.jpg' alt='Picture of Queenstown, New Zealand'></td>\n",
    "        <td valign=top style=\"text-align: left;\">This is a photo looking down towards the SE on the mountain resort town of Queenstown, New Zealand (at 45.03 N lat, 168.66 E long).<br><br>\n",
    "            How many different kinds of things do you see here?\n",
    "            <br><br>\n",
    "            How can we decide what to measure and record?\n",
    "            <br><br>\n",
    "            And how can we structure data about this complex world into tables to represent this?????</td>\n",
    "    </tr>\n",
    "</table>"
   ]
  },
  {
   "cell_type": "markdown",
   "metadata": {
    "slideshow": {
     "slide_type": "slide"
    }
   },
   "source": [
    "## A famous GIScientist once said\n",
    "<i>\"People cultivate fields (but manipulate objects)\"</i> <small>**</small></p>\n",
    "This phrase summarizes the most important distinction we make when capturing geospatial data --\n",
    "<table>\n",
    "    <tr style=\"background: #fff\">\n",
    "        <td width=40%> <img src='supplementary/raster_vector.png' alt='Raster or vector?'></td>\n",
    "        <td align=left valign=top><b><u>Is the world made up of <i>fields</i> or <i>objects</i>?</u></b></td>\n",
    "    </tr>\n",
    "</table>\n",
    "<small>** by Helen Couclelis, 1992, <a href=\"https://www.researchgate.net/publication/221589734_People_Manipulate_Objects_but_Cultivate_Fields_Beyond_the_Raster-Vector_Debate_in_GIS\">\"People Manipulate Objects (but Cultivate Fields): Beyond the Raster-Vector Debate in GIS\"</a> from the book *Theories and Methods of Spatio-Temporal Reasoning in Geographic Space: International Conference GIS — From Space to Territory: Theories and Methods of Spatio-Temporal Reasoning* Pisa, Italy, September 21–23, 1992 (pp.65-77)</small>"
   ]
  },
  {
   "cell_type": "markdown",
   "metadata": {
    "slideshow": {
     "slide_type": "slide"
    }
   },
   "source": [
    "Think about the picture of Queenstown we looked at earlier. \n",
    " \n",
    "The rolling surface of the landscape is continuous. There's land or water, at various elevations, everywhere. That's a *field*. Elevation is the classic field. There is a value of elevation everywhere. \n",
    "\n",
    "Then consider all the manmade structures in the picture. There are buildings, lightposts, roads. These are *objects*. The object world view is mostly empty, with objects scattered around. "
   ]
  },
  {
   "cell_type": "code",
   "execution_count": null,
   "metadata": {
    "hide_input": false,
    "slideshow": {
     "slide_type": "slide"
    },
    "tags": [
     "Hide",
     "Init"
    ]
   },
   "outputs": [],
   "source": [
    "display(Markdown('''\n",
    "So, let's see if you can separate these two perspectives.\n",
    "'''))\n",
    "\n",
    "IFrame(\"supplementary/sort-field-object.html\", width=970, height=530)"
   ]
  },
  {
   "cell_type": "markdown",
   "metadata": {
    "slideshow": {
     "slide_type": "slide"
    }
   },
   "source": [
    "<center><large>Now let's look at some geospatial data that are coded as either objects or fields."
   ]
  },
  {
   "cell_type": "markdown",
   "metadata": {
    "slideshow": {
     "slide_type": "slide"
    }
   },
   "source": [
    "Starting with field data, here is a file of elevation measurements in the area to the south of Queenstown which is located near the center top of the image. You can see the lakes in the pale grey color."
   ]
  },
  {
   "cell_type": "code",
   "execution_count": null,
   "metadata": {},
   "outputs": [],
   "source": [
    "import rasterio\n",
    "from matplotlib import pyplot as plt\n",
    "from matplotlib.pyplot import figure\n",
    "figure(figsize=(10,10))\n",
    "filepath = 'supplementary/queenstown-90m-DEM.tif'\n",
    "raster = rasterio.open(filepath, 'r')\n",
    "plt.imshow(raster.read(1), cmap='terrain')\n",
    "plt.show()"
   ]
  },
  {
   "cell_type": "markdown",
   "metadata": {
    "slideshow": {
     "slide_type": "slide"
    }
   },
   "source": [
    "Now we can look at how the field data is actually stored."
   ]
  },
  {
   "cell_type": "code",
   "execution_count": null,
   "metadata": {
    "scrolled": true,
    "tags": []
   },
   "outputs": [],
   "source": [
    "raster.read()"
   ]
  },
  {
   "cell_type": "markdown",
   "metadata": {},
   "source": [
    "What we're seeing here is the beginning and end of the first three and last three lines of the file. What's all this???"
   ]
  },
  {
   "cell_type": "markdown",
   "metadata": {
    "slideshow": {
     "slide_type": "slide"
    }
   },
   "source": [
    "Field data is usually stored as *rasters*.\n",
    "\n",
    "To store the world into a raster, the surface of the earth is divided into a grid of equal sized cells that covers a specific chunk of the earth, say a square that is 10 m by 10 m. \n",
    "\n",
    "<table>\n",
    "    <tr style=\"background: #fff\">\n",
    "        <td width=40%> <img src='supplementary/world_to_raster_sm.png' alt='World to raster'></td>\n",
    "        <td valign=top style=\"text-align: left;\">Each cell is given a value that represents the data that has been measured on the earth in that cell.<br><br>\n",
    "            In the raster in this graphic, the building has been coded with the value green and the road has been coded with the value red.\n",
    "        </td>\n",
    "    </tr>\n",
    "</table>"
   ]
  },
  {
   "cell_type": "markdown",
   "metadata": {
    "slideshow": {
     "slide_type": "slide"
    }
   },
   "source": [
    "So, let's look again at that field data. Run both of these code chunks."
   ]
  },
  {
   "cell_type": "code",
   "execution_count": null,
   "metadata": {
    "scrolled": true,
    "tags": []
   },
   "outputs": [],
   "source": [
    "print(\"The Raster is\", raster.width, \"cells wide and\", raster.height, \"cells high\")"
   ]
  },
  {
   "cell_type": "code",
   "execution_count": null,
   "metadata": {
    "scrolled": true,
    "tags": []
   },
   "outputs": [],
   "source": [
    "raster.bounds"
   ]
  },
  {
   "cell_type": "markdown",
   "metadata": {
    "slideshow": {
     "slide_type": "-"
    }
   },
   "source": [
    "These show us that the NW (top left) corner of the area covered is 45 S latitude and 168 E longitude and the area covered is 1 degree of latitude high and 1 degree of longitude wide. Since 1 degree is 3600 seconds and we have ~1200 cells, this means the cell dimensions are 3600/1200 = ~3 arc seconds of a degree (that's approx 64m wide and 90m high at this latitude)."
   ]
  },
  {
   "cell_type": "markdown",
   "metadata": {
    "slideshow": {
     "slide_type": "slide"
    }
   },
   "source": [
    "Each row in the file shows us the average elevation value (in meters) in each cell across a row of the grid. Run this code to see the file again."
   ]
  },
  {
   "cell_type": "code",
   "execution_count": null,
   "metadata": {
    "tags": []
   },
   "outputs": [],
   "source": [
    "raster.read()"
   ]
  },
  {
   "cell_type": "markdown",
   "metadata": {},
   "source": [
    "Note that the elevations are much higher in the NE corner (as evidenced by the high values at the end of the first few rows) and lower along the southern edge (shown in the final rows). "
   ]
  },
  {
   "cell_type": "markdown",
   "metadata": {
    "slideshow": {
     "slide_type": "slide"
    }
   },
   "source": [
    "Now let's look at how object data is stored - hint, it's completely different! And WAY more complex. \n",
    "\n",
    "We'll start simple. When you ask Google to show you all the nearby restaurants on a map, you get a map with a bunch of pins, some with labels. You can click on them and find out information about those places. Those dots represent restaurant objects.\n",
    "\n",
    "For example..."
   ]
  },
  {
   "cell_type": "markdown",
   "metadata": {
    "slideshow": {
     "slide_type": "slide"
    }
   },
   "source": [
    "Here's a map of Queenstown showing some points of interest. Now we're looking north and the camera point for the photo used earlier is the cleared area at the top of the hill on the left.\n",
    "\n",
    "<a href=\"https://www.google.com/maps/place/Queenstown,+New+Zealand/@-45.0514839,168.6648181,1609a,35y,345.22h,54.63t/data=!3m1!1e3!4m5!3m4!1s0xa9d51df1d7a8de5f:0x500ef868479a600!8m2!3d-45.0301511!4d168.6616206\">This link will take you to this map live in Google Maps.</a>\n",
    "![Queenstown POIs](supplementary/queenstown_google_POI.png)\n"
   ]
  },
  {
   "cell_type": "markdown",
   "metadata": {
    "slideshow": {
     "slide_type": "slide"
    }
   },
   "source": [
    "Now, let's see how that data is stored in a file. In Try-it Exercise #1 you looked at a point dataset. Remember this? (click the arrow to the left of the code)"
   ]
  },
  {
   "cell_type": "code",
   "execution_count": null,
   "metadata": {
    "hide_input": true,
    "slideshow": {
     "slide_type": "skip"
    },
    "tags": [
     "Hide",
     "Init"
    ]
   },
   "outputs": [],
   "source": [
    "!wget -O ne_50m_populated_places_simple.zip https://www.naturalearthdata.com/http//www.naturalearthdata.com/download/50m/cultural/ne_50m_populated_places_simple.zip --quiet\n",
    "!python -c \"import zipfile; zipfile.ZipFile('ne_50m_populated_places_simple.zip', 'r').extractall()\""
   ]
  },
  {
   "cell_type": "code",
   "execution_count": null,
   "metadata": {
    "tags": []
   },
   "outputs": [],
   "source": [
    "import geopandas\n",
    "cities = geopandas.read_file(\"ne_50m_populated_places_simple.shp\")\n",
    "cities.head()"
   ]
  },
  {
   "cell_type": "markdown",
   "metadata": {
    "slideshow": {
     "slide_type": "slide"
    }
   },
   "source": [
    "In the table we just generated, each row has \n",
    "- an object ID\n",
    "- some data about various attributes for that object\n",
    "- then a column with an entry that is the point location \n",
    "\n",
    "Click back one slide to check this out. "
   ]
  },
  {
   "cell_type": "markdown",
   "metadata": {
    "slideshow": {
     "slide_type": "slide"
    }
   },
   "source": [
    "Now let's see again how that table can generate the dots on a map..."
   ]
  },
  {
   "cell_type": "code",
   "execution_count": null,
   "metadata": {
    "tags": []
   },
   "outputs": [],
   "source": [
    "from folium import Map, GeoJson\n",
    "mymap = Map(location=[-43,168], zoom_start=5)\n",
    "GeoJson(cities, style_function=lambda feature: {\n",
    "    'color': 'blue',\n",
    "    'weight': 1\n",
    "}).add_to(mymap)\n",
    "mymap\n"
   ]
  },
  {
   "cell_type": "markdown",
   "metadata": {
    "slideshow": {
     "slide_type": "slide"
    }
   },
   "source": [
    "OK, let's get back to fields and objects and how we put them into the computer. Remember this? \n",
    "\n",
    "<table>\n",
    "    <tr style=\"background: #fff\">\n",
    "        <td width=40%> <img src='supplementary/raster_vector.png' alt='Raster or vector'></td>\n",
    "        <td valign=top style=\"text-align: left;\">These two graphics show the two most common <i><u>data models</u></i> for geospatial data.<br><br> \n",
    "            Fields are stored as grids called <i>rasters</i> and there is a value everywhere. <br><br> \n",
    "            Objects, which are scattered around mostly empty space, are stored as <i>vectors</i>.<br><br><br> \n",
    "            So, tell me more about vectors, you say...</td>\n",
    "    </tr>\n",
    "</table>"
   ]
  },
  {
   "cell_type": "markdown",
   "metadata": {
    "slideshow": {
     "slide_type": "slide"
    }
   },
   "source": [
    "Vectors usually come in three varieties - points, lines and polygons. \n",
    "<table>\n",
    "    <tr style=\"background: #fff\">\n",
    "        <td width=30%> <img src='supplementary/vectors_sm.png' alt='Raster or vector'></td>\n",
    "        <td valign=top style=\"text-align: left;\">Points are good for things like cities on a world map, or lightpoles and signposts on a neighborhood map.<br><br> \n",
    "            Lines are for rivers, roads, railways, boundaries - that sort of thing.<br><br> \n",
    "            Polygons are areas. So they're used for lakes, building footprints, parks.</td>\n",
    "    </tr>\n",
    "</table>"
   ]
  },
  {
   "cell_type": "markdown",
   "metadata": {
    "slideshow": {
     "slide_type": "slide"
    }
   },
   "source": [
    "Vector data has two components.\n",
    "<table>\n",
    "    <tr style=\"background: #fff\">\n",
    "        <td width=40%> <img src='supplementary/vector_structure.png' alt='Vector structure'></td>\n",
    "        <td valign=top style=\"text-align: left;\">These components can be stored together in a table by including one or more columns that provide the direct georeference (e.g. lat and long).<br><br>\n",
    "            <i>OR</i>, these components can be stored separately. Attributes with an object ID in one table and the geometry labelled with the same IDs in a separate file. </td>\n",
    "    </tr>\n",
    "</table>"
   ]
  },
  {
   "cell_type": "markdown",
   "metadata": {
    "slideshow": {
     "slide_type": "slide"
    }
   },
   "source": [
    "By the way, it's important to know that you can't mix up points, lines and polygons in a single geospatial data file. If you want a map that shows points, lines and polygons, then you'll need at least three different datasets, one for each type of vector object.\n",
    "\n",
    "Remember the rivers data in our Try-it Exercise #1? Let's add it to the map. \n",
    "\n",
    "First, we'll get it again, just in case it's not currently loaded. (click the arrow to the left)"
   ]
  },
  {
   "cell_type": "code",
   "execution_count": null,
   "metadata": {
    "hide_input": true,
    "slideshow": {
     "slide_type": "skip"
    },
    "tags": [
     "Hide",
     "Init"
    ]
   },
   "outputs": [],
   "source": [
    "!wget -O ne_10m_rivers_lake_centerlines.zip https://www.naturalearthdata.com/http//www.naturalearthdata.com/download/10m/physical/ne_10m_rivers_lake_centerlines.zip --quiet\n",
    "!python -c \"import zipfile; zipfile.ZipFile('ne_10m_rivers_lake_centerlines.zip', 'r').extractall()\"\n"
   ]
  },
  {
   "cell_type": "markdown",
   "metadata": {},
   "source": [
    "(wait for the asterisk to turn into a number...) then go to the next slide and we'll add it to the cities data..."
   ]
  },
  {
   "cell_type": "code",
   "execution_count": null,
   "metadata": {
    "scrolled": false,
    "slideshow": {
     "slide_type": "slide"
    },
    "tags": []
   },
   "outputs": [],
   "source": [
    "rivers = geopandas.read_file(\"ne_10m_rivers_lake_centerlines.shp\")\n",
    "mymap2 = Map(location=[-43, 168], zoom_start=5)\n",
    "# Add rivers layer to the map\n",
    "GeoJson(rivers, style_function=lambda feature: {'color': 'blue', 'weight': 1}).add_to(mymap2)\n",
    "# Add cities layer to the map\n",
    "GeoJson(cities, style_function=lambda feature: {'color': 'blue', 'weight': 1}).add_to(mymap2)\n",
    "mymap2"
   ]
  },
  {
   "cell_type": "code",
   "execution_count": null,
   "metadata": {
    "hide_input": false,
    "slideshow": {
     "slide_type": "slide"
    },
    "tags": [
     "Hide",
     "Init"
    ]
   },
   "outputs": [],
   "source": [
    "display(Markdown('''\n",
    "OK, now let's practice these concepts. For each of the following kinds of geospatial data, choose the data model (raster or vector) that it's most likely to be stored in.<p> \n",
    "'''))\n",
    "\n",
    "IFrame(\"supplementary/sort-raster-vector.html\", width=970, height=430)"
   ]
  },
  {
   "cell_type": "markdown",
   "metadata": {
    "slideshow": {
     "slide_type": "slide"
    }
   },
   "source": [
    "Well done! Now you know a little bit about geospatial data. \n",
    "\n",
    "If you have worked through this lesson carefully, you should now be able to: \n",
    "1. Explain what is special about geospatial data.\n",
    "2. Describe how location can be measured and recorded in geospatial data.\n",
    "3. Explain the difference between raster and vector data.\n",
    "4. Identify several different types of geospatial data.\n",
    "5. Load and view different kinds of geospatial data in Python Notebooks."
   ]
  },
  {
   "cell_type": "markdown",
   "metadata": {
    "slideshow": {
     "slide_type": "slide"
    }
   },
   "source": [
    "If you still have time, feel free to go back to the two Try-It exercises and try out downloading some different datasets from the sources. Make maps of different parts of the earth or of different days from the Johns Hopkins data server. \n",
    "\n",
    "If you want to learn more about geospatial data, you can go on to the intermediate Geospatial Data lesson.\n",
    "\n",
    "Or you can go back and complete some of the other introductory lessons as they all touch on the use of geospatial data. \n",
    "\n"
   ]
  },
  {
   "cell_type": "markdown",
   "metadata": {
    "slideshow": {
     "slide_type": "slide"
    }
   },
   "source": [
    "# Congratulations!\n",
    "\n",
    "**You have finished an Hour of CI!**\n",
    "\n",
    "If you would like a certificate, then please type your name below and click \"Create Certificate\" and you will be presented with a PDF certificate.\n",
    "\n"
   ]
  },
  {
   "cell_type": "code",
   "execution_count": 7,
   "metadata": {
    "hide_input": false,
    "slideshow": {
     "slide_type": "-"
    },
    "tags": [
     "Hide",
     "Init"
    ]
   },
   "outputs": [
    {
     "data": {
      "application/vnd.jupyter.widget-view+json": {
       "model_id": "71def54d8c4049bdae73fa9b5e4a90a8",
       "version_major": 2,
       "version_minor": 0
      },
      "text/plain": [
       "interactive(children=(Text(value='Your Name', continuous_update=False, description='name'), Button(description…"
      ]
     },
     "metadata": {},
     "output_type": "display_data"
    }
   ],
   "source": [
    "\n",
    "# This code cell loads the Interact Textbox that will ask users for their name\n",
    "# Once they click \"Create Certificate\" then it will add their name to the certificate template\n",
    "# And present them a PDF certificate\n",
    "from PIL import Image\n",
    "from PIL import ImageFont\n",
    "from PIL import ImageDraw\n",
    "\n",
    "from ipywidgets import interact\n",
    "\n",
    "def make_cert(learner_name, lesson_name):\n",
    "    cert_filename = 'hourofci_certificate.pdf'\n",
    "\n",
    "    img = Image.open(\"../../supplementary/hci-certificate-template.jpg\")\n",
    "    draw = ImageDraw.Draw(img)\n",
    "\n",
    "    cert_font = ImageFont.load_default()\n",
    "    \n",
    "    cert_font   = ImageFont.truetype('../../supplementary/cruft.ttf', 150)\n",
    "    cert_fontsm = ImageFont.truetype('../../supplementary/cruft.ttf', 80) \n",
    "    _,_,w,h = cert_font.getbbox(learner_name)  \n",
    "    draw.text( xy = (1650-w/2,1100-h/2), text = learner_name, fill=(0,0,0),font=cert_font)\n",
    "    \n",
    "    _,_,w,h = cert_fontsm.getbbox(lesson_name)\n",
    "    draw.text( xy = (1650-w/2,1100-h/2 + 750), text = lesson_name, fill=(0,0,0),font=cert_fontsm)\n",
    "    img.save(cert_filename, \"PDF\", resolution=100.0)  \n",
    "    \n",
    "    return cert_filename\n",
    "\n",
    "\n",
    "interact_cert=interact.options(manual=True, manual_name=\"Create Certificate\")\n",
    "\n",
    "@interact_cert(name=\"Your Name\")\n",
    "def f(name):\n",
    "    print(\"Congratulations\",name)\n",
    "    filename = make_cert(name, 'Beginner Geospatial Data')\n",
    "    print(\"Download your certificate by clicking the link below.\")\n",
    "    \n"
   ]
  },
  {
   "cell_type": "markdown",
   "metadata": {},
   "source": [
    "<font size=\"+1\"><a style=\"background-color:blue;color:white;padding:12px;margin:10px;font-weight:bold;\" href=\"hourofci_certificate.pdf?download=1\" download=\"hourofci_certificate.pdf\">Download your certificate</a></font>"
   ]
  }
 ],
 "metadata": {
  "celltoolbar": "Slideshow",
  "kernelspec": {
   "display_name": "iguide-ewd",
   "language": "python",
   "name": "iguide-ewd"
  },
  "language_info": {
   "codemirror_mode": {
    "name": "ipython",
    "version": 3
   },
   "file_extension": ".py",
   "mimetype": "text/x-python",
   "name": "python",
   "nbconvert_exporter": "python",
   "pygments_lexer": "ipython3",
   "version": "3.10.11"
  },
  "rise": {
   "autolaunch": true,
   "overlay": "<div class='hciheader'></div><div class='hcifooter'></div>",
   "scroll": true
  },
  "varInspector": {
   "cols": {
    "lenName": 16,
    "lenType": 16,
    "lenVar": 40
   },
   "kernels_config": {
    "python": {
     "delete_cmd_postfix": "",
     "delete_cmd_prefix": "del ",
     "library": "var_list.py",
     "varRefreshCmd": "print(var_dic_list())"
    },
    "r": {
     "delete_cmd_postfix": ") ",
     "delete_cmd_prefix": "rm(",
     "library": "var_list.r",
     "varRefreshCmd": "cat(var_dic_list()) "
    }
   },
   "types_to_exclude": [
    "module",
    "function",
    "builtin_function_or_method",
    "instance",
    "_Feature"
   ],
   "window_display": false
  }
 },
 "nbformat": 4,
 "nbformat_minor": 4
}
