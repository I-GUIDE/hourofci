{
 "cells": [
  {
   "cell_type": "markdown",
   "metadata": {
    "slideshow": {
     "slide_type": "slide"
    }
   },
   "source": [
    "# Cyberinfrastructure\n",
    "\n",
    "## Segment 3 of 5\n",
    "\n",
    "<i>Lesson Developers: </i>\n",
    "<ul>\n",
    "    <li>\n",
    "    <i>Craig A. Stewart (stewart@iu.edu)</i>\n",
    "    </li>\n",
    "    <li>\n",
    "    <i>Sri Harsha (srmanj@iu.edu)</i>\n",
    "    </li>\n",
    "    <li>\n",
    "    <i>Brian Cooper (coope824@umn.edu)</i>\n",
    "    </li>\n",
    "    <li>\n",
    "    <i>Eric Shook (eshook@umn.edu)</i>\n",
    "    </li>\n",
    "</ul>\n",
    "\n",
    "\n",
    " <img src=\"supplementary/pti.jpg\" width=\"200\" alt=\"Pervasive Technology Institute logo\">"
   ]
  },
  {
   "cell_type": "code",
   "execution_count": null,
   "metadata": {
    "hide_input": true,
    "init_cell": true,
    "scrolled": false,
    "slideshow": {
     "slide_type": "skip"
    },
    "tags": [
     "Hide"
    ]
   },
   "outputs": [],
   "source": [
    "# This code cell starts the necessary setup for Hour of CI lesson notebooks.\n",
    "# First, it enables users to hide and unhide code by producing a 'Toggle raw code' button below.\n",
    "# Second, it imports the hourofci package, which is necessary for lessons and interactive Jupyter Widgets.\n",
    "# Third, it helps hide/control other aspects of Jupyter Notebooks to improve the user experience\n",
    "# This is an initialization cell\n",
    "# It is not displayed because the Slide Type is 'Skip'\n",
    "\n",
    "from IPython.display import HTML, IFrame, Javascript, display\n",
    "from ipywidgets import interactive\n",
    "import ipywidgets as widgets\n",
    "from ipywidgets import Layout\n",
    "\n",
    "import getpass # This library allows us to get the username (User agent string)\n",
    "\n",
    "# import package for hourofci project\n",
    "import sys\n",
    "sys.path.append('../../supplementary') # relative path (may change depending on the location of the lesson notebook)\n",
    "import hourofci\n",
    "\n",
    "# Retreive the user agent string, it will be passed to the hourofci submit button\n",
    "agent_js = \"\"\"\n",
    "IPython.notebook.kernel.execute(\"user_agent = \" + \"'\" + navigator.userAgent + \"'\");\n",
    "\"\"\"\n",
    "Javascript(agent_js)\n",
    "\n",
    "# load javascript to initialize/hide cells, get user agent string, and hide output indicator\n",
    "# hide code by introducing a toggle button \"Toggle raw code\"\n",
    "HTML(''' \n",
    "    <script type=\"text/javascript\" src=\\\"../../supplementary/js/custom.js\\\"></script>\n",
    "    <style>\n",
    "        .output_prompt{opacity:0;}\n",
    "    </style>\n",
    "    <input id=\"toggle_code\" type=\"button\" value=\"Toggle raw code\">\n",
    "''')"
   ]
  },
  {
   "cell_type": "markdown",
   "metadata": {
    "slideshow": {
     "slide_type": "slide"
    }
   },
   "source": [
    "# Types of Computational Systems in Cyberinfrastructure\n",
    "\n",
    "In this section we will look \"under the hood\" and cover different types of computational systems that are commonly used in cyberinfrastructure.\n",
    "\n"
   ]
  },
  {
   "cell_type": "markdown",
   "metadata": {
    "slideshow": {
     "slide_type": "slide"
    }
   },
   "source": [
    "## GPUs\n",
    "\n",
    "<img src=\"supplementary/gpu.png\" width=\"400\"/>    \n",
    "\n",
    "<small>CC BY 4.0 https://commons.wikimedia.org/wiki/File:NvidiaTesla.jpg</small>\n",
    "\n",
    "- GPUs – Graphical Processing Units – are a very powerful type of processor (currently being used to display this text on your computer screen).\n",
    "- GPUs make up a very large part of the computational power of many computing systems.\n",
    "- GPUs were originally developed for rendering graphical images, but it turns out that they are very fast for some (but not all) kinds of mathematically-oriented calculations.\n",
    "\n",
    "\n"
   ]
  },
  {
   "cell_type": "markdown",
   "metadata": {
    "slideshow": {
     "slide_type": "slide"
    }
   },
   "source": [
    "## Quantum Computers\n",
    "\n",
    "- Quantum computers are the newest new thing and are very different.\n",
    "- Normal computers work on a very simple principle: you do the same calculation over and over, you get the same results.\n",
    "\n",
    "- Rather than operating with a string of things called “bits” each of which is either a 0 or a 1 like a current digital computer, Quantum computers operate on things called Qbits that are 0 or 1 with a certain probability.\n",
    "- So when you run a program with a quantum computer, you don’t get an answer. You get a probability distribution of answers.\n",
    "- Quantum computers are very important for some kinds of challenges, but it will be a long time before they matter much to people using GIS applications!"
   ]
  },
  {
   "cell_type": "markdown",
   "metadata": {
    "slideshow": {
     "slide_type": "slide"
    }
   },
   "source": [
    "### High Throughput Computing (HTC) Systems\n",
    "\n",
    "- HTC systems have been around for a long time. Sometimes certain data analysis problems involved doing lots of analysis (or lots of computations) that can happen pretty much independently. So a lot of work is done, and then the results are collected. This is a different kind of parallel than the kind of programs that you usually run on a supercomputer, which are called **jobs.**\n",
    "\n",
    "- A good way to think about high performance computing as opposed to high throughput computing is this:\n",
    "  - If you care about how long one job takes, you’re probably doing high performance computing.\n",
    "  - If you care about how many thousand jobs you run per month, you’re probably doing high throughput computing."
   ]
  },
  {
   "cell_type": "markdown",
   "metadata": {
    "slideshow": {
     "slide_type": "slide"
    }
   },
   "source": [
    "## Let's take a closer look at High Throughput Computing Systems in GIS (at Clemson University)\n",
    "\n",
    "<table>\n",
    "    <tr style=\"background: #fff\">\n",
    "        <td width=30%> <img src=\"supplementary/htcs.png\" width=\"400\" alt=\"High Throughout Computing System graphic\"/></td>\n",
    "        <td valign=top style = \"text-align: left;\">\n",
    "HTC systems can be used to analyze geospatial data. An example problem: calculate the Annual Average Daily Traffic (AADT) through Greenville, South Carolina. Specifically, calculate all possible intersects between vehicle trips (1.9 million observations) in the city of Greenville.\n",
    "\n",
    "- Notice, each trip is independent from the others so the intersection between trips can be calculated independently.\n",
    "- To solve this problem, the Clemson University HTC system used a well-known HTC software called Condor [(link)](https://research.cs.wisc.edu/htcondor/) </td>\n",
    "    </tr>\n",
    "</table>\n",
    "\n",
    "\n",
    "- Read more about the HTC system at Clemson at - https://www.clemsongis.org/high-throughput-computing-for-gis\n"
   ]
  },
  {
   "cell_type": "markdown",
   "metadata": {
    "slideshow": {
     "slide_type": "slide"
    }
   },
   "source": [
    "### How High Throughput Computing was used\n",
    "\n",
    "<img src=\"supplementary/htc.png\" width=\"400\"/>\n",
    "\n",
    "And you can see how this is cyberinfrastructure: lots of data, lots of data storage, broken up and sent across a network to lots of different computers calculating intersections, which are organized into something called a “Condor Pool.” A “Condor Pool” is what a group of computational systems is called within the Condor HTC software system.\n",
    "\n",
    "\n",
    "- Read more about the HTC system at Clemson at - https://www.clemsongis.org/high-throughput-computing-for-gis"
   ]
  },
  {
   "cell_type": "markdown",
   "metadata": {
    "slideshow": {
     "slide_type": "slide"
    }
   },
   "source": [
    "### Another example: The Large Hadron Collider (LHC)\n",
    "\n",
    "<img src=\"supplementary/hadron.png\" width=\"400\"/>\n",
    "\n",
    "- The LHC is the single biggest physics experiment in the world.\n",
    "- It produces lots of small-ish blocks of data.\n",
    "- The data tell what happened when subatomic particles are smashed together.\n",
    "- Most of the time nothing new happens.\n",
    "- So the data analysis task is to look at a whole bunch of data and determine if anything novel has happened.\n",
    "- PERFECT for HTC – which is a very important kind of cyberinfrastructure.\n",
    "\n",
    "From: https://home.cern/science/accelerators/large-hadron-collider"
   ]
  },
  {
   "cell_type": "markdown",
   "metadata": {
    "slideshow": {
     "slide_type": "slide"
    }
   },
   "source": [
    "<img src=\"supplementary/congratulations.png\" width=\"400\"/>\n",
    "\n",
    "## You just learned a lot more detail about what computational systems can be part of cyberinfrastructure systems\n",
    "\n",
    "Really, anything that can connect to a digital network and can either produce data or do calculations can be considered cyberinfrastructure if it is put to work as part of “infrastructure for knowledge”\n",
    "\n",
    "<a href=\"cyberinfrastructure-5.ipynb\">Click here to move on to the next segment where you will learn more about the importance of CI in scientific discovery</a>"
   ]
  }
 ],
 "metadata": {
  "celltoolbar": "Slideshow",
  "kernelspec": {
   "display_name": "iguide-ewd",
   "language": "python",
   "name": "iguide-ewd"
  },
  "language_info": {
   "codemirror_mode": {
    "name": "ipython",
    "version": 3
   },
   "file_extension": ".py",
   "mimetype": "text/x-python",
   "name": "python",
   "nbconvert_exporter": "python",
   "pygments_lexer": "ipython3",
   "version": "3.10.11"
  },
  "rise": {
   "autolaunch": true,
   "overlay": "<div class='hciheader'></div><div class='hcifooter'></div>",
   "scroll": true
  },
  "varInspector": {
   "cols": {
    "lenName": 16,
    "lenType": 16,
    "lenVar": 40
   },
   "kernels_config": {
    "python": {
     "delete_cmd_postfix": "",
     "delete_cmd_prefix": "del ",
     "library": "var_list.py",
     "varRefreshCmd": "print(var_dic_list())"
    },
    "r": {
     "delete_cmd_postfix": ") ",
     "delete_cmd_prefix": "rm(",
     "library": "var_list.r",
     "varRefreshCmd": "cat(var_dic_list()) "
    }
   },
   "types_to_exclude": [
    "module",
    "function",
    "builtin_function_or_method",
    "instance",
    "_Feature"
   ],
   "window_display": false
  }
 },
 "nbformat": 4,
 "nbformat_minor": 2
}
