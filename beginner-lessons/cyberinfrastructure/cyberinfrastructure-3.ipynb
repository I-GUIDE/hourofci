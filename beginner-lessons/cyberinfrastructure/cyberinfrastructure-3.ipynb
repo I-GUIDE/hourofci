{
 "cells": [
  {
   "cell_type": "markdown",
   "metadata": {
    "slideshow": {
     "slide_type": "slide"
    }
   },
   "source": [
    "# Cyberinfrastructure\n",
    "\n",
    "## Segment 2 of 5\n",
    "\n",
    "<i>Lesson Developers: </i>\n",
    "<ul>\n",
    "    <li>\n",
    "    <i>Craig A. Stewart (stewart@iu.edu)</i>\n",
    "    </li>\n",
    "    <li>\n",
    "    <i>Sri Harsha (srmanj@iu.edu)</i>\n",
    "    </li>\n",
    "    <li>\n",
    "    <i>Brian Cooper (coope824@umn.edu)</i>\n",
    "    </li>\n",
    "    <li>\n",
    "    <i>Eric Shook (eshook@umn.edu)</i>\n",
    "    </li>\n",
    "</ul>\n",
    "\n",
    "\n",
    " <img src=\"supplementary/pti.jpg\" width=\"200\" alt=\"Pervasive Technology Institute logo\">"
   ]
  },
  {
   "cell_type": "code",
   "execution_count": null,
   "metadata": {
    "hide_input": true,
    "init_cell": true,
    "scrolled": false,
    "slideshow": {
     "slide_type": "skip"
    },
    "tags": [
     "Hide"
    ]
   },
   "outputs": [],
   "source": [
    "# This code cell starts the necessary setup for Hour of CI lesson notebooks.\n",
    "# First, it enables users to hide and unhide code by producing a 'Toggle raw code' button below.\n",
    "# Second, it imports the hourofci package, which is necessary for lessons and interactive Jupyter Widgets.\n",
    "# Third, it helps hide/control other aspects of Jupyter Notebooks to improve the user experience\n",
    "# This is an initialization cell\n",
    "# It is not displayed because the Slide Type is 'Skip'\n",
    "\n",
    "from IPython.display import HTML, IFrame, Javascript, display\n",
    "from ipywidgets import interactive\n",
    "import ipywidgets as widgets\n",
    "from ipywidgets import Layout\n",
    "\n",
    "import getpass # This library allows us to get the username (User agent string)\n",
    "\n",
    "# import package for hourofci project\n",
    "import sys\n",
    "sys.path.append('../../supplementary') # relative path (may change depending on the location of the lesson notebook)\n",
    "import hourofci\n",
    "\n",
    "# Retreive the user agent string, it will be passed to the hourofci submit button\n",
    "agent_js = \"\"\"\n",
    "IPython.notebook.kernel.execute(\"user_agent = \" + \"'\" + navigator.userAgent + \"'\");\n",
    "\"\"\"\n",
    "Javascript(agent_js)\n",
    "\n",
    "# load javascript to initialize/hide cells, get user agent string, and hide output indicator\n",
    "# hide code by introducing a toggle button \"Toggle raw code\"\n",
    "HTML(''' \n",
    "    <script type=\"text/javascript\" src=\\\"../../supplementary/js/custom.js\\\"></script>\n",
    "    \n",
    "    <input id=\"toggle_code\" type=\"button\" value=\"Toggle raw code\">\n",
    "''')"
   ]
  },
  {
   "cell_type": "markdown",
   "metadata": {
    "slideshow": {
     "slide_type": "slide"
    }
   },
   "source": [
    "# Components of Cyberinfrastructure\n",
    "\n",
    "Now that you understand what Cyberinfrastructure is, let's go through the components of cyberinfrastructure one by one. Based on your understanding of what cyberinfrastructure is, let's see if you can identify components of cyberinfrastructure (and learn more about the components along the way).\n",
    "\n"
   ]
  },
  {
   "cell_type": "markdown",
   "metadata": {
    "slideshow": {
     "slide_type": "slide"
    }
   },
   "source": [
    "## Is this a component of Cyberinfrastructure?\n",
    "Here’s a big machine making a lot of cooling fan noise. Do you think  this is a component of cyberinfrastructure?\n",
    "\n",
    "<img src=\"supplementary/bigred.png\" width=\"400\"/>    \n",
    "    \n",
    "<small>Image from https://pti.iu.edu/outreach-training/supercomputing/br2.html © Trustees of Indiana University. Used by Permission</small>"
   ]
  },
  {
   "cell_type": "code",
   "execution_count": null,
   "metadata": {
    "hide_input": true,
    "slideshow": {
     "slide_type": "-"
    },
    "tags": [
     "Init",
     "Hide",
     "3A"
    ]
   },
   "outputs": [],
   "source": [
    "# Multiple choice question using a ToggleButton widget\n",
    "# This code cell has tags \"Init\", \"Hide\", and \"3A\" (or the appropriate number)\n",
    "'''\n",
    "{\n",
    "  \"hide_input\": false,\n",
    "  \"slideshow\": {\n",
    "    \"slide_type\": \"-\"\n",
    "  },\n",
    "  \"tags\": [\n",
    "    \"Init\",\n",
    "    \"Hide\",\n",
    "    \"3A\"\n",
    "  ],\n",
    "  \"trusted\": true\n",
    "}\n",
    "'''\n",
    "\n",
    "widgetA=widgets.ToggleButtons(\n",
    "    options=['Yes','No'],\n",
    "    description='',\n",
    "    disabled=False,\n",
    "    button_style='', # 'success', 'info', 'warning', 'danger' or ''\n",
    "    tooltips=['Yes this is CI', 'No this is not CI'],\n",
    ")\n",
    "\n",
    "# Show the options.\n",
    "display(widgetA)\n",
    "\n",
    "def outA():\n",
    "    print(\"Yes, This is a supercomputer.(The fancy front is a giveaway). Supercomputers are in many ways the 'foundation' on which the concept of cyberinfrastructure was built.\")\n",
    "\n",
    "# Submit button: print and log the results\n",
    "hourofci.SubmitBtn2(widgetA)\n",
    "\n",
    "# Answers\n",
    "# Yes, This is a supercomputer.(The fancy front is a giveaway). Supercomputers are in many ways the \"foundation\" on which the concept of cyberinfrastructure was built.\n",
    "# No, try again"
   ]
  },
  {
   "cell_type": "markdown",
   "metadata": {
    "slideshow": {
     "slide_type": "slide"
    }
   },
   "source": [
    "## Is this a component of Cyberinfrastructure?\n",
    "Here’s a big machine making a lot of cooling fan noise. Do you think  this is a component of cyberinfrastructure?\n",
    "\n",
    "<img src=\"supplementary/bigred.png\" width=\"400\"/>\n",
    "    \n",
    "### Yes! \n",
    "\n",
    "This is a supercomputer (the fancy front is a giveaway). Supercomputers are in many ways the \"foundation\" on which the concept of cyberinfrastructure was built.\n"
   ]
  },
  {
   "cell_type": "markdown",
   "metadata": {
    "slideshow": {
     "slide_type": "slide"
    }
   },
   "source": [
    "## Is this a component of Cyberinfrastructure?\n",
    "\n",
    "Here are some views of a web portal. Do you think this shows a component of cyberinfrastructure?\n",
    "\n",
    "<img src=\"supplementary/middle.png\" width=\"400\"/>\n",
    "\n",
    "<small> Used with permission – may not be used without permission from CyberGIS Center of the University of Illinois Urbana Champaign.</small>"
   ]
  },
  {
   "cell_type": "code",
   "execution_count": null,
   "metadata": {
    "hide_input": true,
    "slideshow": {
     "slide_type": "-"
    },
    "tags": [
     "Init",
     "Hide",
     "3B"
    ]
   },
   "outputs": [],
   "source": [
    "# Auto-run, Widget\n",
    "# Yes, no buttons\n",
    "\n",
    "widgetB=widgets.ToggleButtons(\n",
    "    options=['Yes','No'],\n",
    "    description='',\n",
    "    disabled=False,\n",
    "    button_style='', # 'success', 'info', 'warning', 'danger' or ''\n",
    "    tooltips=['Yes this is CI', 'No this is not CI'],\n",
    ")\n",
    "\n",
    "# Show the options.\n",
    "display(widgetB)\n",
    "\n",
    "def outB():\n",
    "    print(\"Go to the next page to see if you were correct.\")\n",
    "\n",
    "# Submit button: print and log the results\n",
    "# hourofci.SubmitBtn(user_agent,lesson,lesson_level,'3B',widgetB,outB)\n",
    "hourofci.SubmitBtn2(widgetB)\n",
    "\n",
    "# Answers\n",
    "# Yes, Correct ! \\n' + \\\n",
    "#'- This is a type of “middleware” – the sort of software that glues together the disparate pieces of cyberinfrastructure\\n' + \\\n",
    "#'- This particular type of middleware is called a “Science Gateway.” Science Gateways are web-based tools for orchestrating cyberinfrastructure to do very complicated analyses.\\n' + \\\n",
    "#'- And this happens to be a GIS science gateway!\\n' + \\\n",
    "#'- There are other types of middleware.\n",
    "# No, try again"
   ]
  },
  {
   "cell_type": "markdown",
   "metadata": {
    "slideshow": {
     "slide_type": "slide"
    }
   },
   "source": [
    "## Is this a component of Cyberinfrastructure?\n",
    "\n",
    "<img src=\"supplementary/middle.png\" width=\"400\"/>\n",
    "\n",
    "Here are some views of a web portal. Do you think this shows a component of cyberinfrastructure?\n",
    "\n",
    "\n",
    "### Yes!\n",
    "This is a type of “middleware” – the sort of software that glues together the disparate pieces of cyberinfrastructure.\n",
    "\n",
    "This particular type of middleware is called a \"Science Gateway.\" Science Gateways are web-based tools for orchestrating cyberinfrastructure to do very complicated analyses.\n",
    "\n",
    "And this happens to be a GIS science gateway!\n",
    "\n",
    "There are other types of middleware too."
   ]
  },
  {
   "cell_type": "markdown",
   "metadata": {
    "slideshow": {
     "slide_type": "slide"
    }
   },
   "source": [
    "## Is this a component of Cyberinfrastructure?\n",
    "\n",
    "<img src=\"supplementary/hippo_wikipedia.jpg\" width=\"400\"/>\n",
    "\n",
    "<small>Diego Delso, CC BY-SA 4.0 <https://creativecommons.org/licenses/by-sa/4.0>, via Wikimedia Commons.</small>"
   ]
  },
  {
   "cell_type": "code",
   "execution_count": null,
   "metadata": {
    "hide_input": true,
    "slideshow": {
     "slide_type": "-"
    },
    "tags": [
     "Init",
     "Hide",
     "3C"
    ]
   },
   "outputs": [],
   "source": [
    "# Auto-run, Widget\n",
    "# Yes, no buttons\n",
    "\n",
    "widgetC=widgets.ToggleButtons(\n",
    "    options=['Yes','No'],\n",
    "    description='',\n",
    "    disabled=False,\n",
    "    button_style='', # 'success', 'info', 'warning', 'danger' or ''\n",
    "    tooltips=['Yes this is CI', 'No this is not CI'],\n",
    ")\n",
    "\n",
    "# Show the options.\n",
    "display(widgetC)\n",
    "\n",
    "def outC():\n",
    "    print(\"No, unfortunately this is just a hippo and not formally a component of cyberinfrastructure.\")\n",
    "\n",
    "# Submit button: print and log the results\n",
    "# hourofci.SubmitBtn(user_agent,lesson,lesson_level,'3C',widgetC,outC)\n",
    "hourofci.SubmitBtn2(widgetC)\n",
    "\n",
    "# Answers\n",
    "# Yes, try again.\n",
    "# No, Correct. This is just a hippo and not formally a component of cyberinfrastructure. "
   ]
  },
  {
   "cell_type": "markdown",
   "metadata": {
    "slideshow": {
     "slide_type": "fragment"
    }
   },
   "source": [
    "### Unfortunately No ...\n",
    "This is just a hippo and not formally a component of cyberinfrastructure. Although Hip Po is pretty awesome. "
   ]
  },
  {
   "cell_type": "markdown",
   "metadata": {
    "slideshow": {
     "slide_type": "slide"
    }
   },
   "source": [
    "## Is this a component of Cyberinfrastructure?\n",
    "\n",
    "Is a laptop computer a component of cyberinfrastructure?\n",
    "\n",
    "<img src=\"supplementary/laptop.png\" width=\"400\"/>\n",
    "\n",
    "<small> CC BY-SA 4.0 https://commons.wikimedia.org/wiki/File:Microsoft_Surface_Pro_3_with_Type_Cover.jpg</small>"
   ]
  },
  {
   "cell_type": "code",
   "execution_count": null,
   "metadata": {
    "hide_input": true,
    "slideshow": {
     "slide_type": "-"
    },
    "tags": [
     "Init",
     "Hide",
     "3D"
    ]
   },
   "outputs": [],
   "source": [
    "# Auto-run, Widget\n",
    "# Yes, no buttons\n",
    "\n",
    "widgetD=widgets.ToggleButtons(\n",
    "    options=['Yes','No'],\n",
    "    description='',\n",
    "    disabled=False,\n",
    "    button_style='', # 'success', 'info', 'warning', 'danger' or ''\n",
    "    tooltips=['Yes this is CI', 'No this is not CI'],\n",
    ")\n",
    "\n",
    "# Show the options.\n",
    "display(widgetD)\n",
    "\n",
    "def outD():\n",
    "    print(\"Go to the next page to see if you were correct.\")\n",
    "\n",
    "# Submit button: print and log the results\n",
    "# hourofci.SubmitBtn(user_agent,lesson,lesson_level,'3D',widgetD,outD)\n",
    "hourofci.SubmitBtn2(widgetD)\n",
    "\n",
    "# Answers\n",
    "# Sure! Laptops are computational systems, too\\n' +\\\n",
    "# '- Many science gateways run from laptops to coordinate complex workflows involving remote data sources, supercomputers, and visualization systems'\n",
    "# No, Try Again!"
   ]
  },
  {
   "cell_type": "markdown",
   "metadata": {
    "slideshow": {
     "slide_type": "slide"
    }
   },
   "source": [
    "## Is this a component of Cyberinfrastructure?\n",
    "\n",
    "Is a laptop computer a component of cyberinfrastructure?\n",
    "\n",
    "<img src=\"supplementary/laptop.png\" width=\"400\"/>\n",
    "\n",
    "### Sure! Laptops are computational systems, too\n",
    "Many science gateways run from laptops to coordinate complex workflows involving remote data sources, supercomputers, and visualization systems.\n"
   ]
  },
  {
   "cell_type": "markdown",
   "metadata": {
    "slideshow": {
     "slide_type": "slide"
    }
   },
   "source": [
    "## Is this a component of Cyberinfrastructure?\n",
    "\n",
    "How about a smartphone, could it be a component of cyberinfrastructure?\n",
    "\n",
    "<img src=\"supplementary/phone.png\" width=\"150\"/>\n",
    "\n",
    "<small>CC BY 4.0 https://commons.wikimedia.org/wiki/File:IPhone_8_vector.svg </small>"
   ]
  },
  {
   "cell_type": "code",
   "execution_count": null,
   "metadata": {
    "hide_input": true,
    "slideshow": {
     "slide_type": "-"
    },
    "tags": [
     "Init",
     "Hide",
     "3E"
    ]
   },
   "outputs": [],
   "source": [
    "# Auto-run, Widget\n",
    "# Yes, no buttons\n",
    "\n",
    "widgetE=widgets.ToggleButtons(\n",
    "    options=['Yes','No'],\n",
    "    description='',\n",
    "    disabled=False,\n",
    "    button_style='', # 'success', 'info', 'warning', 'danger' or ''\n",
    "    tooltips=['Yes this is CI', 'No this is not CI'],\n",
    ")\n",
    "\n",
    "# Show the options.\n",
    "display(widgetE)\n",
    "\n",
    "def outE():\n",
    "    print(\"Go to the next page to see if you were correct.\")\n",
    "\n",
    "# Submit button: print and log the results\n",
    "# hourofci.SubmitBtn(user_agent,lesson,lesson_level,'3E',widgetE,outE)\n",
    "hourofci.SubmitBtn2(widgetE)\n",
    "\n",
    "# Answers\n",
    "# Yes indeedy! \\n' +\\\n",
    "#'- This is a pretty sophisticated bit of computational hardware, first off. (Way more computing power than the first supercomputer, incidentally)\\n' +\\\n",
    "#'- Some science gateways will run from this\\n' +\\\n",
    "#'- And the camera and recording features allow this to be a “remote sensing device” too!' \n",
    "# No, try again"
   ]
  },
  {
   "cell_type": "markdown",
   "metadata": {
    "slideshow": {
     "slide_type": "slide"
    }
   },
   "source": [
    "## Is this a component of Cyberinfrastructure?\n",
    "\n",
    "How about a smartphone, could it be a component of cyberinfrastructure?\n",
    "\n",
    "<img src=\"supplementary/phone.png\" width=\"150\"/>\n",
    "\n",
    "### Yes indeedy! \n",
    "- This is a pretty sophisticated bit of computational hardware, first off. (Way more computing power than the first supercomputer, incidentally).\n",
    "- Some science gateways will run from this.\n",
    "- And the camera and recording features allow this to be a \"remote sensing device\" too!\n",
    "- Such technology in the pockets of many people allow location-based services and massive-scale social sensing.\n"
   ]
  },
  {
   "cell_type": "markdown",
   "metadata": {
    "slideshow": {
     "slide_type": "slide"
    }
   },
   "source": [
    "## Is this a component of Cyberinfrastructure?\n",
    "\n",
    "This is a very inexpensive and small computer, could it be a component of cyberinfrastructure?\n",
    "\n",
    "<img src=\"supplementary/raspb.png\" width=\"400\"/>\n",
    "\n",
    "<small> CC BY 4.0 https://en.wikipedia.org/wiki/Raspberry_Pi#/media/File:Raspberry_Pi_4_Model_B_-_Side.jpg</small>"
   ]
  },
  {
   "cell_type": "code",
   "execution_count": null,
   "metadata": {
    "hide_input": true,
    "slideshow": {
     "slide_type": "-"
    },
    "tags": [
     "Init",
     "Hide",
     "3F"
    ]
   },
   "outputs": [],
   "source": [
    "# Auto-run, Widget\n",
    "# Yes, no buttons\n",
    "\n",
    "widgetF=widgets.ToggleButtons(\n",
    "    options=['Yes','No'],\n",
    "    description='',\n",
    "    disabled=False,\n",
    "    button_style='', # 'success', 'info', 'warning', 'danger' or ''\n",
    "    tooltips=['Yes this is CI', 'No this is not CI'],\n",
    ")\n",
    "\n",
    "# Show the options.\n",
    "display(widgetF)\n",
    "\n",
    "def outF():\n",
    "    print(\"Go to the next page to see if you were correct.\")\n",
    "\n",
    "# Submit button: print and log the results\n",
    "# hourofci.SubmitBtn(user_agent,lesson,lesson_level,'3F',widgetF,outF)\n",
    "hourofci.SubmitBtn2(widgetF)\n",
    "\n",
    "# Answers\n",
    "# Yes, Speaking of remote sensing devices…\\n \\n'+\\\n",
    "#'- This is a Raspberry Pi – a very inexpensive small computer that is commonly used to handle the movement of data from sensors over the network to remote data storage or computational devices. \\n'+\\\n",
    "#'- So this is a piece of an advanced instrument and sure it can be a part of cyberinfrastructure'\n",
    "# No, Try Again!"
   ]
  },
  {
   "cell_type": "markdown",
   "metadata": {
    "slideshow": {
     "slide_type": "slide"
    }
   },
   "source": [
    "## Is this a component of Cyberinfrastructure?\n",
    "\n",
    "This is a very inexpensive and small computer, could it be a component of cyberinfrastructure?\n",
    "\n",
    "<img src=\"supplementary/raspb.png\" width=\"400\"/>\n",
    "\n",
    "### Yes \n",
    "Speaking of remote sensing devices…\n",
    "\n",
    "This is a Raspberry Pi – a very inexpensive small computer that is commonly used to handle the movement of data from sensors over the network to remote data storage or computational devices. \n",
    "So this is a piece of an advanced instrument and sure it can be a part of cyberinfrastructure.\n"
   ]
  },
  {
   "cell_type": "markdown",
   "metadata": {
    "slideshow": {
     "slide_type": "slide"
    }
   },
   "source": [
    "## Is this a component of Cyberinfrastructure?\n",
    "\n",
    "This is a very neatly arranged group of network cables on the back of a computer network switch, is this a component of cyberinfrastructure?\n",
    "\n",
    "<img src=\"supplementary/nwork.png\" width=\"400\"/>\n",
    "\n",
    "<small> © Indiana University – used with permission </small>"
   ]
  },
  {
   "cell_type": "code",
   "execution_count": null,
   "metadata": {
    "hide_input": true,
    "slideshow": {
     "slide_type": "-"
    },
    "tags": [
     "Init",
     "Hide",
     "3G"
    ]
   },
   "outputs": [],
   "source": [
    "# Auto-run, Widget\n",
    "# Yes, no buttons\n",
    "\n",
    "widgetG=widgets.ToggleButtons(\n",
    "    options=['Yes','No'],\n",
    "    description='',\n",
    "    disabled=False,\n",
    "    button_style='', # 'success', 'info', 'warning', 'danger' or ''\n",
    "    tooltips=['Yes this is CI', 'No this is not CI'],\n",
    ")\n",
    "\n",
    "# Show the options.\n",
    "display(widgetG)\n",
    "\n",
    "def outG():\n",
    "    print(\"Go to the next page to see if you were correct.\")\n",
    "\n",
    "# Submit button: print and log the results\n",
    "# hourofci.SubmitBtn(user_agent,lesson,lesson_level,'3G',widgetG,outG)\n",
    "hourofci.SubmitBtn2(widgetG)\n",
    "\n",
    "# Answers\n",
    "# Yes! This is a very neatly arranged group of network cables on the back of a computer network switch \\n' +\\\n",
    "# '- Modern, high-capacity computer networks were what really made it possible for cyberinfrastructure to be more than just supercomputers, and made it important for the coining of the term “cyberinfrastructure”\\n'\n",
    "# No, try again"
   ]
  },
  {
   "cell_type": "markdown",
   "metadata": {
    "slideshow": {
     "slide_type": "slide"
    }
   },
   "source": [
    "## Is this a component of Cyberinfrastructure?\n",
    "\n",
    "This is a very neatly arranged group of network cables on the back of a computer network switch, is this a component of cyberinfrastructure?\n",
    "\n",
    "<img src=\"supplementary/nwork.png\" width=\"400\"/>\n",
    "\n",
    "### Yes! \n",
    "Modern, high-capacity computer networks were what really made it possible for cyberinfrastructure to be more than just supercomputers, and made it important for the coining of the term 'cyberinfrastructure.'\n"
   ]
  },
  {
   "cell_type": "markdown",
   "metadata": {
    "slideshow": {
     "slide_type": "slide"
    }
   },
   "source": [
    "## Is this a component of Cyberinfrastructure?\n",
    "(Play the video to see who these people are ...)\n",
    "\n"
   ]
  },
  {
   "cell_type": "code",
   "execution_count": null,
   "metadata": {
    "hide_input": false,
    "slideshow": {
     "slide_type": "-"
    },
    "tags": [
     "Init",
     "Hide"
    ]
   },
   "outputs": [],
   "source": [
    "IFrame(\"https://www.youtube.com/embed/4rZKzL48DRY\", width=800, height=480)"
   ]
  },
  {
   "cell_type": "markdown",
   "metadata": {
    "slideshow": {
     "slide_type": "-"
    }
   },
   "source": [
    "<small> Image © XSEDE, used by permission. From https://www.xsede.org/-/getting-to-know-the-campus-champions</small>"
   ]
  },
  {
   "cell_type": "code",
   "execution_count": null,
   "metadata": {
    "hide_input": true,
    "slideshow": {
     "slide_type": "-"
    },
    "tags": [
     "Init",
     "Hide",
     "3H"
    ]
   },
   "outputs": [],
   "source": [
    "# Auto-run, Widget\n",
    "# Yes, no buttons\n",
    "\n",
    "widgetH=widgets.ToggleButtons(\n",
    "    options=['Yes','No'],\n",
    "    description='',\n",
    "    disabled=False,\n",
    "    button_style='', # 'success', 'info', 'warning', 'danger' or ''\n",
    "    tooltips=['Yes this is CI', 'No this is not CI'],\n",
    ")\n",
    "\n",
    "# Show the options.\n",
    "display(widgetH)\n",
    "\n",
    "def outH():\n",
    "    print(\"Go to the next page to see if you were correct.\")\n",
    "\n",
    "# Submit button: print and log the results\n",
    "# hourofci.SubmitBtn(user_agent,lesson,lesson_level,'3H',widgetH,outH)\n",
    "hourofci.SubmitBtn2(widgetH)\n",
    "\n",
    "# Answers\n",
    "# Yes, PEOPLE!\n",
    "#'- Experts with cyberinfrastructure are one of the most important parts of cyberinfrastructure\\n' +\\\n",
    "#'- Cyberinfrastructure (often shortened to just ”CI”) is very complicated and changes constantly\\n' +\\\n",
    "#'- CI experts are one of the most important aspects of cyberinfrastructure. They help people who really just want to get their science done, do just that. \\n' +\\\n",
    "#'- These particular people are called XSEDE Campus Champions. They are particularly expert at using a national cyberinfrastructure service called XSEDE (the eXtreme Science and Engineering Discovery Enviroment). They are called “campus champions” becuase one of the things they do is “champion” the use of XSEDE ontheir home campuses.'\n",
    "# No, try again"
   ]
  },
  {
   "cell_type": "markdown",
   "metadata": {
    "slideshow": {
     "slide_type": "slide"
    }
   },
   "source": [
    "## Is this a component of Cyberinfrastructure?\n",
    "\n",
    "<img src=\"supplementary/people.png\" width=\"400\"/>\n",
    "\n",
    "### Yes, PEOPLE!\n",
    "- Experts with cyberinfrastructure are one of the most important parts of cyberinfrastructure.\n",
    "- Cyberinfrastructure (often shortened to just ”CI”) is very complicated and changes constantly.\n",
    "- CI experts are one of the most important aspects of cyberinfrastructure. They help people who really just want to get their science done, do just that.\n",
    "- These particular people are called XSEDE Campus Champions. They are particularly expert at using a national cyberinfrastructure service called XSEDE (the eXtreme Science and Engineering Discovery Enviroment). They are called “campus champions” because one of the things they do is “champion” the use of XSEDE on their home campuses.\n"
   ]
  },
  {
   "cell_type": "markdown",
   "metadata": {
    "slideshow": {
     "slide_type": "slide"
    }
   },
   "source": [
    "## Great! \n",
    "\n",
    "Now that you have identified some of the key components of cyberinfrastructure. Let's see if you can identify examples of what is and is not cyberinfrastructure."
   ]
  },
  {
   "cell_type": "markdown",
   "metadata": {
    "slideshow": {
     "slide_type": "slide"
    }
   },
   "source": [
    "## Is this Cyberinfrastructure?\n",
    "\n",
    "This is a graphical depiction of a laptop connected to a Microsoft Azure cloud, could this be cyberinfrastructure?\n",
    "\n",
    "<img src=\"supplementary/azure.png\" width=\"400\"/>\n",
    "\n",
    "<small> ©Microsoft Inc – used with permission </small>"
   ]
  },
  {
   "cell_type": "code",
   "execution_count": null,
   "metadata": {
    "hide_input": true,
    "slideshow": {
     "slide_type": "-"
    },
    "tags": [
     "Init",
     "Hide",
     "3I"
    ]
   },
   "outputs": [],
   "source": [
    "# Auto-run, Widget\n",
    "# Yes, no buttons\n",
    "\n",
    "widgetI=widgets.ToggleButtons(\n",
    "    options=['Yes','No'],\n",
    "    description='',\n",
    "    disabled=False,\n",
    "    button_style='', # 'success', 'info', 'warning', 'danger' or ''\n",
    "    tooltips=['Yes this is CI', 'No this is not CI'],\n",
    ")\n",
    "\n",
    "# Show the options.\n",
    "display(widgetI)\n",
    "\n",
    "def outI():\n",
    "    print(\"Go to the next page to see if you were correct.\")\n",
    "\n",
    "# Submit button: print and log the results\n",
    "# hourofci.SubmitBtn(user_agent,lesson,lesson_level,'3I',widgetI,outI)\n",
    "hourofci.SubmitBtn2(widgetI)\n",
    "# Answers\n",
    "# Yes, This is a graphical depiction of a laptop connected to a Microsoft Azure cloud. There are many commercial and “on premises” cloud resources available today, all of which are most certainly included in the concept of cyberinfrastructure!'\n",
    "# No, try again"
   ]
  },
  {
   "cell_type": "markdown",
   "metadata": {
    "slideshow": {
     "slide_type": "slide"
    }
   },
   "source": [
    "## Is this Cyberinfrastructure?\n",
    "\n",
    "This is a graphical depiction of a laptop connected to a Microsoft Azure cloud, could this be cyberinfrastructure?\n",
    "\n",
    "<img src=\"supplementary/azure.png\" width=\"400\"/>\n",
    "\n",
    "### Yes \n",
    "There are many commercial and “on premises” cloud resources available today, all of which are most certainly included in the concept of cyberinfrastructure!'\n"
   ]
  },
  {
   "cell_type": "markdown",
   "metadata": {
    "slideshow": {
     "slide_type": "slide"
    }
   },
   "source": [
    "## Is this Cyberinfrastructure?\n",
    "\n",
    "<img src=\"supplementary/pie.png\" width=\"200\"/>\n",
    "\n",
    "<small> </small>"
   ]
  },
  {
   "cell_type": "code",
   "execution_count": null,
   "metadata": {
    "hide_input": true,
    "slideshow": {
     "slide_type": "-"
    },
    "tags": [
     "Init",
     "Hide",
     "3J"
    ]
   },
   "outputs": [],
   "source": [
    "# Auto-run, Widget\n",
    "# Yes, no buttons\n",
    "\n",
    "widgetJ=widgets.ToggleButtons(\n",
    "    options=['Yes','No'],\n",
    "    description='',\n",
    "    disabled=False,\n",
    "    button_style='', # 'success', 'info', 'warning', 'danger' or ''\n",
    "    tooltips=['Yes this is CI', 'No this is not CI'],\n",
    ")\n",
    "\n",
    "# Show the options.\n",
    "display(widgetJ)\n",
    "\n",
    "def outJ():\n",
    "    print(\"Go to the next page to see if you were correct.\")\n",
    "\n",
    "# Submit button: print and log the results\n",
    "# hourofci.SubmitBtn(user_agent,lesson,lesson_level,'3J',widgetJ,outJ)\n",
    "hourofci.SubmitBtn2(widgetJ)\n",
    "\n",
    "# Answers\n",
    "# Yes, Try again.\n",
    "# No, This is a piece of Raspberry Pie, not a Raspberry Pi\\n' + \\\n",
    "#'- Sadly, it cannot be considered part of cyberinfrastructure. Not even if it didn’t have ice cream.\\n ' +\\\n",
    "#'- But many people – who are part of CI – find Raspberry Pie very tasty and will thank you for giving them a piece of raspberry pie.\\n'"
   ]
  },
  {
   "cell_type": "markdown",
   "metadata": {
    "slideshow": {
     "slide_type": "fragment"
    }
   },
   "source": [
    "#### No, This is a piece of Raspberry Pie, not a Raspberry Pi\n",
    "Sadly, it cannot be considered part of cyberinfrastructure. Not even if it didn’t have ice cream.\n",
    "But many people – who are part of CI – find Raspberry Pie very tasty and will thank you for giving them a piece of raspberry pie."
   ]
  },
  {
   "cell_type": "markdown",
   "metadata": {
    "slideshow": {
     "slide_type": "slide"
    }
   },
   "source": [
    "<figure>\n",
    "    <div>\n",
    "    <img src=\"supplementary/congratulations.png\" width=\"400\"/>\n",
    "    <footer><small><!-- copyright noice --></small></footer>\n",
    "    </div>\n",
    "</figure>\n",
    "\n",
    "## You just learned a lot more detail about what components of cyberinfrastructure can be.\n",
    "\n",
    "Let’s learn more about some of the different types of computing systems that can be part of cyberinfrastructure today.\n",
    "\n",
    "<a href=\"cyberinfrastructure-4.ipynb\">Click here to move on to the next segment.</a>"
   ]
  }
 ],
 "metadata": {
  "celltoolbar": "Slideshow",
  "kernelspec": {
   "display_name": "I-GUIDE EWD",
   "language": "python",
   "name": "conda-env-iguide-ewd-py"
  },
  "language_info": {
   "codemirror_mode": {
    "name": "ipython",
    "version": 3
   },
   "file_extension": ".py",
   "mimetype": "text/x-python",
   "name": "python",
   "nbconvert_exporter": "python",
   "pygments_lexer": "ipython3",
   "version": "3.7.16"
  },
  "rise": {
   "autolaunch": true,
   "overlay": "<div class='hciheader'></div><div class='hcifooter'></div>",
   "scroll": true
  }
 },
 "nbformat": 4,
 "nbformat_minor": 2
}
