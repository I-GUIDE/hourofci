{
 "cells": [
  {
   "cell_type": "markdown",
   "metadata": {
    "slideshow": {
     "slide_type": "slide"
    }
   },
   "source": [
    "# Cyberinfrastructure\n",
    "\n",
    "## Segment 1 of 5\n",
    "\n",
    "<i>Lesson Developers: </i>\n",
    "<ul>\n",
    "    <li>\n",
    "    <i>Craig A. Stewart (stewart@iu.edu)</i>\n",
    "    </li>\n",
    "    <li>\n",
    "    <i>Sri Harsha (srmanj@iu.edu)</i>\n",
    "    </li>\n",
    "    <li>\n",
    "    <i>Brian Cooper (coope824@umn.edu)</i>\n",
    "    </li>\n",
    "    <li>\n",
    "    <i>Eric Shook (eshook@umn.edu)</i>\n",
    "    </li>\n",
    "</ul>\n",
    "\n",
    "\n",
    " <img src=\"supplementary/pti.jpg\" width=\"200\" alt=\"Pervasive Technology Institute logo\">"
   ]
  },
  {
   "cell_type": "code",
   "execution_count": null,
   "metadata": {
    "hide_input": true,
    "init_cell": true,
    "scrolled": false,
    "slideshow": {
     "slide_type": "skip"
    },
    "tags": [
     "Hide"
    ]
   },
   "outputs": [],
   "source": [
    "# This code cell starts the necessary setup for Hour of CI lesson notebooks.\n",
    "# First, it enables users to hide and unhide code by producing a 'Toggle raw code' button below.\n",
    "# Second, it imports the hourofci package, which is necessary for lessons and interactive Jupyter Widgets.\n",
    "# Third, it helps hide/control other aspects of Jupyter Notebooks to improve the user experience\n",
    "# This is an initialization cell\n",
    "# It is not displayed because the Slide Type is 'Skip'\n",
    "\n",
    "from IPython.display import HTML, IFrame, Javascript, display\n",
    "from ipywidgets import interactive\n",
    "import ipywidgets as widgets\n",
    "from ipywidgets import Layout\n",
    "\n",
    "import getpass # This library allows us to get the username (User agent string)\n",
    "\n",
    "# import package for hourofci project\n",
    "import sys\n",
    "sys.path.append('../../supplementary') # relative path (may change depending on the location of the lesson notebook)\n",
    "import hourofci\n",
    "\n",
    "\n",
    "# load javascript to initialize/hide cells, get user agent string, and hide output indicator\n",
    "# hide code by introducing a toggle button \"Toggle raw code\"\n",
    "HTML(''' \n",
    "    <script type=\"text/javascript\" src=\\\"../../supplementary/js/custom.js\\\"></script>\n",
    "    \n",
    "    <style>\n",
    "        .output_prompt{opacity:0;}\n",
    "    </style>\n",
    "    \n",
    "    <input id=\"toggle_code\" type=\"button\" value=\"Toggle raw code\">\n",
    "''')"
   ]
  },
  {
   "cell_type": "markdown",
   "metadata": {
    "slideshow": {
     "slide_type": "slide"
    }
   },
   "source": [
    "# Introduction and History\n",
    "\n",
    "In this section we will cover the history of computation and computing and why the need for the word cyberinfrastructure arose.\n",
    "\n",
    "- For a long time (thousands of years) people talked about computation and computers.\n",
    "- Then in 2003, the National Science Foundation decided that a new word was needed to talk about the infrastructure that was used to support the creation of knowledge: **cyberinfrastructure**. \n",
    "\n"
   ]
  },
  {
   "cell_type": "markdown",
   "metadata": {
    "slideshow": {
     "slide_type": "fragment"
    }
   },
   "source": [
    "## Why?\n",
    "\n",
    "To understand what happened, let’s look a bit at the history of computation and computers."
   ]
  },
  {
   "cell_type": "markdown",
   "metadata": {
    "slideshow": {
     "slide_type": "slide"
    }
   },
   "source": [
    "## Early History of Computation\n",
    "\n",
    "<table>\n",
    "  <tr style=\"background-color:transparent\">\n",
    "    <td style=\"padding-right:50px; width:700px\">\n",
    "        <ul>\n",
    "           <li>During the time of the Roman empire (about 2,000 years ago), calculating where stones thrown by a catapult would land was an important mathematical problem.</li>\n",
    "            <li>Here is an example of a catapult, used by Rome and by countries that invaded Rome.</li>\n",
    "        </ul>\n",
    "    </td>\n",
    "    <td>\n",
    "        <img src='supplementary/catapult.png', width=\"450\"/>\n",
    "        <font size=\"-1\">Image credit: <a href=\"https://commons.wikimedia.org/wiki/File:Mang2.png\">Wikimedia</a></font>\n",
    "    </td>\n",
    "  </tr>\n",
    "</table>\n",
    "\n",
    "\n"
   ]
  },
  {
   "cell_type": "markdown",
   "metadata": {
    "slideshow": {
     "slide_type": "slide"
    }
   },
   "source": [
    "## Run some simulations of your own!\n",
    "\n",
    "- To get a sense for the number of parameters you need to consider to estimate the distance a boulder (payload ) is thrown by a catapult, you can run a simulation of a catapult. \n",
    "- Try it a few times!\n"
   ]
  },
  {
   "cell_type": "code",
   "execution_count": null,
   "metadata": {
    "hide_input": true,
    "slideshow": {
     "slide_type": "slide"
    },
    "tags": [
     "Init",
     "Hide"
    ]
   },
   "outputs": [],
   "source": [
    "IFrame(\"supplementary/catapult.html\", width=984, height=700)"
   ]
  },
  {
   "cell_type": "markdown",
   "metadata": {
    "slideshow": {
     "slide_type": "slide"
    }
   },
   "source": [
    "### An early “computation device”\n",
    "\n",
    "<table>\n",
    "  <tr style=\"background-color:transparent\">\n",
    "    <td style=\"padding-right:50px; width:700px\">\n",
    "        <ul>\n",
    "          <li>Archimedes was an important mathematician who made many discoveries.</li>\n",
    "          <li>He lived from 287 to 212 BC.</li>\n",
    "          <li>He was valuable to the army of Carthage (which was at war with Rome during Archimedes lifetime) because he was very good at calculating where stones thrown by a catapult would land. This was a calculation that had essentially one number as <b>output</b>: how far the stone would go.</li>\n",
    "        </ul>\n",
    "    </td>\n",
    "    <td>\n",
    "        <img src=\"supplementary/Archimedes.jpg\" width=\"300\"/>\n",
    "        <font size=\"-1\">Image credit: <a href=\"https://commons.wikimedia.org/wiki/File:Domenico-Fetti_Archimedes_1620.jpg\">(Wikimedia)</a></font>\n",
    "    </td>\n",
    "  </tr>\n",
    "</table>\n",
    "\n",
    "\n",
    "\n"
   ]
  },
  {
   "cell_type": "markdown",
   "metadata": {
    "slideshow": {
     "slide_type": "slide"
    }
   },
   "source": [
    "## Let's figure out how quickly Archimedes could calculate the distance a boulder is going to fly\n",
    "Once a catapult is built, there are really just two parameters you can adjust that impact the distance:\n",
    "  1. Mass of the projectile\n",
    "  2. Amount of tension\n",
    "  \n",
    "These two parameters are called **inputs** that will determine the **output**, which is distance a boulder will fly.\n"
   ]
  },
  {
   "cell_type": "markdown",
   "metadata": {
    "slideshow": {
     "slide_type": "slide"
    }
   },
   "source": [
    "## Let's figure out how quickly Archimedes could calculate the distance a boulder is going to fly\n",
    "\n",
    "Inputs and outputs are simply **data** that Archimedes can use and produce as a human calculator to calculate distance. Let's get a little more precise in how we represent this data. Computers are based on the binary number system, which means they use 0's and 1's. One **bit** is either a 0 or a 1. One **byte** is 8 bits.\n",
    "\n",
    "| Binary Number | Decimal Number | \n",
    "|------|--------|\n",
    "|00000000 |   0 |\n",
    "|00000001 |   1 |\n",
    "|00000010 |   2 |\n",
    "|00001010 |  10 |\n",
    "|00010000 |  16 |\n",
    "|11111111 | 255 |\n",
    "\n",
    "Two bytes (or 16 bits) can store numbers up to 65,536. Four bytes (or 32 bits) can store numbers up to 4,294,967,295! See more about binary numbers [here](https://en.wikipedia.org/wiki/Binary_number). If we can store more numbers, then we can be more precise. \n",
    "\n"
   ]
  },
  {
   "cell_type": "markdown",
   "metadata": {
    "slideshow": {
     "slide_type": "slide"
    }
   },
   "source": [
    "## How do bits relate to precision?\n",
    "\n",
    "Let's take a look at the following image. If Archimedes is trying to hit the target that is in the firing range, then he needs to have small enough units to be able to communicate the location. If he has only 1 bit, then he can either fire the maximum distance (1) or half the maximum distance (0). If he has 4 bits, then he has 16 different locations that can be calculated. This is similar to the difference between measuring distance using kilometers versus meters. If the target is 1,400 meters away, then 1km is too short, but 2 km is too far.\n",
    "\n",
    "<img src=\"supplementary/catapult-bits.png\">"
   ]
  },
  {
   "cell_type": "markdown",
   "metadata": {
    "slideshow": {
     "slide_type": "slide"
    }
   },
   "source": [
    "## Let's figure out how quickly Archimedes could calculate the distance a boulder is going to fly\n",
    "\n",
    "Let’s figure that maybe people were really precise with their measurements and the two input values might take four bytes each, and the one output value might take four bytes as well... \n",
    "\n",
    "So that means that we have:\n",
    "  * 2 * 4 bytes of **input** \n",
    "  * 1 * 4 bytes of **output**\n",
    "\n",
    "We can use these to figure out the **Input/Output Rate** or **I/O Rate**, which is how quickly we can accept input, run the calculations, and produce output. What do you think the \"I/O rate\" of Archimedes might have been?\n",
    "\n",
    "\n",
    "\n"
   ]
  },
  {
   "cell_type": "markdown",
   "metadata": {
    "slideshow": {
     "slide_type": "slide"
    }
   },
   "source": [
    "### Well, we don't really know ....\n",
    "\n",
    "because we don’t know how quickly Archimedes could run his calculations. Perhaps he approximated his results. He was, after all, trying to help soldiers crush other soldiers with rocks; he wasn’t doing brain surgery.\n",
    "\n",
    "But let’s figure maybe 1 calculation in 5 minutes and 4 Bytes of I/O per minute, tops, was the I/O rate for Archimedes as a human calculator. If that is the case it would take him two minutes to get the input location from a soldier (2 * 4 bytes), five minutes to run his calculations, and another minute to communicate the distance to the catapult launcher (1 * 4 bytes). So his I/O rate would be approximately 8 minutes to input, calculate, and output 12 bytes."
   ]
  },
  {
   "cell_type": "markdown",
   "metadata": {
    "slideshow": {
     "slide_type": "fragment"
    }
   },
   "source": [
    "Now let's compare Archimedes to others types of calculating machines..."
   ]
  },
  {
   "cell_type": "markdown",
   "metadata": {
    "slideshow": {
     "slide_type": "slide"
    }
   },
   "source": [
    "## Later there were “calculating machines”\n",
    "\n",
    "- These are mechanical devices that performed calculations\n",
    "- The Chinese Abacus was very practical and skilled people using it were very fast\n",
    "- The Arithmometer, manufactured and sold in 1851, was the first commercially successful calculating machine for office use\n",
    "\n",
    "<table>\n",
    "  <tr style=\"background-color:transparent\">\n",
    "    <td style=\"padding-right:50px; width:50%\">\n",
    "        <figure>\n",
    "        <div>\n",
    "        <img src=\"https://upload.wikimedia.org/wikipedia/commons/a/af/Abacus_6.png\" width=\"250\"/>\n",
    "        <footer><small><!-- copyright noice --></small></footer>\n",
    "        </div>\n",
    "        </figure>\n",
    "        <font size=\"-1\">Image credit: [Wikimedia](https://commons.wikimedia.org/wiki/File:Abacus_6.png)</font>\n",
    "    </td>\n",
    "    <td>\n",
    "        <figure>\n",
    "        <div>\n",
    "        <img src=\"https://upload.wikimedia.org/wikipedia/commons/5/59/Arithmometre.jpg\" width=\"300\"/>\n",
    "        <footer><small><!-- copyright noice --></small></footer>\n",
    "        </div>\n",
    "        </figure>\n",
    "        <font size=\"-1\">Image credit: [Wikipedia](https://en.wikipedia.org/wiki/Arithmometer)</font>   \n",
    "    </td>\n",
    "  </tr>\n",
    "</table>\n",
    "\n",
    "\n",
    "\n",
    "\n",
    "\n",
    "\n",
    "\n"
   ]
  },
  {
   "cell_type": "markdown",
   "metadata": {
    "slideshow": {
     "slide_type": "slide"
    }
   },
   "source": [
    "### Wait a moment...!\n",
    "\n",
    "You're about to see a virtual Chinese abacus with a hexadecimal numeral system. Hexadecimal numeral system is simply a numeral system that has 16 base digits (instead of 10 for decimal). \n",
    "The hexadecimal base digits are 0, 1, 2, 3, 4, 5, 6, 7, 8, 9, a, b, c, d, e, f which an \"f\" is equivalent to 15 in decimal system (see <a href = https://en.wikipedia.org/wiki/Hexadecimal>here</a> for more details). \n",
    " \n",
    "The abacus has an upper deck with two beads, each is worth 5, and the bottom has five, each worth 1. \n"
   ]
  },
  {
   "cell_type": "markdown",
   "metadata": {
    "slideshow": {
     "slide_type": "slide"
    }
   },
   "source": [
    "## Try a virtual Abacus simulator and see how fast you can make it go!"
   ]
  },
  {
   "cell_type": "code",
   "execution_count": null,
   "metadata": {
    "hide_input": true,
    "slideshow": {
     "slide_type": "-"
    },
    "tags": [
     "Init",
     "Hide"
    ]
   },
   "outputs": [],
   "source": [
    "# Auto-run\n",
    "IFrame(\"supplementary/abacus.html\", width=600, height=475)"
   ]
  },
  {
   "cell_type": "markdown",
   "metadata": {
    "slideshow": {
     "slide_type": "slide"
    }
   },
   "source": [
    "> In 2012, Naofumi Ogasawara, a 22-year-old abacus instructor from Japan completed the task of calculating 10 sums of 10 10-digit numbers each in three minutes and 11 seconds. ( [Recordholders.org](http://www.recordholders.org/en/events/worldcup/2012/results.html); [theguardian.com](https://www.theguardian.com/science/alexs-adventures-in-numberland/2012/oct/10/mental-calculation-world-cup) )\n",
    "\n",
    "### What is the calculation rate and I/O rate that the winner achieved?\n",
    "\n",
    "- The input was 100 integers each of which could be represented by 2 bytes (200 bytes total)\n",
    "- The output was 10 integers each of which could be represented by 2 bytes (20 bytes total)\n",
    "- The number of seconds was 191\n",
    "- Each sum of 10 integers took 9 additions, so there were a total of 900 mathematical **operations**\n",
    "- The total calculation rate was approximately (900 operations / 191 seconds) or ~4.7 operations per second\n",
    "- So the total I/O rate was something like 220 bytes/191 seconds or between 1 and 2 bytes per second\n",
    "\n",
    "\n",
    "\n"
   ]
  },
  {
   "cell_type": "markdown",
   "metadata": {
    "slideshow": {
     "slide_type": "slide"
    }
   },
   "source": [
    "## The first fully electronic computer\n",
    "\n",
    "<table>\n",
    "  <tr style=\"background-color:transparent\">\n",
    "    <td style=\"padding-right:50px; width:700px; text-align: left;\">\n",
    "        <ul>\n",
    "          <li>The Z3, invented by Konrad Zuse, in Berlin, Germany in 1941.</li>\n",
    "          <li>It could accept any program and took about 1 second per addition and 3 seconds per multiplication of a 22 bit number. Faster than an abacus but not much!</li>\n",
    "          <li>We’re not quite sure what the I/O rates were - but input was with a keyboard and output with lights, so … pretty slow.</li>\n",
    "        </ul>\n",
    "    </td>\n",
    "    <td>      \n",
    "<figure>\n",
    "    <div>\n",
    "    <img src=\"https://upload.wikimedia.org/wikipedia/commons/4/4c/Z3_Deutsches_Museum.JPG\" width=\"400\"/>\n",
    "    <footer><small><!-- copyright noice --></small></footer>\n",
    "    </div>\n",
    "</figure>\n",
    "\n",
    "<font size=\"-1\">Image credit: [Wikimedia](https://upload.wikimedia.org/wikipedia/commons/4/4c/Z3_Deutsches_Museum.JPG)</font>    \n",
    "    </td>\n",
    "  </tr>\n",
    "</table>\n",
    "\n"
   ]
  },
  {
   "cell_type": "markdown",
   "metadata": {
    "slideshow": {
     "slide_type": "slide"
    }
   },
   "source": [
    "## Supercomputers!\n",
    "\n",
    "In the 1970s and 1980s there were lots of different labels for computers. Mainframe computers, minicomputers, workstations. The label “supercomputers” was invented for several reasons:\n",
    "  - This word distinguished the most powerful computers on earth from \"ordinary\" computers\n",
    "  - It sounds cool\n",
    "\n",
    "###  What makes a supercomputer \"super\"?\n"
   ]
  },
  {
   "cell_type": "markdown",
   "metadata": {
    "slideshow": {
     "slide_type": "slide"
    }
   },
   "source": [
    "##  What makes a supercomputer \"super\"?\n",
    "  - There is no fixed and agreed on definition. The general idea is that a supercomputer is one of the most powerful computers around\n",
    "  - One of the general characteristics of supercomputers is that they break computational problems up into many parts and work on those problems in **parallel** – many different processors each analyzing a part of a problem\n",
    "  - If you have a computer and it costs more than \\$1,000,000 and you want to call it “super” then go ahead!\n",
    "  \n",
    "*Side note:* To use supercomputers effectively to solve problems, it is important to learn about **parallel computing** so make sure to check out the beginner lesson on parallel computing if you are interested!\n"
   ]
  },
  {
   "cell_type": "markdown",
   "metadata": {
    "slideshow": {
     "slide_type": "slide"
    }
   },
   "source": [
    "## The First Supercomputer\n",
    "\n",
    "<table>\n",
    "  <tr style=\"background-color:transparent\">\n",
    "    <td style=\"padding-right:50px; width:700px; text-align: left;\">\n",
    "        <ul>\n",
    "          <li>The first supercomputer which was both “super” and called a supercomputer was the Control Data 6600, designed by Seymour Cray. The first system was delivered to a commercial customer in 1964.</li>\n",
    "          <li>This supercomputer could do 3,000 calculations per second.</li>\n",
    "          <li>I/O Rate. Because of the way the system was designed, it’s tricky to calculate an input rate. But output was with a teletype, so output was no more than about 10 characters per second.</li>\n",
    "        </ul>\n",
    "    </td>\n",
    "    <td>      \n",
    "<figure>\n",
    "    <div>\n",
    "    <img src=\"https://upload.wikimedia.org/wikipedia/commons/c/c4/CDC_6600.jc.jpg\" width=\"400\"/>\n",
    "    <footer><small><!-- copyright noice --></small></footer>\n",
    "    </div>\n",
    "</figure>\n",
    "\n",
    "<font size=\"-1\">Image credit: [Wikipedia](https://upload.wikimedia.org/wikipedia/commons/c/c4/CDC_6600.jc.jpg)</font>    \n",
    "    </td>\n",
    "  </tr>\n",
    "</table>\n",
    "\n"
   ]
  },
  {
   "cell_type": "markdown",
   "metadata": {
    "slideshow": {
     "slide_type": "slide"
    }
   },
   "source": [
    "## Today’s fastest supercomputer\n",
    "\n",
    "\n",
    "<table>\n",
    "  <tr style=\"background-color:transparent\">\n",
    "    <td style=\"padding-right:50px; width:700px; text-align: left;\">\n",
    "        <ul>\n",
    "          <li>The fastest (unclassified) supercomputer in the world as of Summer 2020 is called Summit, at Oak Ridge National Labs in the US.</li>\n",
    "          <li>It has achieved a calculation speed of 148,600,000,000,000 calculations per second. (Calculations are measured now in “FLOPS” - floating point operations per second - and that’s 148 PetaFLOPS. Or, in round numbers, really fast. </li>\n",
    "          <li>I/O rate is 100 GigaBytes per second from an external network (that’s 1,000,000,000 Bytes per second). Local output - to a local file system - is 2.5 TByte / second, or 2,500,000,000,000 Bytes per second.</li>\n",
    "        </ul>\n",
    "    </td>\n",
    "    <td>      \n",
    "<figure>\n",
    "    <div>\n",
    "    <img src=\"https://upload.wikimedia.org/wikipedia/commons/b/b4/Summit_%28supercomputer%29.jpg\" width=\"400\"/>\n",
    "    <footer><small><!-- copyright noice --></small></footer>\n",
    "    </div>\n",
    "</figure>\n",
    "\n",
    "<font size=\"-1\">Image credit: [Wikipedia](https://en.wikipedia.org/wiki/Summit_(supercomputer)#/media/File:Summit_(supercomputer).jpg)</font>    \n",
    "    </td>\n",
    "  </tr>\n",
    "</table>\n",
    "\n"
   ]
  },
  {
   "cell_type": "markdown",
   "metadata": {
    "slideshow": {
     "slide_type": "slide"
    }
   },
   "source": [
    "## Supercomputers help people do cool stuff\n",
    "\n",
    "\n",
    "<table style=\"width:90%\">\n",
    "  <tr style=\"background-color:transparent\">\n",
    "    <td style=\"padding-right:50px; width:650px; text-align: left;\">\n",
    "        Many discoveries were made with supercomputers, including:\n",
    "        <ul>\n",
    "              <li>Calculate the mass of subatomic particles</li>\n",
    "              <li>Simulate how suns form</li>\n",
    "              <li>Simulate how tornadoes form</li>\n",
    "              <li>Solving the four color problem. This is a mathematical problem that is hundreds of years old. The problem is this: prove that any map can be colored with four colors and no two adjoining countries on the map will be colored the same. Supercomputers were used to solve this problem in the mid 1970s. See the illustration</li>\n",
    "        </ul>\n",
    "    </td>\n",
    "    <td>      \n",
    "<figure>\n",
    "    <div>\n",
    "    <img src=\"https://upload.wikimedia.org/wikipedia/commons/8/8a/Four_Colour_Map_Example.svg\" width=\"350\"/>\n",
    "    <footer><small><!-- copyright noice --></small></footer>\n",
    "    </div>\n",
    "</figure>\n",
    "\n",
    "Image credit: https://commons.wikimedia.org/wiki/File:Four_Colour_Map_Example.svg    \n",
    "    </td>\n",
    "  </tr>\n",
    "</table>\n",
    "\n",
    "\n",
    "\n",
    "\n",
    "\n"
   ]
  },
  {
   "cell_type": "markdown",
   "metadata": {
    "slideshow": {
     "slide_type": "slide"
    }
   },
   "source": [
    "## Can you solve the four color problem?"
   ]
  },
  {
   "cell_type": "code",
   "execution_count": null,
   "metadata": {
    "hide_input": true,
    "slideshow": {
     "slide_type": "-"
    },
    "tags": [
     "Init",
     "Hide"
    ]
   },
   "outputs": [],
   "source": [
    "IFrame(\"supplementary/fourcolor.html\", width=\"970\", height=\"730\")"
   ]
  },
  {
   "cell_type": "markdown",
   "metadata": {
    "slideshow": {
     "slide_type": "slide"
    }
   },
   "source": [
    "## Let's look back: what was the evolution of I/O rates of computing devices?\n",
    "In early computing devices, up to early supercomputers, the ratio of Calculation / IO was very high. This is called the Compute / Bandwidth ratio now.\n",
    "\n",
    "| Device | Year | Calculation Rate (measured in Floating Point Operations per Second) | I/O Rate |\n",
    "| :-: | :-: | :-: | :-: |\n",
    "| Archimedes | 0 | <1 | 1 Byte / Minute\n",
    "| Abacus | 1000 | 5 | 1 Byte / Second\n",
    "| Z3 | 1941 | ⅓ to 1 operation per second | Not sure - but slow\n",
    "| Control Data 6600 | 1943 | 3,000 | 10 Bytes / second\n",
    "| Summit - the fastest supercomputer in the world | 2018 | 148,600,000,000,000  | In, across a network: 1,000,000,000 Bytes / second <br/>Out, locally to a file system: 2,500,000,000,000 Bytes / second\n"
   ]
  },
  {
   "cell_type": "markdown",
   "metadata": {
    "slideshow": {
     "slide_type": "slide"
    }
   },
   "source": [
    "<figure>\n",
    "    <div>\n",
    "    <img src=\"supplementary/congratulations.png\" width=\"400\"/>\n",
    "    <footer><small><!-- copyright notice --></small></footer>\n",
    "    </div>\n",
    "</figure>\n",
    "\n",
    "## You now understand three very important concepts\n",
    "1. The early history of computation\n",
    "2. I/O Rate, the speed at which data is input and output\n",
    "3. Calculation Rate (now measured in Floating Point Operations per Second or FLOP)"
   ]
  },
  {
   "cell_type": "markdown",
   "metadata": {
    "slideshow": {
     "slide_type": "slide"
    }
   },
   "source": [
    "## Next\n",
    "\n",
    "Let's learn about cyberinfrastructure and how even supercomputers are enough for science.\n",
    "\n",
    "<a href=\"cyberinfrastructure-3.ipynb\">Click here to move to the next section to learn more!</a>"
   ]
  }
 ],
 "metadata": {
  "celltoolbar": "Slideshow",
  "kernelspec": {
   "display_name": "I-GUIDE EWD",
   "language": "python",
   "name": "conda-env-iguide-ewd-py"
  },
  "language_info": {
   "codemirror_mode": {
    "name": "ipython",
    "version": 3
   },
   "file_extension": ".py",
   "mimetype": "text/x-python",
   "name": "python",
   "nbconvert_exporter": "python",
   "pygments_lexer": "ipython3",
   "version": "3.7.16"
  },
  "rise": {
   "autolaunch": true,
   "overlay": "<div class='hciheader'></div><div class='hcifooter'></div>",
   "scroll": true
  }
 },
 "nbformat": 4,
 "nbformat_minor": 2
}
