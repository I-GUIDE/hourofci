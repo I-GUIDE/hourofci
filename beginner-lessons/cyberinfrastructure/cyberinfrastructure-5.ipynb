{
 "cells": [
  {
   "cell_type": "markdown",
   "metadata": {
    "slideshow": {
     "slide_type": "slide"
    }
   },
   "source": [
    "# Cyberinfrastructure\n",
    "\n",
    "## Segment 4 of 5\n",
    "\n",
    "<i>Lesson Developers: </i>\n",
    "<ul>\n",
    "    <li>\n",
    "    <i>Craig A. Stewart (stewart@iu.edu)</i>\n",
    "    </li>\n",
    "    <li>\n",
    "    <i>Sri Harsha (srmanj@iu.edu)</i>\n",
    "    </li>\n",
    "    <li>\n",
    "    <i>Brian Cooper (coope824@umn.edu)</i>\n",
    "    </li>\n",
    "    <li>\n",
    "    <i>Eric Shook (eshook@umn.edu)</i>\n",
    "    </li>\n",
    "</ul>\n",
    "\n",
    "\n",
    " <img src=\"supplementary/pti.jpg\" width=\"200\" alt=\"Pervasive Technology Institute logo\">"
   ]
  },
  {
   "cell_type": "code",
   "execution_count": null,
   "metadata": {
    "hide_input": true,
    "init_cell": true,
    "scrolled": false,
    "slideshow": {
     "slide_type": "skip"
    },
    "tags": [
     "Hide"
    ]
   },
   "outputs": [],
   "source": [
    "# This code cell starts the necessary setup for Hour of CI lesson notebooks.\n",
    "# First, it enables users to hide and unhide code by producing a 'Toggle raw code' button below.\n",
    "# Second, it imports the hourofci package, which is necessary for lessons and interactive Jupyter Widgets.\n",
    "# Third, it helps hide/control other aspects of Jupyter Notebooks to improve the user experience\n",
    "# This is an initialization cell\n",
    "# It is not displayed because the Slide Type is 'Skip'\n",
    "\n",
    "from IPython.display import HTML, IFrame, Javascript, display\n",
    "from ipywidgets import interactive\n",
    "import ipywidgets as widgets\n",
    "from ipywidgets import Layout\n",
    "\n",
    "import getpass # This library allows us to get the username (User agent string)\n",
    "\n",
    "# import package for hourofci project\n",
    "import sys\n",
    "sys.path.append('../../supplementary') # relative path (may change depending on the location of the lesson notebook)\n",
    "import hourofci\n",
    "\n",
    "# Retreive the user agent string, it will be passed to the hourofci submit button\n",
    "agent_js = \"\"\"\n",
    "IPython.notebook.kernel.execute(\"user_agent = \" + \"'\" + navigator.userAgent + \"'\");\n",
    "\"\"\"\n",
    "Javascript(agent_js)\n",
    "\n",
    "# load javascript to initialize/hide cells, get user agent string, and hide output indicator\n",
    "# hide code by introducing a toggle button \"Toggle raw code\"\n",
    "HTML(''' \n",
    "    <script type=\"text/javascript\" src=\\\"../../supplementary/js/custom.js\\\"></script>\n",
    "    <style>\n",
    "        .output_prompt{opacity:0;}\n",
    "    </style>\n",
    "    <input id=\"toggle_code\" type=\"button\" value=\"Toggle raw code\">\n",
    "''')"
   ]
  },
  {
   "cell_type": "markdown",
   "metadata": {
    "slideshow": {
     "slide_type": "slide"
    }
   },
   "source": [
    "# Importance of CI in scientific discovery\n",
    "\n",
    "In this section we will cover the the role that cyberinfrastructure has played and continues to play in advancing knowledge and leading to scientific discovery.\n",
    "\n",
    "CI systems have enabled many other types of discoveries, such as\n",
    "- Discovery of the Higgs Boson\n",
    "- Determining the year (more or less) when the AIDS virus jumped from chimpanzees to humans\n",
    "- Discovery of gravitational waves"
   ]
  },
  {
   "cell_type": "markdown",
   "metadata": {
    "slideshow": {
     "slide_type": "slide"
    }
   },
   "source": [
    "### Example 1: The Higgs Boson\n",
    "Physicist Peter Higgs and some other physicists proposed the existence of a tiny, tiny, tiny, and very short lived subatomic particle in 1964.\n",
    "\n",
    "This particle – if it exists – would help explain why things have mass and what we are all made up of.\n",
    "\n",
    "The Large Hadron Collider was built for many hundreds of millions of dollars to see if physicists could detect evidence of this tiny particle – which got named the “Higgs Boson” after Dr. Higgs."
   ]
  },
  {
   "cell_type": "markdown",
   "metadata": {
    "slideshow": {
     "slide_type": "slide"
    }
   },
   "source": [
    "### 2013 Nobel Prize in Physics\n",
    "The Nobel Prize in Physics 2013 was awarded jointly to François Englert and Peter W. Higgs \"for the theoretical discovery of a mechanism that contributes to our understanding of the origin of mass of subatomic particles, and which recently was confirmed through the discovery of the predicted fundamental particle, by the ATLAS and CMS experiments at CERN's Large Hadron Collider.” (from https://www.nobelprize.org/prizes/physics/2013/summary/)\n",
    "\n",
    "The worldwide community of physicists and computer scientists started planning the cyberinfrastructure to analyze data from the Large Hadron Collider at the same time that they started planning the LHC. The data from the LHC could not have been analyzed without use of a worldwide computer grid – that is, cyberinfrastructure."
   ]
  },
  {
   "cell_type": "markdown",
   "metadata": {
    "slideshow": {
     "slide_type": "slide"
    }
   },
   "source": [
    "### Example 2: Earthquake prediction - Southern California Earthquake Center\n",
    "We all know that Southern California is at high risk of earthquakes (rock star Warren Zevon even wrote a song about it - “When California slides into the ocean, like the mystics and statistics say it will”).\n",
    "\n",
    "Since having everyone move out of LA seems hard to do, it becomes important to ask questions like\n",
    "- “how does the ground actually move in an earthquake?”\n",
    "\n",
    "so that engineers and architects can design buildings, roads, etc. that can tolerate small to modest earthquakes. AND predict \n",
    "when a big earthquake is going to happen."
   ]
  },
  {
   "cell_type": "markdown",
   "metadata": {
    "slideshow": {
     "slide_type": "slide"
    }
   },
   "source": [
    "### Earthquake prediction - Southern California Earthquake Center (SCEC)\n",
    "\n",
    "<img src=\"supplementary/equake.png\" width=\"400\"/>\n",
    "\n",
    "SCEC recently simulated 500,000 years of earthquake events in the Los Angeles area using some very large supercomputers and really fantastic visualizations.\n",
    "\n",
    "Read about this and see a movie showing 500 millenia of geological history at https://www.ldeo.columbia.edu/news-events/milestone-forecasting-earthquake-hazards, which is the source of the image above."
   ]
  },
  {
   "cell_type": "markdown",
   "metadata": {
    "slideshow": {
     "slide_type": "slide"
    }
   },
   "source": [
    "### And the southernmost cyberinfrastructure in the world - Example 3\n",
    "\n",
    "Project IceBridge has as its goal analyzing the size and thickness of the Antarctic Ice Sheets every year.\n",
    "\n",
    "This is done with a plane that flies over Antarctica, all during the Antarctic summer.\n",
    "\n",
    "But because the ice sheets are changing so rapidly, there are no “do overs.” How do the scientists collecting data know that they are getting good images? Cyberinfrastructure!\n",
    "\n",
    "<center><img src=\"supplementary/flight.png\" width=\"400\"/></center>\n",
    "<center><small>Image courtesy of Dr. Richard Knepper, now at Cornell University.</center>\n",
    "<center><small>Image from http://hdl.handle.net/2022/21589 </center>"
   ]
  },
  {
   "cell_type": "markdown",
   "metadata": {
    "slideshow": {
     "slide_type": "slide"
    }
   },
   "source": [
    "### Cyberinfrastructure, all over the world even in Antarctica!\n",
    "\n",
    "The Forward Observer project places a small supercomputer inside the plane that flies around Antarctica collecting Synthetic Apeture Radar (SAR) data, so that the geologists in the plane can see the images being collected by SAR in real time, to make sure they are getting good data. Hundreds of hard drives of data are collected and then moved by truck and ship to Indiana University, where they are organized, catalogued, and analyzed. The resulting images are  then moved to the University of Kansas where the ice sheet experts there study and disseminate those images.\n",
    "\n",
    "For this project, there are multiple cyberinfrastructure components in different parts of the world:\n",
    " * a supercomputer inside a plane flying over Antarctica (whoa!)\n",
    " * hard drives moved to Indiana University to organize and analyze the images\n",
    " * images transferred to and disseminated from University of Kansas"
   ]
  },
  {
   "cell_type": "markdown",
   "metadata": {
    "slideshow": {
     "slide_type": "slide"
    }
   },
   "source": [
    "<img src=\"supplementary/congratulations.png\" width=\"400\"/>\n",
    "\n",
    "## You can now discuss Nobel prizes and cyberinfrastructure and impress friends, neighbors, and random people you meet at parties!\n"
   ]
  },
  {
   "cell_type": "markdown",
   "metadata": {
    "slideshow": {
     "slide_type": "slide"
    }
   },
   "source": [
    "## Now you know\n",
    "  - what cyberinfrastructure is\n",
    "  - How cyberinfrastructure developed out of the many thousands of years of history of computation\n",
    "  - What kind of things are parts of cyberinfrastructure systems\n",
    "- You can now judge for yourself what is and is not part of a cyberinfrastructure system. So as technology develops, you’ll be able to understand how new digital devices can be integrated in to cyberinfrastructure systems\n",
    "- And you’ve seen how some advanced cyberinfrastructure system are used to tackle GIS-related problems\n",
    "\n",
    "Really, anything that can connect to a digital network and can either produce data or do calculations can be considered cyberinfrastructure if it is put to work as part of “infrastructure for knowledge”\n",
    "\n",
    "<a href=\"cyberinfrastructure-exploration.ipynb\">In the final segment, let's explore how you can get involved in cyberinfrastructure</a>\n"
   ]
  }
 ],
 "metadata": {
  "celltoolbar": "Slideshow",
  "kernelspec": {
   "display_name": "Python [conda env:iguide-ewd]",
   "language": "python",
   "name": "conda-env-iguide-ewd-py"
  },
  "language_info": {
   "codemirror_mode": {
    "name": "ipython",
    "version": 3
   },
   "file_extension": ".py",
   "mimetype": "text/x-python",
   "name": "python",
   "nbconvert_exporter": "python",
   "pygments_lexer": "ipython3",
   "version": "3.10.11"
  },
  "rise": {
   "autolaunch": true,
   "overlay": "<div class='hciheader'></div><div class='hcifooter'></div>",
   "scroll": true
  },
  "varInspector": {
   "cols": {
    "lenName": 16,
    "lenType": 16,
    "lenVar": 40
   },
   "kernels_config": {
    "python": {
     "delete_cmd_postfix": "",
     "delete_cmd_prefix": "del ",
     "library": "var_list.py",
     "varRefreshCmd": "print(var_dic_list())"
    },
    "r": {
     "delete_cmd_postfix": ") ",
     "delete_cmd_prefix": "rm(",
     "library": "var_list.r",
     "varRefreshCmd": "cat(var_dic_list()) "
    }
   },
   "types_to_exclude": [
    "module",
    "function",
    "builtin_function_or_method",
    "instance",
    "_Feature"
   ],
   "window_display": false
  }
 },
 "nbformat": 4,
 "nbformat_minor": 2
}
