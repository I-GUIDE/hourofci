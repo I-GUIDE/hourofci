{
 "cells": [
  {
   "cell_type": "markdown",
   "metadata": {
    "hide_input": true,
    "slideshow": {
     "slide_type": "slide"
    }
   },
   "source": [
    "## Big Data - a Beginners' Lesson\n",
    "### Segment 1 of 2\n",
    "### WTH is Big Data?\n",
    "#### In this lesson, you will: \n",
    "*\tLearn about and explore big data\n",
    "*\tProcess and visualize big data\n",
    "\n",
    "*Lesson Developer: Edwin Chow, chow@txstate.edu*\n"
   ]
  },
  {
   "cell_type": "code",
   "execution_count": 1,
   "metadata": {
    "hide_input": false,
    "init_cell": true,
    "slideshow": {
     "slide_type": "skip"
    },
    "tags": [
     "Hide"
    ]
   },
   "outputs": [
    {
     "data": {
      "text/html": [
       " \n",
       "    <script type=\"text/javascript\" src=\"../../supplementary/js/custom.js\"></script>\n",
       "    \n",
       "    <style>\n",
       "        .output_prompt{opacity:0;}\n",
       "    </style>\n",
       "    \n",
       "    <input id=\"toggle_code\" type=\"button\" value=\"Toggle raw code\">\n"
      ],
      "text/plain": [
       "<IPython.core.display.HTML object>"
      ]
     },
     "execution_count": 1,
     "metadata": {},
     "output_type": "execute_result"
    }
   ],
   "source": [
    "# This code cell starts the necessary setup for Hour of CI lesson notebooks.\n",
    "# First, it enables users to hide and unhide code by producing a 'Toggle raw code' button below.\n",
    "# Second, it imports the hourofci package, which is necessary for lessons and interactive Jupyter Widgets.\n",
    "# Third, it helps hide/control other aspects of Jupyter Notebooks to improve the user experience\n",
    "# This is an initialization cell\n",
    "# It is not displayed because the Slide Type is 'Skip'\n",
    "\n",
    "from IPython.display import HTML, IFrame, Javascript, display\n",
    "from ipywidgets import interactive\n",
    "import ipywidgets as widgets\n",
    "from ipywidgets import Layout\n",
    "\n",
    "import getpass # This library allows us to get the username (User agent string)\n",
    "\n",
    "# import package for hourofci project\n",
    "import sys\n",
    "sys.path.append('../../supplementary') # relative path (may change depending on the location of the lesson notebook)\n",
    "import hourofci\n",
    "\n",
    "import warnings\n",
    "warnings.filterwarnings('ignore') # Hide warnings\n",
    "\n",
    "# load javascript to initialize/hide cells, get user agent string, and hide output indicator\n",
    "# hide code by introducing a toggle button \"Toggle raw code\"\n",
    "# HTML(''' \n",
    "#     <script type=\"text/javascript\" src=\\\"../../supplementary/js/custom.js\\\"></script>\n",
    "    \n",
    "#     <input id=\"toggle_code\" type=\"button\" value=\"Toggle raw code\">\n",
    "# ''')\n",
    "\n",
    "HTML(''' \n",
    "    <script type=\"text/javascript\" src=\\\"../../supplementary/js/custom.js\\\"></script>\n",
    "    \n",
    "    <style>\n",
    "        .output_prompt{opacity:0;}\n",
    "    </style>\n",
    "    \n",
    "    <input id=\"toggle_code\" type=\"button\" value=\"Toggle raw code\">\n",
    "''')\n"
   ]
  },
  {
   "cell_type": "markdown",
   "metadata": {
    "slideshow": {
     "slide_type": "slide"
    }
   },
   "source": [
    "## Thank you for helping our study\n",
    "\n",
    "\n",
    "<a href=\"#/slide-1-0\" class=\"navigate-right\" style=\"background-color:blue;color:white;padding:8px;margin:2px;font-weight:bold;\">Continue with the lesson</a>\n",
    "\n",
    "Throughout this lesson you will see reminders, like the one below, to ensure that all participants understand that they are in a voluntary research study.\n",
    "\n",
    "### Reminder\n",
    "\n",
    "<font size=\"+1\">\n",
    "\n",
    "By continuing with this lesson you are granting your permission to take part in this research study for the Hour of Cyberinfrastructure: Developing Cyber Literacy for GIScience project. In this study, you will be learning about cyberinfrastructure and related concepts using a web-based platform that will take approximately one hour per lesson. Participation in this study is voluntary.\n",
    "\n",
    "Participants in this research must be 18 years or older. If you are under the age of 18 then please exit this webpage or navigate to another website such as the Hour of Code at https://hourofcode.com, which is designed for K-12 students.\n",
    "\n",
    "If you are not interested in participating please exit the browser or navigate to this website: http://www.umn.edu. Your participation is voluntary and you are free to stop the lesson at any time.\n",
    "\n",
    "For the full description please navigate to this website: <a href=\"../../gateway-lesson/gateway/gateway-1.ipynb\">Gateway Lesson Research Study Permission</a>.\n",
    "\n",
    "</font>"
   ]
  },
  {
   "cell_type": "markdown",
   "metadata": {
    "slideshow": {
     "slide_type": "slide"
    }
   },
   "source": [
    "## WTH is Big Data?\n",
    "The image below is a  'heatmap'  of something."
   ]
  },
  {
   "cell_type": "code",
   "execution_count": 10,
   "metadata": {
    "hide_input": true,
    "scrolled": true,
    "slideshow": {
     "slide_type": "-"
    },
    "tags": [
     "Hide",
     "Init"
    ]
   },
   "outputs": [
    {
     "data": {
      "application/vnd.jupyter.widget-view+json": {
       "model_id": "b78ea1ee73cf44c7a31e16d0e30f3c16",
       "version_major": 2,
       "version_minor": 0
      },
      "text/plain": [
       "RadioButtons(description='<p style=\"display:inline;font-size:20px\"> Guess what does <p style=\"display:inline; …"
      ]
     },
     "metadata": {},
     "output_type": "display_data"
    },
    {
     "data": {
      "application/vnd.jupyter.widget-view+json": {
       "model_id": "970aeb38a28f4ad4b1c91c324d9a12ac",
       "version_major": 2,
       "version_minor": 0
      },
      "text/plain": [
       "Button(description='Submit', icon='check', layout=Layout(height='auto', width='auto'), style=ButtonStyle())"
      ]
     },
     "metadata": {},
     "output_type": "display_data"
    },
    {
     "data": {
      "application/vnd.jupyter.widget-view+json": {
       "model_id": "cdac875d36c24070bbc522792d5705de",
       "version_major": 2,
       "version_minor": 0
      },
      "text/plain": [
       "Output()"
      ]
     },
     "metadata": {},
     "output_type": "display_data"
    }
   ],
   "source": [
    "import time\n",
    "from IPython.display import clear_output\n",
    "widget1 = widgets.RadioButtons(\n",
    "    options = ['Temperature', 'Road', 'Night light', 'Social media post'],\n",
    "    description = '<p style=\"display:inline;font-size:20px\"> Guess what does <p style=\"display:inline; color:#FFA500;font-size:20px\">orange</p>/<p style=\"display:inline;color:#1E90FF;font-size:20px\">blue</p>/<p style=\"display:inline; color:#F0FFFF;font-size:20px; background-color:#000000;\">white</p> <p style=\"display:inline; font-size:20px;\">represent?...</p>', style={'description_width': 'initial'},\n",
    "    layout = Layout(width='100%'),\n",
    "    value = None\n",
    ")\n",
    "\n",
    "display(widget1)\n",
    "\n",
    "# hourofci.SubmitBtn2(widget1)\n",
    "\n",
    "def SubmitBtn(widget):\n",
    "    button = widgets.Button(\n",
    "        description = 'Submit',\n",
    "        layout=Layout(width='auto', height='auto'),\n",
    "        disabled = False,\n",
    "        button_style = '',\n",
    "        icon = 'check'\n",
    "    )\n",
    "    \n",
    "    display(button)\n",
    "    output = widgets.Output()\n",
    "    display(output) \n",
    "    \n",
    "    def submit(b):\n",
    "        clear_output()\n",
    "        display(widget)\n",
    "        display(button)\n",
    "        display(output)\n",
    "        print(\"Great! Move to the next slide to see the answer.\")\n",
    "\n",
    "        def countdown(t):\n",
    "            while t:\n",
    "                out.update(t)\n",
    "                time.sleep(1)\n",
    "                t -= 1\n",
    "\n",
    "        out.update(countdown(int(20)))\n",
    "        out.update(HTML(''' <br/>\n",
    "            <a id='button' href=\"#/slide-4-0\" class=\"navigate-right\" style=\"background-color:Green;color:white;padding:8px;margin:2px;font-weight:bold;\">Nice try! Continue to see the answer!</a>\n",
    "        '''))\n",
    "    \n",
    "    button.on_click(submit)\n",
    "    \n",
    "SubmitBtn(widget1)\n"
   ]
  },
  {
   "cell_type": "markdown",
   "metadata": {
    "hide_input": true,
    "slideshow": {
     "slide_type": "-"
    }
   },
   "source": [
    "\n",
    "<table>\n",
    "    <tr style=\"background: #fff; text-align: left; vertical-align: top;\">\n",
    "        <td style=\"width: 100%; background: #fff; text-align: center; vertical-align: top;\"><center> <img src='supplementary/heatmap.jpg' width=\"700\" height=\"900\" alt='map'/></td>\n",
    "    </tr>\n",
    "</table>\n"
   ]
  },
  {
   "cell_type": "markdown",
   "metadata": {
    "hide_input": true,
    "slideshow": {
     "slide_type": "slide"
    }
   },
   "source": [
    "## WTH is Big Data?\n",
    "\n",
    "<p style=\"display:inline;\">This is a heatmap of geotagged social media posts, where <p style=\"display:inline; color:#FFA500;\">Orange = flickr</p>, <p style=\"display:inline;color:#1E90FF;\">blue = tweet</p>, and <p style=\"display:inline; color:#F0FFFF; background-color:#000000;\">white = both</p>. \n",
    "<br/>Do you see any spatial pattern(s)? </p>\n",
    "\n",
    "<table>\n",
    "    <tr style=\"background: #fff; text-align: left; vertical-align: top;\">\n",
    "        <td style=\"width: 100%; background: #fff; text-align: left; vertical-align: top;\"> <center><img src='supplementary/heatmap.jpg' width=\"700\" height=\"900\" alt='map'></td>\n",
    "    </tr>\n",
    "</table>\n",
    "\n"
   ]
  },
  {
   "cell_type": "code",
   "execution_count": 11,
   "metadata": {
    "hide_input": true,
    "slideshow": {
     "slide_type": "-"
    },
    "tags": [
     "Hide",
     "Init"
    ]
   },
   "outputs": [
    {
     "name": "stdout",
     "output_type": "stream",
     "text": [
      "\u001b[1m Think about it for 20 seconds!\n"
     ]
    },
    {
     "data": {
      "text/plain": []
     },
     "metadata": {},
     "output_type": "display_data"
    },
    {
     "data": {
      "text/plain": []
     },
     "metadata": {},
     "output_type": "display_data"
    }
   ],
   "source": [
    "class Output:\n",
    "    def __init__(self, name='countdown'):\n",
    "        self.h = display(display_id=name)\n",
    "        self.content = ''\n",
    "        self.mime_type = None\n",
    "        self.dic_kind = {\n",
    "            'text': 'text/plain',\n",
    "            'markdown': 'text/markdown',\n",
    "            'html': 'text/html',\n",
    "        }\n",
    "        \n",
    "    def display(self):\n",
    "        self.h.display({'text/plain': ''}, raw=True)\n",
    "        \n",
    "    def _build_obj(self, content, kind, append, new_line):\n",
    "        self.mime_type = self.dic_kind.get(kind)\n",
    "        if not self.mime_type:\n",
    "            return content, False\n",
    "        if append:\n",
    "            sep = '\\n' if new_line else ''\n",
    "            self.content = self.content + sep + content\n",
    "        else:\n",
    "            self.content = content\n",
    "        return {self.mime_type: self.content}, True\n",
    "        \n",
    "    def update(self, content, kind=None, append=False, new_line=True):\n",
    "        obj, raw = self._build_obj(content, kind, append, new_line)\n",
    "        self.h.update(obj, raw=raw)\n",
    "    \n",
    "print('\\033[1m','Think about it for 20 seconds!')\n",
    "out = Output(name='countdown')\n",
    "out.display()"
   ]
  },
  {
   "cell_type": "markdown",
   "metadata": {
    "slideshow": {
     "slide_type": "slide"
    }
   },
   "source": [
    "Tell us what you thought in the text area below.\n"
   ]
  },
  {
   "cell_type": "code",
   "execution_count": 12,
   "metadata": {
    "hide_input": false,
    "tags": [
     "Hide",
     "Init"
    ]
   },
   "outputs": [
    {
     "data": {
      "application/vnd.jupyter.widget-view+json": {
       "model_id": "3265a405891b44b7876475679f27ba0b",
       "version_major": 2,
       "version_minor": 0
      },
      "text/plain": [
       "Textarea(value='', layout=Layout(height='100px', min_height='100px', width='900px'), placeholder='Type your an…"
      ]
     },
     "metadata": {},
     "output_type": "display_data"
    },
    {
     "data": {
      "application/vnd.jupyter.widget-view+json": {
       "model_id": "",
       "version_major": 2,
       "version_minor": 0
      },
      "text/plain": [
       "Button(description='Submit', icon='check', layout=Layout(height='auto', width='auto'), style=ButtonStyle())"
      ]
     },
     "metadata": {},
     "output_type": "display_data"
    },
    {
     "data": {
      "application/vnd.jupyter.widget-view+json": {
       "model_id": "",
       "version_major": 2,
       "version_minor": 0
      },
      "text/plain": [
       "Output()"
      ]
     },
     "metadata": {},
     "output_type": "display_data"
    }
   ],
   "source": [
    "\n",
    "w = widgets.Textarea(\n",
    "            value='',\n",
    "            placeholder='Type your answer here',\n",
    "            description='',\n",
    "            disabled=False,\n",
    "            layout=Layout( height='100px', min_height='100px', width='900px')\n",
    "            )\n",
    "\n",
    "\n",
    "def out1():\n",
    "    print('Submitted!')\n",
    "    \n",
    "display(w)\n",
    "hourofci.SubmitBtn2(w, out1)"
   ]
  },
  {
   "cell_type": "markdown",
   "metadata": {
    "hide_input": true,
    "slideshow": {
     "slide_type": "slide"
    }
   },
   "source": [
    "## WTH is Big Data?\n",
    "\n",
    "<p style=\"display:inline;\">This “heat” map tells us a lot about <p style=\"display:inline; color:#ff0000;\">PEOPLE</p>!! </p>\n",
    "\n",
    "\n",
    "<table>\n",
    "    <tr style=\"background: #fff; text-align: left; vertical-align:\">\n",
    "        <td style=\"width: 50%; background: #fff; text-align: left; vertical-align: top;\"> <img src='supplementary/heatmap.jpg' width=\"700\" height=\"900\" alt='map'></td>\n",
    "        <td style=\"background: #fff; text-align: left; font-size: 24px;\">What do these pattern(s) tell us?\n",
    "            <br/><strong>1.\tWhere people are</strong> <br/>\n",
    "   &nbsp;&nbsp;&nbsp;&nbsp; → notice how big cities and transportation network show up\n",
    "            <br/><strong>2.\tWhat people share </strong> <br/>\n",
    "   &nbsp;&nbsp;&nbsp;&nbsp; → flickr vs tweets <br/>\n",
    "Social media is an example of <p style=\"display:inline; color:#0096FF;\">BIG DATA</p>.\n",
    "</td>\n",
    "    </tr>\n",
    "    </tr>\n",
    "</table>\n",
    "\n"
   ]
  },
  {
   "cell_type": "markdown",
   "metadata": {
    "hide_input": true,
    "slideshow": {
     "slide_type": "slide"
    }
   },
   "source": [
    "## WTH is Big Data?\n",
    "\n",
    "\n",
    "<table><br/><br/>\n",
    "    <tr style=\"background: #fff; text-align: left; vertical-align: top;\"><p style=\"display:inline; color:#0096FF; font-size: 24px;\">Definition:</p>\n",
    "        <td style=\"background: #fff; text-align: left; font-size: 24px; vertical-align: top;\"><i> Datasets that are often characterized as a large volume of complex data produced at an accelerating pace. </td>\n",
    "        <td style=\"width: 50%; background: #fff; text-align: left; vertical-align: top;\"> <center><p style=\"display:inline; color:#0096FF; font-size: 24px;\">The 3Vs of Big Data</p><img src='supplementary/3v.png' width=\"700\" height=\"900\" alt='map'></td>\n",
    "    </tr>\n",
    "    \n",
    "</table>\n",
    "\n"
   ]
  },
  {
   "cell_type": "markdown",
   "metadata": {
    "hide_input": true,
    "slideshow": {
     "slide_type": "slide"
    }
   },
   "source": [
    "## The ‘V’s of Big Data\n",
    "<br/>\n",
    "\n",
    "<p style=\"display:inline; color:#0096FF; font-size: 20px;\">Volume</p> <p style=\"display:inline; font-size: 20px;\">- the metric to measure data volume of big data at the scale of astronomical units (e.g. petabytes, exabytes, zettabytes, yottabytes)\n",
    "\n",
    "\n",
    "<table><br/><br/>\n",
    "    <tr style=\"background: #fff; text-align: left; vertical-align: top;\"><td style=\"width: 50%; background: #fff; text-align: left; vertical-align: top;\"> <img src='supplementary/dobrilova.png' width=\"700\" height=\"900\" alt='map'></td>\n",
    "        <td style=\"background: #fff; text-align: left; font-size: 18px; \">  \n",
    "            <ul>\n",
    "                <li>2022 Figures (Dobrilova 2022)</li> \n",
    "            <ul>\n",
    "                <li>Facebook: 4.2M likes; 211k new photos</li>\n",
    "                <li>Instagram: 347k browsing; 44k new photos</li>\n",
    "                <li>Twitter: 87.5k new tweets</li>\n",
    "                <li>Tumbler: 37k new posts</li>\n",
    "                <li>Youtube: 4.5M videos watched; 1000 hrs of new videos uploaded</li>\n",
    "                <li>Netflix: 694k hrs of video watched</li>\n",
    "                <li>Texting: ~60M texts sent</li></ul>\n",
    "           <li>How many messages/posts/videos are there every day/month/year?</li>\n",
    "                </ul>\n",
    " </td>\n",
    "    </tr>\n",
    "</table>\n",
    "\n"
   ]
  },
  {
   "cell_type": "markdown",
   "metadata": {
    "hide_input": true,
    "slideshow": {
     "slide_type": "slide"
    }
   },
   "source": [
    "## The ‘V’s of Big Data\n",
    "<br/>\n",
    "<p style=\"display:inline; color:#0096FF; font-size: 20px;\">Velocity</p> <p style=\"display:inline; font-size: 20px;\">- The rate at which big data are generated over time. Watch the following video:</p>"
   ]
  },
  {
   "cell_type": "code",
   "execution_count": 13,
   "metadata": {
    "hide_input": true,
    "slideshow": {
     "slide_type": "-"
    },
    "tags": [
     "Hide",
     "Init"
    ]
   },
   "outputs": [
    {
     "data": {
      "image/jpeg": "[encoded data removed]",
      "text/html": [
       "\n",
       "        <iframe\n",
       "            width=\"800\"\n",
       "            height=\"480\"\n",
       "            src=\"https://www.youtube.com/embed/e89Tqr75mMw\"\n",
       "            frameborder=\"0\"\n",
       "            allowfullscreen\n",
       "            \n",
       "        ></iframe>\n",
       "        "
      ],
      "text/plain": [
       "<IPython.lib.display.YouTubeVideo at 0x7fa4d1c53c10>"
      ]
     },
     "execution_count": 13,
     "metadata": {},
     "output_type": "execute_result"
    }
   ],
   "source": [
    "from IPython.display import YouTubeVideo\n",
    "# print('Watch: OpenStreetMap for Haiti 12th Jan 2010')\n",
    "YouTubeVideo('e89Tqr75mMw', width=800,height=480)"
   ]
  },
  {
   "cell_type": "markdown",
   "metadata": {
    "hide_input": true,
    "slideshow": {
     "slide_type": "slide"
    }
   },
   "source": [
    "## The ‘V’s of Big Data\n",
    "<br/>\n",
    "\n",
    "<p style=\"display:inline; color:#0096FF; font-size: 20px;\">Variety</p> <p style=\"display:inline; font-size: 20px;\">- The degree of heterogeneity in how big data are encoded, structured, formatted and represented.</p>\n",
    "\n",
    "\n",
    "\n",
    "<table>\n",
    "    <tr style=\"background: #fff; text-align: left; vertical-align:\">\n",
    "        <td style=\"width: 60%; background: #fff; text-align: left; vertical-align: top;\"> <img src='supplementary/Variety.png' alt='map'></td>\n",
    "        <td style=\"background: #fff; text-align: left; font-size: 21px;\">\n",
    "            Big data can be any combination of various digital data, such as\n",
    "            <li>\n",
    "                 text, \n",
    "            </li>\n",
    "            <li>\n",
    "                image, \n",
    "            </li>\n",
    "            <li>\n",
    "                video, an \n",
    "            </li>\n",
    "            <li>\n",
    "                audio\n",
    "            </li>\n",
    "            <li>\n",
    "                location\n",
    "            </li>\n",
    "            <li>\n",
    "                measurement\n",
    "            </li>\n",
    "            <li>\n",
    "                date & time\n",
    "            </li>\n",
    "            <li>\n",
    "                ...\n",
    "            </li>\n",
    "</td>\n",
    "    </tr>\n",
    "    </tr>\n",
    "</table>"
   ]
  },
  {
   "cell_type": "markdown",
   "metadata": {
    "hide_input": true,
    "slideshow": {
     "slide_type": "slide"
    }
   },
   "source": [
    "## The [Other] ‘V’s of Big Data\n",
    "<br/>\n",
    "\n",
    "<p style=\"display:inline; color:#0096FF; font-size: 20px;\">Value</p> <p style=\"display:inline; font-size: 20px;\">- The usefulness of big data in providing unique insights to problem solving and/or decision making. <br/>Watch the following video:</p>\n",
    "    "
   ]
  },
  {
   "cell_type": "code",
   "execution_count": 14,
   "metadata": {
    "hide_input": true,
    "slideshow": {
     "slide_type": "-"
    },
    "tags": [
     "Hide",
     "Init"
    ]
   },
   "outputs": [
    {
     "data": {
      "image/jpeg": "[encoded data removed]",
      "text/html": [
       "\n",
       "        <iframe\n",
       "            width=\"800\"\n",
       "            height=\"480\"\n",
       "            src=\"https://www.youtube.com/embed/rwOIQzcXx7Y\"\n",
       "            frameborder=\"0\"\n",
       "            allowfullscreen\n",
       "            \n",
       "        ></iframe>\n",
       "        "
      ],
      "text/plain": [
       "<IPython.lib.display.YouTubeVideo at 0x7fa4d1c536a0>"
      ]
     },
     "execution_count": 14,
     "metadata": {},
     "output_type": "execute_result"
    }
   ],
   "source": [
    "from IPython.display import YouTubeVideo\n",
    "YouTubeVideo('rwOIQzcXx7Y', width=800,height=480)"
   ]
  },
  {
   "cell_type": "markdown",
   "metadata": {
    "slideshow": {
     "slide_type": "slide"
    }
   },
   "source": [
    "Explore the tools here: https://coronavirus.jhu.edu/covid-19-daily-video \n",
    "<ul>\n",
    "                <li>Where are COVID-19 cases rising?</li>\n",
    "                <li>What are the trends of COVID-19 cases and testing?</li>\n",
    "                <li>Which countries have flattened the curves?</li>\n",
    "</ul>\n"
   ]
  },
  {
   "cell_type": "markdown",
   "metadata": {
    "hide_input": true,
    "slideshow": {
     "slide_type": "slide"
    }
   },
   "source": [
    "## The [Other] ‘V’s of Big Data\n",
    "<br/>\n",
    "\n",
    "<p style=\"display:inline; color:#0096FF; font-size: 20px;\">Veracity</p> <p style=\"display:inline; font-size: 20px;\">- The quality of big data and its implications to subsequent application.</p>\n",
    "\n",
    "\n",
    "<table>\n",
    "  <tr style=\"background-color:transparent\">\n",
    "    <td style=\"width: 50%\">\n",
    "        <img src='supplementary/Veracity.png' width=\"600\"/>\n",
    "    </td>\n",
    "    <td style=\"padding-right:10px; width:700px\">\n",
    "        <ul style=\"text-align: left; font-size: 20px; \">\n",
    "            <strong>Examine the emojis:</strong>\n",
    "            <li>Do you agree/disagree? Why? </li> \n",
    "            <ul>\n",
    "                <li>Grapes in TX</li>\n",
    "                <li>Snowman in D.C.</li>\n",
    "            </ul>\n",
    "         </ul>\n",
    "        <ul style=\"text-align: left; font-size: 20px; \">\n",
    "               <strong>To understand the biases, think about the following questions:</strong>\n",
    "               <li>Who produced the data?</li>\n",
    "               <li>When was the survey conducted?</li>\n",
    "        </ul>\n",
    "        <p style=\"text-align: left; font-size: 20px; \">\n",
    "            Write your reflection in the text area in the next slide.</p>\n",
    "    </td>\n",
    "  </tr>\n",
    "</table>\n",
    "\n"
   ]
  },
  {
   "cell_type": "code",
   "execution_count": 15,
   "metadata": {
    "hide_input": false,
    "slideshow": {
     "slide_type": "slide"
    },
    "tags": [
     "Hide",
     "Init"
    ]
   },
   "outputs": [
    {
     "data": {
      "application/vnd.jupyter.widget-view+json": {
       "model_id": "",
       "version_major": 2,
       "version_minor": 0
      },
      "text/plain": [
       "Textarea(value='', layout=Layout(height='100px', min_height='100px', width='900px'), placeholder='Type your an…"
      ]
     },
     "metadata": {},
     "output_type": "display_data"
    },
    {
     "data": {
      "application/vnd.jupyter.widget-view+json": {
       "model_id": "",
       "version_major": 2,
       "version_minor": 0
      },
      "text/plain": [
       "Button(description='Submit', icon='check', layout=Layout(height='auto', width='auto'), style=ButtonStyle())"
      ]
     },
     "metadata": {},
     "output_type": "display_data"
    },
    {
     "data": {
      "application/vnd.jupyter.widget-view+json": {
       "model_id": "",
       "version_major": 2,
       "version_minor": 0
      },
      "text/plain": [
       "Output()"
      ]
     },
     "metadata": {},
     "output_type": "display_data"
    }
   ],
   "source": [
    "\n",
    "w2 = widgets.Textarea(\n",
    "            value='',\n",
    "            placeholder='Type your answer here',\n",
    "            description='',\n",
    "            disabled=False,\n",
    "            layout=Layout( height='100px', min_height='100px', width='900px')\n",
    "            )\n",
    "\n",
    "\n",
    "def out2():\n",
    "    print('Submitted!')\n",
    "    \n",
    "display(w2)\n",
    "hourofci.SubmitBtn2(w2, out2)"
   ]
  },
  {
   "cell_type": "markdown",
   "metadata": {
    "hide_input": true,
    "slideshow": {
     "slide_type": "slide"
    }
   },
   "source": [
    "## The [Other] ‘V’s of Big Data\n",
    "\n",
    "\n",
    "\n",
    "<br/>\n",
    "\n",
    "<p style=\"display:inline; color:#0096FF; font-size: 20px;\">Veracity</p> <p style=\"display:inline; font-size: 20px;\">- We should be aware of any biases (e.g. sampling) and quality issues.</p>\n",
    "\n",
    "<table>\n",
    "    <tr style=\"background: #fff; text-align: left; vertical-align: top;\"><td style=\"width: 20%; background: #fff; text-align: left; vertical-align: top;\"> <img src='supplementary/Veracity.png' ></td>\n",
    "    <td style=\"width: 20%; background: #fff; text-align: left; vertical-align: top;\"> <img src='supplementary/veracity2.png' ></td>\n",
    "\n",
    "</table>\n",
    "\n"
   ]
  },
  {
   "cell_type": "markdown",
   "metadata": {
    "hide_input": true,
    "scrolled": "false",
    "slideshow": {
     "slide_type": "slide"
    }
   },
   "source": [
    "## The [Other] ‘V’s of Big Data\n",
    "\n",
    "<br/>\n",
    "<p style=\"display:inline; color:#0096FF; font-size: 20px;\">Visualization</p> <p style=\"display:inline; font-size: 20px;\">- A data rendering process to highlight the spatial, temporal and/or thematic pattern of big data through charts, graphics and creative illustrations.</p>\n",
    "<br/>\n",
    "<br/>\n",
    "<p style=\"display:inline; font-size: 15px;\">Explore the JHU <a href=\"https://coronavirus.jhu.edu/us-map\">COVID-19 Dashboard</a> below and answer the following questions:\n",
    "  <br/>  \n",
    "<ul style=\"font-size: 15px;\">\n",
    "        <li>Where are the hotspots/coldspots?</li>\n",
    "        <li>Using the left panel, which county has the highest confirmed cases?</li>\n",
    "        <li>Click on that county (or any county) in the map</li>\n",
    "        <li>In the popup window, scroll down to see the infographics</li>\n",
    "        <li>Click it to open up a new tab, examine the infographics</li>\n",
    "        <li>Which visualization tool(s) helps you to understand the data the best?</li>\n",
    "</ul></p>\n",
    "<!-- <center><img src='supplementary/dashboard.png' alt='dashboard' width=\"1000\" height=\"800\"> -->\n"
   ]
  },
  {
   "cell_type": "code",
   "execution_count": 16,
   "metadata": {
    "hide_input": false,
    "tags": [
     "Hide",
     "Init"
    ]
   },
   "outputs": [
    {
     "data": {
      "text/html": [
       "<iframe src = \"https://www.arcgis.com/apps/dashboards/409af567637846e3b5d4182fcd779bea\" width=\"100%\" height=\"500\"></iframe>\n"
      ],
      "text/plain": [
       "<IPython.core.display.HTML object>"
      ]
     },
     "metadata": {},
     "output_type": "display_data"
    }
   ],
   "source": [
    "%%html\n",
    "<iframe src = \"https://www.arcgis.com/apps/dashboards/409af567637846e3b5d4182fcd779bea\" width=\"100%\" height=\"500\"></iframe>\n"
   ]
  },
  {
   "cell_type": "markdown",
   "metadata": {
    "slideshow": {
     "slide_type": "slide"
    }
   },
   "source": [
    "## Show Me the Data!\n",
    "<body style=\"display:inline; font-size: 15px;\">In the JHU COVID-19 Dashboard:\n",
    "<br/>\n",
    "<ul>\n",
    "        <li>Are there any missing data? Why?</li>\n",
    "        <li>Scroll down the bottom panel, click the link “Downloadable Database: Github”</li>\n",
    "        <li>Examine the data sources</li>\n",
    "        <li>Up at the top, click on “csse_covid_19_data” folder</li>\n",
    "        <li>Click into the “csse_covid_19_daily_reports” folder</li>\n",
    "        <li>Find the .csv with today’s date and click into it</li>\n",
    "        <li>Examine the data</li>\n",
    "</ul></body>\n",
    "\n",
    "<center><img src='supplementary/gitshot.png' alt='git' width=\"800\" height=\"800\">\n",
    "\n"
   ]
  },
  {
   "cell_type": "markdown",
   "metadata": {
    "slideshow": {
     "slide_type": "slide"
    }
   },
   "source": [
    "<body style=\"display:inline; font-size: 15px;\">Look at the data and examine the followings:\n",
    "<br/>\n",
    "<ul>\n",
    "        <li>Are cases up or down?</li>\n",
    "        <li>Are some countries doing worse/better?</li>\n",
    "        <li>What types of data are in the spreadsheet?</li>\n",
    "        <li>Are they easier to understand with the visualization?</li>\n",
    "</ul>\n",
    "</body>\n",
    " \n",
    "Write down your answers in the following text area.\n"
   ]
  },
  {
   "cell_type": "code",
   "execution_count": 17,
   "metadata": {
    "hide_input": false,
    "slideshow": {
     "slide_type": "-"
    },
    "tags": [
     "Hide",
     "Init"
    ]
   },
   "outputs": [
    {
     "data": {
      "text/plain": [
       "3"
      ]
     },
     "metadata": {},
     "output_type": "display_data"
    },
    {
     "data": {
      "application/vnd.jupyter.widget-view+json": {
       "model_id": "",
       "version_major": 2,
       "version_minor": 0
      },
      "text/plain": [
       "Button(description='Submit', icon='check', layout=Layout(height='auto', width='auto'), style=ButtonStyle())"
      ]
     },
     "metadata": {},
     "output_type": "display_data"
    },
    {
     "data": {
      "application/vnd.jupyter.widget-view+json": {
       "model_id": "",
       "version_major": 2,
       "version_minor": 0
      },
      "text/plain": [
       "Output()"
      ]
     },
     "metadata": {},
     "output_type": "display_data"
    }
   ],
   "source": [
    "\n",
    "w3 = widgets.Textarea(\n",
    "            value='',\n",
    "            placeholder='Type your answer here',\n",
    "            description='',\n",
    "            disabled=False,\n",
    "            layout=Layout( height='100px', min_height='100px', width='900px')\n",
    "            )\n",
    "\n",
    "\n",
    "def out3():\n",
    "    print('Submitted!')\n",
    "    \n",
    "display(3)\n",
    "hourofci.SubmitBtn2(w3, out3)"
   ]
  },
  {
   "cell_type": "markdown",
   "metadata": {
    "slideshow": {
     "slide_type": "slide"
    }
   },
   "source": [
    "## Summary\n",
    "That's it!! You have learned:\n",
    "\n",
    "<ul>\n",
    "    <li>What big data is (with some examples, e.g. social media posts)</li>\n",
    "    <li>The 3Vs or 6Vs of big data</li>\n",
    "    <li>Explore and examine some big data of public health</li>\n",
    "</ul>\n",
    "\n",
    "Feel free to:\n",
    "<ul>\n",
    "    <li>Explore other types of big data</li>\n",
    "    <li>Go to the next notebook to learn about big data processing</li>\n",
    "</ul>\n",
    "<br/>\n"
   ]
  },
  {
   "cell_type": "markdown",
   "metadata": {
    "slideshow": {
     "slide_type": "slide"
    }
   },
   "source": [
    "<font size=\"+1\"><a style=\"background-color:blue;color:white;padding:12px;margin:10px;font-weight:bold;\" href=\"bigdata-3.ipynb\">Click here to go to the next notebook.</a></font>\n"
   ]
  }
 ],
 "metadata": {
  "celltoolbar": "Edit Metadata",
  "kernelspec": {
   "display_name": "Python 3 (ipykernel)",
   "language": "python",
   "name": "python3"
  },
  "language_info": {
   "codemirror_mode": {
    "name": "ipython",
    "version": 3
   },
   "file_extension": ".py",
   "mimetype": "text/x-python",
   "name": "python",
   "nbconvert_exporter": "python",
   "pygments_lexer": "ipython3",
   "version": "3.8.1"
  },
  "rise": {
   "autolaunch": true,
   "overlay": "<div class='hciheader'></div><div class='hcifooter'></div>",
   "scroll": true
  }
 },
 "nbformat": 4,
 "nbformat_minor": 4
}
